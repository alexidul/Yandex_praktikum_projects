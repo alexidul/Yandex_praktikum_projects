{
 "cells": [
  {
   "cell_type": "markdown",
   "metadata": {},
   "source": [
    "# Наименование проекта\n",
    "**Исследование объявлений о продаже квартир**\n",
    "\n",
    "В нашем распоряжении данные сервиса Яндекс.Недвижимость — архив объявлений о продаже квартир в Санкт-Петербурге и соседних населённых пунктов за несколько лет. Нужно научиться определять рыночную стоимость объектов недвижимости. \n",
    "\n",
    "## Задача\n",
    "установить параметры, что позволит построить автоматизированную систему: она отследит аномалии и мошенническую деятельность. \n",
    "\n",
    "## Описание данных\n",
    "По каждой квартире на продажу доступны два вида данных. Первые вписаны пользователем, вторые — получены автоматически на основе картографических данных (например, расстояние до центра, аэропорта, ближайшего парка и водоёма)\n",
    "\n",
    "\n",
    "`airports_nearest` — расстояние до ближайшего аэропорта в метрах (м) \\\n",
    "`balcony` — число балконов \\\n",
    "`ceiling_height` — высота потолков (м) \\\n",
    "`cityCenters_nearest` — расстояние до центра города (м) \\\n",
    "`days_exposition` — сколько дней было размещено объявление (от публикации до снятия) \\\n",
    "`first_day_exposition` — дата публикации \\\n",
    "`floor` — этаж \\\n",
    "`floors_total` — всего этажей в доме \\\n",
    "`is_apartment` — апартаменты (булев тип) \\\n",
    "`kitchen_area` — площадь кухни в квадратных метрах (м²) \\\n",
    "`last_price` — цена на момент снятия с публикации \\\n",
    "`living_area` — жилая площадь в квадратных метрах (м²) \\\n",
    "`locality_name` — название населённого пункта \\\n",
    "`open_plan` — свободная планировка (булев тип) \\\n",
    "`parks_around3000` — число парков в радиусе 3 км \\\n",
    "`parks_nearest` — расстояние до ближайшего парка (м) \\\n",
    "`ponds_around3000` — число водоёмов в радиусе 3 км \\\n",
    "`ponds_nearest` — расстояние до ближайшего водоёма (м) \\\n",
    "`rooms` — число комнат \\\n",
    "`studio` — квартира-студия (булев тип) \\\n",
    "`total_area` — общая площадь квартиры в квадратных метрах (м²) \\\n",
    "`total_images` — число фотографий квартиры в объявлении"
   ]
  },
  {
   "cell_type": "markdown",
   "metadata": {},
   "source": [
    "# <a id=\"title11\">План исследования:</a>\n",
    "\n",
    "[**1. Открытие файла с данными и изучение общей информации**](#title1)\\\n",
    "[**2. Предобработка данных:**](#title2)\\\n",
    "           [2.1. Изучение и заполнение пропусков](#title2.1)\\\n",
    "           [2.2. Изучение типов данных](#title2.2)\\\n",
    "           [2.3. Изучение и обработка аномалий](#title2.3)\\\n",
    "           [2.4. Изучение и обработка дубликатов](#title2.4)\\\n",
    "           [2.5. Добавление в таблицу доп. столбцов для исследовательского анализа](#title2.5)\\\n",
    "[**3. Исследовательский анализ данных:**](#title3)\\\n",
    "            [3.1. Связь числа предложений и различных параметров квартиры](#title3.1)\\\n",
    "            [3.2. Связь стоимости/цены 1 кв.м и различных параметров квартиры](#title3.2)\\\n",
    "            [3.3. Топ-10 населённых пунктов датафрейма по объёмам продаж](#title3.3)\\\n",
    "            [3.4. Связь цены 1 кв.м. и удалённости квартиры от центра Санкт-Петербурга](#title3.4)\\\n",
    "[**4. Общий вывод**](#title4)"
   ]
  },
  {
   "cell_type": "markdown",
   "metadata": {},
   "source": [
    "## <a id=\"title1\">1. Открытие файла с данными и изучение общей информации.</a>"
   ]
  },
  {
   "cell_type": "code",
   "execution_count": 1,
   "metadata": {},
   "outputs": [],
   "source": [
    "#  импортируем основные библиотеки\n",
    "import pandas as pd\n",
    "import matplotlib.pyplot as plt"
   ]
  },
  {
   "cell_type": "code",
   "execution_count": 2,
   "metadata": {},
   "outputs": [
    {
     "ename": "URLError",
     "evalue": "<urlopen error [Errno 11001] getaddrinfo failed>",
     "output_type": "error",
     "traceback": [
      "\u001b[1;31m---------------------------------------------------------------------------\u001b[0m",
      "\u001b[1;31mFileNotFoundError\u001b[0m                         Traceback (most recent call last)",
      "\u001b[1;32m~\\AppData\\Local\\Temp\\ipykernel_11692\\1776574852.py\u001b[0m in \u001b[0;36m<module>\u001b[1;34m\u001b[0m\n\u001b[0;32m      2\u001b[0m \u001b[1;32mtry\u001b[0m\u001b[1;33m:\u001b[0m\u001b[1;33m\u001b[0m\u001b[1;33m\u001b[0m\u001b[0m\n\u001b[1;32m----> 3\u001b[1;33m     \u001b[0mdata\u001b[0m \u001b[1;33m=\u001b[0m \u001b[0mpd\u001b[0m\u001b[1;33m.\u001b[0m\u001b[0mread_csv\u001b[0m\u001b[1;33m(\u001b[0m\u001b[1;34m\"/real_estate_data.csv\"\u001b[0m\u001b[1;33m,\u001b[0m \u001b[0msep\u001b[0m\u001b[1;33m=\u001b[0m\u001b[1;34m'\\t'\u001b[0m\u001b[1;33m)\u001b[0m\u001b[1;33m\u001b[0m\u001b[1;33m\u001b[0m\u001b[0m\n\u001b[0m\u001b[0;32m      4\u001b[0m \u001b[1;32mexcept\u001b[0m\u001b[1;33m:\u001b[0m\u001b[1;33m\u001b[0m\u001b[1;33m\u001b[0m\u001b[0m\n",
      "\u001b[1;32m~\\anaconda3\\lib\\site-packages\\pandas\\util\\_decorators.py\u001b[0m in \u001b[0;36mwrapper\u001b[1;34m(*args, **kwargs)\u001b[0m\n\u001b[0;32m    310\u001b[0m                 )\n\u001b[1;32m--> 311\u001b[1;33m             \u001b[1;32mreturn\u001b[0m \u001b[0mfunc\u001b[0m\u001b[1;33m(\u001b[0m\u001b[1;33m*\u001b[0m\u001b[0margs\u001b[0m\u001b[1;33m,\u001b[0m \u001b[1;33m**\u001b[0m\u001b[0mkwargs\u001b[0m\u001b[1;33m)\u001b[0m\u001b[1;33m\u001b[0m\u001b[1;33m\u001b[0m\u001b[0m\n\u001b[0m\u001b[0;32m    312\u001b[0m \u001b[1;33m\u001b[0m\u001b[0m\n",
      "\u001b[1;32m~\\anaconda3\\lib\\site-packages\\pandas\\io\\parsers\\readers.py\u001b[0m in \u001b[0;36mread_csv\u001b[1;34m(filepath_or_buffer, sep, delimiter, header, names, index_col, usecols, squeeze, prefix, mangle_dupe_cols, dtype, engine, converters, true_values, false_values, skipinitialspace, skiprows, skipfooter, nrows, na_values, keep_default_na, na_filter, verbose, skip_blank_lines, parse_dates, infer_datetime_format, keep_date_col, date_parser, dayfirst, cache_dates, iterator, chunksize, compression, thousands, decimal, lineterminator, quotechar, quoting, doublequote, escapechar, comment, encoding, encoding_errors, dialect, error_bad_lines, warn_bad_lines, on_bad_lines, delim_whitespace, low_memory, memory_map, float_precision, storage_options)\u001b[0m\n\u001b[0;32m    677\u001b[0m \u001b[1;33m\u001b[0m\u001b[0m\n\u001b[1;32m--> 678\u001b[1;33m     \u001b[1;32mreturn\u001b[0m \u001b[0m_read\u001b[0m\u001b[1;33m(\u001b[0m\u001b[0mfilepath_or_buffer\u001b[0m\u001b[1;33m,\u001b[0m \u001b[0mkwds\u001b[0m\u001b[1;33m)\u001b[0m\u001b[1;33m\u001b[0m\u001b[1;33m\u001b[0m\u001b[0m\n\u001b[0m\u001b[0;32m    679\u001b[0m \u001b[1;33m\u001b[0m\u001b[0m\n",
      "\u001b[1;32m~\\anaconda3\\lib\\site-packages\\pandas\\io\\parsers\\readers.py\u001b[0m in \u001b[0;36m_read\u001b[1;34m(filepath_or_buffer, kwds)\u001b[0m\n\u001b[0;32m    574\u001b[0m     \u001b[1;31m# Create the parser.\u001b[0m\u001b[1;33m\u001b[0m\u001b[1;33m\u001b[0m\u001b[0m\n\u001b[1;32m--> 575\u001b[1;33m     \u001b[0mparser\u001b[0m \u001b[1;33m=\u001b[0m \u001b[0mTextFileReader\u001b[0m\u001b[1;33m(\u001b[0m\u001b[0mfilepath_or_buffer\u001b[0m\u001b[1;33m,\u001b[0m \u001b[1;33m**\u001b[0m\u001b[0mkwds\u001b[0m\u001b[1;33m)\u001b[0m\u001b[1;33m\u001b[0m\u001b[1;33m\u001b[0m\u001b[0m\n\u001b[0m\u001b[0;32m    576\u001b[0m \u001b[1;33m\u001b[0m\u001b[0m\n",
      "\u001b[1;32m~\\anaconda3\\lib\\site-packages\\pandas\\io\\parsers\\readers.py\u001b[0m in \u001b[0;36m__init__\u001b[1;34m(self, f, engine, **kwds)\u001b[0m\n\u001b[0;32m    931\u001b[0m         \u001b[0mself\u001b[0m\u001b[1;33m.\u001b[0m\u001b[0mhandles\u001b[0m\u001b[1;33m:\u001b[0m \u001b[0mIOHandles\u001b[0m \u001b[1;33m|\u001b[0m \u001b[1;32mNone\u001b[0m \u001b[1;33m=\u001b[0m \u001b[1;32mNone\u001b[0m\u001b[1;33m\u001b[0m\u001b[1;33m\u001b[0m\u001b[0m\n\u001b[1;32m--> 932\u001b[1;33m         \u001b[0mself\u001b[0m\u001b[1;33m.\u001b[0m\u001b[0m_engine\u001b[0m \u001b[1;33m=\u001b[0m \u001b[0mself\u001b[0m\u001b[1;33m.\u001b[0m\u001b[0m_make_engine\u001b[0m\u001b[1;33m(\u001b[0m\u001b[0mf\u001b[0m\u001b[1;33m,\u001b[0m \u001b[0mself\u001b[0m\u001b[1;33m.\u001b[0m\u001b[0mengine\u001b[0m\u001b[1;33m)\u001b[0m\u001b[1;33m\u001b[0m\u001b[1;33m\u001b[0m\u001b[0m\n\u001b[0m\u001b[0;32m    933\u001b[0m \u001b[1;33m\u001b[0m\u001b[0m\n",
      "\u001b[1;32m~\\anaconda3\\lib\\site-packages\\pandas\\io\\parsers\\readers.py\u001b[0m in \u001b[0;36m_make_engine\u001b[1;34m(self, f, engine)\u001b[0m\n\u001b[0;32m   1215\u001b[0m             \u001b[1;31m# , \"str\", \"bool\", \"Any\", \"Any\", \"Any\", \"Any\", \"Any\"\u001b[0m\u001b[1;33m\u001b[0m\u001b[1;33m\u001b[0m\u001b[0m\n\u001b[1;32m-> 1216\u001b[1;33m             self.handles = get_handle(  # type: ignore[call-overload]\n\u001b[0m\u001b[0;32m   1217\u001b[0m                 \u001b[0mf\u001b[0m\u001b[1;33m,\u001b[0m\u001b[1;33m\u001b[0m\u001b[1;33m\u001b[0m\u001b[0m\n",
      "\u001b[1;32m~\\anaconda3\\lib\\site-packages\\pandas\\io\\common.py\u001b[0m in \u001b[0;36mget_handle\u001b[1;34m(path_or_buf, mode, encoding, compression, memory_map, is_text, errors, storage_options)\u001b[0m\n\u001b[0;32m    785\u001b[0m             \u001b[1;31m# Encoding\u001b[0m\u001b[1;33m\u001b[0m\u001b[1;33m\u001b[0m\u001b[0m\n\u001b[1;32m--> 786\u001b[1;33m             handle = open(\n\u001b[0m\u001b[0;32m    787\u001b[0m                 \u001b[0mhandle\u001b[0m\u001b[1;33m,\u001b[0m\u001b[1;33m\u001b[0m\u001b[1;33m\u001b[0m\u001b[0m\n",
      "\u001b[1;31mFileNotFoundError\u001b[0m: [Errno 2] No such file or directory: '/real_estate_data.csv'",
      "\nDuring handling of the above exception, another exception occurred:\n",
      "\u001b[1;31mgaierror\u001b[0m                                  Traceback (most recent call last)",
      "\u001b[1;32m~\\anaconda3\\lib\\urllib\\request.py\u001b[0m in \u001b[0;36mdo_open\u001b[1;34m(self, http_class, req, **http_conn_args)\u001b[0m\n\u001b[0;32m   1345\u001b[0m             \u001b[1;32mtry\u001b[0m\u001b[1;33m:\u001b[0m\u001b[1;33m\u001b[0m\u001b[1;33m\u001b[0m\u001b[0m\n\u001b[1;32m-> 1346\u001b[1;33m                 h.request(req.get_method(), req.selector, req.data, headers,\n\u001b[0m\u001b[0;32m   1347\u001b[0m                           encode_chunked=req.has_header('Transfer-encoding'))\n",
      "\u001b[1;32m~\\anaconda3\\lib\\http\\client.py\u001b[0m in \u001b[0;36mrequest\u001b[1;34m(self, method, url, body, headers, encode_chunked)\u001b[0m\n\u001b[0;32m   1284\u001b[0m         \u001b[1;34m\"\"\"Send a complete request to the server.\"\"\"\u001b[0m\u001b[1;33m\u001b[0m\u001b[1;33m\u001b[0m\u001b[0m\n\u001b[1;32m-> 1285\u001b[1;33m         \u001b[0mself\u001b[0m\u001b[1;33m.\u001b[0m\u001b[0m_send_request\u001b[0m\u001b[1;33m(\u001b[0m\u001b[0mmethod\u001b[0m\u001b[1;33m,\u001b[0m \u001b[0murl\u001b[0m\u001b[1;33m,\u001b[0m \u001b[0mbody\u001b[0m\u001b[1;33m,\u001b[0m \u001b[0mheaders\u001b[0m\u001b[1;33m,\u001b[0m \u001b[0mencode_chunked\u001b[0m\u001b[1;33m)\u001b[0m\u001b[1;33m\u001b[0m\u001b[1;33m\u001b[0m\u001b[0m\n\u001b[0m\u001b[0;32m   1286\u001b[0m \u001b[1;33m\u001b[0m\u001b[0m\n",
      "\u001b[1;32m~\\anaconda3\\lib\\http\\client.py\u001b[0m in \u001b[0;36m_send_request\u001b[1;34m(self, method, url, body, headers, encode_chunked)\u001b[0m\n\u001b[0;32m   1330\u001b[0m             \u001b[0mbody\u001b[0m \u001b[1;33m=\u001b[0m \u001b[0m_encode\u001b[0m\u001b[1;33m(\u001b[0m\u001b[0mbody\u001b[0m\u001b[1;33m,\u001b[0m \u001b[1;34m'body'\u001b[0m\u001b[1;33m)\u001b[0m\u001b[1;33m\u001b[0m\u001b[1;33m\u001b[0m\u001b[0m\n\u001b[1;32m-> 1331\u001b[1;33m         \u001b[0mself\u001b[0m\u001b[1;33m.\u001b[0m\u001b[0mendheaders\u001b[0m\u001b[1;33m(\u001b[0m\u001b[0mbody\u001b[0m\u001b[1;33m,\u001b[0m \u001b[0mencode_chunked\u001b[0m\u001b[1;33m=\u001b[0m\u001b[0mencode_chunked\u001b[0m\u001b[1;33m)\u001b[0m\u001b[1;33m\u001b[0m\u001b[1;33m\u001b[0m\u001b[0m\n\u001b[0m\u001b[0;32m   1332\u001b[0m \u001b[1;33m\u001b[0m\u001b[0m\n",
      "\u001b[1;32m~\\anaconda3\\lib\\http\\client.py\u001b[0m in \u001b[0;36mendheaders\u001b[1;34m(self, message_body, encode_chunked)\u001b[0m\n\u001b[0;32m   1279\u001b[0m             \u001b[1;32mraise\u001b[0m \u001b[0mCannotSendHeader\u001b[0m\u001b[1;33m(\u001b[0m\u001b[1;33m)\u001b[0m\u001b[1;33m\u001b[0m\u001b[1;33m\u001b[0m\u001b[0m\n\u001b[1;32m-> 1280\u001b[1;33m         \u001b[0mself\u001b[0m\u001b[1;33m.\u001b[0m\u001b[0m_send_output\u001b[0m\u001b[1;33m(\u001b[0m\u001b[0mmessage_body\u001b[0m\u001b[1;33m,\u001b[0m \u001b[0mencode_chunked\u001b[0m\u001b[1;33m=\u001b[0m\u001b[0mencode_chunked\u001b[0m\u001b[1;33m)\u001b[0m\u001b[1;33m\u001b[0m\u001b[1;33m\u001b[0m\u001b[0m\n\u001b[0m\u001b[0;32m   1281\u001b[0m \u001b[1;33m\u001b[0m\u001b[0m\n",
      "\u001b[1;32m~\\anaconda3\\lib\\http\\client.py\u001b[0m in \u001b[0;36m_send_output\u001b[1;34m(self, message_body, encode_chunked)\u001b[0m\n\u001b[0;32m   1039\u001b[0m         \u001b[1;32mdel\u001b[0m \u001b[0mself\u001b[0m\u001b[1;33m.\u001b[0m\u001b[0m_buffer\u001b[0m\u001b[1;33m[\u001b[0m\u001b[1;33m:\u001b[0m\u001b[1;33m]\u001b[0m\u001b[1;33m\u001b[0m\u001b[1;33m\u001b[0m\u001b[0m\n\u001b[1;32m-> 1040\u001b[1;33m         \u001b[0mself\u001b[0m\u001b[1;33m.\u001b[0m\u001b[0msend\u001b[0m\u001b[1;33m(\u001b[0m\u001b[0mmsg\u001b[0m\u001b[1;33m)\u001b[0m\u001b[1;33m\u001b[0m\u001b[1;33m\u001b[0m\u001b[0m\n\u001b[0m\u001b[0;32m   1041\u001b[0m \u001b[1;33m\u001b[0m\u001b[0m\n",
      "\u001b[1;32m~\\anaconda3\\lib\\http\\client.py\u001b[0m in \u001b[0;36msend\u001b[1;34m(self, data)\u001b[0m\n\u001b[0;32m    979\u001b[0m             \u001b[1;32mif\u001b[0m \u001b[0mself\u001b[0m\u001b[1;33m.\u001b[0m\u001b[0mauto_open\u001b[0m\u001b[1;33m:\u001b[0m\u001b[1;33m\u001b[0m\u001b[1;33m\u001b[0m\u001b[0m\n\u001b[1;32m--> 980\u001b[1;33m                 \u001b[0mself\u001b[0m\u001b[1;33m.\u001b[0m\u001b[0mconnect\u001b[0m\u001b[1;33m(\u001b[0m\u001b[1;33m)\u001b[0m\u001b[1;33m\u001b[0m\u001b[1;33m\u001b[0m\u001b[0m\n\u001b[0m\u001b[0;32m    981\u001b[0m             \u001b[1;32melse\u001b[0m\u001b[1;33m:\u001b[0m\u001b[1;33m\u001b[0m\u001b[1;33m\u001b[0m\u001b[0m\n",
      "\u001b[1;32m~\\anaconda3\\lib\\http\\client.py\u001b[0m in \u001b[0;36mconnect\u001b[1;34m(self)\u001b[0m\n\u001b[0;32m   1446\u001b[0m \u001b[1;33m\u001b[0m\u001b[0m\n\u001b[1;32m-> 1447\u001b[1;33m             \u001b[0msuper\u001b[0m\u001b[1;33m(\u001b[0m\u001b[1;33m)\u001b[0m\u001b[1;33m.\u001b[0m\u001b[0mconnect\u001b[0m\u001b[1;33m(\u001b[0m\u001b[1;33m)\u001b[0m\u001b[1;33m\u001b[0m\u001b[1;33m\u001b[0m\u001b[0m\n\u001b[0m\u001b[0;32m   1448\u001b[0m \u001b[1;33m\u001b[0m\u001b[0m\n",
      "\u001b[1;32m~\\anaconda3\\lib\\http\\client.py\u001b[0m in \u001b[0;36mconnect\u001b[1;34m(self)\u001b[0m\n\u001b[0;32m    945\u001b[0m         \u001b[1;34m\"\"\"Connect to the host and port specified in __init__.\"\"\"\u001b[0m\u001b[1;33m\u001b[0m\u001b[1;33m\u001b[0m\u001b[0m\n\u001b[1;32m--> 946\u001b[1;33m         self.sock = self._create_connection(\n\u001b[0m\u001b[0;32m    947\u001b[0m             (self.host,self.port), self.timeout, self.source_address)\n",
      "\u001b[1;32m~\\anaconda3\\lib\\socket.py\u001b[0m in \u001b[0;36mcreate_connection\u001b[1;34m(address, timeout, source_address)\u001b[0m\n\u001b[0;32m    822\u001b[0m     \u001b[0merr\u001b[0m \u001b[1;33m=\u001b[0m \u001b[1;32mNone\u001b[0m\u001b[1;33m\u001b[0m\u001b[1;33m\u001b[0m\u001b[0m\n\u001b[1;32m--> 823\u001b[1;33m     \u001b[1;32mfor\u001b[0m \u001b[0mres\u001b[0m \u001b[1;32min\u001b[0m \u001b[0mgetaddrinfo\u001b[0m\u001b[1;33m(\u001b[0m\u001b[0mhost\u001b[0m\u001b[1;33m,\u001b[0m \u001b[0mport\u001b[0m\u001b[1;33m,\u001b[0m \u001b[1;36m0\u001b[0m\u001b[1;33m,\u001b[0m \u001b[0mSOCK_STREAM\u001b[0m\u001b[1;33m)\u001b[0m\u001b[1;33m:\u001b[0m\u001b[1;33m\u001b[0m\u001b[1;33m\u001b[0m\u001b[0m\n\u001b[0m\u001b[0;32m    824\u001b[0m         \u001b[0maf\u001b[0m\u001b[1;33m,\u001b[0m \u001b[0msocktype\u001b[0m\u001b[1;33m,\u001b[0m \u001b[0mproto\u001b[0m\u001b[1;33m,\u001b[0m \u001b[0mcanonname\u001b[0m\u001b[1;33m,\u001b[0m \u001b[0msa\u001b[0m \u001b[1;33m=\u001b[0m \u001b[0mres\u001b[0m\u001b[1;33m\u001b[0m\u001b[1;33m\u001b[0m\u001b[0m\n",
      "\u001b[1;32m~\\anaconda3\\lib\\socket.py\u001b[0m in \u001b[0;36mgetaddrinfo\u001b[1;34m(host, port, family, type, proto, flags)\u001b[0m\n\u001b[0;32m    953\u001b[0m     \u001b[0maddrlist\u001b[0m \u001b[1;33m=\u001b[0m \u001b[1;33m[\u001b[0m\u001b[1;33m]\u001b[0m\u001b[1;33m\u001b[0m\u001b[1;33m\u001b[0m\u001b[0m\n\u001b[1;32m--> 954\u001b[1;33m     \u001b[1;32mfor\u001b[0m \u001b[0mres\u001b[0m \u001b[1;32min\u001b[0m \u001b[0m_socket\u001b[0m\u001b[1;33m.\u001b[0m\u001b[0mgetaddrinfo\u001b[0m\u001b[1;33m(\u001b[0m\u001b[0mhost\u001b[0m\u001b[1;33m,\u001b[0m \u001b[0mport\u001b[0m\u001b[1;33m,\u001b[0m \u001b[0mfamily\u001b[0m\u001b[1;33m,\u001b[0m \u001b[0mtype\u001b[0m\u001b[1;33m,\u001b[0m \u001b[0mproto\u001b[0m\u001b[1;33m,\u001b[0m \u001b[0mflags\u001b[0m\u001b[1;33m)\u001b[0m\u001b[1;33m:\u001b[0m\u001b[1;33m\u001b[0m\u001b[1;33m\u001b[0m\u001b[0m\n\u001b[0m\u001b[0;32m    955\u001b[0m         \u001b[0maf\u001b[0m\u001b[1;33m,\u001b[0m \u001b[0msocktype\u001b[0m\u001b[1;33m,\u001b[0m \u001b[0mproto\u001b[0m\u001b[1;33m,\u001b[0m \u001b[0mcanonname\u001b[0m\u001b[1;33m,\u001b[0m \u001b[0msa\u001b[0m \u001b[1;33m=\u001b[0m \u001b[0mres\u001b[0m\u001b[1;33m\u001b[0m\u001b[1;33m\u001b[0m\u001b[0m\n",
      "\u001b[1;31mgaierror\u001b[0m: [Errno 11001] getaddrinfo failed",
      "\nDuring handling of the above exception, another exception occurred:\n",
      "\u001b[1;31mURLError\u001b[0m                                  Traceback (most recent call last)",
      "\u001b[1;32m~\\AppData\\Local\\Temp\\ipykernel_11692\\1776574852.py\u001b[0m in \u001b[0;36m<module>\u001b[1;34m\u001b[0m\n\u001b[0;32m      3\u001b[0m     \u001b[0mdata\u001b[0m \u001b[1;33m=\u001b[0m \u001b[0mpd\u001b[0m\u001b[1;33m.\u001b[0m\u001b[0mread_csv\u001b[0m\u001b[1;33m(\u001b[0m\u001b[1;34m\"/real_estate_data.csv\"\u001b[0m\u001b[1;33m,\u001b[0m \u001b[0msep\u001b[0m\u001b[1;33m=\u001b[0m\u001b[1;34m'\\t'\u001b[0m\u001b[1;33m)\u001b[0m\u001b[1;33m\u001b[0m\u001b[1;33m\u001b[0m\u001b[0m\n\u001b[0;32m      4\u001b[0m \u001b[1;32mexcept\u001b[0m\u001b[1;33m:\u001b[0m\u001b[1;33m\u001b[0m\u001b[1;33m\u001b[0m\u001b[0m\n\u001b[1;32m----> 5\u001b[1;33m     \u001b[0mdata\u001b[0m \u001b[1;33m=\u001b[0m \u001b[0mpd\u001b[0m\u001b[1;33m.\u001b[0m\u001b[0mread_csv\u001b[0m\u001b[1;33m(\u001b[0m\u001b[1;34m\"https://code.s3.yandex.net/datasets/real_estate_data.csv\"\u001b[0m\u001b[1;33m,\u001b[0m \u001b[0msep\u001b[0m\u001b[1;33m=\u001b[0m\u001b[1;34m'\\t'\u001b[0m\u001b[1;33m)\u001b[0m\u001b[1;33m\u001b[0m\u001b[1;33m\u001b[0m\u001b[0m\n\u001b[0m",
      "\u001b[1;32m~\\anaconda3\\lib\\site-packages\\pandas\\util\\_decorators.py\u001b[0m in \u001b[0;36mwrapper\u001b[1;34m(*args, **kwargs)\u001b[0m\n\u001b[0;32m    309\u001b[0m                     \u001b[0mstacklevel\u001b[0m\u001b[1;33m=\u001b[0m\u001b[0mstacklevel\u001b[0m\u001b[1;33m,\u001b[0m\u001b[1;33m\u001b[0m\u001b[1;33m\u001b[0m\u001b[0m\n\u001b[0;32m    310\u001b[0m                 )\n\u001b[1;32m--> 311\u001b[1;33m             \u001b[1;32mreturn\u001b[0m \u001b[0mfunc\u001b[0m\u001b[1;33m(\u001b[0m\u001b[1;33m*\u001b[0m\u001b[0margs\u001b[0m\u001b[1;33m,\u001b[0m \u001b[1;33m**\u001b[0m\u001b[0mkwargs\u001b[0m\u001b[1;33m)\u001b[0m\u001b[1;33m\u001b[0m\u001b[1;33m\u001b[0m\u001b[0m\n\u001b[0m\u001b[0;32m    312\u001b[0m \u001b[1;33m\u001b[0m\u001b[0m\n\u001b[0;32m    313\u001b[0m         \u001b[1;32mreturn\u001b[0m \u001b[0mwrapper\u001b[0m\u001b[1;33m\u001b[0m\u001b[1;33m\u001b[0m\u001b[0m\n",
      "\u001b[1;32m~\\anaconda3\\lib\\site-packages\\pandas\\io\\parsers\\readers.py\u001b[0m in \u001b[0;36mread_csv\u001b[1;34m(filepath_or_buffer, sep, delimiter, header, names, index_col, usecols, squeeze, prefix, mangle_dupe_cols, dtype, engine, converters, true_values, false_values, skipinitialspace, skiprows, skipfooter, nrows, na_values, keep_default_na, na_filter, verbose, skip_blank_lines, parse_dates, infer_datetime_format, keep_date_col, date_parser, dayfirst, cache_dates, iterator, chunksize, compression, thousands, decimal, lineterminator, quotechar, quoting, doublequote, escapechar, comment, encoding, encoding_errors, dialect, error_bad_lines, warn_bad_lines, on_bad_lines, delim_whitespace, low_memory, memory_map, float_precision, storage_options)\u001b[0m\n\u001b[0;32m    676\u001b[0m     \u001b[0mkwds\u001b[0m\u001b[1;33m.\u001b[0m\u001b[0mupdate\u001b[0m\u001b[1;33m(\u001b[0m\u001b[0mkwds_defaults\u001b[0m\u001b[1;33m)\u001b[0m\u001b[1;33m\u001b[0m\u001b[1;33m\u001b[0m\u001b[0m\n\u001b[0;32m    677\u001b[0m \u001b[1;33m\u001b[0m\u001b[0m\n\u001b[1;32m--> 678\u001b[1;33m     \u001b[1;32mreturn\u001b[0m \u001b[0m_read\u001b[0m\u001b[1;33m(\u001b[0m\u001b[0mfilepath_or_buffer\u001b[0m\u001b[1;33m,\u001b[0m \u001b[0mkwds\u001b[0m\u001b[1;33m)\u001b[0m\u001b[1;33m\u001b[0m\u001b[1;33m\u001b[0m\u001b[0m\n\u001b[0m\u001b[0;32m    679\u001b[0m \u001b[1;33m\u001b[0m\u001b[0m\n\u001b[0;32m    680\u001b[0m \u001b[1;33m\u001b[0m\u001b[0m\n",
      "\u001b[1;32m~\\anaconda3\\lib\\site-packages\\pandas\\io\\parsers\\readers.py\u001b[0m in \u001b[0;36m_read\u001b[1;34m(filepath_or_buffer, kwds)\u001b[0m\n\u001b[0;32m    573\u001b[0m \u001b[1;33m\u001b[0m\u001b[0m\n\u001b[0;32m    574\u001b[0m     \u001b[1;31m# Create the parser.\u001b[0m\u001b[1;33m\u001b[0m\u001b[1;33m\u001b[0m\u001b[0m\n\u001b[1;32m--> 575\u001b[1;33m     \u001b[0mparser\u001b[0m \u001b[1;33m=\u001b[0m \u001b[0mTextFileReader\u001b[0m\u001b[1;33m(\u001b[0m\u001b[0mfilepath_or_buffer\u001b[0m\u001b[1;33m,\u001b[0m \u001b[1;33m**\u001b[0m\u001b[0mkwds\u001b[0m\u001b[1;33m)\u001b[0m\u001b[1;33m\u001b[0m\u001b[1;33m\u001b[0m\u001b[0m\n\u001b[0m\u001b[0;32m    576\u001b[0m \u001b[1;33m\u001b[0m\u001b[0m\n\u001b[0;32m    577\u001b[0m     \u001b[1;32mif\u001b[0m \u001b[0mchunksize\u001b[0m \u001b[1;32mor\u001b[0m \u001b[0miterator\u001b[0m\u001b[1;33m:\u001b[0m\u001b[1;33m\u001b[0m\u001b[1;33m\u001b[0m\u001b[0m\n",
      "\u001b[1;32m~\\anaconda3\\lib\\site-packages\\pandas\\io\\parsers\\readers.py\u001b[0m in \u001b[0;36m__init__\u001b[1;34m(self, f, engine, **kwds)\u001b[0m\n\u001b[0;32m    930\u001b[0m \u001b[1;33m\u001b[0m\u001b[0m\n\u001b[0;32m    931\u001b[0m         \u001b[0mself\u001b[0m\u001b[1;33m.\u001b[0m\u001b[0mhandles\u001b[0m\u001b[1;33m:\u001b[0m \u001b[0mIOHandles\u001b[0m \u001b[1;33m|\u001b[0m \u001b[1;32mNone\u001b[0m \u001b[1;33m=\u001b[0m \u001b[1;32mNone\u001b[0m\u001b[1;33m\u001b[0m\u001b[1;33m\u001b[0m\u001b[0m\n\u001b[1;32m--> 932\u001b[1;33m         \u001b[0mself\u001b[0m\u001b[1;33m.\u001b[0m\u001b[0m_engine\u001b[0m \u001b[1;33m=\u001b[0m \u001b[0mself\u001b[0m\u001b[1;33m.\u001b[0m\u001b[0m_make_engine\u001b[0m\u001b[1;33m(\u001b[0m\u001b[0mf\u001b[0m\u001b[1;33m,\u001b[0m \u001b[0mself\u001b[0m\u001b[1;33m.\u001b[0m\u001b[0mengine\u001b[0m\u001b[1;33m)\u001b[0m\u001b[1;33m\u001b[0m\u001b[1;33m\u001b[0m\u001b[0m\n\u001b[0m\u001b[0;32m    933\u001b[0m \u001b[1;33m\u001b[0m\u001b[0m\n\u001b[0;32m    934\u001b[0m     \u001b[1;32mdef\u001b[0m \u001b[0mclose\u001b[0m\u001b[1;33m(\u001b[0m\u001b[0mself\u001b[0m\u001b[1;33m)\u001b[0m\u001b[1;33m:\u001b[0m\u001b[1;33m\u001b[0m\u001b[1;33m\u001b[0m\u001b[0m\n",
      "\u001b[1;32m~\\anaconda3\\lib\\site-packages\\pandas\\io\\parsers\\readers.py\u001b[0m in \u001b[0;36m_make_engine\u001b[1;34m(self, f, engine)\u001b[0m\n\u001b[0;32m   1214\u001b[0m             \u001b[1;31m# \"Union[str, PathLike[str], ReadCsvBuffer[bytes], ReadCsvBuffer[str]]\"\u001b[0m\u001b[1;33m\u001b[0m\u001b[1;33m\u001b[0m\u001b[0m\n\u001b[0;32m   1215\u001b[0m             \u001b[1;31m# , \"str\", \"bool\", \"Any\", \"Any\", \"Any\", \"Any\", \"Any\"\u001b[0m\u001b[1;33m\u001b[0m\u001b[1;33m\u001b[0m\u001b[0m\n\u001b[1;32m-> 1216\u001b[1;33m             self.handles = get_handle(  # type: ignore[call-overload]\n\u001b[0m\u001b[0;32m   1217\u001b[0m                 \u001b[0mf\u001b[0m\u001b[1;33m,\u001b[0m\u001b[1;33m\u001b[0m\u001b[1;33m\u001b[0m\u001b[0m\n\u001b[0;32m   1218\u001b[0m                 \u001b[0mmode\u001b[0m\u001b[1;33m,\u001b[0m\u001b[1;33m\u001b[0m\u001b[1;33m\u001b[0m\u001b[0m\n",
      "\u001b[1;32m~\\anaconda3\\lib\\site-packages\\pandas\\io\\common.py\u001b[0m in \u001b[0;36mget_handle\u001b[1;34m(path_or_buf, mode, encoding, compression, memory_map, is_text, errors, storage_options)\u001b[0m\n\u001b[0;32m    665\u001b[0m \u001b[1;33m\u001b[0m\u001b[0m\n\u001b[0;32m    666\u001b[0m     \u001b[1;31m# open URLs\u001b[0m\u001b[1;33m\u001b[0m\u001b[1;33m\u001b[0m\u001b[0m\n\u001b[1;32m--> 667\u001b[1;33m     ioargs = _get_filepath_or_buffer(\n\u001b[0m\u001b[0;32m    668\u001b[0m         \u001b[0mpath_or_buf\u001b[0m\u001b[1;33m,\u001b[0m\u001b[1;33m\u001b[0m\u001b[1;33m\u001b[0m\u001b[0m\n\u001b[0;32m    669\u001b[0m         \u001b[0mencoding\u001b[0m\u001b[1;33m=\u001b[0m\u001b[0mencoding\u001b[0m\u001b[1;33m,\u001b[0m\u001b[1;33m\u001b[0m\u001b[1;33m\u001b[0m\u001b[0m\n",
      "\u001b[1;32m~\\anaconda3\\lib\\site-packages\\pandas\\io\\common.py\u001b[0m in \u001b[0;36m_get_filepath_or_buffer\u001b[1;34m(filepath_or_buffer, encoding, compression, mode, storage_options)\u001b[0m\n\u001b[0;32m    334\u001b[0m         \u001b[1;31m# assuming storage_options is to be interpreted as headers\u001b[0m\u001b[1;33m\u001b[0m\u001b[1;33m\u001b[0m\u001b[0m\n\u001b[0;32m    335\u001b[0m         \u001b[0mreq_info\u001b[0m \u001b[1;33m=\u001b[0m \u001b[0murllib\u001b[0m\u001b[1;33m.\u001b[0m\u001b[0mrequest\u001b[0m\u001b[1;33m.\u001b[0m\u001b[0mRequest\u001b[0m\u001b[1;33m(\u001b[0m\u001b[0mfilepath_or_buffer\u001b[0m\u001b[1;33m,\u001b[0m \u001b[0mheaders\u001b[0m\u001b[1;33m=\u001b[0m\u001b[0mstorage_options\u001b[0m\u001b[1;33m)\u001b[0m\u001b[1;33m\u001b[0m\u001b[1;33m\u001b[0m\u001b[0m\n\u001b[1;32m--> 336\u001b[1;33m         \u001b[1;32mwith\u001b[0m \u001b[0murlopen\u001b[0m\u001b[1;33m(\u001b[0m\u001b[0mreq_info\u001b[0m\u001b[1;33m)\u001b[0m \u001b[1;32mas\u001b[0m \u001b[0mreq\u001b[0m\u001b[1;33m:\u001b[0m\u001b[1;33m\u001b[0m\u001b[1;33m\u001b[0m\u001b[0m\n\u001b[0m\u001b[0;32m    337\u001b[0m             \u001b[0mcontent_encoding\u001b[0m \u001b[1;33m=\u001b[0m \u001b[0mreq\u001b[0m\u001b[1;33m.\u001b[0m\u001b[0mheaders\u001b[0m\u001b[1;33m.\u001b[0m\u001b[0mget\u001b[0m\u001b[1;33m(\u001b[0m\u001b[1;34m\"Content-Encoding\"\u001b[0m\u001b[1;33m,\u001b[0m \u001b[1;32mNone\u001b[0m\u001b[1;33m)\u001b[0m\u001b[1;33m\u001b[0m\u001b[1;33m\u001b[0m\u001b[0m\n\u001b[0;32m    338\u001b[0m             \u001b[1;32mif\u001b[0m \u001b[0mcontent_encoding\u001b[0m \u001b[1;33m==\u001b[0m \u001b[1;34m\"gzip\"\u001b[0m\u001b[1;33m:\u001b[0m\u001b[1;33m\u001b[0m\u001b[1;33m\u001b[0m\u001b[0m\n",
      "\u001b[1;32m~\\anaconda3\\lib\\site-packages\\pandas\\io\\common.py\u001b[0m in \u001b[0;36murlopen\u001b[1;34m(*args, **kwargs)\u001b[0m\n\u001b[0;32m    234\u001b[0m     \u001b[1;32mimport\u001b[0m \u001b[0murllib\u001b[0m\u001b[1;33m.\u001b[0m\u001b[0mrequest\u001b[0m\u001b[1;33m\u001b[0m\u001b[1;33m\u001b[0m\u001b[0m\n\u001b[0;32m    235\u001b[0m \u001b[1;33m\u001b[0m\u001b[0m\n\u001b[1;32m--> 236\u001b[1;33m     \u001b[1;32mreturn\u001b[0m \u001b[0murllib\u001b[0m\u001b[1;33m.\u001b[0m\u001b[0mrequest\u001b[0m\u001b[1;33m.\u001b[0m\u001b[0murlopen\u001b[0m\u001b[1;33m(\u001b[0m\u001b[1;33m*\u001b[0m\u001b[0margs\u001b[0m\u001b[1;33m,\u001b[0m \u001b[1;33m**\u001b[0m\u001b[0mkwargs\u001b[0m\u001b[1;33m)\u001b[0m\u001b[1;33m\u001b[0m\u001b[1;33m\u001b[0m\u001b[0m\n\u001b[0m\u001b[0;32m    237\u001b[0m \u001b[1;33m\u001b[0m\u001b[0m\n\u001b[0;32m    238\u001b[0m \u001b[1;33m\u001b[0m\u001b[0m\n",
      "\u001b[1;32m~\\anaconda3\\lib\\urllib\\request.py\u001b[0m in \u001b[0;36murlopen\u001b[1;34m(url, data, timeout, cafile, capath, cadefault, context)\u001b[0m\n\u001b[0;32m    212\u001b[0m     \u001b[1;32melse\u001b[0m\u001b[1;33m:\u001b[0m\u001b[1;33m\u001b[0m\u001b[1;33m\u001b[0m\u001b[0m\n\u001b[0;32m    213\u001b[0m         \u001b[0mopener\u001b[0m \u001b[1;33m=\u001b[0m \u001b[0m_opener\u001b[0m\u001b[1;33m\u001b[0m\u001b[1;33m\u001b[0m\u001b[0m\n\u001b[1;32m--> 214\u001b[1;33m     \u001b[1;32mreturn\u001b[0m \u001b[0mopener\u001b[0m\u001b[1;33m.\u001b[0m\u001b[0mopen\u001b[0m\u001b[1;33m(\u001b[0m\u001b[0murl\u001b[0m\u001b[1;33m,\u001b[0m \u001b[0mdata\u001b[0m\u001b[1;33m,\u001b[0m \u001b[0mtimeout\u001b[0m\u001b[1;33m)\u001b[0m\u001b[1;33m\u001b[0m\u001b[1;33m\u001b[0m\u001b[0m\n\u001b[0m\u001b[0;32m    215\u001b[0m \u001b[1;33m\u001b[0m\u001b[0m\n\u001b[0;32m    216\u001b[0m \u001b[1;32mdef\u001b[0m \u001b[0minstall_opener\u001b[0m\u001b[1;33m(\u001b[0m\u001b[0mopener\u001b[0m\u001b[1;33m)\u001b[0m\u001b[1;33m:\u001b[0m\u001b[1;33m\u001b[0m\u001b[1;33m\u001b[0m\u001b[0m\n",
      "\u001b[1;32m~\\anaconda3\\lib\\urllib\\request.py\u001b[0m in \u001b[0;36mopen\u001b[1;34m(self, fullurl, data, timeout)\u001b[0m\n\u001b[0;32m    515\u001b[0m \u001b[1;33m\u001b[0m\u001b[0m\n\u001b[0;32m    516\u001b[0m         \u001b[0msys\u001b[0m\u001b[1;33m.\u001b[0m\u001b[0maudit\u001b[0m\u001b[1;33m(\u001b[0m\u001b[1;34m'urllib.Request'\u001b[0m\u001b[1;33m,\u001b[0m \u001b[0mreq\u001b[0m\u001b[1;33m.\u001b[0m\u001b[0mfull_url\u001b[0m\u001b[1;33m,\u001b[0m \u001b[0mreq\u001b[0m\u001b[1;33m.\u001b[0m\u001b[0mdata\u001b[0m\u001b[1;33m,\u001b[0m \u001b[0mreq\u001b[0m\u001b[1;33m.\u001b[0m\u001b[0mheaders\u001b[0m\u001b[1;33m,\u001b[0m \u001b[0mreq\u001b[0m\u001b[1;33m.\u001b[0m\u001b[0mget_method\u001b[0m\u001b[1;33m(\u001b[0m\u001b[1;33m)\u001b[0m\u001b[1;33m)\u001b[0m\u001b[1;33m\u001b[0m\u001b[1;33m\u001b[0m\u001b[0m\n\u001b[1;32m--> 517\u001b[1;33m         \u001b[0mresponse\u001b[0m \u001b[1;33m=\u001b[0m \u001b[0mself\u001b[0m\u001b[1;33m.\u001b[0m\u001b[0m_open\u001b[0m\u001b[1;33m(\u001b[0m\u001b[0mreq\u001b[0m\u001b[1;33m,\u001b[0m \u001b[0mdata\u001b[0m\u001b[1;33m)\u001b[0m\u001b[1;33m\u001b[0m\u001b[1;33m\u001b[0m\u001b[0m\n\u001b[0m\u001b[0;32m    518\u001b[0m \u001b[1;33m\u001b[0m\u001b[0m\n\u001b[0;32m    519\u001b[0m         \u001b[1;31m# post-process response\u001b[0m\u001b[1;33m\u001b[0m\u001b[1;33m\u001b[0m\u001b[0m\n",
      "\u001b[1;32m~\\anaconda3\\lib\\urllib\\request.py\u001b[0m in \u001b[0;36m_open\u001b[1;34m(self, req, data)\u001b[0m\n\u001b[0;32m    532\u001b[0m \u001b[1;33m\u001b[0m\u001b[0m\n\u001b[0;32m    533\u001b[0m         \u001b[0mprotocol\u001b[0m \u001b[1;33m=\u001b[0m \u001b[0mreq\u001b[0m\u001b[1;33m.\u001b[0m\u001b[0mtype\u001b[0m\u001b[1;33m\u001b[0m\u001b[1;33m\u001b[0m\u001b[0m\n\u001b[1;32m--> 534\u001b[1;33m         result = self._call_chain(self.handle_open, protocol, protocol +\n\u001b[0m\u001b[0;32m    535\u001b[0m                                   '_open', req)\n\u001b[0;32m    536\u001b[0m         \u001b[1;32mif\u001b[0m \u001b[0mresult\u001b[0m\u001b[1;33m:\u001b[0m\u001b[1;33m\u001b[0m\u001b[1;33m\u001b[0m\u001b[0m\n",
      "\u001b[1;32m~\\anaconda3\\lib\\urllib\\request.py\u001b[0m in \u001b[0;36m_call_chain\u001b[1;34m(self, chain, kind, meth_name, *args)\u001b[0m\n\u001b[0;32m    492\u001b[0m         \u001b[1;32mfor\u001b[0m \u001b[0mhandler\u001b[0m \u001b[1;32min\u001b[0m \u001b[0mhandlers\u001b[0m\u001b[1;33m:\u001b[0m\u001b[1;33m\u001b[0m\u001b[1;33m\u001b[0m\u001b[0m\n\u001b[0;32m    493\u001b[0m             \u001b[0mfunc\u001b[0m \u001b[1;33m=\u001b[0m \u001b[0mgetattr\u001b[0m\u001b[1;33m(\u001b[0m\u001b[0mhandler\u001b[0m\u001b[1;33m,\u001b[0m \u001b[0mmeth_name\u001b[0m\u001b[1;33m)\u001b[0m\u001b[1;33m\u001b[0m\u001b[1;33m\u001b[0m\u001b[0m\n\u001b[1;32m--> 494\u001b[1;33m             \u001b[0mresult\u001b[0m \u001b[1;33m=\u001b[0m \u001b[0mfunc\u001b[0m\u001b[1;33m(\u001b[0m\u001b[1;33m*\u001b[0m\u001b[0margs\u001b[0m\u001b[1;33m)\u001b[0m\u001b[1;33m\u001b[0m\u001b[1;33m\u001b[0m\u001b[0m\n\u001b[0m\u001b[0;32m    495\u001b[0m             \u001b[1;32mif\u001b[0m \u001b[0mresult\u001b[0m \u001b[1;32mis\u001b[0m \u001b[1;32mnot\u001b[0m \u001b[1;32mNone\u001b[0m\u001b[1;33m:\u001b[0m\u001b[1;33m\u001b[0m\u001b[1;33m\u001b[0m\u001b[0m\n\u001b[0;32m    496\u001b[0m                 \u001b[1;32mreturn\u001b[0m \u001b[0mresult\u001b[0m\u001b[1;33m\u001b[0m\u001b[1;33m\u001b[0m\u001b[0m\n",
      "\u001b[1;32m~\\anaconda3\\lib\\urllib\\request.py\u001b[0m in \u001b[0;36mhttps_open\u001b[1;34m(self, req)\u001b[0m\n\u001b[0;32m   1387\u001b[0m \u001b[1;33m\u001b[0m\u001b[0m\n\u001b[0;32m   1388\u001b[0m         \u001b[1;32mdef\u001b[0m \u001b[0mhttps_open\u001b[0m\u001b[1;33m(\u001b[0m\u001b[0mself\u001b[0m\u001b[1;33m,\u001b[0m \u001b[0mreq\u001b[0m\u001b[1;33m)\u001b[0m\u001b[1;33m:\u001b[0m\u001b[1;33m\u001b[0m\u001b[1;33m\u001b[0m\u001b[0m\n\u001b[1;32m-> 1389\u001b[1;33m             return self.do_open(http.client.HTTPSConnection, req,\n\u001b[0m\u001b[0;32m   1390\u001b[0m                 context=self._context, check_hostname=self._check_hostname)\n\u001b[0;32m   1391\u001b[0m \u001b[1;33m\u001b[0m\u001b[0m\n",
      "\u001b[1;32m~\\anaconda3\\lib\\urllib\\request.py\u001b[0m in \u001b[0;36mdo_open\u001b[1;34m(self, http_class, req, **http_conn_args)\u001b[0m\n\u001b[0;32m   1347\u001b[0m                           encode_chunked=req.has_header('Transfer-encoding'))\n\u001b[0;32m   1348\u001b[0m             \u001b[1;32mexcept\u001b[0m \u001b[0mOSError\u001b[0m \u001b[1;32mas\u001b[0m \u001b[0merr\u001b[0m\u001b[1;33m:\u001b[0m \u001b[1;31m# timeout error\u001b[0m\u001b[1;33m\u001b[0m\u001b[1;33m\u001b[0m\u001b[0m\n\u001b[1;32m-> 1349\u001b[1;33m                 \u001b[1;32mraise\u001b[0m \u001b[0mURLError\u001b[0m\u001b[1;33m(\u001b[0m\u001b[0merr\u001b[0m\u001b[1;33m)\u001b[0m\u001b[1;33m\u001b[0m\u001b[1;33m\u001b[0m\u001b[0m\n\u001b[0m\u001b[0;32m   1350\u001b[0m             \u001b[0mr\u001b[0m \u001b[1;33m=\u001b[0m \u001b[0mh\u001b[0m\u001b[1;33m.\u001b[0m\u001b[0mgetresponse\u001b[0m\u001b[1;33m(\u001b[0m\u001b[1;33m)\u001b[0m\u001b[1;33m\u001b[0m\u001b[1;33m\u001b[0m\u001b[0m\n\u001b[0;32m   1351\u001b[0m         \u001b[1;32mexcept\u001b[0m\u001b[1;33m:\u001b[0m\u001b[1;33m\u001b[0m\u001b[1;33m\u001b[0m\u001b[0m\n",
      "\u001b[1;31mURLError\u001b[0m: <urlopen error [Errno 11001] getaddrinfo failed>"
     ]
    }
   ],
   "source": [
    "#  читаем файл с локальной машины или с удалённого сервера (метод try - except)\n",
    "try:\n",
    "    data = pd.read_csv(\"/real_estate_data.csv\", sep='\\t')\n",
    "except:\n",
    "    data = pd.read_csv(\"https://code.s3.yandex.net/datasets/real_estate_data.csv\", sep='\\t')"
   ]
  },
  {
   "cell_type": "code",
   "execution_count": null,
   "metadata": {},
   "outputs": [],
   "source": [
    "# устанавливаем отображение полного содержимого ячеек\n",
    "pd.set_option('display.max_rows', 25)"
   ]
  },
  {
   "cell_type": "markdown",
   "metadata": {},
   "source": [
    "*После загрузки датафрейма получаем предварительную информацию о характере данных*"
   ]
  },
  {
   "cell_type": "code",
   "execution_count": null,
   "metadata": {},
   "outputs": [],
   "source": [
    "data.info()"
   ]
  },
  {
   "cell_type": "code",
   "execution_count": null,
   "metadata": {},
   "outputs": [],
   "source": [
    "data.describe().T"
   ]
  },
  {
   "cell_type": "code",
   "execution_count": null,
   "metadata": {},
   "outputs": [],
   "source": [
    "data.head(10)"
   ]
  },
  {
   "cell_type": "code",
   "execution_count": null,
   "metadata": {},
   "outputs": [],
   "source": [
    "data.tail(10)"
   ]
  },
  {
   "cell_type": "markdown",
   "metadata": {},
   "source": [
    "*Дополнительно изучим гистограммы по числовым данным*"
   ]
  },
  {
   "cell_type": "code",
   "execution_count": null,
   "metadata": {},
   "outputs": [],
   "source": [
    "data.hist(figsize=(15, 15));"
   ]
  },
  {
   "cell_type": "markdown",
   "metadata": {},
   "source": [
    "**Выводы:**\n",
    "\n",
    "- полученный массив содержит данные различных типов, числовые и категориальные\n",
    "- набор данных отличается неполнотой, в нём имеются явные аномалии в значениях, несоответствие типов данных и т.п.\n",
    "- прежде, чем мы сможем проанализировать данные и сделать выводы о параметрах, необходимо произвести преобработку"
   ]
  },
  {
   "cell_type": "markdown",
   "metadata": {},
   "source": [
    "## <a id=\"title2\">2. Предобработка данных</a>\n",
    "[к оглавлению](#title11)"
   ]
  },
  {
   "cell_type": "markdown",
   "metadata": {},
   "source": [
    "### <a id=\"title2.1\">2.1.Изучение и заполнение пропусков в данных</a>"
   ]
  },
  {
   "cell_type": "code",
   "execution_count": null,
   "metadata": {},
   "outputs": [],
   "source": [
    "#изучим число пропусков в каждом из столбцов датафрейма\n",
    "data.isnull().sum()"
   ]
  },
  {
   "cell_type": "markdown",
   "metadata": {},
   "source": [
    "**Выводы**\n",
    "- налицо большое (от 20 до 50%) число пропусков во всех картографических данных, а также ряд пропусков в заполненных пользователем данных: `ceiling_height`, `living_area`, `is_apartment`, `kitchen_area`, etc...\n",
    "\n",
    "Пропуски в картографических данных возможны по следующим причинам:\n",
    "- слияние данных из разных датафреймов, для одного (или нескольких) из которых измерения расстояний и расчёт числа объектов не осуществлялись и как результат - их нет в итоговом датафрейме, который мы рассматриваем\n",
    "- сбой при объединении (например, из-за различия в указанных единицах измерения)\n",
    "\n",
    "Пропуски в \"пользовательских\" данных возможны по следующим причинам:\n",
    "- заполнение анкет без документов о собственности на руках, в результате чего ряд \"незапоминающихся\" параметров (высота потолков, жилая площадь и площадь кухни) не были указаны\n",
    "- реализация выбора (\"апартаменты\"/\"не апартаменты\") через чекбоксы, заполнение которых не обязательно для подачи анкеты, как результат - только 10% пользователей указали этот параметр\n",
    "- \"по умолчанию\" число балконов не объявлялось, как результат - владельцы квартир без балконов не заполнили этот пункт\n",
    "- отсутствие данных в пункте о полном числе этажей и наименовании населённого пункта может быть вызвано техническими сбоями при переносе (и/или объединении) данных"
   ]
  },
  {
   "cell_type": "markdown",
   "metadata": {},
   "source": [
    "**Предполагаемые способы коррекции недостающих сведений в датафрейме:**\n",
    "\n",
    "- `locality_name` - можно заполнить по моде столбца (но это может повлечь за сообой ошибки), корректнее заполнить однородными значениями (напр. Unknown) /или удалить строки/\n",
    "- `balcony` - предположительно, пропуски в данных указывают на отсутствие балконов в квартире, заполним пропуски 0\n",
    "- `is_apartment` - важный критерий при выборе квартиры, но в дальнейшем анализе данных не задействован, можем как удалить столбец, так и заполнить пропуски преобладающим значением (предположительно `False`)\n",
    "- `days_exposition` - пропуски в этом столбце могут быть вызваны тем, что на момент выгрузки данных жилой объект ещё не был снят с продажи/продан, изучим характер и распределение пропусков, после чего решим, каким образом их заполнять\n",
    "- `floors_total` - учитывая незначительное (~0,3% от общего набора данных) число пропусков (и как результат - незначительное влияние на итоговый анализ) удалим строки с пропущенными в этом столбце значениями\n",
    "- `ceiling_height` - так как параметр стандартизуется (и, исходя из общих соображений, находится в диапазоне 2,4-4 м), - заполним пропуски значением медианы, как наиболее устойчивой к выбросам и отклонениям величиной\n",
    "- `living_area`, `kitchen_area` - нестандартизуемые параметры, попробуем поискать закономерности в соотношении площадей в квартирах различной total_area, если получится, то заполним пропущенные значения на этом основании(или оставим пропуски в данных)\n",
    "`airports_nearest` - возможно заполнение пропусков по медиане для каждого конкретного населённого пункта (кроме уникальных значений*)\n",
    "`cityCenters_nearest`, `parks_around3000`, `parks_nearest`, `ponds_around3000`, `ponds_nearest` - картографические данные, нет возможности самостоятельно произвести необходимые измерения, вероятно, придётся оставить пропуски в этих данных незаполненными\n",
    "\n",
    "При заполнении пропусков, будем выводить на экран сведения о числе пропусков в столбце до и после заполнения\n",
    "\n",
    "    *В случае уникальных значений (т.е. когда объект с незаполненными данными - единственный в своём населённом пункте), при их сравнительно малом количестве оставим такие ячейки без заполнения"
   ]
  },
  {
   "cell_type": "markdown",
   "metadata": {},
   "source": [
    "*Заполним отсутствующие в `locality_name` значения на \"Unknown\"*"
   ]
  },
  {
   "cell_type": "code",
   "execution_count": null,
   "metadata": {},
   "outputs": [],
   "source": [
    "print('Пропуски до внесения изменений:', data['locality_name'].isna().sum())\n",
    "data['locality_name'].fillna('Unknown', inplace=True)\n",
    "print('Пропуски после внесения изменений:', data['locality_name'].isna().sum())"
   ]
  },
  {
   "cell_type": "markdown",
   "metadata": {},
   "source": [
    "*Заполним нулями отсутствующие значения в `balcony`*"
   ]
  },
  {
   "cell_type": "code",
   "execution_count": null,
   "metadata": {},
   "outputs": [],
   "source": [
    "print('Пропуски до внесения изменений:', data['balcony'].isna().sum())\n",
    "\n",
    "data['balcony'].fillna(0, inplace=True)\n",
    "\n",
    "print('Пропуски после внесения изменений:', data['balcony'].isna().sum())"
   ]
  },
  {
   "cell_type": "markdown",
   "metadata": {},
   "source": [
    "*Определим моду (среди заполненных значений) в столбце `is_apartment`*"
   ]
  },
  {
   "cell_type": "code",
   "execution_count": null,
   "metadata": {},
   "outputs": [],
   "source": [
    "data['is_apartment'].value_counts()"
   ]
  },
  {
   "cell_type": "markdown",
   "metadata": {},
   "source": [
    "*Заполним модой пропущенные значения для этого столбца*"
   ]
  },
  {
   "cell_type": "code",
   "execution_count": null,
   "metadata": {},
   "outputs": [],
   "source": [
    "print('Пропуски до внесения изменений:', data['is_apartment'].isna().sum())\n",
    "\n",
    "data['is_apartment'].fillna(False, inplace=True)\n",
    "\n",
    "print('Пропуски после внесения изменений:', data['is_apartment'].isna().sum())"
   ]
  },
  {
   "cell_type": "code",
   "execution_count": null,
   "metadata": {},
   "outputs": [],
   "source": [
    "print('Пропуски до внесения изменений:', data['floors_total'].isna().sum())"
   ]
  },
  {
   "cell_type": "code",
   "execution_count": null,
   "metadata": {},
   "outputs": [],
   "source": [
    "data.dropna(subset=['floors_total'],inplace=True)"
   ]
  },
  {
   "cell_type": "code",
   "execution_count": null,
   "metadata": {},
   "outputs": [],
   "source": [
    "print('Пропуски после внесения изменений:', data['floors_total'].isna().sum())"
   ]
  },
  {
   "cell_type": "markdown",
   "metadata": {},
   "source": [
    "*После удаления строк переустановим индекс в датафрейме*"
   ]
  },
  {
   "cell_type": "code",
   "execution_count": null,
   "metadata": {},
   "outputs": [],
   "source": [
    "data.reset_index(drop=True, inplace= True)"
   ]
  },
  {
   "cell_type": "markdown",
   "metadata": {},
   "source": [
    "*Изучим столбец `days_exposition`:*\n",
    "\n",
    "базовая гипотеза - пропущенные значения в нём соответствуют сравнительно недавнему размещению объявления и жилой объект на момент выгрузки данных ещё не был продан (или объявление с ним не было удалено из базы)*"
   ]
  },
  {
   "cell_type": "markdown",
   "metadata": {},
   "source": [
    "*Сперва преобразуем значения в столбце `first_day_exposition` в формат DateTime для удобства работы с данными*"
   ]
  },
  {
   "cell_type": "code",
   "execution_count": null,
   "metadata": {},
   "outputs": [],
   "source": [
    "data['first_day_exposition'] = pd.to_datetime(data['first_day_exposition'], format=\"%Y-%m-%dT%H:%M:%S\")"
   ]
  },
  {
   "cell_type": "markdown",
   "metadata": {},
   "source": [
    "*Построим гистаграмму зависимости числа NaN значений в столбце `days_exposition` от значений в столбце `first_day_exposition`*"
   ]
  },
  {
   "cell_type": "code",
   "execution_count": null,
   "metadata": {
    "scrolled": true
   },
   "outputs": [],
   "source": [
    "data.query('days_exposition.isna()')['first_day_exposition'].hist(bins=20, figsize=(8,5));"
   ]
  },
  {
   "cell_type": "markdown",
   "metadata": {},
   "source": [
    "Гипотеза подтверждается: основная масса объявлений, по которым отсутствует срок нахождения в базе, размещены сравнительно недавно, менее года (на момент последнего объявления/выгрузки данных). Чтобы искусственно не изменять число проданных/снятых с размещения квартир, оставим пропуски в этом столбце незаполненными, оставив при этом сведения о квартирах в датафрейме*"
   ]
  },
  {
   "cell_type": "markdown",
   "metadata": {},
   "source": [
    "*Заполняем пропуски в столбцах `airports_nearest`, `cityCenters_nearest`, `ceiling_height` медианными значениями (используя методы `groupby` и `transform`):*"
   ]
  },
  {
   "cell_type": "code",
   "execution_count": null,
   "metadata": {},
   "outputs": [],
   "source": [
    "print('Пропуски до внесения изменений:', data['airports_nearest'].isna().sum())"
   ]
  },
  {
   "cell_type": "code",
   "execution_count": null,
   "metadata": {},
   "outputs": [],
   "source": [
    "data['airports_nearest'] = data['airports_nearest'].fillna(data.groupby('locality_name')['airports_nearest'].transform('median'))"
   ]
  },
  {
   "cell_type": "code",
   "execution_count": null,
   "metadata": {},
   "outputs": [],
   "source": [
    "print('Пропуски после внесения изменений:', data['airports_nearest'].isna().sum())"
   ]
  },
  {
   "cell_type": "markdown",
   "metadata": {},
   "source": [
    "**Вывод:**\n",
    "Заполнение пропусков расстояния до аэропорта (по медиане для каждого населённого пункта) не позволило существенно сократить число NaN ячеек, вероятно, из-за большого количества населённых пунктов, для которых расчёт такого расстояния не был произведён вовсе. При дальнейшем анализе учтём это."
   ]
  },
  {
   "cell_type": "code",
   "execution_count": null,
   "metadata": {},
   "outputs": [],
   "source": [
    "print('Пропуски до внесения изменений:', data['cityCenters_nearest'].isna().sum())"
   ]
  },
  {
   "cell_type": "code",
   "execution_count": null,
   "metadata": {},
   "outputs": [],
   "source": [
    "data['cityCenters_nearest'] = data['cityCenters_nearest'].fillna(data.groupby('locality_name')['cityCenters_nearest'].transform('median'))"
   ]
  },
  {
   "cell_type": "code",
   "execution_count": null,
   "metadata": {},
   "outputs": [],
   "source": [
    "print('Пропуски после внесения изменений:', data['cityCenters_nearest'].isna().sum())"
   ]
  },
  {
   "cell_type": "markdown",
   "metadata": {},
   "source": [
    "**Вывод:**\n",
    "Заполнение пропусков расстояния до центра города (по медиане для каждого населённого пункта) не позволило существенно сократить число NaN ячеек, вероятно, из-за большого количества населённых пунктов, для которых расчёт такого расстояния не был произведён вовсе. При дальнейшем анализе учтём это."
   ]
  },
  {
   "cell_type": "code",
   "execution_count": null,
   "metadata": {},
   "outputs": [],
   "source": [
    "print('Пропуски до внесения изменений:', data['ceiling_height'].isna().sum())"
   ]
  },
  {
   "cell_type": "code",
   "execution_count": null,
   "metadata": {},
   "outputs": [],
   "source": [
    "data['ceiling_height'] = data['ceiling_height'].fillna(data.groupby('locality_name')['ceiling_height'].transform('median'))"
   ]
  },
  {
   "cell_type": "code",
   "execution_count": null,
   "metadata": {},
   "outputs": [],
   "source": [
    "print('Пропуски после внесения изменений:', data['ceiling_height'].isna().sum())"
   ]
  },
  {
   "cell_type": "markdown",
   "metadata": {},
   "source": [
    "**Вывод:**\n",
    "заполнение по медиане качественно сработало для пользовательских данных и не очень помогло с картографическими данными (видимо, в связи с недостатком соответствующих сведений о многих населённых пунктах в области => невозможностью расчёта для них медианы). Так как пока нет понимания, каким образом заполнять эти данные, оставим их без изменений.\n",
    "\n",
    "*Недостающие сведения в пользовательских данных (`ceiling_height`) заполним медианными значениями (рассчитанными для всего столбца)*"
   ]
  },
  {
   "cell_type": "code",
   "execution_count": null,
   "metadata": {},
   "outputs": [],
   "source": [
    "data['ceiling_height'].fillna(data['ceiling_height'].median(), inplace=True)"
   ]
  },
  {
   "cell_type": "markdown",
   "metadata": {},
   "source": [
    "*Проверим весь датафрейм на корректное заполнение пропусков, методы `isnull` и `sum`*"
   ]
  },
  {
   "cell_type": "code",
   "execution_count": null,
   "metadata": {},
   "outputs": [],
   "source": [
    "data.isnull().sum()"
   ]
  },
  {
   "cell_type": "markdown",
   "metadata": {},
   "source": [
    "**Вывод:**\n",
    "Мы заполнили пропуски во всех пользовательских данных (кроме пропусков в площадях кухни и жилой), ряд сведений в картографических данных придётся оставить без заполнения из-за невозможности в рамках проекта получить дополнительные сведения для заполнения"
   ]
  },
  {
   "cell_type": "markdown",
   "metadata": {},
   "source": [
    "### <a id=\"title2.2\">2.2. Изучение типов данных</a>\n",
    "[к оглавлению](#title11)"
   ]
  },
  {
   "cell_type": "code",
   "execution_count": null,
   "metadata": {},
   "outputs": [],
   "source": [
    "data.dtypes"
   ]
  },
  {
   "cell_type": "markdown",
   "metadata": {},
   "source": [
    "Ряд данных, представленных в формате float может быть (по смыслу и для корректности сравнения в дальнейшем) переведён в integer (число этажей и балконов, цена продажи). \n",
    "\n",
    "*Заменим тип данных, используя метод `astype` и проверим корректность преобразования*"
   ]
  },
  {
   "cell_type": "code",
   "execution_count": null,
   "metadata": {},
   "outputs": [],
   "source": [
    "# формируем словарь для одновременной замены типов данных в разных столбцах\n",
    "convert_dict = {'last_price': int,\n",
    "               'floors_total': int,\n",
    "               'balcony': int               \n",
    "               }\n",
    "data = data.astype(convert_dict) #  меняем типы данных с помощью словаря"
   ]
  },
  {
   "cell_type": "code",
   "execution_count": null,
   "metadata": {
    "scrolled": true
   },
   "outputs": [],
   "source": [
    "data.dtypes #  проверим корректность преобразования типов данных"
   ]
  },
  {
   "cell_type": "markdown",
   "metadata": {},
   "source": [
    "Преобразование типов данных осуществлено корректно. Логичным было бы преобразовать в формат `integer` и столбцы с данными о числе близлежащих парков и прудов, число дней экспозиции, но, в связи с сохранившимися в них пропусками, такая операция пока невозможна"
   ]
  },
  {
   "cell_type": "markdown",
   "metadata": {},
   "source": [
    "### <a id=\"title2.3\">2.3. Изучение и обработка аномалий в данных</a>\n",
    "[к оглавлению](#title11)"
   ]
  },
  {
   "cell_type": "markdown",
   "metadata": {},
   "source": [
    "*Для формирования максимально корректного датафрейма для последующего анализа, изучим ряд столбцов по признаку:*\n",
    "1) в них могут содержаться аномальные значения &\n",
    "2) мы будем использовать их при дальнейшем анализе"
   ]
  },
  {
   "cell_type": "code",
   "execution_count": null,
   "metadata": {},
   "outputs": [],
   "source": [
    "data[['rooms', 'ceiling_height', 'total_area', 'living_area', 'kitchen_area', 'last_price']].describe().T"
   ]
  },
  {
   "cell_type": "markdown",
   "metadata": {},
   "source": [
    "**Вывод:**\n",
    " - аномальные (необычные) данные присутствуют в столбцах `rooms` (0 число комнат), `ceiling_height` (min и max высота потолка нелогичны для квартир)\n",
    " - проверим `...area` столбцы, max показатели кажутся завышенными в 10 раз, а min - заниженными\n",
    " - проверим и данные по `last_price` - в этом столбце слишком низкая min цена и необычно высокая max*"
   ]
  },
  {
   "cell_type": "markdown",
   "metadata": {},
   "source": [
    "*Сперва изучим 0 значения в столбце `rooms`:* \\\n",
    "Предположим, что в квартирах со свободной планировкой комната и кухня как правило объединены, поэтому число комнат в анкете для таких квартир пользователь мог указать равным 0"
   ]
  },
  {
   "cell_type": "code",
   "execution_count": null,
   "metadata": {},
   "outputs": [],
   "source": [
    "#  изучим параметры столбца \"open_plan\" для квартир с 0 комнат\n",
    "data.query('rooms == 0')['open_plan'].value_counts() "
   ]
  },
  {
   "cell_type": "code",
   "execution_count": null,
   "metadata": {},
   "outputs": [],
   "source": [
    "# проверим общее число квартир со свободной планировкой\n",
    "data['open_plan'].value_counts() "
   ]
  },
  {
   "cell_type": "markdown",
   "metadata": {},
   "source": [
    "Гипотеза о том, что для квартир со свободной планировкой чаще всего указывается число комнат = 0, подтверждается.\n",
    "\n",
    "*Основываясь на этом, заполним столбец `rooms` для всех квартир (со свободной планировкой) число комнат = 0*"
   ]
  },
  {
   "cell_type": "code",
   "execution_count": null,
   "metadata": {},
   "outputs": [],
   "source": [
    "data.loc[(data['open_plan'] == True), 'rooms'] = 0"
   ]
  },
  {
   "cell_type": "markdown",
   "metadata": {},
   "source": [
    "*Теперь проверим, есть ли квартиры с 0 комнат, без свободной планировки, при этом не являющиеся студиями*"
   ]
  },
  {
   "cell_type": "code",
   "execution_count": null,
   "metadata": {},
   "outputs": [],
   "source": [
    "data.query('rooms == 0 and open_plan != True and studio != True').groupby(by=['total_area']).first()"
   ]
  },
  {
   "cell_type": "markdown",
   "metadata": {},
   "source": [
    "**Вывод:**\n",
    "*Все квартиры с 0 в столбце `rooms` являются либо студиями, либо квартирами со свободной планировкой, для которых нулеое число комнат  - не аномальное значение, оставим такие данные*"
   ]
  },
  {
   "cell_type": "markdown",
   "metadata": {},
   "source": [
    "Перейдём к разбору аномальных значений в столбце 'ceiling_hight'. \\\n",
    "*Для начала посмотрим диапазон возможных значений на гистограммах (с разными range, в диапазоне от min до max)*"
   ]
  },
  {
   "cell_type": "code",
   "execution_count": null,
   "metadata": {},
   "outputs": [],
   "source": [
    "data['ceiling_height'].hist(bins=10, range=(1,2), figsize=(4,3));\n",
    "plt.show()\n",
    "data['ceiling_height'].hist(bins=20, range=(2,5), figsize=(4,3));\n",
    "plt.show()\n",
    "data['ceiling_height'].hist(bins=50, range=(5,100), figsize=(4,3));\n",
    "plt.show()"
   ]
  },
  {
   "cell_type": "markdown",
   "metadata": {},
   "source": [
    "Видим, что подавляющее большинство значений лежит в диапазоне 2.4 - 4 метра. \\\n",
    "С единичными ошибками при заполнении (высота менее 2.4, в диапазоне от 4 и до 24 м и более 40 м) мы ничего не сумеем сделать, так как непонятно, где именно пользователь допустил ошибку при заполнении. \\\n",
    "*Для диапазона значений от 24 и до 40 м сделаем предположение, что пользователь при заполнении забыл указать знак запятой и разделим указанную в df высоту потолков на 10*"
   ]
  },
  {
   "cell_type": "code",
   "execution_count": null,
   "metadata": {},
   "outputs": [],
   "source": [
    "data.loc[(data['ceiling_height'] >= 24), 'ceiling_height'] = \\\n",
    "data.loc[(data['ceiling_height'] >= 24), 'ceiling_height'] / 10  #  #  все высоты потолков выше 24 м уменьшаем в 10 раз"
   ]
  },
  {
   "cell_type": "markdown",
   "metadata": {},
   "source": [
    "*Посчитаем число строк, в которых значения \"высота потолков\" выходят за границы \"нормального\" диапазона 2.5-4 м (т.е. \"аномальны\")*"
   ]
  },
  {
   "cell_type": "code",
   "execution_count": null,
   "metadata": {},
   "outputs": [],
   "source": [
    "data.query('ceiling_height < 2.5 or ceiling_height > 4')['ceiling_height'].count()"
   ]
  },
  {
   "cell_type": "markdown",
   "metadata": {},
   "source": [
    "**Вывод**\n",
    "Число строк с аномальными данными в столбце `ceiling_height` < 0,4% от общего набора, их влиянием в ходе дальнейшего анализа можно пренебречь\n",
    "*Исключим строки с этими данными из общего датафрейма, после чего переустановим индекс датафрейма*"
   ]
  },
  {
   "cell_type": "code",
   "execution_count": null,
   "metadata": {},
   "outputs": [],
   "source": [
    "data = data.query('ceiling_height >= 2.5 and ceiling_height <= 4')"
   ]
  },
  {
   "cell_type": "code",
   "execution_count": null,
   "metadata": {},
   "outputs": [],
   "source": [
    "data.reset_index(drop=True, inplace= True)"
   ]
  },
  {
   "cell_type": "markdown",
   "metadata": {},
   "source": [
    "*Изучим аномальные значения в столбцах `..._area`:*\n",
    "1. Исходя из соображения, что (жилая площадь + площадь кухни) <= общей площади квартиры, будем искать строки, где это правило не выполняется (предполагаем ошибку при заполнении):"
   ]
  },
  {
   "cell_type": "code",
   "execution_count": null,
   "metadata": {},
   "outputs": [],
   "source": [
    "data.query('(total_area + kitchen_area) < living_area')"
   ]
  },
  {
   "cell_type": "markdown",
   "metadata": {},
   "source": [
    "*Таких аномалий в заполнении нет (или они были исключены на предыдущих этапах удаления строк*"
   ]
  },
  {
   "cell_type": "markdown",
   "metadata": {},
   "source": [
    "2. Исходя из соображения, что, как правило, жилая площадь > площади кухни, найдём строки, где это правило не выполняется (предполагаем ошибку при заполнении):"
   ]
  },
  {
   "cell_type": "code",
   "execution_count": null,
   "metadata": {},
   "outputs": [],
   "source": [
    "data.query('living_area < kitchen_area')"
   ]
  },
  {
   "cell_type": "markdown",
   "metadata": {},
   "source": [
    "Обнаружили несколько сот строк, где, возможно, при вводе данных пользователем были перепутаны друг с другом значения в столбцах kitchen_area и living_area.\\\n",
    "*Но гарантировать, что это именно опечатка пользователя, а не квартира варианта планировки 2Е (1 комната + кухня-гостиная) мы не можем, поэтому не считаем эти значения аномальными, изменений не вносим*"
   ]
  },
  {
   "cell_type": "markdown",
   "metadata": {},
   "source": [
    "3. При заполнении пользователи могли опечаткой увеличить/уменьшить разряд данных, проверим, есть ли в датафрейме строки, где соотношение общей и жилой площади отличаются на порядок:"
   ]
  },
  {
   "cell_type": "code",
   "execution_count": null,
   "metadata": {},
   "outputs": [],
   "source": [
    "data.query('total_area / 10 > living_area')"
   ]
  },
  {
   "cell_type": "markdown",
   "metadata": {},
   "source": [
    "*Поправим данные с явно заниженным (из-за опечатки) размером жилой площади:*"
   ]
  },
  {
   "cell_type": "code",
   "execution_count": null,
   "metadata": {},
   "outputs": [],
   "source": [
    "#  правим данные в столбце `living_area` с заниженной в 10 раз жилой площадью \n",
    "data.loc[(data['living_area'] < 6) & (data['living_area'] * 10 < data['total_area']), 'living_area'] = \\\n",
    "data.loc[(data['living_area'] < 6) & (data['living_area'] * 10 < data['total_area']), 'living_area'] * 10"
   ]
  },
  {
   "cell_type": "markdown",
   "metadata": {},
   "source": [
    "*Изучим аномальные значения в столбце `last_price`, начав со сверхдорогих предложений:*"
   ]
  },
  {
   "cell_type": "code",
   "execution_count": null,
   "metadata": {},
   "outputs": [],
   "source": [
    "data.query('last_price > 50000000').groupby('last_price')['total_area'].mean()"
   ]
  },
  {
   "cell_type": "markdown",
   "metadata": {},
   "source": [
    "**Выводы**\n",
    "\n",
    "- число \"сверхдорогих\" (стоимость от 50 млн.руб) квартир измеряется десятками, т.е. занимает незначительную долю в общем массиве исследуемых данных\n",
    "- как правило, это квартиры с большой площадью, число таких уникальных квартир и не должно быть слишком большим в датафрейме со стандартными предложениями о продаже. Поэтому данные о сверхдорогих квартирах (несмотря на возможное наличие опечаток в цене) никак корректировать не будем. При необходимости, в дальнейшем сможем отфильтровать явные аномалии, изучив сведения о стоимости квадратного метра.\n",
    "- согласно данным ЦИАН, максимальная площадь продаваемого как единая квартира объекта в Санкт-Петербурге составляет ~ 940 кв.м, поэтому данные о квартирах сопоставимой площади исключать из датафрейма не будем\n",
    "\n",
    "*Теперь посмотрим на \"сверхдешёвые\" квартиры:* \\\n",
    "Данные по Санкт-Петербургу и области лучше смотреть отдельно, примем за критерий \"дешевизны\" стоимость до 1 млн.руб для области и до 1,5 млн.руб для СПб)"
   ]
  },
  {
   "cell_type": "code",
   "execution_count": null,
   "metadata": {},
   "outputs": [],
   "source": [
    "data.query('last_price <= 1000000 and locality_name != \"Санкт-Петербург\"').groupby(['last_price']).first().head(10)"
   ]
  },
  {
   "cell_type": "markdown",
   "metadata": {},
   "source": [
    "**Вывод:**\n",
    "\n",
    "- минимальная цена фигурирует в объявлениях о продаже квартир в деревнях и сёлах Ленинградской области, \n",
    "- не зная статистики и положения дел в указанных населённых пунктах сложно сделать вывод, аномальны ли эти данные (низкая цена указана только для привлечения внимания, опечатка и т.п.)\n",
    "- оставим эти данные без изменений\n",
    "\n",
    "*Теперь посмотрим на данные о min ценах по Санкт-Петербургу:*"
   ]
  },
  {
   "cell_type": "code",
   "execution_count": null,
   "metadata": {},
   "outputs": [],
   "source": [
    "data.query('last_price <= 1500000 and locality_name == \"Санкт-Петербург\"')"
   ]
  },
  {
   "cell_type": "markdown",
   "metadata": {},
   "source": [
    "**Выводы:**\n",
    "- число таких квартир невелико, судя по срокам продажи, можно предположить, что низкая цена была вызвана необходимостью срочной продажи или иными,  не учитываемыми факторами\n",
    "- сильно выделяется одно значение, по порядку цены видно, что при публикации цена была указана в тыс. руб. \n",
    "\n",
    "*Скорректируем эту цену вручную*"
   ]
  },
  {
   "cell_type": "code",
   "execution_count": null,
   "metadata": {},
   "outputs": [],
   "source": [
    "data.loc[(data['last_price'] < 20000),'last_price'] = data.loc[(data['last_price'] < 20000),'last_price'] * 1000"
   ]
  },
  {
   "cell_type": "markdown",
   "metadata": {},
   "source": [
    "*Изучим аномалии в данных по жилой площади (исходя из данных https://realty.rbc.ru/ о том, что минимальная общая площадь предлагаемых в Санкт-Петербурге и области квартир составляет 18 кв.м)*"
   ]
  },
  {
   "cell_type": "code",
   "execution_count": null,
   "metadata": {},
   "outputs": [],
   "source": [
    "data.query('total_area < 18 and studio == False')"
   ]
  },
  {
   "cell_type": "markdown",
   "metadata": {},
   "source": [
    "Таких квартир чуть больше десятка \\\n",
    "*Отфильтруем в датафрейм только квартиры с полной площадью более 17 кв.м, после чего переустановим индекс*"
   ]
  },
  {
   "cell_type": "code",
   "execution_count": null,
   "metadata": {},
   "outputs": [],
   "source": [
    "data = data.query('total_area > 17 or studio == True')"
   ]
  },
  {
   "cell_type": "code",
   "execution_count": null,
   "metadata": {},
   "outputs": [],
   "source": [
    "data.reset_index(drop=True, inplace= True)"
   ]
  },
  {
   "cell_type": "markdown",
   "metadata": {},
   "source": [
    "*Изучим квартиры с площадью кухни менее 4 кв.м*"
   ]
  },
  {
   "cell_type": "code",
   "execution_count": null,
   "metadata": {},
   "outputs": [],
   "source": [
    "data.query('kitchen_area < 4 and open_plan != True')"
   ]
  },
  {
   "cell_type": "markdown",
   "metadata": {},
   "source": [
    "Таких квартир несколько десятков. Остальные данные (по жилой и общей площади в частности) сомнений не вызывают. И хотя столь малые размеры кухни (1.3 кв.м) аномальны, но также вполне могут быть результатом произведённой перепланировки квартир, когда оставлена лишь \"кухонная ниша\" \\\n",
    "*Оставим их в датафрейме*"
   ]
  },
  {
   "cell_type": "markdown",
   "metadata": {},
   "source": [
    "*Изучим квартиры с жилой площадью менее 10 кв.м*"
   ]
  },
  {
   "cell_type": "code",
   "execution_count": null,
   "metadata": {},
   "outputs": [],
   "source": [
    "data.query('living_area < 10')"
   ]
  },
  {
   "cell_type": "markdown",
   "metadata": {},
   "source": [
    "Таких квартир пара десятков. Остальные данные (по общей площади в частности) аномальными не выглядят. И хотя столь малые площади кажутся следствием опечатки и выглядят, как аномальные, но также вполне могут быть результатом произведённой перепланировки квартир, например, с модификацией 2E, упомянутой выше \\\n",
    "*Оставим их в датафрейме*"
   ]
  },
  {
   "cell_type": "markdown",
   "metadata": {},
   "source": [
    "*Изучим квартиры, находящиеся ближе 3 км от аэропорта*"
   ]
  },
  {
   "cell_type": "code",
   "execution_count": null,
   "metadata": {},
   "outputs": [],
   "source": [
    "data.query('airports_nearest <= 3000')"
   ]
  },
  {
   "cell_type": "markdown",
   "metadata": {},
   "source": [
    "*Такая квартира всего одна, и хотя в остальных данных аномалий не видно, но расстояние в 0 км от аэропорта явно ошибочно, можно отфильтровать сведения о ней из датафрейма*"
   ]
  },
  {
   "cell_type": "code",
   "execution_count": null,
   "metadata": {},
   "outputs": [],
   "source": [
    "data = data.query('airports_nearest != 0')"
   ]
  },
  {
   "cell_type": "code",
   "execution_count": null,
   "metadata": {},
   "outputs": [],
   "source": [
    "data.reset_index(drop=True, inplace= True)"
   ]
  },
  {
   "cell_type": "markdown",
   "metadata": {},
   "source": [
    "*Изучим на аномалии данные о полном числе этажей (исходя из имеющейся в интернете информации, что максимальный по количеству этажей жилой дом в Санкт-Петербурге и области - 36-этажный)*"
   ]
  },
  {
   "cell_type": "code",
   "execution_count": null,
   "metadata": {},
   "outputs": [],
   "source": [
    "data.query('floors_total > 36')"
   ]
  },
  {
   "cell_type": "markdown",
   "metadata": {},
   "source": [
    "Таких значений всего 2, понять, каким образом была допущена опечатка, мы не можем \\\n",
    "*Удалим эти значения из датафрейма*"
   ]
  },
  {
   "cell_type": "code",
   "execution_count": null,
   "metadata": {},
   "outputs": [],
   "source": [
    "data = data.query('floors_total <= 36')"
   ]
  },
  {
   "cell_type": "code",
   "execution_count": null,
   "metadata": {},
   "outputs": [],
   "source": [
    "data.reset_index(drop=True, inplace=True)"
   ]
  },
  {
   "cell_type": "markdown",
   "metadata": {},
   "source": [
    "*Помотрим данные по итогам удаления аномалий*"
   ]
  },
  {
   "cell_type": "code",
   "execution_count": null,
   "metadata": {},
   "outputs": [],
   "source": [
    "data.describe().T"
   ]
  },
  {
   "cell_type": "markdown",
   "metadata": {},
   "source": [
    "**Выводы:**\n",
    "\n",
    "Предварительный анализ аномалий в данных завершён:\n",
    "- ряд явно аномальных значений был обнаружен и строки, содержащие такие значения (суммарно ~ 1% данных) из датафрейма были удалены\n",
    "- мы убедились в том, что полностью избавиться от аномальных значений не получится в связи с неопределённостью данных, и, как следствие, невозможностью правки и при этом сомнительностью удаления (напр. очень малые min площади кухни и жилой площади)\n",
    "- при этом в общем массиве датафрейма оставшиеся \"возможно-аномальные\" значения составляют малую часть и не должны кардинально влиять на взаимозависимости данных. \n",
    "- возможно, часть аномалий удастся \"отловить\" и удалить на следующем этапе, после изучения доп. параметров (цена кв. метра и т.п.)"
   ]
  },
  {
   "cell_type": "markdown",
   "metadata": {},
   "source": [
    "### <a id=\"title2.4\">2.4. Изучение и обработка дубликатов</a>\n",
    "[к оглавлению](#title11)"
   ]
  },
  {
   "cell_type": "markdown",
   "metadata": {},
   "source": [
    "*С целью избавления от возможных дубликатов в данных, изучим столбец с наименованием населённых пунктов `locality_name`*"
   ]
  },
  {
   "cell_type": "code",
   "execution_count": null,
   "metadata": {},
   "outputs": [],
   "source": [
    "sorted(data['locality_name'].unique())"
   ]
  },
  {
   "cell_type": "code",
   "execution_count": null,
   "metadata": {},
   "outputs": [],
   "source": [
    "# расчёт числа уникальных значений\n",
    "len(data['locality_name'].unique())"
   ]
  },
  {
   "cell_type": "markdown",
   "metadata": {},
   "source": [
    "Cреди нескольких сотен уникальных значений используются разнообразные определения для посёлков (поселок, посёлок городского типа и т.д.) и СНТ (садоводческое некоммерческое товарищество, садовое товарищество и т.д. )\n",
    "\n",
    "*Для устранения возможных дубликатов, сперва удалим разнообразие таких наименований, оставив только названия населённых пунктов, используем для замены метод `str.replace`*"
   ]
  },
  {
   "cell_type": "code",
   "execution_count": null,
   "metadata": {},
   "outputs": [],
   "source": [
    "#  создадим словарь (для удаления значений на его основе)\n",
    "pattern = ['деревня ', 'поселок ','городского типа ', 'городской', 'посёлок ', 'при железнодорожной ', 'село ',\n",
    "           'станции ', 'садоводческое некоммерческое товарищество ', 'садовое товарищество ', 'коттеджный ']\n",
    "\n",
    "#  в цикле удалим наименования типов населённых пунктов в столбце 'locality_name' и пробелы, остающиеся после удаления\n",
    "for value in pattern:\n",
    "    data['locality_name'] = data['locality_name'].str.replace(value, '').str.lstrip()"
   ]
  },
  {
   "cell_type": "code",
   "execution_count": null,
   "metadata": {},
   "outputs": [],
   "source": [
    "len(data['locality_name'].unique())"
   ]
  },
  {
   "cell_type": "code",
   "execution_count": null,
   "metadata": {},
   "outputs": [],
   "source": [
    "sorted(data['locality_name'].unique())"
   ]
  },
  {
   "cell_type": "markdown",
   "metadata": {},
   "source": [
    "**Вывод:**\n",
    "Мы привели различные наименования населённых пунктов к единообразию, очистка столбца `locality_name` от возможных дубликатов произведена (за исключением возможных опечаток в наименованиях населённых пунктов)"
   ]
  },
  {
   "cell_type": "markdown",
   "metadata": {},
   "source": [
    "*Проверим предобработанный датафрейм на дубликаты, для чего создадим временный датафрейм (в котором приведём к единому (нижнему) регистру наименования населённых пунктов в столбце `locality_name`) и применим к датафрейму методы `duplicated` и `sum`*"
   ]
  },
  {
   "cell_type": "code",
   "execution_count": null,
   "metadata": {},
   "outputs": [],
   "source": [
    "data_temp = data"
   ]
  },
  {
   "cell_type": "code",
   "execution_count": null,
   "metadata": {},
   "outputs": [],
   "source": [
    "data_temp['locality_name'].str.lower()"
   ]
  },
  {
   "cell_type": "code",
   "execution_count": null,
   "metadata": {},
   "outputs": [],
   "source": [
    "data_temp.duplicated().sum()"
   ]
  },
  {
   "cell_type": "markdown",
   "metadata": {},
   "source": [
    "*Явные дубликаты не обнаружены, на этом предварительную обработку данных можно считать завершённой*"
   ]
  },
  {
   "cell_type": "markdown",
   "metadata": {},
   "source": [
    "### <a id=\"title2.5\">2.5. Добавление в таблицу доп. столбцов для исследовательского анализа</a>\n",
    "[к оглавлению](#title11)"
   ]
  },
  {
   "cell_type": "markdown",
   "metadata": {},
   "source": [
    "- `sqmeter_price`- цена одного квадратного метра\n",
    "- `publication_week_day` - день публикации объявления (0 - monday, 1 - friday etc.)\n",
    "- `publication_month` - месяц публикации объявления\n",
    "- `publication_year`- год публикации объявления\n",
    "- `floor_type` - тип этажа квартиры («first»(1), «other»(2), «last»(3))\n",
    "- `km_to_cityCenter` - расстояние в км до центра города"
   ]
  },
  {
   "cell_type": "code",
   "execution_count": null,
   "metadata": {},
   "outputs": [],
   "source": [
    "#  формируем столбец с ценой одного квадратного метра (округлённой)\n",
    "data['sqmeter_price'] = round(data['last_price'] / data['total_area'])"
   ]
  },
  {
   "cell_type": "code",
   "execution_count": null,
   "metadata": {},
   "outputs": [],
   "source": [
    "#  формируем столбец с днём недели, когда было опубликовано объявление\n",
    "data['publication_week_day'] = data['first_day_exposition'].dt.weekday  "
   ]
  },
  {
   "cell_type": "code",
   "execution_count": null,
   "metadata": {},
   "outputs": [],
   "source": [
    "#  формируем столбец с номером месяца, в котором было опубликовано объявление\n",
    "data['publication_month'] = data['first_day_exposition'].dt.month"
   ]
  },
  {
   "cell_type": "code",
   "execution_count": null,
   "metadata": {},
   "outputs": [],
   "source": [
    "#  формируем столбец с годом, в котором было опубликовано объявление\n",
    "data['publication_year'] = data['first_day_exposition'].dt.year"
   ]
  },
  {
   "cell_type": "code",
   "execution_count": null,
   "metadata": {},
   "outputs": [],
   "source": [
    "#   для создания столбца с категорий этажа сперва зададим функцию категоризации, \n",
    "#   устанавливающую признак этажа в зависимости от его сравнения с общим числом этажей\n",
    "#   для удобства построения графиков обозначим признак этажа цифрой: 1- первый, 2 - любой другой, 3 - последний\n",
    "\n",
    "def floor_type(data_floor):\n",
    "    if data_floor['floor'] == 1: return 1  \n",
    "    elif data_floor['floor'] < data_floor['floors_total']: return 2\n",
    "    elif data_floor['floor'] == data_floor['floors_total']: return 3\n",
    "\n",
    "#  применим эту функцию к датафрейму, метод apply(), формируя требующийся столбец с категорией этажа\n",
    "\n",
    "data['floor_type'] = data.apply(floor_type, axis=1)"
   ]
  },
  {
   "cell_type": "code",
   "execution_count": null,
   "metadata": {},
   "outputs": [],
   "source": [
    "#  формируем столбец с расстоянием от центра нас. пункта в км (с точностью до 1 км)\n",
    "data['km_to_cityCenter'] = round(data['cityCenters_nearest'] / 1000)  "
   ]
  },
  {
   "cell_type": "markdown",
   "metadata": {},
   "source": [
    "**Вывод:**\n",
    "Cформированы необходимые для анализа данных о продажах дополнительные столбцы\n",
    "\n"
   ]
  },
  {
   "cell_type": "markdown",
   "metadata": {},
   "source": [
    "## <a id=\"title3\">3. Исследовательский анализ данных</a>\n",
    "[к оглавлению](#title11)"
   ]
  },
  {
   "cell_type": "markdown",
   "metadata": {},
   "source": [
    "### <a id=\"title3.1\">3.1. Связь числа предложений и различных параметров квартиры</a>"
   ]
  },
  {
   "cell_type": "markdown",
   "metadata": {},
   "source": [
    "*При дальнейшем анализе нас будет интересовать связь между числом предложений и следующими параметрами:*\n",
    " \n",
    "- общая площадь;\n",
    "- жилая площадь;\n",
    "- площадь кухни;\n",
    "- цена объекта;\n",
    "- количество комнат;\n",
    "- высота потолков;\n",
    "- этаж квартиры;\n",
    "- тип этажа квартиры («первый», «последний», «другой»);\n",
    "- общее количество этажей в доме;\n",
    "- расстояние до центра города в метрах;\n",
    "- расстояние до ближайшего аэропорта;\n",
    "- расстояние до ближайшего парка;\n",
    "- день и месяц публикации объявления\n",
    "- срок размещения объявления\n",
    "- цена квадратного метра"
   ]
  },
  {
   "cell_type": "markdown",
   "metadata": {},
   "source": [
    "*На гистаграммах посмотрим распределение по интересующим нас параметрам*"
   ]
  },
  {
   "cell_type": "code",
   "execution_count": null,
   "metadata": {},
   "outputs": [],
   "source": [
    "fig, (ax1,ax2) = plt.subplots(1,2, figsize=(10,4))\n",
    "ax1.hist(data['total_area'],bins=20)\n",
    "ax1.set(ylabel='Кол-во предложений', xlabel='Полная площадь, кв.м', title='Полный диапазон')\n",
    "ax2.hist(data['total_area'], range=(10,150), bins=20)\n",
    "ax2.set(xlabel='Полная площадь, кв.м', title='Диапазон 10-150 кв.м')\n",
    "plt.show;"
   ]
  },
  {
   "cell_type": "markdown",
   "metadata": {},
   "source": [
    "Общая площадь: подавляющее количество предложений в рассматриваемом датафрейме  -  в диапазоне 40-80 кв.м, это типичные варианты массовой застройки 1-3к квартир. Имеются также единичные предложения с площадями в несколько сотен кв.м (согласно информации в интернете, это возможно, такие квартиры на рынке СПб существуют). При дальнейшем анализе посмотрим на связь между этим параметром и ценой (полной и за кв.м)"
   ]
  },
  {
   "cell_type": "code",
   "execution_count": null,
   "metadata": {},
   "outputs": [],
   "source": [
    "fig, (ax1,ax2) = plt.subplots(1,2, figsize=(10,4))\n",
    "ax1.hist(data['living_area'],bins=20)\n",
    "ax1.set(ylabel='Кол-во предложений', xlabel='Жилая площадь, кв.м', title='Полный диапазон')\n",
    "ax2.hist(data['living_area'], range=(5,100), bins=40)\n",
    "ax2.set(xlabel='Жилая площадь, кв.м', title='Диапазон 5-100 кв.м')\n",
    "plt.show;"
   ]
  },
  {
   "cell_type": "markdown",
   "metadata": {},
   "source": [
    "Жилая площадь: подавляющее количество предложений - в диапазоне 15-35 кв. метров, это типичные варианты массовой застройки 1-3к квартир, с яркими пиками на 18 кв.м (площадь одной комнаты) и 35 кв.м (площадь двух комнат). Имеются также единичные предложения с площадями в несколько сот кв.м. При дальнейшем анализе посмотрим на связь между этим параметром и ценой (полной и за кв.м)"
   ]
  },
  {
   "cell_type": "code",
   "execution_count": null,
   "metadata": {},
   "outputs": [],
   "source": [
    "fig, (ax1,ax2) = plt.subplots(1,2, figsize=(10,4))\n",
    "ax1.hist(data['kitchen_area'],bins=20)\n",
    "ax1.set(ylabel='Кол-во предложений', xlabel='Площадь кухни, кв.м', title='Полный диапазон')\n",
    "ax2.hist(data['kitchen_area'], range=(2,20), bins=40)\n",
    "ax2.set(xlabel='Площадь кухни, кв.м', title='Диапазон 2-20 кв.м')\n",
    "plt.show;"
   ]
  },
  {
   "cell_type": "markdown",
   "metadata": {},
   "source": [
    "Площадь кухни: подавляющее количество предложений - в диапазоне 6-12 кв.м, это типовой вариант для основного, представленного в датафрейме масссива 1-3 комнатных квартир. Есть несколько сотен вариантов с заметно большими размерами кухни (и единичные - с сотнями кв. метров), возможно - результат перепланировки и уникальные предложения, соответствующие квартирам с чрезвычайно большой общей площадью. При дальнейшем анализе посмотрим на связь между этим параметром и ценой (полной и за кв.м)"
   ]
  },
  {
   "cell_type": "code",
   "execution_count": null,
   "metadata": {},
   "outputs": [],
   "source": [
    "fig, (ax1,ax2) = plt.subplots(1,2, figsize=(8,4))\n",
    "ax1.hist(data['last_price'],bins=30)\n",
    "ax1.set(ylabel='Кол-во предложений', xlabel='Цена, руб.', title='Полный диапазон')\n",
    "ax2.hist(data['last_price'], range=(100000,15000000), bins=30)\n",
    "ax2.set(xlabel='Цена, руб.', title='Диапазон 10-15000 тыс. руб.')\n",
    "plt.show;"
   ]
  },
  {
   "cell_type": "markdown",
   "metadata": {},
   "source": [
    "Цена объекта: основная часть предложений - в ценовом сегменте до 10 млн. руб), его имеет смысл рассмотреть подробнее, хотя есть и эксклюзивные предложения, с ценой в несколько сотен млн.руб. Далее в анализе оценим влияние различных параметров квартиры на её полную цену."
   ]
  },
  {
   "cell_type": "code",
   "execution_count": null,
   "metadata": {},
   "outputs": [],
   "source": [
    "data['rooms'].hist(bins=15, figsize=(6,4)).set(ylabel='Кол-во предложений', xlabel='Число комнат', \n",
    "                                               title='Связь числа комнат и количества предложений')\n",
    "plt.show;"
   ]
  },
  {
   "cell_type": "markdown",
   "metadata": {},
   "source": [
    "Число комнат: основной массив предложений, как и можно было предположить из анализа площадей квартир - это 1-3 к. квартиры + небольшое количество уникальных предложений, с числом комнат до 19. Далее проанализируем взаимосвязь между числом комнат и ценой квартиры (полной и за кв.м)"
   ]
  },
  {
   "cell_type": "code",
   "execution_count": null,
   "metadata": {},
   "outputs": [],
   "source": [
    "data['ceiling_height'].hist(bins=20, figsize=(6,4)).set(ylabel='Кол-во предложений', xlabel='Высота потолков, м',\n",
    "                                                       title='Связь высоты потолков и количества предложений')\n",
    "plt.show;"
   ]
  },
  {
   "cell_type": "markdown",
   "metadata": {},
   "source": [
    "Высота потолков: этот столбец был на этапе предобработки \"нормализован\", в нём не осталось аномальных значений, большинство квартир вписывается в \"стандартные\" высоты 2,4-2.8 метра, с явными пиками на высотах 2,5 и 2,7 м, характерными для типовой советской застройки. Несколько сот предложений большей высоты - это могут быть как квартиры в дореволюционном жилом фонде, так и новые, сделаные по специальным проектам, квартиры"
   ]
  },
  {
   "cell_type": "code",
   "execution_count": null,
   "metadata": {},
   "outputs": [],
   "source": [
    "data['floor'].hist(bins=20, figsize=(6,4)).set(ylabel='Кол-во предложений', xlabel='Номер этажа',\n",
    "                                              title='Связь номера этажа и количества предложений')\n",
    "plt.show;"
   ]
  },
  {
   "cell_type": "markdown",
   "metadata": {},
   "source": [
    "Этаж квартиры: основная часть предложений - на \"невысоких\", до 10го, этажах, более половины - на этажах до 5го включительно (что отражает состояние жилого фонда в Санкт-Петербурге, где высотное строительство началось сравнительно недавно и на момент формирования датафрейма не существовало массового предложения о продаже в высотных жилых комплексах)"
   ]
  },
  {
   "cell_type": "code",
   "execution_count": null,
   "metadata": {},
   "outputs": [],
   "source": [
    "data['floor_type'].hist(bins=5, figsize=(6,4)).set(ylabel='Кол-во предложений', xlabel='Категория этажа',\n",
    "                                                  title='Связь категории этажа и количества предложений')\n",
    "plt.xticks([1,2,3], ['первый', 'другой', 'последний'])\n",
    "plt.show()"
   ]
  },
  {
   "cell_type": "markdown",
   "metadata": {},
   "source": [
    "Тип этажа квартиры («первый», «последний», «другой»): значительное число предложений по продаже - на \"некрайнем\" этаже, хотя \"первый\" + \"последний\" этажи также составляют порядка четверти от всех предложений, в дальнейшем анализе посмотрим взаимосвязь между \"категорией\" этажа и полной стоимостью / ценой за кв. м."
   ]
  },
  {
   "cell_type": "code",
   "execution_count": null,
   "metadata": {
    "scrolled": true
   },
   "outputs": [],
   "source": [
    "data['floors_total'].hist(bins=20, figsize=(6,4)).set(ylabel='Кол-во предложений', xlabel='Число этажей в доме',\n",
    "                                                     title='Связь числа этажей в доме и количества предложений')\n",
    "plt.show()"
   ]
  },
  {
   "cell_type": "markdown",
   "metadata": {},
   "source": [
    "Общее количество этажей в доме: основной массив объявлений - в домах низкой этажности (до 10), с характерными пиками на 5 и 9 этажах, есть локальные пики, указывающие на предложения в высотках"
   ]
  },
  {
   "cell_type": "code",
   "execution_count": null,
   "metadata": {},
   "outputs": [],
   "source": [
    "data['cityCenters_nearest'].hist(bins=20, figsize=(6,4)).set(ylabel='Кол-во предложений', \n",
    "                            xlabel='Расстояние до центра населённого пункта, м',\n",
    "                            title='Связь расстояния до центра нас. пункта и количества предложений')\n",
    "plt.show()"
   ]
  },
  {
   "cell_type": "markdown",
   "metadata": {},
   "source": [
    "(для трёх следующих столбцов при оценке данных надо помнить что около четверти значений в датафрейме отсутствует из-за возможных ошибок при переносе данных или отсутствия картографической информации о населённом пункте):\n",
    "\n",
    "Расстояние до центра города в метрах: основной массив квартир расположен в пределах 20 км от центра города (что явно характерно для самого Санкт_Петербурга). Далее проанализируем зависимость ценовых параметров квартир от удаления от центра."
   ]
  },
  {
   "cell_type": "code",
   "execution_count": null,
   "metadata": {},
   "outputs": [],
   "source": [
    "data['airports_nearest'].hist(bins=20, figsize=(6,4)).set(ylabel='Кол-во предложений', xlabel='Расстояние до аэропорта, м',\n",
    "                                                         title='Связь расстояния до аэропорта и количества предложений')\n",
    "plt.show()"
   ]
  },
  {
   "cell_type": "markdown",
   "metadata": {},
   "source": [
    "Расстояние до ближайшего аэропорта: основная часть предлагаемых квартир расположена равномерно в диапазоне 10-35 км. от аэропорта \"Пулково\", что соответствует общему условию - 3/4 квартир в датафрейме из Санкт-Петербурга"
   ]
  },
  {
   "cell_type": "code",
   "execution_count": null,
   "metadata": {},
   "outputs": [],
   "source": [
    "data['parks_nearest'].hist(bins=20, figsize=(6,4)).set(ylabel='Кол-во предложений',\n",
    "                                                       xlabel='Расстояние до ближайшего парка, м',\n",
    "                                                      title='Связь расстояния до ближайшего парка и количества предложений')\n",
    "plt.show()"
   ]
  },
  {
   "cell_type": "markdown",
   "metadata": {},
   "source": [
    "Расстояние до ближайшего парка: хорошо виден пик (близкого к нормальному) распределения на отметке ~ 500м. Зелёные насаждения распространены и доступны в СПб и большей части ЛО"
   ]
  },
  {
   "cell_type": "code",
   "execution_count": null,
   "metadata": {},
   "outputs": [],
   "source": [
    "data['publication_week_day'].hist(bins=13, figsize=(6,4)).set(ylabel='Кол-во предложений',\n",
    "                                                              xlabel='День недели публикации объявления',\n",
    "                                                             title='Связь дня недели публикации и количества предложений')\n",
    "plt.xticks([0,1,2,3,4,5,6], ['пн', 'вт', 'ср', 'чт', 'пт', 'сб', 'вс'])\n",
    "plt.show()"
   ]
  },
  {
   "cell_type": "markdown",
   "metadata": {},
   "source": [
    "День публикации объявления: публикации распределены равномерно по рабочим дням, и их число заметно сокращается в выходные дни. Дальше в анализе проследим, связан ли день публикации объявления с стоимостными параметрами"
   ]
  },
  {
   "cell_type": "code",
   "execution_count": null,
   "metadata": {},
   "outputs": [],
   "source": [
    "data['publication_month'].hist(bins=23, figsize=(6,4)).set(ylabel='Кол-во предложений', xlabel='Месяц публикации объявления',\n",
    "                                                          title='Связь месяца публикации и количества предложений')\n",
    "plt.xticks(range(1,13), ['янв', 'фев', 'мар', 'апр', 'май', 'июн', 'июл', 'авг', 'сен', 'окт', 'ноя', 'дек'])\n",
    "plt.show()"
   ]
  },
  {
   "cell_type": "markdown",
   "metadata": {},
   "source": [
    "Месяц публикации: пик приходится на весенние и осенние месяцы, в то время как летом и в пред/посленовогодний период количество публикуемых объявлений сокращается. Далее проверим при анализе, есть ли корреляция между днём/месяцем публикации и сроком продажи квартиры (числом дней экспозиции), а также стоимостными параметрами"
   ]
  },
  {
   "cell_type": "code",
   "execution_count": null,
   "metadata": {},
   "outputs": [],
   "source": [
    "data['days_exposition'].hist(bins=20, figsize=(6,4)).set(ylabel='Кол-во предложений', \n",
    "                                                         xlabel='Срок размещения объявлений, дней',\n",
    "                                                        title='Связь срока размещения и количества предложений')\n",
    "plt.show()"
   ]
  },
  {
   "cell_type": "markdown",
   "metadata": {},
   "source": [
    "Срок размещения объявления: можно видеть, что квартиры продавались (или снимались с продажи) в массе своей в пределах 150 дней, что может быть связано с различными параметрами, в том числе и условиями публикации объявлений. Хоте некоторые предложения сохранялись в базе весь период (11.2014-05.2019)"
   ]
  },
  {
   "cell_type": "code",
   "execution_count": null,
   "metadata": {},
   "outputs": [],
   "source": [
    "fig, (ax1,ax2) = plt.subplots(1,2, figsize=(8,4))\n",
    "ax1.hist(data['sqmeter_price'],bins=30)\n",
    "ax1.set(ylabel='Кол-во предложений', xlabel='Цена 1 кв.м, руб.', title='Полный диапазон')\n",
    "ax2.hist(data['sqmeter_price'], range=(10000,300000), bins=30)\n",
    "ax2.set(xlabel='Цена 1 кв.м, руб.', title='Диапазон 10-300 тыс. руб.')\n",
    "plt.show()"
   ]
  },
  {
   "cell_type": "markdown",
   "metadata": {},
   "source": [
    "Цена 1 кв.м.: достаточно ожидаемое нормальное распределение этого параметра с пиком в районе 90-100 тыс.р. (и \"хвост\" из очень дорогих уникальных предложений)"
   ]
  },
  {
   "cell_type": "markdown",
   "metadata": {},
   "source": [
    "*Изучим показатель `days_exposition`, указывающий на СРОК ПРОДАЖИ КВАРТИРЫ*"
   ]
  },
  {
   "cell_type": "code",
   "execution_count": null,
   "metadata": {},
   "outputs": [],
   "source": [
    "data['days_exposition'].describe().T"
   ]
  },
  {
   "cell_type": "markdown",
   "metadata": {},
   "source": [
    "*Построим гистаграммы и  boxplot по всему диапазону значений и в пределах (mean + std)*"
   ]
  },
  {
   "cell_type": "code",
   "execution_count": null,
   "metadata": {},
   "outputs": [],
   "source": [
    "data['days_exposition'].hist(bins=50, range=(0,1620), figsize=(6,4)).set(title='Срок продажи квартиры (весь диапазон)', \n",
    "    xlabel='дней до продажи', ylabel='число объектов');\n",
    "plt.show()\n",
    "data['days_exposition'].hist(bins=50, range=(0,420), figsize=(6,4)).set(title='Срок продажи квартиры (mean + std)', \n",
    "    xlabel='дней до продажи', ylabel='число объектов');\n",
    "plt.show()"
   ]
  },
  {
   "cell_type": "code",
   "execution_count": null,
   "metadata": {},
   "outputs": [],
   "source": [
    "data.boxplot(column='days_exposition');\n",
    "plt.show()\n",
    "data.query('days_exposition < (days_exposition.mean() + days_exposition.std())').boxplot(column='days_exposition');\n",
    "plt.show()"
   ]
  },
  {
   "cell_type": "markdown",
   "metadata": {},
   "source": [
    "**Вывод:** \n",
    "большинство квартир в изучаемом датафрейме продалось в течение первого года, при этом видны заметные пики на ~45 и ~60 днях (возможно, связанных со стандартными периодами оформления продаж наиболее удачных предложений), что и привело к медианному значению срока продажи в 94 дня, почти в 2 раза отличающемуся от среднего значения, которое учитывает выбросы, с временем продажи в сроки от года и выше (до 5 лет!) \\\n",
    "Исходя из этих наблюдений, можно заключить, что \"БЫСТРОЙ\" можно счесть продажу квартиры в период до 3 месяцев, \"МЕДЛЕННОЙ\" - занявшей больше года*"
   ]
  },
  {
   "cell_type": "markdown",
   "metadata": {},
   "source": [
    "### <a id=\"title3.2\">3.2. Связь стоимости/цены 1 кв.м и различных параметров квартиры</a>\n",
    "[к оглавлению](#title11)"
   ]
  },
  {
   "cell_type": "markdown",
   "metadata": {},
   "source": [
    "**ЧИСЛО КОМНАТ (`rooms`):**"
   ]
  },
  {
   "cell_type": "code",
   "execution_count": null,
   "metadata": {},
   "outputs": [],
   "source": [
    "data.pivot_table(index='rooms', values='last_price', aggfunc='median').reset_index(). \\\n",
    "            plot(x='rooms', y='last_price', grid=True, style='o-', title='Зависимость полной цены от количества комнат', \n",
    "            xlabel='количество комнат', ylabel='Цена, руб.', xticks=(range(20))\n",
    "            );"
   ]
  },
  {
   "cell_type": "markdown",
   "metadata": {},
   "source": [
    "**Выводы:**\n",
    "- заметен ожидаемый (близкий к линейному) рост стоимости в зависимости от числа комнат/общей площади (этот параметр изучим внимательней позже)\n",
    "- заметны экстремальные выбросы стоимости для квартир с 12 и 15 комнатами (несколько эксклюзивных предложений на рынке). \n",
    "- ранее на гистограмме распределения предложений по числу комнат видели, что основной массив предложений составляют квартиры с числом комнат до 5, изучим этот интервал подробнее \\\n",
    "Также здесь (и при будущем анализе) включим в исследование зависимости от параметра не только полной цены (стоимости) квартиры, но и цены 1 кв.м (`sqmeter_price`)"
   ]
  },
  {
   "cell_type": "code",
   "execution_count": null,
   "metadata": {},
   "outputs": [],
   "source": [
    "data.query('rooms <= 5').pivot_table(index='rooms', values='last_price', aggfunc='median').reset_index(). \\\n",
    "                plot(x='rooms', y='last_price', grid=True, style='o-',\n",
    "                 title='Зависимость медианы стоимости от числа комнат', \n",
    "                 xlabel='Число комнат', ylabel='Цена, руб.'\n",
    "                );\n",
    "plt.show()\n",
    "\n",
    "data.query('rooms <= 5').pivot_table(index='rooms', values='sqmeter_price', aggfunc='median').reset_index(). \\\n",
    "                plot(x='rooms', y='sqmeter_price', grid=True, style='o-', color='red',\n",
    "                 title='Зависимость медианы цены 1 кв.м от числа комнат', \n",
    "                 xlabel='Число комнат', ylabel='Цена 1 кв.м., руб.'\n",
    "                );\n",
    "plt.show()"
   ]
  },
  {
   "cell_type": "markdown",
   "metadata": {},
   "source": [
    "**Выводы:**\n",
    "- наблюдаем рост стоимости квартир по мере увеличения числа комнат, по виду зависимость похожа на квадратичную\n",
    "- стоимость 1 кв. метра максимальна для студий и 1-к квартир, затем существенно (на 8 и 10% соответственно) снижается для 2-3к. квартир, и снова подрастает для 4 и 5к. квартир"
   ]
  },
  {
   "cell_type": "markdown",
   "metadata": {},
   "source": [
    "**ОБЩАЯ ПЛОЩАДЬ, ЖИЛАЯ ПЛОЩАДЬ, ПЛОЩАДЬ КУХНИ (`total_area`, `living_area`, `kitchen_area`)**  \\\n",
    "(при построении будем изучать диапазон до 99 процентиля, отсекая выбросы вверх (продажи сверхбольших квартир):"
   ]
  },
  {
   "cell_type": "code",
   "execution_count": null,
   "metadata": {},
   "outputs": [],
   "source": [
    "data.query('total_area < total_area.quantile(0.99)').boxplot(column='total_area');\n",
    "plt.show()\n",
    "data.query('living_area < living_area.quantile(0.99)').boxplot(column='living_area');\n",
    "plt.show()\n",
    "data.query('kitchen_area < kitchen_area.quantile(0.99)').boxplot(column='kitchen_area');"
   ]
  },
  {
   "cell_type": "code",
   "execution_count": null,
   "metadata": {
    "scrolled": true
   },
   "outputs": [],
   "source": [
    "data.query('total_area <= 160').pivot_table(index='total_area', values='sqmeter_price', aggfunc='median').reset_index(). \\\n",
    "                plot(x='total_area', y='sqmeter_price', grid=True, kind='scatter', alpha=0.4, c='red'). \\\n",
    "                set(title='Зависимость цены 1 кв.м от полной площади', xlabel='полная площадь, кв.м', ylabel='цена 1 кв.м')\n",
    "plt.ylim([0, 400000])\n",
    "plt.show();\n",
    "\n",
    "data.query('living_area <= 110').pivot_table(index='living_area', values='sqmeter_price', aggfunc='median').reset_index(). \\\n",
    "                plot(x='living_area', y='sqmeter_price', grid=True, kind='scatter', alpha=0.4, c='blue'). \\\n",
    "                set(title='Зависимость цены 1 кв.м от жилой площади', xlabel='жилая площадь, кв.м', ylabel='цена 1 кв.м')\n",
    "plt.ylim([0, 400000])\n",
    "plt.show();\n",
    "\n",
    "data.query('kitchen_area <= 25').pivot_table(index='kitchen_area', values='sqmeter_price', aggfunc='median').reset_index(). \\\n",
    "                plot(x='kitchen_area', y='sqmeter_price', grid=True, kind='scatter', alpha=0.4, c='green'). \\\n",
    "                set(title='Зависимость цены 1 кв.м от площади кухни', xlabel='площадь кухни, кв.м', ylabel='цена 1 кв.м')\n",
    "plt.ylim([0, 400000])\n",
    "plt.show();"
   ]
  },
  {
   "cell_type": "markdown",
   "metadata": {},
   "source": [
    "**Выводы:**\n",
    "- существуют выраженные диапазоны, в которых цена за 1 кв. м. стабильна, колеблется в районе 100 тыс. руб. за 1 кв. м и мало подвержена выбросам: для общей площади это 20-100м. кв., для жилой - 10-75 кв. м, для площади кухни - 5 - 15 кв. м.\n",
    "- при выходе площади за верхний предел указанных диапазонов нарастает разброс цен (в сторону увеличения)\n",
    "\n",
    "*Проверим это утверждение, посмотрим таблицу взаимной корреляции и построим матрицу диаграмм рассеяния для тех же площадей и полной цены)*"
   ]
  },
  {
   "cell_type": "code",
   "execution_count": null,
   "metadata": {},
   "outputs": [],
   "source": [
    "data_square = data[['last_price', 'total_area', 'living_area', 'kitchen_area']]. \\\n",
    "    query('total_area < 175 and living_area < 120 and kitchen_area < 35')\n",
    "data_square.corr()"
   ]
  },
  {
   "cell_type": "code",
   "execution_count": null,
   "metadata": {},
   "outputs": [],
   "source": [
    "pd.plotting.scatter_matrix(data_square, figsize=(9, 9));"
   ]
  },
  {
   "cell_type": "markdown",
   "metadata": {},
   "source": [
    "**Выводы:**\n",
    "- практически отсутствует (кажущаяся очевидной по умолчанию) прямая коррелция между площадью кухни и полной/жилой площадью. Это может быть вызвано неаккуратностью в заполнении пункта пользователями, а также тем, что, по мере роста размера квартиры, площадь кухни варьирует в широком диапазоне\n",
    "- явной корреляции между ценой квартиры и каждым из факторов по отдельности (полная, жилая и площадь кухни) не отмечается\n",
    "- вероятно, помимо площади на стоимость квартиры влияют и иные факторы, включая расстояние от центра, этажность, день, месяц и год размещения."
   ]
  },
  {
   "cell_type": "markdown",
   "metadata": {},
   "source": [
    "**ТИП ЭТАЖА (`floor_type`)**"
   ]
  },
  {
   "cell_type": "code",
   "execution_count": null,
   "metadata": {},
   "outputs": [],
   "source": [
    "data.pivot_table(index='floor_type', values='last_price', aggfunc='median').reset_index(). \\\n",
    "                    plot(kind = 'bar', x='floor_type', y='last_price', grid = True,\n",
    "                     xlabel='Этаж', ylabel='Полная цена, руб.',\n",
    "                     title='Зависимость медианы полной цены от этажа'\n",
    "                    )\n",
    "plt.xticks([0,1,2], ['первый', 'другой', 'последний'],rotation=0)\n",
    "plt.ylim([3500000, 5000000])\n",
    "plt.show()\n",
    "\n",
    "data.pivot_table(index='floor_type', values='sqmeter_price', aggfunc='median').reset_index(). \\\n",
    "                plot(x='floor_type', y='sqmeter_price', kind = 'bar', grid = True,\n",
    "                 xlabel='Этаж', ylabel='Цена 1 кв.м, руб.', color='red',\n",
    "                 title='Зависимость медианы цены 1 кв. м от этажа'\n",
    "                     )\n",
    "plt.ylim([70000, 100000])\n",
    "plt.xticks([0,1,2], ['первый', 'другой', 'последний'],rotation=0)\n",
    "plt.show()"
   ]
  },
  {
   "cell_type": "markdown",
   "metadata": {},
   "source": [
    "**Выводы:**\n",
    "- в квартирах на первом этаже цена 1 кв.м существенно (~ 5-15%!) ниже цены 1 кв.м для квартир на любом другом этаже (возможные причины - шум, загазованность, сравнительно большой риск ограбления и т.п.)\n",
    "- квартиры на последнем этаже также \"теряют\" в стоимости по сравнению с квартирами на \"других\" этажах (возможные причины - отсутствие лифта, протечки, больший риск ограбления и т.п.)"
   ]
  },
  {
   "cell_type": "markdown",
   "metadata": {},
   "source": [
    "**ГОД РАЗМЕЩЕНИЯ (`publication_year`)**"
   ]
  },
  {
   "cell_type": "markdown",
   "metadata": {},
   "source": [
    "*Изучим с помощью диаграмм размаха, как полная цена и цена 1 кв.м менялась на протяжении нескольких лет (для 99% значений, исключая эксклюзивные, самые дорогие предложения*"
   ]
  },
  {
   "cell_type": "code",
   "execution_count": null,
   "metadata": {},
   "outputs": [],
   "source": [
    "data.query('last_price < last_price.quantile(0.99)').boxplot(column='last_price', by='publication_year'). \\\n",
    " set(xlabel='Год размещения объявления', ylabel='Цена, руб.', title=\"\");\n",
    "plt.show()\n",
    "data.query('sqmeter_price < sqmeter_price.quantile(0.99)').boxplot(column='sqmeter_price', by='publication_year'). \\\n",
    " set(xlabel='Год размещения объявления', ylabel='Цена 1 кв. м, руб.', title=\"\");"
   ]
  },
  {
   "cell_type": "markdown",
   "metadata": {},
   "source": [
    "**Выводы:**\n",
    "- в 2014 году рынок был стабильнее, с меньшим числом ценовых выбросов (далее надо исследовать его объём, это может быть сопряжено в том числе с малым числом предложений)\n",
    "- характерное понижение цены 1 кв. метра и полной цены с 2014 заметно на протяжении нескольких лет\n",
    "\n",
    "*Для наглядности построим графики зависимости медианных значений стоимости и цены 1 кв. м по годам продаж*"
   ]
  },
  {
   "cell_type": "code",
   "execution_count": null,
   "metadata": {},
   "outputs": [],
   "source": [
    "data.query('last_price < last_price.quantile(0.99)'). \\\n",
    "            pivot_table(index='publication_year', values='last_price', aggfunc='median').reset_index(). \\\n",
    "            plot(x='publication_year', y='last_price', grid=True, kind='bar',\n",
    "                 title='Связь медианы полной цены и года размещения', \n",
    "                 xlabel='год размещения', ylabel='цена, руб.'\n",
    "                )\n",
    "plt.xticks(rotation=45)\n",
    "plt.ylim([4000000, 8000000])\n",
    "plt.show();\n",
    "\n",
    "data.query('sqmeter_price < sqmeter_price.quantile(0.99)'). \\\n",
    "            pivot_table(index='publication_year', values='sqmeter_price', aggfunc='median').reset_index(). \\\n",
    "            plot(x='publication_year', y='sqmeter_price', grid=True, kind='bar', color='red',\n",
    "                 title='Связь медианы цены 1 кв.м и года размещения', \n",
    "                 xlabel='год размещения', ylabel='цена 1 кв. м, руб.'\n",
    "                )\n",
    "plt.ylim([90000, 110000])\n",
    "plt.xticks(rotation=45)\n",
    "plt.show();"
   ]
  },
  {
   "cell_type": "markdown",
   "metadata": {},
   "source": [
    "**Вывод:**\n",
    "- отчётливо наблюдается провал рынка продаж недвижимости в 2015-2017 годах, восстановление началось только с 2018 года\n",
    "- медианная цена 1 кв.м восстанавливалась быстрее, чем медиана полной цены\n",
    "\n",
    "*Дополнительно изучим динамику продаж квартир по годам*"
   ]
  },
  {
   "cell_type": "code",
   "execution_count": null,
   "metadata": {},
   "outputs": [],
   "source": [
    "data['publication_year'].hist(bins=30);"
   ]
  },
  {
   "cell_type": "markdown",
   "metadata": {},
   "source": [
    "**Вывод:**\n",
    "- предполагаемая \"устойчивость\" рынка в 2014 году объясняется в основном малым числом предложений в датафрейме\n",
    "- наблюдается устойчивый рост числа предложений на протяжении нескольких лет, с 2014 по 2018 включительно, нексмотря даже на \"ценовой кризис\" 2015-2017 годов\n",
    "- данные за 2019 год представлены не полностью, исходя из восстановления цены на докризисном уровне можно предположить, что по итогам 2019 года число предложений о продаже может превысить аналогичное в 2018"
   ]
  },
  {
   "cell_type": "markdown",
   "metadata": {},
   "source": [
    "**ДЕНЬ И МЕСЯЦ РАЗМЕЩЕНИЯ (`publication_week_day`, `publication_month`)**"
   ]
  },
  {
   "cell_type": "code",
   "execution_count": null,
   "metadata": {},
   "outputs": [],
   "source": [
    "data.query('last_price < last_price.quantile(0.99)'). \\\n",
    "            pivot_table(index='publication_week_day', values='last_price', aggfunc='median').reset_index(). \\\n",
    "            plot(x='publication_week_day', y='last_price', grid=True, kind='bar', \n",
    "                 title='Связь медианы полной цены и дня размещения', \n",
    "                 xlabel='День недели', ylabel='Цена, руб.'\n",
    "                );\n",
    "plt.xticks([0,1,2,3,4,5,6], ['пн', 'вт', 'ср', 'чт', 'пт', 'сб', 'вс'], rotation=45)\n",
    "plt.ylim([4400000, 4800000])\n",
    "plt.show()\n",
    "\n",
    "data.query('sqmeter_price < sqmeter_price.quantile(0.99)'). \\\n",
    "            pivot_table(index='publication_week_day', values='sqmeter_price', aggfunc='median').reset_index(). \\\n",
    "            plot(x='publication_week_day', y='sqmeter_price', grid=True, kind='bar', color='red',\n",
    "                 title='Связь медианы цены 1 кв.м и дня размещения', \n",
    "                 xlabel='День недели', ylabel='Цена 1 кв.м, руб.'\n",
    "                );\n",
    "plt.ylim([92500, 96000])\n",
    "plt.xticks([0,1,2,3,4,5,6], ['пн', 'вт', 'ср', 'чт', 'пт', 'сб', 'вс'], rotation=45)\n",
    "plt.show()"
   ]
  },
  {
   "cell_type": "markdown",
   "metadata": {},
   "source": [
    "**Вывод:**\n",
    "- при сопоставимом числе размещений в будние дни, лучшие показатели цены (полной и 1 кв.м) - для объявлений во вторник и среду\n",
    "- размещаемые в выходные дни (особенно в субботу) объявления по медиане - менее \"дорогие\"\n",
    "- разница цены 1 кв.м между \"лучшим и \"худшим\" днями ~ 3%, полной цены ~ 4%"
   ]
  },
  {
   "cell_type": "code",
   "execution_count": null,
   "metadata": {},
   "outputs": [],
   "source": [
    "data.query('last_price < last_price.quantile(0.99)'). \\\n",
    "pivot_table(index='publication_month', values='last_price', aggfunc='median').reset_index(). \\\n",
    "            plot(x='publication_month', y='last_price', grid=True, kind='bar',\n",
    "                 title='Связь медианы полной цены и месяца размещения', \n",
    "                 xlabel='Месяц размещения', ylabel='Цена, руб.'\n",
    "                );\n",
    "plt.xticks(range(12), ['янв', 'фев', 'мар', 'апр', 'май', 'июн', 'июл', 'авг', 'сен', 'окт', 'ноя', 'дек'], rotation = 45)\n",
    "plt.ylim(4300000, 4800000)\n",
    "plt.show()\n",
    "data.query('sqmeter_price < sqmeter_price.quantile(0.99)'). \\\n",
    "pivot_table(index='publication_month', values='sqmeter_price', aggfunc='median').reset_index(). \\\n",
    "            plot(x='publication_month', y='sqmeter_price', grid=True, kind='bar', color='red',\n",
    "                 title='Связь медианы цены 1 кв.м и месяца размещения', \n",
    "                 xlabel='Месяц размещения', ylabel='Цена 1 кв.м, руб.'\n",
    "                );\n",
    "plt.ylim(92000, 96500)\n",
    "plt.xticks(range(12), ['янв', 'фев', 'мар', 'апр', 'май', 'июн', 'июл', 'авг', 'сен', 'окт', 'ноя', 'дек'], rotation = 45)\n",
    "plt.show()"
   ]
  },
  {
   "cell_type": "markdown",
   "metadata": {},
   "source": [
    "**Вывод:**\n",
    "- в мае размещается меньше всего объявлений, а в июне, хотя число объявлений и растёт, но размещение идёт с минимальной (по медиане) ценой, как полной, так и 1 кв.м.\n",
    "- лучший с т.з. размещения месяц - апрель: в топ-3 по числу объявлений и 1 место по медианной цене размещения\n",
    "- видна чёткая сезонность в размещении - \"высокий сезон\" февраль-апрель и осень, \"низкий сезон\" - май-июль и околоновогодние месяцы\n",
    "- размах цен между \"высоким\" и \"низким\" сезонами - в диапазоне от 2,5-3% (цена за 1 кв.м) до 6-8% (полная цена)\n",
    "- возможно, в \"высокий сезон\" стараются выставлять на рынок квартиры большей, чем в \"низкий\" площади"
   ]
  },
  {
   "cell_type": "markdown",
   "metadata": {},
   "source": [
    "### <a id=\"title3.3\">3.3. Топ-10 населённых пунктов датафрейма по объёмам продаж</a>\n",
    "\n",
    "[к оглавлению](#title11)\n",
    "\n",
    "**Исследуем топ-10 населённых пунктов по объёму продаж, изучим в них цену за 1 кв.м**"
   ]
  },
  {
   "cell_type": "code",
   "execution_count": null,
   "metadata": {},
   "outputs": [],
   "source": [
    "#  рассмотрим 10 городов с максимальным числом строк (объявлений)\n",
    "top_10 = data.query('last_price < last_price.quantile(0.99)').value_counts('locality_name').head(10) \n",
    "\n",
    "top_10 = top_10.reset_index()  # переведём наименование города в столбец `locality_name`"
   ]
  },
  {
   "cell_type": "code",
   "execution_count": null,
   "metadata": {},
   "outputs": [],
   "source": [
    "price_1m=[]  # сформируем пустой массив для заполнения расчётными значениями ср.цены 1 кв.м.\n",
    "\n",
    "#  в цикле заполним этот массив средними значениями цены 1 кв.м. для каждого из городов топ-10\n",
    "for city in top_10['locality_name']:\n",
    "    price_1m.append(round(data.loc[data['locality_name'] == city, 'sqmeter_price'].mean()))\n",
    "\n",
    "top_10['top_mean'] = price_1m  # сделаем получившийся массив дополнительным столбцом `top_mean` в DataFrame `top_10`\n",
    "top_10.drop([0], axis=1, inplace=True)  #  удалим ненужный теперь столбец с числом объявлений по городам\n",
    "top_10"
   ]
  },
  {
   "cell_type": "code",
   "execution_count": null,
   "metadata": {},
   "outputs": [],
   "source": [
    "#  фильтруем максимальное и минимальное значения в столбце `top_mean`\n",
    "top_10.query('top_mean == top_mean.min() or top_mean == top_mean.max()')"
   ]
  },
  {
   "cell_type": "markdown",
   "metadata": {},
   "source": [
    "**Вывод:**\n",
    "- вполне ожидаемо максимальная средняя стоимость 1 кв.м оказалась в Санкт_Петербурге\n",
    "- минимальная средняя стоимость 1 кв. м из крупнейших по числу объявлений городов - в Выборге (в нём же и меньше всего объявлений), это наиболее удалённый и менее развитый из числа сравн. крупных городов Ленобласти\n",
    "- разница макс. и минимальной средней стоимости 1 кв. м. - почти в 2 раза"
   ]
  },
  {
   "cell_type": "markdown",
   "metadata": {},
   "source": [
    "### <a id=\"title3.4\">3.4. Связь цены 1 кв.м. и удалённости квартиры от центра Санкт-Петербурга</a>\n",
    "\n",
    "[к оглавлению](#title11)"
   ]
  },
  {
   "cell_type": "markdown",
   "metadata": {},
   "source": [
    "*Отфильтруем из общей таблицы строки объявлений из Санкт-Петербурга и создадим сводную таблицу с числом предложений (по каждому км удаления от центра), средней и медианной полной ценой таких предложений:*"
   ]
  },
  {
   "cell_type": "code",
   "execution_count": null,
   "metadata": {},
   "outputs": [],
   "source": [
    "data_spb_full = data.query('locality_name == \"Санкт-Петербург\"'). \\\n",
    "pivot_table(index='km_to_cityCenter', values='last_price', aggfunc=['mean', 'median', 'count'])"
   ]
  },
  {
   "cell_type": "code",
   "execution_count": null,
   "metadata": {},
   "outputs": [],
   "source": [
    "data_spb_full.columns = ['mean', 'median', 'count']  #  переименуем \"двухэтажные\" названия столбцов сводной таблицы"
   ]
  },
  {
   "cell_type": "code",
   "execution_count": null,
   "metadata": {},
   "outputs": [],
   "source": [
    "data_spb_full.reset_index(inplace=True) #  сбросим индексы, перенеся значения удаления от центра в отдельный столбец"
   ]
  },
  {
   "cell_type": "code",
   "execution_count": null,
   "metadata": {},
   "outputs": [],
   "source": [
    "data_spb_full = data_spb_full.astype({'km_to_cityCenter':'int'}) #  определим тип данных в этом столбце - integer"
   ]
  },
  {
   "cell_type": "markdown",
   "metadata": {},
   "source": [
    "*Отфильтруем из общей таблицы объявления из Санкт-Петербурга и создадим сводную таблицу с числом предложений (по каждому км удаления от центра), средней и медианной ценой 1 кв.м. для таких предложений*"
   ]
  },
  {
   "cell_type": "code",
   "execution_count": null,
   "metadata": {},
   "outputs": [],
   "source": [
    "data_spb_sqm = data.query('locality_name == \"Санкт-Петербург\"'). \\\n",
    "pivot_table(index='km_to_cityCenter', values='sqmeter_price', aggfunc=['mean', 'median', 'count'])"
   ]
  },
  {
   "cell_type": "code",
   "execution_count": null,
   "metadata": {},
   "outputs": [],
   "source": [
    "data_spb_sqm.columns = ['mean', 'median', 'count']  #  переименуем \"двухэтажные\" названия столбцов сводной таблицы"
   ]
  },
  {
   "cell_type": "code",
   "execution_count": null,
   "metadata": {},
   "outputs": [],
   "source": [
    "data_spb_sqm.reset_index(inplace=True) #  сбросим индексы, перенеся значения удаления от центра в отдельный столбец"
   ]
  },
  {
   "cell_type": "code",
   "execution_count": null,
   "metadata": {},
   "outputs": [],
   "source": [
    "data_spb_sqm = data_spb_sqm.astype({'km_to_cityCenter':'int'}) #  определим данным в этом столбце тип Integer\n",
    "data_spb_sqm"
   ]
  },
  {
   "cell_type": "markdown",
   "metadata": {},
   "source": [
    "*Построим графики зависимости медианы/средней цены от расстояния до центра по обеим созданным датафреймам:*"
   ]
  },
  {
   "cell_type": "code",
   "execution_count": null,
   "metadata": {},
   "outputs": [],
   "source": [
    "ax = data_spb_full.plot(kind='bar', x='km_to_cityCenter', y='mean', linewidth=5, alpha=0.5, label='mean', \n",
    "                  legend=True, title='Связь средней и медианы полной цены с расстоянием от центра СПб', \n",
    "                  ylabel='Полная цена, руб.')\n",
    "data_spb_full.plot(kind='bar', x='km_to_cityCenter', y='median', linewidth=5, alpha=0.6, label='median', rot=50,\n",
    "                   ax=ax, color ='red', legend=True, xlabel='Расстояние от центра, км', figsize=(9,6))\n",
    "plt.show()\n",
    "\n",
    "bx = data_spb_sqm.plot(kind='bar', x='km_to_cityCenter', y='mean', linewidth=5, alpha=0.7, label='mean', \n",
    "                  legend=True, title='Связь средней и медианы цены за 1 кв.м. с расстоянием от центра СПб', \n",
    "                  ylabel='Цена 1 кв.м, руб.', color ='yellow')\n",
    "data_spb_sqm.plot(kind='bar', x='km_to_cityCenter', y='median', linewidth=5, alpha=0.6, label='median', rot=50,\n",
    "                   ax=bx, color ='green', legend=True, xlabel='Расстояние от центра, км', figsize=(9,6))\n",
    "plt.show()"
   ]
  },
  {
   "cell_type": "markdown",
   "metadata": {},
   "source": [
    "**Вывод:**\n",
    "- видна тенденция плавного снижения стоимости квартир и цены 1 кв.м по мере удаления от центра СПб \n",
    "- самые дорогие в датафрейме - квартиры расположенные вплотную (0 км) к центру\n",
    "- для расстояний 1-3 км стоимость и цена 1 кв.м сравнительно быстро понижаются, возможно это связано с изношенностью жилого фонда + необходимостью для покупателя вкладываться в недешёвый ремонт\n",
    "- спад стоимости на при этом происходит быстрее, чем цены 1 кв.м, возможно, из этого следует, что в среднем площадь продаваемых квартир по мере удаления от центра снижается\n",
    "- затем, в радиусе от 4 до 8 км, цены подрастают, после чего продолжают снижение, видимо, мы можем корректно оценить понятие \"квартира в центре\" для СПб - как квартира в радиусе до 8 км от центра Санкт-Петербурга\n",
    "- всплеск цены в сильно удалённых от центра объектах (27-29 км) связан во-первых с единичным числом данных для усреднения (что заметно повышает вклад цены отдельного предложения), а во-вторых - с возможной близостью таких квартир к неким объектам, которые могут повысить стоимость покупки (пляж, загородные дворцы, известные парки и т.п.) уже вне связи с расстоянием до центра\n",
    "- заметно существенное расхождение mean и median в ближних к центру районах, что можно объяснить выбросами, когда на бОльшую цену влияет не только удалённость непосредственно от центра, но и близость к тем или иным объектам (театры, музеи, парки и т.п.), по мере удаления от центра (8-9 км) расхождение (соответственно и влияние выбросов) заметно снижаются"
   ]
  },
  {
   "cell_type": "markdown",
   "metadata": {},
   "source": [
    "# <a id=\"title4\">Общий вывод:</a>\n",
    "\n",
    "[к оглавлению](#title11)"
   ]
  },
  {
   "cell_type": "markdown",
   "metadata": {},
   "source": [
    "- представленный датафрейм содержит сводные данные по рынку недвижимости СПб и ЛенОбласти за 4 года (конец ноября 2014 - начало мая 2019), основан на заполненных пользователями анкетах/объявлениях с параметрами квартир + дополнительными картографическими данными\n",
    "- целью проекта являлось исследование представленного датафрейма, обработка и подготовка данных к анализу, устранение дубликатов, локализация и по возможности исправление аномальных и недостающих значений в данных, а также последующий анализ - изучение максимально влияющих на цену недвижимости факторов (площади, этажности объекта, его удалённости от центра и т.п.) \n",
    "\n",
    "\n",
    " - в рамках предобработки:\n",
    " 1. Заменили пропуски в данных медианными значениями (там, где это было возможно), ориентируясь на общность ряда характеристик для конкретных населённых пунктов\n",
    " 2. Обнаружили, что если для пользовательских данных подобная замена возможна (с ограничениями), то для картографических данных её произвести невозможно, в связи с недостатком информации и отсутствием источников для восполнения пропусков\n",
    " 3. В связи с тем, что при дальнейшем анализе картографические данные  практически не использовались, оставили строки, содержащие в них пропуски, в датафрейме\n",
    " 4. Используя доступную в интернете информацию для СПб и Лен. области (о стандартных высотах, площадях квартир, этажности и т.п.), произвели коррекцию данных и удаление аномальных значений в пользовательских данных\n",
    " 5. В ряде случаев, в связи с невозможностью коррекции = удалили строки с аномалиями из датафрейма (не более 1% от общего массива данных) \n",
    "\n",
    "\n",
    " - после этого приступили к анализу, результатом которого стали несколько наблюдений:\n",
    " 1. Основной массив представленной в датафрейме недвижимости - квартиры, общей площадью до 75 кв. метров, с 1-3 комнатами, жилой площадью до 50 кв.м и кухнями 10 кв.м и стандартными потолками 2-4-2.7 м., что соответствует массовой застройке советских времён \\\n",
    " 1а. Наряду с этим встречаются и эксклюзивные предложения, с многосотметровыми квартирами (возможно, досоветской постройки)\n",
    " 2. Прямой зависимости стоимости жилья (1 кв.м) от таких факторов, как общая/жилая площадь и размеры кухни не обнаружено, уровень цены колебался на протяжении исследуемого периода в пределах 90-95 тыс. руб. (без поправки на инфляцию за эти годы) \\\n",
    " - 2а. Ярко выражена зависимость стоимости квартир от расположения: нижние этажи заметно (на единицы процентов) дешевле других, верхние этажи также продаются с дисконтом по сравнению со \"средними\" \\\n",
    " - 2б. Наблюдается также некоторая связь между стоимостью/ценой и размещением объявления в определённый день и месяц (размещённые в субботу объявления как правило с более низкой ценой, чем в любой из будних дней; в течение года выражена сезонность - после \"дорогого\" апреля в мае-июне наблдается спад предложений и снижение цен. В обоих примерах речь идёт о единицах процентов \\\n",
    "  - 2в. Отчётливо наблюдался кризис на рынке недвижимости с удешевлением квартир в 2015-217 годах и восстановительный рост в 2018 - начале 2019 \\\n",
    "  - 2г. Цена 1 кв.м наиболее велика в студиях и 1к квартирах, ниже всего - в 3 к.квартирах, после чего с увеличением числа комнат начинается рост цены, что можно объяснить разным \"уровнем\" квартир (до 3к. - \"стандартное\" жильё, выше - \"бизнес\" или \"люкс\" классы), рост продолжается до числа комнат в 7, после чего уровень цен стабилизируется. Разница между \"наибольшей\" и \"наименьшей\" ценой составляет заметную величину ~ 10%\n",
    " 3. Были исследованы цены на 1 кв.м. в крупнейших городах, в лидерах, как и ожидалось, оказался Санкт-Петербург, как город с максимальным предложением разнообразной, включая престижную, недвидимости. Замыкает десятку городов Выборг, с почти 2х кратным отставанием по цене 1 кв.м от лидера списка.\n",
    " 4. Была проверена зависимость цены и стоимости от расстояния до центра Санкт-Петербурга, выяснилось, что в ближайшей окрестности центра (до 1 км) предлагались максимальные по цене варианты, также высоко в исследуемый период ценились квартиры в радиусе 3-8 км (что можно считать \"границей\" для центра Санкт-Петербурга). В пределах центра СПб наблюджаются существеные выбросы в ценах квартир, когда более высокая цена (в пересчётек на 1 кв.м)  связана не только с расстоянием, но с расположением относительно значимых \"центральных\" объектов города"
   ]
  }
 ],
 "metadata": {
  "ExecuteTimeLog": [
   {
    "duration": 802,
    "start_time": "2023-03-02T08:54:26.629Z"
   },
   {
    "duration": 159,
    "start_time": "2023-03-02T08:55:51.591Z"
   },
   {
    "duration": 16,
    "start_time": "2023-03-02T08:58:25.963Z"
   },
   {
    "duration": 69,
    "start_time": "2023-03-02T08:59:18.911Z"
   },
   {
    "duration": 27,
    "start_time": "2023-03-02T09:01:16.512Z"
   },
   {
    "duration": 26,
    "start_time": "2023-03-02T09:04:39.945Z"
   },
   {
    "duration": 1771,
    "start_time": "2023-03-02T09:08:25.607Z"
   },
   {
    "duration": 1788,
    "start_time": "2023-03-02T09:11:27.323Z"
   },
   {
    "duration": 194,
    "start_time": "2023-03-02T09:18:33.686Z"
   },
   {
    "duration": 1393,
    "start_time": "2023-03-02T09:21:20.511Z"
   },
   {
    "duration": 1669,
    "start_time": "2023-03-02T09:21:32.883Z"
   },
   {
    "duration": 1692,
    "start_time": "2023-03-02T09:21:42.990Z"
   },
   {
    "duration": 90,
    "start_time": "2023-03-02T09:45:03.784Z"
   },
   {
    "duration": 78,
    "start_time": "2023-03-02T09:45:17.421Z"
   },
   {
    "duration": 105,
    "start_time": "2023-03-02T09:47:57.021Z"
   },
   {
    "duration": 85,
    "start_time": "2023-03-02T09:50:16.184Z"
   },
   {
    "duration": 99,
    "start_time": "2023-03-02T09:50:55.277Z"
   },
   {
    "duration": 9,
    "start_time": "2023-03-02T09:53:09.013Z"
   },
   {
    "duration": 6,
    "start_time": "2023-03-02T10:33:19.090Z"
   },
   {
    "duration": 10,
    "start_time": "2023-03-02T10:33:30.939Z"
   },
   {
    "duration": 11,
    "start_time": "2023-03-02T10:34:13.042Z"
   },
   {
    "duration": 9,
    "start_time": "2023-03-02T10:34:20.935Z"
   },
   {
    "duration": 5,
    "start_time": "2023-03-02T10:34:37.599Z"
   },
   {
    "duration": 9,
    "start_time": "2023-03-02T10:35:26.123Z"
   },
   {
    "duration": 13,
    "start_time": "2023-03-02T10:36:08.746Z"
   },
   {
    "duration": 10,
    "start_time": "2023-03-02T10:36:52.388Z"
   },
   {
    "duration": 9,
    "start_time": "2023-03-02T10:36:59.812Z"
   },
   {
    "duration": 8,
    "start_time": "2023-03-02T10:39:02.208Z"
   },
   {
    "duration": 10,
    "start_time": "2023-03-02T11:15:38.123Z"
   },
   {
    "duration": 8,
    "start_time": "2023-03-02T11:16:20.265Z"
   },
   {
    "duration": 57,
    "start_time": "2023-03-02T11:16:46.665Z"
   },
   {
    "duration": 6,
    "start_time": "2023-03-02T11:18:52.700Z"
   },
   {
    "duration": 759,
    "start_time": "2023-03-02T11:20:27.015Z"
   },
   {
    "duration": 9,
    "start_time": "2023-03-02T11:20:59.194Z"
   },
   {
    "duration": 9,
    "start_time": "2023-03-02T11:20:59.977Z"
   },
   {
    "duration": 1146,
    "start_time": "2023-03-02T11:26:00.309Z"
   },
   {
    "duration": 9,
    "start_time": "2023-03-02T11:28:32.508Z"
   },
   {
    "duration": 1420,
    "start_time": "2023-03-02T11:28:51.097Z"
   },
   {
    "duration": 78,
    "start_time": "2023-03-02T11:29:01.608Z"
   },
   {
    "duration": 20,
    "start_time": "2023-03-02T11:29:10.445Z"
   },
   {
    "duration": 51,
    "start_time": "2023-03-02T11:30:05.420Z"
   },
   {
    "duration": 28,
    "start_time": "2023-03-02T11:31:26.482Z"
   },
   {
    "duration": 12,
    "start_time": "2023-03-02T11:34:33.304Z"
   },
   {
    "duration": 6,
    "start_time": "2023-03-02T11:43:19.211Z"
   },
   {
    "duration": 26,
    "start_time": "2023-03-02T11:46:46.597Z"
   },
   {
    "duration": 7,
    "start_time": "2023-03-02T11:47:39.036Z"
   },
   {
    "duration": 3,
    "start_time": "2023-03-02T11:51:51.127Z"
   },
   {
    "duration": 7,
    "start_time": "2023-03-02T11:54:17.838Z"
   },
   {
    "duration": 7,
    "start_time": "2023-03-02T11:56:43.790Z"
   },
   {
    "duration": 3,
    "start_time": "2023-03-02T11:57:43.981Z"
   },
   {
    "duration": 739,
    "start_time": "2023-03-02T11:59:20.292Z"
   },
   {
    "duration": 7,
    "start_time": "2023-03-02T11:59:38.834Z"
   },
   {
    "duration": 925,
    "start_time": "2023-03-02T12:00:22.314Z"
   },
   {
    "duration": 10,
    "start_time": "2023-03-02T12:01:41.783Z"
   },
   {
    "duration": 23,
    "start_time": "2023-03-02T12:01:59.303Z"
   },
   {
    "duration": 24,
    "start_time": "2023-03-02T12:02:05.213Z"
   },
   {
    "duration": 30,
    "start_time": "2023-03-02T12:02:14.260Z"
   },
   {
    "duration": 51,
    "start_time": "2023-03-02T12:03:19.819Z"
   },
   {
    "duration": 15,
    "start_time": "2023-03-02T12:03:28.160Z"
   },
   {
    "duration": 34,
    "start_time": "2023-03-02T12:04:08.696Z"
   },
   {
    "duration": 7,
    "start_time": "2023-03-02T12:05:02.722Z"
   },
   {
    "duration": 45,
    "start_time": "2023-03-02T12:07:34.097Z"
   },
   {
    "duration": 9,
    "start_time": "2023-03-02T12:09:14.654Z"
   },
   {
    "duration": 8,
    "start_time": "2023-03-02T12:09:42.096Z"
   },
   {
    "duration": 7,
    "start_time": "2023-03-02T12:09:58.573Z"
   },
   {
    "duration": 3,
    "start_time": "2023-03-02T12:10:07.242Z"
   },
   {
    "duration": 7,
    "start_time": "2023-03-02T12:10:08.633Z"
   },
   {
    "duration": 8,
    "start_time": "2023-03-02T12:10:24.064Z"
   },
   {
    "duration": 15,
    "start_time": "2023-03-02T12:10:35.103Z"
   },
   {
    "duration": 8,
    "start_time": "2023-03-02T12:10:53.681Z"
   },
   {
    "duration": 8,
    "start_time": "2023-03-02T12:11:03.134Z"
   },
   {
    "duration": 3,
    "start_time": "2023-03-02T12:11:16.761Z"
   },
   {
    "duration": 7,
    "start_time": "2023-03-02T12:11:21.125Z"
   },
   {
    "duration": 3,
    "start_time": "2023-03-02T12:11:35.341Z"
   },
   {
    "duration": 329,
    "start_time": "2023-03-02T12:11:35.347Z"
   },
   {
    "duration": 15,
    "start_time": "2023-03-02T12:11:35.678Z"
   },
   {
    "duration": 84,
    "start_time": "2023-03-02T12:11:35.695Z"
   },
   {
    "duration": 30,
    "start_time": "2023-03-02T12:11:35.780Z"
   },
   {
    "duration": 51,
    "start_time": "2023-03-02T12:11:35.812Z"
   },
   {
    "duration": 1915,
    "start_time": "2023-03-02T12:11:35.865Z"
   },
   {
    "duration": 8,
    "start_time": "2023-03-02T12:11:37.782Z"
   },
   {
    "duration": 26,
    "start_time": "2023-03-02T12:11:37.792Z"
   },
   {
    "duration": 43,
    "start_time": "2023-03-02T12:11:37.820Z"
   },
   {
    "duration": 7,
    "start_time": "2023-03-02T12:11:37.864Z"
   },
   {
    "duration": 3,
    "start_time": "2023-03-02T12:11:37.873Z"
   },
   {
    "duration": 10,
    "start_time": "2023-03-02T12:11:37.878Z"
   },
   {
    "duration": 4,
    "start_time": "2023-03-02T12:11:49.507Z"
   },
   {
    "duration": 7,
    "start_time": "2023-03-02T12:11:51.342Z"
   },
   {
    "duration": 3,
    "start_time": "2023-03-02T12:12:12.934Z"
   },
   {
    "duration": 175,
    "start_time": "2023-03-02T12:12:12.939Z"
   },
   {
    "duration": 14,
    "start_time": "2023-03-02T12:12:13.116Z"
   },
   {
    "duration": 88,
    "start_time": "2023-03-02T12:12:13.132Z"
   },
   {
    "duration": 40,
    "start_time": "2023-03-02T12:12:13.222Z"
   },
   {
    "duration": 28,
    "start_time": "2023-03-02T12:12:13.264Z"
   },
   {
    "duration": 1786,
    "start_time": "2023-03-02T12:12:13.293Z"
   },
   {
    "duration": 10,
    "start_time": "2023-03-02T12:12:15.081Z"
   },
   {
    "duration": 11,
    "start_time": "2023-03-02T12:12:15.092Z"
   },
   {
    "duration": 27,
    "start_time": "2023-03-02T12:12:15.105Z"
   },
   {
    "duration": 12,
    "start_time": "2023-03-02T12:12:15.155Z"
   },
   {
    "duration": 9,
    "start_time": "2023-03-02T12:12:15.169Z"
   },
   {
    "duration": 12,
    "start_time": "2023-03-02T12:12:15.180Z"
   },
   {
    "duration": 3,
    "start_time": "2023-03-02T12:12:17.695Z"
   },
   {
    "duration": 8,
    "start_time": "2023-03-02T12:12:19.295Z"
   },
   {
    "duration": 3,
    "start_time": "2023-03-02T12:13:26.630Z"
   },
   {
    "duration": 77,
    "start_time": "2023-03-02T12:15:53.184Z"
   },
   {
    "duration": 50,
    "start_time": "2023-03-02T12:16:09.114Z"
   },
   {
    "duration": 264,
    "start_time": "2023-03-02T12:16:47.302Z"
   },
   {
    "duration": 24,
    "start_time": "2023-03-02T12:17:17.341Z"
   },
   {
    "duration": 7,
    "start_time": "2023-03-02T12:17:24.982Z"
   },
   {
    "duration": 7,
    "start_time": "2023-03-02T12:17:38.746Z"
   },
   {
    "duration": 501,
    "start_time": "2023-03-02T12:17:38.758Z"
   },
   {
    "duration": 26,
    "start_time": "2023-03-02T12:17:39.261Z"
   },
   {
    "duration": 91,
    "start_time": "2023-03-02T12:17:39.289Z"
   },
   {
    "duration": 32,
    "start_time": "2023-03-02T12:17:39.383Z"
   },
   {
    "duration": 54,
    "start_time": "2023-03-02T12:17:39.417Z"
   },
   {
    "duration": 1827,
    "start_time": "2023-03-02T12:17:39.473Z"
   },
   {
    "duration": 11,
    "start_time": "2023-03-02T12:17:41.302Z"
   },
   {
    "duration": 13,
    "start_time": "2023-03-02T12:17:41.315Z"
   },
   {
    "duration": 56,
    "start_time": "2023-03-02T12:17:41.330Z"
   },
   {
    "duration": 7,
    "start_time": "2023-03-02T12:17:41.387Z"
   },
   {
    "duration": 4,
    "start_time": "2023-03-02T12:17:41.395Z"
   },
   {
    "duration": 16,
    "start_time": "2023-03-02T12:17:41.400Z"
   },
   {
    "duration": 12,
    "start_time": "2023-03-02T12:17:41.419Z"
   },
   {
    "duration": 5,
    "start_time": "2023-03-02T12:17:45.395Z"
   },
   {
    "duration": 79,
    "start_time": "2023-03-02T12:17:50.533Z"
   },
   {
    "duration": 8,
    "start_time": "2023-03-02T12:18:06.995Z"
   },
   {
    "duration": 24,
    "start_time": "2023-03-02T12:18:09.411Z"
   },
   {
    "duration": 15,
    "start_time": "2023-03-02T12:18:12.763Z"
   },
   {
    "duration": 2,
    "start_time": "2023-03-02T12:18:49.296Z"
   },
   {
    "duration": 194,
    "start_time": "2023-03-02T12:18:49.305Z"
   },
   {
    "duration": 15,
    "start_time": "2023-03-02T12:18:49.501Z"
   },
   {
    "duration": 86,
    "start_time": "2023-03-02T12:18:49.517Z"
   },
   {
    "duration": 28,
    "start_time": "2023-03-02T12:18:49.605Z"
   },
   {
    "duration": 54,
    "start_time": "2023-03-02T12:18:49.636Z"
   },
   {
    "duration": 2132,
    "start_time": "2023-03-02T12:18:49.692Z"
   },
   {
    "duration": 9,
    "start_time": "2023-03-02T12:18:51.826Z"
   },
   {
    "duration": 50,
    "start_time": "2023-03-02T12:18:51.836Z"
   },
   {
    "duration": 27,
    "start_time": "2023-03-02T12:18:51.888Z"
   },
   {
    "duration": 7,
    "start_time": "2023-03-02T12:18:51.916Z"
   },
   {
    "duration": 18,
    "start_time": "2023-03-02T12:18:51.924Z"
   },
   {
    "duration": 39,
    "start_time": "2023-03-02T12:18:51.944Z"
   },
   {
    "duration": 7,
    "start_time": "2023-03-02T12:18:55.175Z"
   },
   {
    "duration": 6,
    "start_time": "2023-03-02T12:18:58.573Z"
   },
   {
    "duration": 4,
    "start_time": "2023-03-02T12:19:00.435Z"
   },
   {
    "duration": 68,
    "start_time": "2023-03-02T12:19:01.997Z"
   },
   {
    "duration": 8,
    "start_time": "2023-03-02T12:19:21.146Z"
   },
   {
    "duration": 20,
    "start_time": "2023-03-02T12:19:46.040Z"
   },
   {
    "duration": 10,
    "start_time": "2023-03-02T12:25:19.595Z"
   },
   {
    "duration": 8,
    "start_time": "2023-03-02T12:39:10.910Z"
   },
   {
    "duration": 30,
    "start_time": "2023-03-02T12:39:26.230Z"
   },
   {
    "duration": 11,
    "start_time": "2023-03-02T12:41:33.210Z"
   },
   {
    "duration": 13,
    "start_time": "2023-03-02T12:41:56.886Z"
   },
   {
    "duration": 43,
    "start_time": "2023-03-02T12:43:03.460Z"
   },
   {
    "duration": 9,
    "start_time": "2023-03-02T12:43:10.520Z"
   },
   {
    "duration": 12,
    "start_time": "2023-03-02T12:43:12.018Z"
   },
   {
    "duration": 12,
    "start_time": "2023-03-02T12:43:13.302Z"
   },
   {
    "duration": 812,
    "start_time": "2023-03-03T09:44:33.594Z"
   },
   {
    "duration": 190,
    "start_time": "2023-03-03T09:44:34.409Z"
   },
   {
    "duration": 16,
    "start_time": "2023-03-03T09:44:34.601Z"
   },
   {
    "duration": 87,
    "start_time": "2023-03-03T09:44:34.619Z"
   },
   {
    "duration": 46,
    "start_time": "2023-03-03T09:44:34.708Z"
   },
   {
    "duration": 31,
    "start_time": "2023-03-03T09:44:34.756Z"
   },
   {
    "duration": 1846,
    "start_time": "2023-03-03T09:44:34.789Z"
   },
   {
    "duration": 17,
    "start_time": "2023-03-03T09:44:36.636Z"
   },
   {
    "duration": 13,
    "start_time": "2023-03-03T09:44:36.655Z"
   },
   {
    "duration": 24,
    "start_time": "2023-03-03T09:44:36.670Z"
   },
   {
    "duration": 5,
    "start_time": "2023-03-03T09:44:36.695Z"
   },
   {
    "duration": 6,
    "start_time": "2023-03-03T09:44:36.702Z"
   },
   {
    "duration": 8,
    "start_time": "2023-03-03T09:44:36.709Z"
   },
   {
    "duration": 7,
    "start_time": "2023-03-03T09:44:36.719Z"
   },
   {
    "duration": 17,
    "start_time": "2023-03-03T09:44:36.727Z"
   },
   {
    "duration": 9,
    "start_time": "2023-03-03T09:44:36.745Z"
   },
   {
    "duration": 12,
    "start_time": "2023-03-03T09:44:36.755Z"
   },
   {
    "duration": 11,
    "start_time": "2023-03-03T09:44:36.768Z"
   },
   {
    "duration": 10,
    "start_time": "2023-03-03T09:44:48.987Z"
   },
   {
    "duration": 7,
    "start_time": "2023-03-03T09:44:50.355Z"
   },
   {
    "duration": 12,
    "start_time": "2023-03-03T09:44:51.718Z"
   },
   {
    "duration": 12,
    "start_time": "2023-03-03T10:09:52.687Z"
   },
   {
    "duration": 6,
    "start_time": "2023-03-03T10:10:16.866Z"
   },
   {
    "duration": 7,
    "start_time": "2023-03-03T10:10:34.186Z"
   },
   {
    "duration": 5,
    "start_time": "2023-03-03T10:10:47.768Z"
   },
   {
    "duration": 61,
    "start_time": "2023-03-03T10:12:08.564Z"
   },
   {
    "duration": 42,
    "start_time": "2023-03-03T10:12:24.467Z"
   },
   {
    "duration": 13,
    "start_time": "2023-03-03T10:13:02.577Z"
   },
   {
    "duration": 6,
    "start_time": "2023-03-03T10:13:26.063Z"
   },
   {
    "duration": 6,
    "start_time": "2023-03-03T10:13:30.334Z"
   },
   {
    "duration": 15,
    "start_time": "2023-03-03T10:15:49.922Z"
   },
   {
    "duration": 9,
    "start_time": "2023-03-03T10:16:35.063Z"
   },
   {
    "duration": 6,
    "start_time": "2023-03-03T10:19:03.978Z"
   },
   {
    "duration": 7,
    "start_time": "2023-03-03T10:19:17.066Z"
   },
   {
    "duration": 7,
    "start_time": "2023-03-03T10:19:31.775Z"
   },
   {
    "duration": 9,
    "start_time": "2023-03-03T10:22:49.376Z"
   },
   {
    "duration": 7,
    "start_time": "2023-03-03T10:22:59.096Z"
   },
   {
    "duration": 7,
    "start_time": "2023-03-03T10:25:49.038Z"
   },
   {
    "duration": 10,
    "start_time": "2023-03-03T10:27:56.667Z"
   },
   {
    "duration": 5,
    "start_time": "2023-03-03T10:30:47.112Z"
   },
   {
    "duration": 10,
    "start_time": "2023-03-03T10:30:54.151Z"
   },
   {
    "duration": 11,
    "start_time": "2023-03-03T10:31:41.184Z"
   },
   {
    "duration": 8,
    "start_time": "2023-03-03T10:32:01.066Z"
   },
   {
    "duration": 12,
    "start_time": "2023-03-03T10:32:46.174Z"
   },
   {
    "duration": 4,
    "start_time": "2023-03-03T10:33:25.961Z"
   },
   {
    "duration": 5,
    "start_time": "2023-03-03T10:33:37.926Z"
   },
   {
    "duration": 7,
    "start_time": "2023-03-03T10:33:45.667Z"
   },
   {
    "duration": 4,
    "start_time": "2023-03-03T10:34:11.427Z"
   },
   {
    "duration": 5,
    "start_time": "2023-03-03T10:34:49.245Z"
   },
   {
    "duration": 6,
    "start_time": "2023-03-03T10:44:52.563Z"
   },
   {
    "duration": 3,
    "start_time": "2023-03-03T11:04:58.134Z"
   },
   {
    "duration": 4,
    "start_time": "2023-03-03T11:05:06.183Z"
   },
   {
    "duration": 64,
    "start_time": "2023-03-03T11:08:48.590Z"
   },
   {
    "duration": 496,
    "start_time": "2023-03-03T11:09:01.693Z"
   },
   {
    "duration": 12,
    "start_time": "2023-03-03T11:09:42.434Z"
   },
   {
    "duration": 4,
    "start_time": "2023-03-03T11:09:53.674Z"
   },
   {
    "duration": 10,
    "start_time": "2023-03-03T11:10:18.340Z"
   },
   {
    "duration": 5,
    "start_time": "2023-03-03T11:10:20.526Z"
   },
   {
    "duration": 10,
    "start_time": "2023-03-03T11:16:36.130Z"
   },
   {
    "duration": 5,
    "start_time": "2023-03-03T11:16:38.272Z"
   },
   {
    "duration": 10,
    "start_time": "2023-03-03T11:18:55.488Z"
   },
   {
    "duration": 5,
    "start_time": "2023-03-03T11:18:57.622Z"
   },
   {
    "duration": 13,
    "start_time": "2023-03-03T11:19:34.706Z"
   },
   {
    "duration": 6,
    "start_time": "2023-03-03T11:19:36.470Z"
   },
   {
    "duration": 7,
    "start_time": "2023-03-03T11:20:19.078Z"
   },
   {
    "duration": 10,
    "start_time": "2023-03-03T11:20:31.045Z"
   },
   {
    "duration": 2,
    "start_time": "2023-03-03T11:20:32.851Z"
   },
   {
    "duration": 5,
    "start_time": "2023-03-03T11:20:33.959Z"
   },
   {
    "duration": 10,
    "start_time": "2023-03-03T11:21:39.067Z"
   },
   {
    "duration": 4,
    "start_time": "2023-03-03T11:21:41.021Z"
   },
   {
    "duration": 7,
    "start_time": "2023-03-03T11:22:00.844Z"
   },
   {
    "duration": 5,
    "start_time": "2023-03-03T11:22:02.730Z"
   },
   {
    "duration": 1083,
    "start_time": "2023-03-03T11:25:28.181Z"
   },
   {
    "duration": 3,
    "start_time": "2023-03-03T11:26:54.938Z"
   },
   {
    "duration": 13,
    "start_time": "2023-03-03T11:29:35.336Z"
   },
   {
    "duration": 178,
    "start_time": "2023-03-03T11:29:37.785Z"
   },
   {
    "duration": 4,
    "start_time": "2023-03-03T11:29:47.838Z"
   },
   {
    "duration": 120,
    "start_time": "2023-03-03T11:29:47.845Z"
   },
   {
    "duration": 13,
    "start_time": "2023-03-03T11:29:47.966Z"
   },
   {
    "duration": 71,
    "start_time": "2023-03-03T11:29:47.980Z"
   },
   {
    "duration": 24,
    "start_time": "2023-03-03T11:29:48.053Z"
   },
   {
    "duration": 26,
    "start_time": "2023-03-03T11:29:48.078Z"
   },
   {
    "duration": 1540,
    "start_time": "2023-03-03T11:29:48.106Z"
   },
   {
    "duration": 7,
    "start_time": "2023-03-03T11:29:49.648Z"
   },
   {
    "duration": 10,
    "start_time": "2023-03-03T11:29:49.657Z"
   },
   {
    "duration": 23,
    "start_time": "2023-03-03T11:29:49.668Z"
   },
   {
    "duration": 6,
    "start_time": "2023-03-03T11:29:49.693Z"
   },
   {
    "duration": 6,
    "start_time": "2023-03-03T11:29:49.700Z"
   },
   {
    "duration": 34,
    "start_time": "2023-03-03T11:29:49.707Z"
   },
   {
    "duration": 6,
    "start_time": "2023-03-03T11:29:49.744Z"
   },
   {
    "duration": 9,
    "start_time": "2023-03-03T11:29:49.752Z"
   },
   {
    "duration": 7,
    "start_time": "2023-03-03T11:29:49.762Z"
   },
   {
    "duration": 9,
    "start_time": "2023-03-03T11:29:49.770Z"
   },
   {
    "duration": 8,
    "start_time": "2023-03-03T11:29:49.781Z"
   },
   {
    "duration": 6,
    "start_time": "2023-03-03T11:29:49.790Z"
   },
   {
    "duration": 13,
    "start_time": "2023-03-03T11:29:49.797Z"
   },
   {
    "duration": 4,
    "start_time": "2023-03-03T11:29:49.811Z"
   },
   {
    "duration": 12,
    "start_time": "2023-03-03T11:32:17.777Z"
   },
   {
    "duration": 11,
    "start_time": "2023-03-03T11:32:33.580Z"
   },
   {
    "duration": 10,
    "start_time": "2023-03-03T11:32:35.699Z"
   },
   {
    "duration": 9,
    "start_time": "2023-03-03T11:32:50.856Z"
   },
   {
    "duration": 13,
    "start_time": "2023-03-03T11:33:41.126Z"
   },
   {
    "duration": 5,
    "start_time": "2023-03-03T11:33:59.865Z"
   },
   {
    "duration": 12,
    "start_time": "2023-03-03T11:34:39.695Z"
   },
   {
    "duration": 1343,
    "start_time": "2023-03-03T11:41:34.375Z"
   },
   {
    "duration": 4366,
    "start_time": "2023-03-03T11:43:48.830Z"
   },
   {
    "duration": 5,
    "start_time": "2023-03-03T12:00:16.891Z"
   },
   {
    "duration": 41,
    "start_time": "2023-03-03T12:01:16.757Z"
   },
   {
    "duration": 2,
    "start_time": "2023-03-03T12:02:46.192Z"
   },
   {
    "duration": 130,
    "start_time": "2023-03-03T12:02:46.195Z"
   },
   {
    "duration": 13,
    "start_time": "2023-03-03T12:02:46.326Z"
   },
   {
    "duration": 64,
    "start_time": "2023-03-03T12:02:46.340Z"
   },
   {
    "duration": 35,
    "start_time": "2023-03-03T12:02:46.406Z"
   },
   {
    "duration": 25,
    "start_time": "2023-03-03T12:02:46.443Z"
   },
   {
    "duration": 1570,
    "start_time": "2023-03-03T12:02:46.470Z"
   },
   {
    "duration": 9,
    "start_time": "2023-03-03T12:02:48.041Z"
   },
   {
    "duration": 5,
    "start_time": "2023-03-03T12:05:46.735Z"
   },
   {
    "duration": 10734,
    "start_time": "2023-03-03T12:05:48.338Z"
   },
   {
    "duration": 7,
    "start_time": "2023-03-03T12:08:17.665Z"
   },
   {
    "duration": 23,
    "start_time": "2023-03-03T12:08:24.484Z"
   },
   {
    "duration": 6,
    "start_time": "2023-03-03T12:09:13.667Z"
   },
   {
    "duration": 6,
    "start_time": "2023-03-03T12:09:20.032Z"
   },
   {
    "duration": 1113,
    "start_time": "2023-03-03T12:10:06.136Z"
   },
   {
    "duration": 102,
    "start_time": "2023-03-03T12:10:34.463Z"
   },
   {
    "duration": 8,
    "start_time": "2023-03-03T12:10:42.093Z"
   },
   {
    "duration": 1112,
    "start_time": "2023-03-03T12:10:53.027Z"
   },
   {
    "duration": 566,
    "start_time": "2023-03-03T12:11:38.837Z"
   },
   {
    "duration": 3,
    "start_time": "2023-03-03T12:14:15.163Z"
   },
   {
    "duration": 13,
    "start_time": "2023-03-03T12:14:18.620Z"
   },
   {
    "duration": 65,
    "start_time": "2023-03-03T12:14:22.607Z"
   },
   {
    "duration": 38,
    "start_time": "2023-03-03T12:14:25.783Z"
   },
   {
    "duration": 8,
    "start_time": "2023-03-03T12:14:30.423Z"
   },
   {
    "duration": 8,
    "start_time": "2023-03-03T12:18:05.607Z"
   },
   {
    "duration": 7,
    "start_time": "2023-03-03T12:18:20.372Z"
   },
   {
    "duration": 8,
    "start_time": "2023-03-03T12:18:35.569Z"
   },
   {
    "duration": 8,
    "start_time": "2023-03-03T12:18:45.960Z"
   },
   {
    "duration": 8,
    "start_time": "2023-03-03T12:20:52.638Z"
   },
   {
    "duration": 8,
    "start_time": "2023-03-03T12:21:06.882Z"
   },
   {
    "duration": 9,
    "start_time": "2023-03-03T12:21:40.235Z"
   },
   {
    "duration": 8,
    "start_time": "2023-03-03T12:22:13.933Z"
   },
   {
    "duration": 11,
    "start_time": "2023-03-03T12:22:28.864Z"
   },
   {
    "duration": 7,
    "start_time": "2023-03-03T12:22:41.056Z"
   },
   {
    "duration": 2,
    "start_time": "2023-03-03T12:22:49.831Z"
   },
   {
    "duration": 2,
    "start_time": "2023-03-03T12:23:01.753Z"
   },
   {
    "duration": 234,
    "start_time": "2023-03-03T12:23:01.758Z"
   },
   {
    "duration": 3,
    "start_time": "2023-03-03T12:23:01.993Z"
   },
   {
    "duration": 24,
    "start_time": "2023-03-03T12:23:01.997Z"
   },
   {
    "duration": 74,
    "start_time": "2023-03-03T12:23:02.023Z"
   },
   {
    "duration": 25,
    "start_time": "2023-03-03T12:23:02.099Z"
   },
   {
    "duration": 35,
    "start_time": "2023-03-03T12:23:02.125Z"
   },
   {
    "duration": 1523,
    "start_time": "2023-03-03T12:23:02.161Z"
   },
   {
    "duration": 8,
    "start_time": "2023-03-03T12:23:03.686Z"
   },
   {
    "duration": 3,
    "start_time": "2023-03-03T12:23:03.695Z"
   },
   {
    "duration": 5,
    "start_time": "2023-03-03T12:23:03.699Z"
   },
   {
    "duration": 10,
    "start_time": "2023-03-03T12:23:03.705Z"
   },
   {
    "duration": 7,
    "start_time": "2023-03-03T12:23:03.717Z"
   },
   {
    "duration": 15,
    "start_time": "2023-03-03T12:23:03.726Z"
   },
   {
    "duration": 8,
    "start_time": "2023-03-03T12:23:03.742Z"
   },
   {
    "duration": 5,
    "start_time": "2023-03-03T12:23:03.751Z"
   },
   {
    "duration": 92,
    "start_time": "2023-03-03T12:23:03.758Z"
   },
   {
    "duration": 0,
    "start_time": "2023-03-03T12:23:03.851Z"
   },
   {
    "duration": 0,
    "start_time": "2023-03-03T12:23:03.852Z"
   },
   {
    "duration": 0,
    "start_time": "2023-03-03T12:23:03.853Z"
   },
   {
    "duration": 0,
    "start_time": "2023-03-03T12:23:03.854Z"
   },
   {
    "duration": 0,
    "start_time": "2023-03-03T12:23:03.855Z"
   },
   {
    "duration": 0,
    "start_time": "2023-03-03T12:23:03.856Z"
   },
   {
    "duration": 0,
    "start_time": "2023-03-03T12:23:03.857Z"
   },
   {
    "duration": 0,
    "start_time": "2023-03-03T12:23:03.858Z"
   },
   {
    "duration": 9,
    "start_time": "2023-03-03T12:23:29.433Z"
   },
   {
    "duration": 3,
    "start_time": "2023-03-03T12:23:57.752Z"
   },
   {
    "duration": 2,
    "start_time": "2023-03-03T12:24:01.527Z"
   },
   {
    "duration": 35,
    "start_time": "2023-03-03T12:24:01.531Z"
   },
   {
    "duration": 67,
    "start_time": "2023-03-03T12:24:01.567Z"
   },
   {
    "duration": 25,
    "start_time": "2023-03-03T12:24:01.636Z"
   },
   {
    "duration": 56,
    "start_time": "2023-03-03T12:24:01.663Z"
   },
   {
    "duration": 1652,
    "start_time": "2023-03-03T12:24:01.721Z"
   },
   {
    "duration": 7,
    "start_time": "2023-03-03T12:24:03.374Z"
   },
   {
    "duration": 5,
    "start_time": "2023-03-03T12:24:03.383Z"
   },
   {
    "duration": 5,
    "start_time": "2023-03-03T12:24:03.390Z"
   },
   {
    "duration": 9,
    "start_time": "2023-03-03T12:24:03.396Z"
   },
   {
    "duration": 3,
    "start_time": "2023-03-03T12:24:03.406Z"
   },
   {
    "duration": 7,
    "start_time": "2023-03-03T12:24:03.410Z"
   },
   {
    "duration": 22,
    "start_time": "2023-03-03T12:24:03.419Z"
   },
   {
    "duration": 4,
    "start_time": "2023-03-03T12:24:03.444Z"
   },
   {
    "duration": 75,
    "start_time": "2023-03-03T12:24:03.449Z"
   },
   {
    "duration": 0,
    "start_time": "2023-03-03T12:24:03.525Z"
   },
   {
    "duration": 0,
    "start_time": "2023-03-03T12:24:03.527Z"
   },
   {
    "duration": 0,
    "start_time": "2023-03-03T12:24:03.528Z"
   },
   {
    "duration": 0,
    "start_time": "2023-03-03T12:24:03.530Z"
   },
   {
    "duration": 0,
    "start_time": "2023-03-03T12:24:03.531Z"
   },
   {
    "duration": 0,
    "start_time": "2023-03-03T12:24:03.532Z"
   },
   {
    "duration": 0,
    "start_time": "2023-03-03T12:24:03.534Z"
   },
   {
    "duration": 0,
    "start_time": "2023-03-03T12:24:03.535Z"
   },
   {
    "duration": 8,
    "start_time": "2023-03-03T12:24:32.527Z"
   },
   {
    "duration": 5,
    "start_time": "2023-03-03T12:37:28.913Z"
   },
   {
    "duration": 2,
    "start_time": "2023-03-03T12:37:43.526Z"
   },
   {
    "duration": 175,
    "start_time": "2023-03-03T12:37:43.529Z"
   },
   {
    "duration": 2,
    "start_time": "2023-03-03T12:37:43.705Z"
   },
   {
    "duration": 16,
    "start_time": "2023-03-03T12:37:43.709Z"
   },
   {
    "duration": 69,
    "start_time": "2023-03-03T12:37:43.726Z"
   },
   {
    "duration": 26,
    "start_time": "2023-03-03T12:37:43.796Z"
   },
   {
    "duration": 40,
    "start_time": "2023-03-03T12:37:43.823Z"
   },
   {
    "duration": 1606,
    "start_time": "2023-03-03T12:37:48.107Z"
   },
   {
    "duration": 8,
    "start_time": "2023-03-03T12:37:53.337Z"
   },
   {
    "duration": 4,
    "start_time": "2023-03-03T12:37:59.267Z"
   },
   {
    "duration": 3,
    "start_time": "2023-03-03T12:38:00.915Z"
   },
   {
    "duration": 6,
    "start_time": "2023-03-03T12:38:02.957Z"
   },
   {
    "duration": 4,
    "start_time": "2023-03-03T12:38:05.232Z"
   },
   {
    "duration": 4,
    "start_time": "2023-03-03T12:38:07.339Z"
   },
   {
    "duration": 84,
    "start_time": "2023-03-03T12:38:08.571Z"
   },
   {
    "duration": 7,
    "start_time": "2023-03-03T12:38:42.239Z"
   },
   {
    "duration": 10,
    "start_time": "2023-03-03T12:48:04.829Z"
   },
   {
    "duration": 7,
    "start_time": "2023-03-03T12:48:09.288Z"
   },
   {
    "duration": 10,
    "start_time": "2023-03-03T12:54:28.024Z"
   },
   {
    "duration": 10,
    "start_time": "2023-03-03T12:54:40.564Z"
   },
   {
    "duration": 103,
    "start_time": "2023-03-03T13:06:05.678Z"
   },
   {
    "duration": 10,
    "start_time": "2023-03-03T13:06:24.038Z"
   },
   {
    "duration": 35,
    "start_time": "2023-03-03T13:06:48.360Z"
   },
   {
    "duration": 6,
    "start_time": "2023-03-03T13:07:29.233Z"
   },
   {
    "duration": 123,
    "start_time": "2023-03-03T13:09:18.283Z"
   },
   {
    "duration": 90,
    "start_time": "2023-03-03T13:09:25.817Z"
   },
   {
    "duration": 5,
    "start_time": "2023-03-03T13:09:27.473Z"
   },
   {
    "duration": 90,
    "start_time": "2023-03-03T13:09:52.376Z"
   },
   {
    "duration": 6,
    "start_time": "2023-03-03T13:09:54.698Z"
   },
   {
    "duration": 25503,
    "start_time": "2023-03-03T13:10:42.875Z"
   },
   {
    "duration": 5,
    "start_time": "2023-03-03T13:11:08.380Z"
   },
   {
    "duration": 5,
    "start_time": "2023-03-03T13:14:54.446Z"
   },
   {
    "duration": 36,
    "start_time": "2023-03-03T13:15:16.996Z"
   },
   {
    "duration": 170,
    "start_time": "2023-03-03T13:16:19.175Z"
   },
   {
    "duration": 8,
    "start_time": "2023-03-03T13:16:28.521Z"
   },
   {
    "duration": 10,
    "start_time": "2023-03-03T13:17:02.785Z"
   },
   {
    "duration": 7,
    "start_time": "2023-03-03T13:18:13.084Z"
   },
   {
    "duration": 13,
    "start_time": "2023-03-03T13:18:23.942Z"
   },
   {
    "duration": 15,
    "start_time": "2023-03-03T13:18:43.440Z"
   },
   {
    "duration": 7,
    "start_time": "2023-03-03T13:19:24.203Z"
   },
   {
    "duration": 8,
    "start_time": "2023-03-03T13:19:32.983Z"
   },
   {
    "duration": 13,
    "start_time": "2023-03-03T13:20:14.660Z"
   },
   {
    "duration": 8,
    "start_time": "2023-03-03T13:21:28.887Z"
   },
   {
    "duration": 11,
    "start_time": "2023-03-03T13:21:52.133Z"
   },
   {
    "duration": 16,
    "start_time": "2023-03-03T13:22:02.831Z"
   },
   {
    "duration": 7,
    "start_time": "2023-03-03T13:30:09.434Z"
   },
   {
    "duration": 1144,
    "start_time": "2023-03-03T13:31:00.759Z"
   },
   {
    "duration": 0,
    "start_time": "2023-03-03T13:31:03.552Z"
   },
   {
    "duration": 1069,
    "start_time": "2023-03-03T13:31:11.470Z"
   },
   {
    "duration": 1466,
    "start_time": "2023-03-03T13:31:21.000Z"
   },
   {
    "duration": 610,
    "start_time": "2023-03-03T13:32:13.976Z"
   },
   {
    "duration": 728,
    "start_time": "2023-03-03T13:33:26.043Z"
   },
   {
    "duration": 578,
    "start_time": "2023-03-03T13:33:59.352Z"
   },
   {
    "duration": 593,
    "start_time": "2023-03-03T13:34:03.963Z"
   },
   {
    "duration": 638,
    "start_time": "2023-03-03T13:34:08.514Z"
   },
   {
    "duration": 2137,
    "start_time": "2023-03-03T13:34:31.319Z"
   },
   {
    "duration": 10,
    "start_time": "2023-03-03T13:35:23.665Z"
   },
   {
    "duration": 12,
    "start_time": "2023-03-03T13:35:35.889Z"
   },
   {
    "duration": 71,
    "start_time": "2023-03-03T13:37:17.177Z"
   },
   {
    "duration": 5,
    "start_time": "2023-03-03T13:37:23.109Z"
   },
   {
    "duration": 1505,
    "start_time": "2023-03-03T13:37:46.867Z"
   },
   {
    "duration": 2479,
    "start_time": "2023-03-03T13:40:03.705Z"
   },
   {
    "duration": 2319,
    "start_time": "2023-03-03T13:40:50.020Z"
   },
   {
    "duration": 6,
    "start_time": "2023-03-03T13:41:38.424Z"
   },
   {
    "duration": 1379,
    "start_time": "2023-03-03T13:54:02.880Z"
   },
   {
    "duration": 6,
    "start_time": "2023-03-03T13:54:23.458Z"
   },
   {
    "duration": 4,
    "start_time": "2023-03-03T13:54:25.058Z"
   },
   {
    "duration": 1808,
    "start_time": "2023-03-03T13:54:37.997Z"
   },
   {
    "duration": 8,
    "start_time": "2023-03-03T13:54:47.381Z"
   },
   {
    "duration": 1657,
    "start_time": "2023-03-03T13:54:51.216Z"
   },
   {
    "duration": 3,
    "start_time": "2023-03-03T13:55:26.507Z"
   },
   {
    "duration": 289,
    "start_time": "2023-03-03T13:55:26.513Z"
   },
   {
    "duration": 3,
    "start_time": "2023-03-03T13:55:26.804Z"
   },
   {
    "duration": 18,
    "start_time": "2023-03-03T13:55:26.808Z"
   },
   {
    "duration": 91,
    "start_time": "2023-03-03T13:55:26.828Z"
   },
   {
    "duration": 52,
    "start_time": "2023-03-03T13:55:26.921Z"
   },
   {
    "duration": 27,
    "start_time": "2023-03-03T13:55:26.975Z"
   },
   {
    "duration": 1882,
    "start_time": "2023-03-03T13:55:27.003Z"
   },
   {
    "duration": 9,
    "start_time": "2023-03-03T13:55:28.886Z"
   },
   {
    "duration": 5,
    "start_time": "2023-03-03T13:55:28.897Z"
   },
   {
    "duration": 5,
    "start_time": "2023-03-03T13:55:28.903Z"
   },
   {
    "duration": 7,
    "start_time": "2023-03-03T13:55:28.909Z"
   },
   {
    "duration": 34,
    "start_time": "2023-03-03T13:55:28.917Z"
   },
   {
    "duration": 10,
    "start_time": "2023-03-03T13:55:28.956Z"
   },
   {
    "duration": 8,
    "start_time": "2023-03-03T13:55:28.968Z"
   },
   {
    "duration": 4,
    "start_time": "2023-03-03T13:55:39.221Z"
   },
   {
    "duration": 1651,
    "start_time": "2023-03-03T13:55:40.659Z"
   },
   {
    "duration": 5,
    "start_time": "2023-03-03T13:55:49.984Z"
   },
   {
    "duration": 1755,
    "start_time": "2023-03-03T13:56:05.258Z"
   },
   {
    "duration": 12,
    "start_time": "2023-03-03T13:56:54.005Z"
   },
   {
    "duration": 17,
    "start_time": "2023-03-03T13:57:09.539Z"
   },
   {
    "duration": 13,
    "start_time": "2023-03-03T13:57:21.260Z"
   },
   {
    "duration": 72,
    "start_time": "2023-03-03T14:01:23.159Z"
   },
   {
    "duration": 698,
    "start_time": "2023-03-03T14:01:30.488Z"
   },
   {
    "duration": 4,
    "start_time": "2023-03-03T14:01:44.561Z"
   },
   {
    "duration": 629,
    "start_time": "2023-03-03T14:02:07.575Z"
   },
   {
    "duration": 5,
    "start_time": "2023-03-03T14:02:12.556Z"
   },
   {
    "duration": 9,
    "start_time": "2023-03-03T14:03:21.039Z"
   },
   {
    "duration": 7,
    "start_time": "2023-03-03T14:03:40.365Z"
   },
   {
    "duration": 7,
    "start_time": "2023-03-03T14:03:48.593Z"
   },
   {
    "duration": 8,
    "start_time": "2023-03-03T14:03:55.394Z"
   },
   {
    "duration": 9,
    "start_time": "2023-03-03T14:04:10.615Z"
   },
   {
    "duration": 9,
    "start_time": "2023-03-03T14:04:16.969Z"
   },
   {
    "duration": 9,
    "start_time": "2023-03-03T14:04:31.592Z"
   },
   {
    "duration": 11,
    "start_time": "2023-03-03T14:05:33.994Z"
   },
   {
    "duration": 11,
    "start_time": "2023-03-03T14:05:38.954Z"
   },
   {
    "duration": 10,
    "start_time": "2023-03-03T14:06:14.120Z"
   },
   {
    "duration": 14,
    "start_time": "2023-03-03T14:09:28.987Z"
   },
   {
    "duration": 2188,
    "start_time": "2023-03-03T14:09:38.865Z"
   },
   {
    "duration": 6,
    "start_time": "2023-03-03T14:11:44.026Z"
   },
   {
    "duration": 1754,
    "start_time": "2023-03-03T14:12:07.272Z"
   },
   {
    "duration": 6,
    "start_time": "2023-03-03T14:12:11.643Z"
   },
   {
    "duration": 7,
    "start_time": "2023-03-03T14:12:37.322Z"
   },
   {
    "duration": 6,
    "start_time": "2023-03-03T14:12:44.188Z"
   },
   {
    "duration": 6,
    "start_time": "2023-03-03T14:12:56.571Z"
   },
   {
    "duration": 5,
    "start_time": "2023-03-03T14:13:01.118Z"
   },
   {
    "duration": 1463,
    "start_time": "2023-03-03T14:13:04.937Z"
   },
   {
    "duration": 5,
    "start_time": "2023-03-03T14:13:08.083Z"
   },
   {
    "duration": 5,
    "start_time": "2023-03-03T14:16:10.002Z"
   },
   {
    "duration": 9,
    "start_time": "2023-03-03T14:16:16.894Z"
   },
   {
    "duration": 6,
    "start_time": "2023-03-03T14:16:29.710Z"
   },
   {
    "duration": 9,
    "start_time": "2023-03-03T14:16:41.956Z"
   },
   {
    "duration": 6,
    "start_time": "2023-03-03T14:17:06.436Z"
   },
   {
    "duration": 6,
    "start_time": "2023-03-03T14:17:10.242Z"
   },
   {
    "duration": 3,
    "start_time": "2023-03-03T14:18:55.628Z"
   },
   {
    "duration": 225,
    "start_time": "2023-03-03T14:18:55.633Z"
   },
   {
    "duration": 3,
    "start_time": "2023-03-03T14:18:55.860Z"
   },
   {
    "duration": 15,
    "start_time": "2023-03-03T14:18:55.866Z"
   },
   {
    "duration": 85,
    "start_time": "2023-03-03T14:18:55.883Z"
   },
   {
    "duration": 39,
    "start_time": "2023-03-03T14:18:55.969Z"
   },
   {
    "duration": 54,
    "start_time": "2023-03-03T14:18:56.010Z"
   },
   {
    "duration": 1748,
    "start_time": "2023-03-03T14:18:56.066Z"
   },
   {
    "duration": 9,
    "start_time": "2023-03-03T14:18:57.815Z"
   },
   {
    "duration": 24,
    "start_time": "2023-03-03T14:18:57.826Z"
   },
   {
    "duration": 11,
    "start_time": "2023-03-03T14:18:57.852Z"
   },
   {
    "duration": 8,
    "start_time": "2023-03-03T14:18:57.864Z"
   },
   {
    "duration": 12,
    "start_time": "2023-03-03T14:18:57.874Z"
   },
   {
    "duration": 5,
    "start_time": "2023-03-03T14:18:57.887Z"
   },
   {
    "duration": 5,
    "start_time": "2023-03-03T14:19:06.481Z"
   },
   {
    "duration": 4,
    "start_time": "2023-03-03T14:19:09.926Z"
   },
   {
    "duration": 5,
    "start_time": "2023-03-03T14:19:11.076Z"
   },
   {
    "duration": 1380,
    "start_time": "2023-03-03T14:19:18.651Z"
   },
   {
    "duration": 7,
    "start_time": "2023-03-03T14:19:22.494Z"
   },
   {
    "duration": 5,
    "start_time": "2023-03-03T14:19:24.107Z"
   },
   {
    "duration": 15808,
    "start_time": "2023-03-03T14:19:56.510Z"
   },
   {
    "duration": 24,
    "start_time": "2023-03-03T14:20:12.321Z"
   },
   {
    "duration": 5,
    "start_time": "2023-03-03T14:34:49.470Z"
   },
   {
    "duration": 5,
    "start_time": "2023-03-03T14:34:51.684Z"
   },
   {
    "duration": 2,
    "start_time": "2023-03-03T14:34:59.778Z"
   },
   {
    "duration": 375,
    "start_time": "2023-03-03T14:34:59.783Z"
   },
   {
    "duration": 3,
    "start_time": "2023-03-03T14:35:00.164Z"
   },
   {
    "duration": 22,
    "start_time": "2023-03-03T14:35:00.169Z"
   },
   {
    "duration": 90,
    "start_time": "2023-03-03T14:35:00.192Z"
   },
   {
    "duration": 29,
    "start_time": "2023-03-03T14:35:00.286Z"
   },
   {
    "duration": 57,
    "start_time": "2023-03-03T14:35:00.316Z"
   },
   {
    "duration": 1953,
    "start_time": "2023-03-03T14:35:00.376Z"
   },
   {
    "duration": 20,
    "start_time": "2023-03-03T14:35:02.331Z"
   },
   {
    "duration": 44,
    "start_time": "2023-03-03T14:35:02.353Z"
   },
   {
    "duration": 10,
    "start_time": "2023-03-03T14:35:02.399Z"
   },
   {
    "duration": 25,
    "start_time": "2023-03-03T14:35:02.410Z"
   },
   {
    "duration": 43,
    "start_time": "2023-03-03T14:35:02.437Z"
   },
   {
    "duration": 26,
    "start_time": "2023-03-03T14:35:02.481Z"
   },
   {
    "duration": 5,
    "start_time": "2023-03-03T14:35:04.832Z"
   },
   {
    "duration": 5,
    "start_time": "2023-03-03T14:35:05.976Z"
   },
   {
    "duration": 1409,
    "start_time": "2023-03-03T14:35:09.203Z"
   },
   {
    "duration": 4,
    "start_time": "2023-03-03T14:35:11.899Z"
   },
   {
    "duration": 11,
    "start_time": "2023-03-03T14:36:07.712Z"
   },
   {
    "duration": 5,
    "start_time": "2023-03-03T14:36:13.816Z"
   },
   {
    "duration": 14913,
    "start_time": "2023-03-03T14:36:14.985Z"
   },
   {
    "duration": 12,
    "start_time": "2023-03-03T14:36:40.264Z"
   },
   {
    "duration": 51,
    "start_time": "2023-03-03T17:02:36.411Z"
   },
   {
    "duration": 850,
    "start_time": "2023-03-03T17:02:45.512Z"
   },
   {
    "duration": 225,
    "start_time": "2023-03-03T17:02:46.364Z"
   },
   {
    "duration": 3,
    "start_time": "2023-03-03T17:02:46.590Z"
   },
   {
    "duration": 18,
    "start_time": "2023-03-03T17:02:46.595Z"
   },
   {
    "duration": 80,
    "start_time": "2023-03-03T17:02:46.614Z"
   },
   {
    "duration": 50,
    "start_time": "2023-03-03T17:02:46.696Z"
   },
   {
    "duration": 37,
    "start_time": "2023-03-03T17:02:46.748Z"
   },
   {
    "duration": 1896,
    "start_time": "2023-03-03T17:02:46.786Z"
   },
   {
    "duration": 10,
    "start_time": "2023-03-03T17:02:48.684Z"
   },
   {
    "duration": 4,
    "start_time": "2023-03-03T17:02:48.697Z"
   },
   {
    "duration": 5,
    "start_time": "2023-03-03T17:02:48.703Z"
   },
   {
    "duration": 7,
    "start_time": "2023-03-03T17:02:48.711Z"
   },
   {
    "duration": 8,
    "start_time": "2023-03-03T17:02:48.719Z"
   },
   {
    "duration": 70,
    "start_time": "2023-03-03T17:02:48.728Z"
   },
   {
    "duration": 4,
    "start_time": "2023-03-03T17:02:56.794Z"
   },
   {
    "duration": 5,
    "start_time": "2023-03-03T17:02:58.513Z"
   },
   {
    "duration": 39,
    "start_time": "2023-03-03T17:03:00.849Z"
   },
   {
    "duration": 7,
    "start_time": "2023-03-03T17:03:18.284Z"
   },
   {
    "duration": 5,
    "start_time": "2023-03-03T17:04:10.178Z"
   },
   {
    "duration": 7,
    "start_time": "2023-03-03T17:05:11.997Z"
   },
   {
    "duration": 12863,
    "start_time": "2023-03-03T17:12:30.681Z"
   },
   {
    "duration": 12,
    "start_time": "2023-03-03T17:12:43.547Z"
   },
   {
    "duration": 3,
    "start_time": "2023-03-03T17:12:47.072Z"
   },
   {
    "duration": 171,
    "start_time": "2023-03-03T17:12:47.089Z"
   },
   {
    "duration": 3,
    "start_time": "2023-03-03T17:12:47.262Z"
   },
   {
    "duration": 22,
    "start_time": "2023-03-03T17:12:47.266Z"
   },
   {
    "duration": 82,
    "start_time": "2023-03-03T17:12:47.290Z"
   },
   {
    "duration": 41,
    "start_time": "2023-03-03T17:12:47.374Z"
   },
   {
    "duration": 31,
    "start_time": "2023-03-03T17:12:47.417Z"
   },
   {
    "duration": 1961,
    "start_time": "2023-03-03T17:12:47.449Z"
   },
   {
    "duration": 11,
    "start_time": "2023-03-03T17:12:49.412Z"
   },
   {
    "duration": 5,
    "start_time": "2023-03-03T17:12:49.425Z"
   },
   {
    "duration": 8,
    "start_time": "2023-03-03T17:12:49.431Z"
   },
   {
    "duration": 8,
    "start_time": "2023-03-03T17:12:49.441Z"
   },
   {
    "duration": 5,
    "start_time": "2023-03-03T17:12:49.451Z"
   },
   {
    "duration": 5,
    "start_time": "2023-03-03T17:12:49.457Z"
   },
   {
    "duration": 5,
    "start_time": "2023-03-03T17:12:56.885Z"
   },
   {
    "duration": 13170,
    "start_time": "2023-03-03T17:13:03.887Z"
   },
   {
    "duration": 8,
    "start_time": "2023-03-03T17:13:17.059Z"
   },
   {
    "duration": 10,
    "start_time": "2023-03-03T17:18:52.890Z"
   },
   {
    "duration": 16,
    "start_time": "2023-03-03T17:23:29.029Z"
   },
   {
    "duration": 3,
    "start_time": "2023-03-03T17:27:12.503Z"
   },
   {
    "duration": 690,
    "start_time": "2023-03-03T17:27:12.515Z"
   },
   {
    "duration": 4,
    "start_time": "2023-03-03T17:27:13.207Z"
   },
   {
    "duration": 17,
    "start_time": "2023-03-03T17:27:13.212Z"
   },
   {
    "duration": 97,
    "start_time": "2023-03-03T17:27:13.231Z"
   },
   {
    "duration": 35,
    "start_time": "2023-03-03T17:27:13.331Z"
   },
   {
    "duration": 54,
    "start_time": "2023-03-03T17:27:13.368Z"
   },
   {
    "duration": 2133,
    "start_time": "2023-03-03T17:27:13.424Z"
   },
   {
    "duration": 11,
    "start_time": "2023-03-03T17:27:15.559Z"
   },
   {
    "duration": 6,
    "start_time": "2023-03-03T17:27:15.572Z"
   },
   {
    "duration": 13,
    "start_time": "2023-03-03T17:27:15.580Z"
   },
   {
    "duration": 9,
    "start_time": "2023-03-03T17:27:15.613Z"
   },
   {
    "duration": 9,
    "start_time": "2023-03-03T17:27:15.624Z"
   },
   {
    "duration": 11,
    "start_time": "2023-03-03T17:27:15.635Z"
   },
   {
    "duration": 6,
    "start_time": "2023-03-03T17:27:15.650Z"
   },
   {
    "duration": 13505,
    "start_time": "2023-03-03T17:27:15.659Z"
   },
   {
    "duration": 9,
    "start_time": "2023-03-03T17:27:29.165Z"
   },
   {
    "duration": 8,
    "start_time": "2023-03-03T17:27:29.176Z"
   },
   {
    "duration": 43,
    "start_time": "2023-03-03T17:27:29.189Z"
   },
   {
    "duration": 7,
    "start_time": "2023-03-03T17:27:35.767Z"
   },
   {
    "duration": 15,
    "start_time": "2023-03-03T17:27:37.131Z"
   },
   {
    "duration": 28,
    "start_time": "2023-03-03T17:29:27.125Z"
   },
   {
    "duration": 13,
    "start_time": "2023-03-03T17:30:54.038Z"
   },
   {
    "duration": 8,
    "start_time": "2023-03-03T17:30:58.971Z"
   },
   {
    "duration": 15,
    "start_time": "2023-03-03T17:31:00.915Z"
   },
   {
    "duration": 12,
    "start_time": "2023-03-03T17:31:45.566Z"
   },
   {
    "duration": 14,
    "start_time": "2023-03-03T17:31:47.312Z"
   },
   {
    "duration": 17,
    "start_time": "2023-03-03T17:31:48.511Z"
   },
   {
    "duration": 45,
    "start_time": "2023-03-03T19:23:57.103Z"
   },
   {
    "duration": 754,
    "start_time": "2023-03-03T19:24:04.344Z"
   },
   {
    "duration": 308,
    "start_time": "2023-03-03T19:24:05.100Z"
   },
   {
    "duration": 2,
    "start_time": "2023-03-03T19:24:05.410Z"
   },
   {
    "duration": 22,
    "start_time": "2023-03-03T19:24:05.414Z"
   },
   {
    "duration": 73,
    "start_time": "2023-03-03T19:24:05.438Z"
   },
   {
    "duration": 28,
    "start_time": "2023-03-03T19:24:05.522Z"
   },
   {
    "duration": 28,
    "start_time": "2023-03-03T19:24:05.552Z"
   },
   {
    "duration": 1832,
    "start_time": "2023-03-03T19:24:05.582Z"
   },
   {
    "duration": 9,
    "start_time": "2023-03-03T19:24:07.415Z"
   },
   {
    "duration": 5,
    "start_time": "2023-03-03T19:24:07.426Z"
   },
   {
    "duration": 22,
    "start_time": "2023-03-03T19:24:07.433Z"
   },
   {
    "duration": 12,
    "start_time": "2023-03-03T19:24:07.457Z"
   },
   {
    "duration": 17,
    "start_time": "2023-03-03T19:24:07.471Z"
   },
   {
    "duration": 25,
    "start_time": "2023-03-03T19:24:07.491Z"
   },
   {
    "duration": 11,
    "start_time": "2023-03-03T19:24:07.518Z"
   },
   {
    "duration": 12048,
    "start_time": "2023-03-03T19:24:07.531Z"
   },
   {
    "duration": 9,
    "start_time": "2023-03-03T19:24:19.581Z"
   },
   {
    "duration": 28,
    "start_time": "2023-03-03T19:24:19.592Z"
   },
   {
    "duration": 13,
    "start_time": "2023-03-03T19:24:19.622Z"
   },
   {
    "duration": 11,
    "start_time": "2023-03-03T19:24:37.177Z"
   },
   {
    "duration": 7,
    "start_time": "2023-03-03T19:24:40.177Z"
   },
   {
    "duration": 13,
    "start_time": "2023-03-03T19:24:41.480Z"
   },
   {
    "duration": 6,
    "start_time": "2023-03-03T19:24:44.972Z"
   },
   {
    "duration": 38,
    "start_time": "2023-03-03T19:34:03.734Z"
   },
   {
    "duration": 15,
    "start_time": "2023-03-03T19:34:19.175Z"
   },
   {
    "duration": 6,
    "start_time": "2023-03-03T19:34:34.532Z"
   },
   {
    "duration": 14,
    "start_time": "2023-03-03T19:35:49.969Z"
   },
   {
    "duration": 11,
    "start_time": "2023-03-03T19:42:46.814Z"
   },
   {
    "duration": 14,
    "start_time": "2023-03-03T19:43:08.992Z"
   },
   {
    "duration": 16,
    "start_time": "2023-03-03T19:43:14.042Z"
   },
   {
    "duration": 5,
    "start_time": "2023-03-03T19:43:16.611Z"
   },
   {
    "duration": 20,
    "start_time": "2023-03-03T19:44:19.959Z"
   },
   {
    "duration": 10,
    "start_time": "2023-03-03T19:44:31.516Z"
   },
   {
    "duration": 9,
    "start_time": "2023-03-03T19:44:46.349Z"
   },
   {
    "duration": 22,
    "start_time": "2023-03-03T19:45:36.498Z"
   },
   {
    "duration": 5,
    "start_time": "2023-03-03T19:45:39.413Z"
   },
   {
    "duration": 3,
    "start_time": "2023-03-03T19:46:29.307Z"
   },
   {
    "duration": 215,
    "start_time": "2023-03-03T19:46:29.312Z"
   },
   {
    "duration": 7,
    "start_time": "2023-03-03T19:46:29.529Z"
   },
   {
    "duration": 16,
    "start_time": "2023-03-03T19:46:29.541Z"
   },
   {
    "duration": 92,
    "start_time": "2023-03-03T19:46:29.559Z"
   },
   {
    "duration": 29,
    "start_time": "2023-03-03T19:46:29.652Z"
   },
   {
    "duration": 55,
    "start_time": "2023-03-03T19:46:29.683Z"
   },
   {
    "duration": 2027,
    "start_time": "2023-03-03T19:46:29.740Z"
   },
   {
    "duration": 9,
    "start_time": "2023-03-03T19:46:31.769Z"
   },
   {
    "duration": 14,
    "start_time": "2023-03-03T19:46:31.779Z"
   },
   {
    "duration": 6,
    "start_time": "2023-03-03T19:46:31.795Z"
   },
   {
    "duration": 37,
    "start_time": "2023-03-03T19:46:31.802Z"
   },
   {
    "duration": 12,
    "start_time": "2023-03-03T19:46:31.841Z"
   },
   {
    "duration": 9,
    "start_time": "2023-03-03T19:46:31.855Z"
   },
   {
    "duration": 5,
    "start_time": "2023-03-03T19:46:31.865Z"
   },
   {
    "duration": 12910,
    "start_time": "2023-03-03T19:46:31.872Z"
   },
   {
    "duration": 8,
    "start_time": "2023-03-03T19:46:44.784Z"
   },
   {
    "duration": 9,
    "start_time": "2023-03-03T19:46:44.793Z"
   },
   {
    "duration": 30,
    "start_time": "2023-03-03T19:46:44.804Z"
   },
   {
    "duration": 15,
    "start_time": "2023-03-03T19:46:44.837Z"
   },
   {
    "duration": 8,
    "start_time": "2023-03-03T19:46:44.857Z"
   },
   {
    "duration": 19,
    "start_time": "2023-03-03T19:46:44.866Z"
   },
   {
    "duration": 5,
    "start_time": "2023-03-03T19:46:44.886Z"
   },
   {
    "duration": 18,
    "start_time": "2023-03-03T19:46:49.974Z"
   },
   {
    "duration": 35,
    "start_time": "2023-03-03T19:46:55.297Z"
   },
   {
    "duration": 4,
    "start_time": "2023-03-03T19:46:56.592Z"
   },
   {
    "duration": 4,
    "start_time": "2023-03-03T19:47:06.314Z"
   },
   {
    "duration": 3,
    "start_time": "2023-03-03T19:47:16.486Z"
   },
   {
    "duration": 12,
    "start_time": "2023-03-03T19:47:20.572Z"
   },
   {
    "duration": 4,
    "start_time": "2023-03-03T19:47:29.020Z"
   },
   {
    "duration": 213,
    "start_time": "2023-03-03T19:47:29.034Z"
   },
   {
    "duration": 3,
    "start_time": "2023-03-03T19:47:29.250Z"
   },
   {
    "duration": 14,
    "start_time": "2023-03-03T19:47:29.255Z"
   },
   {
    "duration": 93,
    "start_time": "2023-03-03T19:47:29.272Z"
   },
   {
    "duration": 35,
    "start_time": "2023-03-03T19:47:29.367Z"
   },
   {
    "duration": 34,
    "start_time": "2023-03-03T19:47:29.420Z"
   },
   {
    "duration": 2111,
    "start_time": "2023-03-03T19:47:29.456Z"
   },
   {
    "duration": 10,
    "start_time": "2023-03-03T19:47:31.569Z"
   },
   {
    "duration": 18,
    "start_time": "2023-03-03T19:47:31.582Z"
   },
   {
    "duration": 17,
    "start_time": "2023-03-03T19:47:31.602Z"
   },
   {
    "duration": 22,
    "start_time": "2023-03-03T19:47:31.625Z"
   },
   {
    "duration": 6,
    "start_time": "2023-03-03T19:47:31.649Z"
   },
   {
    "duration": 17,
    "start_time": "2023-03-03T19:47:31.657Z"
   },
   {
    "duration": 8,
    "start_time": "2023-03-03T19:47:31.676Z"
   },
   {
    "duration": 14178,
    "start_time": "2023-03-03T19:47:31.685Z"
   },
   {
    "duration": 13,
    "start_time": "2023-03-03T19:47:45.865Z"
   },
   {
    "duration": 9,
    "start_time": "2023-03-03T19:47:45.881Z"
   },
   {
    "duration": 43,
    "start_time": "2023-03-03T19:47:45.892Z"
   },
   {
    "duration": 17,
    "start_time": "2023-03-03T19:47:45.939Z"
   },
   {
    "duration": 12,
    "start_time": "2023-03-03T19:47:45.958Z"
   },
   {
    "duration": 20,
    "start_time": "2023-03-03T19:47:45.973Z"
   },
   {
    "duration": 28,
    "start_time": "2023-03-03T19:47:45.996Z"
   },
   {
    "duration": 25,
    "start_time": "2023-03-03T19:47:46.026Z"
   },
   {
    "duration": 8,
    "start_time": "2023-03-03T19:47:46.053Z"
   },
   {
    "duration": 3,
    "start_time": "2023-03-03T19:47:46.064Z"
   },
   {
    "duration": 9,
    "start_time": "2023-03-03T19:47:46.070Z"
   },
   {
    "duration": 3,
    "start_time": "2023-03-03T19:47:46.083Z"
   },
   {
    "duration": 3,
    "start_time": "2023-03-03T19:49:38.755Z"
   },
   {
    "duration": 185,
    "start_time": "2023-03-03T19:49:39.969Z"
   },
   {
    "duration": 3,
    "start_time": "2023-03-03T19:49:41.179Z"
   },
   {
    "duration": 8,
    "start_time": "2023-03-03T19:49:56.273Z"
   },
   {
    "duration": 4,
    "start_time": "2023-03-03T19:50:06.218Z"
   },
   {
    "duration": 210,
    "start_time": "2023-03-03T19:50:06.224Z"
   },
   {
    "duration": 3,
    "start_time": "2023-03-03T19:50:06.437Z"
   },
   {
    "duration": 23,
    "start_time": "2023-03-03T19:50:06.441Z"
   },
   {
    "duration": 79,
    "start_time": "2023-03-03T19:50:06.466Z"
   },
   {
    "duration": 30,
    "start_time": "2023-03-03T19:50:06.547Z"
   },
   {
    "duration": 61,
    "start_time": "2023-03-03T19:50:06.580Z"
   },
   {
    "duration": 1829,
    "start_time": "2023-03-03T19:50:06.643Z"
   },
   {
    "duration": 9,
    "start_time": "2023-03-03T19:50:08.473Z"
   },
   {
    "duration": 13,
    "start_time": "2023-03-03T19:50:08.484Z"
   },
   {
    "duration": 5,
    "start_time": "2023-03-03T19:50:08.499Z"
   },
   {
    "duration": 29,
    "start_time": "2023-03-03T19:50:08.506Z"
   },
   {
    "duration": 5,
    "start_time": "2023-03-03T19:50:08.537Z"
   },
   {
    "duration": 3,
    "start_time": "2023-03-03T19:50:08.546Z"
   },
   {
    "duration": 6,
    "start_time": "2023-03-03T19:50:08.550Z"
   },
   {
    "duration": 13431,
    "start_time": "2023-03-03T19:50:08.558Z"
   },
   {
    "duration": 8,
    "start_time": "2023-03-03T19:50:21.991Z"
   },
   {
    "duration": 25,
    "start_time": "2023-03-03T19:50:22.001Z"
   },
   {
    "duration": 15,
    "start_time": "2023-03-03T19:50:22.031Z"
   },
   {
    "duration": 9,
    "start_time": "2023-03-03T19:50:22.047Z"
   },
   {
    "duration": 7,
    "start_time": "2023-03-03T19:50:22.058Z"
   },
   {
    "duration": 14,
    "start_time": "2023-03-03T19:50:22.067Z"
   },
   {
    "duration": 6,
    "start_time": "2023-03-03T19:50:30.134Z"
   },
   {
    "duration": 19,
    "start_time": "2023-03-03T19:52:34.319Z"
   },
   {
    "duration": 24,
    "start_time": "2023-03-03T19:52:59.634Z"
   },
   {
    "duration": 7,
    "start_time": "2023-03-03T19:53:18.272Z"
   },
   {
    "duration": 20,
    "start_time": "2023-03-03T19:54:24.508Z"
   },
   {
    "duration": 5,
    "start_time": "2023-03-03T19:54:26.234Z"
   },
   {
    "duration": 73,
    "start_time": "2023-03-03T19:57:41.362Z"
   },
   {
    "duration": 37,
    "start_time": "2023-03-03T19:57:57.413Z"
   },
   {
    "duration": 5,
    "start_time": "2023-03-03T19:58:15.163Z"
   },
   {
    "duration": 68,
    "start_time": "2023-03-03T20:01:19.962Z"
   },
   {
    "duration": 31,
    "start_time": "2023-03-03T20:01:27.683Z"
   },
   {
    "duration": 6,
    "start_time": "2023-03-03T20:01:31.924Z"
   },
   {
    "duration": 3,
    "start_time": "2023-03-03T20:01:52.501Z"
   },
   {
    "duration": 327,
    "start_time": "2023-03-03T20:01:52.507Z"
   },
   {
    "duration": 2,
    "start_time": "2023-03-03T20:01:52.836Z"
   },
   {
    "duration": 14,
    "start_time": "2023-03-03T20:01:52.840Z"
   },
   {
    "duration": 84,
    "start_time": "2023-03-03T20:01:52.856Z"
   },
   {
    "duration": 33,
    "start_time": "2023-03-03T20:01:52.943Z"
   },
   {
    "duration": 44,
    "start_time": "2023-03-03T20:01:52.977Z"
   },
   {
    "duration": 1883,
    "start_time": "2023-03-03T20:01:53.023Z"
   },
   {
    "duration": 18,
    "start_time": "2023-03-03T20:01:54.909Z"
   },
   {
    "duration": 3,
    "start_time": "2023-03-03T20:01:54.929Z"
   },
   {
    "duration": 5,
    "start_time": "2023-03-03T20:01:54.933Z"
   },
   {
    "duration": 7,
    "start_time": "2023-03-03T20:01:54.939Z"
   },
   {
    "duration": 5,
    "start_time": "2023-03-03T20:01:54.947Z"
   },
   {
    "duration": 5,
    "start_time": "2023-03-03T20:01:54.954Z"
   },
   {
    "duration": 11,
    "start_time": "2023-03-03T20:01:54.961Z"
   },
   {
    "duration": 12286,
    "start_time": "2023-03-03T20:01:54.974Z"
   },
   {
    "duration": 7,
    "start_time": "2023-03-03T20:02:07.262Z"
   },
   {
    "duration": 11,
    "start_time": "2023-03-03T20:02:07.271Z"
   },
   {
    "duration": 15,
    "start_time": "2023-03-03T20:02:07.283Z"
   },
   {
    "duration": 27,
    "start_time": "2023-03-03T20:02:07.299Z"
   },
   {
    "duration": 8,
    "start_time": "2023-03-03T20:02:07.327Z"
   },
   {
    "duration": 34,
    "start_time": "2023-03-03T20:02:07.337Z"
   },
   {
    "duration": 6,
    "start_time": "2023-03-03T20:02:10.819Z"
   },
   {
    "duration": 39,
    "start_time": "2023-03-03T20:02:18.258Z"
   },
   {
    "duration": 6,
    "start_time": "2023-03-03T20:02:21.929Z"
   },
   {
    "duration": 58,
    "start_time": "2023-03-03T20:03:24.669Z"
   },
   {
    "duration": 5,
    "start_time": "2023-03-03T20:03:26.586Z"
   },
   {
    "duration": 1406,
    "start_time": "2023-03-03T20:15:13.443Z"
   },
   {
    "duration": 8,
    "start_time": "2023-03-03T20:15:30.960Z"
   },
   {
    "duration": 10,
    "start_time": "2023-03-03T20:15:49.088Z"
   },
   {
    "duration": 9,
    "start_time": "2023-03-03T20:16:03.737Z"
   },
   {
    "duration": 6,
    "start_time": "2023-03-03T20:16:20.974Z"
   },
   {
    "duration": 14,
    "start_time": "2023-03-03T20:17:07.323Z"
   },
   {
    "duration": 5,
    "start_time": "2023-03-03T20:17:13.403Z"
   },
   {
    "duration": 42,
    "start_time": "2023-03-03T20:17:56.657Z"
   },
   {
    "duration": 9,
    "start_time": "2023-03-03T20:18:09.800Z"
   },
   {
    "duration": 10,
    "start_time": "2023-03-03T20:18:28.538Z"
   },
   {
    "duration": 10,
    "start_time": "2023-03-03T20:18:53.963Z"
   },
   {
    "duration": 10,
    "start_time": "2023-03-03T20:19:03.069Z"
   },
   {
    "duration": 12,
    "start_time": "2023-03-03T20:19:10.134Z"
   },
   {
    "duration": 11,
    "start_time": "2023-03-03T20:19:16.984Z"
   },
   {
    "duration": 67,
    "start_time": "2023-03-03T20:20:24.065Z"
   },
   {
    "duration": 44,
    "start_time": "2023-03-03T20:21:14.314Z"
   },
   {
    "duration": 26,
    "start_time": "2023-03-03T20:21:43.415Z"
   },
   {
    "duration": 81,
    "start_time": "2023-03-03T20:23:33.154Z"
   },
   {
    "duration": 34,
    "start_time": "2023-03-03T20:31:00.066Z"
   },
   {
    "duration": 9,
    "start_time": "2023-03-03T20:31:59.938Z"
   },
   {
    "duration": 16,
    "start_time": "2023-03-03T20:32:08.266Z"
   },
   {
    "duration": 7,
    "start_time": "2023-03-03T20:33:28.256Z"
   },
   {
    "duration": 9,
    "start_time": "2023-03-03T20:33:43.161Z"
   },
   {
    "duration": 13,
    "start_time": "2023-03-03T20:34:20.475Z"
   },
   {
    "duration": 15,
    "start_time": "2023-03-03T20:34:29.285Z"
   },
   {
    "duration": 88,
    "start_time": "2023-03-03T20:35:27.702Z"
   },
   {
    "duration": 3,
    "start_time": "2023-03-03T20:35:32.585Z"
   },
   {
    "duration": 43,
    "start_time": "2023-03-03T20:35:42.909Z"
   },
   {
    "duration": 3,
    "start_time": "2023-03-03T20:36:42.612Z"
   },
   {
    "duration": 37,
    "start_time": "2023-03-03T20:36:54.788Z"
   },
   {
    "duration": 33,
    "start_time": "2023-03-03T20:37:05.134Z"
   },
   {
    "duration": 25,
    "start_time": "2023-03-03T20:37:16.016Z"
   },
   {
    "duration": 24,
    "start_time": "2023-03-03T20:37:28.666Z"
   },
   {
    "duration": 30,
    "start_time": "2023-03-03T20:37:43.265Z"
   },
   {
    "duration": 3,
    "start_time": "2023-03-03T20:39:58.276Z"
   },
   {
    "duration": 49,
    "start_time": "2023-03-03T20:40:07.597Z"
   },
   {
    "duration": 42,
    "start_time": "2023-03-03T20:40:28.895Z"
   },
   {
    "duration": 36,
    "start_time": "2023-03-03T20:42:43.767Z"
   },
   {
    "duration": 39,
    "start_time": "2023-03-03T20:43:14.199Z"
   },
   {
    "duration": 21,
    "start_time": "2023-03-03T20:45:27.193Z"
   },
   {
    "duration": 19,
    "start_time": "2023-03-03T20:45:39.737Z"
   },
   {
    "duration": 37,
    "start_time": "2023-03-03T20:45:47.822Z"
   },
   {
    "duration": 3,
    "start_time": "2023-03-03T20:46:40.716Z"
   },
   {
    "duration": 3,
    "start_time": "2023-03-03T20:48:34.468Z"
   },
   {
    "duration": 8,
    "start_time": "2023-03-03T20:48:53.012Z"
   },
   {
    "duration": 8,
    "start_time": "2023-03-03T20:51:27.967Z"
   },
   {
    "duration": 50,
    "start_time": "2023-03-03T20:54:55.495Z"
   },
   {
    "duration": 34,
    "start_time": "2023-03-03T20:55:10.969Z"
   },
   {
    "duration": 44,
    "start_time": "2023-03-03T20:55:17.912Z"
   },
   {
    "duration": 38,
    "start_time": "2023-03-03T20:55:52.697Z"
   },
   {
    "duration": 33,
    "start_time": "2023-03-03T20:58:47.466Z"
   },
   {
    "duration": 4,
    "start_time": "2023-03-03T21:05:04.863Z"
   },
   {
    "duration": 37,
    "start_time": "2023-03-03T21:05:19.223Z"
   },
   {
    "duration": 40,
    "start_time": "2023-03-03T21:36:16.318Z"
   },
   {
    "duration": 10,
    "start_time": "2023-03-03T21:36:47.478Z"
   },
   {
    "duration": 8,
    "start_time": "2023-03-03T21:36:54.574Z"
   },
   {
    "duration": 9,
    "start_time": "2023-03-03T21:37:04.989Z"
   },
   {
    "duration": 15,
    "start_time": "2023-03-03T21:37:10.940Z"
   },
   {
    "duration": 1343,
    "start_time": "2023-03-06T09:07:09.336Z"
   },
   {
    "duration": 672,
    "start_time": "2023-03-06T09:07:10.691Z"
   },
   {
    "duration": 8,
    "start_time": "2023-03-06T09:07:11.396Z"
   },
   {
    "duration": 34,
    "start_time": "2023-03-06T09:07:14.801Z"
   },
   {
    "duration": 175,
    "start_time": "2023-03-06T09:07:18.627Z"
   },
   {
    "duration": 77,
    "start_time": "2023-03-06T09:07:21.290Z"
   },
   {
    "duration": 63,
    "start_time": "2023-03-06T09:07:24.044Z"
   },
   {
    "duration": 2654,
    "start_time": "2023-03-06T09:07:34.373Z"
   },
   {
    "duration": 27,
    "start_time": "2023-03-06T09:08:26.232Z"
   },
   {
    "duration": 24,
    "start_time": "2023-03-06T09:08:31.807Z"
   },
   {
    "duration": 6,
    "start_time": "2023-03-06T09:08:34.207Z"
   },
   {
    "duration": 13,
    "start_time": "2023-03-06T09:08:35.570Z"
   },
   {
    "duration": 16,
    "start_time": "2023-03-06T09:08:37.132Z"
   },
   {
    "duration": 12,
    "start_time": "2023-03-06T09:08:39.191Z"
   },
   {
    "duration": 20,
    "start_time": "2023-03-06T09:08:40.735Z"
   },
   {
    "duration": 21825,
    "start_time": "2023-03-06T09:08:41.990Z"
   },
   {
    "duration": 47,
    "start_time": "2023-03-06T09:09:28.608Z"
   },
   {
    "duration": 38,
    "start_time": "2023-03-06T09:10:16.695Z"
   },
   {
    "duration": 34,
    "start_time": "2023-03-06T09:10:23.095Z"
   },
   {
    "duration": 27,
    "start_time": "2023-03-06T09:10:36.148Z"
   },
   {
    "duration": 17,
    "start_time": "2023-03-06T09:10:38.484Z"
   },
   {
    "duration": 14,
    "start_time": "2023-03-06T09:11:08.097Z"
   },
   {
    "duration": 15,
    "start_time": "2023-03-06T09:11:14.167Z"
   },
   {
    "duration": 94,
    "start_time": "2023-03-06T09:11:26.109Z"
   },
   {
    "duration": 84,
    "start_time": "2023-03-06T09:12:14.191Z"
   },
   {
    "duration": 135,
    "start_time": "2023-03-06T09:13:10.976Z"
   },
   {
    "duration": 3535,
    "start_time": "2023-03-06T09:15:46.432Z"
   },
   {
    "duration": 9,
    "start_time": "2023-03-06T09:16:03.591Z"
   },
   {
    "duration": 64,
    "start_time": "2023-03-06T09:16:20.587Z"
   },
   {
    "duration": 89,
    "start_time": "2023-03-06T09:18:35.307Z"
   },
   {
    "duration": 86,
    "start_time": "2023-03-06T09:21:45.547Z"
   },
   {
    "duration": 38,
    "start_time": "2023-03-06T09:21:51.637Z"
   },
   {
    "duration": 6,
    "start_time": "2023-03-06T09:22:04.483Z"
   },
   {
    "duration": 207,
    "start_time": "2023-03-06T09:22:32.944Z"
   },
   {
    "duration": 71,
    "start_time": "2023-03-06T09:22:55.308Z"
   },
   {
    "duration": 69,
    "start_time": "2023-03-06T09:24:02.995Z"
   },
   {
    "duration": 98,
    "start_time": "2023-03-06T09:24:44.704Z"
   },
   {
    "duration": 88,
    "start_time": "2023-03-06T09:35:00.175Z"
   },
   {
    "duration": 15,
    "start_time": "2023-03-06T09:35:14.278Z"
   },
   {
    "duration": 9,
    "start_time": "2023-03-06T09:36:26.381Z"
   },
   {
    "duration": 23,
    "start_time": "2023-03-06T09:36:46.548Z"
   },
   {
    "duration": 1292,
    "start_time": "2023-03-06T09:38:04.284Z"
   },
   {
    "duration": 971,
    "start_time": "2023-03-06T09:38:21.492Z"
   },
   {
    "duration": 52,
    "start_time": "2023-03-06T09:38:46.108Z"
   },
   {
    "duration": 31,
    "start_time": "2023-03-06T09:39:41.046Z"
   },
   {
    "duration": 26,
    "start_time": "2023-03-06T09:43:29.271Z"
   },
   {
    "duration": 1263,
    "start_time": "2023-03-06T09:48:47.408Z"
   },
   {
    "duration": 55,
    "start_time": "2023-03-06T09:49:07.605Z"
   },
   {
    "duration": 51,
    "start_time": "2023-03-06T09:51:22.518Z"
   },
   {
    "duration": 11,
    "start_time": "2023-03-06T09:53:02.102Z"
   },
   {
    "duration": 13,
    "start_time": "2023-03-06T09:53:14.705Z"
   },
   {
    "duration": 8,
    "start_time": "2023-03-06T09:53:30.301Z"
   },
   {
    "duration": 8,
    "start_time": "2023-03-06T09:53:44.620Z"
   },
   {
    "duration": 16,
    "start_time": "2023-03-06T09:54:09.138Z"
   },
   {
    "duration": 22,
    "start_time": "2023-03-06T09:55:00.309Z"
   },
   {
    "duration": 103,
    "start_time": "2023-03-06T10:27:09.211Z"
   },
   {
    "duration": 10,
    "start_time": "2023-03-06T10:27:19.627Z"
   },
   {
    "duration": 10,
    "start_time": "2023-03-06T10:27:41.117Z"
   },
   {
    "duration": 5,
    "start_time": "2023-03-06T10:28:39.912Z"
   },
   {
    "duration": 6,
    "start_time": "2023-03-06T10:28:46.937Z"
   },
   {
    "duration": 10,
    "start_time": "2023-03-06T10:28:56.447Z"
   },
   {
    "duration": 10,
    "start_time": "2023-03-06T10:29:22.417Z"
   },
   {
    "duration": 98,
    "start_time": "2023-03-06T10:36:08.816Z"
   },
   {
    "duration": 61,
    "start_time": "2023-03-06T10:36:41.244Z"
   },
   {
    "duration": 99,
    "start_time": "2023-03-06T10:36:56.935Z"
   },
   {
    "duration": 75,
    "start_time": "2023-03-06T10:36:58.545Z"
   },
   {
    "duration": 101,
    "start_time": "2023-03-06T10:37:43.234Z"
   },
   {
    "duration": 21,
    "start_time": "2023-03-06T10:37:54.202Z"
   },
   {
    "duration": 27,
    "start_time": "2023-03-06T10:37:58.501Z"
   },
   {
    "duration": 15,
    "start_time": "2023-03-06T10:38:55.913Z"
   },
   {
    "duration": 29,
    "start_time": "2023-03-06T10:39:04.727Z"
   },
   {
    "duration": 30,
    "start_time": "2023-03-06T10:43:33.081Z"
   },
   {
    "duration": 28,
    "start_time": "2023-03-06T10:43:41.095Z"
   },
   {
    "duration": 1411,
    "start_time": "2023-03-06T10:47:07.437Z"
   },
   {
    "duration": 27,
    "start_time": "2023-03-06T10:47:26.394Z"
   },
   {
    "duration": 11,
    "start_time": "2023-03-06T10:48:05.700Z"
   },
   {
    "duration": 8,
    "start_time": "2023-03-06T10:48:28.789Z"
   },
   {
    "duration": 158,
    "start_time": "2023-03-06T10:48:53.721Z"
   },
   {
    "duration": 218,
    "start_time": "2023-03-06T10:49:10.597Z"
   },
   {
    "duration": 229,
    "start_time": "2023-03-06T10:49:39.115Z"
   },
   {
    "duration": 237,
    "start_time": "2023-03-06T10:49:56.586Z"
   },
   {
    "duration": 208,
    "start_time": "2023-03-06T10:50:19.200Z"
   },
   {
    "duration": 277,
    "start_time": "2023-03-06T10:51:05.285Z"
   },
   {
    "duration": 215,
    "start_time": "2023-03-06T10:51:21.488Z"
   },
   {
    "duration": 220,
    "start_time": "2023-03-06T10:51:32.985Z"
   },
   {
    "duration": 218,
    "start_time": "2023-03-06T10:51:58.020Z"
   },
   {
    "duration": 184,
    "start_time": "2023-03-06T10:52:01.789Z"
   },
   {
    "duration": 168,
    "start_time": "2023-03-06T10:52:34.588Z"
   },
   {
    "duration": 321,
    "start_time": "2023-03-06T10:53:47.570Z"
   },
   {
    "duration": 475,
    "start_time": "2023-03-06T10:54:21.193Z"
   },
   {
    "duration": 568,
    "start_time": "2023-03-06T10:54:36.983Z"
   },
   {
    "duration": 536,
    "start_time": "2023-03-06T10:55:37.812Z"
   },
   {
    "duration": 477,
    "start_time": "2023-03-06T10:56:28.689Z"
   },
   {
    "duration": 545,
    "start_time": "2023-03-06T10:56:48.686Z"
   },
   {
    "duration": 462,
    "start_time": "2023-03-06T10:57:01.096Z"
   },
   {
    "duration": 476,
    "start_time": "2023-03-06T10:57:28.492Z"
   },
   {
    "duration": 144,
    "start_time": "2023-03-06T11:00:55.900Z"
   },
   {
    "duration": 157,
    "start_time": "2023-03-06T11:01:03.912Z"
   },
   {
    "duration": 207,
    "start_time": "2023-03-06T11:04:30.001Z"
   },
   {
    "duration": 219,
    "start_time": "2023-03-06T11:05:26.079Z"
   },
   {
    "duration": 320,
    "start_time": "2023-03-06T11:05:39.755Z"
   },
   {
    "duration": 10,
    "start_time": "2023-03-06T11:06:26.719Z"
   },
   {
    "duration": 176,
    "start_time": "2023-03-06T11:06:34.327Z"
   },
   {
    "duration": 216,
    "start_time": "2023-03-06T11:06:59.088Z"
   },
   {
    "duration": 1820,
    "start_time": "2023-03-06T11:14:53.180Z"
   },
   {
    "duration": 23,
    "start_time": "2023-03-06T11:15:14.008Z"
   },
   {
    "duration": 57,
    "start_time": "2023-03-06T11:17:20.025Z"
   },
   {
    "duration": 64,
    "start_time": "2023-03-06T11:19:35.819Z"
   },
   {
    "duration": 44,
    "start_time": "2023-03-06T11:21:46.393Z"
   },
   {
    "duration": 45,
    "start_time": "2023-03-06T11:22:06.440Z"
   },
   {
    "duration": 10,
    "start_time": "2023-03-06T11:23:31.422Z"
   },
   {
    "duration": 7,
    "start_time": "2023-03-06T11:23:38.311Z"
   },
   {
    "duration": 13,
    "start_time": "2023-03-06T11:23:47.880Z"
   },
   {
    "duration": 155,
    "start_time": "2023-03-06T11:25:03.609Z"
   },
   {
    "duration": 47,
    "start_time": "2023-03-06T11:25:09.911Z"
   },
   {
    "duration": 39,
    "start_time": "2023-03-06T11:25:29.704Z"
   },
   {
    "duration": 37,
    "start_time": "2023-03-06T11:25:40.496Z"
   },
   {
    "duration": 44,
    "start_time": "2023-03-06T11:26:18.813Z"
   },
   {
    "duration": 65,
    "start_time": "2023-03-06T11:26:36.806Z"
   },
   {
    "duration": 9,
    "start_time": "2023-03-06T11:27:23.236Z"
   },
   {
    "duration": 7,
    "start_time": "2023-03-06T11:27:34.013Z"
   },
   {
    "duration": 12,
    "start_time": "2023-03-06T11:30:19.477Z"
   },
   {
    "duration": 7,
    "start_time": "2023-03-06T11:30:28.721Z"
   },
   {
    "duration": 9,
    "start_time": "2023-03-06T11:30:37.212Z"
   },
   {
    "duration": 15,
    "start_time": "2023-03-06T11:30:40.217Z"
   },
   {
    "duration": 24,
    "start_time": "2023-03-06T11:30:43.121Z"
   },
   {
    "duration": 33,
    "start_time": "2023-03-06T11:31:12.806Z"
   },
   {
    "duration": 9,
    "start_time": "2023-03-06T11:35:20.336Z"
   },
   {
    "duration": 59,
    "start_time": "2023-03-06T11:36:31.928Z"
   },
   {
    "duration": 36,
    "start_time": "2023-03-06T11:37:04.704Z"
   },
   {
    "duration": 44,
    "start_time": "2023-03-06T11:37:21.168Z"
   },
   {
    "duration": 23,
    "start_time": "2023-03-06T11:37:41.715Z"
   },
   {
    "duration": 35,
    "start_time": "2023-03-06T11:37:57.338Z"
   },
   {
    "duration": 41,
    "start_time": "2023-03-06T11:38:02.836Z"
   },
   {
    "duration": 55,
    "start_time": "2023-03-06T11:38:49.980Z"
   },
   {
    "duration": 40,
    "start_time": "2023-03-06T11:39:24.484Z"
   },
   {
    "duration": 33,
    "start_time": "2023-03-06T11:39:41.692Z"
   },
   {
    "duration": 8,
    "start_time": "2023-03-06T11:40:37.194Z"
   },
   {
    "duration": 10,
    "start_time": "2023-03-06T11:40:56.313Z"
   },
   {
    "duration": 8,
    "start_time": "2023-03-06T11:41:05.787Z"
   },
   {
    "duration": 21,
    "start_time": "2023-03-06T11:41:21.647Z"
   },
   {
    "duration": 9,
    "start_time": "2023-03-06T11:42:16.904Z"
   },
   {
    "duration": 22,
    "start_time": "2023-03-06T11:43:24.496Z"
   },
   {
    "duration": 21,
    "start_time": "2023-03-06T11:43:35.791Z"
   },
   {
    "duration": 43,
    "start_time": "2023-03-06T11:43:44.535Z"
   },
   {
    "duration": 14,
    "start_time": "2023-03-06T11:44:35.248Z"
   },
   {
    "duration": 15,
    "start_time": "2023-03-06T11:45:49.685Z"
   },
   {
    "duration": 8,
    "start_time": "2023-03-06T11:46:12.638Z"
   },
   {
    "duration": 11,
    "start_time": "2023-03-06T11:46:17.036Z"
   },
   {
    "duration": 18,
    "start_time": "2023-03-06T11:48:21.467Z"
   },
   {
    "duration": 12,
    "start_time": "2023-03-06T11:48:41.106Z"
   },
   {
    "duration": 60,
    "start_time": "2023-03-06T11:48:46.738Z"
   },
   {
    "duration": 48,
    "start_time": "2023-03-06T11:53:21.094Z"
   },
   {
    "duration": 57,
    "start_time": "2023-03-06T11:53:35.336Z"
   },
   {
    "duration": 41,
    "start_time": "2023-03-06T11:56:53.897Z"
   },
   {
    "duration": 49,
    "start_time": "2023-03-06T11:57:04.122Z"
   },
   {
    "duration": 11,
    "start_time": "2023-03-06T11:57:41.495Z"
   },
   {
    "duration": 19,
    "start_time": "2023-03-06T11:57:51.456Z"
   },
   {
    "duration": 9,
    "start_time": "2023-03-06T11:57:59.597Z"
   },
   {
    "duration": 19,
    "start_time": "2023-03-06T11:58:06.687Z"
   },
   {
    "duration": 15,
    "start_time": "2023-03-06T11:58:45.157Z"
   },
   {
    "duration": 9,
    "start_time": "2023-03-06T11:58:54.405Z"
   },
   {
    "duration": 21,
    "start_time": "2023-03-06T11:59:11.892Z"
   },
   {
    "duration": 68,
    "start_time": "2023-03-06T11:59:27.599Z"
   },
   {
    "duration": 56,
    "start_time": "2023-03-06T12:00:06.004Z"
   },
   {
    "duration": 32,
    "start_time": "2023-03-06T12:00:42.695Z"
   },
   {
    "duration": 1505,
    "start_time": "2023-03-06T12:01:22.907Z"
   },
   {
    "duration": 1570,
    "start_time": "2023-03-06T12:01:30.925Z"
   },
   {
    "duration": 90,
    "start_time": "2023-03-06T12:01:40.548Z"
   },
   {
    "duration": 26,
    "start_time": "2023-03-06T12:01:54.647Z"
   },
   {
    "duration": 34,
    "start_time": "2023-03-06T12:02:03.395Z"
   },
   {
    "duration": 49,
    "start_time": "2023-03-06T12:02:12.433Z"
   },
   {
    "duration": 35,
    "start_time": "2023-03-06T12:05:31.801Z"
   },
   {
    "duration": 64,
    "start_time": "2023-03-06T12:05:41.419Z"
   },
   {
    "duration": 59,
    "start_time": "2023-03-06T12:05:49.434Z"
   },
   {
    "duration": 27,
    "start_time": "2023-03-06T12:06:57.092Z"
   },
   {
    "duration": 84,
    "start_time": "2023-03-06T12:08:39.963Z"
   },
   {
    "duration": 6,
    "start_time": "2023-03-06T12:12:11.604Z"
   },
   {
    "duration": 28,
    "start_time": "2023-03-06T12:12:19.297Z"
   },
   {
    "duration": 7,
    "start_time": "2023-03-06T12:13:00.393Z"
   },
   {
    "duration": 39,
    "start_time": "2023-03-06T12:13:42.003Z"
   },
   {
    "duration": 47,
    "start_time": "2023-03-06T12:14:32.834Z"
   },
   {
    "duration": 38,
    "start_time": "2023-03-06T12:17:23.267Z"
   },
   {
    "duration": 37,
    "start_time": "2023-03-06T12:19:13.502Z"
   },
   {
    "duration": 44,
    "start_time": "2023-03-06T12:19:47.504Z"
   },
   {
    "duration": 24,
    "start_time": "2023-03-06T12:20:09.827Z"
   },
   {
    "duration": 98,
    "start_time": "2023-03-06T12:22:37.612Z"
   },
   {
    "duration": 43,
    "start_time": "2023-03-06T12:23:09.322Z"
   },
   {
    "duration": 29,
    "start_time": "2023-03-06T12:24:50.305Z"
   },
   {
    "duration": 23,
    "start_time": "2023-03-06T12:25:36.416Z"
   },
   {
    "duration": 45,
    "start_time": "2023-03-06T12:25:49.631Z"
   },
   {
    "duration": 4,
    "start_time": "2023-03-06T12:31:09.795Z"
   },
   {
    "duration": 10,
    "start_time": "2023-03-06T12:31:30.131Z"
   },
   {
    "duration": 10,
    "start_time": "2023-03-06T12:31:42.226Z"
   },
   {
    "duration": 10,
    "start_time": "2023-03-06T12:32:46.672Z"
   },
   {
    "duration": 152,
    "start_time": "2023-03-06T12:33:05.140Z"
   },
   {
    "duration": 165,
    "start_time": "2023-03-06T12:33:10.681Z"
   },
   {
    "duration": 127,
    "start_time": "2023-03-06T12:34:55.012Z"
   },
   {
    "duration": 109,
    "start_time": "2023-03-06T12:35:04.982Z"
   },
   {
    "duration": 111,
    "start_time": "2023-03-06T12:35:18.524Z"
   },
   {
    "duration": 143,
    "start_time": "2023-03-06T12:35:38.621Z"
   },
   {
    "duration": 160,
    "start_time": "2023-03-06T12:35:50.822Z"
   },
   {
    "duration": 212,
    "start_time": "2023-03-06T12:37:00.704Z"
   },
   {
    "duration": 329,
    "start_time": "2023-03-06T12:37:13.214Z"
   },
   {
    "duration": 350,
    "start_time": "2023-03-06T12:37:51.235Z"
   },
   {
    "duration": 10,
    "start_time": "2023-03-06T12:38:53.349Z"
   },
   {
    "duration": 299,
    "start_time": "2023-03-06T12:38:54.476Z"
   },
   {
    "duration": 288,
    "start_time": "2023-03-06T12:39:46.546Z"
   },
   {
    "duration": 288,
    "start_time": "2023-03-06T12:40:02.513Z"
   },
   {
    "duration": 399,
    "start_time": "2023-03-06T12:40:16.239Z"
   },
   {
    "duration": 318,
    "start_time": "2023-03-06T12:40:44.712Z"
   },
   {
    "duration": 302,
    "start_time": "2023-03-06T12:41:05.520Z"
   },
   {
    "duration": 309,
    "start_time": "2023-03-06T12:41:41.302Z"
   },
   {
    "duration": 319,
    "start_time": "2023-03-06T12:41:50.478Z"
   },
   {
    "duration": 420,
    "start_time": "2023-03-06T12:42:01.509Z"
   },
   {
    "duration": 527,
    "start_time": "2023-03-06T12:42:49.845Z"
   },
   {
    "duration": 478,
    "start_time": "2023-03-06T12:43:07.824Z"
   },
   {
    "duration": 418,
    "start_time": "2023-03-06T12:43:22.107Z"
   },
   {
    "duration": 38,
    "start_time": "2023-03-06T12:44:24.078Z"
   },
   {
    "duration": 37,
    "start_time": "2023-03-06T12:45:48.297Z"
   },
   {
    "duration": 877,
    "start_time": "2023-03-06T16:34:25.376Z"
   },
   {
    "duration": 221,
    "start_time": "2023-03-06T16:34:26.256Z"
   },
   {
    "duration": 4,
    "start_time": "2023-03-06T16:34:26.479Z"
   },
   {
    "duration": 18,
    "start_time": "2023-03-06T16:34:26.484Z"
   },
   {
    "duration": 95,
    "start_time": "2023-03-06T16:34:26.504Z"
   },
   {
    "duration": 45,
    "start_time": "2023-03-06T16:34:26.601Z"
   },
   {
    "duration": 31,
    "start_time": "2023-03-06T16:34:26.648Z"
   },
   {
    "duration": 2164,
    "start_time": "2023-03-06T16:34:26.681Z"
   },
   {
    "duration": 9,
    "start_time": "2023-03-06T16:34:28.848Z"
   },
   {
    "duration": 4,
    "start_time": "2023-03-06T16:34:28.859Z"
   },
   {
    "duration": 5,
    "start_time": "2023-03-06T16:34:28.864Z"
   },
   {
    "duration": 7,
    "start_time": "2023-03-06T16:34:28.871Z"
   },
   {
    "duration": 6,
    "start_time": "2023-03-06T16:34:28.880Z"
   },
   {
    "duration": 5,
    "start_time": "2023-03-06T16:34:28.889Z"
   },
   {
    "duration": 9,
    "start_time": "2023-03-06T16:34:28.896Z"
   },
   {
    "duration": 13427,
    "start_time": "2023-03-06T16:34:28.911Z"
   },
   {
    "duration": 8,
    "start_time": "2023-03-06T16:34:42.341Z"
   },
   {
    "duration": 6,
    "start_time": "2023-03-06T16:34:42.351Z"
   },
   {
    "duration": 13,
    "start_time": "2023-03-06T16:34:42.358Z"
   },
   {
    "duration": 10,
    "start_time": "2023-03-06T16:34:42.373Z"
   },
   {
    "duration": 45,
    "start_time": "2023-03-06T16:34:42.385Z"
   },
   {
    "duration": 15,
    "start_time": "2023-03-06T16:34:42.433Z"
   },
   {
    "duration": 5,
    "start_time": "2023-03-06T16:34:42.450Z"
   },
   {
    "duration": 34,
    "start_time": "2023-03-06T16:34:42.457Z"
   },
   {
    "duration": 62,
    "start_time": "2023-03-06T16:34:42.492Z"
   },
   {
    "duration": 12,
    "start_time": "2023-03-06T16:34:42.555Z"
   },
   {
    "duration": 13,
    "start_time": "2023-03-06T16:34:42.568Z"
   },
   {
    "duration": 48,
    "start_time": "2023-03-06T16:34:42.582Z"
   },
   {
    "duration": 436,
    "start_time": "2023-03-06T16:34:42.631Z"
   },
   {
    "duration": 76,
    "start_time": "2023-03-06T16:34:43.068Z"
   },
   {
    "duration": 0,
    "start_time": "2023-03-06T16:34:43.145Z"
   },
   {
    "duration": 0,
    "start_time": "2023-03-06T16:34:43.146Z"
   },
   {
    "duration": 0,
    "start_time": "2023-03-06T16:34:43.148Z"
   },
   {
    "duration": 0,
    "start_time": "2023-03-06T16:34:43.149Z"
   },
   {
    "duration": 0,
    "start_time": "2023-03-06T16:34:43.151Z"
   },
   {
    "duration": 0,
    "start_time": "2023-03-06T16:34:43.153Z"
   },
   {
    "duration": 0,
    "start_time": "2023-03-06T16:34:43.154Z"
   },
   {
    "duration": 0,
    "start_time": "2023-03-06T16:34:43.156Z"
   },
   {
    "duration": 0,
    "start_time": "2023-03-06T16:34:43.157Z"
   },
   {
    "duration": 0,
    "start_time": "2023-03-06T16:34:43.158Z"
   },
   {
    "duration": 7,
    "start_time": "2023-03-06T16:38:12.958Z"
   },
   {
    "duration": 75,
    "start_time": "2023-03-06T16:38:47.746Z"
   },
   {
    "duration": 10,
    "start_time": "2023-03-06T16:39:19.710Z"
   },
   {
    "duration": 9,
    "start_time": "2023-03-06T16:40:50.679Z"
   },
   {
    "duration": 8,
    "start_time": "2023-03-06T16:41:03.207Z"
   },
   {
    "duration": 12,
    "start_time": "2023-03-06T16:41:10.836Z"
   },
   {
    "duration": 77,
    "start_time": "2023-03-06T16:43:06.173Z"
   },
   {
    "duration": 74,
    "start_time": "2023-03-06T16:43:54.877Z"
   },
   {
    "duration": 65,
    "start_time": "2023-03-06T16:44:16.289Z"
   },
   {
    "duration": 85,
    "start_time": "2023-03-06T16:44:31.668Z"
   },
   {
    "duration": 7,
    "start_time": "2023-03-06T16:44:46.308Z"
   },
   {
    "duration": 41,
    "start_time": "2023-03-06T16:45:03.877Z"
   },
   {
    "duration": 3,
    "start_time": "2023-03-06T16:45:56.578Z"
   },
   {
    "duration": 8,
    "start_time": "2023-03-06T16:46:03.808Z"
   },
   {
    "duration": 3,
    "start_time": "2023-03-06T16:46:43.272Z"
   },
   {
    "duration": 193,
    "start_time": "2023-03-06T16:46:43.277Z"
   },
   {
    "duration": 3,
    "start_time": "2023-03-06T16:46:43.472Z"
   },
   {
    "duration": 21,
    "start_time": "2023-03-06T16:46:43.477Z"
   },
   {
    "duration": 87,
    "start_time": "2023-03-06T16:46:43.501Z"
   },
   {
    "duration": 44,
    "start_time": "2023-03-06T16:46:43.590Z"
   },
   {
    "duration": 31,
    "start_time": "2023-03-06T16:46:43.635Z"
   },
   {
    "duration": 1844,
    "start_time": "2023-03-06T16:46:43.668Z"
   },
   {
    "duration": 14,
    "start_time": "2023-03-06T16:46:45.514Z"
   },
   {
    "duration": 4,
    "start_time": "2023-03-06T16:46:45.530Z"
   },
   {
    "duration": 5,
    "start_time": "2023-03-06T16:46:45.536Z"
   },
   {
    "duration": 28,
    "start_time": "2023-03-06T16:46:45.542Z"
   },
   {
    "duration": 11,
    "start_time": "2023-03-06T16:46:45.572Z"
   },
   {
    "duration": 6,
    "start_time": "2023-03-06T16:46:45.587Z"
   },
   {
    "duration": 5,
    "start_time": "2023-03-06T16:46:45.595Z"
   },
   {
    "duration": 12727,
    "start_time": "2023-03-06T16:46:45.601Z"
   },
   {
    "duration": 10,
    "start_time": "2023-03-06T16:46:58.329Z"
   },
   {
    "duration": 7,
    "start_time": "2023-03-06T16:46:58.341Z"
   },
   {
    "duration": 14,
    "start_time": "2023-03-06T16:46:58.350Z"
   },
   {
    "duration": 8,
    "start_time": "2023-03-06T16:46:58.366Z"
   },
   {
    "duration": 7,
    "start_time": "2023-03-06T16:46:58.376Z"
   },
   {
    "duration": 51,
    "start_time": "2023-03-06T16:46:58.385Z"
   },
   {
    "duration": 6,
    "start_time": "2023-03-06T16:46:58.438Z"
   },
   {
    "duration": 35,
    "start_time": "2023-03-06T16:46:58.446Z"
   },
   {
    "duration": 38,
    "start_time": "2023-03-06T16:46:58.484Z"
   },
   {
    "duration": 37,
    "start_time": "2023-03-06T16:46:58.524Z"
   },
   {
    "duration": 11,
    "start_time": "2023-03-06T16:46:58.562Z"
   },
   {
    "duration": 16,
    "start_time": "2023-03-06T16:46:58.575Z"
   },
   {
    "duration": 53,
    "start_time": "2023-03-06T16:46:58.592Z"
   },
   {
    "duration": 437,
    "start_time": "2023-03-06T16:46:58.647Z"
   },
   {
    "duration": 70,
    "start_time": "2023-03-06T16:46:59.086Z"
   },
   {
    "duration": 0,
    "start_time": "2023-03-06T16:46:59.158Z"
   },
   {
    "duration": 0,
    "start_time": "2023-03-06T16:46:59.159Z"
   },
   {
    "duration": 0,
    "start_time": "2023-03-06T16:46:59.161Z"
   },
   {
    "duration": 0,
    "start_time": "2023-03-06T16:46:59.162Z"
   },
   {
    "duration": 0,
    "start_time": "2023-03-06T16:46:59.164Z"
   },
   {
    "duration": 0,
    "start_time": "2023-03-06T16:46:59.165Z"
   },
   {
    "duration": 0,
    "start_time": "2023-03-06T16:46:59.166Z"
   },
   {
    "duration": 0,
    "start_time": "2023-03-06T16:46:59.168Z"
   },
   {
    "duration": 0,
    "start_time": "2023-03-06T16:46:59.169Z"
   },
   {
    "duration": 0,
    "start_time": "2023-03-06T16:46:59.170Z"
   },
   {
    "duration": 9,
    "start_time": "2023-03-06T16:47:27.700Z"
   },
   {
    "duration": 36,
    "start_time": "2023-03-06T16:47:30.530Z"
   },
   {
    "duration": 20,
    "start_time": "2023-03-06T16:47:33.618Z"
   },
   {
    "duration": 9,
    "start_time": "2023-03-06T16:54:41.021Z"
   },
   {
    "duration": 8,
    "start_time": "2023-03-06T16:54:56.398Z"
   },
   {
    "duration": 19,
    "start_time": "2023-03-06T17:01:51.796Z"
   },
   {
    "duration": 14,
    "start_time": "2023-03-06T17:01:53.673Z"
   },
   {
    "duration": 17,
    "start_time": "2023-03-06T17:01:55.073Z"
   },
   {
    "duration": 71,
    "start_time": "2023-03-06T17:02:25.187Z"
   },
   {
    "duration": 73,
    "start_time": "2023-03-06T17:02:35.732Z"
   },
   {
    "duration": 122,
    "start_time": "2023-03-06T17:02:51.228Z"
   },
   {
    "duration": 5,
    "start_time": "2023-03-06T17:03:00.368Z"
   },
   {
    "duration": 71,
    "start_time": "2023-03-06T17:03:10.078Z"
   },
   {
    "duration": 73,
    "start_time": "2023-03-06T17:03:15.397Z"
   },
   {
    "duration": 17,
    "start_time": "2023-03-06T17:03:40.376Z"
   },
   {
    "duration": 94,
    "start_time": "2023-03-06T17:03:41.699Z"
   },
   {
    "duration": 384,
    "start_time": "2023-03-06T17:03:44.007Z"
   },
   {
    "duration": 5,
    "start_time": "2023-03-06T17:03:46.998Z"
   },
   {
    "duration": 9,
    "start_time": "2023-03-06T17:03:51.029Z"
   },
   {
    "duration": 9,
    "start_time": "2023-03-06T17:04:06.674Z"
   },
   {
    "duration": 8,
    "start_time": "2023-03-06T17:04:23.300Z"
   },
   {
    "duration": 38,
    "start_time": "2023-03-06T17:07:42.936Z"
   },
   {
    "duration": 40,
    "start_time": "2023-03-06T17:09:10.916Z"
   },
   {
    "duration": 22,
    "start_time": "2023-03-06T17:11:02.584Z"
   },
   {
    "duration": 38,
    "start_time": "2023-03-06T17:11:24.474Z"
   },
   {
    "duration": 40,
    "start_time": "2023-03-06T17:12:33.044Z"
   },
   {
    "duration": 34,
    "start_time": "2023-03-06T17:15:28.428Z"
   },
   {
    "duration": 8,
    "start_time": "2023-03-06T17:45:09.205Z"
   },
   {
    "duration": 61,
    "start_time": "2023-03-06T17:45:51.094Z"
   },
   {
    "duration": 7,
    "start_time": "2023-03-06T17:49:55.981Z"
   },
   {
    "duration": 9,
    "start_time": "2023-03-06T17:50:56.542Z"
   },
   {
    "duration": 51,
    "start_time": "2023-03-06T17:51:01.368Z"
   },
   {
    "duration": 16,
    "start_time": "2023-03-06T17:51:14.039Z"
   },
   {
    "duration": 2,
    "start_time": "2023-03-06T17:55:01.851Z"
   },
   {
    "duration": 273,
    "start_time": "2023-03-06T17:55:01.855Z"
   },
   {
    "duration": 3,
    "start_time": "2023-03-06T17:55:02.130Z"
   },
   {
    "duration": 23,
    "start_time": "2023-03-06T17:55:02.135Z"
   },
   {
    "duration": 85,
    "start_time": "2023-03-06T17:55:02.161Z"
   },
   {
    "duration": 31,
    "start_time": "2023-03-06T17:55:02.248Z"
   },
   {
    "duration": 45,
    "start_time": "2023-03-06T17:55:02.280Z"
   },
   {
    "duration": 1793,
    "start_time": "2023-03-06T17:55:02.327Z"
   },
   {
    "duration": 10,
    "start_time": "2023-03-06T17:55:04.122Z"
   },
   {
    "duration": 4,
    "start_time": "2023-03-06T17:55:04.133Z"
   },
   {
    "duration": 4,
    "start_time": "2023-03-06T17:55:04.139Z"
   },
   {
    "duration": 8,
    "start_time": "2023-03-06T17:55:04.144Z"
   },
   {
    "duration": 5,
    "start_time": "2023-03-06T17:55:04.153Z"
   },
   {
    "duration": 5,
    "start_time": "2023-03-06T17:55:04.159Z"
   },
   {
    "duration": 4,
    "start_time": "2023-03-06T17:55:04.166Z"
   },
   {
    "duration": 12290,
    "start_time": "2023-03-06T17:55:04.172Z"
   },
   {
    "duration": 10,
    "start_time": "2023-03-06T17:55:16.464Z"
   },
   {
    "duration": 7,
    "start_time": "2023-03-06T17:55:16.475Z"
   },
   {
    "duration": 39,
    "start_time": "2023-03-06T17:55:16.484Z"
   },
   {
    "duration": 10,
    "start_time": "2023-03-06T17:55:16.525Z"
   },
   {
    "duration": 15,
    "start_time": "2023-03-06T17:55:16.537Z"
   },
   {
    "duration": 17,
    "start_time": "2023-03-06T17:55:16.553Z"
   },
   {
    "duration": 10,
    "start_time": "2023-03-06T17:55:16.572Z"
   },
   {
    "duration": 60,
    "start_time": "2023-03-06T17:55:16.586Z"
   },
   {
    "duration": 10,
    "start_time": "2023-03-06T17:55:16.648Z"
   },
   {
    "duration": 35,
    "start_time": "2023-03-06T17:55:16.659Z"
   },
   {
    "duration": 13,
    "start_time": "2023-03-06T17:55:16.721Z"
   },
   {
    "duration": 21,
    "start_time": "2023-03-06T17:55:16.736Z"
   },
   {
    "duration": 28,
    "start_time": "2023-03-06T17:55:16.759Z"
   },
   {
    "duration": 426,
    "start_time": "2023-03-06T17:55:16.789Z"
   },
   {
    "duration": 5,
    "start_time": "2023-03-06T17:55:17.221Z"
   },
   {
    "duration": 23,
    "start_time": "2023-03-06T17:55:17.228Z"
   },
   {
    "duration": 35,
    "start_time": "2023-03-06T17:55:17.252Z"
   },
   {
    "duration": 3,
    "start_time": "2023-03-06T17:55:55.122Z"
   },
   {
    "duration": 190,
    "start_time": "2023-03-06T17:55:55.126Z"
   },
   {
    "duration": 3,
    "start_time": "2023-03-06T17:55:55.319Z"
   },
   {
    "duration": 19,
    "start_time": "2023-03-06T17:55:55.323Z"
   },
   {
    "duration": 78,
    "start_time": "2023-03-06T17:55:55.344Z"
   },
   {
    "duration": 30,
    "start_time": "2023-03-06T17:55:55.424Z"
   },
   {
    "duration": 37,
    "start_time": "2023-03-06T17:55:55.455Z"
   },
   {
    "duration": 1935,
    "start_time": "2023-03-06T17:55:55.494Z"
   },
   {
    "duration": 11,
    "start_time": "2023-03-06T17:55:57.432Z"
   },
   {
    "duration": 4,
    "start_time": "2023-03-06T17:55:57.445Z"
   },
   {
    "duration": 4,
    "start_time": "2023-03-06T17:55:57.452Z"
   },
   {
    "duration": 9,
    "start_time": "2023-03-06T17:55:57.458Z"
   },
   {
    "duration": 7,
    "start_time": "2023-03-06T17:55:57.468Z"
   },
   {
    "duration": 44,
    "start_time": "2023-03-06T17:55:57.477Z"
   },
   {
    "duration": 4,
    "start_time": "2023-03-06T17:55:57.523Z"
   },
   {
    "duration": 12745,
    "start_time": "2023-03-06T17:55:57.529Z"
   },
   {
    "duration": 11,
    "start_time": "2023-03-06T17:56:10.277Z"
   },
   {
    "duration": 18,
    "start_time": "2023-03-06T17:56:10.290Z"
   },
   {
    "duration": 27,
    "start_time": "2023-03-06T17:56:10.310Z"
   },
   {
    "duration": 12,
    "start_time": "2023-03-06T17:56:10.339Z"
   },
   {
    "duration": 9,
    "start_time": "2023-03-06T17:56:10.353Z"
   },
   {
    "duration": 16,
    "start_time": "2023-03-06T17:56:10.365Z"
   },
   {
    "duration": 44,
    "start_time": "2023-03-06T17:56:10.384Z"
   },
   {
    "duration": 53,
    "start_time": "2023-03-06T17:56:10.430Z"
   },
   {
    "duration": 36,
    "start_time": "2023-03-06T17:56:10.485Z"
   },
   {
    "duration": 34,
    "start_time": "2023-03-06T17:56:10.523Z"
   },
   {
    "duration": 10,
    "start_time": "2023-03-06T17:56:10.558Z"
   },
   {
    "duration": 14,
    "start_time": "2023-03-06T17:56:10.569Z"
   },
   {
    "duration": 46,
    "start_time": "2023-03-06T17:56:10.586Z"
   },
   {
    "duration": 460,
    "start_time": "2023-03-06T17:56:10.633Z"
   },
   {
    "duration": 5,
    "start_time": "2023-03-06T17:56:11.095Z"
   },
   {
    "duration": 26,
    "start_time": "2023-03-06T17:56:11.101Z"
   },
   {
    "duration": 32,
    "start_time": "2023-03-06T17:56:11.128Z"
   },
   {
    "duration": 9,
    "start_time": "2023-03-06T17:56:11.162Z"
   },
   {
    "duration": 11,
    "start_time": "2023-03-06T17:56:11.172Z"
   },
   {
    "duration": 63,
    "start_time": "2023-03-06T17:56:11.184Z"
   },
   {
    "duration": 39,
    "start_time": "2023-03-06T17:56:11.250Z"
   },
   {
    "duration": 5,
    "start_time": "2023-03-06T17:56:11.291Z"
   },
   {
    "duration": 24,
    "start_time": "2023-03-06T17:56:11.297Z"
   },
   {
    "duration": 405,
    "start_time": "2023-03-06T17:56:11.323Z"
   },
   {
    "duration": 42,
    "start_time": "2023-03-06T17:56:11.729Z"
   },
   {
    "duration": 25,
    "start_time": "2023-03-06T17:56:11.772Z"
   },
   {
    "duration": 51,
    "start_time": "2023-03-06T17:56:11.798Z"
   },
   {
    "duration": 701,
    "start_time": "2023-03-06T17:56:21.190Z"
   },
   {
    "duration": 193,
    "start_time": "2023-03-06T17:56:21.893Z"
   },
   {
    "duration": 4,
    "start_time": "2023-03-06T17:56:22.088Z"
   },
   {
    "duration": 27,
    "start_time": "2023-03-06T17:56:22.094Z"
   },
   {
    "duration": 82,
    "start_time": "2023-03-06T17:56:22.124Z"
   },
   {
    "duration": 47,
    "start_time": "2023-03-06T17:56:22.208Z"
   },
   {
    "duration": 45,
    "start_time": "2023-03-06T17:56:22.257Z"
   },
   {
    "duration": 2085,
    "start_time": "2023-03-06T17:56:22.309Z"
   },
   {
    "duration": 9,
    "start_time": "2023-03-06T17:56:24.396Z"
   },
   {
    "duration": 14,
    "start_time": "2023-03-06T17:56:24.407Z"
   },
   {
    "duration": 17,
    "start_time": "2023-03-06T17:56:24.423Z"
   },
   {
    "duration": 13,
    "start_time": "2023-03-06T17:56:24.442Z"
   },
   {
    "duration": 21,
    "start_time": "2023-03-06T17:56:24.456Z"
   },
   {
    "duration": 22,
    "start_time": "2023-03-06T17:56:24.479Z"
   },
   {
    "duration": 10,
    "start_time": "2023-03-06T17:56:24.503Z"
   },
   {
    "duration": 12903,
    "start_time": "2023-03-06T17:56:24.515Z"
   },
   {
    "duration": 12,
    "start_time": "2023-03-06T17:56:37.422Z"
   },
   {
    "duration": 13,
    "start_time": "2023-03-06T17:56:37.436Z"
   },
   {
    "duration": 15,
    "start_time": "2023-03-06T17:56:37.451Z"
   },
   {
    "duration": 17,
    "start_time": "2023-03-06T17:56:37.468Z"
   },
   {
    "duration": 16,
    "start_time": "2023-03-06T17:56:37.487Z"
   },
   {
    "duration": 36,
    "start_time": "2023-03-06T17:56:37.504Z"
   },
   {
    "duration": 13,
    "start_time": "2023-03-06T17:56:37.542Z"
   },
   {
    "duration": 41,
    "start_time": "2023-03-06T17:56:37.557Z"
   },
   {
    "duration": 18,
    "start_time": "2023-03-06T17:56:37.620Z"
   },
   {
    "duration": 55,
    "start_time": "2023-03-06T17:56:37.640Z"
   },
   {
    "duration": 29,
    "start_time": "2023-03-06T17:56:37.697Z"
   },
   {
    "duration": 22,
    "start_time": "2023-03-06T17:56:37.731Z"
   },
   {
    "duration": 31,
    "start_time": "2023-03-06T17:56:37.755Z"
   },
   {
    "duration": 705,
    "start_time": "2023-03-06T17:56:37.789Z"
   },
   {
    "duration": 7,
    "start_time": "2023-03-06T17:56:38.496Z"
   },
   {
    "duration": 20,
    "start_time": "2023-03-06T17:56:38.505Z"
   },
   {
    "duration": 46,
    "start_time": "2023-03-06T17:56:38.527Z"
   },
   {
    "duration": 10,
    "start_time": "2023-03-06T17:56:38.574Z"
   },
   {
    "duration": 51,
    "start_time": "2023-03-06T17:56:38.586Z"
   },
   {
    "duration": 43,
    "start_time": "2023-03-06T17:56:38.640Z"
   },
   {
    "duration": 64,
    "start_time": "2023-03-06T17:56:38.685Z"
   },
   {
    "duration": 7,
    "start_time": "2023-03-06T17:56:38.751Z"
   },
   {
    "duration": 10,
    "start_time": "2023-03-06T17:56:38.760Z"
   },
   {
    "duration": 597,
    "start_time": "2023-03-06T17:56:38.772Z"
   },
   {
    "duration": 53,
    "start_time": "2023-03-06T17:56:39.372Z"
   },
   {
    "duration": 32,
    "start_time": "2023-03-06T17:56:39.427Z"
   },
   {
    "duration": 35,
    "start_time": "2023-03-06T17:56:39.461Z"
   },
   {
    "duration": 8,
    "start_time": "2023-03-06T17:58:29.973Z"
   },
   {
    "duration": 18,
    "start_time": "2023-03-06T17:58:32.178Z"
   },
   {
    "duration": 698,
    "start_time": "2023-03-06T17:58:49.211Z"
   },
   {
    "duration": 216,
    "start_time": "2023-03-06T17:58:49.911Z"
   },
   {
    "duration": 6,
    "start_time": "2023-03-06T17:58:50.133Z"
   },
   {
    "duration": 18,
    "start_time": "2023-03-06T17:58:50.141Z"
   },
   {
    "duration": 88,
    "start_time": "2023-03-06T17:58:50.161Z"
   },
   {
    "duration": 30,
    "start_time": "2023-03-06T17:58:50.250Z"
   },
   {
    "duration": 47,
    "start_time": "2023-03-06T17:58:50.282Z"
   },
   {
    "duration": 2011,
    "start_time": "2023-03-06T17:58:50.331Z"
   },
   {
    "duration": 9,
    "start_time": "2023-03-06T17:58:52.344Z"
   },
   {
    "duration": 4,
    "start_time": "2023-03-06T17:58:52.354Z"
   },
   {
    "duration": 6,
    "start_time": "2023-03-06T17:58:52.360Z"
   },
   {
    "duration": 10,
    "start_time": "2023-03-06T17:58:52.367Z"
   },
   {
    "duration": 9,
    "start_time": "2023-03-06T17:58:52.379Z"
   },
   {
    "duration": 4,
    "start_time": "2023-03-06T17:58:52.392Z"
   },
   {
    "duration": 11,
    "start_time": "2023-03-06T17:58:52.398Z"
   },
   {
    "duration": 13134,
    "start_time": "2023-03-06T17:58:52.411Z"
   },
   {
    "duration": 8,
    "start_time": "2023-03-06T17:59:05.547Z"
   },
   {
    "duration": 19,
    "start_time": "2023-03-06T17:59:05.557Z"
   },
   {
    "duration": 14,
    "start_time": "2023-03-06T17:59:05.578Z"
   },
   {
    "duration": 13,
    "start_time": "2023-03-06T17:59:05.593Z"
   },
   {
    "duration": 12,
    "start_time": "2023-03-06T17:59:05.620Z"
   },
   {
    "duration": 21,
    "start_time": "2023-03-06T17:59:05.633Z"
   },
   {
    "duration": 16,
    "start_time": "2023-03-06T17:59:05.656Z"
   },
   {
    "duration": 49,
    "start_time": "2023-03-06T17:59:05.674Z"
   },
   {
    "duration": 14,
    "start_time": "2023-03-06T17:59:05.725Z"
   },
   {
    "duration": 35,
    "start_time": "2023-03-06T17:59:05.741Z"
   },
   {
    "duration": 13,
    "start_time": "2023-03-06T17:59:05.777Z"
   },
   {
    "duration": 56,
    "start_time": "2023-03-06T17:59:05.791Z"
   },
   {
    "duration": 28,
    "start_time": "2023-03-06T17:59:05.849Z"
   },
   {
    "duration": 433,
    "start_time": "2023-03-06T17:59:05.879Z"
   },
   {
    "duration": 9,
    "start_time": "2023-03-06T17:59:06.313Z"
   },
   {
    "duration": 11,
    "start_time": "2023-03-06T17:59:06.325Z"
   },
   {
    "duration": 51,
    "start_time": "2023-03-06T17:59:06.338Z"
   },
   {
    "duration": 33,
    "start_time": "2023-03-06T17:59:06.391Z"
   },
   {
    "duration": 16,
    "start_time": "2023-03-06T17:59:06.426Z"
   },
   {
    "duration": 33,
    "start_time": "2023-03-06T17:59:06.443Z"
   },
   {
    "duration": 58,
    "start_time": "2023-03-06T17:59:06.478Z"
   },
   {
    "duration": 7,
    "start_time": "2023-03-06T17:59:06.538Z"
   },
   {
    "duration": 6,
    "start_time": "2023-03-06T17:59:06.546Z"
   },
   {
    "duration": 551,
    "start_time": "2023-03-06T17:59:06.553Z"
   },
   {
    "duration": 48,
    "start_time": "2023-03-06T17:59:07.107Z"
   },
   {
    "duration": 23,
    "start_time": "2023-03-06T17:59:07.156Z"
   },
   {
    "duration": 51,
    "start_time": "2023-03-06T17:59:07.181Z"
   },
   {
    "duration": 105,
    "start_time": "2023-03-06T18:02:21.630Z"
   },
   {
    "duration": 73,
    "start_time": "2023-03-06T18:02:56.694Z"
   },
   {
    "duration": 53,
    "start_time": "2023-03-06T18:05:50.621Z"
   },
   {
    "duration": 632,
    "start_time": "2023-03-06T18:06:37.463Z"
   },
   {
    "duration": 328,
    "start_time": "2023-03-06T18:06:38.097Z"
   },
   {
    "duration": 3,
    "start_time": "2023-03-06T18:06:38.427Z"
   },
   {
    "duration": 23,
    "start_time": "2023-03-06T18:06:38.432Z"
   },
   {
    "duration": 112,
    "start_time": "2023-03-06T18:06:38.457Z"
   },
   {
    "duration": 33,
    "start_time": "2023-03-06T18:06:38.571Z"
   },
   {
    "duration": 50,
    "start_time": "2023-03-06T18:06:38.606Z"
   },
   {
    "duration": 2214,
    "start_time": "2023-03-06T18:06:38.658Z"
   },
   {
    "duration": 10,
    "start_time": "2023-03-06T18:06:40.874Z"
   },
   {
    "duration": 7,
    "start_time": "2023-03-06T18:06:40.885Z"
   },
   {
    "duration": 5,
    "start_time": "2023-03-06T18:06:40.894Z"
   },
   {
    "duration": 9,
    "start_time": "2023-03-06T18:06:40.900Z"
   },
   {
    "duration": 7,
    "start_time": "2023-03-06T18:06:40.911Z"
   },
   {
    "duration": 7,
    "start_time": "2023-03-06T18:06:40.922Z"
   },
   {
    "duration": 19,
    "start_time": "2023-03-06T18:06:40.931Z"
   },
   {
    "duration": 14652,
    "start_time": "2023-03-06T18:06:40.952Z"
   },
   {
    "duration": 20,
    "start_time": "2023-03-06T18:06:55.606Z"
   },
   {
    "duration": 8,
    "start_time": "2023-03-06T18:06:55.629Z"
   },
   {
    "duration": 15,
    "start_time": "2023-03-06T18:06:55.639Z"
   },
   {
    "duration": 12,
    "start_time": "2023-03-06T18:06:55.656Z"
   },
   {
    "duration": 12,
    "start_time": "2023-03-06T18:06:55.670Z"
   },
   {
    "duration": 47,
    "start_time": "2023-03-06T18:06:55.684Z"
   },
   {
    "duration": 9,
    "start_time": "2023-03-06T18:06:55.733Z"
   },
   {
    "duration": 37,
    "start_time": "2023-03-06T18:06:55.747Z"
   },
   {
    "duration": 38,
    "start_time": "2023-03-06T18:06:55.786Z"
   },
   {
    "duration": 45,
    "start_time": "2023-03-06T18:06:55.826Z"
   },
   {
    "duration": 16,
    "start_time": "2023-03-06T18:06:55.872Z"
   },
   {
    "duration": 48,
    "start_time": "2023-03-06T18:06:55.890Z"
   },
   {
    "duration": 17,
    "start_time": "2023-03-06T18:06:55.940Z"
   },
   {
    "duration": 478,
    "start_time": "2023-03-06T18:06:55.959Z"
   },
   {
    "duration": 8,
    "start_time": "2023-03-06T18:06:56.439Z"
   },
   {
    "duration": 10,
    "start_time": "2023-03-06T18:06:56.449Z"
   },
   {
    "duration": 34,
    "start_time": "2023-03-06T18:06:56.461Z"
   },
   {
    "duration": 94,
    "start_time": "2023-03-06T18:06:56.497Z"
   },
   {
    "duration": 73,
    "start_time": "2023-03-06T18:06:56.592Z"
   },
   {
    "duration": 10,
    "start_time": "2023-03-06T18:06:56.666Z"
   },
   {
    "duration": 32,
    "start_time": "2023-03-06T18:06:56.677Z"
   },
   {
    "duration": 49,
    "start_time": "2023-03-06T18:06:56.710Z"
   },
   {
    "duration": 5,
    "start_time": "2023-03-06T18:06:56.761Z"
   },
   {
    "duration": 3,
    "start_time": "2023-03-06T18:06:56.768Z"
   },
   {
    "duration": 128,
    "start_time": "2023-03-06T18:06:56.774Z"
   },
   {
    "duration": 0,
    "start_time": "2023-03-06T18:06:56.904Z"
   },
   {
    "duration": 0,
    "start_time": "2023-03-06T18:06:56.905Z"
   },
   {
    "duration": 0,
    "start_time": "2023-03-06T18:06:56.906Z"
   },
   {
    "duration": 3,
    "start_time": "2023-03-06T18:08:13.098Z"
   },
   {
    "duration": 7,
    "start_time": "2023-03-06T18:08:15.397Z"
   },
   {
    "duration": 29,
    "start_time": "2023-03-06T18:10:14.834Z"
   },
   {
    "duration": 62,
    "start_time": "2023-03-06T18:10:34.140Z"
   },
   {
    "duration": 35,
    "start_time": "2023-03-06T18:10:39.477Z"
   },
   {
    "duration": 11,
    "start_time": "2023-03-06T18:11:00.562Z"
   },
   {
    "duration": 30,
    "start_time": "2023-03-06T18:11:04.471Z"
   },
   {
    "duration": 43,
    "start_time": "2023-03-06T18:11:49.233Z"
   },
   {
    "duration": 40,
    "start_time": "2023-03-06T18:12:28.129Z"
   },
   {
    "duration": 1152,
    "start_time": "2023-03-06T18:19:18.163Z"
   },
   {
    "duration": 14,
    "start_time": "2023-03-06T18:19:36.030Z"
   },
   {
    "duration": 13,
    "start_time": "2023-03-06T18:23:43.477Z"
   },
   {
    "duration": 19,
    "start_time": "2023-03-06T18:23:48.203Z"
   },
   {
    "duration": 15,
    "start_time": "2023-03-06T18:24:04.780Z"
   },
   {
    "duration": 40,
    "start_time": "2023-03-06T18:29:06.708Z"
   },
   {
    "duration": 74,
    "start_time": "2023-03-06T18:42:03.935Z"
   },
   {
    "duration": 7,
    "start_time": "2023-03-06T18:43:10.009Z"
   },
   {
    "duration": 4,
    "start_time": "2023-03-06T18:52:51.749Z"
   },
   {
    "duration": 648,
    "start_time": "2023-03-06T18:52:53.111Z"
   },
   {
    "duration": 49,
    "start_time": "2023-03-06T18:53:12.534Z"
   },
   {
    "duration": 84,
    "start_time": "2023-03-06T18:54:33.207Z"
   },
   {
    "duration": 70,
    "start_time": "2023-03-06T18:55:13.226Z"
   },
   {
    "duration": 75,
    "start_time": "2023-03-06T19:00:55.006Z"
   },
   {
    "duration": 4,
    "start_time": "2023-03-06T19:07:01.112Z"
   },
   {
    "duration": 6,
    "start_time": "2023-03-06T19:07:02.343Z"
   },
   {
    "duration": 8,
    "start_time": "2023-03-06T19:08:50.547Z"
   },
   {
    "duration": 6,
    "start_time": "2023-03-06T19:08:52.152Z"
   },
   {
    "duration": 5,
    "start_time": "2023-03-06T19:09:56.125Z"
   },
   {
    "duration": 4,
    "start_time": "2023-03-06T19:10:53.104Z"
   },
   {
    "duration": 1269,
    "start_time": "2023-03-06T19:16:08.168Z"
   },
   {
    "duration": 1136,
    "start_time": "2023-03-06T19:17:18.936Z"
   },
   {
    "duration": 14,
    "start_time": "2023-03-06T19:17:39.215Z"
   },
   {
    "duration": 76,
    "start_time": "2023-03-06T19:19:39.431Z"
   },
   {
    "duration": 13,
    "start_time": "2023-03-06T19:19:48.226Z"
   },
   {
    "duration": 39,
    "start_time": "2023-03-06T19:20:05.732Z"
   },
   {
    "duration": 5,
    "start_time": "2023-03-06T19:20:46.026Z"
   },
   {
    "duration": 38,
    "start_time": "2023-03-06T19:20:48.652Z"
   },
   {
    "duration": 1076,
    "start_time": "2023-03-06T19:22:56.916Z"
   },
   {
    "duration": 297,
    "start_time": "2023-03-06T19:26:32.833Z"
   },
   {
    "duration": 4,
    "start_time": "2023-03-06T19:26:36.322Z"
   },
   {
    "duration": 27,
    "start_time": "2023-03-06T19:26:37.345Z"
   },
   {
    "duration": 34,
    "start_time": "2023-03-06T19:27:22.127Z"
   },
   {
    "duration": 5,
    "start_time": "2023-03-06T19:29:59.657Z"
   },
   {
    "duration": 8,
    "start_time": "2023-03-06T19:30:00.463Z"
   },
   {
    "duration": 6,
    "start_time": "2023-03-06T19:30:01.512Z"
   },
   {
    "duration": 6,
    "start_time": "2023-03-06T19:30:02.438Z"
   },
   {
    "duration": 299,
    "start_time": "2023-03-06T19:30:03.294Z"
   },
   {
    "duration": 8,
    "start_time": "2023-03-06T19:30:21.429Z"
   },
   {
    "duration": 45,
    "start_time": "2023-03-06T19:30:22.612Z"
   },
   {
    "duration": 376,
    "start_time": "2023-03-06T19:36:04.163Z"
   },
   {
    "duration": 6,
    "start_time": "2023-03-06T19:37:32.333Z"
   },
   {
    "duration": 82,
    "start_time": "2023-03-06T19:38:25.398Z"
   },
   {
    "duration": 1234,
    "start_time": "2023-03-06T19:47:18.480Z"
   },
   {
    "duration": 5,
    "start_time": "2023-03-06T19:47:43.958Z"
   },
   {
    "duration": 13,
    "start_time": "2023-03-06T19:47:54.535Z"
   },
   {
    "duration": 1075,
    "start_time": "2023-03-06T19:49:10.437Z"
   },
   {
    "duration": 1474,
    "start_time": "2023-03-06T19:49:19.338Z"
   },
   {
    "duration": 1523,
    "start_time": "2023-03-06T19:49:29.626Z"
   },
   {
    "duration": 1367,
    "start_time": "2023-03-06T19:50:00.353Z"
   },
   {
    "duration": 1656,
    "start_time": "2023-03-06T19:50:25.241Z"
   },
   {
    "duration": 6,
    "start_time": "2023-03-06T19:52:20.833Z"
   },
   {
    "duration": 1731,
    "start_time": "2023-03-06T19:52:22.205Z"
   },
   {
    "duration": 15,
    "start_time": "2023-03-06T20:08:08.370Z"
   },
   {
    "duration": 17,
    "start_time": "2023-03-06T20:08:24.538Z"
   },
   {
    "duration": 8,
    "start_time": "2023-03-06T20:08:50.510Z"
   },
   {
    "duration": 22,
    "start_time": "2023-03-06T20:09:00.371Z"
   },
   {
    "duration": 19,
    "start_time": "2023-03-06T20:10:13.821Z"
   },
   {
    "duration": 18,
    "start_time": "2023-03-06T20:10:17.228Z"
   },
   {
    "duration": 637,
    "start_time": "2023-03-06T20:10:49.673Z"
   },
   {
    "duration": 305,
    "start_time": "2023-03-06T20:10:50.312Z"
   },
   {
    "duration": 3,
    "start_time": "2023-03-06T20:10:50.619Z"
   },
   {
    "duration": 19,
    "start_time": "2023-03-06T20:10:50.623Z"
   },
   {
    "duration": 80,
    "start_time": "2023-03-06T20:10:50.645Z"
   },
   {
    "duration": 33,
    "start_time": "2023-03-06T20:10:50.727Z"
   },
   {
    "duration": 29,
    "start_time": "2023-03-06T20:10:50.762Z"
   },
   {
    "duration": 1858,
    "start_time": "2023-03-06T20:10:50.792Z"
   },
   {
    "duration": 11,
    "start_time": "2023-03-06T20:10:52.651Z"
   },
   {
    "duration": 4,
    "start_time": "2023-03-06T20:11:06.103Z"
   },
   {
    "duration": 4,
    "start_time": "2023-03-06T20:11:07.453Z"
   },
   {
    "duration": 6,
    "start_time": "2023-03-06T20:11:08.771Z"
   },
   {
    "duration": 6,
    "start_time": "2023-03-06T20:11:11.933Z"
   },
   {
    "duration": 4,
    "start_time": "2023-03-06T20:11:13.669Z"
   },
   {
    "duration": 5,
    "start_time": "2023-03-06T20:11:15.311Z"
   },
   {
    "duration": 12828,
    "start_time": "2023-03-06T20:11:16.860Z"
   },
   {
    "duration": 10,
    "start_time": "2023-03-06T20:11:29.690Z"
   },
   {
    "duration": 8,
    "start_time": "2023-03-06T20:12:27.410Z"
   },
   {
    "duration": 18,
    "start_time": "2023-03-06T20:12:29.571Z"
   },
   {
    "duration": 11,
    "start_time": "2023-03-06T20:12:32.939Z"
   },
   {
    "duration": 11,
    "start_time": "2023-03-06T20:12:35.708Z"
   },
   {
    "duration": 13,
    "start_time": "2023-03-06T20:12:37.673Z"
   },
   {
    "duration": 10,
    "start_time": "2023-03-06T20:12:42.807Z"
   },
   {
    "duration": 33,
    "start_time": "2023-03-06T20:12:44.884Z"
   },
   {
    "duration": 8,
    "start_time": "2023-03-06T20:12:46.724Z"
   },
   {
    "duration": 33,
    "start_time": "2023-03-06T20:12:50.645Z"
   },
   {
    "duration": 14,
    "start_time": "2023-03-06T20:13:25.344Z"
   },
   {
    "duration": 1218,
    "start_time": "2023-03-06T20:14:11.472Z"
   },
   {
    "duration": 1181,
    "start_time": "2023-03-06T20:14:19.708Z"
   },
   {
    "duration": 14,
    "start_time": "2023-03-06T20:14:49.668Z"
   },
   {
    "duration": 15,
    "start_time": "2023-03-06T20:15:13.790Z"
   },
   {
    "duration": 9,
    "start_time": "2023-03-06T20:15:33.754Z"
   },
   {
    "duration": 14,
    "start_time": "2023-03-06T20:15:51.410Z"
   },
   {
    "duration": 9,
    "start_time": "2023-03-06T20:16:02.312Z"
   },
   {
    "duration": 9,
    "start_time": "2023-03-06T20:18:16.433Z"
   },
   {
    "duration": 7,
    "start_time": "2023-03-06T20:19:19.057Z"
   },
   {
    "duration": 42,
    "start_time": "2023-03-06T20:24:55.275Z"
   },
   {
    "duration": 10,
    "start_time": "2023-03-06T20:25:45.715Z"
   },
   {
    "duration": 16,
    "start_time": "2023-03-06T20:27:47.770Z"
   },
   {
    "duration": 8,
    "start_time": "2023-03-06T20:31:19.976Z"
   },
   {
    "duration": 7,
    "start_time": "2023-03-06T20:31:28.117Z"
   },
   {
    "duration": 11,
    "start_time": "2023-03-06T20:31:43.329Z"
   },
   {
    "duration": 55,
    "start_time": "2023-03-06T20:32:22.404Z"
   },
   {
    "duration": 26,
    "start_time": "2023-03-06T20:33:51.160Z"
   },
   {
    "duration": 34,
    "start_time": "2023-03-06T20:33:59.573Z"
   },
   {
    "duration": 41,
    "start_time": "2023-03-06T20:34:55.634Z"
   },
   {
    "duration": 5,
    "start_time": "2023-03-06T20:37:16.674Z"
   },
   {
    "duration": 22,
    "start_time": "2023-03-06T20:37:27.364Z"
   },
   {
    "duration": 19,
    "start_time": "2023-03-06T20:38:02.122Z"
   },
   {
    "duration": 13,
    "start_time": "2023-03-06T20:38:21.045Z"
   },
   {
    "duration": 5,
    "start_time": "2023-03-06T20:38:34.242Z"
   },
   {
    "duration": 19,
    "start_time": "2023-03-06T20:38:36.678Z"
   },
   {
    "duration": 19,
    "start_time": "2023-03-06T20:38:45.126Z"
   },
   {
    "duration": 39,
    "start_time": "2023-03-06T20:38:46.709Z"
   },
   {
    "duration": 22,
    "start_time": "2023-03-06T20:39:23.810Z"
   },
   {
    "duration": 17,
    "start_time": "2023-03-06T20:39:37.414Z"
   },
   {
    "duration": 39,
    "start_time": "2023-03-06T20:39:49.268Z"
   },
   {
    "duration": 42,
    "start_time": "2023-03-06T20:40:21.703Z"
   },
   {
    "duration": 18,
    "start_time": "2023-03-06T20:40:32.168Z"
   },
   {
    "duration": 13,
    "start_time": "2023-03-06T20:40:45.238Z"
   },
   {
    "duration": 8,
    "start_time": "2023-03-06T20:40:50.545Z"
   },
   {
    "duration": 593,
    "start_time": "2023-03-06T20:41:17.177Z"
   },
   {
    "duration": 221,
    "start_time": "2023-03-06T20:41:17.773Z"
   },
   {
    "duration": 3,
    "start_time": "2023-03-06T20:41:17.996Z"
   },
   {
    "duration": 22,
    "start_time": "2023-03-06T20:41:18.000Z"
   },
   {
    "duration": 75,
    "start_time": "2023-03-06T20:41:18.024Z"
   },
   {
    "duration": 43,
    "start_time": "2023-03-06T20:41:18.101Z"
   },
   {
    "duration": 30,
    "start_time": "2023-03-06T20:41:18.146Z"
   },
   {
    "duration": 1881,
    "start_time": "2023-03-06T20:41:18.177Z"
   },
   {
    "duration": 11,
    "start_time": "2023-03-06T20:41:20.060Z"
   },
   {
    "duration": 5,
    "start_time": "2023-03-06T20:41:20.073Z"
   },
   {
    "duration": 4,
    "start_time": "2023-03-06T20:41:20.080Z"
   },
   {
    "duration": 8,
    "start_time": "2023-03-06T20:41:20.086Z"
   },
   {
    "duration": 6,
    "start_time": "2023-03-06T20:41:20.095Z"
   },
   {
    "duration": 3,
    "start_time": "2023-03-06T20:41:20.105Z"
   },
   {
    "duration": 12,
    "start_time": "2023-03-06T20:41:20.109Z"
   },
   {
    "duration": 12566,
    "start_time": "2023-03-06T20:41:20.122Z"
   },
   {
    "duration": 9,
    "start_time": "2023-03-06T20:41:32.689Z"
   },
   {
    "duration": 21,
    "start_time": "2023-03-06T20:41:32.700Z"
   },
   {
    "duration": 14,
    "start_time": "2023-03-06T20:41:32.723Z"
   },
   {
    "duration": 14,
    "start_time": "2023-03-06T20:41:32.739Z"
   },
   {
    "duration": 7,
    "start_time": "2023-03-06T20:41:32.755Z"
   },
   {
    "duration": 17,
    "start_time": "2023-03-06T20:41:32.763Z"
   },
   {
    "duration": 9,
    "start_time": "2023-03-06T20:41:32.781Z"
   },
   {
    "duration": 42,
    "start_time": "2023-03-06T20:41:32.820Z"
   },
   {
    "duration": 9,
    "start_time": "2023-03-06T20:41:32.864Z"
   },
   {
    "duration": 33,
    "start_time": "2023-03-06T20:41:38.538Z"
   },
   {
    "duration": 11,
    "start_time": "2023-03-06T20:41:42.273Z"
   },
   {
    "duration": 5,
    "start_time": "2023-03-06T20:41:47.408Z"
   },
   {
    "duration": 4,
    "start_time": "2023-03-06T20:42:14.737Z"
   },
   {
    "duration": 12,
    "start_time": "2023-03-06T20:42:17.181Z"
   },
   {
    "duration": 9,
    "start_time": "2023-03-06T20:42:47.222Z"
   },
   {
    "duration": 72,
    "start_time": "2023-03-06T20:43:15.471Z"
   },
   {
    "duration": 70,
    "start_time": "2023-03-06T20:43:21.872Z"
   },
   {
    "duration": 8,
    "start_time": "2023-03-06T20:43:32.626Z"
   },
   {
    "duration": 8,
    "start_time": "2023-03-06T20:43:50.944Z"
   },
   {
    "duration": 41,
    "start_time": "2023-03-06T20:44:04.604Z"
   },
   {
    "duration": 26,
    "start_time": "2023-03-06T20:44:26.109Z"
   },
   {
    "duration": 33,
    "start_time": "2023-03-06T20:44:44.334Z"
   },
   {
    "duration": 77,
    "start_time": "2023-03-06T20:45:24.512Z"
   },
   {
    "duration": 10,
    "start_time": "2023-03-06T20:45:36.596Z"
   },
   {
    "duration": 34,
    "start_time": "2023-03-06T20:45:45.343Z"
   },
   {
    "duration": 55,
    "start_time": "2023-03-06T20:46:10.282Z"
   },
   {
    "duration": 18,
    "start_time": "2023-03-06T20:46:44.654Z"
   },
   {
    "duration": 18,
    "start_time": "2023-03-06T20:46:57.319Z"
   },
   {
    "duration": 37,
    "start_time": "2023-03-06T20:47:06.113Z"
   },
   {
    "duration": 17,
    "start_time": "2023-03-06T20:47:38.000Z"
   },
   {
    "duration": 18,
    "start_time": "2023-03-06T20:47:50.130Z"
   },
   {
    "duration": 643,
    "start_time": "2023-03-06T20:48:05.213Z"
   },
   {
    "duration": 172,
    "start_time": "2023-03-06T20:48:05.858Z"
   },
   {
    "duration": 3,
    "start_time": "2023-03-06T20:48:06.032Z"
   },
   {
    "duration": 29,
    "start_time": "2023-03-06T20:48:06.036Z"
   },
   {
    "duration": 73,
    "start_time": "2023-03-06T20:48:06.067Z"
   },
   {
    "duration": 29,
    "start_time": "2023-03-06T20:48:06.141Z"
   },
   {
    "duration": 28,
    "start_time": "2023-03-06T20:48:06.171Z"
   },
   {
    "duration": 1824,
    "start_time": "2023-03-06T20:48:06.201Z"
   },
   {
    "duration": 9,
    "start_time": "2023-03-06T20:48:08.027Z"
   },
   {
    "duration": 4,
    "start_time": "2023-03-06T20:48:08.038Z"
   },
   {
    "duration": 5,
    "start_time": "2023-03-06T20:48:08.043Z"
   },
   {
    "duration": 6,
    "start_time": "2023-03-06T20:48:08.050Z"
   },
   {
    "duration": 6,
    "start_time": "2023-03-06T20:48:08.058Z"
   },
   {
    "duration": 3,
    "start_time": "2023-03-06T20:48:08.067Z"
   },
   {
    "duration": 5,
    "start_time": "2023-03-06T20:48:08.072Z"
   },
   {
    "duration": 12196,
    "start_time": "2023-03-06T20:48:08.078Z"
   },
   {
    "duration": 10,
    "start_time": "2023-03-06T20:48:20.277Z"
   },
   {
    "duration": 30,
    "start_time": "2023-03-06T20:48:20.289Z"
   },
   {
    "duration": 22,
    "start_time": "2023-03-06T20:48:20.321Z"
   },
   {
    "duration": 13,
    "start_time": "2023-03-06T20:48:20.347Z"
   },
   {
    "duration": 26,
    "start_time": "2023-03-06T20:48:20.362Z"
   },
   {
    "duration": 30,
    "start_time": "2023-03-06T20:48:20.390Z"
   },
   {
    "duration": 15,
    "start_time": "2023-03-06T20:48:20.422Z"
   },
   {
    "duration": 45,
    "start_time": "2023-03-06T20:48:20.438Z"
   },
   {
    "duration": 9,
    "start_time": "2023-03-06T20:48:20.485Z"
   },
   {
    "duration": 46,
    "start_time": "2023-03-06T20:48:20.496Z"
   },
   {
    "duration": 12,
    "start_time": "2023-03-06T20:48:20.544Z"
   },
   {
    "duration": 14,
    "start_time": "2023-03-06T20:48:20.558Z"
   },
   {
    "duration": 9,
    "start_time": "2023-03-06T20:48:20.574Z"
   },
   {
    "duration": 41,
    "start_time": "2023-03-06T20:48:26.863Z"
   },
   {
    "duration": 42,
    "start_time": "2023-03-06T20:48:43.104Z"
   },
   {
    "duration": 17,
    "start_time": "2023-03-06T20:48:55.699Z"
   },
   {
    "duration": 18,
    "start_time": "2023-03-06T20:49:04.242Z"
   },
   {
    "duration": 10,
    "start_time": "2023-03-06T20:49:16.262Z"
   },
   {
    "duration": 7,
    "start_time": "2023-03-06T20:49:26.214Z"
   },
   {
    "duration": 385,
    "start_time": "2023-03-06T20:50:24.387Z"
   },
   {
    "duration": 5,
    "start_time": "2023-03-06T20:50:26.841Z"
   },
   {
    "duration": 9,
    "start_time": "2023-03-06T20:50:28.208Z"
   },
   {
    "duration": 34,
    "start_time": "2023-03-06T20:50:30.610Z"
   },
   {
    "duration": 16,
    "start_time": "2023-03-06T20:50:36.943Z"
   },
   {
    "duration": 51,
    "start_time": "2023-03-06T20:50:39.574Z"
   },
   {
    "duration": 12,
    "start_time": "2023-03-06T20:50:49.106Z"
   },
   {
    "duration": 33,
    "start_time": "2023-03-06T20:50:51.285Z"
   },
   {
    "duration": 8,
    "start_time": "2023-03-06T20:50:56.942Z"
   },
   {
    "duration": 12,
    "start_time": "2023-03-06T20:51:00.752Z"
   },
   {
    "duration": 36,
    "start_time": "2023-03-06T20:51:03.809Z"
   },
   {
    "duration": 30,
    "start_time": "2023-03-06T20:51:07.907Z"
   },
   {
    "duration": 5,
    "start_time": "2023-03-06T20:51:11.562Z"
   },
   {
    "duration": 69,
    "start_time": "2023-03-06T20:51:13.011Z"
   },
   {
    "duration": 4,
    "start_time": "2023-03-06T20:51:19.132Z"
   },
   {
    "duration": 6,
    "start_time": "2023-03-06T20:51:19.713Z"
   },
   {
    "duration": 6,
    "start_time": "2023-03-06T20:51:20.469Z"
   },
   {
    "duration": 6,
    "start_time": "2023-03-06T20:51:21.185Z"
   },
   {
    "duration": 365,
    "start_time": "2023-03-06T20:51:22.094Z"
   },
   {
    "duration": 5,
    "start_time": "2023-03-06T20:51:24.609Z"
   },
   {
    "duration": 7,
    "start_time": "2023-03-06T20:51:28.507Z"
   },
   {
    "duration": 1612,
    "start_time": "2023-03-06T20:51:30.011Z"
   },
   {
    "duration": 79,
    "start_time": "2023-03-07T10:56:28.457Z"
   },
   {
    "duration": 78,
    "start_time": "2023-03-07T10:56:57.296Z"
   },
   {
    "duration": 76,
    "start_time": "2023-03-07T10:57:14.005Z"
   },
   {
    "duration": 52,
    "start_time": "2023-03-07T11:00:51.400Z"
   },
   {
    "duration": 971,
    "start_time": "2023-03-07T11:01:29.952Z"
   },
   {
    "duration": 347,
    "start_time": "2023-03-07T11:01:30.925Z"
   },
   {
    "duration": 3,
    "start_time": "2023-03-07T11:01:31.274Z"
   },
   {
    "duration": 56,
    "start_time": "2023-03-07T11:01:31.280Z"
   },
   {
    "duration": 128,
    "start_time": "2023-03-07T11:01:31.339Z"
   },
   {
    "duration": 38,
    "start_time": "2023-03-07T11:01:31.469Z"
   },
   {
    "duration": 67,
    "start_time": "2023-03-07T11:01:31.509Z"
   },
   {
    "duration": 2194,
    "start_time": "2023-03-07T11:01:31.578Z"
   },
   {
    "duration": 14,
    "start_time": "2023-03-07T11:01:33.775Z"
   },
   {
    "duration": 13,
    "start_time": "2023-03-07T11:01:33.793Z"
   },
   {
    "duration": 11,
    "start_time": "2023-03-07T11:01:33.810Z"
   },
   {
    "duration": 10,
    "start_time": "2023-03-07T11:01:33.824Z"
   },
   {
    "duration": 38,
    "start_time": "2023-03-07T11:01:33.836Z"
   },
   {
    "duration": 3,
    "start_time": "2023-03-07T11:01:33.877Z"
   },
   {
    "duration": 21,
    "start_time": "2023-03-07T11:01:33.883Z"
   },
   {
    "duration": 14625,
    "start_time": "2023-03-07T11:01:33.907Z"
   },
   {
    "duration": 8,
    "start_time": "2023-03-07T11:01:48.533Z"
   },
   {
    "duration": 11,
    "start_time": "2023-03-07T11:01:48.554Z"
   },
   {
    "duration": 18,
    "start_time": "2023-03-07T11:01:48.568Z"
   },
   {
    "duration": 12,
    "start_time": "2023-03-07T11:01:48.588Z"
   },
   {
    "duration": 10,
    "start_time": "2023-03-07T11:01:48.601Z"
   },
   {
    "duration": 47,
    "start_time": "2023-03-07T11:01:48.613Z"
   },
   {
    "duration": 15,
    "start_time": "2023-03-07T11:01:48.664Z"
   },
   {
    "duration": 41,
    "start_time": "2023-03-07T11:01:48.682Z"
   },
   {
    "duration": 14,
    "start_time": "2023-03-07T11:01:48.725Z"
   },
   {
    "duration": 45,
    "start_time": "2023-03-07T11:01:48.754Z"
   },
   {
    "duration": 12,
    "start_time": "2023-03-07T11:01:48.801Z"
   },
   {
    "duration": 8,
    "start_time": "2023-03-07T11:01:48.817Z"
   },
   {
    "duration": 29,
    "start_time": "2023-03-07T11:01:48.827Z"
   },
   {
    "duration": 53,
    "start_time": "2023-03-07T11:01:48.859Z"
   },
   {
    "duration": 16,
    "start_time": "2023-03-07T11:01:48.914Z"
   },
   {
    "duration": 503,
    "start_time": "2023-03-07T11:01:48.932Z"
   },
   {
    "duration": 6,
    "start_time": "2023-03-07T11:01:49.437Z"
   },
   {
    "duration": 13,
    "start_time": "2023-03-07T11:01:49.458Z"
   },
   {
    "duration": 34,
    "start_time": "2023-03-07T11:01:49.473Z"
   },
   {
    "duration": 15,
    "start_time": "2023-03-07T11:01:49.509Z"
   },
   {
    "duration": 71,
    "start_time": "2023-03-07T11:01:49.526Z"
   },
   {
    "duration": 12,
    "start_time": "2023-03-07T11:01:49.599Z"
   },
   {
    "duration": 59,
    "start_time": "2023-03-07T11:01:49.613Z"
   },
   {
    "duration": 8,
    "start_time": "2023-03-07T11:01:49.674Z"
   },
   {
    "duration": 17,
    "start_time": "2023-03-07T11:01:49.683Z"
   },
   {
    "duration": 31,
    "start_time": "2023-03-07T11:01:49.702Z"
   },
   {
    "duration": 53,
    "start_time": "2023-03-07T11:01:49.735Z"
   },
   {
    "duration": 5,
    "start_time": "2023-03-07T11:01:49.790Z"
   },
   {
    "duration": 99,
    "start_time": "2023-03-07T11:01:49.797Z"
   },
   {
    "duration": 6,
    "start_time": "2023-03-07T11:02:07.345Z"
   },
   {
    "duration": 6,
    "start_time": "2023-03-07T11:02:08.826Z"
   },
   {
    "duration": 6,
    "start_time": "2023-03-07T11:02:09.935Z"
   },
   {
    "duration": 6,
    "start_time": "2023-03-07T11:02:12.778Z"
   },
   {
    "duration": 1555,
    "start_time": "2023-03-07T11:02:14.306Z"
   },
   {
    "duration": 352,
    "start_time": "2023-03-07T11:02:47.342Z"
   },
   {
    "duration": 5,
    "start_time": "2023-03-07T11:02:52.326Z"
   },
   {
    "duration": 14,
    "start_time": "2023-03-07T11:04:18.057Z"
   },
   {
    "duration": 2002,
    "start_time": "2023-03-07T11:04:21.075Z"
   },
   {
    "duration": 70,
    "start_time": "2023-03-07T11:19:03.280Z"
   },
   {
    "duration": 5,
    "start_time": "2023-03-07T11:19:43.977Z"
   },
   {
    "duration": 808,
    "start_time": "2023-03-07T11:23:20.431Z"
   },
   {
    "duration": 303,
    "start_time": "2023-03-07T11:23:21.241Z"
   },
   {
    "duration": 7,
    "start_time": "2023-03-07T11:23:21.546Z"
   },
   {
    "duration": 37,
    "start_time": "2023-03-07T11:23:21.558Z"
   },
   {
    "duration": 109,
    "start_time": "2023-03-07T11:23:21.598Z"
   },
   {
    "duration": 65,
    "start_time": "2023-03-07T11:23:21.708Z"
   },
   {
    "duration": 52,
    "start_time": "2023-03-07T11:23:21.775Z"
   },
   {
    "duration": 2502,
    "start_time": "2023-03-07T11:23:21.829Z"
   },
   {
    "duration": 10,
    "start_time": "2023-03-07T11:23:24.333Z"
   },
   {
    "duration": 6,
    "start_time": "2023-03-07T11:23:24.345Z"
   },
   {
    "duration": 8,
    "start_time": "2023-03-07T11:23:24.352Z"
   },
   {
    "duration": 12,
    "start_time": "2023-03-07T11:23:24.363Z"
   },
   {
    "duration": 13,
    "start_time": "2023-03-07T11:23:24.376Z"
   },
   {
    "duration": 5,
    "start_time": "2023-03-07T11:23:24.391Z"
   },
   {
    "duration": 4,
    "start_time": "2023-03-07T11:23:39.802Z"
   },
   {
    "duration": 6,
    "start_time": "2023-03-07T11:23:43.705Z"
   },
   {
    "duration": 92,
    "start_time": "2023-03-07T11:23:55.466Z"
   },
   {
    "duration": 14897,
    "start_time": "2023-03-07T11:24:27.713Z"
   },
   {
    "duration": 11,
    "start_time": "2023-03-07T11:25:02.966Z"
   },
   {
    "duration": 4,
    "start_time": "2023-03-07T11:26:00.704Z"
   },
   {
    "duration": 14795,
    "start_time": "2023-03-07T11:26:03.492Z"
   },
   {
    "duration": 15591,
    "start_time": "2023-03-07T11:29:38.664Z"
   },
   {
    "duration": 17,
    "start_time": "2023-03-07T11:31:03.065Z"
   },
   {
    "duration": 8,
    "start_time": "2023-03-07T11:31:08.097Z"
   },
   {
    "duration": 24,
    "start_time": "2023-03-07T11:31:08.767Z"
   },
   {
    "duration": 17,
    "start_time": "2023-03-07T11:31:23.471Z"
   },
   {
    "duration": 14,
    "start_time": "2023-03-07T11:31:24.457Z"
   },
   {
    "duration": 16,
    "start_time": "2023-03-07T11:31:25.125Z"
   },
   {
    "duration": 11,
    "start_time": "2023-03-07T11:31:26.030Z"
   },
   {
    "duration": 47,
    "start_time": "2023-03-07T11:31:26.562Z"
   },
   {
    "duration": 9,
    "start_time": "2023-03-07T11:31:26.800Z"
   },
   {
    "duration": 38,
    "start_time": "2023-03-07T11:31:28.595Z"
   },
   {
    "duration": 15,
    "start_time": "2023-03-07T11:31:32.105Z"
   },
   {
    "duration": 15,
    "start_time": "2023-03-07T11:31:33.057Z"
   },
   {
    "duration": 11,
    "start_time": "2023-03-07T11:31:37.153Z"
   },
   {
    "duration": 55,
    "start_time": "2023-03-07T11:31:38.400Z"
   },
   {
    "duration": 22,
    "start_time": "2023-03-07T11:31:40.266Z"
   },
   {
    "duration": 491,
    "start_time": "2023-03-07T11:31:41.599Z"
   },
   {
    "duration": 6,
    "start_time": "2023-03-07T11:31:43.316Z"
   },
   {
    "duration": 14,
    "start_time": "2023-03-07T11:31:44.408Z"
   },
   {
    "duration": 40,
    "start_time": "2023-03-07T11:31:45.868Z"
   },
   {
    "duration": 18,
    "start_time": "2023-03-07T11:31:47.280Z"
   },
   {
    "duration": 62,
    "start_time": "2023-03-07T11:31:48.576Z"
   },
   {
    "duration": 15,
    "start_time": "2023-03-07T11:31:51.664Z"
   },
   {
    "duration": 55,
    "start_time": "2023-03-07T11:31:53.272Z"
   },
   {
    "duration": 8,
    "start_time": "2023-03-07T11:31:55.593Z"
   },
   {
    "duration": 18,
    "start_time": "2023-03-07T11:31:57.084Z"
   },
   {
    "duration": 48,
    "start_time": "2023-03-07T11:31:59.102Z"
   },
   {
    "duration": 42,
    "start_time": "2023-03-07T11:32:00.708Z"
   },
   {
    "duration": 13,
    "start_time": "2023-03-07T11:32:02.957Z"
   },
   {
    "duration": 89,
    "start_time": "2023-03-07T11:32:04.537Z"
   },
   {
    "duration": 5,
    "start_time": "2023-03-07T11:32:07.613Z"
   },
   {
    "duration": 6,
    "start_time": "2023-03-07T11:32:08.282Z"
   },
   {
    "duration": 6,
    "start_time": "2023-03-07T11:32:08.992Z"
   },
   {
    "duration": 7,
    "start_time": "2023-03-07T11:32:09.691Z"
   },
   {
    "duration": 480,
    "start_time": "2023-03-07T11:32:13.070Z"
   },
   {
    "duration": 6,
    "start_time": "2023-03-07T11:32:19.305Z"
   },
   {
    "duration": 8,
    "start_time": "2023-03-07T11:32:23.618Z"
   },
   {
    "duration": 1818,
    "start_time": "2023-03-07T11:32:25.190Z"
   },
   {
    "duration": 5,
    "start_time": "2023-03-07T11:36:11.201Z"
   },
   {
    "duration": 17253,
    "start_time": "2023-03-07T11:36:13.197Z"
   },
   {
    "duration": 18,
    "start_time": "2023-03-07T11:36:30.452Z"
   },
   {
    "duration": 773,
    "start_time": "2023-03-07T11:36:52.085Z"
   },
   {
    "duration": 409,
    "start_time": "2023-03-07T11:36:52.861Z"
   },
   {
    "duration": 4,
    "start_time": "2023-03-07T11:36:53.273Z"
   },
   {
    "duration": 36,
    "start_time": "2023-03-07T11:36:53.279Z"
   },
   {
    "duration": 96,
    "start_time": "2023-03-07T11:36:53.317Z"
   },
   {
    "duration": 55,
    "start_time": "2023-03-07T11:36:53.415Z"
   },
   {
    "duration": 45,
    "start_time": "2023-03-07T11:36:53.473Z"
   },
   {
    "duration": 2537,
    "start_time": "2023-03-07T11:36:53.519Z"
   },
   {
    "duration": 17,
    "start_time": "2023-03-07T11:36:56.058Z"
   },
   {
    "duration": 5,
    "start_time": "2023-03-07T11:36:56.083Z"
   },
   {
    "duration": 5,
    "start_time": "2023-03-07T11:36:56.090Z"
   },
   {
    "duration": 9,
    "start_time": "2023-03-07T11:36:56.097Z"
   },
   {
    "duration": 9,
    "start_time": "2023-03-07T11:36:56.108Z"
   },
   {
    "duration": 34,
    "start_time": "2023-03-07T11:36:56.119Z"
   },
   {
    "duration": 5,
    "start_time": "2023-03-07T11:37:02.331Z"
   },
   {
    "duration": 17678,
    "start_time": "2023-03-07T11:37:04.753Z"
   },
   {
    "duration": 11,
    "start_time": "2023-03-07T11:37:25.885Z"
   },
   {
    "duration": 15,
    "start_time": "2023-03-07T11:37:35.556Z"
   },
   {
    "duration": 16,
    "start_time": "2023-03-07T11:37:39.133Z"
   },
   {
    "duration": 10,
    "start_time": "2023-03-07T11:37:47.685Z"
   },
   {
    "duration": 12,
    "start_time": "2023-03-07T11:38:05.000Z"
   },
   {
    "duration": 10,
    "start_time": "2023-03-07T11:38:07.944Z"
   },
   {
    "duration": 28,
    "start_time": "2023-03-07T11:38:10.058Z"
   },
   {
    "duration": 13,
    "start_time": "2023-03-07T11:38:14.039Z"
   },
   {
    "duration": 38,
    "start_time": "2023-03-07T11:42:07.217Z"
   },
   {
    "duration": 12,
    "start_time": "2023-03-07T11:42:09.880Z"
   },
   {
    "duration": 8,
    "start_time": "2023-03-07T11:42:26.072Z"
   },
   {
    "duration": 84,
    "start_time": "2023-03-07T11:45:58.390Z"
   },
   {
    "duration": 10,
    "start_time": "2023-03-07T11:46:04.176Z"
   },
   {
    "duration": 4,
    "start_time": "2023-03-07T11:46:15.141Z"
   },
   {
    "duration": 244,
    "start_time": "2023-03-07T11:46:15.172Z"
   },
   {
    "duration": 4,
    "start_time": "2023-03-07T11:46:15.418Z"
   },
   {
    "duration": 30,
    "start_time": "2023-03-07T11:46:15.424Z"
   },
   {
    "duration": 107,
    "start_time": "2023-03-07T11:46:15.457Z"
   },
   {
    "duration": 53,
    "start_time": "2023-03-07T11:46:15.567Z"
   },
   {
    "duration": 63,
    "start_time": "2023-03-07T11:46:15.622Z"
   },
   {
    "duration": 2421,
    "start_time": "2023-03-07T11:46:15.687Z"
   },
   {
    "duration": 13,
    "start_time": "2023-03-07T11:46:18.110Z"
   },
   {
    "duration": 11,
    "start_time": "2023-03-07T11:46:18.125Z"
   },
   {
    "duration": 29,
    "start_time": "2023-03-07T11:46:18.138Z"
   },
   {
    "duration": 19,
    "start_time": "2023-03-07T11:46:18.175Z"
   },
   {
    "duration": 12,
    "start_time": "2023-03-07T11:46:18.196Z"
   },
   {
    "duration": 16,
    "start_time": "2023-03-07T11:46:18.211Z"
   },
   {
    "duration": 6,
    "start_time": "2023-03-07T11:46:18.230Z"
   },
   {
    "duration": 17901,
    "start_time": "2023-03-07T11:46:18.239Z"
   },
   {
    "duration": 24,
    "start_time": "2023-03-07T11:46:36.142Z"
   },
   {
    "duration": 19,
    "start_time": "2023-03-07T11:46:36.168Z"
   },
   {
    "duration": 23,
    "start_time": "2023-03-07T11:46:36.189Z"
   },
   {
    "duration": 16,
    "start_time": "2023-03-07T11:46:36.215Z"
   },
   {
    "duration": 33,
    "start_time": "2023-03-07T11:46:36.233Z"
   },
   {
    "duration": 23,
    "start_time": "2023-03-07T11:46:36.268Z"
   },
   {
    "duration": 11,
    "start_time": "2023-03-07T11:46:36.293Z"
   },
   {
    "duration": 7,
    "start_time": "2023-03-07T11:46:42.335Z"
   },
   {
    "duration": 173,
    "start_time": "2023-03-07T11:53:21.282Z"
   },
   {
    "duration": 10,
    "start_time": "2023-03-07T11:53:25.688Z"
   },
   {
    "duration": 11,
    "start_time": "2023-03-07T11:53:45.538Z"
   },
   {
    "duration": 203,
    "start_time": "2023-03-07T11:54:39.308Z"
   },
   {
    "duration": 6,
    "start_time": "2023-03-07T11:54:41.538Z"
   },
   {
    "duration": 10,
    "start_time": "2023-03-07T11:54:43.296Z"
   },
   {
    "duration": 231,
    "start_time": "2023-03-07T11:57:00.872Z"
   },
   {
    "duration": 151,
    "start_time": "2023-03-07T11:58:26.076Z"
   },
   {
    "duration": 6,
    "start_time": "2023-03-07T11:58:27.883Z"
   },
   {
    "duration": 10,
    "start_time": "2023-03-07T11:58:29.696Z"
   },
   {
    "duration": 184,
    "start_time": "2023-03-07T11:58:43.840Z"
   },
   {
    "duration": 6,
    "start_time": "2023-03-07T11:58:45.706Z"
   },
   {
    "duration": 8,
    "start_time": "2023-03-07T11:58:47.184Z"
   },
   {
    "duration": 4,
    "start_time": "2023-03-07T11:59:08.185Z"
   },
   {
    "duration": 248,
    "start_time": "2023-03-07T11:59:08.216Z"
   },
   {
    "duration": 8,
    "start_time": "2023-03-07T11:59:08.468Z"
   },
   {
    "duration": 20,
    "start_time": "2023-03-07T11:59:08.478Z"
   },
   {
    "duration": 107,
    "start_time": "2023-03-07T11:59:08.500Z"
   },
   {
    "duration": 44,
    "start_time": "2023-03-07T11:59:08.609Z"
   },
   {
    "duration": 46,
    "start_time": "2023-03-07T11:59:08.657Z"
   },
   {
    "duration": 2311,
    "start_time": "2023-03-07T11:59:08.705Z"
   },
   {
    "duration": 14,
    "start_time": "2023-03-07T11:59:11.019Z"
   },
   {
    "duration": 19,
    "start_time": "2023-03-07T11:59:11.036Z"
   },
   {
    "duration": 14,
    "start_time": "2023-03-07T11:59:11.057Z"
   },
   {
    "duration": 10,
    "start_time": "2023-03-07T11:59:11.074Z"
   },
   {
    "duration": 7,
    "start_time": "2023-03-07T11:59:11.086Z"
   },
   {
    "duration": 4,
    "start_time": "2023-03-07T11:59:11.095Z"
   },
   {
    "duration": 4,
    "start_time": "2023-03-07T11:59:11.102Z"
   },
   {
    "duration": 17813,
    "start_time": "2023-03-07T11:59:11.108Z"
   },
   {
    "duration": 12,
    "start_time": "2023-03-07T11:59:28.926Z"
   },
   {
    "duration": 23,
    "start_time": "2023-03-07T11:59:28.941Z"
   },
   {
    "duration": 25,
    "start_time": "2023-03-07T11:59:28.966Z"
   },
   {
    "duration": 12,
    "start_time": "2023-03-07T11:59:28.993Z"
   },
   {
    "duration": 16,
    "start_time": "2023-03-07T11:59:29.009Z"
   },
   {
    "duration": 49,
    "start_time": "2023-03-07T11:59:29.027Z"
   },
   {
    "duration": 18,
    "start_time": "2023-03-07T11:59:29.080Z"
   },
   {
    "duration": 8,
    "start_time": "2023-03-07T11:59:29.100Z"
   },
   {
    "duration": 6,
    "start_time": "2023-03-07T11:59:37.191Z"
   },
   {
    "duration": 141,
    "start_time": "2023-03-07T11:59:42.699Z"
   },
   {
    "duration": 6,
    "start_time": "2023-03-07T11:59:46.990Z"
   },
   {
    "duration": 9,
    "start_time": "2023-03-07T11:59:49.392Z"
   },
   {
    "duration": 231,
    "start_time": "2023-03-07T12:01:09.892Z"
   },
   {
    "duration": 4,
    "start_time": "2023-03-07T12:01:14.621Z"
   },
   {
    "duration": 204,
    "start_time": "2023-03-07T12:01:14.633Z"
   },
   {
    "duration": 4,
    "start_time": "2023-03-07T12:01:14.840Z"
   },
   {
    "duration": 28,
    "start_time": "2023-03-07T12:01:14.853Z"
   },
   {
    "duration": 148,
    "start_time": "2023-03-07T12:01:14.885Z"
   },
   {
    "duration": 58,
    "start_time": "2023-03-07T12:01:15.036Z"
   },
   {
    "duration": 56,
    "start_time": "2023-03-07T12:01:15.096Z"
   },
   {
    "duration": 2213,
    "start_time": "2023-03-07T12:01:15.155Z"
   },
   {
    "duration": 13,
    "start_time": "2023-03-07T12:01:17.372Z"
   },
   {
    "duration": 5,
    "start_time": "2023-03-07T12:01:17.388Z"
   },
   {
    "duration": 9,
    "start_time": "2023-03-07T12:01:17.396Z"
   },
   {
    "duration": 11,
    "start_time": "2023-03-07T12:01:17.407Z"
   },
   {
    "duration": 52,
    "start_time": "2023-03-07T12:01:17.419Z"
   },
   {
    "duration": 5,
    "start_time": "2023-03-07T12:01:17.474Z"
   },
   {
    "duration": 7,
    "start_time": "2023-03-07T12:01:17.481Z"
   },
   {
    "duration": 18456,
    "start_time": "2023-03-07T12:01:17.490Z"
   },
   {
    "duration": 18,
    "start_time": "2023-03-07T12:01:35.947Z"
   },
   {
    "duration": 14,
    "start_time": "2023-03-07T12:01:35.968Z"
   },
   {
    "duration": 19,
    "start_time": "2023-03-07T12:01:35.983Z"
   },
   {
    "duration": 12,
    "start_time": "2023-03-07T12:01:36.005Z"
   },
   {
    "duration": 38,
    "start_time": "2023-03-07T12:01:36.019Z"
   },
   {
    "duration": 24,
    "start_time": "2023-03-07T12:01:36.060Z"
   },
   {
    "duration": 38,
    "start_time": "2023-03-07T12:01:36.087Z"
   },
   {
    "duration": 6,
    "start_time": "2023-03-07T12:01:36.127Z"
   },
   {
    "duration": 6,
    "start_time": "2023-03-07T12:01:42.529Z"
   },
   {
    "duration": 147,
    "start_time": "2023-03-07T12:01:52.867Z"
   },
   {
    "duration": 13,
    "start_time": "2023-03-07T12:01:55.359Z"
   },
   {
    "duration": 14,
    "start_time": "2023-03-07T12:01:57.067Z"
   },
   {
    "duration": 276,
    "start_time": "2023-03-07T12:04:06.378Z"
   },
   {
    "duration": 203,
    "start_time": "2023-03-07T12:04:14.793Z"
   },
   {
    "duration": 6,
    "start_time": "2023-03-07T12:04:16.908Z"
   },
   {
    "duration": 11,
    "start_time": "2023-03-07T12:04:18.629Z"
   },
   {
    "duration": 51,
    "start_time": "2023-03-07T12:06:14.641Z"
   },
   {
    "duration": 18,
    "start_time": "2023-03-07T12:07:43.372Z"
   },
   {
    "duration": 7,
    "start_time": "2023-03-07T12:08:04.893Z"
   },
   {
    "duration": 5,
    "start_time": "2023-03-07T12:08:31.978Z"
   },
   {
    "duration": 63,
    "start_time": "2023-03-07T12:08:37.356Z"
   },
   {
    "duration": 28,
    "start_time": "2023-03-07T12:08:49.271Z"
   },
   {
    "duration": 768,
    "start_time": "2023-03-07T12:09:07.799Z"
   },
   {
    "duration": 6,
    "start_time": "2023-03-07T12:09:31.701Z"
   },
   {
    "duration": 12,
    "start_time": "2023-03-07T12:09:34.122Z"
   },
   {
    "duration": 50,
    "start_time": "2023-03-07T12:10:01.840Z"
   },
   {
    "duration": 16,
    "start_time": "2023-03-07T12:10:05.098Z"
   },
   {
    "duration": 55,
    "start_time": "2023-03-07T12:10:17.942Z"
   },
   {
    "duration": 14,
    "start_time": "2023-03-07T12:10:25.271Z"
   },
   {
    "duration": 43,
    "start_time": "2023-03-07T12:10:33.031Z"
   },
   {
    "duration": 10,
    "start_time": "2023-03-07T12:10:37.398Z"
   },
   {
    "duration": 11,
    "start_time": "2023-03-07T12:10:39.934Z"
   },
   {
    "duration": 36,
    "start_time": "2023-03-07T12:11:35.467Z"
   },
   {
    "duration": 43,
    "start_time": "2023-03-07T12:11:40.536Z"
   },
   {
    "duration": 9,
    "start_time": "2023-03-07T12:11:44.193Z"
   },
   {
    "duration": 101,
    "start_time": "2023-03-07T12:11:49.801Z"
   },
   {
    "duration": 45,
    "start_time": "2023-03-07T12:12:15.298Z"
   },
   {
    "duration": 5,
    "start_time": "2023-03-07T12:15:56.735Z"
   },
   {
    "duration": 7,
    "start_time": "2023-03-07T12:15:57.697Z"
   },
   {
    "duration": 6,
    "start_time": "2023-03-07T12:15:58.685Z"
   },
   {
    "duration": 6,
    "start_time": "2023-03-07T12:15:59.583Z"
   },
   {
    "duration": 384,
    "start_time": "2023-03-07T12:16:00.675Z"
   },
   {
    "duration": 433,
    "start_time": "2023-03-07T12:16:21.072Z"
   },
   {
    "duration": 5,
    "start_time": "2023-03-07T12:16:24.900Z"
   },
   {
    "duration": 8,
    "start_time": "2023-03-07T12:16:45.582Z"
   },
   {
    "duration": 1924,
    "start_time": "2023-03-07T12:16:49.858Z"
   },
   {
    "duration": 2894,
    "start_time": "2023-03-07T12:23:41.380Z"
   },
   {
    "duration": 1541,
    "start_time": "2023-03-07T12:24:02.592Z"
   },
   {
    "duration": 2147,
    "start_time": "2023-03-07T12:24:43.454Z"
   },
   {
    "duration": 18,
    "start_time": "2023-03-07T12:25:09.102Z"
   },
   {
    "duration": 4,
    "start_time": "2023-03-07T12:25:18.656Z"
   },
   {
    "duration": 364,
    "start_time": "2023-03-07T12:25:18.664Z"
   },
   {
    "duration": 3,
    "start_time": "2023-03-07T12:25:19.031Z"
   },
   {
    "duration": 28,
    "start_time": "2023-03-07T12:25:19.036Z"
   },
   {
    "duration": 102,
    "start_time": "2023-03-07T12:25:19.067Z"
   },
   {
    "duration": 34,
    "start_time": "2023-03-07T12:25:19.172Z"
   },
   {
    "duration": 63,
    "start_time": "2023-03-07T12:25:19.207Z"
   },
   {
    "duration": 2310,
    "start_time": "2023-03-07T12:25:19.272Z"
   },
   {
    "duration": 9,
    "start_time": "2023-03-07T12:25:21.584Z"
   },
   {
    "duration": 20,
    "start_time": "2023-03-07T12:25:21.595Z"
   },
   {
    "duration": 34,
    "start_time": "2023-03-07T12:25:21.618Z"
   },
   {
    "duration": 16,
    "start_time": "2023-03-07T12:25:21.656Z"
   },
   {
    "duration": 17,
    "start_time": "2023-03-07T12:25:21.674Z"
   },
   {
    "duration": 3,
    "start_time": "2023-03-07T12:25:25.396Z"
   },
   {
    "duration": 645,
    "start_time": "2023-03-07T12:25:42.416Z"
   },
   {
    "duration": 249,
    "start_time": "2023-03-07T12:25:43.065Z"
   },
   {
    "duration": 4,
    "start_time": "2023-03-07T12:25:43.316Z"
   },
   {
    "duration": 42,
    "start_time": "2023-03-07T12:25:43.322Z"
   },
   {
    "duration": 108,
    "start_time": "2023-03-07T12:25:43.368Z"
   },
   {
    "duration": 48,
    "start_time": "2023-03-07T12:25:43.478Z"
   },
   {
    "duration": 52,
    "start_time": "2023-03-07T12:25:43.528Z"
   },
   {
    "duration": 2525,
    "start_time": "2023-03-07T12:25:43.582Z"
   },
   {
    "duration": 12,
    "start_time": "2023-03-07T12:25:46.109Z"
   },
   {
    "duration": 6,
    "start_time": "2023-03-07T12:25:46.123Z"
   },
   {
    "duration": 5,
    "start_time": "2023-03-07T12:25:46.131Z"
   },
   {
    "duration": 10,
    "start_time": "2023-03-07T12:25:46.138Z"
   },
   {
    "duration": 11,
    "start_time": "2023-03-07T12:25:46.153Z"
   },
   {
    "duration": 4,
    "start_time": "2023-03-07T12:25:48.700Z"
   },
   {
    "duration": 5,
    "start_time": "2023-03-07T12:25:50.372Z"
   },
   {
    "duration": 52,
    "start_time": "2023-03-07T12:25:52.005Z"
   },
   {
    "duration": 1320,
    "start_time": "2023-03-07T12:26:06.306Z"
   },
   {
    "duration": 86,
    "start_time": "2023-03-07T12:26:39.960Z"
   },
   {
    "duration": 12415,
    "start_time": "2023-03-07T12:27:26.398Z"
   },
   {
    "duration": 12999,
    "start_time": "2023-03-07T12:28:11.607Z"
   },
   {
    "duration": 12677,
    "start_time": "2023-03-07T12:28:55.867Z"
   },
   {
    "duration": 12454,
    "start_time": "2023-03-07T12:30:49.632Z"
   },
   {
    "duration": 12754,
    "start_time": "2023-03-07T12:32:22.988Z"
   },
   {
    "duration": 49,
    "start_time": "2023-03-07T12:33:24.422Z"
   },
   {
    "duration": 13021,
    "start_time": "2023-03-07T12:34:33.694Z"
   },
   {
    "duration": 5,
    "start_time": "2023-03-07T12:35:08.294Z"
   },
   {
    "duration": 15239,
    "start_time": "2023-03-07T12:35:10.390Z"
   },
   {
    "duration": 9,
    "start_time": "2023-03-07T12:35:25.631Z"
   },
   {
    "duration": 9,
    "start_time": "2023-03-07T12:35:28.586Z"
   },
   {
    "duration": 15,
    "start_time": "2023-03-07T12:35:30.313Z"
   },
   {
    "duration": 11,
    "start_time": "2023-03-07T12:35:32.691Z"
   },
   {
    "duration": 10,
    "start_time": "2023-03-07T12:35:34.099Z"
   },
   {
    "duration": 13,
    "start_time": "2023-03-07T12:35:36.626Z"
   },
   {
    "duration": 202,
    "start_time": "2023-03-07T12:35:40.144Z"
   },
   {
    "duration": 237,
    "start_time": "2023-03-07T12:36:16.235Z"
   },
   {
    "duration": 212,
    "start_time": "2023-03-07T12:36:34.559Z"
   },
   {
    "duration": 9,
    "start_time": "2023-03-07T12:38:29.921Z"
   },
   {
    "duration": 5,
    "start_time": "2023-03-07T12:38:34.943Z"
   },
   {
    "duration": 11,
    "start_time": "2023-03-07T12:39:01.368Z"
   },
   {
    "duration": 8,
    "start_time": "2023-03-07T12:39:02.996Z"
   },
   {
    "duration": 250,
    "start_time": "2023-03-07T12:39:08.445Z"
   },
   {
    "duration": 9,
    "start_time": "2023-03-07T12:39:29.332Z"
   },
   {
    "duration": 9,
    "start_time": "2023-03-07T12:39:37.776Z"
   },
   {
    "duration": 7,
    "start_time": "2023-03-07T12:39:51.618Z"
   },
   {
    "duration": 219,
    "start_time": "2023-03-07T12:40:29.102Z"
   },
   {
    "duration": 13,
    "start_time": "2023-03-07T12:40:43.460Z"
   },
   {
    "duration": 8,
    "start_time": "2023-03-07T12:41:31.783Z"
   },
   {
    "duration": 17,
    "start_time": "2023-03-07T12:41:39.512Z"
   },
   {
    "duration": 708,
    "start_time": "2023-03-07T12:42:00.103Z"
   },
   {
    "duration": 295,
    "start_time": "2023-03-07T12:42:00.813Z"
   },
   {
    "duration": 3,
    "start_time": "2023-03-07T12:42:01.110Z"
   },
   {
    "duration": 47,
    "start_time": "2023-03-07T12:42:01.115Z"
   },
   {
    "duration": 139,
    "start_time": "2023-03-07T12:42:01.166Z"
   },
   {
    "duration": 49,
    "start_time": "2023-03-07T12:42:01.307Z"
   },
   {
    "duration": 44,
    "start_time": "2023-03-07T12:42:01.358Z"
   },
   {
    "duration": 2108,
    "start_time": "2023-03-07T12:42:01.403Z"
   },
   {
    "duration": 9,
    "start_time": "2023-03-07T12:42:03.513Z"
   },
   {
    "duration": 4,
    "start_time": "2023-03-07T12:42:03.525Z"
   },
   {
    "duration": 7,
    "start_time": "2023-03-07T12:42:03.531Z"
   },
   {
    "duration": 7,
    "start_time": "2023-03-07T12:42:03.540Z"
   },
   {
    "duration": 15,
    "start_time": "2023-03-07T12:42:03.549Z"
   },
   {
    "duration": 9,
    "start_time": "2023-03-07T12:42:03.566Z"
   },
   {
    "duration": 8,
    "start_time": "2023-03-07T12:42:03.576Z"
   },
   {
    "duration": 14220,
    "start_time": "2023-03-07T12:42:03.586Z"
   },
   {
    "duration": 11,
    "start_time": "2023-03-07T12:42:17.808Z"
   },
   {
    "duration": 10,
    "start_time": "2023-03-07T12:42:17.821Z"
   },
   {
    "duration": 25,
    "start_time": "2023-03-07T12:42:17.852Z"
   },
   {
    "duration": 16,
    "start_time": "2023-03-07T12:42:22.667Z"
   },
   {
    "duration": 11,
    "start_time": "2023-03-07T12:42:25.385Z"
   },
   {
    "duration": 9,
    "start_time": "2023-03-07T12:42:26.500Z"
   },
   {
    "duration": 5,
    "start_time": "2023-03-07T12:42:28.906Z"
   },
   {
    "duration": 20,
    "start_time": "2023-03-07T12:42:44.899Z"
   },
   {
    "duration": 691,
    "start_time": "2023-03-07T12:43:27.376Z"
   },
   {
    "duration": 210,
    "start_time": "2023-03-07T12:43:28.070Z"
   },
   {
    "duration": 3,
    "start_time": "2023-03-07T12:43:28.282Z"
   },
   {
    "duration": 19,
    "start_time": "2023-03-07T12:43:28.287Z"
   },
   {
    "duration": 106,
    "start_time": "2023-03-07T12:43:28.309Z"
   },
   {
    "duration": 45,
    "start_time": "2023-03-07T12:43:28.417Z"
   },
   {
    "duration": 33,
    "start_time": "2023-03-07T12:43:28.465Z"
   },
   {
    "duration": 2101,
    "start_time": "2023-03-07T12:43:28.499Z"
   },
   {
    "duration": 11,
    "start_time": "2023-03-07T12:43:30.602Z"
   },
   {
    "duration": 51,
    "start_time": "2023-03-07T12:43:30.614Z"
   },
   {
    "duration": 28,
    "start_time": "2023-03-07T12:43:30.668Z"
   },
   {
    "duration": 43,
    "start_time": "2023-03-07T12:43:30.698Z"
   },
   {
    "duration": 34,
    "start_time": "2023-03-07T12:43:30.743Z"
   },
   {
    "duration": 31,
    "start_time": "2023-03-07T12:43:30.780Z"
   },
   {
    "duration": 53,
    "start_time": "2023-03-07T12:43:30.813Z"
   },
   {
    "duration": 13658,
    "start_time": "2023-03-07T12:43:30.869Z"
   },
   {
    "duration": 10,
    "start_time": "2023-03-07T12:43:44.529Z"
   },
   {
    "duration": 14,
    "start_time": "2023-03-07T12:43:44.552Z"
   },
   {
    "duration": 17,
    "start_time": "2023-03-07T12:43:44.569Z"
   },
   {
    "duration": 108,
    "start_time": "2023-03-07T12:43:56.736Z"
   },
   {
    "duration": 19,
    "start_time": "2023-03-07T12:44:17.957Z"
   },
   {
    "duration": 11,
    "start_time": "2023-03-07T12:44:24.691Z"
   },
   {
    "duration": 8,
    "start_time": "2023-03-07T12:44:26.310Z"
   },
   {
    "duration": 6,
    "start_time": "2023-03-07T12:44:28.273Z"
   },
   {
    "duration": 51,
    "start_time": "2023-03-07T12:44:40.920Z"
   },
   {
    "duration": 346,
    "start_time": "2023-03-07T12:45:00.742Z"
   },
   {
    "duration": 247,
    "start_time": "2023-03-07T12:45:16.296Z"
   },
   {
    "duration": 240,
    "start_time": "2023-03-07T12:45:27.826Z"
   },
   {
    "duration": 254,
    "start_time": "2023-03-07T12:46:22.492Z"
   },
   {
    "duration": 176,
    "start_time": "2023-03-07T12:47:12.788Z"
   },
   {
    "duration": 202,
    "start_time": "2023-03-07T12:47:27.372Z"
   },
   {
    "duration": 227,
    "start_time": "2023-03-07T12:47:46.693Z"
   },
   {
    "duration": 377,
    "start_time": "2023-03-07T12:50:31.613Z"
   },
   {
    "duration": 72,
    "start_time": "2023-03-07T12:50:56.800Z"
   },
   {
    "duration": 247,
    "start_time": "2023-03-07T12:51:09.580Z"
   },
   {
    "duration": 257,
    "start_time": "2023-03-07T12:56:53.242Z"
   },
   {
    "duration": 261,
    "start_time": "2023-03-07T12:57:00.808Z"
   },
   {
    "duration": 255,
    "start_time": "2023-03-07T12:57:19.450Z"
   },
   {
    "duration": 245,
    "start_time": "2023-03-07T12:57:26.977Z"
   },
   {
    "duration": 9,
    "start_time": "2023-03-07T13:08:19.294Z"
   },
   {
    "duration": 10,
    "start_time": "2023-03-07T13:13:54.496Z"
   },
   {
    "duration": 715,
    "start_time": "2023-03-07T13:14:13.351Z"
   },
   {
    "duration": 340,
    "start_time": "2023-03-07T13:14:14.069Z"
   },
   {
    "duration": 7,
    "start_time": "2023-03-07T13:14:14.411Z"
   },
   {
    "duration": 19,
    "start_time": "2023-03-07T13:14:14.421Z"
   },
   {
    "duration": 103,
    "start_time": "2023-03-07T13:14:14.441Z"
   },
   {
    "duration": 50,
    "start_time": "2023-03-07T13:14:14.546Z"
   },
   {
    "duration": 32,
    "start_time": "2023-03-07T13:14:14.597Z"
   },
   {
    "duration": 2317,
    "start_time": "2023-03-07T13:14:14.630Z"
   },
   {
    "duration": 18,
    "start_time": "2023-03-07T13:14:16.949Z"
   },
   {
    "duration": 14,
    "start_time": "2023-03-07T13:14:26.581Z"
   },
   {
    "duration": 8,
    "start_time": "2023-03-07T13:14:29.933Z"
   },
   {
    "duration": 8,
    "start_time": "2023-03-07T13:14:33.721Z"
   },
   {
    "duration": 10,
    "start_time": "2023-03-07T13:14:36.299Z"
   },
   {
    "duration": 8,
    "start_time": "2023-03-07T13:14:44.686Z"
   },
   {
    "duration": 13464,
    "start_time": "2023-03-07T13:14:49.201Z"
   },
   {
    "duration": 143,
    "start_time": "2023-03-07T13:15:31.517Z"
   },
   {
    "duration": 13303,
    "start_time": "2023-03-07T13:17:04.420Z"
   },
   {
    "duration": 12,
    "start_time": "2023-03-07T13:17:53.395Z"
   },
   {
    "duration": 444,
    "start_time": "2023-03-07T13:17:58.741Z"
   },
   {
    "duration": 12,
    "start_time": "2023-03-07T13:19:00.488Z"
   },
   {
    "duration": 5,
    "start_time": "2023-03-07T13:19:07.181Z"
   },
   {
    "duration": 17049,
    "start_time": "2023-03-07T13:19:08.300Z"
   },
   {
    "duration": 27,
    "start_time": "2023-03-07T13:19:25.366Z"
   },
   {
    "duration": 10,
    "start_time": "2023-03-07T13:19:36.479Z"
   },
   {
    "duration": 13,
    "start_time": "2023-03-07T13:19:37.796Z"
   },
   {
    "duration": 9,
    "start_time": "2023-03-07T13:19:50.651Z"
   },
   {
    "duration": 14,
    "start_time": "2023-03-07T13:20:41.741Z"
   },
   {
    "duration": 7,
    "start_time": "2023-03-07T13:20:43.548Z"
   },
   {
    "duration": 90,
    "start_time": "2023-03-07T13:21:16.159Z"
   },
   {
    "duration": 15,
    "start_time": "2023-03-07T13:21:31.297Z"
   },
   {
    "duration": 7,
    "start_time": "2023-03-07T13:21:33.429Z"
   },
   {
    "duration": 21,
    "start_time": "2023-03-07T13:21:57.055Z"
   },
   {
    "duration": 14,
    "start_time": "2023-03-07T13:21:58.990Z"
   },
   {
    "duration": 13,
    "start_time": "2023-03-07T13:22:00.972Z"
   },
   {
    "duration": 273,
    "start_time": "2023-03-07T13:22:45.191Z"
   },
   {
    "duration": 245,
    "start_time": "2023-03-07T13:23:23.474Z"
   },
   {
    "duration": 7,
    "start_time": "2023-03-07T13:23:25.387Z"
   },
   {
    "duration": 14,
    "start_time": "2023-03-07T13:23:33.054Z"
   },
   {
    "duration": 38,
    "start_time": "2023-03-07T13:23:38.408Z"
   },
   {
    "duration": 19,
    "start_time": "2023-03-07T13:23:44.747Z"
   },
   {
    "duration": 8,
    "start_time": "2023-03-07T13:23:46.119Z"
   },
   {
    "duration": 5,
    "start_time": "2023-03-07T13:23:49.115Z"
   },
   {
    "duration": 68,
    "start_time": "2023-03-07T13:23:50.552Z"
   },
   {
    "duration": 27,
    "start_time": "2023-03-07T13:23:53.018Z"
   },
   {
    "duration": 669,
    "start_time": "2023-03-07T13:23:54.349Z"
   },
   {
    "duration": 8,
    "start_time": "2023-03-07T13:23:56.423Z"
   },
   {
    "duration": 13,
    "start_time": "2023-03-07T13:23:57.622Z"
   },
   {
    "duration": 43,
    "start_time": "2023-03-07T13:24:01.496Z"
   },
   {
    "duration": 17,
    "start_time": "2023-03-07T13:24:03.383Z"
   },
   {
    "duration": 45,
    "start_time": "2023-03-07T13:24:05.802Z"
   },
   {
    "duration": 58,
    "start_time": "2023-03-07T13:26:04.540Z"
   },
   {
    "duration": 13,
    "start_time": "2023-03-07T13:26:11.544Z"
   },
   {
    "duration": 37,
    "start_time": "2023-03-07T13:26:16.677Z"
   },
   {
    "duration": 7,
    "start_time": "2023-03-07T13:26:32.647Z"
   },
   {
    "duration": 11,
    "start_time": "2023-03-07T13:26:35.083Z"
   },
   {
    "duration": 48,
    "start_time": "2023-03-07T13:26:38.031Z"
   },
   {
    "duration": 49,
    "start_time": "2023-03-07T13:26:39.931Z"
   },
   {
    "duration": 7,
    "start_time": "2023-03-07T13:26:41.994Z"
   },
   {
    "duration": 56,
    "start_time": "2023-03-07T13:26:43.941Z"
   },
   {
    "duration": 6,
    "start_time": "2023-03-07T13:28:18.500Z"
   },
   {
    "duration": 8,
    "start_time": "2023-03-07T13:28:19.280Z"
   },
   {
    "duration": 7,
    "start_time": "2023-03-07T13:28:19.888Z"
   },
   {
    "duration": 7,
    "start_time": "2023-03-07T13:28:20.592Z"
   },
   {
    "duration": 403,
    "start_time": "2023-03-07T13:28:21.786Z"
   },
   {
    "duration": 6,
    "start_time": "2023-03-07T13:28:23.622Z"
   },
   {
    "duration": 9,
    "start_time": "2023-03-07T13:28:26.487Z"
   },
   {
    "duration": 1938,
    "start_time": "2023-03-07T13:28:27.681Z"
   },
   {
    "duration": 2289,
    "start_time": "2023-03-07T13:29:43.239Z"
   },
   {
    "duration": 421,
    "start_time": "2023-03-07T13:42:15.628Z"
   },
   {
    "duration": 4,
    "start_time": "2023-03-07T13:42:19.892Z"
   },
   {
    "duration": 18,
    "start_time": "2023-03-07T13:42:26.479Z"
   },
   {
    "duration": 2158,
    "start_time": "2023-03-07T13:42:29.104Z"
   },
   {
    "duration": 462,
    "start_time": "2023-03-07T13:42:47.087Z"
   },
   {
    "duration": 6,
    "start_time": "2023-03-07T13:42:49.850Z"
   },
   {
    "duration": 6,
    "start_time": "2023-03-07T13:42:52.738Z"
   },
   {
    "duration": 2267,
    "start_time": "2023-03-07T13:42:54.342Z"
   },
   {
    "duration": 505,
    "start_time": "2023-03-07T13:44:23.331Z"
   },
   {
    "duration": 6,
    "start_time": "2023-03-07T13:44:24.993Z"
   },
   {
    "duration": 7,
    "start_time": "2023-03-07T13:44:27.580Z"
   },
   {
    "duration": 2158,
    "start_time": "2023-03-07T13:44:30.136Z"
   },
   {
    "duration": 51,
    "start_time": "2023-03-07T15:46:52.109Z"
   },
   {
    "duration": 815,
    "start_time": "2023-03-07T15:47:22.825Z"
   },
   {
    "duration": 222,
    "start_time": "2023-03-07T15:47:23.643Z"
   },
   {
    "duration": 3,
    "start_time": "2023-03-07T15:47:23.867Z"
   },
   {
    "duration": 25,
    "start_time": "2023-03-07T15:47:23.872Z"
   },
   {
    "duration": 100,
    "start_time": "2023-03-07T15:47:23.899Z"
   },
   {
    "duration": 32,
    "start_time": "2023-03-07T15:47:24.001Z"
   },
   {
    "duration": 50,
    "start_time": "2023-03-07T15:47:24.034Z"
   },
   {
    "duration": 1991,
    "start_time": "2023-03-07T15:47:24.085Z"
   },
   {
    "duration": 10,
    "start_time": "2023-03-07T15:47:26.078Z"
   },
   {
    "duration": 11,
    "start_time": "2023-03-07T15:47:26.091Z"
   },
   {
    "duration": 8,
    "start_time": "2023-03-07T15:47:26.104Z"
   },
   {
    "duration": 7,
    "start_time": "2023-03-07T15:47:26.114Z"
   },
   {
    "duration": 12,
    "start_time": "2023-03-07T15:47:26.123Z"
   },
   {
    "duration": 7,
    "start_time": "2023-03-07T15:47:26.136Z"
   },
   {
    "duration": 9,
    "start_time": "2023-03-07T15:47:26.173Z"
   },
   {
    "duration": 313,
    "start_time": "2023-03-07T15:47:26.183Z"
   },
   {
    "duration": 9,
    "start_time": "2023-03-07T15:47:26.498Z"
   },
   {
    "duration": 6,
    "start_time": "2023-03-07T15:47:26.509Z"
   },
   {
    "duration": 13867,
    "start_time": "2023-03-07T15:47:26.517Z"
   },
   {
    "duration": 8,
    "start_time": "2023-03-07T15:47:40.386Z"
   },
   {
    "duration": 8,
    "start_time": "2023-03-07T15:47:40.396Z"
   },
   {
    "duration": 7,
    "start_time": "2023-03-07T15:47:40.406Z"
   },
   {
    "duration": 20,
    "start_time": "2023-03-07T15:47:40.414Z"
   },
   {
    "duration": 37,
    "start_time": "2023-03-07T15:47:40.437Z"
   },
   {
    "duration": 21,
    "start_time": "2023-03-07T15:47:40.477Z"
   },
   {
    "duration": 20,
    "start_time": "2023-03-07T15:47:40.501Z"
   },
   {
    "duration": 246,
    "start_time": "2023-03-07T15:47:40.524Z"
   },
   {
    "duration": 7,
    "start_time": "2023-03-07T15:47:40.774Z"
   },
   {
    "duration": 11,
    "start_time": "2023-03-07T15:47:40.783Z"
   },
   {
    "duration": 38,
    "start_time": "2023-03-07T15:47:40.796Z"
   },
   {
    "duration": 42,
    "start_time": "2023-03-07T15:47:40.835Z"
   },
   {
    "duration": 7,
    "start_time": "2023-03-07T15:47:40.878Z"
   },
   {
    "duration": 9,
    "start_time": "2023-03-07T15:47:40.887Z"
   },
   {
    "duration": 52,
    "start_time": "2023-03-07T15:47:40.898Z"
   },
   {
    "duration": 36,
    "start_time": "2023-03-07T15:47:40.951Z"
   },
   {
    "duration": 487,
    "start_time": "2023-03-07T15:47:40.988Z"
   },
   {
    "duration": 7,
    "start_time": "2023-03-07T15:47:41.476Z"
   },
   {
    "duration": 9,
    "start_time": "2023-03-07T15:47:41.485Z"
   },
   {
    "duration": 34,
    "start_time": "2023-03-07T15:47:41.496Z"
   },
   {
    "duration": 47,
    "start_time": "2023-03-07T15:47:41.532Z"
   },
   {
    "duration": 176,
    "start_time": "2023-03-07T15:47:41.580Z"
   },
   {
    "duration": 23,
    "start_time": "2023-03-07T15:47:41.759Z"
   },
   {
    "duration": 39,
    "start_time": "2023-03-07T15:47:41.784Z"
   },
   {
    "duration": 8,
    "start_time": "2023-03-07T15:47:41.825Z"
   },
   {
    "duration": 38,
    "start_time": "2023-03-07T15:47:41.835Z"
   },
   {
    "duration": 36,
    "start_time": "2023-03-07T15:47:41.875Z"
   },
   {
    "duration": 31,
    "start_time": "2023-03-07T15:47:41.912Z"
   },
   {
    "duration": 31,
    "start_time": "2023-03-07T15:47:41.944Z"
   },
   {
    "duration": 36,
    "start_time": "2023-03-07T15:47:41.977Z"
   },
   {
    "duration": 4,
    "start_time": "2023-03-07T15:47:42.015Z"
   },
   {
    "duration": 24,
    "start_time": "2023-03-07T15:47:42.021Z"
   },
   {
    "duration": 12,
    "start_time": "2023-03-07T15:47:42.047Z"
   },
   {
    "duration": 16,
    "start_time": "2023-03-07T15:47:42.060Z"
   },
   {
    "duration": 374,
    "start_time": "2023-03-07T15:47:42.079Z"
   },
   {
    "duration": 5,
    "start_time": "2023-03-07T15:47:42.455Z"
   },
   {
    "duration": 16,
    "start_time": "2023-03-07T15:47:42.462Z"
   },
   {
    "duration": 1776,
    "start_time": "2023-03-07T15:47:42.480Z"
   },
   {
    "duration": 2131,
    "start_time": "2023-03-07T15:48:35.829Z"
   },
   {
    "duration": 11,
    "start_time": "2023-03-07T16:06:52.131Z"
   },
   {
    "duration": 14,
    "start_time": "2023-03-07T16:07:00.472Z"
   },
   {
    "duration": 10,
    "start_time": "2023-03-07T16:07:24.743Z"
   },
   {
    "duration": 12,
    "start_time": "2023-03-07T16:07:31.528Z"
   },
   {
    "duration": 15,
    "start_time": "2023-03-07T16:07:52.575Z"
   },
   {
    "duration": 11,
    "start_time": "2023-03-07T16:07:58.779Z"
   },
   {
    "duration": 11,
    "start_time": "2023-03-07T16:08:04.894Z"
   },
   {
    "duration": 14,
    "start_time": "2023-03-07T16:08:08.907Z"
   },
   {
    "duration": 15,
    "start_time": "2023-03-07T16:08:13.122Z"
   },
   {
    "duration": 11,
    "start_time": "2023-03-07T16:08:17.649Z"
   },
   {
    "duration": 11,
    "start_time": "2023-03-07T16:08:23.078Z"
   },
   {
    "duration": 8,
    "start_time": "2023-03-07T16:08:37.300Z"
   },
   {
    "duration": 11,
    "start_time": "2023-03-07T16:08:46.161Z"
   },
   {
    "duration": 11,
    "start_time": "2023-03-07T16:08:50.983Z"
   },
   {
    "duration": 8,
    "start_time": "2023-03-07T16:09:05.699Z"
   },
   {
    "duration": 9,
    "start_time": "2023-03-07T16:09:11.130Z"
   },
   {
    "duration": 11,
    "start_time": "2023-03-07T16:09:15.815Z"
   },
   {
    "duration": 11,
    "start_time": "2023-03-07T16:20:55.206Z"
   },
   {
    "duration": 219,
    "start_time": "2023-03-07T16:22:37.002Z"
   },
   {
    "duration": 350,
    "start_time": "2023-03-07T16:22:42.503Z"
   },
   {
    "duration": 174,
    "start_time": "2023-03-07T16:24:51.637Z"
   },
   {
    "duration": 204,
    "start_time": "2023-03-07T16:25:09.356Z"
   },
   {
    "duration": 87,
    "start_time": "2023-03-07T16:28:51.399Z"
   },
   {
    "duration": 286,
    "start_time": "2023-03-07T16:29:02.029Z"
   },
   {
    "duration": 234,
    "start_time": "2023-03-07T16:29:12.299Z"
   },
   {
    "duration": 234,
    "start_time": "2023-03-07T16:29:39.148Z"
   },
   {
    "duration": 208,
    "start_time": "2023-03-07T16:32:27.837Z"
   },
   {
    "duration": 211,
    "start_time": "2023-03-07T16:32:58.522Z"
   },
   {
    "duration": 458,
    "start_time": "2023-03-07T16:35:59.560Z"
   },
   {
    "duration": 615,
    "start_time": "2023-03-07T16:37:32.310Z"
   },
   {
    "duration": 10,
    "start_time": "2023-03-07T16:38:06.298Z"
   },
   {
    "duration": 9,
    "start_time": "2023-03-07T16:38:11.503Z"
   },
   {
    "duration": 138,
    "start_time": "2023-03-07T16:41:03.877Z"
   },
   {
    "duration": 13,
    "start_time": "2023-03-07T16:41:35.646Z"
   },
   {
    "duration": 302850,
    "start_time": "2023-03-07T16:43:40.884Z"
   },
   {
    "duration": 0,
    "start_time": "2023-03-07T16:48:43.739Z"
   },
   {
    "duration": 226,
    "start_time": "2023-03-07T16:50:23.591Z"
   },
   {
    "duration": 333,
    "start_time": "2023-03-07T16:50:40.366Z"
   },
   {
    "duration": 5,
    "start_time": "2023-03-07T16:51:19.916Z"
   },
   {
    "duration": 7,
    "start_time": "2023-03-07T16:51:20.720Z"
   },
   {
    "duration": 6,
    "start_time": "2023-03-07T16:51:21.185Z"
   },
   {
    "duration": 14,
    "start_time": "2023-03-07T16:51:22.172Z"
   },
   {
    "duration": 376,
    "start_time": "2023-03-07T16:51:22.922Z"
   },
   {
    "duration": 5,
    "start_time": "2023-03-07T16:51:23.647Z"
   },
   {
    "duration": 6,
    "start_time": "2023-03-07T16:51:32.523Z"
   },
   {
    "duration": 10,
    "start_time": "2023-03-07T16:51:33.430Z"
   },
   {
    "duration": 2158,
    "start_time": "2023-03-07T16:51:34.998Z"
   },
   {
    "duration": 524,
    "start_time": "2023-03-07T16:52:01.857Z"
   },
   {
    "duration": 43,
    "start_time": "2023-03-07T16:53:45.137Z"
   },
   {
    "duration": 138,
    "start_time": "2023-03-07T16:54:17.305Z"
   },
   {
    "duration": 135,
    "start_time": "2023-03-07T16:54:25.957Z"
   },
   {
    "duration": 134,
    "start_time": "2023-03-07T16:55:22.956Z"
   },
   {
    "duration": 37,
    "start_time": "2023-03-07T16:57:00.911Z"
   },
   {
    "duration": 113,
    "start_time": "2023-03-07T16:57:17.200Z"
   },
   {
    "duration": 415,
    "start_time": "2023-03-07T16:57:48.154Z"
   },
   {
    "duration": 333,
    "start_time": "2023-03-07T16:59:04.097Z"
   },
   {
    "duration": 189,
    "start_time": "2023-03-07T17:16:05.092Z"
   },
   {
    "duration": 204,
    "start_time": "2023-03-07T17:17:04.427Z"
   },
   {
    "duration": 1752,
    "start_time": "2023-03-07T17:20:01.425Z"
   },
   {
    "duration": 16,
    "start_time": "2023-03-07T17:20:23.629Z"
   },
   {
    "duration": 222,
    "start_time": "2023-03-07T17:20:42.239Z"
   },
   {
    "duration": 199,
    "start_time": "2023-03-07T17:21:43.389Z"
   },
   {
    "duration": 161,
    "start_time": "2023-03-07T17:22:47.629Z"
   },
   {
    "duration": 198,
    "start_time": "2023-03-07T17:23:01.352Z"
   },
   {
    "duration": 188,
    "start_time": "2023-03-07T17:23:15.470Z"
   },
   {
    "duration": 207,
    "start_time": "2023-03-07T17:23:37.222Z"
   },
   {
    "duration": 193,
    "start_time": "2023-03-07T17:24:18.861Z"
   },
   {
    "duration": 191,
    "start_time": "2023-03-07T17:24:46.318Z"
   },
   {
    "duration": 212,
    "start_time": "2023-03-07T17:25:06.858Z"
   },
   {
    "duration": 23,
    "start_time": "2023-03-07T17:25:44.685Z"
   },
   {
    "duration": 14,
    "start_time": "2023-03-07T17:25:57.708Z"
   },
   {
    "duration": 15,
    "start_time": "2023-03-07T17:26:06.029Z"
   },
   {
    "duration": 29,
    "start_time": "2023-03-07T17:26:11.270Z"
   },
   {
    "duration": 30,
    "start_time": "2023-03-07T17:26:17.731Z"
   },
   {
    "duration": 14,
    "start_time": "2023-03-07T17:26:34.185Z"
   },
   {
    "duration": 13,
    "start_time": "2023-03-07T17:27:09.521Z"
   },
   {
    "duration": 171,
    "start_time": "2023-03-07T17:28:00.732Z"
   },
   {
    "duration": 220,
    "start_time": "2023-03-07T17:28:51.360Z"
   },
   {
    "duration": 184,
    "start_time": "2023-03-07T17:29:11.980Z"
   },
   {
    "duration": 174,
    "start_time": "2023-03-07T17:29:26.368Z"
   },
   {
    "duration": 183,
    "start_time": "2023-03-07T17:29:31.918Z"
   },
   {
    "duration": 191,
    "start_time": "2023-03-07T17:29:56.819Z"
   },
   {
    "duration": 191,
    "start_time": "2023-03-07T17:30:22.020Z"
   },
   {
    "duration": 174,
    "start_time": "2023-03-07T17:32:46.329Z"
   },
   {
    "duration": 167,
    "start_time": "2023-03-07T17:33:12.689Z"
   },
   {
    "duration": 175,
    "start_time": "2023-03-07T17:33:29.908Z"
   },
   {
    "duration": 804,
    "start_time": "2023-03-08T16:28:34.711Z"
   },
   {
    "duration": 237,
    "start_time": "2023-03-08T16:28:35.518Z"
   },
   {
    "duration": 3,
    "start_time": "2023-03-08T16:28:35.758Z"
   },
   {
    "duration": 33,
    "start_time": "2023-03-08T16:28:35.762Z"
   },
   {
    "duration": 93,
    "start_time": "2023-03-08T16:28:35.797Z"
   },
   {
    "duration": 40,
    "start_time": "2023-03-08T16:28:35.892Z"
   },
   {
    "duration": 41,
    "start_time": "2023-03-08T16:28:35.934Z"
   },
   {
    "duration": 1948,
    "start_time": "2023-03-08T16:28:35.977Z"
   },
   {
    "duration": 14,
    "start_time": "2023-03-08T16:28:37.927Z"
   },
   {
    "duration": 44,
    "start_time": "2023-03-08T16:28:37.943Z"
   },
   {
    "duration": 6,
    "start_time": "2023-03-08T16:28:37.989Z"
   },
   {
    "duration": 9,
    "start_time": "2023-03-08T16:28:37.997Z"
   },
   {
    "duration": 16,
    "start_time": "2023-03-08T16:28:38.008Z"
   },
   {
    "duration": 27,
    "start_time": "2023-03-08T16:28:38.030Z"
   },
   {
    "duration": 33,
    "start_time": "2023-03-08T16:28:38.059Z"
   },
   {
    "duration": 304,
    "start_time": "2023-03-08T16:28:38.094Z"
   },
   {
    "duration": 10,
    "start_time": "2023-03-08T16:28:38.400Z"
   },
   {
    "duration": 21,
    "start_time": "2023-03-08T16:28:38.412Z"
   },
   {
    "duration": 12173,
    "start_time": "2023-03-08T16:28:38.435Z"
   },
   {
    "duration": 9,
    "start_time": "2023-03-08T16:28:50.610Z"
   },
   {
    "duration": 33,
    "start_time": "2023-03-08T16:28:50.621Z"
   },
   {
    "duration": 6,
    "start_time": "2023-03-08T16:28:50.656Z"
   },
   {
    "duration": 18,
    "start_time": "2023-03-08T16:28:50.664Z"
   },
   {
    "duration": 7,
    "start_time": "2023-03-08T16:28:50.684Z"
   },
   {
    "duration": 31,
    "start_time": "2023-03-08T16:28:50.693Z"
   },
   {
    "duration": 38,
    "start_time": "2023-03-08T16:28:50.726Z"
   },
   {
    "duration": 236,
    "start_time": "2023-03-08T16:28:50.766Z"
   },
   {
    "duration": 5,
    "start_time": "2023-03-08T16:28:51.005Z"
   },
   {
    "duration": 26,
    "start_time": "2023-03-08T16:28:51.012Z"
   },
   {
    "duration": 51,
    "start_time": "2023-03-08T16:28:51.039Z"
   },
   {
    "duration": 11,
    "start_time": "2023-03-08T16:28:51.092Z"
   },
   {
    "duration": 24,
    "start_time": "2023-03-08T16:28:51.105Z"
   },
   {
    "duration": 30,
    "start_time": "2023-03-08T16:28:51.132Z"
   },
   {
    "duration": 58,
    "start_time": "2023-03-08T16:28:51.164Z"
   },
   {
    "duration": 20,
    "start_time": "2023-03-08T16:28:51.224Z"
   },
   {
    "duration": 446,
    "start_time": "2023-03-08T16:28:51.245Z"
   },
   {
    "duration": 5,
    "start_time": "2023-03-08T16:28:51.692Z"
   },
   {
    "duration": 12,
    "start_time": "2023-03-08T16:28:51.699Z"
   },
   {
    "duration": 44,
    "start_time": "2023-03-08T16:28:51.712Z"
   },
   {
    "duration": 23,
    "start_time": "2023-03-08T16:28:51.759Z"
   },
   {
    "duration": 150,
    "start_time": "2023-03-08T16:28:51.789Z"
   },
   {
    "duration": 14,
    "start_time": "2023-03-08T16:28:51.945Z"
   },
   {
    "duration": 31,
    "start_time": "2023-03-08T16:28:51.960Z"
   },
   {
    "duration": 6,
    "start_time": "2023-03-08T16:28:51.992Z"
   },
   {
    "duration": 31,
    "start_time": "2023-03-08T16:28:52.000Z"
   },
   {
    "duration": 34,
    "start_time": "2023-03-08T16:28:52.034Z"
   },
   {
    "duration": 39,
    "start_time": "2023-03-08T16:28:52.070Z"
   },
   {
    "duration": 5,
    "start_time": "2023-03-08T16:28:52.111Z"
   },
   {
    "duration": 52,
    "start_time": "2023-03-08T16:28:52.118Z"
   },
   {
    "duration": 5,
    "start_time": "2023-03-08T16:28:52.171Z"
   },
   {
    "duration": 10,
    "start_time": "2023-03-08T16:28:52.177Z"
   },
   {
    "duration": 6,
    "start_time": "2023-03-08T16:28:52.188Z"
   },
   {
    "duration": 7,
    "start_time": "2023-03-08T16:28:52.195Z"
   },
   {
    "duration": 370,
    "start_time": "2023-03-08T16:28:52.204Z"
   },
   {
    "duration": 4,
    "start_time": "2023-03-08T16:28:52.576Z"
   },
   {
    "duration": 15,
    "start_time": "2023-03-08T16:28:52.582Z"
   },
   {
    "duration": 13,
    "start_time": "2023-03-08T16:28:52.598Z"
   },
   {
    "duration": 1896,
    "start_time": "2023-03-08T16:28:52.613Z"
   },
   {
    "duration": 10,
    "start_time": "2023-03-08T16:28:54.510Z"
   },
   {
    "duration": 434,
    "start_time": "2023-03-08T16:28:54.522Z"
   },
   {
    "duration": 241,
    "start_time": "2023-03-08T16:28:54.957Z"
   },
   {
    "duration": 173,
    "start_time": "2023-03-08T16:29:26.623Z"
   },
   {
    "duration": 146,
    "start_time": "2023-03-08T16:34:19.160Z"
   },
   {
    "duration": 308,
    "start_time": "2023-03-08T16:35:47.603Z"
   },
   {
    "duration": 94,
    "start_time": "2023-03-08T17:00:46.203Z"
   },
   {
    "duration": 252,
    "start_time": "2023-03-08T17:01:32.502Z"
   },
   {
    "duration": 130,
    "start_time": "2023-03-08T17:01:48.636Z"
   },
   {
    "duration": 98,
    "start_time": "2023-03-08T17:02:17.497Z"
   },
   {
    "duration": 130,
    "start_time": "2023-03-08T17:02:25.048Z"
   },
   {
    "duration": 111,
    "start_time": "2023-03-08T17:02:30.865Z"
   },
   {
    "duration": 105,
    "start_time": "2023-03-08T17:04:19.937Z"
   },
   {
    "duration": 93,
    "start_time": "2023-03-08T17:04:37.496Z"
   },
   {
    "duration": 105,
    "start_time": "2023-03-08T17:05:18.638Z"
   },
   {
    "duration": 113,
    "start_time": "2023-03-08T17:07:48.551Z"
   },
   {
    "duration": 153,
    "start_time": "2023-03-08T17:07:54.657Z"
   },
   {
    "duration": 185,
    "start_time": "2023-03-08T17:08:03.950Z"
   },
   {
    "duration": 239,
    "start_time": "2023-03-08T17:08:16.364Z"
   },
   {
    "duration": 136,
    "start_time": "2023-03-08T17:08:27.413Z"
   },
   {
    "duration": 273,
    "start_time": "2023-03-08T17:11:50.330Z"
   },
   {
    "duration": 349,
    "start_time": "2023-03-08T17:12:09.510Z"
   },
   {
    "duration": 316,
    "start_time": "2023-03-08T17:15:08.451Z"
   },
   {
    "duration": 404,
    "start_time": "2023-03-08T17:15:50.151Z"
   },
   {
    "duration": 81,
    "start_time": "2023-03-08T17:19:43.030Z"
   },
   {
    "duration": 174,
    "start_time": "2023-03-08T17:20:02.516Z"
   },
   {
    "duration": 1102,
    "start_time": "2023-03-08T17:20:25.504Z"
   },
   {
    "duration": 572,
    "start_time": "2023-03-08T17:22:24.154Z"
   },
   {
    "duration": 611,
    "start_time": "2023-03-08T17:24:33.444Z"
   },
   {
    "duration": 586,
    "start_time": "2023-03-08T17:25:31.926Z"
   },
   {
    "duration": 55,
    "start_time": "2023-03-08T17:25:44.909Z"
   },
   {
    "duration": 598,
    "start_time": "2023-03-08T17:25:51.803Z"
   },
   {
    "duration": 601,
    "start_time": "2023-03-08T17:26:34.004Z"
   },
   {
    "duration": 172,
    "start_time": "2023-03-08T17:27:44.312Z"
   },
   {
    "duration": 475,
    "start_time": "2023-03-08T17:28:04.957Z"
   },
   {
    "duration": 147,
    "start_time": "2023-03-08T17:28:14.018Z"
   },
   {
    "duration": 593,
    "start_time": "2023-03-08T17:28:31.876Z"
   },
   {
    "duration": 143,
    "start_time": "2023-03-08T17:28:40.150Z"
   },
   {
    "duration": 501,
    "start_time": "2023-03-08T17:28:53.007Z"
   },
   {
    "duration": 533,
    "start_time": "2023-03-08T17:29:19.725Z"
   },
   {
    "duration": 526,
    "start_time": "2023-03-08T17:29:38.722Z"
   },
   {
    "duration": 632,
    "start_time": "2023-03-08T17:34:06.238Z"
   },
   {
    "duration": 544,
    "start_time": "2023-03-08T17:34:39.749Z"
   },
   {
    "duration": 377,
    "start_time": "2023-03-08T17:35:25.881Z"
   },
   {
    "duration": 551,
    "start_time": "2023-03-08T17:35:38.139Z"
   },
   {
    "duration": 557,
    "start_time": "2023-03-08T17:37:57.018Z"
   },
   {
    "duration": 504,
    "start_time": "2023-03-08T17:38:17.568Z"
   },
   {
    "duration": 644,
    "start_time": "2023-03-08T17:38:25.808Z"
   },
   {
    "duration": 626,
    "start_time": "2023-03-08T17:38:34.824Z"
   },
   {
    "duration": 464,
    "start_time": "2023-03-08T17:39:12.653Z"
   },
   {
    "duration": 460,
    "start_time": "2023-03-08T17:39:46.126Z"
   },
   {
    "duration": 461,
    "start_time": "2023-03-08T17:40:27.898Z"
   },
   {
    "duration": 539,
    "start_time": "2023-03-08T17:40:56.863Z"
   },
   {
    "duration": 505,
    "start_time": "2023-03-08T17:41:22.506Z"
   },
   {
    "duration": 503,
    "start_time": "2023-03-08T17:45:42.631Z"
   },
   {
    "duration": 501,
    "start_time": "2023-03-08T17:46:52.128Z"
   },
   {
    "duration": 637,
    "start_time": "2023-03-08T17:51:55.706Z"
   },
   {
    "duration": 506,
    "start_time": "2023-03-08T17:52:40.803Z"
   },
   {
    "duration": 556,
    "start_time": "2023-03-08T17:52:51.002Z"
   },
   {
    "duration": 429,
    "start_time": "2023-03-08T18:05:52.476Z"
   },
   {
    "duration": 582,
    "start_time": "2023-03-08T18:07:00.089Z"
   },
   {
    "duration": 13,
    "start_time": "2023-03-08T18:07:34.195Z"
   },
   {
    "duration": 1676,
    "start_time": "2023-03-08T18:08:47.682Z"
   },
   {
    "duration": 1662,
    "start_time": "2023-03-08T18:08:56.129Z"
   },
   {
    "duration": 23,
    "start_time": "2023-03-08T18:11:15.501Z"
   },
   {
    "duration": 17,
    "start_time": "2023-03-08T18:11:30.333Z"
   },
   {
    "duration": 21,
    "start_time": "2023-03-08T18:12:12.512Z"
   },
   {
    "duration": 1856,
    "start_time": "2023-03-08T18:12:20.448Z"
   },
   {
    "duration": 18,
    "start_time": "2023-03-08T18:13:53.349Z"
   },
   {
    "duration": 1803,
    "start_time": "2023-03-08T18:14:05.013Z"
   },
   {
    "duration": 12,
    "start_time": "2023-03-08T18:15:47.808Z"
   },
   {
    "duration": 1841,
    "start_time": "2023-03-08T18:15:55.416Z"
   },
   {
    "duration": 1842,
    "start_time": "2023-03-08T18:16:12.021Z"
   },
   {
    "duration": 12,
    "start_time": "2023-03-08T18:16:51.805Z"
   },
   {
    "duration": 16,
    "start_time": "2023-03-08T18:19:01.608Z"
   },
   {
    "duration": 15,
    "start_time": "2023-03-08T18:19:14.610Z"
   },
   {
    "duration": 1516,
    "start_time": "2023-03-08T18:19:22.026Z"
   },
   {
    "duration": 339,
    "start_time": "2023-03-08T18:44:21.566Z"
   },
   {
    "duration": 385,
    "start_time": "2023-03-08T18:45:00.662Z"
   },
   {
    "duration": 512,
    "start_time": "2023-03-08T18:47:36.405Z"
   },
   {
    "duration": 317,
    "start_time": "2023-03-08T18:48:36.231Z"
   },
   {
    "duration": 313,
    "start_time": "2023-03-08T18:49:05.001Z"
   },
   {
    "duration": 356,
    "start_time": "2023-03-08T18:49:16.918Z"
   },
   {
    "duration": 65,
    "start_time": "2023-03-08T18:55:48.691Z"
   },
   {
    "duration": 416,
    "start_time": "2023-03-08T18:56:04.945Z"
   },
   {
    "duration": 488,
    "start_time": "2023-03-08T18:57:28.023Z"
   },
   {
    "duration": 599,
    "start_time": "2023-03-08T18:58:55.699Z"
   },
   {
    "duration": 432,
    "start_time": "2023-03-08T19:01:58.133Z"
   },
   {
    "duration": 235,
    "start_time": "2023-03-08T19:02:32.116Z"
   },
   {
    "duration": 74,
    "start_time": "2023-03-08T19:03:25.852Z"
   },
   {
    "duration": 96,
    "start_time": "2023-03-08T19:03:51.987Z"
   },
   {
    "duration": 222,
    "start_time": "2023-03-08T19:04:17.831Z"
   },
   {
    "duration": 28,
    "start_time": "2023-03-08T19:04:41.815Z"
   },
   {
    "duration": 211,
    "start_time": "2023-03-08T19:05:23.493Z"
   },
   {
    "duration": 96,
    "start_time": "2023-03-08T19:05:49.755Z"
   },
   {
    "duration": 27,
    "start_time": "2023-03-08T19:06:13.194Z"
   },
   {
    "duration": 428,
    "start_time": "2023-03-08T19:06:40.300Z"
   },
   {
    "duration": 292,
    "start_time": "2023-03-08T19:07:07.894Z"
   },
   {
    "duration": 124,
    "start_time": "2023-03-08T19:07:32.155Z"
   },
   {
    "duration": 120,
    "start_time": "2023-03-08T19:07:53.398Z"
   },
   {
    "duration": 93,
    "start_time": "2023-03-08T19:08:10.206Z"
   },
   {
    "duration": 295,
    "start_time": "2023-03-08T19:08:33.399Z"
   },
   {
    "duration": 250,
    "start_time": "2023-03-08T19:08:58.357Z"
   },
   {
    "duration": 316,
    "start_time": "2023-03-08T19:09:06.489Z"
   },
   {
    "duration": 322,
    "start_time": "2023-03-08T19:09:32.607Z"
   },
   {
    "duration": 332,
    "start_time": "2023-03-08T19:10:25.980Z"
   },
   {
    "duration": 380,
    "start_time": "2023-03-08T19:10:39.516Z"
   },
   {
    "duration": 384,
    "start_time": "2023-03-08T19:11:14.395Z"
   },
   {
    "duration": 95,
    "start_time": "2023-03-08T19:13:09.495Z"
   },
   {
    "duration": 379,
    "start_time": "2023-03-08T19:13:21.717Z"
   },
   {
    "duration": 58,
    "start_time": "2023-03-08T19:15:04.858Z"
   },
   {
    "duration": 267,
    "start_time": "2023-03-08T19:15:15.088Z"
   },
   {
    "duration": 301,
    "start_time": "2023-03-08T19:15:27.958Z"
   },
   {
    "duration": 14160,
    "start_time": "2023-03-08T19:25:46.145Z"
   },
   {
    "duration": 643,
    "start_time": "2023-03-08T19:26:37.213Z"
   },
   {
    "duration": 319,
    "start_time": "2023-03-08T19:27:26.293Z"
   },
   {
    "duration": 276,
    "start_time": "2023-03-08T19:27:41.794Z"
   },
   {
    "duration": 345,
    "start_time": "2023-03-08T19:28:00.792Z"
   },
   {
    "duration": 243,
    "start_time": "2023-03-08T19:28:59.153Z"
   },
   {
    "duration": 152,
    "start_time": "2023-03-08T19:32:01.683Z"
   },
   {
    "duration": 294,
    "start_time": "2023-03-08T19:32:40.604Z"
   },
   {
    "duration": 296,
    "start_time": "2023-03-08T19:32:58.911Z"
   },
   {
    "duration": 267,
    "start_time": "2023-03-08T19:33:39.188Z"
   },
   {
    "duration": 237,
    "start_time": "2023-03-08T19:33:48.237Z"
   },
   {
    "duration": 388,
    "start_time": "2023-03-08T19:36:10.513Z"
   },
   {
    "duration": 440,
    "start_time": "2023-03-08T19:36:35.781Z"
   },
   {
    "duration": 579,
    "start_time": "2023-03-08T19:39:22.652Z"
   },
   {
    "duration": 498,
    "start_time": "2023-03-08T19:46:50.677Z"
   },
   {
    "duration": 391,
    "start_time": "2023-03-08T19:49:14.153Z"
   },
   {
    "duration": 397,
    "start_time": "2023-03-08T19:49:33.085Z"
   },
   {
    "duration": 422,
    "start_time": "2023-03-08T19:52:20.672Z"
   },
   {
    "duration": 200,
    "start_time": "2023-03-08T19:59:26.264Z"
   },
   {
    "duration": 165,
    "start_time": "2023-03-08T19:59:56.977Z"
   },
   {
    "duration": 813,
    "start_time": "2023-03-08T20:10:05.269Z"
   },
   {
    "duration": 403,
    "start_time": "2023-03-08T20:12:58.019Z"
   },
   {
    "duration": 485,
    "start_time": "2023-03-08T20:14:29.426Z"
   },
   {
    "duration": 417,
    "start_time": "2023-03-08T20:14:41.051Z"
   },
   {
    "duration": 348,
    "start_time": "2023-03-08T20:15:30.010Z"
   },
   {
    "duration": 55,
    "start_time": "2023-03-08T20:16:43.098Z"
   },
   {
    "duration": 498,
    "start_time": "2023-03-08T20:16:53.135Z"
   },
   {
    "duration": 293,
    "start_time": "2023-03-08T20:17:48.575Z"
   },
   {
    "duration": 252,
    "start_time": "2023-03-08T20:18:11.076Z"
   },
   {
    "duration": 333,
    "start_time": "2023-03-08T20:18:17.731Z"
   },
   {
    "duration": 341,
    "start_time": "2023-03-08T20:18:32.079Z"
   },
   {
    "duration": 467,
    "start_time": "2023-03-08T20:19:37.080Z"
   },
   {
    "duration": 500,
    "start_time": "2023-03-08T20:20:01.679Z"
   },
   {
    "duration": 582,
    "start_time": "2023-03-08T20:21:20.989Z"
   },
   {
    "duration": 313,
    "start_time": "2023-03-08T20:25:09.804Z"
   },
   {
    "duration": 332,
    "start_time": "2023-03-08T20:25:30.258Z"
   },
   {
    "duration": 51,
    "start_time": "2023-03-08T20:26:30.632Z"
   },
   {
    "duration": 337,
    "start_time": "2023-03-08T20:26:38.773Z"
   },
   {
    "duration": 342,
    "start_time": "2023-03-08T20:34:01.599Z"
   },
   {
    "duration": 58,
    "start_time": "2023-03-08T20:34:36.034Z"
   },
   {
    "duration": 314,
    "start_time": "2023-03-08T20:34:43.576Z"
   },
   {
    "duration": 349,
    "start_time": "2023-03-08T20:35:28.925Z"
   },
   {
    "duration": 354,
    "start_time": "2023-03-08T20:35:38.523Z"
   },
   {
    "duration": 312,
    "start_time": "2023-03-08T20:36:15.427Z"
   },
   {
    "duration": 686,
    "start_time": "2023-03-08T20:39:41.125Z"
   },
   {
    "duration": 300,
    "start_time": "2023-03-08T20:40:06.694Z"
   },
   {
    "duration": 321,
    "start_time": "2023-03-08T20:40:19.575Z"
   },
   {
    "duration": 355,
    "start_time": "2023-03-08T20:40:31.015Z"
   },
   {
    "duration": 319,
    "start_time": "2023-03-08T20:40:38.704Z"
   },
   {
    "duration": 314,
    "start_time": "2023-03-08T20:40:51.838Z"
   },
   {
    "duration": 336,
    "start_time": "2023-03-08T20:42:01.282Z"
   },
   {
    "duration": 328,
    "start_time": "2023-03-08T20:42:08.882Z"
   },
   {
    "duration": 323,
    "start_time": "2023-03-08T20:42:12.846Z"
   },
   {
    "duration": 295,
    "start_time": "2023-03-08T20:42:27.915Z"
   },
   {
    "duration": 763,
    "start_time": "2023-03-08T20:42:36.544Z"
   },
   {
    "duration": 298,
    "start_time": "2023-03-08T20:42:46.953Z"
   },
   {
    "duration": 299,
    "start_time": "2023-03-08T20:44:27.220Z"
   },
   {
    "duration": 296,
    "start_time": "2023-03-08T20:44:38.418Z"
   },
   {
    "duration": 309,
    "start_time": "2023-03-08T20:44:47.882Z"
   },
   {
    "duration": 333,
    "start_time": "2023-03-08T20:44:56.201Z"
   },
   {
    "duration": 302,
    "start_time": "2023-03-08T20:46:04.513Z"
   },
   {
    "duration": 298,
    "start_time": "2023-03-08T20:46:22.875Z"
   },
   {
    "duration": 362,
    "start_time": "2023-03-08T20:53:08.490Z"
   },
   {
    "duration": 358,
    "start_time": "2023-03-08T20:53:20.690Z"
   },
   {
    "duration": 102,
    "start_time": "2023-03-08T20:53:45.809Z"
   },
   {
    "duration": 66,
    "start_time": "2023-03-08T20:53:55.828Z"
   },
   {
    "duration": 342,
    "start_time": "2023-03-08T20:54:02.908Z"
   },
   {
    "duration": 300,
    "start_time": "2023-03-08T20:54:47.492Z"
   },
   {
    "duration": 674,
    "start_time": "2023-03-08T20:55:13.325Z"
   },
   {
    "duration": 326,
    "start_time": "2023-03-08T20:57:06.489Z"
   },
   {
    "duration": 335,
    "start_time": "2023-03-08T20:57:23.653Z"
   },
   {
    "duration": 370,
    "start_time": "2023-03-08T20:57:45.032Z"
   },
   {
    "duration": 57,
    "start_time": "2023-03-08T20:59:24.393Z"
   },
   {
    "duration": 343,
    "start_time": "2023-03-08T20:59:34.814Z"
   },
   {
    "duration": 308,
    "start_time": "2023-03-08T21:00:03.614Z"
   },
   {
    "duration": 680,
    "start_time": "2023-03-08T21:01:14.123Z"
   },
   {
    "duration": 181,
    "start_time": "2023-03-08T21:01:14.805Z"
   },
   {
    "duration": 3,
    "start_time": "2023-03-08T21:01:14.987Z"
   },
   {
    "duration": 72,
    "start_time": "2023-03-08T21:01:14.992Z"
   },
   {
    "duration": 94,
    "start_time": "2023-03-08T21:01:15.065Z"
   },
   {
    "duration": 25,
    "start_time": "2023-03-08T21:01:15.161Z"
   },
   {
    "duration": 25,
    "start_time": "2023-03-08T21:01:15.188Z"
   },
   {
    "duration": 1899,
    "start_time": "2023-03-08T21:01:15.214Z"
   },
   {
    "duration": 9,
    "start_time": "2023-03-08T21:01:17.114Z"
   },
   {
    "duration": 43,
    "start_time": "2023-03-08T21:01:17.126Z"
   },
   {
    "duration": 8,
    "start_time": "2023-03-08T21:01:17.171Z"
   },
   {
    "duration": 7,
    "start_time": "2023-03-08T21:01:17.180Z"
   },
   {
    "duration": 14,
    "start_time": "2023-03-08T21:01:17.189Z"
   },
   {
    "duration": 6,
    "start_time": "2023-03-08T21:01:17.205Z"
   },
   {
    "duration": 8,
    "start_time": "2023-03-08T21:01:17.213Z"
   },
   {
    "duration": 289,
    "start_time": "2023-03-08T21:01:17.222Z"
   },
   {
    "duration": 21,
    "start_time": "2023-03-08T21:01:17.513Z"
   },
   {
    "duration": 51,
    "start_time": "2023-03-08T21:01:17.536Z"
   },
   {
    "duration": 12094,
    "start_time": "2023-03-08T21:01:17.589Z"
   },
   {
    "duration": 7,
    "start_time": "2023-03-08T21:01:29.684Z"
   },
   {
    "duration": 7,
    "start_time": "2023-03-08T21:01:29.692Z"
   },
   {
    "duration": 10,
    "start_time": "2023-03-08T21:01:29.700Z"
   },
   {
    "duration": 36,
    "start_time": "2023-03-08T21:01:29.711Z"
   },
   {
    "duration": 16,
    "start_time": "2023-03-08T21:01:29.748Z"
   },
   {
    "duration": 11,
    "start_time": "2023-03-08T21:01:29.765Z"
   },
   {
    "duration": 4,
    "start_time": "2023-03-08T21:01:29.778Z"
   },
   {
    "duration": 190,
    "start_time": "2023-03-08T21:01:29.783Z"
   },
   {
    "duration": 5,
    "start_time": "2023-03-08T21:01:29.978Z"
   },
   {
    "duration": 10,
    "start_time": "2023-03-08T21:01:29.984Z"
   },
   {
    "duration": 55,
    "start_time": "2023-03-08T21:01:29.995Z"
   },
   {
    "duration": 11,
    "start_time": "2023-03-08T21:01:30.053Z"
   },
   {
    "duration": 46,
    "start_time": "2023-03-08T21:01:30.066Z"
   },
   {
    "duration": 141,
    "start_time": "2023-03-08T21:01:30.114Z"
   },
   {
    "duration": 80,
    "start_time": "2023-03-08T21:01:30.257Z"
   },
   {
    "duration": 61,
    "start_time": "2023-03-08T21:01:30.339Z"
   },
   {
    "duration": 457,
    "start_time": "2023-03-08T21:01:30.402Z"
   },
   {
    "duration": 6,
    "start_time": "2023-03-08T21:01:30.861Z"
   },
   {
    "duration": 35,
    "start_time": "2023-03-08T21:01:30.868Z"
   },
   {
    "duration": 84,
    "start_time": "2023-03-08T21:01:30.905Z"
   },
   {
    "duration": 16,
    "start_time": "2023-03-08T21:01:30.991Z"
   },
   {
    "duration": 295,
    "start_time": "2023-03-08T21:01:31.010Z"
   },
   {
    "duration": 12,
    "start_time": "2023-03-08T21:01:31.307Z"
   },
   {
    "duration": 53,
    "start_time": "2023-03-08T21:01:31.320Z"
   },
   {
    "duration": 7,
    "start_time": "2023-03-08T21:01:31.375Z"
   },
   {
    "duration": 20,
    "start_time": "2023-03-08T21:01:31.384Z"
   },
   {
    "duration": 55,
    "start_time": "2023-03-08T21:01:31.406Z"
   },
   {
    "duration": 29,
    "start_time": "2023-03-08T21:01:31.463Z"
   },
   {
    "duration": 6,
    "start_time": "2023-03-08T21:01:31.493Z"
   },
   {
    "duration": 58,
    "start_time": "2023-03-08T21:01:31.500Z"
   },
   {
    "duration": 5,
    "start_time": "2023-03-08T21:01:31.560Z"
   },
   {
    "duration": 33,
    "start_time": "2023-03-08T21:01:31.567Z"
   },
   {
    "duration": 22,
    "start_time": "2023-03-08T21:01:31.602Z"
   },
   {
    "duration": 13,
    "start_time": "2023-03-08T21:01:31.625Z"
   },
   {
    "duration": 338,
    "start_time": "2023-03-08T21:01:31.652Z"
   },
   {
    "duration": 5,
    "start_time": "2023-03-08T21:01:31.992Z"
   },
   {
    "duration": 9,
    "start_time": "2023-03-08T21:01:31.998Z"
   },
   {
    "duration": 10,
    "start_time": "2023-03-08T21:01:32.009Z"
   },
   {
    "duration": 2244,
    "start_time": "2023-03-08T21:01:32.020Z"
   },
   {
    "duration": 10,
    "start_time": "2023-03-08T21:01:34.266Z"
   },
   {
    "duration": 429,
    "start_time": "2023-03-08T21:01:34.278Z"
   },
   {
    "duration": 268,
    "start_time": "2023-03-08T21:01:34.709Z"
   },
   {
    "duration": 205,
    "start_time": "2023-03-08T21:01:34.979Z"
   },
   {
    "duration": 320,
    "start_time": "2023-03-08T21:01:35.186Z"
   },
   {
    "duration": 501,
    "start_time": "2023-03-08T21:01:35.508Z"
   },
   {
    "duration": 508,
    "start_time": "2023-03-08T21:01:36.011Z"
   },
   {
    "duration": 25,
    "start_time": "2023-03-08T21:01:36.520Z"
   },
   {
    "duration": 1713,
    "start_time": "2023-03-08T21:01:36.551Z"
   },
   {
    "duration": 372,
    "start_time": "2023-03-08T21:01:38.266Z"
   },
   {
    "duration": 374,
    "start_time": "2023-03-08T21:01:38.640Z"
   },
   {
    "duration": 332,
    "start_time": "2023-03-08T21:01:39.017Z"
   },
   {
    "duration": 147,
    "start_time": "2023-03-08T21:01:39.356Z"
   },
   {
    "duration": 383,
    "start_time": "2023-03-08T21:01:45.914Z"
   },
   {
    "duration": 323,
    "start_time": "2023-03-08T21:01:50.129Z"
   },
   {
    "duration": 1906,
    "start_time": "2023-03-08T21:11:13.369Z"
   },
   {
    "duration": 9,
    "start_time": "2023-03-08T21:25:14.642Z"
   },
   {
    "duration": 12,
    "start_time": "2023-03-08T21:25:26.123Z"
   },
   {
    "duration": 6,
    "start_time": "2023-03-08T21:25:58.266Z"
   },
   {
    "duration": 4,
    "start_time": "2023-03-08T21:26:05.815Z"
   },
   {
    "duration": 16,
    "start_time": "2023-03-08T21:26:18.325Z"
   },
   {
    "duration": 4,
    "start_time": "2023-03-08T21:26:20.174Z"
   },
   {
    "duration": 7,
    "start_time": "2023-03-08T21:26:28.223Z"
   },
   {
    "duration": 5,
    "start_time": "2023-03-08T21:26:30.383Z"
   },
   {
    "duration": 7,
    "start_time": "2023-03-08T21:26:48.633Z"
   },
   {
    "duration": 5,
    "start_time": "2023-03-08T21:26:50.093Z"
   },
   {
    "duration": 7,
    "start_time": "2023-03-08T21:27:09.970Z"
   },
   {
    "duration": 5,
    "start_time": "2023-03-08T21:27:11.730Z"
   },
   {
    "duration": 3,
    "start_time": "2023-03-08T21:27:26.291Z"
   },
   {
    "duration": 49,
    "start_time": "2023-03-08T21:27:56.883Z"
   },
   {
    "duration": 68,
    "start_time": "2023-03-08T21:28:05.503Z"
   },
   {
    "duration": 11,
    "start_time": "2023-03-08T21:28:43.977Z"
   },
   {
    "duration": 7,
    "start_time": "2023-03-08T21:28:53.810Z"
   },
   {
    "duration": 5,
    "start_time": "2023-03-08T21:29:07.503Z"
   },
   {
    "duration": 49,
    "start_time": "2023-03-08T21:29:37.261Z"
   },
   {
    "duration": 43,
    "start_time": "2023-03-08T21:29:48.698Z"
   },
   {
    "duration": 52,
    "start_time": "2023-03-08T21:29:56.426Z"
   },
   {
    "duration": 8,
    "start_time": "2023-03-08T21:30:05.409Z"
   },
   {
    "duration": 5,
    "start_time": "2023-03-08T21:30:15.938Z"
   },
   {
    "duration": 4,
    "start_time": "2023-03-08T21:30:26.625Z"
   },
   {
    "duration": 6,
    "start_time": "2023-03-08T21:31:37.612Z"
   },
   {
    "duration": 5,
    "start_time": "2023-03-08T21:32:02.824Z"
   },
   {
    "duration": 11,
    "start_time": "2023-03-08T21:32:32.943Z"
   },
   {
    "duration": 9,
    "start_time": "2023-03-08T21:34:52.736Z"
   },
   {
    "duration": 10,
    "start_time": "2023-03-08T21:38:15.827Z"
   },
   {
    "duration": 6,
    "start_time": "2023-03-08T21:38:24.336Z"
   },
   {
    "duration": 5,
    "start_time": "2023-03-08T21:38:35.269Z"
   },
   {
    "duration": 6,
    "start_time": "2023-03-08T21:38:43.397Z"
   },
   {
    "duration": 9,
    "start_time": "2023-03-08T21:39:08.261Z"
   },
   {
    "duration": 6,
    "start_time": "2023-03-08T21:39:21.997Z"
   },
   {
    "duration": 5,
    "start_time": "2023-03-08T21:39:30.697Z"
   },
   {
    "duration": 7,
    "start_time": "2023-03-08T21:39:39.628Z"
   },
   {
    "duration": 8,
    "start_time": "2023-03-08T21:40:09.277Z"
   },
   {
    "duration": 9,
    "start_time": "2023-03-08T21:40:17.297Z"
   },
   {
    "duration": 8,
    "start_time": "2023-03-08T21:42:09.529Z"
   },
   {
    "duration": 5,
    "start_time": "2023-03-08T21:42:17.576Z"
   },
   {
    "duration": 43,
    "start_time": "2023-03-08T21:42:30.419Z"
   },
   {
    "duration": 11,
    "start_time": "2023-03-08T21:43:51.737Z"
   },
   {
    "duration": 5,
    "start_time": "2023-03-08T21:49:50.616Z"
   },
   {
    "duration": 10,
    "start_time": "2023-03-08T21:49:59.905Z"
   },
   {
    "duration": 4,
    "start_time": "2023-03-08T21:50:11.647Z"
   },
   {
    "duration": 25,
    "start_time": "2023-03-08T21:50:42.342Z"
   },
   {
    "duration": 22,
    "start_time": "2023-03-08T21:50:53.801Z"
   },
   {
    "duration": 8,
    "start_time": "2023-03-08T21:51:20.198Z"
   },
   {
    "duration": 8,
    "start_time": "2023-03-08T21:51:26.680Z"
   },
   {
    "duration": 29,
    "start_time": "2023-03-08T21:51:38.810Z"
   },
   {
    "duration": 6,
    "start_time": "2023-03-08T21:53:57.422Z"
   },
   {
    "duration": 10,
    "start_time": "2023-03-08T21:54:03.579Z"
   },
   {
    "duration": 9,
    "start_time": "2023-03-08T21:54:18.082Z"
   },
   {
    "duration": 9,
    "start_time": "2023-03-08T21:54:33.662Z"
   },
   {
    "duration": 9,
    "start_time": "2023-03-08T21:54:38.638Z"
   },
   {
    "duration": 8,
    "start_time": "2023-03-08T21:54:48.480Z"
   },
   {
    "duration": 9,
    "start_time": "2023-03-08T21:55:04.498Z"
   },
   {
    "duration": 11,
    "start_time": "2023-03-08T21:55:15.181Z"
   },
   {
    "duration": 9,
    "start_time": "2023-03-08T21:58:11.217Z"
   },
   {
    "duration": 11,
    "start_time": "2023-03-08T21:58:18.037Z"
   },
   {
    "duration": 11,
    "start_time": "2023-03-08T21:58:28.941Z"
   },
   {
    "duration": 10,
    "start_time": "2023-03-08T21:58:35.116Z"
   },
   {
    "duration": 13,
    "start_time": "2023-03-08T21:58:58.073Z"
   },
   {
    "duration": 9,
    "start_time": "2023-03-08T21:59:07.846Z"
   },
   {
    "duration": 12,
    "start_time": "2023-03-08T21:59:13.173Z"
   },
   {
    "duration": 12,
    "start_time": "2023-03-08T22:00:50.709Z"
   },
   {
    "duration": 13,
    "start_time": "2023-03-08T22:01:17.341Z"
   },
   {
    "duration": 13,
    "start_time": "2023-03-08T22:01:56.187Z"
   },
   {
    "duration": 8,
    "start_time": "2023-03-08T22:02:44.424Z"
   },
   {
    "duration": 9,
    "start_time": "2023-03-08T22:02:52.515Z"
   },
   {
    "duration": 9,
    "start_time": "2023-03-08T22:03:00.941Z"
   },
   {
    "duration": 10,
    "start_time": "2023-03-08T22:03:16.542Z"
   },
   {
    "duration": 13,
    "start_time": "2023-03-08T22:03:26.971Z"
   },
   {
    "duration": 10,
    "start_time": "2023-03-08T22:03:32.642Z"
   },
   {
    "duration": 12,
    "start_time": "2023-03-08T22:03:47.783Z"
   },
   {
    "duration": 8,
    "start_time": "2023-03-08T22:04:05.433Z"
   },
   {
    "duration": 12,
    "start_time": "2023-03-08T22:04:14.471Z"
   },
   {
    "duration": 7,
    "start_time": "2023-03-08T22:04:26.577Z"
   },
   {
    "duration": 9,
    "start_time": "2023-03-08T22:04:36.859Z"
   },
   {
    "duration": 13,
    "start_time": "2023-03-08T22:04:53.622Z"
   },
   {
    "duration": 16,
    "start_time": "2023-03-08T22:05:39.613Z"
   },
   {
    "duration": 8,
    "start_time": "2023-03-08T22:06:19.227Z"
   },
   {
    "duration": 11,
    "start_time": "2023-03-08T22:06:24.536Z"
   },
   {
    "duration": 10,
    "start_time": "2023-03-08T22:06:35.577Z"
   },
   {
    "duration": 9,
    "start_time": "2023-03-08T22:08:20.430Z"
   },
   {
    "duration": 10,
    "start_time": "2023-03-08T22:09:59.317Z"
   },
   {
    "duration": 10,
    "start_time": "2023-03-08T22:10:00.297Z"
   },
   {
    "duration": 13,
    "start_time": "2023-03-08T22:12:16.850Z"
   },
   {
    "duration": 11,
    "start_time": "2023-03-08T22:12:28.043Z"
   },
   {
    "duration": 9,
    "start_time": "2023-03-08T22:13:29.580Z"
   },
   {
    "duration": 19,
    "start_time": "2023-03-08T22:16:53.973Z"
   },
   {
    "duration": 12,
    "start_time": "2023-03-08T22:17:23.978Z"
   },
   {
    "duration": 17,
    "start_time": "2023-03-08T22:20:24.852Z"
   },
   {
    "duration": 13,
    "start_time": "2023-03-08T22:20:47.301Z"
   },
   {
    "duration": 8,
    "start_time": "2023-03-08T22:22:37.214Z"
   },
   {
    "duration": 8,
    "start_time": "2023-03-08T22:22:44.924Z"
   },
   {
    "duration": 9,
    "start_time": "2023-03-08T22:24:22.250Z"
   },
   {
    "duration": 18,
    "start_time": "2023-03-08T22:24:41.998Z"
   },
   {
    "duration": 8,
    "start_time": "2023-03-08T22:25:08.500Z"
   },
   {
    "duration": 9,
    "start_time": "2023-03-08T22:25:18.870Z"
   },
   {
    "duration": 43,
    "start_time": "2023-03-08T22:25:32.940Z"
   },
   {
    "duration": 47,
    "start_time": "2023-03-08T22:27:02.141Z"
   },
   {
    "duration": 45,
    "start_time": "2023-03-08T22:27:14.060Z"
   },
   {
    "duration": 42,
    "start_time": "2023-03-08T22:27:40.500Z"
   },
   {
    "duration": 18,
    "start_time": "2023-03-08T22:29:59.225Z"
   },
   {
    "duration": 24,
    "start_time": "2023-03-08T22:31:59.630Z"
   },
   {
    "duration": 18,
    "start_time": "2023-03-08T22:32:07.788Z"
   },
   {
    "duration": 18,
    "start_time": "2023-03-08T22:32:23.569Z"
   },
   {
    "duration": 216,
    "start_time": "2023-03-08T22:32:45.857Z"
   },
   {
    "duration": 21,
    "start_time": "2023-03-08T22:33:11.989Z"
   },
   {
    "duration": 20,
    "start_time": "2023-03-08T22:39:54.000Z"
   },
   {
    "duration": 20,
    "start_time": "2023-03-08T22:40:11.109Z"
   },
   {
    "duration": 25,
    "start_time": "2023-03-08T22:40:25.756Z"
   },
   {
    "duration": 30,
    "start_time": "2023-03-08T22:40:35.280Z"
   },
   {
    "duration": 57,
    "start_time": "2023-03-08T22:41:40.014Z"
   },
   {
    "duration": 54,
    "start_time": "2023-03-08T22:41:48.901Z"
   },
   {
    "duration": 35,
    "start_time": "2023-03-08T22:45:33.842Z"
   },
   {
    "duration": 15,
    "start_time": "2023-03-08T22:46:11.924Z"
   },
   {
    "duration": 12,
    "start_time": "2023-03-08T22:46:42.395Z"
   },
   {
    "duration": 11,
    "start_time": "2023-03-08T22:46:44.004Z"
   },
   {
    "duration": 14,
    "start_time": "2023-03-08T22:48:18.125Z"
   },
   {
    "duration": 14,
    "start_time": "2023-03-08T22:49:03.745Z"
   },
   {
    "duration": 13,
    "start_time": "2023-03-08T22:49:19.109Z"
   },
   {
    "duration": 11,
    "start_time": "2023-03-08T22:49:34.847Z"
   },
   {
    "duration": 20,
    "start_time": "2023-03-08T22:50:37.299Z"
   },
   {
    "duration": 24,
    "start_time": "2023-03-08T22:50:48.978Z"
   },
   {
    "duration": 48,
    "start_time": "2023-03-08T22:52:55.401Z"
   },
   {
    "duration": 25,
    "start_time": "2023-03-08T22:53:00.684Z"
   },
   {
    "duration": 27,
    "start_time": "2023-03-08T22:54:31.744Z"
   },
   {
    "duration": 24,
    "start_time": "2023-03-08T22:55:07.925Z"
   },
   {
    "duration": 26,
    "start_time": "2023-03-08T22:55:24.602Z"
   },
   {
    "duration": 24,
    "start_time": "2023-03-08T22:56:31.575Z"
   },
   {
    "duration": 30,
    "start_time": "2023-03-08T22:57:15.011Z"
   },
   {
    "duration": 26,
    "start_time": "2023-03-08T22:57:24.680Z"
   },
   {
    "duration": 10,
    "start_time": "2023-03-08T22:58:54.398Z"
   },
   {
    "duration": 28,
    "start_time": "2023-03-08T23:00:20.669Z"
   },
   {
    "duration": 30,
    "start_time": "2023-03-08T23:00:33.421Z"
   },
   {
    "duration": 32,
    "start_time": "2023-03-08T23:00:39.869Z"
   },
   {
    "duration": 13,
    "start_time": "2023-03-08T23:01:06.429Z"
   },
   {
    "duration": 12,
    "start_time": "2023-03-08T23:01:22.508Z"
   },
   {
    "duration": 13,
    "start_time": "2023-03-08T23:01:30.791Z"
   },
   {
    "duration": 26,
    "start_time": "2023-03-08T23:01:36.179Z"
   },
   {
    "duration": 11,
    "start_time": "2023-03-08T23:03:13.148Z"
   },
   {
    "duration": 600,
    "start_time": "2023-03-08T23:12:34.980Z"
   },
   {
    "duration": 267,
    "start_time": "2023-03-08T23:12:35.582Z"
   },
   {
    "duration": 3,
    "start_time": "2023-03-08T23:12:35.851Z"
   },
   {
    "duration": 47,
    "start_time": "2023-03-08T23:12:35.856Z"
   },
   {
    "duration": 101,
    "start_time": "2023-03-08T23:12:35.905Z"
   },
   {
    "duration": 31,
    "start_time": "2023-03-08T23:12:36.007Z"
   },
   {
    "duration": 65,
    "start_time": "2023-03-08T23:12:36.040Z"
   },
   {
    "duration": 1711,
    "start_time": "2023-03-08T23:12:36.106Z"
   },
   {
    "duration": 8,
    "start_time": "2023-03-08T23:12:37.819Z"
   },
   {
    "duration": 8,
    "start_time": "2023-03-08T23:12:37.829Z"
   },
   {
    "duration": 6,
    "start_time": "2023-03-08T23:12:37.839Z"
   },
   {
    "duration": 8,
    "start_time": "2023-03-08T23:12:37.846Z"
   },
   {
    "duration": 10,
    "start_time": "2023-03-08T23:12:37.855Z"
   },
   {
    "duration": 5,
    "start_time": "2023-03-08T23:12:37.868Z"
   },
   {
    "duration": 8,
    "start_time": "2023-03-08T23:12:37.874Z"
   },
   {
    "duration": 282,
    "start_time": "2023-03-08T23:12:37.884Z"
   },
   {
    "duration": 8,
    "start_time": "2023-03-08T23:12:38.168Z"
   },
   {
    "duration": 11,
    "start_time": "2023-03-08T23:12:38.178Z"
   },
   {
    "duration": 11327,
    "start_time": "2023-03-08T23:12:38.190Z"
   },
   {
    "duration": 18,
    "start_time": "2023-03-08T23:12:49.519Z"
   },
   {
    "duration": 7,
    "start_time": "2023-03-08T23:12:49.538Z"
   },
   {
    "duration": 5,
    "start_time": "2023-03-08T23:12:49.547Z"
   },
   {
    "duration": 16,
    "start_time": "2023-03-08T23:12:49.553Z"
   },
   {
    "duration": 5,
    "start_time": "2023-03-08T23:12:49.571Z"
   },
   {
    "duration": 11,
    "start_time": "2023-03-08T23:12:49.578Z"
   },
   {
    "duration": 6,
    "start_time": "2023-03-08T23:12:49.590Z"
   },
   {
    "duration": 169,
    "start_time": "2023-03-08T23:12:49.631Z"
   },
   {
    "duration": 6,
    "start_time": "2023-03-08T23:12:49.801Z"
   },
   {
    "duration": 13,
    "start_time": "2023-03-08T23:12:49.808Z"
   },
   {
    "duration": 31,
    "start_time": "2023-03-08T23:12:49.831Z"
   },
   {
    "duration": 9,
    "start_time": "2023-03-08T23:12:49.863Z"
   },
   {
    "duration": 6,
    "start_time": "2023-03-08T23:12:49.873Z"
   },
   {
    "duration": 4,
    "start_time": "2023-03-08T23:12:49.880Z"
   },
   {
    "duration": 64,
    "start_time": "2023-03-08T23:12:49.885Z"
   },
   {
    "duration": 15,
    "start_time": "2023-03-08T23:12:49.950Z"
   },
   {
    "duration": 408,
    "start_time": "2023-03-08T23:12:49.966Z"
   },
   {
    "duration": 6,
    "start_time": "2023-03-08T23:12:50.375Z"
   },
   {
    "duration": 11,
    "start_time": "2023-03-08T23:12:50.382Z"
   },
   {
    "duration": 43,
    "start_time": "2023-03-08T23:12:50.395Z"
   },
   {
    "duration": 15,
    "start_time": "2023-03-08T23:12:50.439Z"
   },
   {
    "duration": 174,
    "start_time": "2023-03-08T23:12:50.458Z"
   },
   {
    "duration": 11,
    "start_time": "2023-03-08T23:12:50.634Z"
   },
   {
    "duration": 37,
    "start_time": "2023-03-08T23:12:50.647Z"
   },
   {
    "duration": 6,
    "start_time": "2023-03-08T23:12:50.685Z"
   },
   {
    "duration": 21,
    "start_time": "2023-03-08T23:12:50.692Z"
   },
   {
    "duration": 38,
    "start_time": "2023-03-08T23:12:50.715Z"
   },
   {
    "duration": 26,
    "start_time": "2023-03-08T23:12:50.755Z"
   },
   {
    "duration": 4,
    "start_time": "2023-03-08T23:12:50.783Z"
   },
   {
    "duration": 57,
    "start_time": "2023-03-08T23:12:50.789Z"
   },
   {
    "duration": 4,
    "start_time": "2023-03-08T23:12:50.848Z"
   },
   {
    "duration": 11,
    "start_time": "2023-03-08T23:12:50.854Z"
   },
   {
    "duration": 10,
    "start_time": "2023-03-08T23:12:50.866Z"
   },
   {
    "duration": 12,
    "start_time": "2023-03-08T23:12:50.877Z"
   },
   {
    "duration": 317,
    "start_time": "2023-03-08T23:12:50.891Z"
   },
   {
    "duration": 5,
    "start_time": "2023-03-08T23:12:51.209Z"
   },
   {
    "duration": 21,
    "start_time": "2023-03-08T23:12:51.216Z"
   },
   {
    "duration": 35,
    "start_time": "2023-03-08T23:12:51.238Z"
   },
   {
    "duration": 1837,
    "start_time": "2023-03-08T23:12:51.275Z"
   },
   {
    "duration": 18,
    "start_time": "2023-03-08T23:12:53.113Z"
   },
   {
    "duration": 352,
    "start_time": "2023-03-08T23:12:53.132Z"
   },
   {
    "duration": 212,
    "start_time": "2023-03-08T23:12:53.486Z"
   },
   {
    "duration": 190,
    "start_time": "2023-03-08T23:12:53.700Z"
   },
   {
    "duration": 297,
    "start_time": "2023-03-08T23:12:53.893Z"
   },
   {
    "duration": 511,
    "start_time": "2023-03-08T23:12:54.192Z"
   },
   {
    "duration": 484,
    "start_time": "2023-03-08T23:12:54.705Z"
   },
   {
    "duration": 15,
    "start_time": "2023-03-08T23:12:55.190Z"
   },
   {
    "duration": 1649,
    "start_time": "2023-03-08T23:12:55.207Z"
   },
   {
    "duration": 343,
    "start_time": "2023-03-08T23:12:56.858Z"
   },
   {
    "duration": 375,
    "start_time": "2023-03-08T23:12:57.202Z"
   },
   {
    "duration": 307,
    "start_time": "2023-03-08T23:12:57.578Z"
   },
   {
    "duration": 162,
    "start_time": "2023-03-08T23:12:57.887Z"
   },
   {
    "duration": 308,
    "start_time": "2023-03-08T23:12:58.051Z"
   },
   {
    "duration": 329,
    "start_time": "2023-03-08T23:12:58.360Z"
   },
   {
    "duration": 12,
    "start_time": "2023-03-08T23:12:58.690Z"
   },
   {
    "duration": 37,
    "start_time": "2023-03-08T23:12:58.703Z"
   },
   {
    "duration": 11,
    "start_time": "2023-03-08T23:12:58.741Z"
   },
   {
    "duration": 955,
    "start_time": "2023-03-09T10:05:29.940Z"
   },
   {
    "duration": 272,
    "start_time": "2023-03-09T10:05:30.898Z"
   },
   {
    "duration": 3,
    "start_time": "2023-03-09T10:05:31.173Z"
   },
   {
    "duration": 50,
    "start_time": "2023-03-09T10:05:31.177Z"
   },
   {
    "duration": 105,
    "start_time": "2023-03-09T10:05:31.233Z"
   },
   {
    "duration": 35,
    "start_time": "2023-03-09T10:05:31.340Z"
   },
   {
    "duration": 56,
    "start_time": "2023-03-09T10:05:31.377Z"
   },
   {
    "duration": 2249,
    "start_time": "2023-03-09T10:05:31.444Z"
   },
   {
    "duration": 12,
    "start_time": "2023-03-09T10:05:33.695Z"
   },
   {
    "duration": 42,
    "start_time": "2023-03-09T10:05:33.712Z"
   },
   {
    "duration": 13,
    "start_time": "2023-03-09T10:05:33.755Z"
   },
   {
    "duration": 7,
    "start_time": "2023-03-09T10:05:33.770Z"
   },
   {
    "duration": 11,
    "start_time": "2023-03-09T10:05:33.778Z"
   },
   {
    "duration": 6,
    "start_time": "2023-03-09T10:05:33.792Z"
   },
   {
    "duration": 22,
    "start_time": "2023-03-09T10:05:33.799Z"
   },
   {
    "duration": 365,
    "start_time": "2023-03-09T10:05:33.823Z"
   },
   {
    "duration": 41,
    "start_time": "2023-03-09T10:05:34.190Z"
   },
   {
    "duration": 17,
    "start_time": "2023-03-09T10:05:34.238Z"
   },
   {
    "duration": 15503,
    "start_time": "2023-03-09T10:05:34.257Z"
   },
   {
    "duration": 9,
    "start_time": "2023-03-09T10:05:49.761Z"
   },
   {
    "duration": 14,
    "start_time": "2023-03-09T10:05:49.772Z"
   },
   {
    "duration": 22,
    "start_time": "2023-03-09T10:05:49.788Z"
   },
   {
    "duration": 24,
    "start_time": "2023-03-09T10:05:49.812Z"
   },
   {
    "duration": 12,
    "start_time": "2023-03-09T10:05:49.843Z"
   },
   {
    "duration": 13,
    "start_time": "2023-03-09T10:05:49.857Z"
   },
   {
    "duration": 7,
    "start_time": "2023-03-09T10:05:49.872Z"
   },
   {
    "duration": 285,
    "start_time": "2023-03-09T10:05:49.881Z"
   },
   {
    "duration": 6,
    "start_time": "2023-03-09T10:05:50.168Z"
   },
   {
    "duration": 14,
    "start_time": "2023-03-09T10:05:50.176Z"
   },
   {
    "duration": 67,
    "start_time": "2023-03-09T10:05:50.192Z"
   },
   {
    "duration": 13,
    "start_time": "2023-03-09T10:05:50.260Z"
   },
   {
    "duration": 9,
    "start_time": "2023-03-09T10:05:50.275Z"
   },
   {
    "duration": 44,
    "start_time": "2023-03-09T10:05:50.313Z"
   },
   {
    "duration": 64,
    "start_time": "2023-03-09T10:05:50.359Z"
   },
   {
    "duration": 27,
    "start_time": "2023-03-09T10:05:50.425Z"
   },
   {
    "duration": 545,
    "start_time": "2023-03-09T10:05:50.455Z"
   },
   {
    "duration": 23,
    "start_time": "2023-03-09T10:05:51.004Z"
   },
   {
    "duration": 43,
    "start_time": "2023-03-09T10:05:51.034Z"
   },
   {
    "duration": 73,
    "start_time": "2023-03-09T10:05:51.079Z"
   },
   {
    "duration": 17,
    "start_time": "2023-03-09T10:05:51.154Z"
   },
   {
    "duration": 176,
    "start_time": "2023-03-09T10:05:51.177Z"
   },
   {
    "duration": 15,
    "start_time": "2023-03-09T10:05:51.355Z"
   },
   {
    "duration": 63,
    "start_time": "2023-03-09T10:05:51.372Z"
   },
   {
    "duration": 10,
    "start_time": "2023-03-09T10:05:51.439Z"
   },
   {
    "duration": 12,
    "start_time": "2023-03-09T10:05:51.451Z"
   },
   {
    "duration": 57,
    "start_time": "2023-03-09T10:05:51.465Z"
   },
   {
    "duration": 34,
    "start_time": "2023-03-09T10:05:51.524Z"
   },
   {
    "duration": 5,
    "start_time": "2023-03-09T10:05:51.560Z"
   },
   {
    "duration": 60,
    "start_time": "2023-03-09T10:05:51.567Z"
   },
   {
    "duration": 8,
    "start_time": "2023-03-09T10:05:51.635Z"
   },
   {
    "duration": 13,
    "start_time": "2023-03-09T10:05:51.645Z"
   },
   {
    "duration": 6,
    "start_time": "2023-03-09T10:05:51.660Z"
   },
   {
    "duration": 8,
    "start_time": "2023-03-09T10:05:51.667Z"
   },
   {
    "duration": 433,
    "start_time": "2023-03-09T10:05:51.676Z"
   },
   {
    "duration": 9,
    "start_time": "2023-03-09T10:05:52.116Z"
   },
   {
    "duration": 16,
    "start_time": "2023-03-09T10:05:52.141Z"
   },
   {
    "duration": 20,
    "start_time": "2023-03-09T10:05:52.159Z"
   },
   {
    "duration": 2409,
    "start_time": "2023-03-09T10:05:52.181Z"
   },
   {
    "duration": 43,
    "start_time": "2023-03-09T10:05:54.592Z"
   },
   {
    "duration": 521,
    "start_time": "2023-03-09T10:05:54.639Z"
   },
   {
    "duration": 333,
    "start_time": "2023-03-09T10:05:55.162Z"
   },
   {
    "duration": 279,
    "start_time": "2023-03-09T10:05:55.497Z"
   },
   {
    "duration": 437,
    "start_time": "2023-03-09T10:05:55.778Z"
   },
   {
    "duration": 683,
    "start_time": "2023-03-09T10:05:56.218Z"
   },
   {
    "duration": 665,
    "start_time": "2023-03-09T10:05:56.903Z"
   },
   {
    "duration": 17,
    "start_time": "2023-03-09T10:05:57.570Z"
   },
   {
    "duration": 2236,
    "start_time": "2023-03-09T10:05:57.602Z"
   },
   {
    "duration": 444,
    "start_time": "2023-03-09T10:05:59.841Z"
   },
   {
    "duration": 530,
    "start_time": "2023-03-09T10:06:00.288Z"
   },
   {
    "duration": 419,
    "start_time": "2023-03-09T10:06:00.823Z"
   },
   {
    "duration": 208,
    "start_time": "2023-03-09T10:06:01.246Z"
   },
   {
    "duration": 447,
    "start_time": "2023-03-09T10:06:01.456Z"
   },
   {
    "duration": 453,
    "start_time": "2023-03-09T10:06:01.905Z"
   },
   {
    "duration": 14,
    "start_time": "2023-03-09T10:06:02.360Z"
   },
   {
    "duration": 104,
    "start_time": "2023-03-09T10:06:02.376Z"
   },
   {
    "duration": 114,
    "start_time": "2023-03-09T10:06:02.482Z"
   },
   {
    "duration": 8,
    "start_time": "2023-03-09T10:20:39.425Z"
   },
   {
    "duration": 663,
    "start_time": "2023-03-09T10:20:47.195Z"
   },
   {
    "duration": 432,
    "start_time": "2023-03-09T10:21:37.093Z"
   },
   {
    "duration": 424,
    "start_time": "2023-03-09T10:23:57.091Z"
   },
   {
    "duration": 405,
    "start_time": "2023-03-09T10:24:29.958Z"
   },
   {
    "duration": 425,
    "start_time": "2023-03-09T10:24:46.322Z"
   },
   {
    "duration": 470,
    "start_time": "2023-03-09T10:27:15.812Z"
   },
   {
    "duration": 609,
    "start_time": "2023-03-09T10:27:58.424Z"
   },
   {
    "duration": 468,
    "start_time": "2023-03-09T10:28:17.564Z"
   },
   {
    "duration": 442,
    "start_time": "2023-03-09T10:28:58.543Z"
   },
   {
    "duration": 502,
    "start_time": "2023-03-09T10:29:14.099Z"
   },
   {
    "duration": 783,
    "start_time": "2023-03-09T10:29:33.150Z"
   },
   {
    "duration": 243,
    "start_time": "2023-03-09T10:29:33.938Z"
   },
   {
    "duration": 4,
    "start_time": "2023-03-09T10:29:34.183Z"
   },
   {
    "duration": 100,
    "start_time": "2023-03-09T10:29:34.189Z"
   },
   {
    "duration": 98,
    "start_time": "2023-03-09T10:29:34.291Z"
   },
   {
    "duration": 47,
    "start_time": "2023-03-09T10:29:34.391Z"
   },
   {
    "duration": 51,
    "start_time": "2023-03-09T10:29:34.441Z"
   },
   {
    "duration": 2292,
    "start_time": "2023-03-09T10:29:34.493Z"
   },
   {
    "duration": 10,
    "start_time": "2023-03-09T10:29:36.787Z"
   },
   {
    "duration": 91,
    "start_time": "2023-03-09T10:29:36.799Z"
   },
   {
    "duration": 69,
    "start_time": "2023-03-09T10:29:36.892Z"
   },
   {
    "duration": 14,
    "start_time": "2023-03-09T10:29:36.963Z"
   },
   {
    "duration": 71,
    "start_time": "2023-03-09T10:29:36.978Z"
   },
   {
    "duration": 16,
    "start_time": "2023-03-09T10:29:37.053Z"
   },
   {
    "duration": 12,
    "start_time": "2023-03-09T10:29:37.071Z"
   },
   {
    "duration": 397,
    "start_time": "2023-03-09T10:29:37.085Z"
   },
   {
    "duration": 24,
    "start_time": "2023-03-09T10:29:37.484Z"
   },
   {
    "duration": 8,
    "start_time": "2023-03-09T10:29:37.523Z"
   },
   {
    "duration": 16128,
    "start_time": "2023-03-09T10:29:37.537Z"
   },
   {
    "duration": 8,
    "start_time": "2023-03-09T10:29:53.667Z"
   },
   {
    "duration": 7,
    "start_time": "2023-03-09T10:29:53.676Z"
   },
   {
    "duration": 35,
    "start_time": "2023-03-09T10:29:53.685Z"
   },
   {
    "duration": 29,
    "start_time": "2023-03-09T10:29:53.722Z"
   },
   {
    "duration": 9,
    "start_time": "2023-03-09T10:29:53.754Z"
   },
   {
    "duration": 12,
    "start_time": "2023-03-09T10:29:53.765Z"
   },
   {
    "duration": 5,
    "start_time": "2023-03-09T10:29:53.779Z"
   },
   {
    "duration": 274,
    "start_time": "2023-03-09T10:29:53.785Z"
   },
   {
    "duration": 6,
    "start_time": "2023-03-09T10:29:54.061Z"
   },
   {
    "duration": 13,
    "start_time": "2023-03-09T10:29:54.069Z"
   },
   {
    "duration": 62,
    "start_time": "2023-03-09T10:29:54.083Z"
   },
   {
    "duration": 13,
    "start_time": "2023-03-09T10:29:54.151Z"
   },
   {
    "duration": 11,
    "start_time": "2023-03-09T10:29:54.166Z"
   },
   {
    "duration": 6,
    "start_time": "2023-03-09T10:29:54.179Z"
   },
   {
    "duration": 80,
    "start_time": "2023-03-09T10:29:54.187Z"
   },
   {
    "duration": 17,
    "start_time": "2023-03-09T10:29:54.269Z"
   },
   {
    "duration": 505,
    "start_time": "2023-03-09T10:29:54.288Z"
   },
   {
    "duration": 13,
    "start_time": "2023-03-09T10:29:54.808Z"
   },
   {
    "duration": 47,
    "start_time": "2023-03-09T10:29:54.828Z"
   },
   {
    "duration": 40,
    "start_time": "2023-03-09T10:29:54.877Z"
   },
   {
    "duration": 19,
    "start_time": "2023-03-09T10:29:54.919Z"
   },
   {
    "duration": 189,
    "start_time": "2023-03-09T10:29:54.944Z"
   },
   {
    "duration": 13,
    "start_time": "2023-03-09T10:29:55.136Z"
   },
   {
    "duration": 43,
    "start_time": "2023-03-09T10:29:55.152Z"
   },
   {
    "duration": 10,
    "start_time": "2023-03-09T10:29:55.198Z"
   },
   {
    "duration": 56,
    "start_time": "2023-03-09T10:29:55.209Z"
   },
   {
    "duration": 44,
    "start_time": "2023-03-09T10:29:55.267Z"
   },
   {
    "duration": 53,
    "start_time": "2023-03-09T10:29:55.314Z"
   },
   {
    "duration": 6,
    "start_time": "2023-03-09T10:29:55.368Z"
   },
   {
    "duration": 60,
    "start_time": "2023-03-09T10:29:55.375Z"
   },
   {
    "duration": 22,
    "start_time": "2023-03-09T10:29:55.437Z"
   },
   {
    "duration": 15,
    "start_time": "2023-03-09T10:29:55.461Z"
   },
   {
    "duration": 7,
    "start_time": "2023-03-09T10:29:55.477Z"
   },
   {
    "duration": 7,
    "start_time": "2023-03-09T10:29:55.485Z"
   },
   {
    "duration": 478,
    "start_time": "2023-03-09T10:29:55.493Z"
   },
   {
    "duration": 6,
    "start_time": "2023-03-09T10:29:55.973Z"
   },
   {
    "duration": 9,
    "start_time": "2023-03-09T10:29:55.980Z"
   },
   {
    "duration": 20,
    "start_time": "2023-03-09T10:29:55.990Z"
   },
   {
    "duration": 2490,
    "start_time": "2023-03-09T10:29:56.012Z"
   },
   {
    "duration": 10,
    "start_time": "2023-03-09T10:29:58.504Z"
   },
   {
    "duration": 617,
    "start_time": "2023-03-09T10:29:58.515Z"
   },
   {
    "duration": 310,
    "start_time": "2023-03-09T10:29:59.134Z"
   },
   {
    "duration": 261,
    "start_time": "2023-03-09T10:29:59.450Z"
   },
   {
    "duration": 434,
    "start_time": "2023-03-09T10:29:59.713Z"
   },
   {
    "duration": 730,
    "start_time": "2023-03-09T10:30:00.149Z"
   },
   {
    "duration": 664,
    "start_time": "2023-03-09T10:30:00.881Z"
   },
   {
    "duration": 21,
    "start_time": "2023-03-09T10:30:01.548Z"
   },
   {
    "duration": 2321,
    "start_time": "2023-03-09T10:30:01.571Z"
   },
   {
    "duration": 455,
    "start_time": "2023-03-09T10:30:03.894Z"
   },
   {
    "duration": 592,
    "start_time": "2023-03-09T10:30:04.357Z"
   },
   {
    "duration": 418,
    "start_time": "2023-03-09T10:30:04.951Z"
   },
   {
    "duration": 225,
    "start_time": "2023-03-09T10:30:05.372Z"
   },
   {
    "duration": 411,
    "start_time": "2023-03-09T10:30:05.600Z"
   },
   {
    "duration": 464,
    "start_time": "2023-03-09T10:30:06.013Z"
   },
   {
    "duration": 13,
    "start_time": "2023-03-09T10:30:06.479Z"
   },
   {
    "duration": 45,
    "start_time": "2023-03-09T10:30:06.502Z"
   },
   {
    "duration": 31,
    "start_time": "2023-03-09T10:30:06.549Z"
   },
   {
    "duration": 2639,
    "start_time": "2023-03-09T10:32:03.328Z"
   },
   {
    "duration": 2695,
    "start_time": "2023-03-09T10:32:36.054Z"
   },
   {
    "duration": 102,
    "start_time": "2023-03-09T10:35:25.094Z"
   },
   {
    "duration": 146,
    "start_time": "2023-03-09T10:35:35.390Z"
   },
   {
    "duration": 10,
    "start_time": "2023-03-09T10:35:57.146Z"
   },
   {
    "duration": 1157,
    "start_time": "2023-03-09T11:01:09.542Z"
   },
   {
    "duration": 26,
    "start_time": "2023-03-09T11:01:31.383Z"
   },
   {
    "duration": 49,
    "start_time": "2023-03-09T11:01:49.220Z"
   },
   {
    "duration": 19,
    "start_time": "2023-03-09T11:02:11.068Z"
   },
   {
    "duration": 41,
    "start_time": "2023-03-09T11:02:18.443Z"
   },
   {
    "duration": 42,
    "start_time": "2023-03-09T11:02:32.581Z"
   },
   {
    "duration": 37,
    "start_time": "2023-03-09T11:02:44.126Z"
   },
   {
    "duration": 31,
    "start_time": "2023-03-09T11:03:11.240Z"
   },
   {
    "duration": 18,
    "start_time": "2023-03-09T11:03:36.740Z"
   },
   {
    "duration": 15,
    "start_time": "2023-03-09T11:05:01.953Z"
   },
   {
    "duration": 19,
    "start_time": "2023-03-09T11:05:29.134Z"
   },
   {
    "duration": 52,
    "start_time": "2023-03-09T11:06:46.485Z"
   },
   {
    "duration": 18,
    "start_time": "2023-03-09T11:06:57.437Z"
   },
   {
    "duration": 220,
    "start_time": "2023-03-09T11:07:02.939Z"
   },
   {
    "duration": 233,
    "start_time": "2023-03-09T11:07:53.730Z"
   },
   {
    "duration": 224,
    "start_time": "2023-03-09T11:08:05.628Z"
   },
   {
    "duration": 12,
    "start_time": "2023-03-09T11:09:48.119Z"
   },
   {
    "duration": 318,
    "start_time": "2023-03-09T11:10:02.529Z"
   },
   {
    "duration": 26,
    "start_time": "2023-03-09T11:12:28.191Z"
   },
   {
    "duration": 193,
    "start_time": "2023-03-09T11:12:31.484Z"
   },
   {
    "duration": 39,
    "start_time": "2023-03-09T11:14:11.390Z"
   },
   {
    "duration": 22,
    "start_time": "2023-03-09T11:15:10.062Z"
   },
   {
    "duration": 20,
    "start_time": "2023-03-09T11:15:53.158Z"
   },
   {
    "duration": 31,
    "start_time": "2023-03-09T11:16:52.449Z"
   },
   {
    "duration": 45,
    "start_time": "2023-03-09T11:17:31.641Z"
   },
   {
    "duration": 57,
    "start_time": "2023-03-09T11:17:56.455Z"
   },
   {
    "duration": 55,
    "start_time": "2023-03-09T11:18:08.491Z"
   },
   {
    "duration": 43,
    "start_time": "2023-03-09T11:18:43.114Z"
   },
   {
    "duration": 47,
    "start_time": "2023-03-09T11:18:55.343Z"
   },
   {
    "duration": 38,
    "start_time": "2023-03-09T11:19:16.696Z"
   },
   {
    "duration": 32,
    "start_time": "2023-03-09T11:19:22.465Z"
   },
   {
    "duration": 43,
    "start_time": "2023-03-09T11:19:39.832Z"
   },
   {
    "duration": 31,
    "start_time": "2023-03-09T11:19:55.655Z"
   },
   {
    "duration": 44,
    "start_time": "2023-03-09T11:20:07.901Z"
   },
   {
    "duration": 4,
    "start_time": "2023-03-09T11:20:36.014Z"
   },
   {
    "duration": 30,
    "start_time": "2023-03-09T11:20:40.470Z"
   },
   {
    "duration": 29,
    "start_time": "2023-03-09T11:20:47.727Z"
   },
   {
    "duration": 31,
    "start_time": "2023-03-09T11:23:43.856Z"
   },
   {
    "duration": 769,
    "start_time": "2023-03-09T11:25:43.663Z"
   },
   {
    "duration": 39,
    "start_time": "2023-03-09T11:28:03.735Z"
   },
   {
    "duration": 29,
    "start_time": "2023-03-09T11:28:09.456Z"
   },
   {
    "duration": 32,
    "start_time": "2023-03-09T11:28:18.257Z"
   },
   {
    "duration": 22,
    "start_time": "2023-03-09T11:29:08.089Z"
   },
   {
    "duration": 11,
    "start_time": "2023-03-09T11:30:56.063Z"
   },
   {
    "duration": 192,
    "start_time": "2023-03-09T11:31:04.666Z"
   },
   {
    "duration": 62,
    "start_time": "2023-03-09T11:31:17.949Z"
   },
   {
    "duration": 52,
    "start_time": "2023-03-09T11:32:54.310Z"
   },
   {
    "duration": 363,
    "start_time": "2023-03-09T11:35:01.232Z"
   },
   {
    "duration": 18,
    "start_time": "2023-03-09T11:40:06.064Z"
   },
   {
    "duration": 1792,
    "start_time": "2023-03-09T11:40:15.228Z"
   },
   {
    "duration": 54,
    "start_time": "2023-03-09T11:44:19.629Z"
   },
   {
    "duration": 202,
    "start_time": "2023-03-09T11:47:34.422Z"
   },
   {
    "duration": 24,
    "start_time": "2023-03-09T11:47:42.862Z"
   },
   {
    "duration": 4,
    "start_time": "2023-03-09T11:47:45.130Z"
   },
   {
    "duration": 152,
    "start_time": "2023-03-09T11:48:20.471Z"
   },
   {
    "duration": 14,
    "start_time": "2023-03-09T11:49:00.589Z"
   },
   {
    "duration": 42,
    "start_time": "2023-03-09T11:49:38.170Z"
   },
   {
    "duration": 1090,
    "start_time": "2023-03-09T11:49:49.342Z"
   },
   {
    "duration": 10,
    "start_time": "2023-03-09T11:50:12.392Z"
   },
   {
    "duration": 14,
    "start_time": "2023-03-09T11:50:39.869Z"
   },
   {
    "duration": 9,
    "start_time": "2023-03-09T11:51:34.698Z"
   },
   {
    "duration": 24,
    "start_time": "2023-03-09T11:52:05.865Z"
   },
   {
    "duration": 9,
    "start_time": "2023-03-09T11:52:07.426Z"
   },
   {
    "duration": 15,
    "start_time": "2023-03-09T11:52:20.368Z"
   },
   {
    "duration": 153,
    "start_time": "2023-03-09T11:52:43.385Z"
   },
   {
    "duration": 139,
    "start_time": "2023-03-09T11:54:17.489Z"
   },
   {
    "duration": 174,
    "start_time": "2023-03-09T11:54:30.638Z"
   },
   {
    "duration": 165,
    "start_time": "2023-03-09T11:55:06.360Z"
   },
   {
    "duration": 267,
    "start_time": "2023-03-09T11:56:33.342Z"
   },
   {
    "duration": 185,
    "start_time": "2023-03-09T11:56:37.815Z"
   },
   {
    "duration": 20,
    "start_time": "2023-03-09T11:56:47.585Z"
   },
   {
    "duration": 10,
    "start_time": "2023-03-09T11:56:49.007Z"
   },
   {
    "duration": 170,
    "start_time": "2023-03-09T11:57:41.869Z"
   },
   {
    "duration": 206,
    "start_time": "2023-03-09T11:58:17.628Z"
   },
   {
    "duration": 206,
    "start_time": "2023-03-09T11:58:23.316Z"
   },
   {
    "duration": 254,
    "start_time": "2023-03-09T11:58:56.560Z"
   },
   {
    "duration": 25,
    "start_time": "2023-03-09T11:59:04.409Z"
   },
   {
    "duration": 26,
    "start_time": "2023-03-09T11:59:05.308Z"
   },
   {
    "duration": 649,
    "start_time": "2023-03-09T11:59:35.319Z"
   },
   {
    "duration": 567,
    "start_time": "2023-03-09T11:59:42.788Z"
   },
   {
    "duration": 21,
    "start_time": "2023-03-09T11:59:44.677Z"
   },
   {
    "duration": 12,
    "start_time": "2023-03-09T11:59:45.649Z"
   },
   {
    "duration": 740,
    "start_time": "2023-03-09T12:00:22.896Z"
   },
   {
    "duration": 205,
    "start_time": "2023-03-09T12:00:23.638Z"
   },
   {
    "duration": 2,
    "start_time": "2023-03-09T12:00:23.845Z"
   },
   {
    "duration": 25,
    "start_time": "2023-03-09T12:00:23.849Z"
   },
   {
    "duration": 79,
    "start_time": "2023-03-09T12:00:23.877Z"
   },
   {
    "duration": 44,
    "start_time": "2023-03-09T12:00:23.958Z"
   },
   {
    "duration": 33,
    "start_time": "2023-03-09T12:00:24.004Z"
   },
   {
    "duration": 1898,
    "start_time": "2023-03-09T12:00:24.039Z"
   },
   {
    "duration": 10,
    "start_time": "2023-03-09T12:00:25.940Z"
   },
   {
    "duration": 20,
    "start_time": "2023-03-09T12:00:25.952Z"
   },
   {
    "duration": 12,
    "start_time": "2023-03-09T12:00:25.974Z"
   },
   {
    "duration": 12,
    "start_time": "2023-03-09T12:00:25.988Z"
   },
   {
    "duration": 17,
    "start_time": "2023-03-09T12:00:26.002Z"
   },
   {
    "duration": 8,
    "start_time": "2023-03-09T12:00:26.024Z"
   },
   {
    "duration": 12,
    "start_time": "2023-03-09T12:00:26.033Z"
   },
   {
    "duration": 306,
    "start_time": "2023-03-09T12:00:26.047Z"
   },
   {
    "duration": 9,
    "start_time": "2023-03-09T12:00:26.355Z"
   },
   {
    "duration": 33,
    "start_time": "2023-03-09T12:00:26.365Z"
   },
   {
    "duration": 12846,
    "start_time": "2023-03-09T12:00:26.400Z"
   },
   {
    "duration": 7,
    "start_time": "2023-03-09T12:00:39.248Z"
   },
   {
    "duration": 8,
    "start_time": "2023-03-09T12:00:39.257Z"
   },
   {
    "duration": 5,
    "start_time": "2023-03-09T12:00:39.266Z"
   },
   {
    "duration": 33,
    "start_time": "2023-03-09T12:00:39.273Z"
   },
   {
    "duration": 6,
    "start_time": "2023-03-09T12:00:39.308Z"
   },
   {
    "duration": 14,
    "start_time": "2023-03-09T12:00:39.315Z"
   },
   {
    "duration": 7,
    "start_time": "2023-03-09T12:00:39.331Z"
   },
   {
    "duration": 214,
    "start_time": "2023-03-09T12:00:39.340Z"
   },
   {
    "duration": 7,
    "start_time": "2023-03-09T12:00:39.556Z"
   },
   {
    "duration": 12,
    "start_time": "2023-03-09T12:00:39.565Z"
   },
   {
    "duration": 47,
    "start_time": "2023-03-09T12:00:39.579Z"
   },
   {
    "duration": 9,
    "start_time": "2023-03-09T12:00:39.628Z"
   },
   {
    "duration": 5,
    "start_time": "2023-03-09T12:00:39.639Z"
   },
   {
    "duration": 3,
    "start_time": "2023-03-09T12:00:39.646Z"
   },
   {
    "duration": 72,
    "start_time": "2023-03-09T12:00:39.651Z"
   },
   {
    "duration": 17,
    "start_time": "2023-03-09T12:00:39.725Z"
   },
   {
    "duration": 444,
    "start_time": "2023-03-09T12:00:39.744Z"
   },
   {
    "duration": 13,
    "start_time": "2023-03-09T12:00:40.190Z"
   },
   {
    "duration": 34,
    "start_time": "2023-03-09T12:00:40.205Z"
   },
   {
    "duration": 61,
    "start_time": "2023-03-09T12:00:40.242Z"
   },
   {
    "duration": 16,
    "start_time": "2023-03-09T12:00:40.305Z"
   },
   {
    "duration": 201,
    "start_time": "2023-03-09T12:00:40.326Z"
   },
   {
    "duration": 13,
    "start_time": "2023-03-09T12:00:40.529Z"
   },
   {
    "duration": 46,
    "start_time": "2023-03-09T12:00:40.544Z"
   },
   {
    "duration": 15,
    "start_time": "2023-03-09T12:00:40.592Z"
   },
   {
    "duration": 41,
    "start_time": "2023-03-09T12:00:40.609Z"
   },
   {
    "duration": 36,
    "start_time": "2023-03-09T12:00:40.652Z"
   },
   {
    "duration": 28,
    "start_time": "2023-03-09T12:00:40.690Z"
   },
   {
    "duration": 5,
    "start_time": "2023-03-09T12:00:40.720Z"
   },
   {
    "duration": 42,
    "start_time": "2023-03-09T12:00:40.726Z"
   },
   {
    "duration": 5,
    "start_time": "2023-03-09T12:00:40.770Z"
   },
   {
    "duration": 25,
    "start_time": "2023-03-09T12:00:40.777Z"
   },
   {
    "duration": 7,
    "start_time": "2023-03-09T12:00:40.805Z"
   },
   {
    "duration": 9,
    "start_time": "2023-03-09T12:00:40.815Z"
   },
   {
    "duration": 382,
    "start_time": "2023-03-09T12:00:40.825Z"
   },
   {
    "duration": 4,
    "start_time": "2023-03-09T12:00:41.209Z"
   },
   {
    "duration": 44,
    "start_time": "2023-03-09T12:00:41.215Z"
   },
   {
    "duration": 2271,
    "start_time": "2023-03-09T12:00:41.261Z"
   },
   {
    "duration": 10,
    "start_time": "2023-03-09T12:00:43.534Z"
   },
   {
    "duration": 436,
    "start_time": "2023-03-09T12:00:43.546Z"
   },
   {
    "duration": 251,
    "start_time": "2023-03-09T12:00:43.984Z"
   },
   {
    "duration": 220,
    "start_time": "2023-03-09T12:00:44.237Z"
   },
   {
    "duration": 345,
    "start_time": "2023-03-09T12:00:44.459Z"
   },
   {
    "duration": 544,
    "start_time": "2023-03-09T12:00:44.806Z"
   },
   {
    "duration": 515,
    "start_time": "2023-03-09T12:00:45.352Z"
   },
   {
    "duration": 18,
    "start_time": "2023-03-09T12:00:45.869Z"
   },
   {
    "duration": 1774,
    "start_time": "2023-03-09T12:00:45.889Z"
   },
   {
    "duration": 365,
    "start_time": "2023-03-09T12:00:47.665Z"
   },
   {
    "duration": 398,
    "start_time": "2023-03-09T12:00:48.031Z"
   },
   {
    "duration": 391,
    "start_time": "2023-03-09T12:00:48.432Z"
   },
   {
    "duration": 180,
    "start_time": "2023-03-09T12:00:48.825Z"
   },
   {
    "duration": 320,
    "start_time": "2023-03-09T12:00:49.007Z"
   },
   {
    "duration": 369,
    "start_time": "2023-03-09T12:00:49.329Z"
   },
   {
    "duration": 12,
    "start_time": "2023-03-09T12:00:49.701Z"
   },
   {
    "duration": 26,
    "start_time": "2023-03-09T12:00:49.715Z"
   },
   {
    "duration": 9,
    "start_time": "2023-03-09T12:00:49.743Z"
   },
   {
    "duration": 73,
    "start_time": "2023-03-09T12:02:16.605Z"
   },
   {
    "duration": 23,
    "start_time": "2023-03-09T12:02:28.969Z"
   },
   {
    "duration": 13,
    "start_time": "2023-03-09T12:02:30.056Z"
   },
   {
    "duration": 156,
    "start_time": "2023-03-09T12:02:41.470Z"
   },
   {
    "duration": 950,
    "start_time": "2023-03-09T12:05:22.796Z"
   },
   {
    "duration": 942,
    "start_time": "2023-03-09T12:06:02.457Z"
   },
   {
    "duration": 1864,
    "start_time": "2023-03-09T12:06:29.302Z"
   },
   {
    "duration": 1881,
    "start_time": "2023-03-09T12:06:54.844Z"
   },
   {
    "duration": 1004,
    "start_time": "2023-03-09T12:07:44.187Z"
   },
   {
    "duration": 1014,
    "start_time": "2023-03-09T12:08:13.944Z"
   },
   {
    "duration": 1033,
    "start_time": "2023-03-09T12:08:54.194Z"
   },
   {
    "duration": 1143,
    "start_time": "2023-03-09T12:09:09.075Z"
   },
   {
    "duration": 1075,
    "start_time": "2023-03-09T12:09:16.114Z"
   },
   {
    "duration": 1003,
    "start_time": "2023-03-09T12:09:57.363Z"
   },
   {
    "duration": 991,
    "start_time": "2023-03-09T12:10:35.713Z"
   },
   {
    "duration": 1206,
    "start_time": "2023-03-09T12:13:55.353Z"
   },
   {
    "duration": 1045,
    "start_time": "2023-03-09T12:15:42.018Z"
   },
   {
    "duration": 31,
    "start_time": "2023-03-09T12:18:46.406Z"
   },
   {
    "duration": 31,
    "start_time": "2023-03-09T12:18:55.484Z"
   },
   {
    "duration": 19,
    "start_time": "2023-03-09T12:21:13.737Z"
   },
   {
    "duration": 27,
    "start_time": "2023-03-09T12:22:07.335Z"
   },
   {
    "duration": 39,
    "start_time": "2023-03-09T12:22:23.875Z"
   },
   {
    "duration": 37,
    "start_time": "2023-03-09T12:24:29.772Z"
   },
   {
    "duration": 30,
    "start_time": "2023-03-09T12:25:11.760Z"
   },
   {
    "duration": 33,
    "start_time": "2023-03-09T12:25:30.135Z"
   },
   {
    "duration": 28,
    "start_time": "2023-03-09T12:25:43.325Z"
   },
   {
    "duration": 36,
    "start_time": "2023-03-09T12:25:51.139Z"
   },
   {
    "duration": 13,
    "start_time": "2023-03-09T12:26:16.283Z"
   },
   {
    "duration": 33,
    "start_time": "2023-03-09T12:26:59.495Z"
   },
   {
    "duration": 13,
    "start_time": "2023-03-09T12:27:24.178Z"
   },
   {
    "duration": 355,
    "start_time": "2023-03-09T12:29:16.352Z"
   },
   {
    "duration": 73,
    "start_time": "2023-03-09T12:29:36.418Z"
   },
   {
    "duration": 58,
    "start_time": "2023-03-09T12:30:54.194Z"
   },
   {
    "duration": 56,
    "start_time": "2023-03-09T12:31:09.160Z"
   },
   {
    "duration": 239,
    "start_time": "2023-03-09T12:31:42.492Z"
   },
   {
    "duration": 26,
    "start_time": "2023-03-09T12:31:49.778Z"
   },
   {
    "duration": 15,
    "start_time": "2023-03-09T12:31:50.914Z"
   },
   {
    "duration": 686,
    "start_time": "2023-03-09T12:32:08.739Z"
   },
   {
    "duration": 220,
    "start_time": "2023-03-09T12:32:09.427Z"
   },
   {
    "duration": 3,
    "start_time": "2023-03-09T12:32:09.649Z"
   },
   {
    "duration": 19,
    "start_time": "2023-03-09T12:32:09.653Z"
   },
   {
    "duration": 89,
    "start_time": "2023-03-09T12:32:09.674Z"
   },
   {
    "duration": 43,
    "start_time": "2023-03-09T12:32:09.765Z"
   },
   {
    "duration": 34,
    "start_time": "2023-03-09T12:32:09.810Z"
   },
   {
    "duration": 2043,
    "start_time": "2023-03-09T12:32:09.846Z"
   },
   {
    "duration": 9,
    "start_time": "2023-03-09T12:32:11.891Z"
   },
   {
    "duration": 18,
    "start_time": "2023-03-09T12:32:11.902Z"
   },
   {
    "duration": 13,
    "start_time": "2023-03-09T12:32:11.921Z"
   },
   {
    "duration": 10,
    "start_time": "2023-03-09T12:32:11.935Z"
   },
   {
    "duration": 10,
    "start_time": "2023-03-09T12:32:11.947Z"
   },
   {
    "duration": 6,
    "start_time": "2023-03-09T12:32:11.960Z"
   },
   {
    "duration": 7,
    "start_time": "2023-03-09T12:32:11.968Z"
   },
   {
    "duration": 349,
    "start_time": "2023-03-09T12:32:11.977Z"
   },
   {
    "duration": 9,
    "start_time": "2023-03-09T12:32:12.328Z"
   },
   {
    "duration": 6,
    "start_time": "2023-03-09T12:32:12.339Z"
   },
   {
    "duration": 13222,
    "start_time": "2023-03-09T12:32:12.347Z"
   },
   {
    "duration": 10,
    "start_time": "2023-03-09T12:32:25.572Z"
   },
   {
    "duration": 25,
    "start_time": "2023-03-09T12:32:25.584Z"
   },
   {
    "duration": 29,
    "start_time": "2023-03-09T12:32:25.612Z"
   },
   {
    "duration": 17,
    "start_time": "2023-03-09T12:32:25.643Z"
   },
   {
    "duration": 6,
    "start_time": "2023-03-09T12:32:25.662Z"
   },
   {
    "duration": 14,
    "start_time": "2023-03-09T12:32:25.669Z"
   },
   {
    "duration": 8,
    "start_time": "2023-03-09T12:32:25.685Z"
   },
   {
    "duration": 212,
    "start_time": "2023-03-09T12:32:25.694Z"
   },
   {
    "duration": 11,
    "start_time": "2023-03-09T12:32:25.908Z"
   },
   {
    "duration": 15,
    "start_time": "2023-03-09T12:32:25.922Z"
   },
   {
    "duration": 42,
    "start_time": "2023-03-09T12:32:25.939Z"
   },
   {
    "duration": 26,
    "start_time": "2023-03-09T12:32:25.983Z"
   },
   {
    "duration": 20,
    "start_time": "2023-03-09T12:32:26.011Z"
   },
   {
    "duration": 4,
    "start_time": "2023-03-09T12:32:26.033Z"
   },
   {
    "duration": 49,
    "start_time": "2023-03-09T12:32:26.039Z"
   },
   {
    "duration": 30,
    "start_time": "2023-03-09T12:32:26.090Z"
   },
   {
    "duration": 445,
    "start_time": "2023-03-09T12:32:26.123Z"
   },
   {
    "duration": 6,
    "start_time": "2023-03-09T12:32:26.570Z"
   },
   {
    "duration": 48,
    "start_time": "2023-03-09T12:32:26.577Z"
   },
   {
    "duration": 64,
    "start_time": "2023-03-09T12:32:26.627Z"
   },
   {
    "duration": 20,
    "start_time": "2023-03-09T12:32:26.693Z"
   },
   {
    "duration": 190,
    "start_time": "2023-03-09T12:32:26.719Z"
   },
   {
    "duration": 14,
    "start_time": "2023-03-09T12:32:26.911Z"
   },
   {
    "duration": 48,
    "start_time": "2023-03-09T12:32:26.927Z"
   },
   {
    "duration": 6,
    "start_time": "2023-03-09T12:32:26.977Z"
   },
   {
    "duration": 24,
    "start_time": "2023-03-09T12:32:26.985Z"
   },
   {
    "duration": 42,
    "start_time": "2023-03-09T12:32:27.011Z"
   },
   {
    "duration": 27,
    "start_time": "2023-03-09T12:32:27.055Z"
   },
   {
    "duration": 5,
    "start_time": "2023-03-09T12:32:27.084Z"
   },
   {
    "duration": 39,
    "start_time": "2023-03-09T12:32:27.103Z"
   },
   {
    "duration": 4,
    "start_time": "2023-03-09T12:32:27.144Z"
   },
   {
    "duration": 8,
    "start_time": "2023-03-09T12:32:27.150Z"
   },
   {
    "duration": 8,
    "start_time": "2023-03-09T12:32:27.160Z"
   },
   {
    "duration": 32,
    "start_time": "2023-03-09T12:32:27.170Z"
   },
   {
    "duration": 349,
    "start_time": "2023-03-09T12:32:27.204Z"
   },
   {
    "duration": 4,
    "start_time": "2023-03-09T12:32:27.555Z"
   },
   {
    "duration": 14,
    "start_time": "2023-03-09T12:32:27.561Z"
   },
   {
    "duration": 2285,
    "start_time": "2023-03-09T12:32:27.576Z"
   },
   {
    "duration": 9,
    "start_time": "2023-03-09T12:32:29.862Z"
   },
   {
    "duration": 424,
    "start_time": "2023-03-09T12:32:29.873Z"
   },
   {
    "duration": 251,
    "start_time": "2023-03-09T12:32:30.304Z"
   },
   {
    "duration": 235,
    "start_time": "2023-03-09T12:32:30.557Z"
   },
   {
    "duration": 363,
    "start_time": "2023-03-09T12:32:30.794Z"
   },
   {
    "duration": 555,
    "start_time": "2023-03-09T12:32:31.159Z"
   },
   {
    "duration": 558,
    "start_time": "2023-03-09T12:32:31.716Z"
   },
   {
    "duration": 27,
    "start_time": "2023-03-09T12:32:32.276Z"
   },
   {
    "duration": 1779,
    "start_time": "2023-03-09T12:32:32.304Z"
   },
   {
    "duration": 389,
    "start_time": "2023-03-09T12:32:34.085Z"
   },
   {
    "duration": 422,
    "start_time": "2023-03-09T12:32:34.475Z"
   },
   {
    "duration": 378,
    "start_time": "2023-03-09T12:32:34.901Z"
   },
   {
    "duration": 183,
    "start_time": "2023-03-09T12:32:35.280Z"
   },
   {
    "duration": 362,
    "start_time": "2023-03-09T12:32:35.465Z"
   },
   {
    "duration": 409,
    "start_time": "2023-03-09T12:32:35.830Z"
   },
   {
    "duration": 12,
    "start_time": "2023-03-09T12:32:36.241Z"
   },
   {
    "duration": 26,
    "start_time": "2023-03-09T12:32:36.255Z"
   },
   {
    "duration": 12,
    "start_time": "2023-03-09T12:32:36.301Z"
   },
   {
    "duration": 28,
    "start_time": "2023-03-09T12:32:42.178Z"
   },
   {
    "duration": 15,
    "start_time": "2023-03-09T12:32:43.164Z"
   },
   {
    "duration": 507,
    "start_time": "2023-03-09T12:32:54.730Z"
   },
   {
    "duration": 30,
    "start_time": "2023-03-09T12:33:01.085Z"
   },
   {
    "duration": 7,
    "start_time": "2023-03-09T12:33:02.132Z"
   },
   {
    "duration": 692,
    "start_time": "2023-03-09T12:40:12.831Z"
   },
   {
    "duration": 309,
    "start_time": "2023-03-09T12:40:13.525Z"
   },
   {
    "duration": 3,
    "start_time": "2023-03-09T12:40:13.836Z"
   },
   {
    "duration": 23,
    "start_time": "2023-03-09T12:40:13.841Z"
   },
   {
    "duration": 90,
    "start_time": "2023-03-09T12:40:13.867Z"
   },
   {
    "duration": 55,
    "start_time": "2023-03-09T12:40:13.959Z"
   },
   {
    "duration": 32,
    "start_time": "2023-03-09T12:40:14.016Z"
   },
   {
    "duration": 2043,
    "start_time": "2023-03-09T12:40:14.050Z"
   },
   {
    "duration": 12,
    "start_time": "2023-03-09T12:40:16.095Z"
   },
   {
    "duration": 22,
    "start_time": "2023-03-09T12:40:16.109Z"
   },
   {
    "duration": 8,
    "start_time": "2023-03-09T12:40:16.133Z"
   },
   {
    "duration": 8,
    "start_time": "2023-03-09T12:40:16.143Z"
   },
   {
    "duration": 20,
    "start_time": "2023-03-09T12:40:16.154Z"
   },
   {
    "duration": 19,
    "start_time": "2023-03-09T12:40:16.178Z"
   },
   {
    "duration": 34,
    "start_time": "2023-03-09T12:40:16.199Z"
   },
   {
    "duration": 325,
    "start_time": "2023-03-09T12:40:16.235Z"
   },
   {
    "duration": 9,
    "start_time": "2023-03-09T12:40:16.561Z"
   },
   {
    "duration": 8,
    "start_time": "2023-03-09T12:40:16.572Z"
   },
   {
    "duration": 3,
    "start_time": "2023-03-09T12:42:43.245Z"
   },
   {
    "duration": 211,
    "start_time": "2023-03-09T12:42:43.250Z"
   },
   {
    "duration": 2,
    "start_time": "2023-03-09T12:42:43.463Z"
   },
   {
    "duration": 25,
    "start_time": "2023-03-09T12:42:43.467Z"
   },
   {
    "duration": 81,
    "start_time": "2023-03-09T12:42:43.505Z"
   },
   {
    "duration": 50,
    "start_time": "2023-03-09T12:42:43.588Z"
   },
   {
    "duration": 66,
    "start_time": "2023-03-09T12:42:43.640Z"
   },
   {
    "duration": 1897,
    "start_time": "2023-03-09T12:42:43.710Z"
   },
   {
    "duration": 13,
    "start_time": "2023-03-09T12:42:45.611Z"
   },
   {
    "duration": 8,
    "start_time": "2023-03-09T12:42:45.626Z"
   },
   {
    "duration": 8,
    "start_time": "2023-03-09T12:42:45.636Z"
   },
   {
    "duration": 12,
    "start_time": "2023-03-09T12:42:45.645Z"
   },
   {
    "duration": 11,
    "start_time": "2023-03-09T12:42:45.659Z"
   },
   {
    "duration": 38,
    "start_time": "2023-03-09T12:42:45.673Z"
   },
   {
    "duration": 11,
    "start_time": "2023-03-09T12:42:45.715Z"
   },
   {
    "duration": 244,
    "start_time": "2023-03-09T12:42:45.727Z"
   },
   {
    "duration": 9,
    "start_time": "2023-03-09T12:42:45.973Z"
   },
   {
    "duration": 29,
    "start_time": "2023-03-09T12:42:45.983Z"
   },
   {
    "duration": 13424,
    "start_time": "2023-03-09T12:42:46.014Z"
   },
   {
    "duration": 8,
    "start_time": "2023-03-09T12:42:59.441Z"
   },
   {
    "duration": 7,
    "start_time": "2023-03-09T12:42:59.451Z"
   },
   {
    "duration": 6,
    "start_time": "2023-03-09T12:42:59.459Z"
   },
   {
    "duration": 12,
    "start_time": "2023-03-09T12:42:59.466Z"
   },
   {
    "duration": 37,
    "start_time": "2023-03-09T12:42:59.480Z"
   },
   {
    "duration": 16,
    "start_time": "2023-03-09T12:42:59.518Z"
   },
   {
    "duration": 6,
    "start_time": "2023-03-09T12:42:59.536Z"
   },
   {
    "duration": 213,
    "start_time": "2023-03-09T12:42:59.544Z"
   },
   {
    "duration": 6,
    "start_time": "2023-03-09T12:42:59.759Z"
   },
   {
    "duration": 11,
    "start_time": "2023-03-09T12:42:59.767Z"
   },
   {
    "duration": 63,
    "start_time": "2023-03-09T12:42:59.779Z"
   },
   {
    "duration": 10,
    "start_time": "2023-03-09T12:42:59.843Z"
   },
   {
    "duration": 9,
    "start_time": "2023-03-09T12:42:59.855Z"
   },
   {
    "duration": 14,
    "start_time": "2023-03-09T12:42:59.866Z"
   },
   {
    "duration": 57,
    "start_time": "2023-03-09T12:42:59.882Z"
   },
   {
    "duration": 18,
    "start_time": "2023-03-09T12:42:59.942Z"
   },
   {
    "duration": 549,
    "start_time": "2023-03-09T12:42:59.962Z"
   },
   {
    "duration": 6,
    "start_time": "2023-03-09T12:43:00.513Z"
   },
   {
    "duration": 30,
    "start_time": "2023-03-09T12:43:00.521Z"
   },
   {
    "duration": 47,
    "start_time": "2023-03-09T12:43:00.553Z"
   },
   {
    "duration": 25,
    "start_time": "2023-03-09T12:43:00.601Z"
   },
   {
    "duration": 55,
    "start_time": "2023-03-09T12:43:00.631Z"
   },
   {
    "duration": 13,
    "start_time": "2023-03-09T12:43:00.688Z"
   },
   {
    "duration": 42,
    "start_time": "2023-03-09T12:43:00.717Z"
   },
   {
    "duration": 15,
    "start_time": "2023-03-09T12:43:00.761Z"
   },
   {
    "duration": 35,
    "start_time": "2023-03-09T12:43:00.778Z"
   },
   {
    "duration": 56,
    "start_time": "2023-03-09T12:43:00.815Z"
   },
   {
    "duration": 46,
    "start_time": "2023-03-09T12:43:00.872Z"
   },
   {
    "duration": 6,
    "start_time": "2023-03-09T12:43:00.920Z"
   },
   {
    "duration": 52,
    "start_time": "2023-03-09T12:43:00.927Z"
   },
   {
    "duration": 6,
    "start_time": "2023-03-09T12:43:00.981Z"
   },
   {
    "duration": 48,
    "start_time": "2023-03-09T12:43:00.988Z"
   },
   {
    "duration": 35,
    "start_time": "2023-03-09T12:43:01.038Z"
   },
   {
    "duration": 18,
    "start_time": "2023-03-09T12:43:01.075Z"
   },
   {
    "duration": 362,
    "start_time": "2023-03-09T12:43:01.095Z"
   },
   {
    "duration": 5,
    "start_time": "2023-03-09T12:43:01.459Z"
   },
   {
    "duration": 28,
    "start_time": "2023-03-09T12:43:01.465Z"
   },
   {
    "duration": 2225,
    "start_time": "2023-03-09T12:43:01.495Z"
   },
   {
    "duration": 10,
    "start_time": "2023-03-09T12:43:03.722Z"
   },
   {
    "duration": 438,
    "start_time": "2023-03-09T12:43:03.734Z"
   },
   {
    "duration": 267,
    "start_time": "2023-03-09T12:43:04.174Z"
   },
   {
    "duration": 207,
    "start_time": "2023-03-09T12:43:04.443Z"
   },
   {
    "duration": 356,
    "start_time": "2023-03-09T12:43:04.652Z"
   },
   {
    "duration": 536,
    "start_time": "2023-03-09T12:43:05.011Z"
   },
   {
    "duration": 536,
    "start_time": "2023-03-09T12:43:05.549Z"
   },
   {
    "duration": 29,
    "start_time": "2023-03-09T12:43:06.087Z"
   },
   {
    "duration": 1842,
    "start_time": "2023-03-09T12:43:06.118Z"
   },
   {
    "duration": 437,
    "start_time": "2023-03-09T12:43:07.962Z"
   },
   {
    "duration": 484,
    "start_time": "2023-03-09T12:43:08.402Z"
   },
   {
    "duration": 389,
    "start_time": "2023-03-09T12:43:08.889Z"
   },
   {
    "duration": 187,
    "start_time": "2023-03-09T12:43:09.280Z"
   },
   {
    "duration": 365,
    "start_time": "2023-03-09T12:43:09.469Z"
   },
   {
    "duration": 431,
    "start_time": "2023-03-09T12:43:09.836Z"
   },
   {
    "duration": 13,
    "start_time": "2023-03-09T12:43:10.269Z"
   },
   {
    "duration": 50,
    "start_time": "2023-03-09T12:43:10.283Z"
   },
   {
    "duration": 10,
    "start_time": "2023-03-09T12:43:10.335Z"
   },
   {
    "duration": 29,
    "start_time": "2023-03-09T12:43:24.368Z"
   },
   {
    "duration": 3,
    "start_time": "2023-03-09T12:43:25.722Z"
   },
   {
    "duration": 4,
    "start_time": "2023-03-09T12:43:26.424Z"
   },
   {
    "duration": 6,
    "start_time": "2023-03-09T12:43:27.541Z"
   },
   {
    "duration": 31,
    "start_time": "2023-03-09T12:43:38.878Z"
   },
   {
    "duration": 4,
    "start_time": "2023-03-09T12:43:40.214Z"
   },
   {
    "duration": 5,
    "start_time": "2023-03-09T12:43:41.614Z"
   },
   {
    "duration": 5,
    "start_time": "2023-03-09T12:43:43.268Z"
   },
   {
    "duration": 470,
    "start_time": "2023-03-09T12:43:50.370Z"
   },
   {
    "duration": 375,
    "start_time": "2023-03-09T12:44:23.396Z"
   },
   {
    "duration": 505,
    "start_time": "2023-03-09T12:45:11.750Z"
   },
   {
    "duration": 429,
    "start_time": "2023-03-09T12:47:30.701Z"
   },
   {
    "duration": 376,
    "start_time": "2023-03-09T12:47:53.761Z"
   },
   {
    "duration": 478,
    "start_time": "2023-03-09T12:48:11.573Z"
   },
   {
    "duration": 370,
    "start_time": "2023-03-09T12:48:27.313Z"
   },
   {
    "duration": 371,
    "start_time": "2023-03-09T12:48:37.798Z"
   },
   {
    "duration": 367,
    "start_time": "2023-03-09T12:48:47.422Z"
   },
   {
    "duration": 407,
    "start_time": "2023-03-09T12:50:24.379Z"
   },
   {
    "duration": 366,
    "start_time": "2023-03-09T12:50:46.069Z"
   },
   {
    "duration": 555,
    "start_time": "2023-03-09T12:50:58.573Z"
   },
   {
    "duration": 383,
    "start_time": "2023-03-09T12:52:09.674Z"
   },
   {
    "duration": 374,
    "start_time": "2023-03-09T12:52:23.464Z"
   },
   {
    "duration": 403,
    "start_time": "2023-03-09T12:52:34.144Z"
   },
   {
    "duration": 397,
    "start_time": "2023-03-09T12:53:00.488Z"
   },
   {
    "duration": 534,
    "start_time": "2023-03-09T12:53:17.885Z"
   },
   {
    "duration": 520,
    "start_time": "2023-03-09T12:53:28.469Z"
   },
   {
    "duration": 369,
    "start_time": "2023-03-09T12:53:38.869Z"
   },
   {
    "duration": 357,
    "start_time": "2023-03-09T12:53:53.073Z"
   },
   {
    "duration": 671,
    "start_time": "2023-03-09T12:55:44.221Z"
   },
   {
    "duration": 833,
    "start_time": "2023-03-09T12:56:17.630Z"
   },
   {
    "duration": 766,
    "start_time": "2023-03-09T12:56:49.433Z"
   },
   {
    "duration": 33,
    "start_time": "2023-03-09T12:57:22.098Z"
   },
   {
    "duration": 3,
    "start_time": "2023-03-09T12:57:25.478Z"
   },
   {
    "duration": 4,
    "start_time": "2023-03-09T12:57:26.582Z"
   },
   {
    "duration": 6,
    "start_time": "2023-03-09T12:57:38.864Z"
   },
   {
    "duration": 757,
    "start_time": "2023-03-09T12:57:40.661Z"
   },
   {
    "duration": 12,
    "start_time": "2023-03-09T12:59:16.331Z"
   },
   {
    "duration": 843,
    "start_time": "2023-03-09T13:00:23.830Z"
   },
   {
    "duration": 728,
    "start_time": "2023-03-09T13:00:38.926Z"
   },
   {
    "duration": 856,
    "start_time": "2023-03-09T13:00:57.200Z"
   },
   {
    "duration": 10,
    "start_time": "2023-03-09T13:07:01.603Z"
   },
   {
    "duration": 34,
    "start_time": "2023-03-09T13:07:10.758Z"
   },
   {
    "duration": 12,
    "start_time": "2023-03-09T13:07:43.060Z"
   },
   {
    "duration": 25,
    "start_time": "2023-03-09T13:08:09.165Z"
   },
   {
    "duration": 12,
    "start_time": "2023-03-09T13:08:26.863Z"
   },
   {
    "duration": 680,
    "start_time": "2023-03-09T13:20:55.066Z"
   },
   {
    "duration": 188,
    "start_time": "2023-03-09T13:20:55.748Z"
   },
   {
    "duration": 4,
    "start_time": "2023-03-09T13:20:55.939Z"
   },
   {
    "duration": 31,
    "start_time": "2023-03-09T13:20:55.945Z"
   },
   {
    "duration": 99,
    "start_time": "2023-03-09T13:20:55.980Z"
   },
   {
    "duration": 34,
    "start_time": "2023-03-09T13:20:56.081Z"
   },
   {
    "duration": 40,
    "start_time": "2023-03-09T13:20:56.117Z"
   },
   {
    "duration": 1965,
    "start_time": "2023-03-09T13:20:56.159Z"
   },
   {
    "duration": 10,
    "start_time": "2023-03-09T13:20:58.126Z"
   },
   {
    "duration": 10,
    "start_time": "2023-03-09T13:20:58.138Z"
   },
   {
    "duration": 16,
    "start_time": "2023-03-09T13:20:58.149Z"
   },
   {
    "duration": 8,
    "start_time": "2023-03-09T13:20:58.167Z"
   },
   {
    "duration": 10,
    "start_time": "2023-03-09T13:20:58.177Z"
   },
   {
    "duration": 13,
    "start_time": "2023-03-09T13:20:58.191Z"
   },
   {
    "duration": 12,
    "start_time": "2023-03-09T13:20:58.205Z"
   },
   {
    "duration": 375,
    "start_time": "2023-03-09T13:20:58.218Z"
   },
   {
    "duration": 12,
    "start_time": "2023-03-09T13:20:58.596Z"
   },
   {
    "duration": 5,
    "start_time": "2023-03-09T13:20:58.610Z"
   },
   {
    "duration": 12693,
    "start_time": "2023-03-09T13:20:58.617Z"
   },
   {
    "duration": 8,
    "start_time": "2023-03-09T13:21:11.312Z"
   },
   {
    "duration": 8,
    "start_time": "2023-03-09T13:21:11.322Z"
   },
   {
    "duration": 5,
    "start_time": "2023-03-09T13:21:11.332Z"
   },
   {
    "duration": 19,
    "start_time": "2023-03-09T13:21:11.339Z"
   },
   {
    "duration": 6,
    "start_time": "2023-03-09T13:21:11.360Z"
   },
   {
    "duration": 43,
    "start_time": "2023-03-09T13:21:11.368Z"
   },
   {
    "duration": 5,
    "start_time": "2023-03-09T13:21:11.413Z"
   },
   {
    "duration": 215,
    "start_time": "2023-03-09T13:21:11.419Z"
   },
   {
    "duration": 6,
    "start_time": "2023-03-09T13:21:11.636Z"
   },
   {
    "duration": 10,
    "start_time": "2023-03-09T13:21:11.643Z"
   },
   {
    "duration": 54,
    "start_time": "2023-03-09T13:21:11.654Z"
   },
   {
    "duration": 10,
    "start_time": "2023-03-09T13:21:11.709Z"
   },
   {
    "duration": 6,
    "start_time": "2023-03-09T13:21:11.721Z"
   },
   {
    "duration": 4,
    "start_time": "2023-03-09T13:21:11.729Z"
   },
   {
    "duration": 74,
    "start_time": "2023-03-09T13:21:11.735Z"
   },
   {
    "duration": 18,
    "start_time": "2023-03-09T13:21:11.811Z"
   },
   {
    "duration": 437,
    "start_time": "2023-03-09T13:21:11.830Z"
   },
   {
    "duration": 6,
    "start_time": "2023-03-09T13:21:12.269Z"
   },
   {
    "duration": 11,
    "start_time": "2023-03-09T13:21:12.276Z"
   },
   {
    "duration": 34,
    "start_time": "2023-03-09T13:21:12.301Z"
   },
   {
    "duration": 15,
    "start_time": "2023-03-09T13:21:12.336Z"
   },
   {
    "duration": 154,
    "start_time": "2023-03-09T13:21:12.355Z"
   },
   {
    "duration": 14,
    "start_time": "2023-03-09T13:21:12.510Z"
   },
   {
    "duration": 50,
    "start_time": "2023-03-09T13:21:12.526Z"
   },
   {
    "duration": 24,
    "start_time": "2023-03-09T13:21:12.578Z"
   },
   {
    "duration": 10,
    "start_time": "2023-03-09T13:21:12.604Z"
   },
   {
    "duration": 43,
    "start_time": "2023-03-09T13:21:12.616Z"
   },
   {
    "duration": 50,
    "start_time": "2023-03-09T13:21:12.661Z"
   },
   {
    "duration": 6,
    "start_time": "2023-03-09T13:21:12.713Z"
   },
   {
    "duration": 39,
    "start_time": "2023-03-09T13:21:12.721Z"
   },
   {
    "duration": 6,
    "start_time": "2023-03-09T13:21:12.762Z"
   },
   {
    "duration": 45,
    "start_time": "2023-03-09T13:21:12.770Z"
   },
   {
    "duration": 14,
    "start_time": "2023-03-09T13:21:12.818Z"
   },
   {
    "duration": 7,
    "start_time": "2023-03-09T13:21:12.834Z"
   },
   {
    "duration": 334,
    "start_time": "2023-03-09T13:21:12.843Z"
   },
   {
    "duration": 4,
    "start_time": "2023-03-09T13:21:13.179Z"
   },
   {
    "duration": 17,
    "start_time": "2023-03-09T13:21:13.185Z"
   },
   {
    "duration": 2057,
    "start_time": "2023-03-09T13:21:13.204Z"
   },
   {
    "duration": 10,
    "start_time": "2023-03-09T13:21:15.262Z"
   },
   {
    "duration": 400,
    "start_time": "2023-03-09T13:21:15.274Z"
   },
   {
    "duration": 250,
    "start_time": "2023-03-09T13:21:15.676Z"
   },
   {
    "duration": 228,
    "start_time": "2023-03-09T13:21:15.928Z"
   },
   {
    "duration": 318,
    "start_time": "2023-03-09T13:21:16.157Z"
   },
   {
    "duration": 544,
    "start_time": "2023-03-09T13:21:16.477Z"
   },
   {
    "duration": 551,
    "start_time": "2023-03-09T13:21:17.022Z"
   },
   {
    "duration": 33,
    "start_time": "2023-03-09T13:21:17.575Z"
   },
   {
    "duration": 1817,
    "start_time": "2023-03-09T13:21:17.610Z"
   },
   {
    "duration": 361,
    "start_time": "2023-03-09T13:21:19.428Z"
   },
   {
    "duration": 407,
    "start_time": "2023-03-09T13:21:19.790Z"
   },
   {
    "duration": 335,
    "start_time": "2023-03-09T13:21:20.201Z"
   },
   {
    "duration": 172,
    "start_time": "2023-03-09T13:21:20.537Z"
   },
   {
    "duration": 348,
    "start_time": "2023-03-09T13:21:20.711Z"
   },
   {
    "duration": 388,
    "start_time": "2023-03-09T13:21:21.061Z"
   },
   {
    "duration": 13,
    "start_time": "2023-03-09T13:21:21.451Z"
   },
   {
    "duration": 42,
    "start_time": "2023-03-09T13:21:21.466Z"
   },
   {
    "duration": 9,
    "start_time": "2023-03-09T13:21:21.509Z"
   },
   {
    "duration": 28,
    "start_time": "2023-03-09T13:21:21.520Z"
   },
   {
    "duration": 3,
    "start_time": "2023-03-09T13:21:21.550Z"
   },
   {
    "duration": 7,
    "start_time": "2023-03-09T13:21:21.555Z"
   },
   {
    "duration": 9,
    "start_time": "2023-03-09T13:21:21.563Z"
   },
   {
    "duration": 34,
    "start_time": "2023-03-09T13:21:21.574Z"
   },
   {
    "duration": 27,
    "start_time": "2023-03-09T13:21:21.611Z"
   },
   {
    "duration": 3,
    "start_time": "2023-03-09T13:21:21.639Z"
   },
   {
    "duration": 10,
    "start_time": "2023-03-09T13:21:21.643Z"
   },
   {
    "duration": 19,
    "start_time": "2023-03-09T13:21:21.655Z"
   },
   {
    "duration": 787,
    "start_time": "2023-03-09T13:21:21.676Z"
   },
   {
    "duration": 277,
    "start_time": "2023-03-09T13:33:14.821Z"
   },
   {
    "duration": 257,
    "start_time": "2023-03-09T13:33:34.888Z"
   },
   {
    "duration": 255,
    "start_time": "2023-03-09T13:34:23.089Z"
   },
   {
    "duration": 246,
    "start_time": "2023-03-09T13:34:51.139Z"
   },
   {
    "duration": 1145,
    "start_time": "2023-03-09T16:16:54.345Z"
   },
   {
    "duration": 204,
    "start_time": "2023-03-09T16:16:55.492Z"
   },
   {
    "duration": 3,
    "start_time": "2023-03-09T16:16:55.698Z"
   },
   {
    "duration": 27,
    "start_time": "2023-03-09T16:16:55.703Z"
   },
   {
    "duration": 102,
    "start_time": "2023-03-09T16:16:55.732Z"
   },
   {
    "duration": 40,
    "start_time": "2023-03-09T16:16:55.836Z"
   },
   {
    "duration": 32,
    "start_time": "2023-03-09T16:16:55.878Z"
   },
   {
    "duration": 2111,
    "start_time": "2023-03-09T16:16:55.913Z"
   },
   {
    "duration": 11,
    "start_time": "2023-03-09T16:16:58.025Z"
   },
   {
    "duration": 10,
    "start_time": "2023-03-09T16:16:58.037Z"
   },
   {
    "duration": 16,
    "start_time": "2023-03-09T16:16:58.049Z"
   },
   {
    "duration": 10,
    "start_time": "2023-03-09T16:16:58.068Z"
   },
   {
    "duration": 17,
    "start_time": "2023-03-09T16:16:58.080Z"
   },
   {
    "duration": 7,
    "start_time": "2023-03-09T16:16:58.102Z"
   },
   {
    "duration": 13,
    "start_time": "2023-03-09T16:16:58.111Z"
   },
   {
    "duration": 330,
    "start_time": "2023-03-09T16:16:58.127Z"
   },
   {
    "duration": 14,
    "start_time": "2023-03-09T16:16:58.458Z"
   },
   {
    "duration": 14,
    "start_time": "2023-03-09T16:16:58.474Z"
   },
   {
    "duration": 14534,
    "start_time": "2023-03-09T16:16:58.489Z"
   },
   {
    "duration": 11,
    "start_time": "2023-03-09T16:17:13.026Z"
   },
   {
    "duration": 30,
    "start_time": "2023-03-09T16:17:13.039Z"
   },
   {
    "duration": 6,
    "start_time": "2023-03-09T16:17:13.071Z"
   },
   {
    "duration": 17,
    "start_time": "2023-03-09T16:17:13.079Z"
   },
   {
    "duration": 6,
    "start_time": "2023-03-09T16:17:13.098Z"
   },
   {
    "duration": 16,
    "start_time": "2023-03-09T16:17:13.106Z"
   },
   {
    "duration": 6,
    "start_time": "2023-03-09T16:17:13.123Z"
   },
   {
    "duration": 215,
    "start_time": "2023-03-09T16:17:13.164Z"
   },
   {
    "duration": 7,
    "start_time": "2023-03-09T16:17:13.380Z"
   },
   {
    "duration": 15,
    "start_time": "2023-03-09T16:17:13.389Z"
   },
   {
    "duration": 59,
    "start_time": "2023-03-09T16:17:13.406Z"
   },
   {
    "duration": 15,
    "start_time": "2023-03-09T16:17:13.468Z"
   },
   {
    "duration": 8,
    "start_time": "2023-03-09T16:17:13.485Z"
   },
   {
    "duration": 7,
    "start_time": "2023-03-09T16:17:13.495Z"
   },
   {
    "duration": 78,
    "start_time": "2023-03-09T16:17:13.503Z"
   },
   {
    "duration": 23,
    "start_time": "2023-03-09T16:17:13.582Z"
   },
   {
    "duration": 526,
    "start_time": "2023-03-09T16:17:13.607Z"
   },
   {
    "duration": 6,
    "start_time": "2023-03-09T16:17:14.134Z"
   },
   {
    "duration": 29,
    "start_time": "2023-03-09T16:17:14.142Z"
   },
   {
    "duration": 48,
    "start_time": "2023-03-09T16:17:14.173Z"
   },
   {
    "duration": 17,
    "start_time": "2023-03-09T16:17:14.223Z"
   },
   {
    "duration": 159,
    "start_time": "2023-03-09T16:17:14.263Z"
   },
   {
    "duration": 13,
    "start_time": "2023-03-09T16:17:14.424Z"
   },
   {
    "duration": 54,
    "start_time": "2023-03-09T16:17:14.439Z"
   },
   {
    "duration": 9,
    "start_time": "2023-03-09T16:17:14.495Z"
   },
   {
    "duration": 16,
    "start_time": "2023-03-09T16:17:14.506Z"
   },
   {
    "duration": 67,
    "start_time": "2023-03-09T16:17:14.524Z"
   },
   {
    "duration": 41,
    "start_time": "2023-03-09T16:17:14.593Z"
   },
   {
    "duration": 30,
    "start_time": "2023-03-09T16:17:14.636Z"
   },
   {
    "duration": 64,
    "start_time": "2023-03-09T16:17:14.668Z"
   },
   {
    "duration": 6,
    "start_time": "2023-03-09T16:17:14.734Z"
   },
   {
    "duration": 39,
    "start_time": "2023-03-09T16:17:14.743Z"
   },
   {
    "duration": 15,
    "start_time": "2023-03-09T16:17:14.784Z"
   },
   {
    "duration": 8,
    "start_time": "2023-03-09T16:17:14.802Z"
   },
   {
    "duration": 352,
    "start_time": "2023-03-09T16:17:14.812Z"
   },
   {
    "duration": 5,
    "start_time": "2023-03-09T16:17:15.166Z"
   },
   {
    "duration": 11,
    "start_time": "2023-03-09T16:17:15.172Z"
   },
   {
    "duration": 2269,
    "start_time": "2023-03-09T16:17:15.185Z"
   },
   {
    "duration": 16,
    "start_time": "2023-03-09T16:17:17.456Z"
   },
   {
    "duration": 422,
    "start_time": "2023-03-09T16:17:17.474Z"
   },
   {
    "duration": 253,
    "start_time": "2023-03-09T16:17:17.898Z"
   },
   {
    "duration": 230,
    "start_time": "2023-03-09T16:17:18.153Z"
   },
   {
    "duration": 350,
    "start_time": "2023-03-09T16:17:18.384Z"
   },
   {
    "duration": 545,
    "start_time": "2023-03-09T16:17:18.736Z"
   },
   {
    "duration": 511,
    "start_time": "2023-03-09T16:17:19.283Z"
   },
   {
    "duration": 16,
    "start_time": "2023-03-09T16:17:19.796Z"
   },
   {
    "duration": 1762,
    "start_time": "2023-03-09T16:17:19.815Z"
   },
   {
    "duration": 364,
    "start_time": "2023-03-09T16:17:21.579Z"
   },
   {
    "duration": 461,
    "start_time": "2023-03-09T16:17:21.946Z"
   },
   {
    "duration": 365,
    "start_time": "2023-03-09T16:17:22.410Z"
   },
   {
    "duration": 174,
    "start_time": "2023-03-09T16:17:22.777Z"
   },
   {
    "duration": 327,
    "start_time": "2023-03-09T16:17:22.953Z"
   },
   {
    "duration": 399,
    "start_time": "2023-03-09T16:17:23.281Z"
   },
   {
    "duration": 13,
    "start_time": "2023-03-09T16:17:23.681Z"
   },
   {
    "duration": 31,
    "start_time": "2023-03-09T16:17:23.696Z"
   },
   {
    "duration": 8,
    "start_time": "2023-03-09T16:17:23.729Z"
   },
   {
    "duration": 53,
    "start_time": "2023-03-09T16:17:23.739Z"
   },
   {
    "duration": 3,
    "start_time": "2023-03-09T16:17:23.794Z"
   },
   {
    "duration": 25,
    "start_time": "2023-03-09T16:17:23.798Z"
   },
   {
    "duration": 17,
    "start_time": "2023-03-09T16:17:23.826Z"
   },
   {
    "duration": 30,
    "start_time": "2023-03-09T16:17:23.845Z"
   },
   {
    "duration": 58,
    "start_time": "2023-03-09T16:17:23.877Z"
   },
   {
    "duration": 4,
    "start_time": "2023-03-09T16:17:23.936Z"
   },
   {
    "duration": 32,
    "start_time": "2023-03-09T16:17:23.941Z"
   },
   {
    "duration": 16,
    "start_time": "2023-03-09T16:17:23.976Z"
   },
   {
    "duration": 886,
    "start_time": "2023-03-09T16:17:23.994Z"
   },
   {
    "duration": 10,
    "start_time": "2023-03-09T16:39:14.135Z"
   },
   {
    "duration": 693,
    "start_time": "2023-03-09T16:39:42.740Z"
   },
   {
    "duration": 235,
    "start_time": "2023-03-09T16:39:43.435Z"
   },
   {
    "duration": 4,
    "start_time": "2023-03-09T16:39:43.672Z"
   },
   {
    "duration": 21,
    "start_time": "2023-03-09T16:39:43.678Z"
   },
   {
    "duration": 96,
    "start_time": "2023-03-09T16:39:43.703Z"
   },
   {
    "duration": 32,
    "start_time": "2023-03-09T16:39:43.802Z"
   },
   {
    "duration": 48,
    "start_time": "2023-03-09T16:39:43.836Z"
   },
   {
    "duration": 2047,
    "start_time": "2023-03-09T16:39:43.885Z"
   },
   {
    "duration": 10,
    "start_time": "2023-03-09T16:39:45.934Z"
   },
   {
    "duration": 11,
    "start_time": "2023-03-09T16:39:45.946Z"
   },
   {
    "duration": 33,
    "start_time": "2023-03-09T16:39:45.959Z"
   },
   {
    "duration": 19,
    "start_time": "2023-03-09T16:39:45.994Z"
   },
   {
    "duration": 13,
    "start_time": "2023-03-09T16:39:46.015Z"
   },
   {
    "duration": 6,
    "start_time": "2023-03-09T16:39:46.031Z"
   },
   {
    "duration": 9,
    "start_time": "2023-03-09T16:39:46.039Z"
   },
   {
    "duration": 297,
    "start_time": "2023-03-09T16:39:46.050Z"
   },
   {
    "duration": 16,
    "start_time": "2023-03-09T16:39:46.349Z"
   },
   {
    "duration": 5,
    "start_time": "2023-03-09T16:39:46.367Z"
   },
   {
    "duration": 14215,
    "start_time": "2023-03-09T16:39:46.373Z"
   },
   {
    "duration": 10,
    "start_time": "2023-03-09T16:40:00.589Z"
   },
   {
    "duration": 26,
    "start_time": "2023-03-09T16:40:00.601Z"
   },
   {
    "duration": 8,
    "start_time": "2023-03-09T16:40:11.301Z"
   },
   {
    "duration": 10,
    "start_time": "2023-03-09T16:40:12.108Z"
   },
   {
    "duration": 6,
    "start_time": "2023-03-09T16:42:14.912Z"
   },
   {
    "duration": 12,
    "start_time": "2023-03-09T16:42:57.197Z"
   },
   {
    "duration": 6,
    "start_time": "2023-03-09T16:42:58.558Z"
   },
   {
    "duration": 10,
    "start_time": "2023-03-09T16:44:27.026Z"
   },
   {
    "duration": 6,
    "start_time": "2023-03-09T16:45:43.311Z"
   },
   {
    "duration": 214,
    "start_time": "2023-03-09T16:47:21.457Z"
   },
   {
    "duration": 11,
    "start_time": "2023-03-09T16:47:23.072Z"
   },
   {
    "duration": 9,
    "start_time": "2023-03-09T16:47:25.539Z"
   },
   {
    "duration": 49,
    "start_time": "2023-03-09T16:48:54.695Z"
   },
   {
    "duration": 13,
    "start_time": "2023-03-09T16:52:01.510Z"
   },
   {
    "duration": 7,
    "start_time": "2023-03-09T16:52:04.798Z"
   },
   {
    "duration": 10,
    "start_time": "2023-03-09T16:53:30.870Z"
   },
   {
    "duration": 42,
    "start_time": "2023-03-09T16:53:52.292Z"
   },
   {
    "duration": 19,
    "start_time": "2023-03-09T16:56:27.587Z"
   },
   {
    "duration": 468,
    "start_time": "2023-03-09T16:57:09.457Z"
   },
   {
    "duration": 9,
    "start_time": "2023-03-09T16:58:32.069Z"
   },
   {
    "duration": 9,
    "start_time": "2023-03-09T16:58:40.214Z"
   },
   {
    "duration": 33,
    "start_time": "2023-03-09T17:00:07.419Z"
   },
   {
    "duration": 17,
    "start_time": "2023-03-09T17:01:01.746Z"
   },
   {
    "duration": 42,
    "start_time": "2023-03-09T17:01:21.776Z"
   },
   {
    "duration": 17,
    "start_time": "2023-03-09T17:02:30.254Z"
   },
   {
    "duration": 39,
    "start_time": "2023-03-09T17:03:04.750Z"
   },
   {
    "duration": 9,
    "start_time": "2023-03-09T17:05:38.253Z"
   },
   {
    "duration": 32,
    "start_time": "2023-03-09T17:09:49.932Z"
   },
   {
    "duration": 29,
    "start_time": "2023-03-09T17:13:41.735Z"
   },
   {
    "duration": 7,
    "start_time": "2023-03-09T17:15:04.070Z"
   },
   {
    "duration": 7,
    "start_time": "2023-03-09T17:19:17.706Z"
   },
   {
    "duration": 35,
    "start_time": "2023-03-09T17:19:45.475Z"
   },
   {
    "duration": 846,
    "start_time": "2023-03-09T17:22:53.466Z"
   },
   {
    "duration": 833,
    "start_time": "2023-03-09T17:23:13.801Z"
   },
   {
    "duration": 49,
    "start_time": "2023-03-09T17:25:51.134Z"
   },
   {
    "duration": 21,
    "start_time": "2023-03-09T17:25:57.731Z"
   },
   {
    "duration": 24,
    "start_time": "2023-03-09T17:26:33.320Z"
   },
   {
    "duration": 60,
    "start_time": "2023-03-09T17:26:42.038Z"
   },
   {
    "duration": 58,
    "start_time": "2023-03-09T17:31:08.259Z"
   },
   {
    "duration": 53,
    "start_time": "2023-03-09T17:31:38.787Z"
   },
   {
    "duration": 38,
    "start_time": "2023-03-09T17:32:13.378Z"
   },
   {
    "duration": 24,
    "start_time": "2023-03-09T17:34:48.196Z"
   },
   {
    "duration": 58,
    "start_time": "2023-03-09T17:36:20.222Z"
   },
   {
    "duration": 57,
    "start_time": "2023-03-09T17:36:57.847Z"
   },
   {
    "duration": 44,
    "start_time": "2023-03-09T17:37:46.445Z"
   },
   {
    "duration": 35,
    "start_time": "2023-03-09T17:38:29.802Z"
   },
   {
    "duration": 59,
    "start_time": "2023-03-09T17:38:39.443Z"
   },
   {
    "duration": 26,
    "start_time": "2023-03-09T17:38:55.214Z"
   },
   {
    "duration": 22,
    "start_time": "2023-03-09T17:39:09.563Z"
   },
   {
    "duration": 28,
    "start_time": "2023-03-09T17:39:16.195Z"
   },
   {
    "duration": 29,
    "start_time": "2023-03-09T17:39:21.322Z"
   },
   {
    "duration": 34,
    "start_time": "2023-03-09T17:40:06.964Z"
   },
   {
    "duration": 29,
    "start_time": "2023-03-09T17:40:23.067Z"
   },
   {
    "duration": 21,
    "start_time": "2023-03-09T17:40:59.098Z"
   },
   {
    "duration": 41,
    "start_time": "2023-03-09T17:41:20.305Z"
   },
   {
    "duration": 35,
    "start_time": "2023-03-09T17:41:45.251Z"
   },
   {
    "duration": 36,
    "start_time": "2023-03-09T17:42:58.656Z"
   },
   {
    "duration": 700,
    "start_time": "2023-03-09T17:45:19.355Z"
   },
   {
    "duration": 231,
    "start_time": "2023-03-09T17:45:20.058Z"
   },
   {
    "duration": 3,
    "start_time": "2023-03-09T17:45:20.290Z"
   },
   {
    "duration": 20,
    "start_time": "2023-03-09T17:45:20.295Z"
   },
   {
    "duration": 104,
    "start_time": "2023-03-09T17:45:20.317Z"
   },
   {
    "duration": 46,
    "start_time": "2023-03-09T17:45:20.423Z"
   },
   {
    "duration": 57,
    "start_time": "2023-03-09T17:45:20.471Z"
   },
   {
    "duration": 1930,
    "start_time": "2023-03-09T17:45:20.530Z"
   },
   {
    "duration": 10,
    "start_time": "2023-03-09T17:45:22.462Z"
   },
   {
    "duration": 13,
    "start_time": "2023-03-09T17:45:22.474Z"
   },
   {
    "duration": 8,
    "start_time": "2023-03-09T17:45:22.489Z"
   },
   {
    "duration": 10,
    "start_time": "2023-03-09T17:45:22.499Z"
   },
   {
    "duration": 14,
    "start_time": "2023-03-09T17:45:22.510Z"
   },
   {
    "duration": 7,
    "start_time": "2023-03-09T17:45:22.527Z"
   },
   {
    "duration": 38,
    "start_time": "2023-03-09T17:45:22.536Z"
   },
   {
    "duration": 331,
    "start_time": "2023-03-09T17:45:22.576Z"
   },
   {
    "duration": 9,
    "start_time": "2023-03-09T17:45:22.909Z"
   },
   {
    "duration": 5,
    "start_time": "2023-03-09T17:45:22.920Z"
   },
   {
    "duration": 14127,
    "start_time": "2023-03-09T17:45:22.927Z"
   },
   {
    "duration": 8,
    "start_time": "2023-03-09T17:45:37.064Z"
   },
   {
    "duration": 8,
    "start_time": "2023-03-09T17:45:37.074Z"
   },
   {
    "duration": 8,
    "start_time": "2023-03-09T17:45:37.084Z"
   },
   {
    "duration": 6,
    "start_time": "2023-03-09T17:45:37.094Z"
   },
   {
    "duration": 16,
    "start_time": "2023-03-09T17:45:37.102Z"
   },
   {
    "duration": 6,
    "start_time": "2023-03-09T17:45:37.120Z"
   },
   {
    "duration": 45,
    "start_time": "2023-03-09T17:45:37.128Z"
   },
   {
    "duration": 9,
    "start_time": "2023-03-09T17:45:37.175Z"
   },
   {
    "duration": 250,
    "start_time": "2023-03-09T17:45:37.185Z"
   },
   {
    "duration": 7,
    "start_time": "2023-03-09T17:45:37.436Z"
   },
   {
    "duration": 20,
    "start_time": "2023-03-09T17:45:37.445Z"
   },
   {
    "duration": 37,
    "start_time": "2023-03-09T17:45:37.467Z"
   },
   {
    "duration": 10,
    "start_time": "2023-03-09T17:45:37.505Z"
   },
   {
    "duration": 6,
    "start_time": "2023-03-09T17:45:37.517Z"
   },
   {
    "duration": 7,
    "start_time": "2023-03-09T17:45:37.525Z"
   },
   {
    "duration": 74,
    "start_time": "2023-03-09T17:45:37.534Z"
   },
   {
    "duration": 20,
    "start_time": "2023-03-09T17:45:37.609Z"
   },
   {
    "duration": 490,
    "start_time": "2023-03-09T17:45:37.631Z"
   },
   {
    "duration": 6,
    "start_time": "2023-03-09T17:45:38.123Z"
   },
   {
    "duration": 12,
    "start_time": "2023-03-09T17:45:38.131Z"
   },
   {
    "duration": 49,
    "start_time": "2023-03-09T17:45:38.145Z"
   },
   {
    "duration": 15,
    "start_time": "2023-03-09T17:45:38.197Z"
   },
   {
    "duration": 172,
    "start_time": "2023-03-09T17:45:38.214Z"
   },
   {
    "duration": 13,
    "start_time": "2023-03-09T17:45:38.388Z"
   },
   {
    "duration": 35,
    "start_time": "2023-03-09T17:45:38.402Z"
   },
   {
    "duration": 30,
    "start_time": "2023-03-09T17:45:38.439Z"
   },
   {
    "duration": 14,
    "start_time": "2023-03-09T17:45:38.471Z"
   },
   {
    "duration": 38,
    "start_time": "2023-03-09T17:45:38.487Z"
   },
   {
    "duration": 62,
    "start_time": "2023-03-09T17:45:38.526Z"
   },
   {
    "duration": 5,
    "start_time": "2023-03-09T17:45:38.590Z"
   },
   {
    "duration": 38,
    "start_time": "2023-03-09T17:45:38.597Z"
   },
   {
    "duration": 5,
    "start_time": "2023-03-09T17:49:41.319Z"
   },
   {
    "duration": 8,
    "start_time": "2023-03-09T17:49:42.607Z"
   },
   {
    "duration": 6,
    "start_time": "2023-03-09T17:49:44.190Z"
   },
   {
    "duration": 6,
    "start_time": "2023-03-09T17:49:45.525Z"
   },
   {
    "duration": 338,
    "start_time": "2023-03-09T17:53:21.921Z"
   },
   {
    "duration": 5,
    "start_time": "2023-03-09T17:56:41.969Z"
   },
   {
    "duration": 8,
    "start_time": "2023-03-09T17:57:46.828Z"
   },
   {
    "duration": 2253,
    "start_time": "2023-03-09T17:57:50.908Z"
   },
   {
    "duration": 9,
    "start_time": "2023-03-09T18:02:48.484Z"
   },
   {
    "duration": 574,
    "start_time": "2023-03-09T18:03:04.313Z"
   },
   {
    "duration": 240,
    "start_time": "2023-03-09T18:03:17.064Z"
   },
   {
    "duration": 266,
    "start_time": "2023-03-09T18:04:07.844Z"
   },
   {
    "duration": 250,
    "start_time": "2023-03-09T18:04:17.772Z"
   },
   {
    "duration": 415,
    "start_time": "2023-03-09T18:04:49.564Z"
   },
   {
    "duration": 289,
    "start_time": "2023-03-09T18:05:14.099Z"
   },
   {
    "duration": 220,
    "start_time": "2023-03-09T18:06:20.784Z"
   },
   {
    "duration": 210,
    "start_time": "2023-03-09T18:06:38.384Z"
   },
   {
    "duration": 366,
    "start_time": "2023-03-09T18:10:00.198Z"
   },
   {
    "duration": 337,
    "start_time": "2023-03-09T18:10:51.839Z"
   },
   {
    "duration": 328,
    "start_time": "2023-03-09T18:11:10.397Z"
   },
   {
    "duration": 441,
    "start_time": "2023-03-09T18:11:29.960Z"
   },
   {
    "duration": 362,
    "start_time": "2023-03-09T18:12:52.868Z"
   },
   {
    "duration": 534,
    "start_time": "2023-03-09T18:13:00.170Z"
   },
   {
    "duration": 18,
    "start_time": "2023-03-09T18:13:28.587Z"
   },
   {
    "duration": 1944,
    "start_time": "2023-03-09T18:13:36.067Z"
   },
   {
    "duration": 683,
    "start_time": "2023-03-09T18:22:45.861Z"
   },
   {
    "duration": 183,
    "start_time": "2023-03-09T18:22:46.546Z"
   },
   {
    "duration": 3,
    "start_time": "2023-03-09T18:22:46.731Z"
   },
   {
    "duration": 28,
    "start_time": "2023-03-09T18:22:46.736Z"
   },
   {
    "duration": 84,
    "start_time": "2023-03-09T18:22:46.767Z"
   },
   {
    "duration": 50,
    "start_time": "2023-03-09T18:22:46.853Z"
   },
   {
    "duration": 29,
    "start_time": "2023-03-09T18:22:46.905Z"
   },
   {
    "duration": 1901,
    "start_time": "2023-03-09T18:22:46.935Z"
   },
   {
    "duration": 10,
    "start_time": "2023-03-09T18:22:48.837Z"
   },
   {
    "duration": 8,
    "start_time": "2023-03-09T18:22:48.849Z"
   },
   {
    "duration": 12,
    "start_time": "2023-03-09T18:22:48.859Z"
   },
   {
    "duration": 9,
    "start_time": "2023-03-09T18:22:48.873Z"
   },
   {
    "duration": 10,
    "start_time": "2023-03-09T18:22:48.884Z"
   },
   {
    "duration": 6,
    "start_time": "2023-03-09T18:22:48.897Z"
   },
   {
    "duration": 8,
    "start_time": "2023-03-09T18:22:48.905Z"
   },
   {
    "duration": 312,
    "start_time": "2023-03-09T18:22:48.914Z"
   },
   {
    "duration": 9,
    "start_time": "2023-03-09T18:22:49.228Z"
   },
   {
    "duration": 4,
    "start_time": "2023-03-09T18:22:49.238Z"
   },
   {
    "duration": 13822,
    "start_time": "2023-03-09T18:22:49.244Z"
   },
   {
    "duration": 8,
    "start_time": "2023-03-09T18:23:03.068Z"
   },
   {
    "duration": 7,
    "start_time": "2023-03-09T18:23:03.078Z"
   },
   {
    "duration": 8,
    "start_time": "2023-03-09T18:23:03.086Z"
   },
   {
    "duration": 5,
    "start_time": "2023-03-09T18:23:03.096Z"
   },
   {
    "duration": 15,
    "start_time": "2023-03-09T18:23:03.103Z"
   },
   {
    "duration": 14,
    "start_time": "2023-03-09T18:23:03.119Z"
   },
   {
    "duration": 37,
    "start_time": "2023-03-09T18:23:03.135Z"
   },
   {
    "duration": 6,
    "start_time": "2023-03-09T18:23:03.173Z"
   },
   {
    "duration": 254,
    "start_time": "2023-03-09T18:23:03.181Z"
   },
   {
    "duration": 6,
    "start_time": "2023-03-09T18:23:03.437Z"
   },
   {
    "duration": 21,
    "start_time": "2023-03-09T18:23:03.444Z"
   },
   {
    "duration": 35,
    "start_time": "2023-03-09T18:23:03.467Z"
   },
   {
    "duration": 9,
    "start_time": "2023-03-09T18:23:03.505Z"
   },
   {
    "duration": 22,
    "start_time": "2023-03-09T18:23:03.515Z"
   },
   {
    "duration": 14,
    "start_time": "2023-03-09T18:23:03.539Z"
   },
   {
    "duration": 49,
    "start_time": "2023-03-09T18:23:03.554Z"
   },
   {
    "duration": 17,
    "start_time": "2023-03-09T18:23:03.605Z"
   },
   {
    "duration": 457,
    "start_time": "2023-03-09T18:23:03.624Z"
   },
   {
    "duration": 6,
    "start_time": "2023-03-09T18:23:04.083Z"
   },
   {
    "duration": 13,
    "start_time": "2023-03-09T18:23:04.090Z"
   },
   {
    "duration": 40,
    "start_time": "2023-03-09T18:23:04.105Z"
   },
   {
    "duration": 16,
    "start_time": "2023-03-09T18:23:04.163Z"
   },
   {
    "duration": 180,
    "start_time": "2023-03-09T18:23:04.181Z"
   },
   {
    "duration": 15,
    "start_time": "2023-03-09T18:23:04.364Z"
   },
   {
    "duration": 61,
    "start_time": "2023-03-09T18:23:04.381Z"
   },
   {
    "duration": 23,
    "start_time": "2023-03-09T18:23:04.444Z"
   },
   {
    "duration": 14,
    "start_time": "2023-03-09T18:23:04.470Z"
   },
   {
    "duration": 63,
    "start_time": "2023-03-09T18:23:04.487Z"
   },
   {
    "duration": 41,
    "start_time": "2023-03-09T18:23:04.552Z"
   },
   {
    "duration": 8,
    "start_time": "2023-03-09T18:23:04.595Z"
   },
   {
    "duration": 59,
    "start_time": "2023-03-09T18:23:04.605Z"
   },
   {
    "duration": 6,
    "start_time": "2023-03-09T18:23:04.667Z"
   },
   {
    "duration": 12,
    "start_time": "2023-03-09T18:23:04.675Z"
   },
   {
    "duration": 10,
    "start_time": "2023-03-09T18:23:04.689Z"
   },
   {
    "duration": 10,
    "start_time": "2023-03-09T18:23:04.701Z"
   },
   {
    "duration": 347,
    "start_time": "2023-03-09T18:23:04.714Z"
   },
   {
    "duration": 4,
    "start_time": "2023-03-09T18:23:05.063Z"
   },
   {
    "duration": 10,
    "start_time": "2023-03-09T18:23:05.069Z"
   },
   {
    "duration": 2129,
    "start_time": "2023-03-09T18:23:05.081Z"
   },
   {
    "duration": 10,
    "start_time": "2023-03-09T18:23:07.212Z"
   },
   {
    "duration": 441,
    "start_time": "2023-03-09T18:23:07.223Z"
   },
   {
    "duration": 257,
    "start_time": "2023-03-09T18:23:07.666Z"
   },
   {
    "duration": 214,
    "start_time": "2023-03-09T18:23:07.925Z"
   },
   {
    "duration": 332,
    "start_time": "2023-03-09T18:23:08.141Z"
   },
   {
    "duration": 530,
    "start_time": "2023-03-09T18:23:08.475Z"
   },
   {
    "duration": 497,
    "start_time": "2023-03-09T18:23:09.007Z"
   },
   {
    "duration": 16,
    "start_time": "2023-03-09T18:23:09.506Z"
   },
   {
    "duration": 1730,
    "start_time": "2023-03-09T18:23:09.524Z"
   },
   {
    "duration": 343,
    "start_time": "2023-03-09T18:23:20.860Z"
   },
   {
    "duration": 343,
    "start_time": "2023-03-09T18:23:44.501Z"
   },
   {
    "duration": 435,
    "start_time": "2023-03-09T18:24:00.149Z"
   },
   {
    "duration": 362,
    "start_time": "2023-03-09T18:24:57.751Z"
   },
   {
    "duration": 178,
    "start_time": "2023-03-09T18:25:17.451Z"
   },
   {
    "duration": 340,
    "start_time": "2023-03-09T18:26:39.920Z"
   },
   {
    "duration": 479,
    "start_time": "2023-03-09T18:27:11.634Z"
   },
   {
    "duration": 14,
    "start_time": "2023-03-09T18:27:28.871Z"
   },
   {
    "duration": 29,
    "start_time": "2023-03-09T18:27:30.711Z"
   },
   {
    "duration": 19,
    "start_time": "2023-03-09T18:30:22.322Z"
   },
   {
    "duration": 38,
    "start_time": "2023-03-09T18:31:04.179Z"
   },
   {
    "duration": 11,
    "start_time": "2023-03-09T18:35:20.172Z"
   },
   {
    "duration": 27,
    "start_time": "2023-03-09T18:37:54.932Z"
   },
   {
    "duration": 3,
    "start_time": "2023-03-09T18:37:58.257Z"
   },
   {
    "duration": 4,
    "start_time": "2023-03-09T18:38:04.117Z"
   },
   {
    "duration": 5,
    "start_time": "2023-03-09T18:38:06.578Z"
   },
   {
    "duration": 16,
    "start_time": "2023-03-09T18:38:46.673Z"
   },
   {
    "duration": 25,
    "start_time": "2023-03-09T18:40:55.406Z"
   },
   {
    "duration": 4,
    "start_time": "2023-03-09T18:40:56.198Z"
   },
   {
    "duration": 3,
    "start_time": "2023-03-09T18:40:57.647Z"
   },
   {
    "duration": 5,
    "start_time": "2023-03-09T18:40:58.651Z"
   },
   {
    "duration": 802,
    "start_time": "2023-03-09T18:42:06.172Z"
   },
   {
    "duration": 51,
    "start_time": "2023-03-09T21:38:19.319Z"
   },
   {
    "duration": 21,
    "start_time": "2023-03-09T21:38:24.498Z"
   },
   {
    "duration": 22,
    "start_time": "2023-03-09T21:38:32.651Z"
   },
   {
    "duration": 86,
    "start_time": "2023-03-09T21:38:41.591Z"
   },
   {
    "duration": 348,
    "start_time": "2023-03-09T22:06:29.786Z"
   },
   {
    "duration": 314,
    "start_time": "2023-03-09T22:06:44.055Z"
   },
   {
    "duration": 341,
    "start_time": "2023-03-09T22:07:06.535Z"
   },
   {
    "duration": 788,
    "start_time": "2023-03-09T22:14:50.744Z"
   },
   {
    "duration": 410,
    "start_time": "2023-03-09T22:14:51.534Z"
   },
   {
    "duration": 23,
    "start_time": "2023-03-09T22:14:51.948Z"
   },
   {
    "duration": 97,
    "start_time": "2023-03-09T22:14:51.974Z"
   },
   {
    "duration": 112,
    "start_time": "2023-03-09T22:14:52.072Z"
   },
   {
    "duration": 42,
    "start_time": "2023-03-09T22:14:52.186Z"
   },
   {
    "duration": 52,
    "start_time": "2023-03-09T22:14:52.231Z"
   },
   {
    "duration": 2062,
    "start_time": "2023-03-09T22:14:52.286Z"
   },
   {
    "duration": 11,
    "start_time": "2023-03-09T22:14:54.350Z"
   },
   {
    "duration": 12,
    "start_time": "2023-03-09T22:14:54.365Z"
   },
   {
    "duration": 14,
    "start_time": "2023-03-09T22:14:54.379Z"
   },
   {
    "duration": 23,
    "start_time": "2023-03-09T22:14:54.395Z"
   },
   {
    "duration": 32,
    "start_time": "2023-03-09T22:14:54.420Z"
   },
   {
    "duration": 26,
    "start_time": "2023-03-09T22:14:54.454Z"
   },
   {
    "duration": 27,
    "start_time": "2023-03-09T22:14:54.482Z"
   },
   {
    "duration": 369,
    "start_time": "2023-03-09T22:14:54.512Z"
   },
   {
    "duration": 11,
    "start_time": "2023-03-09T22:14:54.883Z"
   },
   {
    "duration": 30,
    "start_time": "2023-03-09T22:14:54.896Z"
   },
   {
    "duration": 15182,
    "start_time": "2023-03-09T22:14:54.928Z"
   },
   {
    "duration": 10,
    "start_time": "2023-03-09T22:15:10.112Z"
   },
   {
    "duration": 22,
    "start_time": "2023-03-09T22:15:10.124Z"
   },
   {
    "duration": 17,
    "start_time": "2023-03-09T22:15:10.148Z"
   },
   {
    "duration": 12,
    "start_time": "2023-03-09T22:15:10.168Z"
   },
   {
    "duration": 19,
    "start_time": "2023-03-09T22:15:10.182Z"
   },
   {
    "duration": 27,
    "start_time": "2023-03-09T22:15:10.202Z"
   },
   {
    "duration": 20,
    "start_time": "2023-03-09T22:15:10.231Z"
   },
   {
    "duration": 12,
    "start_time": "2023-03-09T22:15:10.253Z"
   },
   {
    "duration": 234,
    "start_time": "2023-03-09T22:15:10.271Z"
   },
   {
    "duration": 7,
    "start_time": "2023-03-09T22:15:10.507Z"
   },
   {
    "duration": 13,
    "start_time": "2023-03-09T22:15:10.516Z"
   },
   {
    "duration": 58,
    "start_time": "2023-03-09T22:15:10.531Z"
   },
   {
    "duration": 12,
    "start_time": "2023-03-09T22:15:10.591Z"
   },
   {
    "duration": 6,
    "start_time": "2023-03-09T22:15:10.605Z"
   },
   {
    "duration": 4,
    "start_time": "2023-03-09T22:15:10.613Z"
   },
   {
    "duration": 83,
    "start_time": "2023-03-09T22:15:10.619Z"
   },
   {
    "duration": 20,
    "start_time": "2023-03-09T22:15:10.704Z"
   },
   {
    "duration": 475,
    "start_time": "2023-03-09T22:15:10.725Z"
   },
   {
    "duration": 6,
    "start_time": "2023-03-09T22:15:11.202Z"
   },
   {
    "duration": 19,
    "start_time": "2023-03-09T22:15:11.210Z"
   },
   {
    "duration": 69,
    "start_time": "2023-03-09T22:15:11.231Z"
   },
   {
    "duration": 18,
    "start_time": "2023-03-09T22:15:11.302Z"
   },
   {
    "duration": 172,
    "start_time": "2023-03-09T22:15:11.322Z"
   },
   {
    "duration": 14,
    "start_time": "2023-03-09T22:15:11.496Z"
   },
   {
    "duration": 52,
    "start_time": "2023-03-09T22:15:11.513Z"
   },
   {
    "duration": 8,
    "start_time": "2023-03-09T22:15:11.568Z"
   },
   {
    "duration": 20,
    "start_time": "2023-03-09T22:15:11.578Z"
   },
   {
    "duration": 40,
    "start_time": "2023-03-09T22:15:11.600Z"
   },
   {
    "duration": 48,
    "start_time": "2023-03-09T22:15:11.642Z"
   },
   {
    "duration": 7,
    "start_time": "2023-03-09T22:15:11.692Z"
   },
   {
    "duration": 42,
    "start_time": "2023-03-09T22:15:11.700Z"
   },
   {
    "duration": 6,
    "start_time": "2023-03-09T22:15:11.763Z"
   },
   {
    "duration": 12,
    "start_time": "2023-03-09T22:15:11.770Z"
   },
   {
    "duration": 8,
    "start_time": "2023-03-09T22:15:11.784Z"
   },
   {
    "duration": 20,
    "start_time": "2023-03-09T22:15:11.794Z"
   },
   {
    "duration": 371,
    "start_time": "2023-03-09T22:15:11.816Z"
   },
   {
    "duration": 5,
    "start_time": "2023-03-09T22:15:12.189Z"
   },
   {
    "duration": 12,
    "start_time": "2023-03-09T22:15:12.196Z"
   },
   {
    "duration": 2250,
    "start_time": "2023-03-09T22:15:12.210Z"
   },
   {
    "duration": 16,
    "start_time": "2023-03-09T22:15:14.463Z"
   },
   {
    "duration": 496,
    "start_time": "2023-03-09T22:15:14.481Z"
   },
   {
    "duration": 267,
    "start_time": "2023-03-09T22:15:14.979Z"
   },
   {
    "duration": 239,
    "start_time": "2023-03-09T22:15:15.248Z"
   },
   {
    "duration": 371,
    "start_time": "2023-03-09T22:15:15.489Z"
   },
   {
    "duration": 587,
    "start_time": "2023-03-09T22:15:15.862Z"
   },
   {
    "duration": 579,
    "start_time": "2023-03-09T22:15:16.451Z"
   },
   {
    "duration": 18,
    "start_time": "2023-03-09T22:15:17.032Z"
   },
   {
    "duration": 1865,
    "start_time": "2023-03-09T22:15:17.065Z"
   },
   {
    "duration": 413,
    "start_time": "2023-03-09T22:15:18.932Z"
   },
   {
    "duration": 440,
    "start_time": "2023-03-09T22:15:19.346Z"
   },
   {
    "duration": 381,
    "start_time": "2023-03-09T22:15:19.788Z"
   },
   {
    "duration": 186,
    "start_time": "2023-03-09T22:15:20.171Z"
   },
   {
    "duration": 420,
    "start_time": "2023-03-09T22:15:20.365Z"
   },
   {
    "duration": 449,
    "start_time": "2023-03-09T22:15:20.787Z"
   },
   {
    "duration": 31,
    "start_time": "2023-03-09T22:15:21.238Z"
   },
   {
    "duration": 34,
    "start_time": "2023-03-09T22:15:21.271Z"
   },
   {
    "duration": 11,
    "start_time": "2023-03-09T22:15:21.307Z"
   },
   {
    "duration": 63,
    "start_time": "2023-03-09T22:15:21.320Z"
   },
   {
    "duration": 3,
    "start_time": "2023-03-09T22:15:21.385Z"
   },
   {
    "duration": 8,
    "start_time": "2023-03-09T22:15:21.390Z"
   },
   {
    "duration": 10,
    "start_time": "2023-03-09T22:15:21.400Z"
   },
   {
    "duration": 16,
    "start_time": "2023-03-09T22:15:21.411Z"
   },
   {
    "duration": 51,
    "start_time": "2023-03-09T22:15:21.433Z"
   },
   {
    "duration": 3,
    "start_time": "2023-03-09T22:15:21.486Z"
   },
   {
    "duration": 10,
    "start_time": "2023-03-09T22:15:21.491Z"
   },
   {
    "duration": 10,
    "start_time": "2023-03-09T22:15:21.503Z"
   },
   {
    "duration": 897,
    "start_time": "2023-03-09T22:15:21.516Z"
   },
   {
    "duration": 782,
    "start_time": "2023-03-10T12:39:42.809Z"
   },
   {
    "duration": 252,
    "start_time": "2023-03-10T12:39:43.593Z"
   },
   {
    "duration": 3,
    "start_time": "2023-03-10T12:39:43.847Z"
   },
   {
    "duration": 22,
    "start_time": "2023-03-10T12:39:43.851Z"
   },
   {
    "duration": 74,
    "start_time": "2023-03-10T12:39:43.875Z"
   },
   {
    "duration": 28,
    "start_time": "2023-03-10T12:39:43.950Z"
   },
   {
    "duration": 27,
    "start_time": "2023-03-10T12:39:43.980Z"
   },
   {
    "duration": 1685,
    "start_time": "2023-03-10T12:39:44.009Z"
   },
   {
    "duration": 10,
    "start_time": "2023-03-10T12:39:45.696Z"
   },
   {
    "duration": 7,
    "start_time": "2023-03-10T12:39:45.708Z"
   },
   {
    "duration": 9,
    "start_time": "2023-03-10T12:39:45.716Z"
   },
   {
    "duration": 10,
    "start_time": "2023-03-10T12:39:45.726Z"
   },
   {
    "duration": 10,
    "start_time": "2023-03-10T12:39:45.746Z"
   },
   {
    "duration": 5,
    "start_time": "2023-03-10T12:39:45.759Z"
   },
   {
    "duration": 7,
    "start_time": "2023-03-10T12:39:45.766Z"
   },
   {
    "duration": 275,
    "start_time": "2023-03-10T12:39:45.774Z"
   },
   {
    "duration": 8,
    "start_time": "2023-03-10T12:39:46.050Z"
   },
   {
    "duration": 7,
    "start_time": "2023-03-10T12:39:46.060Z"
   },
   {
    "duration": 12506,
    "start_time": "2023-03-10T12:39:46.068Z"
   },
   {
    "duration": 8,
    "start_time": "2023-03-10T12:39:58.575Z"
   },
   {
    "duration": 18,
    "start_time": "2023-03-10T12:39:58.584Z"
   },
   {
    "duration": 12,
    "start_time": "2023-03-10T12:39:58.603Z"
   },
   {
    "duration": 22,
    "start_time": "2023-03-10T12:39:58.616Z"
   },
   {
    "duration": 18,
    "start_time": "2023-03-10T12:39:58.639Z"
   },
   {
    "duration": 13,
    "start_time": "2023-03-10T12:39:58.659Z"
   },
   {
    "duration": 47,
    "start_time": "2023-03-10T12:39:58.674Z"
   },
   {
    "duration": 28,
    "start_time": "2023-03-10T12:39:58.723Z"
   },
   {
    "duration": 255,
    "start_time": "2023-03-10T12:39:58.753Z"
   },
   {
    "duration": 5,
    "start_time": "2023-03-10T12:39:59.009Z"
   },
   {
    "duration": 47,
    "start_time": "2023-03-10T12:39:59.015Z"
   },
   {
    "duration": 58,
    "start_time": "2023-03-10T12:39:59.064Z"
   },
   {
    "duration": 34,
    "start_time": "2023-03-10T12:39:59.124Z"
   },
   {
    "duration": 28,
    "start_time": "2023-03-10T12:39:59.159Z"
   },
   {
    "duration": 32,
    "start_time": "2023-03-10T12:39:59.189Z"
   },
   {
    "duration": 78,
    "start_time": "2023-03-10T12:39:59.223Z"
   },
   {
    "duration": 15,
    "start_time": "2023-03-10T12:39:59.304Z"
   },
   {
    "duration": 558,
    "start_time": "2023-03-10T12:39:59.321Z"
   },
   {
    "duration": 5,
    "start_time": "2023-03-10T12:39:59.880Z"
   },
   {
    "duration": 40,
    "start_time": "2023-03-10T12:39:59.886Z"
   },
   {
    "duration": 50,
    "start_time": "2023-03-10T12:39:59.927Z"
   },
   {
    "duration": 10,
    "start_time": "2023-03-10T12:39:59.982Z"
   },
   {
    "duration": 96,
    "start_time": "2023-03-10T12:39:59.993Z"
   },
   {
    "duration": 22,
    "start_time": "2023-03-10T12:40:00.090Z"
   },
   {
    "duration": 57,
    "start_time": "2023-03-10T12:40:00.114Z"
   },
   {
    "duration": 32,
    "start_time": "2023-03-10T12:40:00.173Z"
   },
   {
    "duration": 69,
    "start_time": "2023-03-10T12:40:00.206Z"
   },
   {
    "duration": 78,
    "start_time": "2023-03-10T12:40:00.277Z"
   },
   {
    "duration": 46,
    "start_time": "2023-03-10T12:40:00.357Z"
   },
   {
    "duration": 19,
    "start_time": "2023-03-10T12:40:00.405Z"
   },
   {
    "duration": 66,
    "start_time": "2023-03-10T12:40:00.426Z"
   },
   {
    "duration": 18,
    "start_time": "2023-03-10T12:40:00.494Z"
   },
   {
    "duration": 56,
    "start_time": "2023-03-10T12:40:00.513Z"
   },
   {
    "duration": 38,
    "start_time": "2023-03-10T12:40:00.571Z"
   },
   {
    "duration": 38,
    "start_time": "2023-03-10T12:40:00.610Z"
   },
   {
    "duration": 364,
    "start_time": "2023-03-10T12:40:00.649Z"
   },
   {
    "duration": 3,
    "start_time": "2023-03-10T12:40:01.015Z"
   },
   {
    "duration": 48,
    "start_time": "2023-03-10T12:40:01.020Z"
   },
   {
    "duration": 1979,
    "start_time": "2023-03-10T12:40:01.070Z"
   },
   {
    "duration": 8,
    "start_time": "2023-03-10T12:40:03.055Z"
   },
   {
    "duration": 391,
    "start_time": "2023-03-10T12:40:03.064Z"
   },
   {
    "duration": 238,
    "start_time": "2023-03-10T12:40:03.457Z"
   },
   {
    "duration": 223,
    "start_time": "2023-03-10T12:40:03.696Z"
   },
   {
    "duration": 336,
    "start_time": "2023-03-10T12:40:03.921Z"
   },
   {
    "duration": 431,
    "start_time": "2023-03-10T12:40:04.259Z"
   },
   {
    "duration": 478,
    "start_time": "2023-03-10T12:40:04.691Z"
   },
   {
    "duration": 14,
    "start_time": "2023-03-10T12:40:05.171Z"
   },
   {
    "duration": 1604,
    "start_time": "2023-03-10T12:40:05.187Z"
   },
   {
    "duration": 328,
    "start_time": "2023-03-10T12:40:06.793Z"
   },
   {
    "duration": 374,
    "start_time": "2023-03-10T12:40:07.123Z"
   },
   {
    "duration": 308,
    "start_time": "2023-03-10T12:40:07.498Z"
   },
   {
    "duration": 142,
    "start_time": "2023-03-10T12:40:07.807Z"
   },
   {
    "duration": 284,
    "start_time": "2023-03-10T12:40:07.951Z"
   },
   {
    "duration": 332,
    "start_time": "2023-03-10T12:40:08.236Z"
   },
   {
    "duration": 16,
    "start_time": "2023-03-10T12:40:08.570Z"
   },
   {
    "duration": 26,
    "start_time": "2023-03-10T12:40:08.588Z"
   },
   {
    "duration": 8,
    "start_time": "2023-03-10T12:40:08.634Z"
   },
   {
    "duration": 24,
    "start_time": "2023-03-10T12:40:08.644Z"
   },
   {
    "duration": 3,
    "start_time": "2023-03-10T12:40:08.669Z"
   },
   {
    "duration": 5,
    "start_time": "2023-03-10T12:40:08.674Z"
   },
   {
    "duration": 5,
    "start_time": "2023-03-10T12:40:08.681Z"
   },
   {
    "duration": 14,
    "start_time": "2023-03-10T12:40:08.687Z"
   },
   {
    "duration": 157,
    "start_time": "2023-03-10T12:40:08.703Z"
   },
   {
    "duration": 3,
    "start_time": "2023-03-10T12:40:08.862Z"
   },
   {
    "duration": 10,
    "start_time": "2023-03-10T12:40:08.867Z"
   },
   {
    "duration": 12,
    "start_time": "2023-03-10T12:40:08.878Z"
   },
   {
    "duration": 695,
    "start_time": "2023-03-10T12:40:08.891Z"
   },
   {
    "duration": 99,
    "start_time": "2023-03-10T13:04:00.921Z"
   },
   {
    "duration": 96,
    "start_time": "2023-03-10T13:04:33.111Z"
   },
   {
    "duration": 158,
    "start_time": "2023-03-10T13:18:17.224Z"
   },
   {
    "duration": 201,
    "start_time": "2023-03-10T13:18:25.355Z"
   },
   {
    "duration": 237,
    "start_time": "2023-03-10T13:18:55.757Z"
   },
   {
    "duration": 15,
    "start_time": "2023-03-10T13:21:57.060Z"
   },
   {
    "duration": 701,
    "start_time": "2023-03-10T13:25:16.331Z"
   },
   {
    "duration": 270,
    "start_time": "2023-03-10T13:25:17.035Z"
   },
   {
    "duration": 3,
    "start_time": "2023-03-10T13:25:17.307Z"
   },
   {
    "duration": 24,
    "start_time": "2023-03-10T13:25:17.312Z"
   },
   {
    "duration": 72,
    "start_time": "2023-03-10T13:25:17.340Z"
   },
   {
    "duration": 42,
    "start_time": "2023-03-10T13:25:17.413Z"
   },
   {
    "duration": 27,
    "start_time": "2023-03-10T13:25:17.458Z"
   },
   {
    "duration": 1983,
    "start_time": "2023-03-10T13:25:17.487Z"
   },
   {
    "duration": 14,
    "start_time": "2023-03-10T13:25:19.472Z"
   },
   {
    "duration": 12,
    "start_time": "2023-03-10T13:25:19.490Z"
   },
   {
    "duration": 22,
    "start_time": "2023-03-10T13:25:19.503Z"
   },
   {
    "duration": 11,
    "start_time": "2023-03-10T13:25:19.527Z"
   },
   {
    "duration": 25,
    "start_time": "2023-03-10T13:25:19.539Z"
   },
   {
    "duration": 7,
    "start_time": "2023-03-10T13:25:19.565Z"
   },
   {
    "duration": 10,
    "start_time": "2023-03-10T13:25:19.573Z"
   },
   {
    "duration": 299,
    "start_time": "2023-03-10T13:25:19.585Z"
   },
   {
    "duration": 9,
    "start_time": "2023-03-10T13:25:19.886Z"
   },
   {
    "duration": 4,
    "start_time": "2023-03-10T13:25:19.897Z"
   },
   {
    "duration": 13524,
    "start_time": "2023-03-10T13:25:19.902Z"
   },
   {
    "duration": 25,
    "start_time": "2023-03-10T13:25:33.428Z"
   },
   {
    "duration": 7,
    "start_time": "2023-03-10T13:25:33.455Z"
   },
   {
    "duration": 8,
    "start_time": "2023-03-10T13:25:33.463Z"
   },
   {
    "duration": 19,
    "start_time": "2023-03-10T13:25:33.472Z"
   },
   {
    "duration": 15,
    "start_time": "2023-03-10T13:25:33.493Z"
   },
   {
    "duration": 10,
    "start_time": "2023-03-10T13:25:33.510Z"
   },
   {
    "duration": 23,
    "start_time": "2023-03-10T13:25:33.521Z"
   },
   {
    "duration": 8,
    "start_time": "2023-03-10T13:25:33.545Z"
   },
   {
    "duration": 228,
    "start_time": "2023-03-10T13:25:33.557Z"
   },
   {
    "duration": 6,
    "start_time": "2023-03-10T13:25:33.789Z"
   },
   {
    "duration": 23,
    "start_time": "2023-03-10T13:25:33.797Z"
   },
   {
    "duration": 56,
    "start_time": "2023-03-10T13:25:33.822Z"
   },
   {
    "duration": 9,
    "start_time": "2023-03-10T13:25:33.879Z"
   },
   {
    "duration": 6,
    "start_time": "2023-03-10T13:25:33.890Z"
   },
   {
    "duration": 6,
    "start_time": "2023-03-10T13:25:33.898Z"
   },
   {
    "duration": 58,
    "start_time": "2023-03-10T13:25:33.906Z"
   },
   {
    "duration": 17,
    "start_time": "2023-03-10T13:25:33.966Z"
   },
   {
    "duration": 521,
    "start_time": "2023-03-10T13:25:33.985Z"
   },
   {
    "duration": 6,
    "start_time": "2023-03-10T13:25:34.507Z"
   },
   {
    "duration": 25,
    "start_time": "2023-03-10T13:25:34.515Z"
   },
   {
    "duration": 41,
    "start_time": "2023-03-10T13:25:34.546Z"
   },
   {
    "duration": 15,
    "start_time": "2023-03-10T13:25:34.589Z"
   },
   {
    "duration": 147,
    "start_time": "2023-03-10T13:25:34.606Z"
   },
   {
    "duration": 11,
    "start_time": "2023-03-10T13:25:34.755Z"
   },
   {
    "duration": 52,
    "start_time": "2023-03-10T13:25:34.768Z"
   },
   {
    "duration": 7,
    "start_time": "2023-03-10T13:25:34.822Z"
   },
   {
    "duration": 33,
    "start_time": "2023-03-10T13:25:34.830Z"
   },
   {
    "duration": 34,
    "start_time": "2023-03-10T13:25:34.865Z"
   },
   {
    "duration": 26,
    "start_time": "2023-03-10T13:25:34.901Z"
   },
   {
    "duration": 12,
    "start_time": "2023-03-10T13:25:34.929Z"
   },
   {
    "duration": 45,
    "start_time": "2023-03-10T13:25:34.945Z"
   },
   {
    "duration": 72,
    "start_time": "2023-03-10T13:25:34.991Z"
   },
   {
    "duration": 5,
    "start_time": "2023-03-10T13:25:35.065Z"
   },
   {
    "duration": 17,
    "start_time": "2023-03-10T13:25:35.072Z"
   },
   {
    "duration": 6,
    "start_time": "2023-03-10T13:25:35.091Z"
   },
   {
    "duration": 8,
    "start_time": "2023-03-10T13:25:35.098Z"
   },
   {
    "duration": 360,
    "start_time": "2023-03-10T13:25:35.107Z"
   },
   {
    "duration": 4,
    "start_time": "2023-03-10T13:25:35.469Z"
   },
   {
    "duration": 14,
    "start_time": "2023-03-10T13:25:35.474Z"
   },
   {
    "duration": 2454,
    "start_time": "2023-03-10T13:25:35.490Z"
   },
   {
    "duration": 10,
    "start_time": "2023-03-10T13:25:37.949Z"
   },
   {
    "duration": 396,
    "start_time": "2023-03-10T13:25:37.960Z"
   },
   {
    "duration": 279,
    "start_time": "2023-03-10T13:25:38.358Z"
   },
   {
    "duration": 217,
    "start_time": "2023-03-10T13:25:38.643Z"
   },
   {
    "duration": 345,
    "start_time": "2023-03-10T13:25:38.862Z"
   },
   {
    "duration": 518,
    "start_time": "2023-03-10T13:25:39.208Z"
   },
   {
    "duration": 494,
    "start_time": "2023-03-10T13:25:39.728Z"
   },
   {
    "duration": 27,
    "start_time": "2023-03-10T13:25:40.224Z"
   },
   {
    "duration": 1827,
    "start_time": "2023-03-10T13:25:40.253Z"
   },
   {
    "duration": 337,
    "start_time": "2023-03-10T13:25:42.082Z"
   },
   {
    "duration": 151,
    "start_time": "2023-03-10T13:25:42.421Z"
   },
   {
    "duration": 418,
    "start_time": "2023-03-10T13:25:42.574Z"
   },
   {
    "duration": 367,
    "start_time": "2023-03-10T13:25:42.994Z"
   },
   {
    "duration": 157,
    "start_time": "2023-03-10T13:25:43.363Z"
   },
   {
    "duration": 352,
    "start_time": "2023-03-10T13:25:43.521Z"
   },
   {
    "duration": 425,
    "start_time": "2023-03-10T13:25:43.875Z"
   },
   {
    "duration": 48,
    "start_time": "2023-03-10T13:25:44.302Z"
   },
   {
    "duration": 30,
    "start_time": "2023-03-10T13:25:44.353Z"
   },
   {
    "duration": 15,
    "start_time": "2023-03-10T13:25:44.385Z"
   },
   {
    "duration": 10,
    "start_time": "2023-03-10T13:25:44.402Z"
   },
   {
    "duration": 127,
    "start_time": "2023-03-10T13:25:44.413Z"
   },
   {
    "duration": 4,
    "start_time": "2023-03-10T13:25:44.541Z"
   },
   {
    "duration": 15,
    "start_time": "2023-03-10T13:25:44.557Z"
   },
   {
    "duration": 11,
    "start_time": "2023-03-10T13:25:44.574Z"
   },
   {
    "duration": 30,
    "start_time": "2023-03-10T13:25:44.586Z"
   },
   {
    "duration": 35,
    "start_time": "2023-03-10T13:25:44.617Z"
   },
   {
    "duration": 19,
    "start_time": "2023-03-10T13:25:44.654Z"
   },
   {
    "duration": 9,
    "start_time": "2023-03-10T13:25:44.674Z"
   },
   {
    "duration": 9,
    "start_time": "2023-03-10T13:25:44.684Z"
   },
   {
    "duration": 702,
    "start_time": "2023-03-10T13:25:44.695Z"
   },
   {
    "duration": 49,
    "start_time": "2023-03-13T07:55:00.860Z"
   },
   {
    "duration": 784,
    "start_time": "2023-03-13T07:55:18.952Z"
   },
   {
    "duration": 434,
    "start_time": "2023-03-13T07:55:19.738Z"
   },
   {
    "duration": 3,
    "start_time": "2023-03-13T07:55:20.173Z"
   },
   {
    "duration": 17,
    "start_time": "2023-03-13T07:55:20.179Z"
   },
   {
    "duration": 84,
    "start_time": "2023-03-13T07:55:20.198Z"
   },
   {
    "duration": 28,
    "start_time": "2023-03-13T07:55:20.284Z"
   },
   {
    "duration": 42,
    "start_time": "2023-03-13T07:55:20.314Z"
   },
   {
    "duration": 1777,
    "start_time": "2023-03-13T07:55:20.358Z"
   },
   {
    "duration": 9,
    "start_time": "2023-03-13T07:55:22.137Z"
   },
   {
    "duration": 10,
    "start_time": "2023-03-13T07:55:22.148Z"
   },
   {
    "duration": 7,
    "start_time": "2023-03-13T07:55:22.160Z"
   },
   {
    "duration": 8,
    "start_time": "2023-03-13T07:55:22.169Z"
   },
   {
    "duration": 7,
    "start_time": "2023-03-13T07:55:28.174Z"
   },
   {
    "duration": 8,
    "start_time": "2023-03-13T07:55:31.927Z"
   },
   {
    "duration": 6,
    "start_time": "2023-03-13T07:55:34.290Z"
   },
   {
    "duration": 7,
    "start_time": "2023-03-13T07:55:47.245Z"
   },
   {
    "duration": 966,
    "start_time": "2023-03-13T07:55:59.937Z"
   },
   {
    "duration": 893,
    "start_time": "2023-03-13T07:57:58.797Z"
   },
   {
    "duration": 898,
    "start_time": "2023-03-13T07:58:40.899Z"
   },
   {
    "duration": 822,
    "start_time": "2023-03-13T07:58:53.871Z"
   },
   {
    "duration": 2,
    "start_time": "2023-03-13T07:59:14.960Z"
   },
   {
    "duration": 194,
    "start_time": "2023-03-13T07:59:14.964Z"
   },
   {
    "duration": 2,
    "start_time": "2023-03-13T07:59:15.160Z"
   },
   {
    "duration": 19,
    "start_time": "2023-03-13T07:59:15.164Z"
   },
   {
    "duration": 83,
    "start_time": "2023-03-13T07:59:15.185Z"
   },
   {
    "duration": 28,
    "start_time": "2023-03-13T07:59:15.270Z"
   },
   {
    "duration": 48,
    "start_time": "2023-03-13T07:59:15.300Z"
   },
   {
    "duration": 1827,
    "start_time": "2023-03-13T07:59:15.350Z"
   },
   {
    "duration": 9,
    "start_time": "2023-03-13T07:59:17.179Z"
   },
   {
    "duration": 9,
    "start_time": "2023-03-13T07:59:17.190Z"
   },
   {
    "duration": 12,
    "start_time": "2023-03-13T07:59:17.201Z"
   },
   {
    "duration": 32,
    "start_time": "2023-03-13T07:59:17.214Z"
   },
   {
    "duration": 9,
    "start_time": "2023-03-13T07:59:20.464Z"
   },
   {
    "duration": 601,
    "start_time": "2023-03-13T07:59:45.468Z"
   },
   {
    "duration": 140,
    "start_time": "2023-03-13T07:59:46.071Z"
   },
   {
    "duration": 3,
    "start_time": "2023-03-13T07:59:46.212Z"
   },
   {
    "duration": 18,
    "start_time": "2023-03-13T07:59:46.217Z"
   },
   {
    "duration": 74,
    "start_time": "2023-03-13T07:59:46.236Z"
   },
   {
    "duration": 43,
    "start_time": "2023-03-13T07:59:46.311Z"
   },
   {
    "duration": 30,
    "start_time": "2023-03-13T07:59:46.355Z"
   },
   {
    "duration": 1804,
    "start_time": "2023-03-13T07:59:46.387Z"
   },
   {
    "duration": 9,
    "start_time": "2023-03-13T07:59:48.192Z"
   },
   {
    "duration": 13,
    "start_time": "2023-03-13T07:59:48.203Z"
   },
   {
    "duration": 9,
    "start_time": "2023-03-13T07:59:48.218Z"
   },
   {
    "duration": 7,
    "start_time": "2023-03-13T07:59:48.229Z"
   },
   {
    "duration": 7,
    "start_time": "2023-03-13T08:00:00.595Z"
   },
   {
    "duration": 8,
    "start_time": "2023-03-13T08:00:03.862Z"
   },
   {
    "duration": 5,
    "start_time": "2023-03-13T08:00:09.600Z"
   },
   {
    "duration": 16,
    "start_time": "2023-03-13T08:00:26.495Z"
   },
   {
    "duration": 10,
    "start_time": "2023-03-13T08:00:29.641Z"
   },
   {
    "duration": 10,
    "start_time": "2023-03-13T08:00:47.613Z"
   },
   {
    "duration": 11,
    "start_time": "2023-03-13T08:00:57.014Z"
   },
   {
    "duration": 19,
    "start_time": "2023-03-13T08:01:38.334Z"
   },
   {
    "duration": 5,
    "start_time": "2023-03-13T08:02:06.804Z"
   },
   {
    "duration": 5,
    "start_time": "2023-03-13T08:02:13.034Z"
   },
   {
    "duration": 69,
    "start_time": "2023-03-13T08:04:25.276Z"
   },
   {
    "duration": 8,
    "start_time": "2023-03-13T08:04:35.573Z"
   },
   {
    "duration": 9,
    "start_time": "2023-03-13T08:04:44.727Z"
   },
   {
    "duration": 5,
    "start_time": "2023-03-13T08:04:57.362Z"
   },
   {
    "duration": 3,
    "start_time": "2023-03-13T08:05:03.061Z"
   },
   {
    "duration": 251,
    "start_time": "2023-03-13T08:05:03.068Z"
   },
   {
    "duration": 3,
    "start_time": "2023-03-13T08:05:03.321Z"
   },
   {
    "duration": 22,
    "start_time": "2023-03-13T08:05:03.325Z"
   },
   {
    "duration": 69,
    "start_time": "2023-03-13T08:05:03.348Z"
   },
   {
    "duration": 37,
    "start_time": "2023-03-13T08:05:03.419Z"
   },
   {
    "duration": 28,
    "start_time": "2023-03-13T08:05:03.458Z"
   },
   {
    "duration": 1713,
    "start_time": "2023-03-13T08:05:03.487Z"
   },
   {
    "duration": 8,
    "start_time": "2023-03-13T08:05:05.201Z"
   },
   {
    "duration": 10,
    "start_time": "2023-03-13T08:05:05.211Z"
   },
   {
    "duration": 20,
    "start_time": "2023-03-13T08:05:05.222Z"
   },
   {
    "duration": 7,
    "start_time": "2023-03-13T08:05:05.244Z"
   },
   {
    "duration": 10,
    "start_time": "2023-03-13T08:05:05.252Z"
   },
   {
    "duration": 5,
    "start_time": "2023-03-13T08:05:07.504Z"
   },
   {
    "duration": 4,
    "start_time": "2023-03-13T08:05:09.953Z"
   },
   {
    "duration": 8,
    "start_time": "2023-03-13T08:05:38.701Z"
   },
   {
    "duration": 4,
    "start_time": "2023-03-13T08:05:40.397Z"
   },
   {
    "duration": 8,
    "start_time": "2023-03-13T08:07:24.303Z"
   },
   {
    "duration": 264,
    "start_time": "2023-03-13T08:07:26.305Z"
   },
   {
    "duration": 4,
    "start_time": "2023-03-13T08:17:06.515Z"
   },
   {
    "duration": 3988,
    "start_time": "2023-03-13T08:17:09.197Z"
   },
   {
    "duration": 576,
    "start_time": "2023-03-13T08:19:55.178Z"
   },
   {
    "duration": 148,
    "start_time": "2023-03-13T08:19:55.756Z"
   },
   {
    "duration": 2,
    "start_time": "2023-03-13T08:19:55.906Z"
   },
   {
    "duration": 17,
    "start_time": "2023-03-13T08:19:55.910Z"
   },
   {
    "duration": 75,
    "start_time": "2023-03-13T08:19:55.928Z"
   },
   {
    "duration": 38,
    "start_time": "2023-03-13T08:19:56.004Z"
   },
   {
    "duration": 36,
    "start_time": "2023-03-13T08:19:56.044Z"
   },
   {
    "duration": 1853,
    "start_time": "2023-03-13T08:19:56.082Z"
   },
   {
    "duration": 8,
    "start_time": "2023-03-13T08:19:57.937Z"
   },
   {
    "duration": 7,
    "start_time": "2023-03-13T08:19:57.948Z"
   },
   {
    "duration": 8,
    "start_time": "2023-03-13T08:19:57.957Z"
   },
   {
    "duration": 8,
    "start_time": "2023-03-13T08:19:57.967Z"
   },
   {
    "duration": 8,
    "start_time": "2023-03-13T08:19:57.977Z"
   },
   {
    "duration": 5,
    "start_time": "2023-03-13T08:19:57.987Z"
   },
   {
    "duration": 11,
    "start_time": "2023-03-13T08:19:57.993Z"
   },
   {
    "duration": 3,
    "start_time": "2023-03-13T08:19:58.006Z"
   },
   {
    "duration": 8,
    "start_time": "2023-03-13T08:19:58.041Z"
   },
   {
    "duration": 314,
    "start_time": "2023-03-13T08:19:58.051Z"
   },
   {
    "duration": 4,
    "start_time": "2023-03-13T08:20:38.433Z"
   },
   {
    "duration": 4,
    "start_time": "2023-03-13T08:21:22.701Z"
   },
   {
    "duration": 4,
    "start_time": "2023-03-13T08:21:24.966Z"
   },
   {
    "duration": 6,
    "start_time": "2023-03-13T08:22:50.320Z"
   },
   {
    "duration": 4,
    "start_time": "2023-03-13T08:23:23.683Z"
   },
   {
    "duration": 11,
    "start_time": "2023-03-13T08:24:01.928Z"
   },
   {
    "duration": 5,
    "start_time": "2023-03-13T08:25:18.823Z"
   },
   {
    "duration": 9,
    "start_time": "2023-03-13T08:26:13.623Z"
   },
   {
    "duration": 74,
    "start_time": "2023-03-13T08:29:20.497Z"
   },
   {
    "duration": 17,
    "start_time": "2023-03-13T08:29:38.296Z"
   },
   {
    "duration": 9,
    "start_time": "2023-03-13T08:29:53.519Z"
   },
   {
    "duration": 5,
    "start_time": "2023-03-13T08:30:00.464Z"
   },
   {
    "duration": 10,
    "start_time": "2023-03-13T08:30:19.903Z"
   },
   {
    "duration": 12,
    "start_time": "2023-03-13T08:30:54.884Z"
   },
   {
    "duration": 7,
    "start_time": "2023-03-13T08:31:03.449Z"
   },
   {
    "duration": 10,
    "start_time": "2023-03-13T08:31:16.236Z"
   },
   {
    "duration": 17,
    "start_time": "2023-03-13T08:31:34.567Z"
   },
   {
    "duration": 12,
    "start_time": "2023-03-13T08:33:13.276Z"
   },
   {
    "duration": 9,
    "start_time": "2023-03-13T08:33:42.606Z"
   },
   {
    "duration": 9,
    "start_time": "2023-03-13T08:34:05.855Z"
   },
   {
    "duration": 9,
    "start_time": "2023-03-13T08:35:12.686Z"
   },
   {
    "duration": 10,
    "start_time": "2023-03-13T08:35:53.295Z"
   },
   {
    "duration": 587,
    "start_time": "2023-03-13T08:37:16.777Z"
   },
   {
    "duration": 236,
    "start_time": "2023-03-13T08:37:17.366Z"
   },
   {
    "duration": 3,
    "start_time": "2023-03-13T08:37:17.604Z"
   },
   {
    "duration": 26,
    "start_time": "2023-03-13T08:37:17.609Z"
   },
   {
    "duration": 75,
    "start_time": "2023-03-13T08:37:17.637Z"
   },
   {
    "duration": 29,
    "start_time": "2023-03-13T08:37:17.713Z"
   },
   {
    "duration": 27,
    "start_time": "2023-03-13T08:37:17.743Z"
   },
   {
    "duration": 1739,
    "start_time": "2023-03-13T08:37:17.772Z"
   },
   {
    "duration": 10,
    "start_time": "2023-03-13T08:37:19.513Z"
   },
   {
    "duration": 7,
    "start_time": "2023-03-13T08:37:19.526Z"
   },
   {
    "duration": 7,
    "start_time": "2023-03-13T08:37:19.535Z"
   },
   {
    "duration": 6,
    "start_time": "2023-03-13T08:37:19.544Z"
   },
   {
    "duration": 14,
    "start_time": "2023-03-13T08:37:19.552Z"
   },
   {
    "duration": 18,
    "start_time": "2023-03-13T08:37:19.568Z"
   },
   {
    "duration": 15,
    "start_time": "2023-03-13T08:37:19.588Z"
   },
   {
    "duration": 5,
    "start_time": "2023-03-13T08:37:19.604Z"
   },
   {
    "duration": 8,
    "start_time": "2023-03-13T08:37:19.611Z"
   },
   {
    "duration": 281,
    "start_time": "2023-03-13T08:37:19.621Z"
   },
   {
    "duration": 4,
    "start_time": "2023-03-13T08:37:30.740Z"
   },
   {
    "duration": 7,
    "start_time": "2023-03-13T08:37:35.726Z"
   },
   {
    "duration": 6,
    "start_time": "2023-03-13T08:37:36.877Z"
   },
   {
    "duration": 13,
    "start_time": "2023-03-13T08:37:56.550Z"
   },
   {
    "duration": 91,
    "start_time": "2023-03-13T08:39:54.469Z"
   },
   {
    "duration": 573,
    "start_time": "2023-03-13T08:41:20.216Z"
   },
   {
    "duration": 8,
    "start_time": "2023-03-13T08:41:54.590Z"
   },
   {
    "duration": 8,
    "start_time": "2023-03-13T08:42:29.030Z"
   },
   {
    "duration": 578,
    "start_time": "2023-03-13T08:43:05.875Z"
   },
   {
    "duration": 607,
    "start_time": "2023-03-13T08:43:06.455Z"
   },
   {
    "duration": 3,
    "start_time": "2023-03-13T08:43:07.064Z"
   },
   {
    "duration": 18,
    "start_time": "2023-03-13T08:43:07.069Z"
   },
   {
    "duration": 76,
    "start_time": "2023-03-13T08:43:07.089Z"
   },
   {
    "duration": 28,
    "start_time": "2023-03-13T08:43:07.167Z"
   },
   {
    "duration": 48,
    "start_time": "2023-03-13T08:43:07.196Z"
   },
   {
    "duration": 1702,
    "start_time": "2023-03-13T08:43:07.245Z"
   },
   {
    "duration": 9,
    "start_time": "2023-03-13T08:43:08.948Z"
   },
   {
    "duration": 7,
    "start_time": "2023-03-13T08:43:08.959Z"
   },
   {
    "duration": 7,
    "start_time": "2023-03-13T08:43:08.967Z"
   },
   {
    "duration": 6,
    "start_time": "2023-03-13T08:43:08.976Z"
   },
   {
    "duration": 10,
    "start_time": "2023-03-13T08:43:08.984Z"
   },
   {
    "duration": 5,
    "start_time": "2023-03-13T08:43:08.996Z"
   },
   {
    "duration": 13,
    "start_time": "2023-03-13T08:43:09.002Z"
   },
   {
    "duration": 24,
    "start_time": "2023-03-13T08:43:09.017Z"
   },
   {
    "duration": 9,
    "start_time": "2023-03-13T08:43:09.043Z"
   },
   {
    "duration": 282,
    "start_time": "2023-03-13T08:43:09.054Z"
   },
   {
    "duration": 4,
    "start_time": "2023-03-13T08:43:09.339Z"
   },
   {
    "duration": 5,
    "start_time": "2023-03-13T08:43:09.345Z"
   },
   {
    "duration": 3,
    "start_time": "2023-03-13T08:43:14.423Z"
   },
   {
    "duration": 6,
    "start_time": "2023-03-13T08:43:16.884Z"
   },
   {
    "duration": 8,
    "start_time": "2023-03-13T08:43:19.263Z"
   },
   {
    "duration": 6,
    "start_time": "2023-03-13T08:43:21.092Z"
   },
   {
    "duration": 1167,
    "start_time": "2023-03-13T08:43:48.163Z"
   },
   {
    "duration": 14,
    "start_time": "2023-03-13T08:44:02.941Z"
   },
   {
    "duration": 12,
    "start_time": "2023-03-13T08:44:21.170Z"
   },
   {
    "duration": 5,
    "start_time": "2023-03-13T08:46:01.346Z"
   },
   {
    "duration": 5,
    "start_time": "2023-03-13T08:53:53.592Z"
   },
   {
    "duration": 599,
    "start_time": "2023-03-13T08:55:55.154Z"
   },
   {
    "duration": 200,
    "start_time": "2023-03-13T08:55:55.755Z"
   },
   {
    "duration": 3,
    "start_time": "2023-03-13T08:55:55.956Z"
   },
   {
    "duration": 20,
    "start_time": "2023-03-13T08:55:55.961Z"
   },
   {
    "duration": 78,
    "start_time": "2023-03-13T08:55:55.983Z"
   },
   {
    "duration": 28,
    "start_time": "2023-03-13T08:55:56.063Z"
   },
   {
    "duration": 26,
    "start_time": "2023-03-13T08:55:56.092Z"
   },
   {
    "duration": 1855,
    "start_time": "2023-03-13T08:55:56.120Z"
   },
   {
    "duration": 10,
    "start_time": "2023-03-13T08:55:57.977Z"
   },
   {
    "duration": 8,
    "start_time": "2023-03-13T08:55:57.989Z"
   },
   {
    "duration": 5,
    "start_time": "2023-03-13T08:55:57.999Z"
   },
   {
    "duration": 10,
    "start_time": "2023-03-13T08:55:58.005Z"
   },
   {
    "duration": 16,
    "start_time": "2023-03-13T08:55:58.016Z"
   },
   {
    "duration": 6,
    "start_time": "2023-03-13T08:55:58.034Z"
   },
   {
    "duration": 11,
    "start_time": "2023-03-13T08:55:58.042Z"
   },
   {
    "duration": 3,
    "start_time": "2023-03-13T08:55:58.055Z"
   },
   {
    "duration": 12,
    "start_time": "2023-03-13T08:55:58.060Z"
   },
   {
    "duration": 11,
    "start_time": "2023-03-13T08:55:58.073Z"
   },
   {
    "duration": 318,
    "start_time": "2023-03-13T08:55:58.086Z"
   },
   {
    "duration": 4,
    "start_time": "2023-03-13T08:56:07.753Z"
   },
   {
    "duration": 7,
    "start_time": "2023-03-13T08:56:08.974Z"
   },
   {
    "duration": 5,
    "start_time": "2023-03-13T08:56:10.733Z"
   },
   {
    "duration": 6,
    "start_time": "2023-03-13T08:57:03.141Z"
   },
   {
    "duration": 4,
    "start_time": "2023-03-13T09:01:46.832Z"
   },
   {
    "duration": 6,
    "start_time": "2023-03-13T09:04:52.343Z"
   },
   {
    "duration": 5,
    "start_time": "2023-03-13T09:04:53.496Z"
   },
   {
    "duration": 4,
    "start_time": "2023-03-13T09:04:54.814Z"
   },
   {
    "duration": 4,
    "start_time": "2023-03-13T09:05:51.510Z"
   },
   {
    "duration": 10,
    "start_time": "2023-03-13T09:11:02.255Z"
   },
   {
    "duration": 7,
    "start_time": "2023-03-13T09:11:03.239Z"
   },
   {
    "duration": 5,
    "start_time": "2023-03-13T09:11:04.035Z"
   },
   {
    "duration": 5,
    "start_time": "2023-03-13T09:15:08.676Z"
   },
   {
    "duration": 9,
    "start_time": "2023-03-13T09:19:02.915Z"
   },
   {
    "duration": 9,
    "start_time": "2023-03-13T09:21:33.077Z"
   },
   {
    "duration": 8,
    "start_time": "2023-03-13T09:21:35.857Z"
   },
   {
    "duration": 6,
    "start_time": "2023-03-13T09:29:19.214Z"
   },
   {
    "duration": 10,
    "start_time": "2023-03-13T09:34:45.976Z"
   },
   {
    "duration": 5,
    "start_time": "2023-03-13T09:34:48.308Z"
   },
   {
    "duration": 9,
    "start_time": "2023-03-13T09:35:38.017Z"
   },
   {
    "duration": 8,
    "start_time": "2023-03-13T09:35:44.160Z"
   },
   {
    "duration": 197,
    "start_time": "2023-03-13T09:35:47.097Z"
   },
   {
    "duration": 6,
    "start_time": "2023-03-13T09:35:51.006Z"
   },
   {
    "duration": 7,
    "start_time": "2023-03-13T09:35:52.694Z"
   },
   {
    "duration": 929,
    "start_time": "2023-03-13T11:40:31.901Z"
   },
   {
    "duration": 267,
    "start_time": "2023-03-13T11:40:32.832Z"
   },
   {
    "duration": 3,
    "start_time": "2023-03-13T11:40:33.101Z"
   },
   {
    "duration": 17,
    "start_time": "2023-03-13T11:40:33.106Z"
   },
   {
    "duration": 94,
    "start_time": "2023-03-13T11:40:33.126Z"
   },
   {
    "duration": 29,
    "start_time": "2023-03-13T11:40:33.221Z"
   },
   {
    "duration": 50,
    "start_time": "2023-03-13T11:40:33.252Z"
   },
   {
    "duration": 2098,
    "start_time": "2023-03-13T11:40:33.305Z"
   },
   {
    "duration": 11,
    "start_time": "2023-03-13T11:40:35.405Z"
   },
   {
    "duration": 14,
    "start_time": "2023-03-13T11:40:35.418Z"
   },
   {
    "duration": 11,
    "start_time": "2023-03-13T11:40:35.433Z"
   },
   {
    "duration": 13,
    "start_time": "2023-03-13T11:40:35.446Z"
   },
   {
    "duration": 16,
    "start_time": "2023-03-13T11:40:35.461Z"
   },
   {
    "duration": 9,
    "start_time": "2023-03-13T11:40:35.484Z"
   },
   {
    "duration": 13,
    "start_time": "2023-03-13T11:40:35.496Z"
   },
   {
    "duration": 4,
    "start_time": "2023-03-13T11:40:35.510Z"
   },
   {
    "duration": 3,
    "start_time": "2023-03-13T11:40:35.516Z"
   },
   {
    "duration": 12,
    "start_time": "2023-03-13T11:40:35.520Z"
   },
   {
    "duration": 357,
    "start_time": "2023-03-13T11:40:35.534Z"
   },
   {
    "duration": 9,
    "start_time": "2023-03-13T11:40:35.893Z"
   },
   {
    "duration": 10,
    "start_time": "2023-03-13T11:40:35.905Z"
   },
   {
    "duration": 6,
    "start_time": "2023-03-13T11:40:35.917Z"
   },
   {
    "duration": 13,
    "start_time": "2023-03-13T11:40:35.925Z"
   },
   {
    "duration": 7,
    "start_time": "2023-03-13T11:40:35.940Z"
   },
   {
    "duration": 33,
    "start_time": "2023-03-13T11:40:35.949Z"
   },
   {
    "duration": 7,
    "start_time": "2023-03-13T11:40:35.985Z"
   },
   {
    "duration": 9,
    "start_time": "2023-03-13T11:40:35.993Z"
   },
   {
    "duration": 4,
    "start_time": "2023-03-13T11:40:36.008Z"
   },
   {
    "duration": 12,
    "start_time": "2023-03-13T11:40:36.013Z"
   },
   {
    "duration": 19,
    "start_time": "2023-03-13T11:40:36.027Z"
   },
   {
    "duration": 5,
    "start_time": "2023-03-13T11:40:36.047Z"
   },
   {
    "duration": 9,
    "start_time": "2023-03-13T11:40:36.054Z"
   },
   {
    "duration": 12,
    "start_time": "2023-03-13T11:40:36.065Z"
   },
   {
    "duration": 13,
    "start_time": "2023-03-13T11:40:36.078Z"
   },
   {
    "duration": 10,
    "start_time": "2023-03-13T11:40:36.097Z"
   },
   {
    "duration": 33,
    "start_time": "2023-03-13T11:40:36.109Z"
   },
   {
    "duration": 8,
    "start_time": "2023-03-13T11:40:36.144Z"
   },
   {
    "duration": 28,
    "start_time": "2023-03-13T11:40:36.153Z"
   },
   {
    "duration": 14,
    "start_time": "2023-03-13T11:40:36.183Z"
   },
   {
    "duration": 259,
    "start_time": "2023-03-13T11:40:36.198Z"
   },
   {
    "duration": 7,
    "start_time": "2023-03-13T11:40:36.461Z"
   },
   {
    "duration": 12,
    "start_time": "2023-03-13T11:40:36.470Z"
   },
   {
    "duration": 722,
    "start_time": "2023-03-13T11:51:34.907Z"
   },
   {
    "duration": 273,
    "start_time": "2023-03-13T11:51:35.631Z"
   },
   {
    "duration": 3,
    "start_time": "2023-03-13T11:51:35.905Z"
   },
   {
    "duration": 15,
    "start_time": "2023-03-13T11:51:35.910Z"
   },
   {
    "duration": 81,
    "start_time": "2023-03-13T11:51:35.927Z"
   },
   {
    "duration": 26,
    "start_time": "2023-03-13T11:51:36.009Z"
   },
   {
    "duration": 65,
    "start_time": "2023-03-13T11:51:36.037Z"
   },
   {
    "duration": 1850,
    "start_time": "2023-03-13T11:51:36.103Z"
   },
   {
    "duration": 34,
    "start_time": "2023-03-13T11:51:37.955Z"
   },
   {
    "duration": 8,
    "start_time": "2023-03-13T11:51:37.994Z"
   },
   {
    "duration": 10,
    "start_time": "2023-03-13T11:51:38.004Z"
   },
   {
    "duration": 6,
    "start_time": "2023-03-13T11:51:38.015Z"
   },
   {
    "duration": 16,
    "start_time": "2023-03-13T11:51:38.023Z"
   },
   {
    "duration": 37,
    "start_time": "2023-03-13T11:51:38.042Z"
   },
   {
    "duration": 21,
    "start_time": "2023-03-13T11:51:38.080Z"
   },
   {
    "duration": 3,
    "start_time": "2023-03-13T11:51:38.103Z"
   },
   {
    "duration": 3,
    "start_time": "2023-03-13T11:51:38.108Z"
   },
   {
    "duration": 9,
    "start_time": "2023-03-13T11:51:38.112Z"
   },
   {
    "duration": 326,
    "start_time": "2023-03-13T11:51:38.122Z"
   },
   {
    "duration": 22,
    "start_time": "2023-03-13T11:51:38.450Z"
   },
   {
    "duration": 23,
    "start_time": "2023-03-13T11:51:38.473Z"
   },
   {
    "duration": 7,
    "start_time": "2023-03-13T11:51:38.498Z"
   },
   {
    "duration": 4,
    "start_time": "2023-03-13T11:51:38.507Z"
   },
   {
    "duration": 3,
    "start_time": "2023-03-13T11:51:38.513Z"
   },
   {
    "duration": 8,
    "start_time": "2023-03-13T11:51:38.518Z"
   },
   {
    "duration": 4,
    "start_time": "2023-03-13T11:51:38.527Z"
   },
   {
    "duration": 6,
    "start_time": "2023-03-13T11:51:38.533Z"
   },
   {
    "duration": 4,
    "start_time": "2023-03-13T11:51:38.540Z"
   },
   {
    "duration": 38,
    "start_time": "2023-03-13T11:51:38.555Z"
   },
   {
    "duration": 6,
    "start_time": "2023-03-13T11:51:38.595Z"
   },
   {
    "duration": 5,
    "start_time": "2023-03-13T11:51:38.602Z"
   },
   {
    "duration": 14,
    "start_time": "2023-03-13T11:51:38.608Z"
   },
   {
    "duration": 10,
    "start_time": "2023-03-13T11:51:38.623Z"
   },
   {
    "duration": 9,
    "start_time": "2023-03-13T11:51:38.634Z"
   },
   {
    "duration": 5,
    "start_time": "2023-03-13T11:51:38.644Z"
   },
   {
    "duration": 19,
    "start_time": "2023-03-13T11:51:38.661Z"
   },
   {
    "duration": 11,
    "start_time": "2023-03-13T11:51:38.681Z"
   },
   {
    "duration": 11,
    "start_time": "2023-03-13T11:51:38.694Z"
   },
   {
    "duration": 5,
    "start_time": "2023-03-13T11:51:38.707Z"
   },
   {
    "duration": 236,
    "start_time": "2023-03-13T11:51:38.714Z"
   },
   {
    "duration": 13,
    "start_time": "2023-03-13T11:51:38.955Z"
   },
   {
    "duration": 22,
    "start_time": "2023-03-13T11:51:38.976Z"
   },
   {
    "duration": 41,
    "start_time": "2023-03-13T11:56:25.389Z"
   },
   {
    "duration": 9,
    "start_time": "2023-03-13T11:57:32.898Z"
   },
   {
    "duration": 6,
    "start_time": "2023-03-13T11:57:34.714Z"
   },
   {
    "duration": 5,
    "start_time": "2023-03-13T11:57:39.092Z"
   },
   {
    "duration": 92,
    "start_time": "2023-03-13T11:57:45.693Z"
   },
   {
    "duration": 37,
    "start_time": "2023-03-13T11:58:16.604Z"
   },
   {
    "duration": 18,
    "start_time": "2023-03-13T11:59:33.994Z"
   },
   {
    "duration": 94,
    "start_time": "2023-03-13T11:59:44.105Z"
   },
   {
    "duration": 644,
    "start_time": "2023-03-13T12:00:12.696Z"
   },
   {
    "duration": 294,
    "start_time": "2023-03-13T12:00:13.341Z"
   },
   {
    "duration": 3,
    "start_time": "2023-03-13T12:00:13.637Z"
   },
   {
    "duration": 55,
    "start_time": "2023-03-13T12:00:13.641Z"
   },
   {
    "duration": 89,
    "start_time": "2023-03-13T12:00:13.703Z"
   },
   {
    "duration": 31,
    "start_time": "2023-03-13T12:00:13.793Z"
   },
   {
    "duration": 28,
    "start_time": "2023-03-13T12:00:13.825Z"
   },
   {
    "duration": 1874,
    "start_time": "2023-03-13T12:00:13.855Z"
   },
   {
    "duration": 10,
    "start_time": "2023-03-13T12:00:15.731Z"
   },
   {
    "duration": 7,
    "start_time": "2023-03-13T12:00:15.744Z"
   },
   {
    "duration": 24,
    "start_time": "2023-03-13T12:00:15.752Z"
   },
   {
    "duration": 16,
    "start_time": "2023-03-13T12:00:15.778Z"
   },
   {
    "duration": 7,
    "start_time": "2023-03-13T12:00:15.795Z"
   },
   {
    "duration": 3,
    "start_time": "2023-03-13T12:00:15.807Z"
   },
   {
    "duration": 8,
    "start_time": "2023-03-13T12:00:15.812Z"
   },
   {
    "duration": 4,
    "start_time": "2023-03-13T12:00:15.821Z"
   },
   {
    "duration": 3,
    "start_time": "2023-03-13T12:00:15.826Z"
   },
   {
    "duration": 10,
    "start_time": "2023-03-13T12:00:15.831Z"
   },
   {
    "duration": 311,
    "start_time": "2023-03-13T12:00:15.842Z"
   },
   {
    "duration": 22,
    "start_time": "2023-03-13T12:00:16.154Z"
   },
   {
    "duration": 10,
    "start_time": "2023-03-13T12:00:16.188Z"
   },
   {
    "duration": 4,
    "start_time": "2023-03-13T12:00:16.200Z"
   },
   {
    "duration": 6,
    "start_time": "2023-03-13T12:00:16.205Z"
   },
   {
    "duration": 10,
    "start_time": "2023-03-13T12:00:16.213Z"
   },
   {
    "duration": 6,
    "start_time": "2023-03-13T12:00:16.225Z"
   },
   {
    "duration": 4,
    "start_time": "2023-03-13T12:00:16.233Z"
   },
   {
    "duration": 4,
    "start_time": "2023-03-13T12:00:16.238Z"
   },
   {
    "duration": 10,
    "start_time": "2023-03-13T12:00:16.243Z"
   },
   {
    "duration": 30,
    "start_time": "2023-03-13T12:00:16.254Z"
   },
   {
    "duration": 8,
    "start_time": "2023-03-13T12:00:16.285Z"
   },
   {
    "duration": 4,
    "start_time": "2023-03-13T12:00:16.294Z"
   },
   {
    "duration": 4,
    "start_time": "2023-03-13T12:00:16.299Z"
   },
   {
    "duration": 9,
    "start_time": "2023-03-13T12:00:16.305Z"
   },
   {
    "duration": 7,
    "start_time": "2023-03-13T12:00:16.315Z"
   },
   {
    "duration": 5,
    "start_time": "2023-03-13T12:00:16.324Z"
   },
   {
    "duration": 9,
    "start_time": "2023-03-13T12:00:16.330Z"
   },
   {
    "duration": 36,
    "start_time": "2023-03-13T12:00:16.340Z"
   },
   {
    "duration": 12,
    "start_time": "2023-03-13T12:00:16.379Z"
   },
   {
    "duration": 10,
    "start_time": "2023-03-13T12:00:16.392Z"
   },
   {
    "duration": 227,
    "start_time": "2023-03-13T12:00:16.404Z"
   },
   {
    "duration": 5,
    "start_time": "2023-03-13T12:00:16.634Z"
   },
   {
    "duration": 47,
    "start_time": "2023-03-13T12:00:16.641Z"
   },
   {
    "duration": 33,
    "start_time": "2023-03-13T12:00:16.689Z"
   },
   {
    "duration": 10,
    "start_time": "2023-03-13T12:00:16.723Z"
   },
   {
    "duration": 4,
    "start_time": "2023-03-13T12:00:16.734Z"
   },
   {
    "duration": 3,
    "start_time": "2023-03-13T12:00:16.740Z"
   },
   {
    "duration": 42,
    "start_time": "2023-03-13T12:00:50.990Z"
   },
   {
    "duration": 54,
    "start_time": "2023-03-13T12:01:35.352Z"
   },
   {
    "duration": 19,
    "start_time": "2023-03-13T12:02:09.002Z"
   },
   {
    "duration": 35,
    "start_time": "2023-03-13T12:02:18.402Z"
   },
   {
    "duration": 25,
    "start_time": "2023-03-13T12:02:39.642Z"
   },
   {
    "duration": 19,
    "start_time": "2023-03-13T12:03:25.312Z"
   },
   {
    "duration": 455,
    "start_time": "2023-03-13T12:06:24.422Z"
   },
   {
    "duration": 5,
    "start_time": "2023-03-13T12:07:09.612Z"
   },
   {
    "duration": 8,
    "start_time": "2023-03-13T12:07:14.506Z"
   },
   {
    "duration": 11,
    "start_time": "2023-03-13T12:08:39.189Z"
   },
   {
    "duration": 35,
    "start_time": "2023-03-13T12:10:10.455Z"
   },
   {
    "duration": 103,
    "start_time": "2023-03-13T12:11:17.082Z"
   },
   {
    "duration": 665,
    "start_time": "2023-03-13T12:11:34.542Z"
   },
   {
    "duration": 275,
    "start_time": "2023-03-13T12:11:35.209Z"
   },
   {
    "duration": 5,
    "start_time": "2023-03-13T12:11:35.486Z"
   },
   {
    "duration": 33,
    "start_time": "2023-03-13T12:11:35.493Z"
   },
   {
    "duration": 92,
    "start_time": "2023-03-13T12:11:35.527Z"
   },
   {
    "duration": 31,
    "start_time": "2023-03-13T12:11:35.621Z"
   },
   {
    "duration": 39,
    "start_time": "2023-03-13T12:11:35.668Z"
   },
   {
    "duration": 1868,
    "start_time": "2023-03-13T12:11:35.708Z"
   },
   {
    "duration": 8,
    "start_time": "2023-03-13T12:11:37.591Z"
   },
   {
    "duration": 7,
    "start_time": "2023-03-13T12:11:37.602Z"
   },
   {
    "duration": 8,
    "start_time": "2023-03-13T12:11:37.610Z"
   },
   {
    "duration": 6,
    "start_time": "2023-03-13T12:11:37.619Z"
   },
   {
    "duration": 10,
    "start_time": "2023-03-13T12:11:37.627Z"
   },
   {
    "duration": 4,
    "start_time": "2023-03-13T12:11:37.639Z"
   },
   {
    "duration": 31,
    "start_time": "2023-03-13T12:11:37.645Z"
   },
   {
    "duration": 8,
    "start_time": "2023-03-13T12:11:37.685Z"
   },
   {
    "duration": 8,
    "start_time": "2023-03-13T12:11:37.697Z"
   },
   {
    "duration": 10,
    "start_time": "2023-03-13T12:11:37.706Z"
   },
   {
    "duration": 310,
    "start_time": "2023-03-13T12:11:37.717Z"
   },
   {
    "duration": 4,
    "start_time": "2023-03-13T12:11:38.029Z"
   },
   {
    "duration": 9,
    "start_time": "2023-03-13T12:11:38.034Z"
   },
   {
    "duration": 29,
    "start_time": "2023-03-13T12:11:38.054Z"
   },
   {
    "duration": 5,
    "start_time": "2023-03-13T12:11:38.091Z"
   },
   {
    "duration": 6,
    "start_time": "2023-03-13T12:11:38.097Z"
   },
   {
    "duration": 8,
    "start_time": "2023-03-13T12:11:38.105Z"
   },
   {
    "duration": 8,
    "start_time": "2023-03-13T12:11:38.115Z"
   },
   {
    "duration": 4,
    "start_time": "2023-03-13T12:11:38.124Z"
   },
   {
    "duration": 4,
    "start_time": "2023-03-13T12:11:38.132Z"
   },
   {
    "duration": 8,
    "start_time": "2023-03-13T12:11:38.137Z"
   },
   {
    "duration": 36,
    "start_time": "2023-03-13T12:11:38.147Z"
   },
   {
    "duration": 5,
    "start_time": "2023-03-13T12:11:38.193Z"
   },
   {
    "duration": 6,
    "start_time": "2023-03-13T12:11:38.199Z"
   },
   {
    "duration": 10,
    "start_time": "2023-03-13T12:11:38.207Z"
   },
   {
    "duration": 7,
    "start_time": "2023-03-13T12:11:38.219Z"
   },
   {
    "duration": 5,
    "start_time": "2023-03-13T12:11:38.227Z"
   },
   {
    "duration": 8,
    "start_time": "2023-03-13T12:11:38.233Z"
   },
   {
    "duration": 5,
    "start_time": "2023-03-13T12:11:38.242Z"
   },
   {
    "duration": 46,
    "start_time": "2023-03-13T12:11:38.249Z"
   },
   {
    "duration": 6,
    "start_time": "2023-03-13T12:11:38.296Z"
   },
   {
    "duration": 224,
    "start_time": "2023-03-13T12:11:38.304Z"
   },
   {
    "duration": 5,
    "start_time": "2023-03-13T12:11:38.529Z"
   },
   {
    "duration": 8,
    "start_time": "2023-03-13T12:11:38.536Z"
   },
   {
    "duration": 53,
    "start_time": "2023-03-13T12:11:38.545Z"
   },
   {
    "duration": 9,
    "start_time": "2023-03-13T12:11:38.600Z"
   },
   {
    "duration": 5,
    "start_time": "2023-03-13T12:11:38.610Z"
   },
   {
    "duration": 3,
    "start_time": "2023-03-13T12:11:38.616Z"
   },
   {
    "duration": 51,
    "start_time": "2023-03-13T12:11:38.621Z"
   },
   {
    "duration": 424,
    "start_time": "2023-03-13T12:11:38.673Z"
   },
   {
    "duration": 4,
    "start_time": "2023-03-13T12:11:39.099Z"
   },
   {
    "duration": 8,
    "start_time": "2023-03-13T12:11:39.105Z"
   },
   {
    "duration": 7,
    "start_time": "2023-03-13T12:11:47.715Z"
   },
   {
    "duration": 7,
    "start_time": "2023-03-13T12:11:49.914Z"
   },
   {
    "duration": 95,
    "start_time": "2023-03-13T12:14:05.830Z"
   },
   {
    "duration": 8,
    "start_time": "2023-03-13T12:14:27.001Z"
   },
   {
    "duration": 698,
    "start_time": "2023-03-13T12:14:37.775Z"
   },
   {
    "duration": 342,
    "start_time": "2023-03-13T12:14:38.479Z"
   },
   {
    "duration": 3,
    "start_time": "2023-03-13T12:14:38.823Z"
   },
   {
    "duration": 16,
    "start_time": "2023-03-13T12:14:38.827Z"
   },
   {
    "duration": 87,
    "start_time": "2023-03-13T12:14:38.844Z"
   },
   {
    "duration": 56,
    "start_time": "2023-03-13T12:14:38.933Z"
   },
   {
    "duration": 29,
    "start_time": "2023-03-13T12:14:38.993Z"
   },
   {
    "duration": 1910,
    "start_time": "2023-03-13T12:14:39.024Z"
   },
   {
    "duration": 12,
    "start_time": "2023-03-13T12:14:40.935Z"
   },
   {
    "duration": 10,
    "start_time": "2023-03-13T12:14:40.949Z"
   },
   {
    "duration": 23,
    "start_time": "2023-03-13T12:14:40.961Z"
   },
   {
    "duration": 11,
    "start_time": "2023-03-13T12:14:40.989Z"
   },
   {
    "duration": 10,
    "start_time": "2023-03-13T12:14:41.002Z"
   },
   {
    "duration": 9,
    "start_time": "2023-03-13T12:14:41.014Z"
   },
   {
    "duration": 10,
    "start_time": "2023-03-13T12:14:41.024Z"
   },
   {
    "duration": 3,
    "start_time": "2023-03-13T12:14:41.036Z"
   },
   {
    "duration": 7,
    "start_time": "2023-03-13T12:14:41.061Z"
   },
   {
    "duration": 30,
    "start_time": "2023-03-13T12:14:41.073Z"
   },
   {
    "duration": 326,
    "start_time": "2023-03-13T12:14:41.106Z"
   },
   {
    "duration": 4,
    "start_time": "2023-03-13T12:14:41.434Z"
   },
   {
    "duration": 22,
    "start_time": "2023-03-13T12:14:41.439Z"
   },
   {
    "duration": 14,
    "start_time": "2023-03-13T12:14:41.473Z"
   },
   {
    "duration": 4,
    "start_time": "2023-03-13T12:14:41.501Z"
   },
   {
    "duration": 6,
    "start_time": "2023-03-13T12:14:41.507Z"
   },
   {
    "duration": 10,
    "start_time": "2023-03-13T12:14:41.514Z"
   },
   {
    "duration": 5,
    "start_time": "2023-03-13T12:14:41.526Z"
   },
   {
    "duration": 6,
    "start_time": "2023-03-13T12:14:41.532Z"
   },
   {
    "duration": 3,
    "start_time": "2023-03-13T12:14:41.542Z"
   },
   {
    "duration": 28,
    "start_time": "2023-03-13T12:14:41.547Z"
   },
   {
    "duration": 5,
    "start_time": "2023-03-13T12:14:41.590Z"
   },
   {
    "duration": 15,
    "start_time": "2023-03-13T12:14:41.596Z"
   },
   {
    "duration": 6,
    "start_time": "2023-03-13T12:14:41.613Z"
   },
   {
    "duration": 10,
    "start_time": "2023-03-13T12:14:41.620Z"
   },
   {
    "duration": 7,
    "start_time": "2023-03-13T12:14:41.631Z"
   },
   {
    "duration": 5,
    "start_time": "2023-03-13T12:14:41.640Z"
   },
   {
    "duration": 40,
    "start_time": "2023-03-13T12:14:41.646Z"
   },
   {
    "duration": 6,
    "start_time": "2023-03-13T12:14:41.693Z"
   },
   {
    "duration": 10,
    "start_time": "2023-03-13T12:14:41.701Z"
   },
   {
    "duration": 4,
    "start_time": "2023-03-13T12:14:41.712Z"
   },
   {
    "duration": 219,
    "start_time": "2023-03-13T12:14:41.717Z"
   },
   {
    "duration": 5,
    "start_time": "2023-03-13T12:14:41.938Z"
   },
   {
    "duration": 20,
    "start_time": "2023-03-13T12:14:41.945Z"
   },
   {
    "duration": 47,
    "start_time": "2023-03-13T12:14:41.966Z"
   },
   {
    "duration": 9,
    "start_time": "2023-03-13T12:14:42.015Z"
   },
   {
    "duration": 15,
    "start_time": "2023-03-13T12:14:42.026Z"
   },
   {
    "duration": 23,
    "start_time": "2023-03-13T12:14:42.042Z"
   },
   {
    "duration": 30,
    "start_time": "2023-03-13T12:14:42.066Z"
   },
   {
    "duration": 482,
    "start_time": "2023-03-13T12:14:42.098Z"
   },
   {
    "duration": 7,
    "start_time": "2023-03-13T12:14:42.581Z"
   },
   {
    "duration": 11,
    "start_time": "2023-03-13T12:14:42.589Z"
   },
   {
    "duration": 7,
    "start_time": "2023-03-13T12:14:44.614Z"
   },
   {
    "duration": 8,
    "start_time": "2023-03-13T12:14:47.419Z"
   },
   {
    "duration": 3,
    "start_time": "2023-03-13T12:14:56.197Z"
   },
   {
    "duration": 16,
    "start_time": "2023-03-13T12:14:59.195Z"
   },
   {
    "duration": 17,
    "start_time": "2023-03-13T12:15:52.084Z"
   },
   {
    "duration": 38,
    "start_time": "2023-03-13T12:16:52.615Z"
   },
   {
    "duration": 11,
    "start_time": "2023-03-13T12:18:06.184Z"
   },
   {
    "duration": 54,
    "start_time": "2023-03-13T12:18:34.877Z"
   },
   {
    "duration": 51,
    "start_time": "2023-03-13T12:21:19.117Z"
   },
   {
    "duration": 25,
    "start_time": "2023-03-13T12:24:18.605Z"
   },
   {
    "duration": 7,
    "start_time": "2023-03-13T12:25:50.015Z"
   },
   {
    "duration": 10,
    "start_time": "2023-03-13T12:25:52.624Z"
   },
   {
    "duration": 33,
    "start_time": "2023-03-13T12:26:28.883Z"
   },
   {
    "duration": 26,
    "start_time": "2023-03-13T12:26:47.894Z"
   },
   {
    "duration": 6,
    "start_time": "2023-03-13T12:27:28.900Z"
   },
   {
    "duration": 37,
    "start_time": "2023-03-13T12:32:39.403Z"
   },
   {
    "duration": 80,
    "start_time": "2023-03-13T12:33:01.339Z"
   },
   {
    "duration": 8,
    "start_time": "2023-03-13T12:33:51.635Z"
   },
   {
    "duration": 712,
    "start_time": "2023-03-13T12:34:07.615Z"
   },
   {
    "duration": 306,
    "start_time": "2023-03-13T12:34:08.329Z"
   },
   {
    "duration": 3,
    "start_time": "2023-03-13T12:34:08.636Z"
   },
   {
    "duration": 44,
    "start_time": "2023-03-13T12:34:08.640Z"
   },
   {
    "duration": 88,
    "start_time": "2023-03-13T12:34:08.690Z"
   },
   {
    "duration": 32,
    "start_time": "2023-03-13T12:34:08.779Z"
   },
   {
    "duration": 23,
    "start_time": "2023-03-13T12:34:08.813Z"
   },
   {
    "duration": 1788,
    "start_time": "2023-03-13T12:34:08.837Z"
   },
   {
    "duration": 8,
    "start_time": "2023-03-13T12:34:10.627Z"
   },
   {
    "duration": 10,
    "start_time": "2023-03-13T12:34:10.637Z"
   },
   {
    "duration": 5,
    "start_time": "2023-03-13T12:34:10.648Z"
   },
   {
    "duration": 33,
    "start_time": "2023-03-13T12:34:10.654Z"
   },
   {
    "duration": 8,
    "start_time": "2023-03-13T12:34:10.694Z"
   },
   {
    "duration": 4,
    "start_time": "2023-03-13T12:34:10.705Z"
   },
   {
    "duration": 8,
    "start_time": "2023-03-13T12:34:10.710Z"
   },
   {
    "duration": 4,
    "start_time": "2023-03-13T12:34:10.719Z"
   },
   {
    "duration": 3,
    "start_time": "2023-03-13T12:34:10.725Z"
   },
   {
    "duration": 8,
    "start_time": "2023-03-13T12:34:10.729Z"
   },
   {
    "duration": 312,
    "start_time": "2023-03-13T12:34:10.738Z"
   },
   {
    "duration": 27,
    "start_time": "2023-03-13T12:34:11.051Z"
   },
   {
    "duration": 10,
    "start_time": "2023-03-13T12:34:11.087Z"
   },
   {
    "duration": 6,
    "start_time": "2023-03-13T12:34:11.098Z"
   },
   {
    "duration": 8,
    "start_time": "2023-03-13T12:34:11.106Z"
   },
   {
    "duration": 24,
    "start_time": "2023-03-13T12:34:11.115Z"
   },
   {
    "duration": 9,
    "start_time": "2023-03-13T12:34:11.141Z"
   },
   {
    "duration": 17,
    "start_time": "2023-03-13T12:34:11.151Z"
   },
   {
    "duration": 29,
    "start_time": "2023-03-13T12:34:11.169Z"
   },
   {
    "duration": 4,
    "start_time": "2023-03-13T12:34:11.200Z"
   },
   {
    "duration": 11,
    "start_time": "2023-03-13T12:34:11.205Z"
   },
   {
    "duration": 4,
    "start_time": "2023-03-13T12:34:11.217Z"
   },
   {
    "duration": 4,
    "start_time": "2023-03-13T12:34:11.222Z"
   },
   {
    "duration": 4,
    "start_time": "2023-03-13T12:34:11.227Z"
   },
   {
    "duration": 8,
    "start_time": "2023-03-13T12:34:11.232Z"
   },
   {
    "duration": 7,
    "start_time": "2023-03-13T12:34:11.241Z"
   },
   {
    "duration": 4,
    "start_time": "2023-03-13T12:34:11.250Z"
   },
   {
    "duration": 13,
    "start_time": "2023-03-13T12:34:11.276Z"
   },
   {
    "duration": 6,
    "start_time": "2023-03-13T12:34:11.290Z"
   },
   {
    "duration": 11,
    "start_time": "2023-03-13T12:34:11.297Z"
   },
   {
    "duration": 5,
    "start_time": "2023-03-13T12:34:11.310Z"
   },
   {
    "duration": 220,
    "start_time": "2023-03-13T12:34:11.317Z"
   },
   {
    "duration": 6,
    "start_time": "2023-03-13T12:34:11.540Z"
   },
   {
    "duration": 26,
    "start_time": "2023-03-13T12:34:11.547Z"
   },
   {
    "duration": 39,
    "start_time": "2023-03-13T12:34:11.575Z"
   },
   {
    "duration": 9,
    "start_time": "2023-03-13T12:34:11.615Z"
   },
   {
    "duration": 6,
    "start_time": "2023-03-13T12:34:11.626Z"
   },
   {
    "duration": 8,
    "start_time": "2023-03-13T12:34:11.633Z"
   },
   {
    "duration": 55,
    "start_time": "2023-03-13T12:34:11.643Z"
   },
   {
    "duration": 394,
    "start_time": "2023-03-13T12:34:11.700Z"
   },
   {
    "duration": 6,
    "start_time": "2023-03-13T12:34:12.095Z"
   },
   {
    "duration": 20,
    "start_time": "2023-03-13T12:34:12.103Z"
   },
   {
    "duration": 8,
    "start_time": "2023-03-13T12:34:21.847Z"
   },
   {
    "duration": 8,
    "start_time": "2023-03-13T12:34:23.896Z"
   },
   {
    "duration": 3,
    "start_time": "2023-03-13T12:34:24.732Z"
   },
   {
    "duration": 16,
    "start_time": "2023-03-13T12:34:27.537Z"
   },
   {
    "duration": 37,
    "start_time": "2023-03-13T12:34:33.194Z"
   },
   {
    "duration": 54,
    "start_time": "2023-03-13T12:34:40.043Z"
   },
   {
    "duration": 7,
    "start_time": "2023-03-13T12:34:45.795Z"
   },
   {
    "duration": 10,
    "start_time": "2023-03-13T12:34:49.200Z"
   },
   {
    "duration": 30,
    "start_time": "2023-03-13T12:34:56.414Z"
   },
   {
    "duration": 67,
    "start_time": "2023-03-13T12:35:04.225Z"
   },
   {
    "duration": 5,
    "start_time": "2023-03-13T12:35:12.916Z"
   },
   {
    "duration": 94,
    "start_time": "2023-03-13T12:39:01.054Z"
   },
   {
    "duration": 10,
    "start_time": "2023-03-13T12:41:20.297Z"
   },
   {
    "duration": 8,
    "start_time": "2023-03-13T12:42:00.633Z"
   },
   {
    "duration": 757,
    "start_time": "2023-03-13T12:42:11.443Z"
   },
   {
    "duration": 204,
    "start_time": "2023-03-13T12:42:12.202Z"
   },
   {
    "duration": 3,
    "start_time": "2023-03-13T12:42:12.408Z"
   },
   {
    "duration": 16,
    "start_time": "2023-03-13T12:42:12.413Z"
   },
   {
    "duration": 82,
    "start_time": "2023-03-13T12:42:12.430Z"
   },
   {
    "duration": 31,
    "start_time": "2023-03-13T12:42:12.514Z"
   },
   {
    "duration": 59,
    "start_time": "2023-03-13T12:42:12.546Z"
   },
   {
    "duration": 1886,
    "start_time": "2023-03-13T12:42:12.606Z"
   },
   {
    "duration": 13,
    "start_time": "2023-03-13T12:42:14.493Z"
   },
   {
    "duration": 7,
    "start_time": "2023-03-13T12:42:14.508Z"
   },
   {
    "duration": 6,
    "start_time": "2023-03-13T12:42:14.517Z"
   },
   {
    "duration": 9,
    "start_time": "2023-03-13T12:42:14.525Z"
   },
   {
    "duration": 17,
    "start_time": "2023-03-13T12:42:14.535Z"
   },
   {
    "duration": 34,
    "start_time": "2023-03-13T12:42:14.553Z"
   },
   {
    "duration": 9,
    "start_time": "2023-03-13T12:42:14.597Z"
   },
   {
    "duration": 4,
    "start_time": "2023-03-13T12:42:14.608Z"
   },
   {
    "duration": 4,
    "start_time": "2023-03-13T12:42:14.613Z"
   },
   {
    "duration": 7,
    "start_time": "2023-03-13T12:42:14.619Z"
   },
   {
    "duration": 312,
    "start_time": "2023-03-13T12:42:14.628Z"
   },
   {
    "duration": 4,
    "start_time": "2023-03-13T12:42:14.942Z"
   },
   {
    "duration": 34,
    "start_time": "2023-03-13T12:42:14.948Z"
   },
   {
    "duration": 6,
    "start_time": "2023-03-13T12:42:14.999Z"
   },
   {
    "duration": 18,
    "start_time": "2023-03-13T12:42:15.006Z"
   },
   {
    "duration": 20,
    "start_time": "2023-03-13T12:42:15.025Z"
   },
   {
    "duration": 17,
    "start_time": "2023-03-13T12:42:15.047Z"
   },
   {
    "duration": 19,
    "start_time": "2023-03-13T12:42:15.065Z"
   },
   {
    "duration": 18,
    "start_time": "2023-03-13T12:42:15.085Z"
   },
   {
    "duration": 4,
    "start_time": "2023-03-13T12:42:15.107Z"
   },
   {
    "duration": 9,
    "start_time": "2023-03-13T12:42:15.113Z"
   },
   {
    "duration": 5,
    "start_time": "2023-03-13T12:42:15.124Z"
   },
   {
    "duration": 4,
    "start_time": "2023-03-13T12:42:15.131Z"
   },
   {
    "duration": 4,
    "start_time": "2023-03-13T12:42:15.137Z"
   },
   {
    "duration": 8,
    "start_time": "2023-03-13T12:42:15.142Z"
   },
   {
    "duration": 23,
    "start_time": "2023-03-13T12:42:15.155Z"
   },
   {
    "duration": 26,
    "start_time": "2023-03-13T12:42:15.180Z"
   },
   {
    "duration": 9,
    "start_time": "2023-03-13T12:42:15.208Z"
   },
   {
    "duration": 5,
    "start_time": "2023-03-13T12:42:15.219Z"
   },
   {
    "duration": 12,
    "start_time": "2023-03-13T12:42:15.226Z"
   },
   {
    "duration": 6,
    "start_time": "2023-03-13T12:42:15.239Z"
   },
   {
    "duration": 268,
    "start_time": "2023-03-13T12:42:15.247Z"
   },
   {
    "duration": 8,
    "start_time": "2023-03-13T12:42:15.517Z"
   },
   {
    "duration": 33,
    "start_time": "2023-03-13T12:42:15.529Z"
   },
   {
    "duration": 53,
    "start_time": "2023-03-13T12:42:15.577Z"
   },
   {
    "duration": 12,
    "start_time": "2023-03-13T12:42:15.632Z"
   },
   {
    "duration": 54,
    "start_time": "2023-03-13T12:42:15.646Z"
   },
   {
    "duration": 4,
    "start_time": "2023-03-13T12:42:15.712Z"
   },
   {
    "duration": 22,
    "start_time": "2023-03-13T12:42:15.718Z"
   },
   {
    "duration": 443,
    "start_time": "2023-03-13T12:42:15.742Z"
   },
   {
    "duration": 5,
    "start_time": "2023-03-13T12:42:16.186Z"
   },
   {
    "duration": 5,
    "start_time": "2023-03-13T12:42:18.316Z"
   },
   {
    "duration": 11,
    "start_time": "2023-03-13T12:42:20.389Z"
   },
   {
    "duration": 14,
    "start_time": "2023-03-13T12:42:31.282Z"
   },
   {
    "duration": 3,
    "start_time": "2023-03-13T12:42:32.717Z"
   },
   {
    "duration": 16,
    "start_time": "2023-03-13T12:42:35.597Z"
   },
   {
    "duration": 41,
    "start_time": "2023-03-13T12:42:39.292Z"
   },
   {
    "duration": 27,
    "start_time": "2023-03-13T12:50:18.632Z"
   },
   {
    "duration": 7,
    "start_time": "2023-03-13T12:50:21.720Z"
   },
   {
    "duration": 11,
    "start_time": "2023-03-13T12:50:23.002Z"
   },
   {
    "duration": 41,
    "start_time": "2023-03-13T12:51:44.177Z"
   },
   {
    "duration": 40,
    "start_time": "2023-03-13T12:51:50.582Z"
   },
   {
    "duration": 6,
    "start_time": "2023-03-13T12:51:56.502Z"
   },
   {
    "duration": 84,
    "start_time": "2023-03-13T12:52:00.004Z"
   },
   {
    "duration": 76,
    "start_time": "2023-03-13T12:52:18.424Z"
   },
   {
    "duration": 79,
    "start_time": "2023-03-13T12:53:26.899Z"
   },
   {
    "duration": 34,
    "start_time": "2023-03-13T12:55:49.881Z"
   },
   {
    "duration": 25,
    "start_time": "2023-03-13T12:56:53.029Z"
   },
   {
    "duration": 36,
    "start_time": "2023-03-13T12:57:39.885Z"
   },
   {
    "duration": 6,
    "start_time": "2023-03-13T13:03:33.808Z"
   },
   {
    "duration": 15,
    "start_time": "2023-03-13T13:03:34.753Z"
   },
   {
    "duration": 28,
    "start_time": "2023-03-13T13:05:26.889Z"
   },
   {
    "duration": 41,
    "start_time": "2023-03-13T13:06:04.343Z"
   },
   {
    "duration": 17,
    "start_time": "2023-03-13T13:06:09.110Z"
   },
   {
    "duration": 779,
    "start_time": "2023-03-13T13:06:53.452Z"
   },
   {
    "duration": 375,
    "start_time": "2023-03-13T13:06:54.233Z"
   },
   {
    "duration": 3,
    "start_time": "2023-03-13T13:06:54.610Z"
   },
   {
    "duration": 27,
    "start_time": "2023-03-13T13:06:54.614Z"
   },
   {
    "duration": 95,
    "start_time": "2023-03-13T13:06:54.643Z"
   },
   {
    "duration": 58,
    "start_time": "2023-03-13T13:06:54.739Z"
   },
   {
    "duration": 33,
    "start_time": "2023-03-13T13:06:54.798Z"
   },
   {
    "duration": 1917,
    "start_time": "2023-03-13T13:06:54.832Z"
   },
   {
    "duration": 31,
    "start_time": "2023-03-13T13:06:56.751Z"
   },
   {
    "duration": 19,
    "start_time": "2023-03-13T13:06:56.783Z"
   },
   {
    "duration": 7,
    "start_time": "2023-03-13T13:06:56.804Z"
   },
   {
    "duration": 12,
    "start_time": "2023-03-13T13:06:56.814Z"
   },
   {
    "duration": 10,
    "start_time": "2023-03-13T13:06:56.828Z"
   },
   {
    "duration": 5,
    "start_time": "2023-03-13T13:06:56.841Z"
   },
   {
    "duration": 28,
    "start_time": "2023-03-13T13:06:56.848Z"
   },
   {
    "duration": 11,
    "start_time": "2023-03-13T13:06:56.877Z"
   },
   {
    "duration": 11,
    "start_time": "2023-03-13T13:06:56.889Z"
   },
   {
    "duration": 18,
    "start_time": "2023-03-13T13:06:56.901Z"
   },
   {
    "duration": 369,
    "start_time": "2023-03-13T13:06:56.922Z"
   },
   {
    "duration": 9,
    "start_time": "2023-03-13T13:06:57.304Z"
   },
   {
    "duration": 9,
    "start_time": "2023-03-13T13:06:57.315Z"
   },
   {
    "duration": 6,
    "start_time": "2023-03-13T13:06:57.326Z"
   },
   {
    "duration": 6,
    "start_time": "2023-03-13T13:06:57.334Z"
   },
   {
    "duration": 4,
    "start_time": "2023-03-13T13:06:57.342Z"
   },
   {
    "duration": 22,
    "start_time": "2023-03-13T13:06:57.364Z"
   },
   {
    "duration": 5,
    "start_time": "2023-03-13T13:06:57.388Z"
   },
   {
    "duration": 5,
    "start_time": "2023-03-13T13:06:57.394Z"
   },
   {
    "duration": 19,
    "start_time": "2023-03-13T13:06:57.401Z"
   },
   {
    "duration": 11,
    "start_time": "2023-03-13T13:06:57.422Z"
   },
   {
    "duration": 14,
    "start_time": "2023-03-13T13:06:57.435Z"
   },
   {
    "duration": 22,
    "start_time": "2023-03-13T13:06:57.450Z"
   },
   {
    "duration": 7,
    "start_time": "2023-03-13T13:06:57.485Z"
   },
   {
    "duration": 17,
    "start_time": "2023-03-13T13:06:57.493Z"
   },
   {
    "duration": 7,
    "start_time": "2023-03-13T13:06:57.514Z"
   },
   {
    "duration": 5,
    "start_time": "2023-03-13T13:06:57.522Z"
   },
   {
    "duration": 8,
    "start_time": "2023-03-13T13:06:57.529Z"
   },
   {
    "duration": 4,
    "start_time": "2023-03-13T13:06:57.539Z"
   },
   {
    "duration": 33,
    "start_time": "2023-03-13T13:06:57.545Z"
   },
   {
    "duration": 11,
    "start_time": "2023-03-13T13:06:57.585Z"
   },
   {
    "duration": 275,
    "start_time": "2023-03-13T13:06:57.597Z"
   },
   {
    "duration": 26,
    "start_time": "2023-03-13T13:06:57.876Z"
   },
   {
    "duration": 9,
    "start_time": "2023-03-13T13:06:57.913Z"
   },
   {
    "duration": 77,
    "start_time": "2023-03-13T13:06:57.924Z"
   },
   {
    "duration": 11,
    "start_time": "2023-03-13T13:06:58.002Z"
   },
   {
    "duration": 18,
    "start_time": "2023-03-13T13:06:58.014Z"
   },
   {
    "duration": 4,
    "start_time": "2023-03-13T13:06:58.033Z"
   },
   {
    "duration": 46,
    "start_time": "2023-03-13T13:06:58.039Z"
   },
   {
    "duration": 421,
    "start_time": "2023-03-13T13:06:58.086Z"
   },
   {
    "duration": 6,
    "start_time": "2023-03-13T13:06:58.510Z"
   },
   {
    "duration": 12,
    "start_time": "2023-03-13T13:06:58.517Z"
   },
   {
    "duration": 9,
    "start_time": "2023-03-13T13:06:58.530Z"
   },
   {
    "duration": 6,
    "start_time": "2023-03-13T13:06:58.540Z"
   },
   {
    "duration": 49,
    "start_time": "2023-03-13T13:06:58.547Z"
   },
   {
    "duration": 38,
    "start_time": "2023-03-13T13:06:58.605Z"
   },
   {
    "duration": 66,
    "start_time": "2023-03-13T13:06:58.645Z"
   },
   {
    "duration": 7,
    "start_time": "2023-03-13T13:06:58.713Z"
   },
   {
    "duration": 10,
    "start_time": "2023-03-13T13:06:58.722Z"
   },
   {
    "duration": 46,
    "start_time": "2023-03-13T13:06:58.735Z"
   },
   {
    "duration": 39,
    "start_time": "2023-03-13T13:06:58.782Z"
   },
   {
    "duration": 5,
    "start_time": "2023-03-13T13:06:58.822Z"
   },
   {
    "duration": 5,
    "start_time": "2023-03-13T13:07:02.489Z"
   },
   {
    "duration": 91,
    "start_time": "2023-03-13T13:07:04.231Z"
   },
   {
    "duration": 46,
    "start_time": "2023-03-13T13:07:18.678Z"
   },
   {
    "duration": 7,
    "start_time": "2023-03-13T13:07:28.202Z"
   },
   {
    "duration": 3,
    "start_time": "2023-03-13T13:07:29.437Z"
   },
   {
    "duration": 62,
    "start_time": "2023-03-13T13:07:30.228Z"
   },
   {
    "duration": 61,
    "start_time": "2023-03-13T13:08:22.043Z"
   },
   {
    "duration": 18,
    "start_time": "2023-03-13T13:08:57.489Z"
   },
   {
    "duration": 8,
    "start_time": "2023-03-13T13:08:59.052Z"
   },
   {
    "duration": 36,
    "start_time": "2023-03-13T13:09:00.511Z"
   },
   {
    "duration": 710,
    "start_time": "2023-03-13T13:09:31.231Z"
   },
   {
    "duration": 289,
    "start_time": "2023-03-13T13:09:31.943Z"
   },
   {
    "duration": 3,
    "start_time": "2023-03-13T13:09:32.234Z"
   },
   {
    "duration": 41,
    "start_time": "2023-03-13T13:09:32.239Z"
   },
   {
    "duration": 115,
    "start_time": "2023-03-13T13:09:32.289Z"
   },
   {
    "duration": 29,
    "start_time": "2023-03-13T13:09:32.406Z"
   },
   {
    "duration": 51,
    "start_time": "2023-03-13T13:09:32.436Z"
   },
   {
    "duration": 1933,
    "start_time": "2023-03-13T13:09:32.505Z"
   },
   {
    "duration": 10,
    "start_time": "2023-03-13T13:09:34.440Z"
   },
   {
    "duration": 21,
    "start_time": "2023-03-13T13:09:34.452Z"
   },
   {
    "duration": 15,
    "start_time": "2023-03-13T13:09:34.475Z"
   },
   {
    "duration": 28,
    "start_time": "2023-03-13T13:09:34.493Z"
   },
   {
    "duration": 9,
    "start_time": "2023-03-13T13:09:34.523Z"
   },
   {
    "duration": 71,
    "start_time": "2023-03-13T13:09:34.533Z"
   },
   {
    "duration": 9,
    "start_time": "2023-03-13T13:09:34.609Z"
   },
   {
    "duration": 5,
    "start_time": "2023-03-13T13:09:34.620Z"
   },
   {
    "duration": 3,
    "start_time": "2023-03-13T13:09:34.627Z"
   },
   {
    "duration": 17,
    "start_time": "2023-03-13T13:09:34.631Z"
   },
   {
    "duration": 362,
    "start_time": "2023-03-13T13:09:34.650Z"
   },
   {
    "duration": 6,
    "start_time": "2023-03-13T13:09:35.013Z"
   },
   {
    "duration": 8,
    "start_time": "2023-03-13T13:09:35.020Z"
   },
   {
    "duration": 5,
    "start_time": "2023-03-13T13:09:35.029Z"
   },
   {
    "duration": 7,
    "start_time": "2023-03-13T13:09:35.035Z"
   },
   {
    "duration": 19,
    "start_time": "2023-03-13T13:09:35.063Z"
   },
   {
    "duration": 20,
    "start_time": "2023-03-13T13:09:35.089Z"
   },
   {
    "duration": 5,
    "start_time": "2023-03-13T13:09:35.111Z"
   },
   {
    "duration": 4,
    "start_time": "2023-03-13T13:09:35.117Z"
   },
   {
    "duration": 4,
    "start_time": "2023-03-13T13:09:35.124Z"
   },
   {
    "duration": 10,
    "start_time": "2023-03-13T13:09:35.129Z"
   },
   {
    "duration": 6,
    "start_time": "2023-03-13T13:09:35.141Z"
   },
   {
    "duration": 4,
    "start_time": "2023-03-13T13:09:35.148Z"
   },
   {
    "duration": 41,
    "start_time": "2023-03-13T13:09:35.154Z"
   },
   {
    "duration": 22,
    "start_time": "2023-03-13T13:09:35.201Z"
   },
   {
    "duration": 9,
    "start_time": "2023-03-13T13:09:35.224Z"
   },
   {
    "duration": 17,
    "start_time": "2023-03-13T13:09:35.234Z"
   },
   {
    "duration": 24,
    "start_time": "2023-03-13T13:09:35.253Z"
   },
   {
    "duration": 13,
    "start_time": "2023-03-13T13:09:35.283Z"
   },
   {
    "duration": 22,
    "start_time": "2023-03-13T13:09:35.297Z"
   },
   {
    "duration": 6,
    "start_time": "2023-03-13T13:09:35.321Z"
   },
   {
    "duration": 291,
    "start_time": "2023-03-13T13:09:35.329Z"
   },
   {
    "duration": 5,
    "start_time": "2023-03-13T13:09:35.621Z"
   },
   {
    "duration": 12,
    "start_time": "2023-03-13T13:09:35.628Z"
   },
   {
    "duration": 75,
    "start_time": "2023-03-13T13:09:35.641Z"
   },
   {
    "duration": 9,
    "start_time": "2023-03-13T13:09:35.718Z"
   },
   {
    "duration": 12,
    "start_time": "2023-03-13T13:09:35.729Z"
   },
   {
    "duration": 7,
    "start_time": "2023-03-13T13:09:35.743Z"
   },
   {
    "duration": 62,
    "start_time": "2023-03-13T13:09:35.751Z"
   },
   {
    "duration": 480,
    "start_time": "2023-03-13T13:09:35.815Z"
   },
   {
    "duration": 11,
    "start_time": "2023-03-13T13:09:36.297Z"
   },
   {
    "duration": 9,
    "start_time": "2023-03-13T13:09:36.310Z"
   },
   {
    "duration": 7,
    "start_time": "2023-03-13T13:09:36.320Z"
   },
   {
    "duration": 3,
    "start_time": "2023-03-13T13:09:36.328Z"
   },
   {
    "duration": 43,
    "start_time": "2023-03-13T13:09:36.332Z"
   },
   {
    "duration": 50,
    "start_time": "2023-03-13T13:09:36.384Z"
   },
   {
    "duration": 56,
    "start_time": "2023-03-13T13:09:36.435Z"
   },
   {
    "duration": 7,
    "start_time": "2023-03-13T13:09:36.501Z"
   },
   {
    "duration": 12,
    "start_time": "2023-03-13T13:09:36.510Z"
   },
   {
    "duration": 44,
    "start_time": "2023-03-13T13:09:36.524Z"
   },
   {
    "duration": 39,
    "start_time": "2023-03-13T13:09:36.569Z"
   },
   {
    "duration": 5,
    "start_time": "2023-03-13T13:09:36.609Z"
   },
   {
    "duration": 96,
    "start_time": "2023-03-13T13:09:36.616Z"
   },
   {
    "duration": 38,
    "start_time": "2023-03-13T13:09:36.713Z"
   },
   {
    "duration": 9,
    "start_time": "2023-03-13T13:09:44.705Z"
   },
   {
    "duration": 3,
    "start_time": "2023-03-13T13:09:45.526Z"
   },
   {
    "duration": 100,
    "start_time": "2023-03-13T13:09:46.304Z"
   },
   {
    "duration": 69,
    "start_time": "2023-03-13T13:09:58.749Z"
   },
   {
    "duration": 39,
    "start_time": "2023-03-13T13:10:28.813Z"
   },
   {
    "duration": 20,
    "start_time": "2023-03-13T13:14:58.285Z"
   },
   {
    "duration": 34,
    "start_time": "2023-03-13T13:15:09.296Z"
   },
   {
    "duration": 29,
    "start_time": "2023-03-13T13:15:32.608Z"
   },
   {
    "duration": 43,
    "start_time": "2023-03-13T13:15:59.089Z"
   },
   {
    "duration": 15,
    "start_time": "2023-03-13T13:16:48.524Z"
   },
   {
    "duration": 41,
    "start_time": "2023-03-13T13:17:15.000Z"
   },
   {
    "duration": 16,
    "start_time": "2023-03-13T13:21:24.632Z"
   },
   {
    "duration": 60,
    "start_time": "2023-03-13T13:21:31.434Z"
   },
   {
    "duration": 105,
    "start_time": "2023-03-13T13:24:44.142Z"
   },
   {
    "duration": 21,
    "start_time": "2023-03-13T13:38:20.105Z"
   },
   {
    "duration": 43,
    "start_time": "2023-03-13T13:38:42.150Z"
   },
   {
    "duration": 29,
    "start_time": "2023-03-13T13:38:46.787Z"
   },
   {
    "duration": 23,
    "start_time": "2023-03-13T13:38:51.484Z"
   },
   {
    "duration": 35,
    "start_time": "2023-03-13T13:38:55.894Z"
   },
   {
    "duration": 24,
    "start_time": "2023-03-13T13:39:02.384Z"
   },
   {
    "duration": 33,
    "start_time": "2023-03-13T13:39:07.498Z"
   },
   {
    "duration": 42,
    "start_time": "2023-03-13T13:39:20.550Z"
   },
   {
    "duration": 25,
    "start_time": "2023-03-13T13:40:13.309Z"
   },
   {
    "duration": 21,
    "start_time": "2023-03-13T13:41:33.311Z"
   },
   {
    "duration": 31,
    "start_time": "2023-03-13T13:41:40.353Z"
   },
   {
    "duration": 119,
    "start_time": "2023-03-13T13:41:52.851Z"
   },
   {
    "duration": 22,
    "start_time": "2023-03-13T13:42:00.699Z"
   },
   {
    "duration": 31,
    "start_time": "2023-03-13T13:42:29.177Z"
   },
   {
    "duration": 5,
    "start_time": "2023-03-13T13:44:08.838Z"
   },
   {
    "duration": 3,
    "start_time": "2023-03-13T13:44:11.202Z"
   },
   {
    "duration": 62,
    "start_time": "2023-03-13T13:44:14.236Z"
   },
   {
    "duration": 635,
    "start_time": "2023-03-13T13:44:44.212Z"
   },
   {
    "duration": 337,
    "start_time": "2023-03-13T13:44:44.849Z"
   },
   {
    "duration": 9,
    "start_time": "2023-03-13T13:44:45.188Z"
   },
   {
    "duration": 16,
    "start_time": "2023-03-13T13:44:45.199Z"
   },
   {
    "duration": 81,
    "start_time": "2023-03-13T13:44:45.216Z"
   },
   {
    "duration": 31,
    "start_time": "2023-03-13T13:44:45.299Z"
   },
   {
    "duration": 51,
    "start_time": "2023-03-13T13:44:45.332Z"
   },
   {
    "duration": 1863,
    "start_time": "2023-03-13T13:44:45.385Z"
   },
   {
    "duration": 32,
    "start_time": "2023-03-13T13:44:47.250Z"
   },
   {
    "duration": 11,
    "start_time": "2023-03-13T13:44:47.285Z"
   },
   {
    "duration": 5,
    "start_time": "2023-03-13T13:44:47.298Z"
   },
   {
    "duration": 10,
    "start_time": "2023-03-13T13:44:47.304Z"
   },
   {
    "duration": 9,
    "start_time": "2023-03-13T13:44:47.316Z"
   },
   {
    "duration": 12,
    "start_time": "2023-03-13T13:44:47.326Z"
   },
   {
    "duration": 8,
    "start_time": "2023-03-13T13:44:47.339Z"
   },
   {
    "duration": 4,
    "start_time": "2023-03-13T13:44:47.348Z"
   },
   {
    "duration": 18,
    "start_time": "2023-03-13T13:44:47.362Z"
   },
   {
    "duration": 19,
    "start_time": "2023-03-13T13:44:47.381Z"
   },
   {
    "duration": 326,
    "start_time": "2023-03-13T13:44:47.401Z"
   },
   {
    "duration": 4,
    "start_time": "2023-03-13T13:44:47.729Z"
   },
   {
    "duration": 7,
    "start_time": "2023-03-13T13:44:47.734Z"
   },
   {
    "duration": 51,
    "start_time": "2023-03-13T13:44:47.742Z"
   },
   {
    "duration": 3,
    "start_time": "2023-03-13T13:44:47.795Z"
   },
   {
    "duration": 4,
    "start_time": "2023-03-13T13:44:47.800Z"
   },
   {
    "duration": 7,
    "start_time": "2023-03-13T13:44:47.805Z"
   },
   {
    "duration": 4,
    "start_time": "2023-03-13T13:44:47.813Z"
   },
   {
    "duration": 9,
    "start_time": "2023-03-13T13:44:47.818Z"
   },
   {
    "duration": 3,
    "start_time": "2023-03-13T13:44:47.831Z"
   },
   {
    "duration": 7,
    "start_time": "2023-03-13T13:44:47.836Z"
   },
   {
    "duration": 4,
    "start_time": "2023-03-13T13:44:47.845Z"
   },
   {
    "duration": 38,
    "start_time": "2023-03-13T13:44:47.850Z"
   },
   {
    "duration": 5,
    "start_time": "2023-03-13T13:44:47.890Z"
   },
   {
    "duration": 8,
    "start_time": "2023-03-13T13:44:47.897Z"
   },
   {
    "duration": 6,
    "start_time": "2023-03-13T13:44:47.907Z"
   },
   {
    "duration": 5,
    "start_time": "2023-03-13T13:44:47.915Z"
   },
   {
    "duration": 8,
    "start_time": "2023-03-13T13:44:47.922Z"
   },
   {
    "duration": 7,
    "start_time": "2023-03-13T13:44:47.931Z"
   },
   {
    "duration": 11,
    "start_time": "2023-03-13T13:44:47.939Z"
   },
   {
    "duration": 24,
    "start_time": "2023-03-13T13:44:47.964Z"
   },
   {
    "duration": 243,
    "start_time": "2023-03-13T13:44:47.991Z"
   },
   {
    "duration": 6,
    "start_time": "2023-03-13T13:44:48.235Z"
   },
   {
    "duration": 39,
    "start_time": "2023-03-13T13:44:48.242Z"
   },
   {
    "duration": 41,
    "start_time": "2023-03-13T13:44:48.284Z"
   },
   {
    "duration": 10,
    "start_time": "2023-03-13T13:44:48.326Z"
   },
   {
    "duration": 15,
    "start_time": "2023-03-13T13:44:48.337Z"
   },
   {
    "duration": 31,
    "start_time": "2023-03-13T13:44:48.354Z"
   },
   {
    "duration": 27,
    "start_time": "2023-03-13T13:44:48.386Z"
   },
   {
    "duration": 407,
    "start_time": "2023-03-13T13:44:48.414Z"
   },
   {
    "duration": 5,
    "start_time": "2023-03-13T13:44:48.822Z"
   },
   {
    "duration": 16,
    "start_time": "2023-03-13T13:44:48.828Z"
   },
   {
    "duration": 20,
    "start_time": "2023-03-13T13:44:48.846Z"
   },
   {
    "duration": 13,
    "start_time": "2023-03-13T13:44:48.867Z"
   },
   {
    "duration": 29,
    "start_time": "2023-03-13T13:44:48.882Z"
   },
   {
    "duration": 38,
    "start_time": "2023-03-13T13:44:48.912Z"
   },
   {
    "duration": 52,
    "start_time": "2023-03-13T13:44:48.951Z"
   },
   {
    "duration": 6,
    "start_time": "2023-03-13T13:44:49.004Z"
   },
   {
    "duration": 9,
    "start_time": "2023-03-13T13:44:49.012Z"
   },
   {
    "duration": 30,
    "start_time": "2023-03-13T13:44:49.022Z"
   },
   {
    "duration": 39,
    "start_time": "2023-03-13T13:44:49.053Z"
   },
   {
    "duration": 8,
    "start_time": "2023-03-13T13:44:49.094Z"
   },
   {
    "duration": 87,
    "start_time": "2023-03-13T13:44:49.103Z"
   },
   {
    "duration": 36,
    "start_time": "2023-03-13T13:44:49.192Z"
   },
   {
    "duration": 7,
    "start_time": "2023-03-13T13:44:49.229Z"
   },
   {
    "duration": 11,
    "start_time": "2023-03-13T13:44:49.238Z"
   },
   {
    "duration": 54,
    "start_time": "2023-03-13T13:44:49.250Z"
   },
   {
    "duration": 21,
    "start_time": "2023-03-13T13:44:49.306Z"
   },
   {
    "duration": 24,
    "start_time": "2023-03-13T13:44:57.383Z"
   },
   {
    "duration": 8,
    "start_time": "2023-03-13T13:44:59.297Z"
   },
   {
    "duration": 3,
    "start_time": "2023-03-13T13:45:00.326Z"
   },
   {
    "duration": 97,
    "start_time": "2023-03-13T13:45:02.196Z"
   },
   {
    "duration": 31,
    "start_time": "2023-03-13T13:45:34.486Z"
   },
   {
    "duration": 38,
    "start_time": "2023-03-13T13:57:49.002Z"
   },
   {
    "duration": 761,
    "start_time": "2023-03-13T14:01:55.752Z"
   },
   {
    "duration": 397,
    "start_time": "2023-03-13T14:01:56.515Z"
   },
   {
    "duration": 9,
    "start_time": "2023-03-13T14:01:56.914Z"
   },
   {
    "duration": 23,
    "start_time": "2023-03-13T14:01:56.926Z"
   },
   {
    "duration": 111,
    "start_time": "2023-03-13T14:01:56.951Z"
   },
   {
    "duration": 49,
    "start_time": "2023-03-13T14:01:57.064Z"
   },
   {
    "duration": 26,
    "start_time": "2023-03-13T14:01:57.115Z"
   },
   {
    "duration": 2034,
    "start_time": "2023-03-13T14:01:57.143Z"
   },
   {
    "duration": 22,
    "start_time": "2023-03-13T14:01:59.178Z"
   },
   {
    "duration": 8,
    "start_time": "2023-03-13T14:01:59.206Z"
   },
   {
    "duration": 6,
    "start_time": "2023-03-13T14:01:59.216Z"
   },
   {
    "duration": 6,
    "start_time": "2023-03-13T14:01:59.223Z"
   },
   {
    "duration": 8,
    "start_time": "2023-03-13T14:01:59.231Z"
   },
   {
    "duration": 7,
    "start_time": "2023-03-13T14:01:59.240Z"
   },
   {
    "duration": 40,
    "start_time": "2023-03-13T14:01:59.248Z"
   },
   {
    "duration": 4,
    "start_time": "2023-03-13T14:01:59.304Z"
   },
   {
    "duration": 6,
    "start_time": "2023-03-13T14:01:59.310Z"
   },
   {
    "duration": 8,
    "start_time": "2023-03-13T14:01:59.318Z"
   },
   {
    "duration": 354,
    "start_time": "2023-03-13T14:01:59.327Z"
   },
   {
    "duration": 6,
    "start_time": "2023-03-13T14:01:59.683Z"
   },
   {
    "duration": 13,
    "start_time": "2023-03-13T14:01:59.691Z"
   },
   {
    "duration": 8,
    "start_time": "2023-03-13T14:01:59.707Z"
   },
   {
    "duration": 8,
    "start_time": "2023-03-13T14:01:59.720Z"
   },
   {
    "duration": 4,
    "start_time": "2023-03-13T14:01:59.730Z"
   },
   {
    "duration": 7,
    "start_time": "2023-03-13T14:01:59.736Z"
   },
   {
    "duration": 23,
    "start_time": "2023-03-13T14:01:59.745Z"
   },
   {
    "duration": 11,
    "start_time": "2023-03-13T14:01:59.769Z"
   },
   {
    "duration": 12,
    "start_time": "2023-03-13T14:01:59.784Z"
   },
   {
    "duration": 14,
    "start_time": "2023-03-13T14:01:59.797Z"
   },
   {
    "duration": 9,
    "start_time": "2023-03-13T14:01:59.813Z"
   },
   {
    "duration": 4,
    "start_time": "2023-03-13T14:01:59.823Z"
   },
   {
    "duration": 6,
    "start_time": "2023-03-13T14:01:59.828Z"
   },
   {
    "duration": 9,
    "start_time": "2023-03-13T14:01:59.835Z"
   },
   {
    "duration": 38,
    "start_time": "2023-03-13T14:01:59.846Z"
   },
   {
    "duration": 7,
    "start_time": "2023-03-13T14:01:59.903Z"
   },
   {
    "duration": 11,
    "start_time": "2023-03-13T14:01:59.911Z"
   },
   {
    "duration": 5,
    "start_time": "2023-03-13T14:01:59.924Z"
   },
   {
    "duration": 10,
    "start_time": "2023-03-13T14:01:59.930Z"
   },
   {
    "duration": 5,
    "start_time": "2023-03-13T14:01:59.941Z"
   },
   {
    "duration": 280,
    "start_time": "2023-03-13T14:01:59.947Z"
   },
   {
    "duration": 6,
    "start_time": "2023-03-13T14:02:00.228Z"
   },
   {
    "duration": 25,
    "start_time": "2023-03-13T14:02:00.235Z"
   },
   {
    "duration": 52,
    "start_time": "2023-03-13T14:02:00.261Z"
   },
   {
    "duration": 23,
    "start_time": "2023-03-13T14:02:00.315Z"
   },
   {
    "duration": 54,
    "start_time": "2023-03-13T14:02:00.339Z"
   },
   {
    "duration": 28,
    "start_time": "2023-03-13T14:02:00.396Z"
   },
   {
    "duration": 72,
    "start_time": "2023-03-13T14:02:00.425Z"
   },
   {
    "duration": 459,
    "start_time": "2023-03-13T14:02:00.504Z"
   },
   {
    "duration": 6,
    "start_time": "2023-03-13T14:02:00.964Z"
   },
   {
    "duration": 38,
    "start_time": "2023-03-13T14:02:00.972Z"
   },
   {
    "duration": 24,
    "start_time": "2023-03-13T14:02:01.011Z"
   },
   {
    "duration": 38,
    "start_time": "2023-03-13T14:02:01.036Z"
   },
   {
    "duration": 48,
    "start_time": "2023-03-13T14:02:01.075Z"
   },
   {
    "duration": 65,
    "start_time": "2023-03-13T14:02:01.124Z"
   },
   {
    "duration": 35,
    "start_time": "2023-03-13T14:02:01.191Z"
   },
   {
    "duration": 15,
    "start_time": "2023-03-13T14:02:01.228Z"
   },
   {
    "duration": 28,
    "start_time": "2023-03-13T14:02:01.245Z"
   },
   {
    "duration": 59,
    "start_time": "2023-03-13T14:02:01.275Z"
   },
   {
    "duration": 28,
    "start_time": "2023-03-13T14:02:01.336Z"
   },
   {
    "duration": 32,
    "start_time": "2023-03-13T14:02:01.365Z"
   },
   {
    "duration": 114,
    "start_time": "2023-03-13T14:02:01.398Z"
   },
   {
    "duration": 32,
    "start_time": "2023-03-13T14:02:01.514Z"
   },
   {
    "duration": 25,
    "start_time": "2023-03-13T14:02:01.547Z"
   },
   {
    "duration": 14,
    "start_time": "2023-03-13T14:02:01.588Z"
   },
   {
    "duration": 102,
    "start_time": "2023-03-13T14:02:01.608Z"
   },
   {
    "duration": 36,
    "start_time": "2023-03-13T14:02:01.715Z"
   },
   {
    "duration": 41,
    "start_time": "2023-03-13T14:02:01.752Z"
   },
   {
    "duration": 37,
    "start_time": "2023-03-13T14:02:01.795Z"
   },
   {
    "duration": 31,
    "start_time": "2023-03-13T14:02:01.835Z"
   },
   {
    "duration": 110,
    "start_time": "2023-03-13T14:02:01.873Z"
   },
   {
    "duration": 44,
    "start_time": "2023-03-13T14:02:01.984Z"
   },
   {
    "duration": 91,
    "start_time": "2023-03-13T14:02:02.029Z"
   },
   {
    "duration": 68,
    "start_time": "2023-03-13T14:04:03.804Z"
   },
   {
    "duration": 6,
    "start_time": "2023-03-13T14:04:09.497Z"
   },
   {
    "duration": 4,
    "start_time": "2023-03-13T14:04:10.424Z"
   },
   {
    "duration": 4,
    "start_time": "2023-03-13T14:04:11.144Z"
   },
   {
    "duration": 5,
    "start_time": "2023-03-13T14:04:11.830Z"
   },
   {
    "duration": 439,
    "start_time": "2023-03-13T14:05:01.344Z"
   },
   {
    "duration": 26,
    "start_time": "2023-03-13T14:06:41.143Z"
   },
   {
    "duration": 754,
    "start_time": "2023-03-13T14:08:12.779Z"
   },
   {
    "duration": 286,
    "start_time": "2023-03-13T14:08:13.535Z"
   },
   {
    "duration": 4,
    "start_time": "2023-03-13T14:08:13.822Z"
   },
   {
    "duration": 15,
    "start_time": "2023-03-13T14:08:13.828Z"
   },
   {
    "duration": 89,
    "start_time": "2023-03-13T14:08:13.844Z"
   },
   {
    "duration": 35,
    "start_time": "2023-03-13T14:08:13.935Z"
   },
   {
    "duration": 38,
    "start_time": "2023-03-13T14:08:13.971Z"
   },
   {
    "duration": 1934,
    "start_time": "2023-03-13T14:08:14.011Z"
   },
   {
    "duration": 23,
    "start_time": "2023-03-13T14:08:15.947Z"
   },
   {
    "duration": 13,
    "start_time": "2023-03-13T14:08:15.973Z"
   },
   {
    "duration": 7,
    "start_time": "2023-03-13T14:08:15.988Z"
   },
   {
    "duration": 8,
    "start_time": "2023-03-13T14:08:16.001Z"
   },
   {
    "duration": 10,
    "start_time": "2023-03-13T14:08:16.010Z"
   },
   {
    "duration": 4,
    "start_time": "2023-03-13T14:08:16.021Z"
   },
   {
    "duration": 8,
    "start_time": "2023-03-13T14:08:16.027Z"
   },
   {
    "duration": 25,
    "start_time": "2023-03-13T14:08:16.036Z"
   },
   {
    "duration": 3,
    "start_time": "2023-03-13T14:08:16.065Z"
   },
   {
    "duration": 10,
    "start_time": "2023-03-13T14:08:16.070Z"
   },
   {
    "duration": 347,
    "start_time": "2023-03-13T14:08:16.081Z"
   },
   {
    "duration": 4,
    "start_time": "2023-03-13T14:08:16.429Z"
   },
   {
    "duration": 7,
    "start_time": "2023-03-13T14:08:16.435Z"
   },
   {
    "duration": 18,
    "start_time": "2023-03-13T14:08:16.443Z"
   },
   {
    "duration": 3,
    "start_time": "2023-03-13T14:08:16.464Z"
   },
   {
    "duration": 6,
    "start_time": "2023-03-13T14:08:16.469Z"
   },
   {
    "duration": 12,
    "start_time": "2023-03-13T14:08:16.477Z"
   },
   {
    "duration": 5,
    "start_time": "2023-03-13T14:08:16.490Z"
   },
   {
    "duration": 8,
    "start_time": "2023-03-13T14:08:16.496Z"
   },
   {
    "duration": 4,
    "start_time": "2023-03-13T14:08:16.508Z"
   },
   {
    "duration": 7,
    "start_time": "2023-03-13T14:08:16.515Z"
   },
   {
    "duration": 4,
    "start_time": "2023-03-13T14:08:16.524Z"
   },
   {
    "duration": 32,
    "start_time": "2023-03-13T14:08:16.530Z"
   },
   {
    "duration": 8,
    "start_time": "2023-03-13T14:08:16.564Z"
   },
   {
    "duration": 10,
    "start_time": "2023-03-13T14:08:16.574Z"
   },
   {
    "duration": 9,
    "start_time": "2023-03-13T14:08:16.586Z"
   },
   {
    "duration": 13,
    "start_time": "2023-03-13T14:08:16.597Z"
   },
   {
    "duration": 12,
    "start_time": "2023-03-13T14:08:16.611Z"
   },
   {
    "duration": 5,
    "start_time": "2023-03-13T14:08:16.625Z"
   },
   {
    "duration": 51,
    "start_time": "2023-03-13T14:08:16.632Z"
   },
   {
    "duration": 12,
    "start_time": "2023-03-13T14:08:16.688Z"
   },
   {
    "duration": 323,
    "start_time": "2023-03-13T14:08:16.701Z"
   },
   {
    "duration": 6,
    "start_time": "2023-03-13T14:08:17.026Z"
   },
   {
    "duration": 10,
    "start_time": "2023-03-13T14:08:17.033Z"
   },
   {
    "duration": 65,
    "start_time": "2023-03-13T14:08:17.044Z"
   },
   {
    "duration": 10,
    "start_time": "2023-03-13T14:08:17.115Z"
   },
   {
    "duration": 6,
    "start_time": "2023-03-13T14:08:17.127Z"
   },
   {
    "duration": 4,
    "start_time": "2023-03-13T14:08:17.135Z"
   },
   {
    "duration": 27,
    "start_time": "2023-03-13T14:08:17.141Z"
   },
   {
    "duration": 428,
    "start_time": "2023-03-13T14:08:17.172Z"
   },
   {
    "duration": 7,
    "start_time": "2023-03-13T14:08:17.601Z"
   },
   {
    "duration": 11,
    "start_time": "2023-03-13T14:08:17.610Z"
   },
   {
    "duration": 7,
    "start_time": "2023-03-13T14:08:17.623Z"
   },
   {
    "duration": 3,
    "start_time": "2023-03-13T14:08:17.632Z"
   },
   {
    "duration": 37,
    "start_time": "2023-03-13T14:08:17.662Z"
   },
   {
    "duration": 46,
    "start_time": "2023-03-13T14:08:17.703Z"
   },
   {
    "duration": 38,
    "start_time": "2023-03-13T14:08:17.750Z"
   },
   {
    "duration": 13,
    "start_time": "2023-03-13T14:08:17.792Z"
   },
   {
    "duration": 12,
    "start_time": "2023-03-13T14:08:17.807Z"
   },
   {
    "duration": 61,
    "start_time": "2023-03-13T14:08:17.821Z"
   },
   {
    "duration": 37,
    "start_time": "2023-03-13T14:08:17.884Z"
   },
   {
    "duration": 6,
    "start_time": "2023-03-13T14:08:17.923Z"
   },
   {
    "duration": 92,
    "start_time": "2023-03-13T14:08:17.931Z"
   },
   {
    "duration": 33,
    "start_time": "2023-03-13T14:08:28.104Z"
   },
   {
    "duration": 7,
    "start_time": "2023-03-13T14:13:22.916Z"
   },
   {
    "duration": 3,
    "start_time": "2023-03-13T14:13:25.614Z"
   },
   {
    "duration": 12,
    "start_time": "2023-03-13T14:13:26.408Z"
   },
   {
    "duration": 17,
    "start_time": "2023-03-13T14:13:44.177Z"
   },
   {
    "duration": 857,
    "start_time": "2023-03-13T14:14:56.083Z"
   },
   {
    "duration": 411,
    "start_time": "2023-03-13T14:14:56.942Z"
   },
   {
    "duration": 8,
    "start_time": "2023-03-13T14:14:57.355Z"
   },
   {
    "duration": 18,
    "start_time": "2023-03-13T14:14:57.365Z"
   },
   {
    "duration": 109,
    "start_time": "2023-03-13T14:14:57.385Z"
   },
   {
    "duration": 38,
    "start_time": "2023-03-13T14:14:57.495Z"
   },
   {
    "duration": 65,
    "start_time": "2023-03-13T14:14:57.535Z"
   },
   {
    "duration": 2126,
    "start_time": "2023-03-13T14:14:57.603Z"
   },
   {
    "duration": 8,
    "start_time": "2023-03-13T14:14:59.731Z"
   },
   {
    "duration": 7,
    "start_time": "2023-03-13T14:14:59.741Z"
   },
   {
    "duration": 24,
    "start_time": "2023-03-13T14:14:59.749Z"
   },
   {
    "duration": 15,
    "start_time": "2023-03-13T14:14:59.775Z"
   },
   {
    "duration": 15,
    "start_time": "2023-03-13T14:14:59.797Z"
   },
   {
    "duration": 4,
    "start_time": "2023-03-13T14:14:59.813Z"
   },
   {
    "duration": 7,
    "start_time": "2023-03-13T14:14:59.819Z"
   },
   {
    "duration": 4,
    "start_time": "2023-03-13T14:14:59.827Z"
   },
   {
    "duration": 4,
    "start_time": "2023-03-13T14:14:59.832Z"
   },
   {
    "duration": 8,
    "start_time": "2023-03-13T14:14:59.837Z"
   },
   {
    "duration": 320,
    "start_time": "2023-03-13T14:14:59.847Z"
   },
   {
    "duration": 8,
    "start_time": "2023-03-13T14:15:00.168Z"
   },
   {
    "duration": 27,
    "start_time": "2023-03-13T14:15:00.177Z"
   },
   {
    "duration": 14,
    "start_time": "2023-03-13T14:15:00.205Z"
   },
   {
    "duration": 25,
    "start_time": "2023-03-13T14:15:00.221Z"
   },
   {
    "duration": 23,
    "start_time": "2023-03-13T14:15:00.247Z"
   },
   {
    "duration": 8,
    "start_time": "2023-03-13T14:15:00.271Z"
   },
   {
    "duration": 12,
    "start_time": "2023-03-13T14:15:00.281Z"
   },
   {
    "duration": 29,
    "start_time": "2023-03-13T14:15:00.294Z"
   },
   {
    "duration": 50,
    "start_time": "2023-03-13T14:15:00.326Z"
   },
   {
    "duration": 28,
    "start_time": "2023-03-13T14:15:00.387Z"
   },
   {
    "duration": 28,
    "start_time": "2023-03-13T14:15:00.416Z"
   },
   {
    "duration": 27,
    "start_time": "2023-03-13T14:15:00.446Z"
   },
   {
    "duration": 23,
    "start_time": "2023-03-13T14:15:00.474Z"
   },
   {
    "duration": 45,
    "start_time": "2023-03-13T14:15:00.499Z"
   },
   {
    "duration": 27,
    "start_time": "2023-03-13T14:15:00.545Z"
   },
   {
    "duration": 20,
    "start_time": "2023-03-13T14:15:00.583Z"
   },
   {
    "duration": 18,
    "start_time": "2023-03-13T14:15:00.605Z"
   },
   {
    "duration": 17,
    "start_time": "2023-03-13T14:15:00.624Z"
   },
   {
    "duration": 64,
    "start_time": "2023-03-13T14:15:00.642Z"
   },
   {
    "duration": 22,
    "start_time": "2023-03-13T14:15:00.708Z"
   },
   {
    "duration": 297,
    "start_time": "2023-03-13T14:15:00.731Z"
   },
   {
    "duration": 6,
    "start_time": "2023-03-13T14:15:01.029Z"
   },
   {
    "duration": 68,
    "start_time": "2023-03-13T14:15:01.036Z"
   },
   {
    "duration": 41,
    "start_time": "2023-03-13T14:15:01.109Z"
   },
   {
    "duration": 49,
    "start_time": "2023-03-13T14:15:01.151Z"
   },
   {
    "duration": 42,
    "start_time": "2023-03-13T14:15:01.201Z"
   },
   {
    "duration": 52,
    "start_time": "2023-03-13T14:15:01.244Z"
   },
   {
    "duration": 61,
    "start_time": "2023-03-13T14:15:01.305Z"
   },
   {
    "duration": 477,
    "start_time": "2023-03-13T14:15:01.368Z"
   },
   {
    "duration": 5,
    "start_time": "2023-03-13T14:15:01.846Z"
   },
   {
    "duration": 58,
    "start_time": "2023-03-13T14:15:01.852Z"
   },
   {
    "duration": 62,
    "start_time": "2023-03-13T14:15:01.911Z"
   },
   {
    "duration": 26,
    "start_time": "2023-03-13T14:15:01.975Z"
   },
   {
    "duration": 37,
    "start_time": "2023-03-13T14:15:02.003Z"
   },
   {
    "duration": 66,
    "start_time": "2023-03-13T14:15:02.042Z"
   },
   {
    "duration": 27,
    "start_time": "2023-03-13T14:15:02.110Z"
   },
   {
    "duration": 27,
    "start_time": "2023-03-13T14:15:02.138Z"
   },
   {
    "duration": 26,
    "start_time": "2023-03-13T14:15:02.167Z"
   },
   {
    "duration": 56,
    "start_time": "2023-03-13T14:15:02.195Z"
   },
   {
    "duration": 57,
    "start_time": "2023-03-13T14:15:02.252Z"
   },
   {
    "duration": 6,
    "start_time": "2023-03-13T14:15:02.311Z"
   },
   {
    "duration": 117,
    "start_time": "2023-03-13T14:15:02.318Z"
   },
   {
    "duration": 44,
    "start_time": "2023-03-13T14:15:02.438Z"
   },
   {
    "duration": 30,
    "start_time": "2023-03-13T14:15:23.404Z"
   },
   {
    "duration": 38,
    "start_time": "2023-03-13T14:15:29.783Z"
   },
   {
    "duration": 8,
    "start_time": "2023-03-13T14:15:35.010Z"
   },
   {
    "duration": 2,
    "start_time": "2023-03-13T14:15:35.907Z"
   },
   {
    "duration": 25,
    "start_time": "2023-03-13T14:15:36.648Z"
   },
   {
    "duration": 45,
    "start_time": "2023-03-13T14:15:41.490Z"
   },
   {
    "duration": 38,
    "start_time": "2023-03-13T14:15:43.894Z"
   },
   {
    "duration": 26,
    "start_time": "2023-03-13T14:15:46.410Z"
   },
   {
    "duration": 8,
    "start_time": "2023-03-13T14:15:48.094Z"
   },
   {
    "duration": 3,
    "start_time": "2023-03-13T14:15:48.801Z"
   },
   {
    "duration": 78,
    "start_time": "2023-03-13T14:15:52.049Z"
   },
   {
    "duration": 759,
    "start_time": "2023-03-13T14:16:53.089Z"
   },
   {
    "duration": 500,
    "start_time": "2023-03-13T14:16:53.850Z"
   },
   {
    "duration": 3,
    "start_time": "2023-03-13T14:16:54.352Z"
   },
   {
    "duration": 19,
    "start_time": "2023-03-13T14:16:54.365Z"
   },
   {
    "duration": 86,
    "start_time": "2023-03-13T14:16:54.387Z"
   },
   {
    "duration": 36,
    "start_time": "2023-03-13T14:16:54.474Z"
   },
   {
    "duration": 26,
    "start_time": "2023-03-13T14:16:54.512Z"
   },
   {
    "duration": 2033,
    "start_time": "2023-03-13T14:16:54.540Z"
   },
   {
    "duration": 25,
    "start_time": "2023-03-13T14:16:56.575Z"
   },
   {
    "duration": 12,
    "start_time": "2023-03-13T14:16:56.605Z"
   },
   {
    "duration": 5,
    "start_time": "2023-03-13T14:16:56.619Z"
   },
   {
    "duration": 8,
    "start_time": "2023-03-13T14:16:56.626Z"
   },
   {
    "duration": 8,
    "start_time": "2023-03-13T14:16:56.636Z"
   },
   {
    "duration": 4,
    "start_time": "2023-03-13T14:16:56.648Z"
   },
   {
    "duration": 20,
    "start_time": "2023-03-13T14:16:56.655Z"
   },
   {
    "duration": 5,
    "start_time": "2023-03-13T14:16:56.677Z"
   },
   {
    "duration": 3,
    "start_time": "2023-03-13T14:16:56.685Z"
   },
   {
    "duration": 23,
    "start_time": "2023-03-13T14:16:56.690Z"
   },
   {
    "duration": 413,
    "start_time": "2023-03-13T14:16:56.715Z"
   },
   {
    "duration": 4,
    "start_time": "2023-03-13T14:16:57.130Z"
   },
   {
    "duration": 11,
    "start_time": "2023-03-13T14:16:57.136Z"
   },
   {
    "duration": 24,
    "start_time": "2023-03-13T14:16:57.149Z"
   },
   {
    "duration": 4,
    "start_time": "2023-03-13T14:16:57.174Z"
   },
   {
    "duration": 8,
    "start_time": "2023-03-13T14:16:57.180Z"
   },
   {
    "duration": 32,
    "start_time": "2023-03-13T14:16:57.189Z"
   },
   {
    "duration": 37,
    "start_time": "2023-03-13T14:16:57.223Z"
   },
   {
    "duration": 15,
    "start_time": "2023-03-13T14:16:57.261Z"
   },
   {
    "duration": 11,
    "start_time": "2023-03-13T14:16:57.277Z"
   },
   {
    "duration": 16,
    "start_time": "2023-03-13T14:16:57.289Z"
   },
   {
    "duration": 17,
    "start_time": "2023-03-13T14:16:57.306Z"
   },
   {
    "duration": 4,
    "start_time": "2023-03-13T14:16:57.325Z"
   },
   {
    "duration": 9,
    "start_time": "2023-03-13T14:16:57.331Z"
   },
   {
    "duration": 30,
    "start_time": "2023-03-13T14:16:57.341Z"
   },
   {
    "duration": 9,
    "start_time": "2023-03-13T14:16:57.377Z"
   },
   {
    "duration": 21,
    "start_time": "2023-03-13T14:16:57.387Z"
   },
   {
    "duration": 30,
    "start_time": "2023-03-13T14:16:57.411Z"
   },
   {
    "duration": 40,
    "start_time": "2023-03-13T14:16:57.443Z"
   },
   {
    "duration": 28,
    "start_time": "2023-03-13T14:16:57.485Z"
   },
   {
    "duration": 8,
    "start_time": "2023-03-13T14:16:57.515Z"
   },
   {
    "duration": 295,
    "start_time": "2023-03-13T14:16:57.524Z"
   },
   {
    "duration": 5,
    "start_time": "2023-03-13T14:16:57.825Z"
   },
   {
    "duration": 19,
    "start_time": "2023-03-13T14:16:57.832Z"
   },
   {
    "duration": 59,
    "start_time": "2023-03-13T14:16:57.852Z"
   },
   {
    "duration": 9,
    "start_time": "2023-03-13T14:16:57.913Z"
   },
   {
    "duration": 20,
    "start_time": "2023-03-13T14:16:57.923Z"
   },
   {
    "duration": 3,
    "start_time": "2023-03-13T14:16:57.945Z"
   },
   {
    "duration": 20,
    "start_time": "2023-03-13T14:16:57.950Z"
   },
   {
    "duration": 456,
    "start_time": "2023-03-13T14:16:57.972Z"
   },
   {
    "duration": 5,
    "start_time": "2023-03-13T14:16:58.430Z"
   },
   {
    "duration": 11,
    "start_time": "2023-03-13T14:16:58.436Z"
   },
   {
    "duration": 22,
    "start_time": "2023-03-13T14:16:58.449Z"
   },
   {
    "duration": 6,
    "start_time": "2023-03-13T14:16:58.472Z"
   },
   {
    "duration": 24,
    "start_time": "2023-03-13T14:16:58.485Z"
   },
   {
    "duration": 32,
    "start_time": "2023-03-13T14:16:58.510Z"
   },
   {
    "duration": 30,
    "start_time": "2023-03-13T14:16:58.544Z"
   },
   {
    "duration": 11,
    "start_time": "2023-03-13T14:16:58.575Z"
   },
   {
    "duration": 18,
    "start_time": "2023-03-13T14:16:58.587Z"
   },
   {
    "duration": 31,
    "start_time": "2023-03-13T14:16:58.606Z"
   },
   {
    "duration": 38,
    "start_time": "2023-03-13T14:16:58.638Z"
   },
   {
    "duration": 5,
    "start_time": "2023-03-13T14:16:58.677Z"
   },
   {
    "duration": 68,
    "start_time": "2023-03-13T14:16:58.683Z"
   },
   {
    "duration": 55,
    "start_time": "2023-03-13T14:16:58.753Z"
   },
   {
    "duration": 7,
    "start_time": "2023-03-13T14:16:58.814Z"
   },
   {
    "duration": 2,
    "start_time": "2023-03-13T14:16:58.822Z"
   },
   {
    "duration": 57,
    "start_time": "2023-03-13T14:16:58.825Z"
   },
   {
    "duration": 45,
    "start_time": "2023-03-13T14:16:58.884Z"
   },
   {
    "duration": 17,
    "start_time": "2023-03-13T14:17:13.943Z"
   },
   {
    "duration": 22,
    "start_time": "2023-03-13T14:17:19.104Z"
   },
   {
    "duration": 8,
    "start_time": "2023-03-13T14:17:40.711Z"
   },
   {
    "duration": 3,
    "start_time": "2023-03-13T14:17:42.992Z"
   },
   {
    "duration": 75,
    "start_time": "2023-03-13T14:17:44.407Z"
   },
   {
    "duration": 23,
    "start_time": "2023-03-13T14:18:13.941Z"
   },
   {
    "duration": 7,
    "start_time": "2023-03-13T14:19:00.222Z"
   },
   {
    "duration": 4,
    "start_time": "2023-03-13T14:19:01.228Z"
   },
   {
    "duration": 12,
    "start_time": "2023-03-13T14:19:02.516Z"
   },
   {
    "duration": 790,
    "start_time": "2023-03-13T14:19:14.534Z"
   },
   {
    "duration": 400,
    "start_time": "2023-03-13T14:19:15.326Z"
   },
   {
    "duration": 3,
    "start_time": "2023-03-13T14:19:15.727Z"
   },
   {
    "duration": 15,
    "start_time": "2023-03-13T14:19:15.733Z"
   },
   {
    "duration": 115,
    "start_time": "2023-03-13T14:19:15.749Z"
   },
   {
    "duration": 44,
    "start_time": "2023-03-13T14:19:15.873Z"
   },
   {
    "duration": 26,
    "start_time": "2023-03-13T14:19:15.919Z"
   },
   {
    "duration": 2035,
    "start_time": "2023-03-13T14:19:15.946Z"
   },
   {
    "duration": 25,
    "start_time": "2023-03-13T14:19:17.983Z"
   },
   {
    "duration": 12,
    "start_time": "2023-03-13T14:19:18.013Z"
   },
   {
    "duration": 15,
    "start_time": "2023-03-13T14:19:18.026Z"
   },
   {
    "duration": 7,
    "start_time": "2023-03-13T14:19:18.042Z"
   },
   {
    "duration": 13,
    "start_time": "2023-03-13T14:19:18.050Z"
   },
   {
    "duration": 4,
    "start_time": "2023-03-13T14:19:18.065Z"
   },
   {
    "duration": 9,
    "start_time": "2023-03-13T14:19:18.071Z"
   },
   {
    "duration": 4,
    "start_time": "2023-03-13T14:19:18.082Z"
   },
   {
    "duration": 4,
    "start_time": "2023-03-13T14:19:18.087Z"
   },
   {
    "duration": 19,
    "start_time": "2023-03-13T14:19:18.093Z"
   },
   {
    "duration": 371,
    "start_time": "2023-03-13T14:19:18.120Z"
   },
   {
    "duration": 8,
    "start_time": "2023-03-13T14:19:18.493Z"
   },
   {
    "duration": 9,
    "start_time": "2023-03-13T14:19:18.509Z"
   },
   {
    "duration": 6,
    "start_time": "2023-03-13T14:19:18.519Z"
   },
   {
    "duration": 4,
    "start_time": "2023-03-13T14:19:18.526Z"
   },
   {
    "duration": 7,
    "start_time": "2023-03-13T14:19:18.532Z"
   },
   {
    "duration": 30,
    "start_time": "2023-03-13T14:19:18.540Z"
   },
   {
    "duration": 5,
    "start_time": "2023-03-13T14:19:18.572Z"
   },
   {
    "duration": 6,
    "start_time": "2023-03-13T14:19:18.579Z"
   },
   {
    "duration": 4,
    "start_time": "2023-03-13T14:19:18.590Z"
   },
   {
    "duration": 12,
    "start_time": "2023-03-13T14:19:18.596Z"
   },
   {
    "duration": 5,
    "start_time": "2023-03-13T14:19:18.615Z"
   },
   {
    "duration": 7,
    "start_time": "2023-03-13T14:19:18.622Z"
   },
   {
    "duration": 5,
    "start_time": "2023-03-13T14:19:18.630Z"
   },
   {
    "duration": 32,
    "start_time": "2023-03-13T14:19:18.637Z"
   },
   {
    "duration": 16,
    "start_time": "2023-03-13T14:19:18.670Z"
   },
   {
    "duration": 6,
    "start_time": "2023-03-13T14:19:18.688Z"
   },
   {
    "duration": 14,
    "start_time": "2023-03-13T14:19:18.695Z"
   },
   {
    "duration": 9,
    "start_time": "2023-03-13T14:19:18.711Z"
   },
   {
    "duration": 10,
    "start_time": "2023-03-13T14:19:18.721Z"
   },
   {
    "duration": 9,
    "start_time": "2023-03-13T14:19:18.732Z"
   },
   {
    "duration": 334,
    "start_time": "2023-03-13T14:19:18.742Z"
   },
   {
    "duration": 7,
    "start_time": "2023-03-13T14:19:19.079Z"
   },
   {
    "duration": 13,
    "start_time": "2023-03-13T14:19:19.088Z"
   },
   {
    "duration": 50,
    "start_time": "2023-03-13T14:19:19.103Z"
   },
   {
    "duration": 20,
    "start_time": "2023-03-13T14:19:19.165Z"
   },
   {
    "duration": 7,
    "start_time": "2023-03-13T14:19:19.187Z"
   },
   {
    "duration": 7,
    "start_time": "2023-03-13T14:19:19.195Z"
   },
   {
    "duration": 23,
    "start_time": "2023-03-13T14:19:19.204Z"
   },
   {
    "duration": 472,
    "start_time": "2023-03-13T14:19:19.229Z"
   },
   {
    "duration": 4,
    "start_time": "2023-03-13T14:19:19.703Z"
   },
   {
    "duration": 8,
    "start_time": "2023-03-13T14:19:19.709Z"
   },
   {
    "duration": 9,
    "start_time": "2023-03-13T14:19:19.718Z"
   },
   {
    "duration": 2,
    "start_time": "2023-03-13T14:19:19.729Z"
   },
   {
    "duration": 49,
    "start_time": "2023-03-13T14:19:19.732Z"
   },
   {
    "duration": 55,
    "start_time": "2023-03-13T14:19:19.782Z"
   },
   {
    "duration": 38,
    "start_time": "2023-03-13T14:19:19.838Z"
   },
   {
    "duration": 6,
    "start_time": "2023-03-13T14:19:19.878Z"
   },
   {
    "duration": 18,
    "start_time": "2023-03-13T14:19:19.886Z"
   },
   {
    "duration": 37,
    "start_time": "2023-03-13T14:19:19.905Z"
   },
   {
    "duration": 41,
    "start_time": "2023-03-13T14:19:19.943Z"
   },
   {
    "duration": 5,
    "start_time": "2023-03-13T14:19:19.986Z"
   },
   {
    "duration": 79,
    "start_time": "2023-03-13T14:19:19.993Z"
   },
   {
    "duration": 46,
    "start_time": "2023-03-13T14:19:20.076Z"
   },
   {
    "duration": 7,
    "start_time": "2023-03-13T14:19:20.123Z"
   },
   {
    "duration": 3,
    "start_time": "2023-03-13T14:19:20.132Z"
   },
   {
    "duration": 87,
    "start_time": "2023-03-13T14:19:20.136Z"
   },
   {
    "duration": 44,
    "start_time": "2023-03-13T14:19:20.225Z"
   },
   {
    "duration": 23,
    "start_time": "2023-03-13T14:19:20.270Z"
   },
   {
    "duration": 27,
    "start_time": "2023-03-13T14:19:20.294Z"
   },
   {
    "duration": 7,
    "start_time": "2023-03-13T14:19:27.483Z"
   },
   {
    "duration": 3,
    "start_time": "2023-03-13T14:19:28.375Z"
   },
   {
    "duration": 15,
    "start_time": "2023-03-13T14:19:29.882Z"
   },
   {
    "duration": 71,
    "start_time": "2023-03-13T14:20:18.754Z"
   },
   {
    "duration": 93,
    "start_time": "2023-03-13T14:20:21.823Z"
   },
   {
    "duration": 34,
    "start_time": "2023-03-13T14:20:29.010Z"
   },
   {
    "duration": 865,
    "start_time": "2023-03-13T14:23:45.229Z"
   },
   {
    "duration": 250,
    "start_time": "2023-03-13T14:23:46.097Z"
   },
   {
    "duration": 3,
    "start_time": "2023-03-13T14:23:46.348Z"
   },
   {
    "duration": 38,
    "start_time": "2023-03-13T14:23:46.353Z"
   },
   {
    "duration": 96,
    "start_time": "2023-03-13T14:23:46.393Z"
   },
   {
    "duration": 28,
    "start_time": "2023-03-13T14:23:46.491Z"
   },
   {
    "duration": 47,
    "start_time": "2023-03-13T14:23:46.521Z"
   },
   {
    "duration": 1955,
    "start_time": "2023-03-13T14:23:46.570Z"
   },
   {
    "duration": 8,
    "start_time": "2023-03-13T14:23:48.527Z"
   },
   {
    "duration": 7,
    "start_time": "2023-03-13T14:23:48.538Z"
   },
   {
    "duration": 5,
    "start_time": "2023-03-13T14:23:48.546Z"
   },
   {
    "duration": 23,
    "start_time": "2023-03-13T14:23:48.553Z"
   },
   {
    "duration": 11,
    "start_time": "2023-03-13T14:23:48.577Z"
   },
   {
    "duration": 4,
    "start_time": "2023-03-13T14:23:48.590Z"
   },
   {
    "duration": 11,
    "start_time": "2023-03-13T14:23:48.595Z"
   },
   {
    "duration": 4,
    "start_time": "2023-03-13T14:23:48.608Z"
   },
   {
    "duration": 3,
    "start_time": "2023-03-13T14:23:48.614Z"
   },
   {
    "duration": 10,
    "start_time": "2023-03-13T14:23:48.619Z"
   },
   {
    "duration": 347,
    "start_time": "2023-03-13T14:23:48.630Z"
   },
   {
    "duration": 5,
    "start_time": "2023-03-13T14:23:48.981Z"
   },
   {
    "duration": 12,
    "start_time": "2023-03-13T14:23:48.987Z"
   },
   {
    "duration": 5,
    "start_time": "2023-03-13T14:23:49.001Z"
   },
   {
    "duration": 4,
    "start_time": "2023-03-13T14:23:49.008Z"
   },
   {
    "duration": 9,
    "start_time": "2023-03-13T14:23:49.014Z"
   },
   {
    "duration": 8,
    "start_time": "2023-03-13T14:23:49.024Z"
   },
   {
    "duration": 24,
    "start_time": "2023-03-13T14:23:49.034Z"
   },
   {
    "duration": 4,
    "start_time": "2023-03-13T14:23:49.060Z"
   },
   {
    "duration": 10,
    "start_time": "2023-03-13T14:23:49.074Z"
   },
   {
    "duration": 12,
    "start_time": "2023-03-13T14:23:49.086Z"
   },
   {
    "duration": 5,
    "start_time": "2023-03-13T14:23:49.101Z"
   },
   {
    "duration": 5,
    "start_time": "2023-03-13T14:23:49.107Z"
   },
   {
    "duration": 16,
    "start_time": "2023-03-13T14:23:49.114Z"
   },
   {
    "duration": 32,
    "start_time": "2023-03-13T14:23:49.132Z"
   },
   {
    "duration": 15,
    "start_time": "2023-03-13T14:23:49.167Z"
   },
   {
    "duration": 6,
    "start_time": "2023-03-13T14:23:49.185Z"
   },
   {
    "duration": 9,
    "start_time": "2023-03-13T14:23:49.192Z"
   },
   {
    "duration": 5,
    "start_time": "2023-03-13T14:23:49.202Z"
   },
   {
    "duration": 9,
    "start_time": "2023-03-13T14:23:49.208Z"
   },
   {
    "duration": 12,
    "start_time": "2023-03-13T14:23:49.218Z"
   },
   {
    "duration": 268,
    "start_time": "2023-03-13T14:23:49.232Z"
   },
   {
    "duration": 6,
    "start_time": "2023-03-13T14:23:49.502Z"
   },
   {
    "duration": 10,
    "start_time": "2023-03-13T14:23:49.510Z"
   },
   {
    "duration": 66,
    "start_time": "2023-03-13T14:23:49.522Z"
   },
   {
    "duration": 9,
    "start_time": "2023-03-13T14:23:49.590Z"
   },
   {
    "duration": 8,
    "start_time": "2023-03-13T14:23:49.600Z"
   },
   {
    "duration": 4,
    "start_time": "2023-03-13T14:23:49.610Z"
   },
   {
    "duration": 24,
    "start_time": "2023-03-13T14:23:49.616Z"
   },
   {
    "duration": 422,
    "start_time": "2023-03-13T14:23:49.658Z"
   },
   {
    "duration": 6,
    "start_time": "2023-03-13T14:23:50.084Z"
   },
   {
    "duration": 16,
    "start_time": "2023-03-13T14:23:50.092Z"
   },
   {
    "duration": 7,
    "start_time": "2023-03-13T14:23:50.110Z"
   },
   {
    "duration": 7,
    "start_time": "2023-03-13T14:23:50.118Z"
   },
   {
    "duration": 17,
    "start_time": "2023-03-13T14:23:50.127Z"
   },
   {
    "duration": 68,
    "start_time": "2023-03-13T14:23:50.147Z"
   },
   {
    "duration": 25,
    "start_time": "2023-03-13T14:23:50.217Z"
   },
   {
    "duration": 16,
    "start_time": "2023-03-13T14:23:50.244Z"
   },
   {
    "duration": 12,
    "start_time": "2023-03-13T14:23:50.261Z"
   },
   {
    "duration": 34,
    "start_time": "2023-03-13T14:23:50.275Z"
   },
   {
    "duration": 31,
    "start_time": "2023-03-13T14:23:50.311Z"
   },
   {
    "duration": 7,
    "start_time": "2023-03-13T14:23:50.357Z"
   },
   {
    "duration": 71,
    "start_time": "2023-03-13T14:23:50.366Z"
   },
   {
    "duration": 39,
    "start_time": "2023-03-13T14:23:50.439Z"
   },
   {
    "duration": 9,
    "start_time": "2023-03-13T14:23:50.480Z"
   },
   {
    "duration": 3,
    "start_time": "2023-03-13T14:23:50.490Z"
   },
   {
    "duration": 66,
    "start_time": "2023-03-13T14:23:50.494Z"
   },
   {
    "duration": 40,
    "start_time": "2023-03-13T14:23:50.562Z"
   },
   {
    "duration": 12,
    "start_time": "2023-03-13T14:23:50.603Z"
   },
   {
    "duration": 21,
    "start_time": "2023-03-13T14:23:50.616Z"
   },
   {
    "duration": 18,
    "start_time": "2023-03-13T14:23:50.664Z"
   },
   {
    "duration": 3,
    "start_time": "2023-03-13T14:23:50.684Z"
   },
   {
    "duration": 75,
    "start_time": "2023-03-13T14:23:50.689Z"
   },
   {
    "duration": 24,
    "start_time": "2023-03-13T14:23:57.198Z"
   },
   {
    "duration": 24,
    "start_time": "2023-03-13T14:24:48.890Z"
   },
   {
    "duration": 13,
    "start_time": "2023-03-13T14:25:02.682Z"
   },
   {
    "duration": 28,
    "start_time": "2023-03-13T14:25:14.032Z"
   },
   {
    "duration": 24,
    "start_time": "2023-03-13T14:25:26.390Z"
   },
   {
    "duration": 18,
    "start_time": "2023-03-13T14:25:36.426Z"
   },
   {
    "duration": 111,
    "start_time": "2023-03-13T14:26:53.781Z"
   },
   {
    "duration": 11,
    "start_time": "2023-03-13T14:27:01.253Z"
   },
   {
    "duration": 11,
    "start_time": "2023-03-13T14:27:09.922Z"
   },
   {
    "duration": 14,
    "start_time": "2023-03-13T14:27:17.709Z"
   },
   {
    "duration": 19,
    "start_time": "2023-03-13T14:28:19.311Z"
   },
   {
    "duration": 53,
    "start_time": "2023-03-13T14:29:20.615Z"
   },
   {
    "duration": 33,
    "start_time": "2023-03-13T14:29:31.284Z"
   },
   {
    "duration": 69,
    "start_time": "2023-03-13T14:29:55.052Z"
   },
   {
    "duration": 26,
    "start_time": "2023-03-13T14:31:07.775Z"
   },
   {
    "duration": 34,
    "start_time": "2023-03-13T14:32:03.738Z"
   },
   {
    "duration": 59,
    "start_time": "2023-03-13T14:32:52.973Z"
   },
   {
    "duration": 22,
    "start_time": "2023-03-13T14:33:29.698Z"
   },
   {
    "duration": 32,
    "start_time": "2023-03-13T14:33:49.592Z"
   },
   {
    "duration": 19,
    "start_time": "2023-03-13T14:34:33.428Z"
   },
   {
    "duration": 13,
    "start_time": "2023-03-13T14:34:43.433Z"
   },
   {
    "duration": 28,
    "start_time": "2023-03-13T14:34:58.281Z"
   },
   {
    "duration": 33,
    "start_time": "2023-03-13T14:35:05.898Z"
   },
   {
    "duration": 18,
    "start_time": "2023-03-13T14:35:19.931Z"
   },
   {
    "duration": 98,
    "start_time": "2023-03-13T14:35:55.522Z"
   },
   {
    "duration": 26,
    "start_time": "2023-03-13T14:36:06.896Z"
   },
   {
    "duration": 34,
    "start_time": "2023-03-13T14:36:36.380Z"
   },
   {
    "duration": 27,
    "start_time": "2023-03-13T14:36:47.612Z"
   },
   {
    "duration": 22,
    "start_time": "2023-03-13T14:37:08.130Z"
   },
   {
    "duration": 57,
    "start_time": "2023-03-13T14:37:41.800Z"
   },
   {
    "duration": 40,
    "start_time": "2023-03-13T14:38:05.728Z"
   },
   {
    "duration": 71,
    "start_time": "2023-03-13T14:38:30.921Z"
   },
   {
    "duration": 32,
    "start_time": "2023-03-13T14:39:02.148Z"
   },
   {
    "duration": 51,
    "start_time": "2023-03-13T14:40:08.371Z"
   },
   {
    "duration": 3,
    "start_time": "2023-03-13T14:40:59.883Z"
   },
   {
    "duration": 27,
    "start_time": "2023-03-13T14:41:02.101Z"
   },
   {
    "duration": 50,
    "start_time": "2023-03-13T14:41:31.547Z"
   },
   {
    "duration": 31,
    "start_time": "2023-03-13T14:42:10.244Z"
   },
   {
    "duration": 35,
    "start_time": "2023-03-13T14:42:23.593Z"
   },
   {
    "duration": 15,
    "start_time": "2023-03-13T14:42:33.723Z"
   },
   {
    "duration": 23,
    "start_time": "2023-03-13T14:42:41.221Z"
   },
   {
    "duration": 826,
    "start_time": "2023-03-13T14:43:06.909Z"
   },
   {
    "duration": 293,
    "start_time": "2023-03-13T14:43:07.737Z"
   },
   {
    "duration": 4,
    "start_time": "2023-03-13T14:43:08.031Z"
   },
   {
    "duration": 14,
    "start_time": "2023-03-13T14:43:08.038Z"
   },
   {
    "duration": 94,
    "start_time": "2023-03-13T14:43:08.054Z"
   },
   {
    "duration": 37,
    "start_time": "2023-03-13T14:43:08.149Z"
   },
   {
    "duration": 34,
    "start_time": "2023-03-13T14:43:08.187Z"
   },
   {
    "duration": 2514,
    "start_time": "2023-03-13T14:43:08.223Z"
   },
   {
    "duration": 9,
    "start_time": "2023-03-13T14:43:10.739Z"
   },
   {
    "duration": 30,
    "start_time": "2023-03-13T14:43:10.750Z"
   },
   {
    "duration": 11,
    "start_time": "2023-03-13T14:43:10.782Z"
   },
   {
    "duration": 18,
    "start_time": "2023-03-13T14:43:10.800Z"
   },
   {
    "duration": 11,
    "start_time": "2023-03-13T14:43:10.820Z"
   },
   {
    "duration": 4,
    "start_time": "2023-03-13T14:43:10.833Z"
   },
   {
    "duration": 10,
    "start_time": "2023-03-13T14:43:10.839Z"
   },
   {
    "duration": 12,
    "start_time": "2023-03-13T14:43:10.851Z"
   },
   {
    "duration": 8,
    "start_time": "2023-03-13T14:43:10.869Z"
   },
   {
    "duration": 22,
    "start_time": "2023-03-13T14:43:10.885Z"
   },
   {
    "duration": 409,
    "start_time": "2023-03-13T14:43:10.909Z"
   },
   {
    "duration": 4,
    "start_time": "2023-03-13T14:43:11.320Z"
   },
   {
    "duration": 10,
    "start_time": "2023-03-13T14:43:11.326Z"
   },
   {
    "duration": 38,
    "start_time": "2023-03-13T14:43:11.338Z"
   },
   {
    "duration": 14,
    "start_time": "2023-03-13T14:43:11.386Z"
   },
   {
    "duration": 4,
    "start_time": "2023-03-13T14:43:11.402Z"
   },
   {
    "duration": 10,
    "start_time": "2023-03-13T14:43:11.408Z"
   },
   {
    "duration": 5,
    "start_time": "2023-03-13T14:43:11.420Z"
   },
   {
    "duration": 16,
    "start_time": "2023-03-13T14:43:11.427Z"
   },
   {
    "duration": 4,
    "start_time": "2023-03-13T14:43:11.448Z"
   },
   {
    "duration": 24,
    "start_time": "2023-03-13T14:43:11.454Z"
   },
   {
    "duration": 8,
    "start_time": "2023-03-13T14:43:11.480Z"
   },
   {
    "duration": 3,
    "start_time": "2023-03-13T14:43:11.489Z"
   },
   {
    "duration": 4,
    "start_time": "2023-03-13T14:43:11.494Z"
   },
   {
    "duration": 10,
    "start_time": "2023-03-13T14:43:11.499Z"
   },
   {
    "duration": 12,
    "start_time": "2023-03-13T14:43:11.511Z"
   },
   {
    "duration": 7,
    "start_time": "2023-03-13T14:43:11.525Z"
   },
   {
    "duration": 32,
    "start_time": "2023-03-13T14:43:11.534Z"
   },
   {
    "duration": 13,
    "start_time": "2023-03-13T14:43:11.575Z"
   },
   {
    "duration": 16,
    "start_time": "2023-03-13T14:43:11.592Z"
   },
   {
    "duration": 14,
    "start_time": "2023-03-13T14:43:11.609Z"
   },
   {
    "duration": 282,
    "start_time": "2023-03-13T14:43:11.625Z"
   },
   {
    "duration": 7,
    "start_time": "2023-03-13T14:43:11.908Z"
   },
   {
    "duration": 9,
    "start_time": "2023-03-13T14:43:11.917Z"
   },
   {
    "duration": 82,
    "start_time": "2023-03-13T14:43:11.928Z"
   },
   {
    "duration": 18,
    "start_time": "2023-03-13T14:43:12.012Z"
   },
   {
    "duration": 12,
    "start_time": "2023-03-13T14:43:12.037Z"
   },
   {
    "duration": 20,
    "start_time": "2023-03-13T14:43:12.051Z"
   },
   {
    "duration": 36,
    "start_time": "2023-03-13T14:43:12.074Z"
   },
   {
    "duration": 516,
    "start_time": "2023-03-13T14:43:12.117Z"
   },
   {
    "duration": 6,
    "start_time": "2023-03-13T14:43:12.635Z"
   },
   {
    "duration": 38,
    "start_time": "2023-03-13T14:43:12.643Z"
   },
   {
    "duration": 8,
    "start_time": "2023-03-13T14:43:12.683Z"
   },
   {
    "duration": 3,
    "start_time": "2023-03-13T14:43:12.693Z"
   },
   {
    "duration": 28,
    "start_time": "2023-03-13T14:43:12.698Z"
   },
   {
    "duration": 43,
    "start_time": "2023-03-13T14:43:12.727Z"
   },
   {
    "duration": 30,
    "start_time": "2023-03-13T14:43:12.772Z"
   },
   {
    "duration": 10,
    "start_time": "2023-03-13T14:43:12.804Z"
   },
   {
    "duration": 10,
    "start_time": "2023-03-13T14:43:12.816Z"
   },
   {
    "duration": 68,
    "start_time": "2023-03-13T14:43:12.827Z"
   },
   {
    "duration": 33,
    "start_time": "2023-03-13T14:43:12.901Z"
   },
   {
    "duration": 7,
    "start_time": "2023-03-13T14:43:12.936Z"
   },
   {
    "duration": 131,
    "start_time": "2023-03-13T14:43:12.945Z"
   },
   {
    "duration": 49,
    "start_time": "2023-03-13T14:43:13.079Z"
   },
   {
    "duration": 13,
    "start_time": "2023-03-13T14:43:13.130Z"
   },
   {
    "duration": 6,
    "start_time": "2023-03-13T14:43:13.145Z"
   },
   {
    "duration": 79,
    "start_time": "2023-03-13T14:43:13.153Z"
   },
   {
    "duration": 79,
    "start_time": "2023-03-13T14:43:13.233Z"
   },
   {
    "duration": 14,
    "start_time": "2023-03-13T14:43:13.314Z"
   },
   {
    "duration": 19,
    "start_time": "2023-03-13T14:43:13.330Z"
   },
   {
    "duration": 19,
    "start_time": "2023-03-13T14:43:13.351Z"
   },
   {
    "duration": 8,
    "start_time": "2023-03-13T14:43:13.372Z"
   },
   {
    "duration": 97,
    "start_time": "2023-03-13T14:43:13.381Z"
   },
   {
    "duration": 3,
    "start_time": "2023-03-13T14:43:13.483Z"
   },
   {
    "duration": 29,
    "start_time": "2023-03-13T14:43:13.491Z"
   },
   {
    "duration": 22,
    "start_time": "2023-03-13T14:43:13.525Z"
   },
   {
    "duration": 119,
    "start_time": "2023-03-13T14:43:19.701Z"
   },
   {
    "duration": 5,
    "start_time": "2023-03-13T14:43:26.828Z"
   },
   {
    "duration": 7,
    "start_time": "2023-03-13T14:43:27.385Z"
   },
   {
    "duration": 10,
    "start_time": "2023-03-13T14:43:27.882Z"
   },
   {
    "duration": 10,
    "start_time": "2023-03-13T14:43:28.382Z"
   },
   {
    "duration": 115,
    "start_time": "2023-03-13T14:44:03.188Z"
   },
   {
    "duration": 551,
    "start_time": "2023-03-13T14:44:10.831Z"
   },
   {
    "duration": 5,
    "start_time": "2023-03-13T14:46:04.385Z"
   },
   {
    "duration": 1669,
    "start_time": "2023-03-13T14:56:38.043Z"
   },
   {
    "duration": 174,
    "start_time": "2023-03-13T14:56:48.645Z"
   },
   {
    "duration": 153,
    "start_time": "2023-03-13T14:56:55.142Z"
   },
   {
    "duration": 153,
    "start_time": "2023-03-13T14:57:19.822Z"
   },
   {
    "duration": 165,
    "start_time": "2023-03-13T14:57:46.378Z"
   },
   {
    "duration": 164,
    "start_time": "2023-03-13T14:58:27.329Z"
   },
   {
    "duration": 147,
    "start_time": "2023-03-13T14:58:30.797Z"
   },
   {
    "duration": 139,
    "start_time": "2023-03-13T14:59:38.392Z"
   },
   {
    "duration": 166,
    "start_time": "2023-03-13T14:59:44.615Z"
   },
   {
    "duration": 167,
    "start_time": "2023-03-13T14:59:51.653Z"
   },
   {
    "duration": 208,
    "start_time": "2023-03-13T14:59:58.035Z"
   },
   {
    "duration": 156,
    "start_time": "2023-03-13T15:00:17.977Z"
   },
   {
    "duration": 194,
    "start_time": "2023-03-13T15:00:30.135Z"
   },
   {
    "duration": 165,
    "start_time": "2023-03-13T15:00:41.603Z"
   },
   {
    "duration": 201,
    "start_time": "2023-03-13T15:00:48.709Z"
   },
   {
    "duration": 175,
    "start_time": "2023-03-13T15:00:59.378Z"
   },
   {
    "duration": 162,
    "start_time": "2023-03-13T15:01:29.952Z"
   },
   {
    "duration": 152,
    "start_time": "2023-03-13T15:01:58.547Z"
   },
   {
    "duration": 187,
    "start_time": "2023-03-13T15:02:17.952Z"
   },
   {
    "duration": 162,
    "start_time": "2023-03-13T15:03:39.214Z"
   },
   {
    "duration": 182,
    "start_time": "2023-03-13T15:05:03.716Z"
   },
   {
    "duration": 297,
    "start_time": "2023-03-13T15:05:28.545Z"
   },
   {
    "duration": 215,
    "start_time": "2023-03-13T15:06:36.905Z"
   },
   {
    "duration": 166,
    "start_time": "2023-03-13T15:06:44.818Z"
   },
   {
    "duration": 174,
    "start_time": "2023-03-13T15:06:55.013Z"
   },
   {
    "duration": 176,
    "start_time": "2023-03-13T15:07:25.942Z"
   },
   {
    "duration": 184,
    "start_time": "2023-03-13T15:07:46.504Z"
   },
   {
    "duration": 207,
    "start_time": "2023-03-13T15:08:04.909Z"
   },
   {
    "duration": 240,
    "start_time": "2023-03-13T15:08:25.394Z"
   },
   {
    "duration": 191,
    "start_time": "2023-03-13T15:08:31.948Z"
   },
   {
    "duration": 192,
    "start_time": "2023-03-13T15:08:40.946Z"
   },
   {
    "duration": 205,
    "start_time": "2023-03-13T15:09:21.806Z"
   },
   {
    "duration": 299,
    "start_time": "2023-03-13T15:09:31.409Z"
   },
   {
    "duration": 202,
    "start_time": "2023-03-13T15:09:39.106Z"
   },
   {
    "duration": 274,
    "start_time": "2023-03-13T15:12:00.237Z"
   },
   {
    "duration": 222,
    "start_time": "2023-03-13T15:12:25.139Z"
   },
   {
    "duration": 206,
    "start_time": "2023-03-13T15:12:52.530Z"
   },
   {
    "duration": 310,
    "start_time": "2023-03-13T15:14:45.529Z"
   },
   {
    "duration": 76,
    "start_time": "2023-03-13T15:18:30.024Z"
   },
   {
    "duration": 35,
    "start_time": "2023-03-13T15:18:38.504Z"
   },
   {
    "duration": 8,
    "start_time": "2023-03-13T15:21:34.916Z"
   },
   {
    "duration": 3,
    "start_time": "2023-03-13T15:21:36.641Z"
   },
   {
    "duration": 151,
    "start_time": "2023-03-13T15:21:38.549Z"
   },
   {
    "duration": 9,
    "start_time": "2023-03-13T15:21:44.823Z"
   },
   {
    "duration": 2,
    "start_time": "2023-03-13T15:21:45.036Z"
   },
   {
    "duration": 123,
    "start_time": "2023-03-13T15:21:45.605Z"
   },
   {
    "duration": 3,
    "start_time": "2023-03-13T15:21:45.945Z"
   },
   {
    "duration": 34,
    "start_time": "2023-03-13T15:21:46.184Z"
   },
   {
    "duration": 26,
    "start_time": "2023-03-13T15:21:46.409Z"
   },
   {
    "duration": 125,
    "start_time": "2023-03-13T15:21:46.993Z"
   },
   {
    "duration": 4,
    "start_time": "2023-03-13T15:21:47.616Z"
   },
   {
    "duration": 5,
    "start_time": "2023-03-13T15:21:47.836Z"
   },
   {
    "duration": 8,
    "start_time": "2023-03-13T15:21:48.075Z"
   },
   {
    "duration": 4,
    "start_time": "2023-03-13T15:21:48.315Z"
   },
   {
    "duration": 490,
    "start_time": "2023-03-13T15:21:48.510Z"
   },
   {
    "duration": 18,
    "start_time": "2023-03-13T15:21:49.009Z"
   },
   {
    "duration": 156,
    "start_time": "2023-03-13T15:21:51.087Z"
   },
   {
    "duration": 187,
    "start_time": "2023-03-13T15:21:51.893Z"
   },
   {
    "duration": 248,
    "start_time": "2023-03-13T15:21:52.779Z"
   },
   {
    "duration": 179,
    "start_time": "2023-03-13T15:21:53.805Z"
   },
   {
    "duration": 246,
    "start_time": "2023-03-13T15:21:55.397Z"
   },
   {
    "duration": 208,
    "start_time": "2023-03-13T15:21:57.113Z"
   },
   {
    "duration": 225,
    "start_time": "2023-03-13T15:21:58.588Z"
   },
   {
    "duration": 150,
    "start_time": "2023-03-13T15:22:01.217Z"
   },
   {
    "duration": 199,
    "start_time": "2023-03-13T15:22:03.618Z"
   },
   {
    "duration": 184,
    "start_time": "2023-03-13T15:23:33.318Z"
   },
   {
    "duration": 247,
    "start_time": "2023-03-13T15:24:41.085Z"
   },
   {
    "duration": 216,
    "start_time": "2023-03-13T15:25:04.028Z"
   },
   {
    "duration": 171,
    "start_time": "2023-03-13T15:25:40.014Z"
   },
   {
    "duration": 344,
    "start_time": "2023-03-13T15:28:31.456Z"
   },
   {
    "duration": 271,
    "start_time": "2023-03-13T15:29:06.331Z"
   },
   {
    "duration": 229,
    "start_time": "2023-03-13T15:29:18.219Z"
   },
   {
    "duration": 201,
    "start_time": "2023-03-13T15:29:23.905Z"
   },
   {
    "duration": 227,
    "start_time": "2023-03-13T15:29:30.237Z"
   },
   {
    "duration": 252,
    "start_time": "2023-03-13T15:29:36.044Z"
   },
   {
    "duration": 306,
    "start_time": "2023-03-13T15:29:47.027Z"
   },
   {
    "duration": 267,
    "start_time": "2023-03-13T15:29:51.949Z"
   },
   {
    "duration": 307,
    "start_time": "2023-03-13T15:29:56.437Z"
   },
   {
    "duration": 201,
    "start_time": "2023-03-13T15:30:02.435Z"
   },
   {
    "duration": 280,
    "start_time": "2023-03-13T15:30:30.219Z"
   },
   {
    "duration": 438,
    "start_time": "2023-03-13T15:30:44.649Z"
   },
   {
    "duration": 230,
    "start_time": "2023-03-13T15:32:22.586Z"
   },
   {
    "duration": 225,
    "start_time": "2023-03-13T15:32:36.023Z"
   },
   {
    "duration": 250,
    "start_time": "2023-03-13T15:33:49.581Z"
   },
   {
    "duration": 1546,
    "start_time": "2023-03-13T15:38:15.326Z"
   },
   {
    "duration": 1367,
    "start_time": "2023-03-13T15:38:16.877Z"
   },
   {
    "duration": 5,
    "start_time": "2023-03-13T15:38:18.261Z"
   },
   {
    "duration": 29,
    "start_time": "2023-03-13T15:38:18.272Z"
   },
   {
    "duration": 114,
    "start_time": "2023-03-13T15:38:18.306Z"
   },
   {
    "duration": 58,
    "start_time": "2023-03-13T15:38:18.426Z"
   },
   {
    "duration": 60,
    "start_time": "2023-03-13T15:38:18.492Z"
   },
   {
    "duration": 3195,
    "start_time": "2023-03-13T15:38:18.557Z"
   },
   {
    "duration": 33,
    "start_time": "2023-03-13T15:38:21.762Z"
   },
   {
    "duration": 26,
    "start_time": "2023-03-13T15:38:21.806Z"
   },
   {
    "duration": 15,
    "start_time": "2023-03-13T15:38:21.837Z"
   },
   {
    "duration": 18,
    "start_time": "2023-03-13T15:38:21.858Z"
   },
   {
    "duration": 22,
    "start_time": "2023-03-13T15:38:21.881Z"
   },
   {
    "duration": 10,
    "start_time": "2023-03-13T15:38:21.907Z"
   },
   {
    "duration": 19,
    "start_time": "2023-03-13T15:38:21.925Z"
   },
   {
    "duration": 7,
    "start_time": "2023-03-13T15:38:21.951Z"
   },
   {
    "duration": 13,
    "start_time": "2023-03-13T15:38:21.963Z"
   },
   {
    "duration": 31,
    "start_time": "2023-03-13T15:38:21.981Z"
   },
   {
    "duration": 547,
    "start_time": "2023-03-13T15:38:22.017Z"
   },
   {
    "duration": 12,
    "start_time": "2023-03-13T15:38:22.570Z"
   },
   {
    "duration": 21,
    "start_time": "2023-03-13T15:38:22.587Z"
   },
   {
    "duration": 8,
    "start_time": "2023-03-13T15:38:22.613Z"
   },
   {
    "duration": 14,
    "start_time": "2023-03-13T15:38:22.627Z"
   },
   {
    "duration": 8,
    "start_time": "2023-03-13T15:38:22.649Z"
   },
   {
    "duration": 16,
    "start_time": "2023-03-13T15:38:22.668Z"
   },
   {
    "duration": 7,
    "start_time": "2023-03-13T15:38:22.688Z"
   },
   {
    "duration": 16,
    "start_time": "2023-03-13T15:38:22.701Z"
   },
   {
    "duration": 14,
    "start_time": "2023-03-13T15:38:22.729Z"
   },
   {
    "duration": 24,
    "start_time": "2023-03-13T15:38:22.747Z"
   },
   {
    "duration": 11,
    "start_time": "2023-03-13T15:38:22.777Z"
   },
   {
    "duration": 8,
    "start_time": "2023-03-13T15:38:22.798Z"
   },
   {
    "duration": 25,
    "start_time": "2023-03-13T15:38:22.810Z"
   },
   {
    "duration": 22,
    "start_time": "2023-03-13T15:38:22.850Z"
   },
   {
    "duration": 30,
    "start_time": "2023-03-13T15:38:22.886Z"
   },
   {
    "duration": 20,
    "start_time": "2023-03-13T15:38:22.921Z"
   },
   {
    "duration": 39,
    "start_time": "2023-03-13T15:38:22.953Z"
   },
   {
    "duration": 27,
    "start_time": "2023-03-13T15:38:22.997Z"
   },
   {
    "duration": 35,
    "start_time": "2023-03-13T15:38:23.033Z"
   },
   {
    "duration": 19,
    "start_time": "2023-03-13T15:38:23.073Z"
   },
   {
    "duration": 491,
    "start_time": "2023-03-13T15:38:23.099Z"
   },
   {
    "duration": 25,
    "start_time": "2023-03-13T15:38:23.595Z"
   },
   {
    "duration": 24,
    "start_time": "2023-03-13T15:38:23.624Z"
   },
   {
    "duration": 60,
    "start_time": "2023-03-13T15:38:23.652Z"
   },
   {
    "duration": 19,
    "start_time": "2023-03-13T15:38:23.717Z"
   },
   {
    "duration": 13,
    "start_time": "2023-03-13T15:38:23.745Z"
   },
   {
    "duration": 6,
    "start_time": "2023-03-13T15:38:23.764Z"
   },
   {
    "duration": 89,
    "start_time": "2023-03-13T15:38:23.775Z"
   },
   {
    "duration": 738,
    "start_time": "2023-03-13T15:38:23.878Z"
   },
   {
    "duration": 13,
    "start_time": "2023-03-13T15:38:24.620Z"
   },
   {
    "duration": 23,
    "start_time": "2023-03-13T15:38:24.637Z"
   },
   {
    "duration": 36,
    "start_time": "2023-03-13T15:38:24.664Z"
   },
   {
    "duration": 27,
    "start_time": "2023-03-13T15:38:24.709Z"
   },
   {
    "duration": 47,
    "start_time": "2023-03-13T15:38:24.745Z"
   },
   {
    "duration": 63,
    "start_time": "2023-03-13T15:38:24.797Z"
   },
   {
    "duration": 47,
    "start_time": "2023-03-13T15:38:24.865Z"
   },
   {
    "duration": 15,
    "start_time": "2023-03-13T15:38:24.933Z"
   },
   {
    "duration": 23,
    "start_time": "2023-03-13T15:38:24.956Z"
   },
   {
    "duration": 81,
    "start_time": "2023-03-13T15:38:24.983Z"
   },
   {
    "duration": 62,
    "start_time": "2023-03-13T15:38:25.070Z"
   },
   {
    "duration": 15,
    "start_time": "2023-03-13T15:38:25.137Z"
   },
   {
    "duration": 130,
    "start_time": "2023-03-13T15:38:25.161Z"
   },
   {
    "duration": 68,
    "start_time": "2023-03-13T15:38:25.296Z"
   },
   {
    "duration": 18,
    "start_time": "2023-03-13T15:38:25.370Z"
   },
   {
    "duration": 15,
    "start_time": "2023-03-13T15:38:25.393Z"
   },
   {
    "duration": 113,
    "start_time": "2023-03-13T15:38:25.413Z"
   },
   {
    "duration": 73,
    "start_time": "2023-03-13T15:38:25.531Z"
   },
   {
    "duration": 30,
    "start_time": "2023-03-13T15:38:25.609Z"
   },
   {
    "duration": 127,
    "start_time": "2023-03-13T15:38:25.647Z"
   },
   {
    "duration": 33,
    "start_time": "2023-03-13T15:38:25.779Z"
   },
   {
    "duration": 15,
    "start_time": "2023-03-13T15:38:25.820Z"
   },
   {
    "duration": 76,
    "start_time": "2023-03-13T15:38:25.844Z"
   },
   {
    "duration": 15,
    "start_time": "2023-03-13T15:38:25.925Z"
   },
   {
    "duration": 8,
    "start_time": "2023-03-13T15:38:25.945Z"
   },
   {
    "duration": 162,
    "start_time": "2023-03-13T15:38:25.958Z"
   },
   {
    "duration": 33,
    "start_time": "2023-03-13T15:38:26.126Z"
   },
   {
    "duration": 74,
    "start_time": "2023-03-13T15:38:26.170Z"
   },
   {
    "duration": 50,
    "start_time": "2023-03-13T15:38:26.262Z"
   },
   {
    "duration": 111,
    "start_time": "2023-03-13T15:38:26.317Z"
   },
   {
    "duration": 14,
    "start_time": "2023-03-13T15:38:26.432Z"
   },
   {
    "duration": 15,
    "start_time": "2023-03-13T15:38:26.453Z"
   },
   {
    "duration": 11,
    "start_time": "2023-03-13T15:38:26.473Z"
   },
   {
    "duration": 11,
    "start_time": "2023-03-13T15:38:26.493Z"
   },
   {
    "duration": 867,
    "start_time": "2023-03-13T15:38:26.513Z"
   },
   {
    "duration": 11,
    "start_time": "2023-03-13T15:38:27.385Z"
   },
   {
    "duration": 283,
    "start_time": "2023-03-13T15:38:27.401Z"
   },
   {
    "duration": 281,
    "start_time": "2023-03-13T15:38:27.689Z"
   },
   {
    "duration": 284,
    "start_time": "2023-03-13T15:38:27.975Z"
   },
   {
    "duration": 260,
    "start_time": "2023-03-13T15:38:28.264Z"
   },
   {
    "duration": 240,
    "start_time": "2023-03-13T15:38:28.529Z"
   },
   {
    "duration": 239,
    "start_time": "2023-03-13T15:38:28.773Z"
   },
   {
    "duration": 251,
    "start_time": "2023-03-13T15:38:29.025Z"
   },
   {
    "duration": 231,
    "start_time": "2023-03-13T15:38:29.281Z"
   },
   {
    "duration": 272,
    "start_time": "2023-03-13T15:38:29.518Z"
   },
   {
    "duration": 396,
    "start_time": "2023-03-13T15:38:29.796Z"
   },
   {
    "duration": 300,
    "start_time": "2023-03-13T15:38:30.204Z"
   },
   {
    "duration": 338,
    "start_time": "2023-03-13T15:38:30.517Z"
   },
   {
    "duration": 192,
    "start_time": "2023-03-13T15:38:30.860Z"
   },
   {
    "duration": 223,
    "start_time": "2023-03-13T15:38:31.057Z"
   },
   {
    "duration": 239,
    "start_time": "2023-03-13T15:38:31.286Z"
   },
   {
    "duration": 362,
    "start_time": "2023-03-13T15:38:31.533Z"
   },
   {
    "duration": 998,
    "start_time": "2023-03-14T07:43:52.149Z"
   },
   {
    "duration": 543,
    "start_time": "2023-03-14T07:43:53.149Z"
   },
   {
    "duration": 4,
    "start_time": "2023-03-14T07:43:53.694Z"
   },
   {
    "duration": 22,
    "start_time": "2023-03-14T07:43:53.700Z"
   },
   {
    "duration": 110,
    "start_time": "2023-03-14T07:43:53.724Z"
   },
   {
    "duration": 57,
    "start_time": "2023-03-14T07:43:53.836Z"
   },
   {
    "duration": 69,
    "start_time": "2023-03-14T07:43:53.895Z"
   },
   {
    "duration": 2274,
    "start_time": "2023-03-14T07:43:53.966Z"
   },
   {
    "duration": 15,
    "start_time": "2023-03-14T07:43:56.243Z"
   },
   {
    "duration": 11,
    "start_time": "2023-03-14T07:43:56.262Z"
   },
   {
    "duration": 11,
    "start_time": "2023-03-14T07:43:56.275Z"
   },
   {
    "duration": 14,
    "start_time": "2023-03-14T07:43:56.288Z"
   },
   {
    "duration": 16,
    "start_time": "2023-03-14T07:43:56.304Z"
   },
   {
    "duration": 7,
    "start_time": "2023-03-14T07:43:56.323Z"
   },
   {
    "duration": 17,
    "start_time": "2023-03-14T07:43:56.364Z"
   },
   {
    "duration": 6,
    "start_time": "2023-03-14T07:43:56.383Z"
   },
   {
    "duration": 17,
    "start_time": "2023-03-14T07:43:56.391Z"
   },
   {
    "duration": 23,
    "start_time": "2023-03-14T07:43:56.410Z"
   },
   {
    "duration": 477,
    "start_time": "2023-03-14T07:43:56.436Z"
   },
   {
    "duration": 5,
    "start_time": "2023-03-14T07:43:56.916Z"
   },
   {
    "duration": 20,
    "start_time": "2023-03-14T07:43:56.923Z"
   },
   {
    "duration": 19,
    "start_time": "2023-03-14T07:43:56.945Z"
   },
   {
    "duration": 6,
    "start_time": "2023-03-14T07:43:56.966Z"
   },
   {
    "duration": 19,
    "start_time": "2023-03-14T07:43:56.974Z"
   },
   {
    "duration": 12,
    "start_time": "2023-03-14T07:43:56.995Z"
   },
   {
    "duration": 7,
    "start_time": "2023-03-14T07:43:57.009Z"
   },
   {
    "duration": 7,
    "start_time": "2023-03-14T07:43:57.018Z"
   },
   {
    "duration": 37,
    "start_time": "2023-03-14T07:43:57.031Z"
   },
   {
    "duration": 23,
    "start_time": "2023-03-14T07:43:57.070Z"
   },
   {
    "duration": 7,
    "start_time": "2023-03-14T07:43:57.096Z"
   },
   {
    "duration": 9,
    "start_time": "2023-03-14T07:43:57.105Z"
   },
   {
    "duration": 9,
    "start_time": "2023-03-14T07:43:57.116Z"
   },
   {
    "duration": 36,
    "start_time": "2023-03-14T07:43:57.128Z"
   },
   {
    "duration": 11,
    "start_time": "2023-03-14T07:43:57.166Z"
   },
   {
    "duration": 12,
    "start_time": "2023-03-14T07:43:57.179Z"
   },
   {
    "duration": 24,
    "start_time": "2023-03-14T07:43:57.193Z"
   },
   {
    "duration": 7,
    "start_time": "2023-03-14T07:43:57.219Z"
   },
   {
    "duration": 38,
    "start_time": "2023-03-14T07:43:57.228Z"
   },
   {
    "duration": 7,
    "start_time": "2023-03-14T07:43:57.268Z"
   },
   {
    "duration": 242,
    "start_time": "2023-03-14T07:43:57.277Z"
   },
   {
    "duration": 8,
    "start_time": "2023-03-14T07:43:57.521Z"
   },
   {
    "duration": 24,
    "start_time": "2023-03-14T07:43:57.531Z"
   },
   {
    "duration": 44,
    "start_time": "2023-03-14T07:43:57.564Z"
   },
   {
    "duration": 14,
    "start_time": "2023-03-14T07:43:57.610Z"
   },
   {
    "duration": 10,
    "start_time": "2023-03-14T07:43:57.626Z"
   },
   {
    "duration": 6,
    "start_time": "2023-03-14T07:43:57.664Z"
   },
   {
    "duration": 26,
    "start_time": "2023-03-14T07:43:57.673Z"
   },
   {
    "duration": 512,
    "start_time": "2023-03-14T07:43:57.701Z"
   },
   {
    "duration": 6,
    "start_time": "2023-03-14T07:43:58.215Z"
   },
   {
    "duration": 11,
    "start_time": "2023-03-14T07:43:58.223Z"
   },
   {
    "duration": 32,
    "start_time": "2023-03-14T07:43:58.236Z"
   },
   {
    "duration": 3,
    "start_time": "2023-03-14T07:43:58.270Z"
   },
   {
    "duration": 22,
    "start_time": "2023-03-14T07:43:58.275Z"
   },
   {
    "duration": 66,
    "start_time": "2023-03-14T07:43:58.299Z"
   },
   {
    "duration": 31,
    "start_time": "2023-03-14T07:43:58.367Z"
   },
   {
    "duration": 8,
    "start_time": "2023-03-14T07:43:58.400Z"
   },
   {
    "duration": 13,
    "start_time": "2023-03-14T07:43:58.411Z"
   },
   {
    "duration": 82,
    "start_time": "2023-03-14T07:43:58.426Z"
   },
   {
    "duration": 34,
    "start_time": "2023-03-14T07:43:58.510Z"
   },
   {
    "duration": 25,
    "start_time": "2023-03-14T07:43:58.545Z"
   },
   {
    "duration": 95,
    "start_time": "2023-03-14T07:43:58.572Z"
   },
   {
    "duration": 38,
    "start_time": "2023-03-14T07:43:58.669Z"
   },
   {
    "duration": 8,
    "start_time": "2023-03-14T07:43:58.709Z"
   },
   {
    "duration": 4,
    "start_time": "2023-03-14T07:43:58.719Z"
   },
   {
    "duration": 89,
    "start_time": "2023-03-14T07:43:58.725Z"
   },
   {
    "duration": 54,
    "start_time": "2023-03-14T07:43:58.815Z"
   },
   {
    "duration": 14,
    "start_time": "2023-03-14T07:43:58.871Z"
   },
   {
    "duration": 31,
    "start_time": "2023-03-14T07:43:58.887Z"
   },
   {
    "duration": 18,
    "start_time": "2023-03-14T07:43:58.921Z"
   },
   {
    "duration": 4,
    "start_time": "2023-03-14T07:43:58.965Z"
   },
   {
    "duration": 32,
    "start_time": "2023-03-14T07:43:58.971Z"
   },
   {
    "duration": 8,
    "start_time": "2023-03-14T07:43:59.005Z"
   },
   {
    "duration": 3,
    "start_time": "2023-03-14T07:43:59.015Z"
   },
   {
    "duration": 123,
    "start_time": "2023-03-14T07:43:59.020Z"
   },
   {
    "duration": 4,
    "start_time": "2023-03-14T07:43:59.145Z"
   },
   {
    "duration": 33,
    "start_time": "2023-03-14T07:43:59.151Z"
   },
   {
    "duration": 45,
    "start_time": "2023-03-14T07:43:59.185Z"
   },
   {
    "duration": 90,
    "start_time": "2023-03-14T07:43:59.232Z"
   },
   {
    "duration": 5,
    "start_time": "2023-03-14T07:43:59.324Z"
   },
   {
    "duration": 19,
    "start_time": "2023-03-14T07:43:59.331Z"
   },
   {
    "duration": 18,
    "start_time": "2023-03-14T07:43:59.353Z"
   },
   {
    "duration": 9,
    "start_time": "2023-03-14T07:43:59.379Z"
   },
   {
    "duration": 575,
    "start_time": "2023-03-14T07:43:59.390Z"
   },
   {
    "duration": 9,
    "start_time": "2023-03-14T07:43:59.968Z"
   },
   {
    "duration": 174,
    "start_time": "2023-03-14T07:44:13.812Z"
   },
   {
    "duration": 209,
    "start_time": "2023-03-14T07:58:14.113Z"
   },
   {
    "duration": 169,
    "start_time": "2023-03-14T08:00:42.260Z"
   },
   {
    "duration": 166,
    "start_time": "2023-03-14T08:03:27.226Z"
   },
   {
    "duration": 699,
    "start_time": "2023-03-14T08:09:20.381Z"
   },
   {
    "duration": 239,
    "start_time": "2023-03-14T08:09:21.082Z"
   },
   {
    "duration": 3,
    "start_time": "2023-03-14T08:09:21.323Z"
   },
   {
    "duration": 30,
    "start_time": "2023-03-14T08:09:21.329Z"
   },
   {
    "duration": 92,
    "start_time": "2023-03-14T08:09:21.361Z"
   },
   {
    "duration": 41,
    "start_time": "2023-03-14T08:09:21.455Z"
   },
   {
    "duration": 33,
    "start_time": "2023-03-14T08:09:21.498Z"
   },
   {
    "duration": 2147,
    "start_time": "2023-03-14T08:09:21.533Z"
   },
   {
    "duration": 10,
    "start_time": "2023-03-14T08:09:23.681Z"
   },
   {
    "duration": 9,
    "start_time": "2023-03-14T08:09:23.695Z"
   },
   {
    "duration": 20,
    "start_time": "2023-03-14T08:09:23.706Z"
   },
   {
    "duration": 8,
    "start_time": "2023-03-14T08:09:23.728Z"
   },
   {
    "duration": 12,
    "start_time": "2023-03-14T08:09:23.738Z"
   },
   {
    "duration": 17,
    "start_time": "2023-03-14T08:09:23.752Z"
   },
   {
    "duration": 22,
    "start_time": "2023-03-14T08:09:23.774Z"
   },
   {
    "duration": 13,
    "start_time": "2023-03-14T08:09:23.798Z"
   },
   {
    "duration": 6,
    "start_time": "2023-03-14T08:09:23.814Z"
   },
   {
    "duration": 17,
    "start_time": "2023-03-14T08:09:23.822Z"
   },
   {
    "duration": 347,
    "start_time": "2023-03-14T08:09:23.841Z"
   },
   {
    "duration": 5,
    "start_time": "2023-03-14T08:09:40.197Z"
   },
   {
    "duration": 8,
    "start_time": "2023-03-14T08:09:41.624Z"
   },
   {
    "duration": 14,
    "start_time": "2023-03-14T08:09:48.163Z"
   },
   {
    "duration": 5,
    "start_time": "2023-03-14T08:11:36.887Z"
   },
   {
    "duration": 8,
    "start_time": "2023-03-14T08:11:38.211Z"
   },
   {
    "duration": 11,
    "start_time": "2023-03-14T08:11:39.165Z"
   },
   {
    "duration": 5,
    "start_time": "2023-03-14T08:11:48.876Z"
   },
   {
    "duration": 8,
    "start_time": "2023-03-14T08:12:20.205Z"
   },
   {
    "duration": 11,
    "start_time": "2023-03-14T08:12:24.160Z"
   },
   {
    "duration": 5,
    "start_time": "2023-03-14T08:12:57.800Z"
   },
   {
    "duration": 95,
    "start_time": "2023-03-14T08:13:03.031Z"
   },
   {
    "duration": 9,
    "start_time": "2023-03-14T08:13:17.155Z"
   },
   {
    "duration": 6,
    "start_time": "2023-03-14T08:13:36.216Z"
   },
   {
    "duration": 19,
    "start_time": "2023-03-14T08:13:46.718Z"
   },
   {
    "duration": 7,
    "start_time": "2023-03-14T08:13:47.399Z"
   },
   {
    "duration": 10,
    "start_time": "2023-03-14T08:13:48.951Z"
   },
   {
    "duration": 801,
    "start_time": "2023-03-14T08:14:16.856Z"
   },
   {
    "duration": 261,
    "start_time": "2023-03-14T08:14:17.658Z"
   },
   {
    "duration": 3,
    "start_time": "2023-03-14T08:14:17.922Z"
   },
   {
    "duration": 20,
    "start_time": "2023-03-14T08:14:17.928Z"
   },
   {
    "duration": 106,
    "start_time": "2023-03-14T08:14:17.950Z"
   },
   {
    "duration": 46,
    "start_time": "2023-03-14T08:14:18.063Z"
   },
   {
    "duration": 30,
    "start_time": "2023-03-14T08:14:18.112Z"
   },
   {
    "duration": 2151,
    "start_time": "2023-03-14T08:14:18.144Z"
   },
   {
    "duration": 10,
    "start_time": "2023-03-14T08:14:20.297Z"
   },
   {
    "duration": 25,
    "start_time": "2023-03-14T08:14:20.309Z"
   },
   {
    "duration": 19,
    "start_time": "2023-03-14T08:14:20.336Z"
   },
   {
    "duration": 15,
    "start_time": "2023-03-14T08:14:20.357Z"
   },
   {
    "duration": 39,
    "start_time": "2023-03-14T08:14:20.373Z"
   },
   {
    "duration": 14,
    "start_time": "2023-03-14T08:14:20.414Z"
   },
   {
    "duration": 14,
    "start_time": "2023-03-14T08:14:20.429Z"
   },
   {
    "duration": 10,
    "start_time": "2023-03-14T08:14:20.445Z"
   },
   {
    "duration": 8,
    "start_time": "2023-03-14T08:14:20.457Z"
   },
   {
    "duration": 49,
    "start_time": "2023-03-14T08:14:20.472Z"
   },
   {
    "duration": 341,
    "start_time": "2023-03-14T08:14:20.524Z"
   },
   {
    "duration": 9,
    "start_time": "2023-03-14T08:14:20.867Z"
   },
   {
    "duration": 41,
    "start_time": "2023-03-14T08:14:20.880Z"
   },
   {
    "duration": 15,
    "start_time": "2023-03-14T08:14:20.923Z"
   },
   {
    "duration": 57,
    "start_time": "2023-03-14T08:14:20.940Z"
   },
   {
    "duration": 24,
    "start_time": "2023-03-14T08:14:20.999Z"
   },
   {
    "duration": 17,
    "start_time": "2023-03-14T08:14:21.025Z"
   },
   {
    "duration": 39,
    "start_time": "2023-03-14T08:14:21.044Z"
   },
   {
    "duration": 44,
    "start_time": "2023-03-14T08:14:21.086Z"
   },
   {
    "duration": 11,
    "start_time": "2023-03-14T08:14:21.136Z"
   },
   {
    "duration": 33,
    "start_time": "2023-03-14T08:14:21.149Z"
   },
   {
    "duration": 49,
    "start_time": "2023-03-14T08:14:21.186Z"
   },
   {
    "duration": 11,
    "start_time": "2023-03-14T08:14:21.237Z"
   },
   {
    "duration": 32,
    "start_time": "2023-03-14T08:14:21.250Z"
   },
   {
    "duration": 27,
    "start_time": "2023-03-14T08:14:21.283Z"
   },
   {
    "duration": 23,
    "start_time": "2023-03-14T08:14:21.312Z"
   },
   {
    "duration": 13,
    "start_time": "2023-03-14T08:14:21.336Z"
   },
   {
    "duration": 266,
    "start_time": "2023-03-14T08:14:21.351Z"
   },
   {
    "duration": 6,
    "start_time": "2023-03-14T08:14:21.619Z"
   },
   {
    "duration": 18,
    "start_time": "2023-03-14T08:14:21.627Z"
   },
   {
    "duration": 55,
    "start_time": "2023-03-14T08:14:21.647Z"
   },
   {
    "duration": 15,
    "start_time": "2023-03-14T08:14:21.704Z"
   },
   {
    "duration": 26,
    "start_time": "2023-03-14T08:14:21.721Z"
   },
   {
    "duration": 10,
    "start_time": "2023-03-14T08:14:21.749Z"
   },
   {
    "duration": 51,
    "start_time": "2023-03-14T08:14:21.761Z"
   },
   {
    "duration": 495,
    "start_time": "2023-03-14T08:14:21.815Z"
   },
   {
    "duration": 6,
    "start_time": "2023-03-14T08:14:22.311Z"
   },
   {
    "duration": 20,
    "start_time": "2023-03-14T08:14:22.319Z"
   },
   {
    "duration": 22,
    "start_time": "2023-03-14T08:14:22.342Z"
   },
   {
    "duration": 39,
    "start_time": "2023-03-14T08:14:22.366Z"
   },
   {
    "duration": 30,
    "start_time": "2023-03-14T08:14:22.407Z"
   },
   {
    "duration": 49,
    "start_time": "2023-03-14T08:14:22.439Z"
   },
   {
    "duration": 30,
    "start_time": "2023-03-14T08:14:22.490Z"
   },
   {
    "duration": 7,
    "start_time": "2023-03-14T08:14:22.522Z"
   },
   {
    "duration": 24,
    "start_time": "2023-03-14T08:14:22.531Z"
   },
   {
    "duration": 72,
    "start_time": "2023-03-14T08:14:22.556Z"
   },
   {
    "duration": 29,
    "start_time": "2023-03-14T08:14:22.630Z"
   },
   {
    "duration": 20,
    "start_time": "2023-03-14T08:14:22.661Z"
   },
   {
    "duration": 118,
    "start_time": "2023-03-14T08:14:22.682Z"
   },
   {
    "duration": 37,
    "start_time": "2023-03-14T08:14:22.802Z"
   },
   {
    "duration": 27,
    "start_time": "2023-03-14T08:14:22.841Z"
   },
   {
    "duration": 22,
    "start_time": "2023-03-14T08:14:22.873Z"
   },
   {
    "duration": 88,
    "start_time": "2023-03-14T08:14:22.898Z"
   },
   {
    "duration": 42,
    "start_time": "2023-03-14T08:14:22.990Z"
   },
   {
    "duration": 19,
    "start_time": "2023-03-14T08:14:23.034Z"
   },
   {
    "duration": 39,
    "start_time": "2023-03-14T08:14:23.056Z"
   },
   {
    "duration": 26,
    "start_time": "2023-03-14T08:14:23.098Z"
   },
   {
    "duration": 5,
    "start_time": "2023-03-14T08:14:23.127Z"
   },
   {
    "duration": 38,
    "start_time": "2023-03-14T08:14:23.134Z"
   },
   {
    "duration": 9,
    "start_time": "2023-03-14T08:14:23.174Z"
   },
   {
    "duration": 18,
    "start_time": "2023-03-14T08:14:23.185Z"
   },
   {
    "duration": 100,
    "start_time": "2023-03-14T08:14:23.205Z"
   },
   {
    "duration": 3,
    "start_time": "2023-03-14T08:14:23.307Z"
   },
   {
    "duration": 21,
    "start_time": "2023-03-14T08:14:23.312Z"
   },
   {
    "duration": 48,
    "start_time": "2023-03-14T08:14:23.334Z"
   },
   {
    "duration": 100,
    "start_time": "2023-03-14T08:14:23.383Z"
   },
   {
    "duration": 12,
    "start_time": "2023-03-14T08:14:23.485Z"
   },
   {
    "duration": 17,
    "start_time": "2023-03-14T08:14:23.499Z"
   },
   {
    "duration": 7,
    "start_time": "2023-03-14T08:14:23.518Z"
   },
   {
    "duration": 6,
    "start_time": "2023-03-14T08:14:23.527Z"
   },
   {
    "duration": 532,
    "start_time": "2023-03-14T08:14:23.535Z"
   },
   {
    "duration": 12,
    "start_time": "2023-03-14T08:14:24.075Z"
   },
   {
    "duration": 180,
    "start_time": "2023-03-14T08:14:24.095Z"
   },
   {
    "duration": 209,
    "start_time": "2023-03-14T08:14:24.282Z"
   },
   {
    "duration": 217,
    "start_time": "2023-03-14T08:14:24.498Z"
   },
   {
    "duration": 192,
    "start_time": "2023-03-14T08:14:24.717Z"
   },
   {
    "duration": 193,
    "start_time": "2023-03-14T08:14:24.911Z"
   },
   {
    "duration": 188,
    "start_time": "2023-03-14T08:14:25.107Z"
   },
   {
    "duration": 195,
    "start_time": "2023-03-14T08:15:11.658Z"
   },
   {
    "duration": 172,
    "start_time": "2023-03-14T08:15:22.643Z"
   },
   {
    "duration": 413,
    "start_time": "2023-03-14T08:15:29.910Z"
   },
   {
    "duration": 163,
    "start_time": "2023-03-14T08:15:35.099Z"
   },
   {
    "duration": 186,
    "start_time": "2023-03-14T08:16:56.536Z"
   },
   {
    "duration": 159,
    "start_time": "2023-03-14T08:17:06.077Z"
   },
   {
    "duration": 147,
    "start_time": "2023-03-14T08:36:32.033Z"
   },
   {
    "duration": 172,
    "start_time": "2023-03-14T08:36:46.809Z"
   },
   {
    "duration": 171,
    "start_time": "2023-03-14T08:37:02.166Z"
   },
   {
    "duration": 169,
    "start_time": "2023-03-14T08:37:25.411Z"
   },
   {
    "duration": 175,
    "start_time": "2023-03-14T08:37:28.321Z"
   },
   {
    "duration": 172,
    "start_time": "2023-03-14T08:37:53.126Z"
   },
   {
    "duration": 165,
    "start_time": "2023-03-14T08:38:00.903Z"
   },
   {
    "duration": 247,
    "start_time": "2023-03-14T08:38:13.767Z"
   },
   {
    "duration": 131,
    "start_time": "2023-03-14T08:38:52.549Z"
   },
   {
    "duration": 127,
    "start_time": "2023-03-14T08:38:57.619Z"
   },
   {
    "duration": 166,
    "start_time": "2023-03-14T08:39:16.424Z"
   },
   {
    "duration": 161,
    "start_time": "2023-03-14T08:41:01.037Z"
   },
   {
    "duration": 163,
    "start_time": "2023-03-14T08:42:59.414Z"
   },
   {
    "duration": 184,
    "start_time": "2023-03-14T08:44:32.455Z"
   },
   {
    "duration": 168,
    "start_time": "2023-03-14T08:45:40.453Z"
   },
   {
    "duration": 190,
    "start_time": "2023-03-14T08:47:01.279Z"
   },
   {
    "duration": 171,
    "start_time": "2023-03-14T08:48:18.267Z"
   },
   {
    "duration": 182,
    "start_time": "2023-03-14T08:48:50.421Z"
   },
   {
    "duration": 260,
    "start_time": "2023-03-14T08:49:10.139Z"
   },
   {
    "duration": 203,
    "start_time": "2023-03-14T08:52:56.535Z"
   },
   {
    "duration": 187,
    "start_time": "2023-03-14T08:53:20.946Z"
   },
   {
    "duration": 254,
    "start_time": "2023-03-14T09:19:34.958Z"
   },
   {
    "duration": 412,
    "start_time": "2023-03-14T09:20:03.906Z"
   },
   {
    "duration": 370,
    "start_time": "2023-03-14T09:25:44.670Z"
   },
   {
    "duration": 56,
    "start_time": "2023-03-14T09:25:54.535Z"
   },
   {
    "duration": 189,
    "start_time": "2023-03-14T09:27:26.724Z"
   },
   {
    "duration": 188,
    "start_time": "2023-03-14T09:27:35.803Z"
   },
   {
    "duration": 334,
    "start_time": "2023-03-14T09:28:00.855Z"
   },
   {
    "duration": 324,
    "start_time": "2023-03-14T09:28:32.093Z"
   },
   {
    "duration": 498,
    "start_time": "2023-03-14T09:29:37.094Z"
   },
   {
    "duration": 254,
    "start_time": "2023-03-14T09:35:22.337Z"
   },
   {
    "duration": 262,
    "start_time": "2023-03-14T09:35:37.011Z"
   },
   {
    "duration": 334,
    "start_time": "2023-03-14T09:36:41.906Z"
   },
   {
    "duration": 269,
    "start_time": "2023-03-14T09:37:37.828Z"
   },
   {
    "duration": 256,
    "start_time": "2023-03-14T09:38:02.237Z"
   },
   {
    "duration": 323,
    "start_time": "2023-03-14T09:38:44.894Z"
   },
   {
    "duration": 305,
    "start_time": "2023-03-14T09:38:55.098Z"
   },
   {
    "duration": 300,
    "start_time": "2023-03-14T09:39:03.594Z"
   },
   {
    "duration": 427,
    "start_time": "2023-03-14T09:39:33.817Z"
   },
   {
    "duration": 287,
    "start_time": "2023-03-14T09:39:52.839Z"
   },
   {
    "duration": 297,
    "start_time": "2023-03-14T09:40:43.393Z"
   },
   {
    "duration": 57,
    "start_time": "2023-03-14T09:41:32.304Z"
   },
   {
    "duration": 323,
    "start_time": "2023-03-14T09:41:39.594Z"
   },
   {
    "duration": 319,
    "start_time": "2023-03-14T09:44:05.621Z"
   },
   {
    "duration": 529,
    "start_time": "2023-03-14T09:44:21.819Z"
   },
   {
    "duration": 373,
    "start_time": "2023-03-14T09:44:42.902Z"
   },
   {
    "duration": 344,
    "start_time": "2023-03-14T09:44:54.777Z"
   },
   {
    "duration": 345,
    "start_time": "2023-03-14T09:45:11.193Z"
   },
   {
    "duration": 373,
    "start_time": "2023-03-14T09:47:54.399Z"
   },
   {
    "duration": 299,
    "start_time": "2023-03-14T09:48:11.008Z"
   },
   {
    "duration": 401,
    "start_time": "2023-03-14T09:48:20.110Z"
   },
   {
    "duration": 337,
    "start_time": "2023-03-14T09:48:26.731Z"
   },
   {
    "duration": 408,
    "start_time": "2023-03-14T09:48:34.172Z"
   },
   {
    "duration": 303,
    "start_time": "2023-03-14T09:49:55.099Z"
   },
   {
    "duration": 300,
    "start_time": "2023-03-14T09:50:08.928Z"
   },
   {
    "duration": 396,
    "start_time": "2023-03-14T09:50:27.120Z"
   },
   {
    "duration": 321,
    "start_time": "2023-03-14T09:51:15.700Z"
   },
   {
    "duration": 321,
    "start_time": "2023-03-14T09:58:49.651Z"
   },
   {
    "duration": 356,
    "start_time": "2023-03-14T09:59:16.762Z"
   },
   {
    "duration": 361,
    "start_time": "2023-03-14T09:59:39.214Z"
   },
   {
    "duration": 327,
    "start_time": "2023-03-14T09:59:49.774Z"
   },
   {
    "duration": 811,
    "start_time": "2023-03-14T10:01:14.198Z"
   },
   {
    "duration": 179,
    "start_time": "2023-03-14T10:01:15.012Z"
   },
   {
    "duration": 3,
    "start_time": "2023-03-14T10:01:15.193Z"
   },
   {
    "duration": 54,
    "start_time": "2023-03-14T10:01:15.199Z"
   },
   {
    "duration": 127,
    "start_time": "2023-03-14T10:01:15.256Z"
   },
   {
    "duration": 33,
    "start_time": "2023-03-14T10:01:15.385Z"
   },
   {
    "duration": 74,
    "start_time": "2023-03-14T10:01:15.421Z"
   },
   {
    "duration": 2170,
    "start_time": "2023-03-14T10:01:15.498Z"
   },
   {
    "duration": 15,
    "start_time": "2023-03-14T10:01:17.671Z"
   },
   {
    "duration": 17,
    "start_time": "2023-03-14T10:01:17.689Z"
   },
   {
    "duration": 12,
    "start_time": "2023-03-14T10:01:17.708Z"
   },
   {
    "duration": 41,
    "start_time": "2023-03-14T10:01:17.723Z"
   },
   {
    "duration": 10,
    "start_time": "2023-03-14T10:01:17.766Z"
   },
   {
    "duration": 10,
    "start_time": "2023-03-14T10:01:17.781Z"
   },
   {
    "duration": 15,
    "start_time": "2023-03-14T10:01:17.794Z"
   },
   {
    "duration": 6,
    "start_time": "2023-03-14T10:01:17.811Z"
   },
   {
    "duration": 9,
    "start_time": "2023-03-14T10:01:17.820Z"
   },
   {
    "duration": 36,
    "start_time": "2023-03-14T10:01:17.831Z"
   },
   {
    "duration": 341,
    "start_time": "2023-03-14T10:01:17.869Z"
   },
   {
    "duration": 5,
    "start_time": "2023-03-14T10:01:18.212Z"
   },
   {
    "duration": 33,
    "start_time": "2023-03-14T10:01:18.220Z"
   },
   {
    "duration": 58,
    "start_time": "2023-03-14T10:01:18.255Z"
   },
   {
    "duration": 18,
    "start_time": "2023-03-14T10:01:18.316Z"
   },
   {
    "duration": 21,
    "start_time": "2023-03-14T10:01:18.336Z"
   },
   {
    "duration": 13,
    "start_time": "2023-03-14T10:01:18.360Z"
   },
   {
    "duration": 7,
    "start_time": "2023-03-14T10:01:18.376Z"
   },
   {
    "duration": 18,
    "start_time": "2023-03-14T10:01:18.385Z"
   },
   {
    "duration": 22,
    "start_time": "2023-03-14T10:01:18.405Z"
   },
   {
    "duration": 12,
    "start_time": "2023-03-14T10:01:18.430Z"
   },
   {
    "duration": 14,
    "start_time": "2023-03-14T10:01:18.445Z"
   },
   {
    "duration": 11,
    "start_time": "2023-03-14T10:01:18.462Z"
   },
   {
    "duration": 34,
    "start_time": "2023-03-14T10:01:18.475Z"
   },
   {
    "duration": 9,
    "start_time": "2023-03-14T10:01:18.512Z"
   },
   {
    "duration": 23,
    "start_time": "2023-03-14T10:01:18.523Z"
   },
   {
    "duration": 21,
    "start_time": "2023-03-14T10:01:18.548Z"
   },
   {
    "duration": 238,
    "start_time": "2023-03-14T10:01:18.572Z"
   },
   {
    "duration": 7,
    "start_time": "2023-03-14T10:01:18.811Z"
   },
   {
    "duration": 23,
    "start_time": "2023-03-14T10:01:18.820Z"
   },
   {
    "duration": 71,
    "start_time": "2023-03-14T10:01:18.845Z"
   },
   {
    "duration": 10,
    "start_time": "2023-03-14T10:01:18.918Z"
   },
   {
    "duration": 38,
    "start_time": "2023-03-14T10:01:18.934Z"
   },
   {
    "duration": 32,
    "start_time": "2023-03-14T10:01:18.973Z"
   },
   {
    "duration": 62,
    "start_time": "2023-03-14T10:01:19.007Z"
   },
   {
    "duration": 479,
    "start_time": "2023-03-14T10:01:19.072Z"
   },
   {
    "duration": 15,
    "start_time": "2023-03-14T10:01:19.554Z"
   },
   {
    "duration": 27,
    "start_time": "2023-03-14T10:01:19.572Z"
   },
   {
    "duration": 13,
    "start_time": "2023-03-14T10:01:19.602Z"
   },
   {
    "duration": 15,
    "start_time": "2023-03-14T10:01:19.618Z"
   },
   {
    "duration": 34,
    "start_time": "2023-03-14T10:01:19.636Z"
   },
   {
    "duration": 44,
    "start_time": "2023-03-14T10:01:19.673Z"
   },
   {
    "duration": 52,
    "start_time": "2023-03-14T10:01:19.719Z"
   },
   {
    "duration": 10,
    "start_time": "2023-03-14T10:01:19.773Z"
   },
   {
    "duration": 21,
    "start_time": "2023-03-14T10:01:19.786Z"
   },
   {
    "duration": 77,
    "start_time": "2023-03-14T10:01:19.810Z"
   },
   {
    "duration": 40,
    "start_time": "2023-03-14T10:01:19.889Z"
   },
   {
    "duration": 8,
    "start_time": "2023-03-14T10:01:19.931Z"
   },
   {
    "duration": 88,
    "start_time": "2023-03-14T10:01:19.964Z"
   },
   {
    "duration": 62,
    "start_time": "2023-03-14T10:01:20.064Z"
   },
   {
    "duration": 12,
    "start_time": "2023-03-14T10:01:20.130Z"
   },
   {
    "duration": 4,
    "start_time": "2023-03-14T10:01:20.164Z"
   },
   {
    "duration": 63,
    "start_time": "2023-03-14T10:01:20.170Z"
   },
   {
    "duration": 70,
    "start_time": "2023-03-14T10:01:20.236Z"
   },
   {
    "duration": 15,
    "start_time": "2023-03-14T10:01:20.309Z"
   },
   {
    "duration": 54,
    "start_time": "2023-03-14T10:01:20.326Z"
   },
   {
    "duration": 8,
    "start_time": "2023-03-14T10:01:20.382Z"
   },
   {
    "duration": 17,
    "start_time": "2023-03-14T10:01:20.392Z"
   },
   {
    "duration": 40,
    "start_time": "2023-03-14T10:01:20.411Z"
   },
   {
    "duration": 15,
    "start_time": "2023-03-14T10:01:20.453Z"
   },
   {
    "duration": 7,
    "start_time": "2023-03-14T10:01:20.470Z"
   },
   {
    "duration": 95,
    "start_time": "2023-03-14T10:01:20.479Z"
   },
   {
    "duration": 3,
    "start_time": "2023-03-14T10:01:20.576Z"
   },
   {
    "duration": 22,
    "start_time": "2023-03-14T10:01:20.581Z"
   },
   {
    "duration": 35,
    "start_time": "2023-03-14T10:01:20.605Z"
   },
   {
    "duration": 110,
    "start_time": "2023-03-14T10:01:20.642Z"
   },
   {
    "duration": 6,
    "start_time": "2023-03-14T10:01:20.763Z"
   },
   {
    "duration": 16,
    "start_time": "2023-03-14T10:01:20.771Z"
   },
   {
    "duration": 25,
    "start_time": "2023-03-14T10:01:20.789Z"
   },
   {
    "duration": 17,
    "start_time": "2023-03-14T10:01:20.816Z"
   },
   {
    "duration": 504,
    "start_time": "2023-03-14T10:01:20.835Z"
   },
   {
    "duration": 7,
    "start_time": "2023-03-14T10:01:21.340Z"
   },
   {
    "duration": 612,
    "start_time": "2023-03-14T10:01:21.348Z"
   },
   {
    "duration": 347,
    "start_time": "2023-03-14T10:01:21.967Z"
   },
   {
    "duration": 362,
    "start_time": "2023-03-14T10:01:22.316Z"
   },
   {
    "duration": 337,
    "start_time": "2023-03-14T10:01:22.680Z"
   },
   {
    "duration": 279,
    "start_time": "2023-03-14T10:01:23.019Z"
   },
   {
    "duration": 201,
    "start_time": "2023-03-14T10:01:23.301Z"
   },
   {
    "duration": 192,
    "start_time": "2023-03-14T10:01:23.504Z"
   },
   {
    "duration": 154,
    "start_time": "2023-03-14T10:01:23.698Z"
   },
   {
    "duration": 199,
    "start_time": "2023-03-14T10:01:23.863Z"
   },
   {
    "duration": 176,
    "start_time": "2023-03-14T10:01:24.065Z"
   },
   {
    "duration": 185,
    "start_time": "2023-03-14T10:01:24.243Z"
   },
   {
    "duration": 210,
    "start_time": "2023-03-14T10:01:24.430Z"
   },
   {
    "duration": 284,
    "start_time": "2023-03-14T10:01:24.643Z"
   },
   {
    "duration": 227,
    "start_time": "2023-03-14T10:01:24.930Z"
   },
   {
    "duration": 183,
    "start_time": "2023-03-14T10:01:25.159Z"
   },
   {
    "duration": 457,
    "start_time": "2023-03-14T10:01:25.344Z"
   },
   {
    "duration": 12,
    "start_time": "2023-03-14T10:04:59.652Z"
   },
   {
    "duration": 536,
    "start_time": "2023-03-14T10:05:04.721Z"
   },
   {
    "duration": 287,
    "start_time": "2023-03-14T10:05:22.037Z"
   },
   {
    "duration": 251,
    "start_time": "2023-03-14T10:05:46.543Z"
   },
   {
    "duration": 416,
    "start_time": "2023-03-14T10:05:56.559Z"
   },
   {
    "duration": 163,
    "start_time": "2023-03-14T10:06:22.425Z"
   },
   {
    "duration": 488,
    "start_time": "2023-03-14T10:06:48.796Z"
   },
   {
    "duration": 571,
    "start_time": "2023-03-14T10:06:52.745Z"
   },
   {
    "duration": 122,
    "start_time": "2023-03-14T10:07:31.116Z"
   },
   {
    "duration": 181,
    "start_time": "2023-03-14T10:07:56.719Z"
   },
   {
    "duration": 64674,
    "start_time": "2023-03-14T10:08:26.608Z"
   },
   {
    "duration": 71,
    "start_time": "2023-03-14T10:12:27.755Z"
   },
   {
    "duration": 28174,
    "start_time": "2023-03-14T10:12:36.806Z"
   },
   {
    "duration": 29052,
    "start_time": "2023-03-14T10:14:01.028Z"
   },
   {
    "duration": 54,
    "start_time": "2023-03-14T10:14:34.020Z"
   },
   {
    "duration": 11,
    "start_time": "2023-03-14T10:14:47.599Z"
   },
   {
    "duration": 10,
    "start_time": "2023-03-14T10:14:53.395Z"
   },
   {
    "duration": 13,
    "start_time": "2023-03-14T10:15:37.694Z"
   },
   {
    "duration": 10,
    "start_time": "2023-03-14T10:15:45.859Z"
   },
   {
    "duration": 42,
    "start_time": "2023-03-14T10:16:01.298Z"
   },
   {
    "duration": 49,
    "start_time": "2023-03-14T10:16:11.196Z"
   },
   {
    "duration": 1194,
    "start_time": "2023-03-14T10:18:40.355Z"
   },
   {
    "duration": 21144,
    "start_time": "2023-03-14T10:19:22.579Z"
   },
   {
    "duration": 745,
    "start_time": "2023-03-14T10:20:15.879Z"
   },
   {
    "duration": 324,
    "start_time": "2023-03-14T10:20:16.627Z"
   },
   {
    "duration": 5,
    "start_time": "2023-03-14T10:20:16.953Z"
   },
   {
    "duration": 23,
    "start_time": "2023-03-14T10:20:16.965Z"
   },
   {
    "duration": 112,
    "start_time": "2023-03-14T10:20:16.991Z"
   },
   {
    "duration": 35,
    "start_time": "2023-03-14T10:20:17.105Z"
   },
   {
    "duration": 54,
    "start_time": "2023-03-14T10:20:17.142Z"
   },
   {
    "duration": 2278,
    "start_time": "2023-03-14T10:20:17.198Z"
   },
   {
    "duration": 16,
    "start_time": "2023-03-14T10:20:19.479Z"
   },
   {
    "duration": 14,
    "start_time": "2023-03-14T10:20:19.498Z"
   },
   {
    "duration": 16,
    "start_time": "2023-03-14T10:20:19.516Z"
   },
   {
    "duration": 19,
    "start_time": "2023-03-14T10:20:19.535Z"
   },
   {
    "duration": 16,
    "start_time": "2023-03-14T10:20:19.565Z"
   },
   {
    "duration": 7,
    "start_time": "2023-03-14T10:20:19.586Z"
   },
   {
    "duration": 28,
    "start_time": "2023-03-14T10:20:19.595Z"
   },
   {
    "duration": 5,
    "start_time": "2023-03-14T10:20:19.625Z"
   },
   {
    "duration": 14,
    "start_time": "2023-03-14T10:20:19.632Z"
   },
   {
    "duration": 32,
    "start_time": "2023-03-14T10:20:19.648Z"
   },
   {
    "duration": 348,
    "start_time": "2023-03-14T10:20:19.683Z"
   },
   {
    "duration": 5,
    "start_time": "2023-03-14T10:20:20.033Z"
   },
   {
    "duration": 24,
    "start_time": "2023-03-14T10:20:20.040Z"
   },
   {
    "duration": 24,
    "start_time": "2023-03-14T10:20:20.066Z"
   },
   {
    "duration": 20,
    "start_time": "2023-03-14T10:20:20.092Z"
   },
   {
    "duration": 17,
    "start_time": "2023-03-14T10:20:20.114Z"
   },
   {
    "duration": 9,
    "start_time": "2023-03-14T10:20:20.134Z"
   },
   {
    "duration": 18,
    "start_time": "2023-03-14T10:20:20.145Z"
   },
   {
    "duration": 20,
    "start_time": "2023-03-14T10:20:20.165Z"
   },
   {
    "duration": 18,
    "start_time": "2023-03-14T10:20:20.187Z"
   },
   {
    "duration": 10,
    "start_time": "2023-03-14T10:20:20.207Z"
   },
   {
    "duration": 15,
    "start_time": "2023-03-14T10:20:20.219Z"
   },
   {
    "duration": 7,
    "start_time": "2023-03-14T10:20:20.236Z"
   },
   {
    "duration": 32,
    "start_time": "2023-03-14T10:20:20.245Z"
   },
   {
    "duration": 16,
    "start_time": "2023-03-14T10:20:20.279Z"
   },
   {
    "duration": 17,
    "start_time": "2023-03-14T10:20:20.297Z"
   },
   {
    "duration": 13,
    "start_time": "2023-03-14T10:20:20.316Z"
   },
   {
    "duration": 239,
    "start_time": "2023-03-14T10:20:20.331Z"
   },
   {
    "duration": 8,
    "start_time": "2023-03-14T10:20:20.572Z"
   },
   {
    "duration": 51,
    "start_time": "2023-03-14T10:20:20.582Z"
   },
   {
    "duration": 81,
    "start_time": "2023-03-14T10:20:20.635Z"
   },
   {
    "duration": 11,
    "start_time": "2023-03-14T10:20:20.719Z"
   },
   {
    "duration": 13,
    "start_time": "2023-03-14T10:20:20.739Z"
   },
   {
    "duration": 22,
    "start_time": "2023-03-14T10:20:20.754Z"
   },
   {
    "duration": 33,
    "start_time": "2023-03-14T10:20:20.779Z"
   },
   {
    "duration": 500,
    "start_time": "2023-03-14T10:20:20.814Z"
   },
   {
    "duration": 7,
    "start_time": "2023-03-14T10:20:21.316Z"
   },
   {
    "duration": 24,
    "start_time": "2023-03-14T10:20:21.325Z"
   },
   {
    "duration": 47,
    "start_time": "2023-03-14T10:20:21.351Z"
   },
   {
    "duration": 5,
    "start_time": "2023-03-14T10:20:21.401Z"
   },
   {
    "duration": 47,
    "start_time": "2023-03-14T10:20:21.408Z"
   },
   {
    "duration": 46,
    "start_time": "2023-03-14T10:20:21.457Z"
   },
   {
    "duration": 40,
    "start_time": "2023-03-14T10:20:21.506Z"
   },
   {
    "duration": 12,
    "start_time": "2023-03-14T10:20:21.565Z"
   },
   {
    "duration": 26,
    "start_time": "2023-03-14T10:20:21.580Z"
   },
   {
    "duration": 52,
    "start_time": "2023-03-14T10:20:21.609Z"
   },
   {
    "duration": 32,
    "start_time": "2023-03-14T10:20:21.665Z"
   },
   {
    "duration": 28,
    "start_time": "2023-03-14T10:20:21.700Z"
   },
   {
    "duration": 119,
    "start_time": "2023-03-14T10:20:21.730Z"
   },
   {
    "duration": 46,
    "start_time": "2023-03-14T10:20:21.851Z"
   },
   {
    "duration": 9,
    "start_time": "2023-03-14T10:20:21.899Z"
   },
   {
    "duration": 13,
    "start_time": "2023-03-14T10:20:21.910Z"
   },
   {
    "duration": 77,
    "start_time": "2023-03-14T10:20:21.925Z"
   },
   {
    "duration": 62,
    "start_time": "2023-03-14T10:20:22.004Z"
   },
   {
    "duration": 17,
    "start_time": "2023-03-14T10:20:22.068Z"
   },
   {
    "duration": 29,
    "start_time": "2023-03-14T10:20:22.088Z"
   },
   {
    "duration": 11,
    "start_time": "2023-03-14T10:20:22.119Z"
   },
   {
    "duration": 3,
    "start_time": "2023-03-14T10:20:22.165Z"
   },
   {
    "duration": 35,
    "start_time": "2023-03-14T10:20:22.170Z"
   },
   {
    "duration": 8,
    "start_time": "2023-03-14T10:20:22.206Z"
   },
   {
    "duration": 16,
    "start_time": "2023-03-14T10:20:22.216Z"
   },
   {
    "duration": 110,
    "start_time": "2023-03-14T10:20:22.234Z"
   },
   {
    "duration": 3,
    "start_time": "2023-03-14T10:20:22.347Z"
   },
   {
    "duration": 36,
    "start_time": "2023-03-14T10:20:22.352Z"
   },
   {
    "duration": 36,
    "start_time": "2023-03-14T10:20:22.390Z"
   },
   {
    "duration": 104,
    "start_time": "2023-03-14T10:20:22.428Z"
   },
   {
    "duration": 6,
    "start_time": "2023-03-14T10:20:22.534Z"
   },
   {
    "duration": 26,
    "start_time": "2023-03-14T10:20:22.542Z"
   },
   {
    "duration": 25,
    "start_time": "2023-03-14T10:20:22.571Z"
   },
   {
    "duration": 11,
    "start_time": "2023-03-14T10:20:22.598Z"
   },
   {
    "duration": 515,
    "start_time": "2023-03-14T10:20:22.611Z"
   },
   {
    "duration": 6,
    "start_time": "2023-03-14T10:20:23.128Z"
   },
   {
    "duration": 629,
    "start_time": "2023-03-14T10:20:23.136Z"
   },
   {
    "duration": 356,
    "start_time": "2023-03-14T10:20:23.767Z"
   },
   {
    "duration": 359,
    "start_time": "2023-03-14T10:20:24.125Z"
   },
   {
    "duration": 391,
    "start_time": "2023-03-14T10:20:24.486Z"
   },
   {
    "duration": 294,
    "start_time": "2023-03-14T10:20:24.880Z"
   },
   {
    "duration": 184,
    "start_time": "2023-03-14T10:20:25.176Z"
   },
   {
    "duration": 187,
    "start_time": "2023-03-14T10:20:25.364Z"
   },
   {
    "duration": 152,
    "start_time": "2023-03-14T10:20:25.553Z"
   },
   {
    "duration": 204,
    "start_time": "2023-03-14T10:20:25.707Z"
   },
   {
    "duration": 257,
    "start_time": "2023-03-14T10:20:25.913Z"
   },
   {
    "duration": 191,
    "start_time": "2023-03-14T10:20:26.173Z"
   },
   {
    "duration": 203,
    "start_time": "2023-03-14T10:20:26.366Z"
   },
   {
    "duration": 216,
    "start_time": "2023-03-14T10:20:26.571Z"
   },
   {
    "duration": 236,
    "start_time": "2023-03-14T10:20:26.789Z"
   },
   {
    "duration": 186,
    "start_time": "2023-03-14T10:20:27.027Z"
   },
   {
    "duration": 471,
    "start_time": "2023-03-14T10:20:27.215Z"
   },
   {
    "duration": 15,
    "start_time": "2023-03-14T10:20:27.689Z"
   },
   {
    "duration": 498,
    "start_time": "2023-03-14T10:20:27.707Z"
   },
   {
    "duration": 295,
    "start_time": "2023-03-14T10:20:28.207Z"
   },
   {
    "duration": 247,
    "start_time": "2023-03-14T10:20:28.504Z"
   },
   {
    "duration": 387,
    "start_time": "2023-03-14T10:20:28.754Z"
   },
   {
    "duration": 512,
    "start_time": "2023-03-14T10:20:44.793Z"
   },
   {
    "duration": 68180,
    "start_time": "2023-03-14T10:20:47.725Z"
   },
   {
    "duration": 603,
    "start_time": "2023-03-14T10:22:10.569Z"
   },
   {
    "duration": 861,
    "start_time": "2023-03-14T10:22:19.810Z"
   },
   {
    "duration": 571,
    "start_time": "2023-03-14T10:23:27.936Z"
   },
   {
    "duration": 23,
    "start_time": "2023-03-14T10:23:46.798Z"
   },
   {
    "duration": 1969,
    "start_time": "2023-03-14T10:23:48.308Z"
   },
   {
    "duration": 333,
    "start_time": "2023-03-14T10:24:31.711Z"
   },
   {
    "duration": 313,
    "start_time": "2023-03-14T10:25:43.223Z"
   },
   {
    "duration": 331,
    "start_time": "2023-03-14T10:26:15.854Z"
   },
   {
    "duration": 349,
    "start_time": "2023-03-14T10:26:26.564Z"
   },
   {
    "duration": 316,
    "start_time": "2023-03-14T10:27:59.103Z"
   },
   {
    "duration": 317,
    "start_time": "2023-03-14T10:29:23.925Z"
   },
   {
    "duration": 557,
    "start_time": "2023-03-14T10:30:17.576Z"
   },
   {
    "duration": 352,
    "start_time": "2023-03-14T10:30:37.665Z"
   },
   {
    "duration": 343,
    "start_time": "2023-03-14T10:30:49.603Z"
   },
   {
    "duration": 588,
    "start_time": "2023-03-14T10:33:22.189Z"
   },
   {
    "duration": 320,
    "start_time": "2023-03-14T10:33:33.360Z"
   },
   {
    "duration": 587,
    "start_time": "2023-03-14T10:36:02.047Z"
   },
   {
    "duration": 410,
    "start_time": "2023-03-14T10:36:06.264Z"
   },
   {
    "duration": 387,
    "start_time": "2023-03-14T10:36:41.278Z"
   },
   {
    "duration": 419,
    "start_time": "2023-03-14T10:37:04.554Z"
   },
   {
    "duration": 480,
    "start_time": "2023-03-14T10:37:37.407Z"
   },
   {
    "duration": 438,
    "start_time": "2023-03-14T10:37:49.797Z"
   },
   {
    "duration": 557,
    "start_time": "2023-03-14T10:38:43.493Z"
   },
   {
    "duration": 440,
    "start_time": "2023-03-14T10:38:57.656Z"
   },
   {
    "duration": 202,
    "start_time": "2023-03-14T10:39:40.495Z"
   },
   {
    "duration": 478,
    "start_time": "2023-03-14T10:39:50.160Z"
   },
   {
    "duration": 558,
    "start_time": "2023-03-14T10:40:15.713Z"
   },
   {
    "duration": 200,
    "start_time": "2023-03-14T10:43:01.169Z"
   },
   {
    "duration": 162,
    "start_time": "2023-03-14T10:43:25.339Z"
   },
   {
    "duration": 487,
    "start_time": "2023-03-14T10:45:24.993Z"
   },
   {
    "duration": 378,
    "start_time": "2023-03-14T10:45:33.075Z"
   },
   {
    "duration": 381,
    "start_time": "2023-03-14T10:45:39.413Z"
   },
   {
    "duration": 398,
    "start_time": "2023-03-14T10:45:49.714Z"
   },
   {
    "duration": 390,
    "start_time": "2023-03-14T10:46:03.234Z"
   },
   {
    "duration": 586,
    "start_time": "2023-03-14T10:46:17.101Z"
   },
   {
    "duration": 414,
    "start_time": "2023-03-14T10:50:10.504Z"
   },
   {
    "duration": 413,
    "start_time": "2023-03-14T10:50:20.664Z"
   },
   {
    "duration": 427,
    "start_time": "2023-03-14T10:50:33.715Z"
   },
   {
    "duration": 428,
    "start_time": "2023-03-14T10:50:40.966Z"
   },
   {
    "duration": 362,
    "start_time": "2023-03-14T10:51:22.485Z"
   },
   {
    "duration": 457,
    "start_time": "2023-03-14T10:51:32.042Z"
   },
   {
    "duration": 350,
    "start_time": "2023-03-14T10:52:10.392Z"
   },
   {
    "duration": 613,
    "start_time": "2023-03-14T10:53:59.654Z"
   },
   {
    "duration": 440,
    "start_time": "2023-03-14T10:54:33.934Z"
   },
   {
    "duration": 415,
    "start_time": "2023-03-14T10:58:03.435Z"
   },
   {
    "duration": 521,
    "start_time": "2023-03-14T10:58:16.572Z"
   },
   {
    "duration": 475,
    "start_time": "2023-03-14T10:58:22.394Z"
   },
   {
    "duration": 468,
    "start_time": "2023-03-14T10:58:33.171Z"
   },
   {
    "duration": 412,
    "start_time": "2023-03-14T10:58:41.563Z"
   },
   {
    "duration": 552,
    "start_time": "2023-03-14T10:58:51.536Z"
   },
   {
    "duration": 799,
    "start_time": "2023-03-14T10:59:45.800Z"
   },
   {
    "duration": 637,
    "start_time": "2023-03-14T11:00:01.806Z"
   },
   {
    "duration": 645,
    "start_time": "2023-03-14T11:00:13.656Z"
   },
   {
    "duration": 537,
    "start_time": "2023-03-14T11:00:36.213Z"
   },
   {
    "duration": 493,
    "start_time": "2023-03-14T11:00:47.666Z"
   },
   {
    "duration": 72,
    "start_time": "2023-03-14T11:06:33.072Z"
   },
   {
    "duration": 223,
    "start_time": "2023-03-14T11:06:38.618Z"
   },
   {
    "duration": 521,
    "start_time": "2023-03-14T11:08:00.171Z"
   },
   {
    "duration": 226,
    "start_time": "2023-03-14T11:08:49.953Z"
   },
   {
    "duration": 335,
    "start_time": "2023-03-14T11:09:00.352Z"
   },
   {
    "duration": 323,
    "start_time": "2023-03-14T11:09:04.697Z"
   },
   {
    "duration": 490,
    "start_time": "2023-03-14T11:09:25.383Z"
   },
   {
    "duration": 619,
    "start_time": "2023-03-14T11:09:51.818Z"
   },
   {
    "duration": 401,
    "start_time": "2023-03-14T11:11:07.425Z"
   },
   {
    "duration": 682,
    "start_time": "2023-03-14T11:12:17.067Z"
   },
   {
    "duration": 498,
    "start_time": "2023-03-14T11:14:10.877Z"
   },
   {
    "duration": 443,
    "start_time": "2023-03-14T11:15:06.376Z"
   },
   {
    "duration": 424,
    "start_time": "2023-03-14T11:15:11.698Z"
   },
   {
    "duration": 456,
    "start_time": "2023-03-14T11:15:41.758Z"
   },
   {
    "duration": 642,
    "start_time": "2023-03-14T11:16:08.637Z"
   },
   {
    "duration": 548,
    "start_time": "2023-03-14T11:16:18.189Z"
   },
   {
    "duration": 544,
    "start_time": "2023-03-14T11:16:27.378Z"
   },
   {
    "duration": 531,
    "start_time": "2023-03-14T11:17:10.338Z"
   },
   {
    "duration": 414,
    "start_time": "2023-03-14T11:18:04.871Z"
   },
   {
    "duration": 437,
    "start_time": "2023-03-14T11:18:48.368Z"
   },
   {
    "duration": 634,
    "start_time": "2023-03-14T11:19:03.968Z"
   },
   {
    "duration": 488,
    "start_time": "2023-03-14T11:22:09.595Z"
   },
   {
    "duration": 485,
    "start_time": "2023-03-14T11:22:25.203Z"
   },
   {
    "duration": 460,
    "start_time": "2023-03-14T11:22:39.052Z"
   },
   {
    "duration": 499,
    "start_time": "2023-03-14T11:22:59.800Z"
   },
   {
    "duration": 71,
    "start_time": "2023-03-14T11:24:33.014Z"
   },
   {
    "duration": 49,
    "start_time": "2023-03-14T11:24:40.031Z"
   },
   {
    "duration": 56,
    "start_time": "2023-03-14T11:24:57.278Z"
   },
   {
    "duration": 495,
    "start_time": "2023-03-14T11:25:12.067Z"
   },
   {
    "duration": 372,
    "start_time": "2023-03-14T11:26:49.812Z"
   },
   {
    "duration": 224,
    "start_time": "2023-03-14T11:27:53.173Z"
   },
   {
    "duration": 386,
    "start_time": "2023-03-14T11:28:17.583Z"
   },
   {
    "duration": 472,
    "start_time": "2023-03-14T11:28:47.300Z"
   },
   {
    "duration": 772,
    "start_time": "2023-03-14T11:31:20.537Z"
   },
   {
    "duration": 248,
    "start_time": "2023-03-14T11:31:21.311Z"
   },
   {
    "duration": 3,
    "start_time": "2023-03-14T11:31:21.561Z"
   },
   {
    "duration": 23,
    "start_time": "2023-03-14T11:31:21.566Z"
   },
   {
    "duration": 144,
    "start_time": "2023-03-14T11:31:21.593Z"
   },
   {
    "duration": 53,
    "start_time": "2023-03-14T11:31:21.739Z"
   },
   {
    "duration": 34,
    "start_time": "2023-03-14T11:31:21.795Z"
   },
   {
    "duration": 2136,
    "start_time": "2023-03-14T11:31:21.832Z"
   },
   {
    "duration": 13,
    "start_time": "2023-03-14T11:31:23.971Z"
   },
   {
    "duration": 13,
    "start_time": "2023-03-14T11:31:23.986Z"
   },
   {
    "duration": 11,
    "start_time": "2023-03-14T11:31:24.001Z"
   },
   {
    "duration": 15,
    "start_time": "2023-03-14T11:31:24.014Z"
   },
   {
    "duration": 39,
    "start_time": "2023-03-14T11:31:24.031Z"
   },
   {
    "duration": 12,
    "start_time": "2023-03-14T11:31:24.074Z"
   },
   {
    "duration": 16,
    "start_time": "2023-03-14T11:31:24.088Z"
   },
   {
    "duration": 20,
    "start_time": "2023-03-14T11:31:24.107Z"
   },
   {
    "duration": 21,
    "start_time": "2023-03-14T11:31:24.130Z"
   },
   {
    "duration": 35,
    "start_time": "2023-03-14T11:31:24.154Z"
   },
   {
    "duration": 339,
    "start_time": "2023-03-14T11:31:24.191Z"
   },
   {
    "duration": 7,
    "start_time": "2023-03-14T11:31:24.533Z"
   },
   {
    "duration": 29,
    "start_time": "2023-03-14T11:31:24.542Z"
   },
   {
    "duration": 17,
    "start_time": "2023-03-14T11:31:24.573Z"
   },
   {
    "duration": 19,
    "start_time": "2023-03-14T11:31:24.593Z"
   },
   {
    "duration": 23,
    "start_time": "2023-03-14T11:31:24.615Z"
   },
   {
    "duration": 14,
    "start_time": "2023-03-14T11:31:24.641Z"
   },
   {
    "duration": 25,
    "start_time": "2023-03-14T11:31:24.658Z"
   },
   {
    "duration": 17,
    "start_time": "2023-03-14T11:31:24.686Z"
   },
   {
    "duration": 10,
    "start_time": "2023-03-14T11:31:24.706Z"
   },
   {
    "duration": 17,
    "start_time": "2023-03-14T11:31:24.719Z"
   },
   {
    "duration": 18,
    "start_time": "2023-03-14T11:31:24.739Z"
   },
   {
    "duration": 16,
    "start_time": "2023-03-14T11:31:24.766Z"
   },
   {
    "duration": 27,
    "start_time": "2023-03-14T11:31:24.785Z"
   },
   {
    "duration": 7,
    "start_time": "2023-03-14T11:31:24.816Z"
   },
   {
    "duration": 29,
    "start_time": "2023-03-14T11:31:24.825Z"
   },
   {
    "duration": 17,
    "start_time": "2023-03-14T11:31:24.864Z"
   },
   {
    "duration": 260,
    "start_time": "2023-03-14T11:31:24.883Z"
   },
   {
    "duration": 9,
    "start_time": "2023-03-14T11:31:25.145Z"
   },
   {
    "duration": 16,
    "start_time": "2023-03-14T11:31:25.164Z"
   },
   {
    "duration": 75,
    "start_time": "2023-03-14T11:31:25.183Z"
   },
   {
    "duration": 14,
    "start_time": "2023-03-14T11:31:25.261Z"
   },
   {
    "duration": 13,
    "start_time": "2023-03-14T11:31:25.282Z"
   },
   {
    "duration": 22,
    "start_time": "2023-03-14T11:31:25.297Z"
   },
   {
    "duration": 60,
    "start_time": "2023-03-14T11:31:25.321Z"
   },
   {
    "duration": 473,
    "start_time": "2023-03-14T11:31:25.384Z"
   },
   {
    "duration": 8,
    "start_time": "2023-03-14T11:31:25.864Z"
   },
   {
    "duration": 22,
    "start_time": "2023-03-14T11:31:25.874Z"
   },
   {
    "duration": 9,
    "start_time": "2023-03-14T11:31:25.897Z"
   },
   {
    "duration": 3,
    "start_time": "2023-03-14T11:31:25.908Z"
   },
   {
    "duration": 25,
    "start_time": "2023-03-14T11:31:25.913Z"
   },
   {
    "duration": 77,
    "start_time": "2023-03-14T11:31:25.940Z"
   },
   {
    "duration": 64,
    "start_time": "2023-03-14T11:31:26.019Z"
   },
   {
    "duration": 8,
    "start_time": "2023-03-14T11:31:26.085Z"
   },
   {
    "duration": 16,
    "start_time": "2023-03-14T11:31:26.095Z"
   },
   {
    "duration": 68,
    "start_time": "2023-03-14T11:31:26.113Z"
   },
   {
    "duration": 35,
    "start_time": "2023-03-14T11:31:26.184Z"
   },
   {
    "duration": 7,
    "start_time": "2023-03-14T11:31:26.221Z"
   },
   {
    "duration": 99,
    "start_time": "2023-03-14T11:31:26.230Z"
   },
   {
    "duration": 46,
    "start_time": "2023-03-14T11:31:26.331Z"
   },
   {
    "duration": 9,
    "start_time": "2023-03-14T11:31:26.379Z"
   },
   {
    "duration": 7,
    "start_time": "2023-03-14T11:31:26.389Z"
   },
   {
    "duration": 71,
    "start_time": "2023-03-14T11:31:26.398Z"
   },
   {
    "duration": 57,
    "start_time": "2023-03-14T11:31:26.472Z"
   },
   {
    "duration": 39,
    "start_time": "2023-03-14T11:31:26.530Z"
   },
   {
    "duration": 39,
    "start_time": "2023-03-14T11:31:26.571Z"
   },
   {
    "duration": 9,
    "start_time": "2023-03-14T11:31:26.612Z"
   },
   {
    "duration": 7,
    "start_time": "2023-03-14T11:31:26.622Z"
   },
   {
    "duration": 72,
    "start_time": "2023-03-14T11:31:26.632Z"
   },
   {
    "duration": 15,
    "start_time": "2023-03-14T11:31:26.709Z"
   },
   {
    "duration": 16,
    "start_time": "2023-03-14T11:31:26.727Z"
   },
   {
    "duration": 95,
    "start_time": "2023-03-14T11:31:26.745Z"
   },
   {
    "duration": 3,
    "start_time": "2023-03-14T11:31:26.842Z"
   },
   {
    "duration": 27,
    "start_time": "2023-03-14T11:31:26.847Z"
   },
   {
    "duration": 30,
    "start_time": "2023-03-14T11:31:26.877Z"
   },
   {
    "duration": 96,
    "start_time": "2023-03-14T11:31:26.909Z"
   },
   {
    "duration": 6,
    "start_time": "2023-03-14T11:31:27.008Z"
   },
   {
    "duration": 14,
    "start_time": "2023-03-14T11:31:27.016Z"
   },
   {
    "duration": 6,
    "start_time": "2023-03-14T11:31:27.032Z"
   },
   {
    "duration": 27,
    "start_time": "2023-03-14T11:31:27.040Z"
   },
   {
    "duration": 503,
    "start_time": "2023-03-14T11:31:27.069Z"
   },
   {
    "duration": 5,
    "start_time": "2023-03-14T11:31:27.574Z"
   },
   {
    "duration": 341,
    "start_time": "2023-03-14T11:31:27.581Z"
   },
   {
    "duration": 387,
    "start_time": "2023-03-14T11:31:27.924Z"
   },
   {
    "duration": 368,
    "start_time": "2023-03-14T11:31:28.314Z"
   },
   {
    "duration": 318,
    "start_time": "2023-03-14T11:31:28.684Z"
   },
   {
    "duration": 192,
    "start_time": "2023-03-14T11:31:29.005Z"
   },
   {
    "duration": 286,
    "start_time": "2023-03-14T11:31:29.200Z"
   },
   {
    "duration": 180,
    "start_time": "2023-03-14T11:31:29.488Z"
   },
   {
    "duration": 142,
    "start_time": "2023-03-14T11:31:29.671Z"
   },
   {
    "duration": 193,
    "start_time": "2023-03-14T11:31:29.816Z"
   },
   {
    "duration": 211,
    "start_time": "2023-03-14T11:31:30.011Z"
   },
   {
    "duration": 200,
    "start_time": "2023-03-14T11:31:30.225Z"
   },
   {
    "duration": 189,
    "start_time": "2023-03-14T11:31:30.428Z"
   },
   {
    "duration": 174,
    "start_time": "2023-03-14T11:31:30.619Z"
   },
   {
    "duration": 201,
    "start_time": "2023-03-14T11:31:30.795Z"
   },
   {
    "duration": 186,
    "start_time": "2023-03-14T11:31:30.998Z"
   },
   {
    "duration": 475,
    "start_time": "2023-03-14T11:31:31.186Z"
   },
   {
    "duration": 11,
    "start_time": "2023-03-14T11:31:31.664Z"
   },
   {
    "duration": 485,
    "start_time": "2023-03-14T11:31:31.677Z"
   },
   {
    "duration": 286,
    "start_time": "2023-03-14T11:31:32.165Z"
   },
   {
    "duration": 240,
    "start_time": "2023-03-14T11:31:32.453Z"
   },
   {
    "duration": 368,
    "start_time": "2023-03-14T11:31:32.696Z"
   },
   {
    "duration": 511,
    "start_time": "2023-03-14T11:31:33.066Z"
   },
   {
    "duration": 644,
    "start_time": "2023-03-14T11:31:33.579Z"
   },
   {
    "duration": 40,
    "start_time": "2023-03-14T11:31:34.225Z"
   },
   {
    "duration": 1926,
    "start_time": "2023-03-14T11:31:34.267Z"
   },
   {
    "duration": 452,
    "start_time": "2023-03-14T11:31:36.195Z"
   },
   {
    "duration": 530,
    "start_time": "2023-03-14T11:31:36.649Z"
   },
   {
    "duration": 405,
    "start_time": "2023-03-14T11:31:37.181Z"
   },
   {
    "duration": 195,
    "start_time": "2023-03-14T11:31:37.588Z"
   },
   {
    "duration": 425,
    "start_time": "2023-03-14T11:31:37.785Z"
   },
   {
    "duration": 472,
    "start_time": "2023-03-14T11:31:38.213Z"
   },
   {
    "duration": 20,
    "start_time": "2023-03-14T11:31:48.243Z"
   },
   {
    "duration": 31,
    "start_time": "2023-03-14T11:32:07.760Z"
   },
   {
    "duration": 11,
    "start_time": "2023-03-14T11:32:19.345Z"
   },
   {
    "duration": 23,
    "start_time": "2023-03-14T11:32:31.712Z"
   },
   {
    "duration": 306,
    "start_time": "2023-03-14T11:32:40.760Z"
   },
   {
    "duration": 21,
    "start_time": "2023-03-14T11:33:07.413Z"
   },
   {
    "duration": 197,
    "start_time": "2023-03-14T11:33:08.709Z"
   },
   {
    "duration": 27,
    "start_time": "2023-03-14T11:34:28.505Z"
   },
   {
    "duration": 15,
    "start_time": "2023-03-14T11:35:09.952Z"
   },
   {
    "duration": 762,
    "start_time": "2023-03-14T11:35:27.571Z"
   },
   {
    "duration": 329,
    "start_time": "2023-03-14T11:35:28.336Z"
   },
   {
    "duration": 4,
    "start_time": "2023-03-14T11:35:28.667Z"
   },
   {
    "duration": 21,
    "start_time": "2023-03-14T11:35:28.673Z"
   },
   {
    "duration": 107,
    "start_time": "2023-03-14T11:35:28.696Z"
   },
   {
    "duration": 33,
    "start_time": "2023-03-14T11:35:28.805Z"
   },
   {
    "duration": 48,
    "start_time": "2023-03-14T11:35:28.840Z"
   },
   {
    "duration": 2125,
    "start_time": "2023-03-14T11:35:28.891Z"
   },
   {
    "duration": 11,
    "start_time": "2023-03-14T11:35:31.019Z"
   },
   {
    "duration": 30,
    "start_time": "2023-03-14T11:35:31.032Z"
   },
   {
    "duration": 33,
    "start_time": "2023-03-14T11:35:31.064Z"
   },
   {
    "duration": 40,
    "start_time": "2023-03-14T11:35:31.099Z"
   },
   {
    "duration": 33,
    "start_time": "2023-03-14T11:35:31.141Z"
   },
   {
    "duration": 45,
    "start_time": "2023-03-14T11:35:31.178Z"
   },
   {
    "duration": 43,
    "start_time": "2023-03-14T11:35:31.225Z"
   },
   {
    "duration": 23,
    "start_time": "2023-03-14T11:35:31.270Z"
   },
   {
    "duration": 44,
    "start_time": "2023-03-14T11:35:31.295Z"
   },
   {
    "duration": 42,
    "start_time": "2023-03-14T11:35:31.341Z"
   },
   {
    "duration": 363,
    "start_time": "2023-03-14T11:35:31.385Z"
   },
   {
    "duration": 14,
    "start_time": "2023-03-14T11:35:31.750Z"
   },
   {
    "duration": 39,
    "start_time": "2023-03-14T11:35:31.766Z"
   },
   {
    "duration": 25,
    "start_time": "2023-03-14T11:35:31.807Z"
   },
   {
    "duration": 37,
    "start_time": "2023-03-14T11:35:31.833Z"
   },
   {
    "duration": 51,
    "start_time": "2023-03-14T11:35:31.872Z"
   },
   {
    "duration": 19,
    "start_time": "2023-03-14T11:35:31.924Z"
   },
   {
    "duration": 28,
    "start_time": "2023-03-14T11:35:31.945Z"
   },
   {
    "duration": 20,
    "start_time": "2023-03-14T11:35:31.975Z"
   },
   {
    "duration": 30,
    "start_time": "2023-03-14T11:35:32.004Z"
   },
   {
    "duration": 26,
    "start_time": "2023-03-14T11:35:32.036Z"
   },
   {
    "duration": 28,
    "start_time": "2023-03-14T11:35:32.064Z"
   },
   {
    "duration": 26,
    "start_time": "2023-03-14T11:35:32.094Z"
   },
   {
    "duration": 54,
    "start_time": "2023-03-14T11:35:32.122Z"
   },
   {
    "duration": 7,
    "start_time": "2023-03-14T11:35:32.178Z"
   },
   {
    "duration": 17,
    "start_time": "2023-03-14T11:35:32.186Z"
   },
   {
    "duration": 7,
    "start_time": "2023-03-14T11:35:32.205Z"
   },
   {
    "duration": 242,
    "start_time": "2023-03-14T11:35:32.214Z"
   },
   {
    "duration": 8,
    "start_time": "2023-03-14T11:35:32.458Z"
   },
   {
    "duration": 25,
    "start_time": "2023-03-14T11:35:32.468Z"
   },
   {
    "duration": 44,
    "start_time": "2023-03-14T11:35:32.494Z"
   },
   {
    "duration": 10,
    "start_time": "2023-03-14T11:35:32.540Z"
   },
   {
    "duration": 6,
    "start_time": "2023-03-14T11:35:32.571Z"
   },
   {
    "duration": 17,
    "start_time": "2023-03-14T11:35:32.579Z"
   },
   {
    "duration": 29,
    "start_time": "2023-03-14T11:35:32.598Z"
   },
   {
    "duration": 489,
    "start_time": "2023-03-14T11:35:32.629Z"
   },
   {
    "duration": 6,
    "start_time": "2023-03-14T11:35:33.120Z"
   },
   {
    "duration": 27,
    "start_time": "2023-03-14T11:35:33.128Z"
   },
   {
    "duration": 11,
    "start_time": "2023-03-14T11:35:33.157Z"
   },
   {
    "duration": 7,
    "start_time": "2023-03-14T11:35:33.170Z"
   },
   {
    "duration": 29,
    "start_time": "2023-03-14T11:35:33.179Z"
   },
   {
    "duration": 55,
    "start_time": "2023-03-14T11:35:33.210Z"
   },
   {
    "duration": 43,
    "start_time": "2023-03-14T11:35:33.267Z"
   },
   {
    "duration": 9,
    "start_time": "2023-03-14T11:35:33.312Z"
   },
   {
    "duration": 34,
    "start_time": "2023-03-14T11:35:33.323Z"
   },
   {
    "duration": 37,
    "start_time": "2023-03-14T11:35:33.360Z"
   },
   {
    "duration": 31,
    "start_time": "2023-03-14T11:35:33.399Z"
   },
   {
    "duration": 6,
    "start_time": "2023-03-14T11:35:33.432Z"
   },
   {
    "duration": 98,
    "start_time": "2023-03-14T11:35:33.440Z"
   },
   {
    "duration": 65,
    "start_time": "2023-03-14T11:35:33.540Z"
   },
   {
    "duration": 10,
    "start_time": "2023-03-14T11:35:33.607Z"
   },
   {
    "duration": 5,
    "start_time": "2023-03-14T11:35:33.619Z"
   },
   {
    "duration": 68,
    "start_time": "2023-03-14T11:35:33.626Z"
   },
   {
    "duration": 44,
    "start_time": "2023-03-14T11:35:33.696Z"
   },
   {
    "duration": 34,
    "start_time": "2023-03-14T11:35:33.742Z"
   },
   {
    "duration": 25,
    "start_time": "2023-03-14T11:35:33.778Z"
   },
   {
    "duration": 8,
    "start_time": "2023-03-14T11:35:33.805Z"
   },
   {
    "duration": 12,
    "start_time": "2023-03-14T11:35:33.815Z"
   },
   {
    "duration": 59,
    "start_time": "2023-03-14T11:35:33.829Z"
   },
   {
    "duration": 9,
    "start_time": "2023-03-14T11:35:33.890Z"
   },
   {
    "duration": 11,
    "start_time": "2023-03-14T11:35:33.901Z"
   },
   {
    "duration": 107,
    "start_time": "2023-03-14T11:35:33.914Z"
   },
   {
    "duration": 3,
    "start_time": "2023-03-14T11:35:34.024Z"
   },
   {
    "duration": 37,
    "start_time": "2023-03-14T11:35:34.029Z"
   },
   {
    "duration": 30,
    "start_time": "2023-03-14T11:35:34.068Z"
   },
   {
    "duration": 117,
    "start_time": "2023-03-14T11:35:34.100Z"
   },
   {
    "duration": 6,
    "start_time": "2023-03-14T11:35:34.220Z"
   },
   {
    "duration": 32,
    "start_time": "2023-03-14T11:35:34.228Z"
   },
   {
    "duration": 35,
    "start_time": "2023-03-14T11:35:34.262Z"
   },
   {
    "duration": 12,
    "start_time": "2023-03-14T11:35:34.299Z"
   },
   {
    "duration": 538,
    "start_time": "2023-03-14T11:35:34.313Z"
   },
   {
    "duration": 11,
    "start_time": "2023-03-14T11:35:34.853Z"
   },
   {
    "duration": 392,
    "start_time": "2023-03-14T11:35:34.867Z"
   },
   {
    "duration": 330,
    "start_time": "2023-03-14T11:35:35.264Z"
   },
   {
    "duration": 368,
    "start_time": "2023-03-14T11:35:35.596Z"
   },
   {
    "duration": 326,
    "start_time": "2023-03-14T11:35:35.966Z"
   },
   {
    "duration": 198,
    "start_time": "2023-03-14T11:35:36.294Z"
   },
   {
    "duration": 296,
    "start_time": "2023-03-14T11:35:36.494Z"
   },
   {
    "duration": 186,
    "start_time": "2023-03-14T11:35:36.793Z"
   },
   {
    "duration": 141,
    "start_time": "2023-03-14T11:35:36.981Z"
   },
   {
    "duration": 179,
    "start_time": "2023-03-14T11:35:37.124Z"
   },
   {
    "duration": 180,
    "start_time": "2023-03-14T11:35:37.305Z"
   },
   {
    "duration": 177,
    "start_time": "2023-03-14T11:35:37.487Z"
   },
   {
    "duration": 193,
    "start_time": "2023-03-14T11:35:37.665Z"
   },
   {
    "duration": 182,
    "start_time": "2023-03-14T11:35:37.865Z"
   },
   {
    "duration": 209,
    "start_time": "2023-03-14T11:35:38.049Z"
   },
   {
    "duration": 186,
    "start_time": "2023-03-14T11:35:38.265Z"
   },
   {
    "duration": 461,
    "start_time": "2023-03-14T11:35:38.453Z"
   },
   {
    "duration": 11,
    "start_time": "2023-03-14T11:35:38.917Z"
   },
   {
    "duration": 466,
    "start_time": "2023-03-14T11:35:38.930Z"
   },
   {
    "duration": 305,
    "start_time": "2023-03-14T11:35:39.399Z"
   },
   {
    "duration": 232,
    "start_time": "2023-03-14T11:35:39.706Z"
   },
   {
    "duration": 364,
    "start_time": "2023-03-14T11:35:39.940Z"
   },
   {
    "duration": 494,
    "start_time": "2023-03-14T11:35:40.306Z"
   },
   {
    "duration": 580,
    "start_time": "2023-03-14T11:35:40.802Z"
   },
   {
    "duration": 17,
    "start_time": "2023-03-14T11:35:41.384Z"
   },
   {
    "duration": 1773,
    "start_time": "2023-03-14T11:35:41.403Z"
   },
   {
    "duration": 460,
    "start_time": "2023-03-14T11:35:43.178Z"
   },
   {
    "duration": 467,
    "start_time": "2023-03-14T11:35:43.640Z"
   },
   {
    "duration": 407,
    "start_time": "2023-03-14T11:35:44.109Z"
   },
   {
    "duration": 261,
    "start_time": "2023-03-14T11:35:44.518Z"
   },
   {
    "duration": 432,
    "start_time": "2023-03-14T11:35:44.781Z"
   },
   {
    "duration": 500,
    "start_time": "2023-03-14T11:35:45.215Z"
   },
   {
    "duration": 20,
    "start_time": "2023-03-14T11:35:45.716Z"
   },
   {
    "duration": 49,
    "start_time": "2023-03-14T11:35:45.738Z"
   },
   {
    "duration": 18,
    "start_time": "2023-03-14T11:35:45.788Z"
   },
   {
    "duration": 10,
    "start_time": "2023-03-14T11:35:45.808Z"
   },
   {
    "duration": 16,
    "start_time": "2023-03-14T11:37:18.359Z"
   },
   {
    "duration": 26,
    "start_time": "2023-03-14T11:37:51.517Z"
   },
   {
    "duration": 15,
    "start_time": "2023-03-14T11:38:11.308Z"
   },
   {
    "duration": 785,
    "start_time": "2023-03-14T11:38:49.640Z"
   },
   {
    "duration": 244,
    "start_time": "2023-03-14T11:38:50.428Z"
   },
   {
    "duration": 3,
    "start_time": "2023-03-14T11:38:50.674Z"
   },
   {
    "duration": 23,
    "start_time": "2023-03-14T11:38:50.680Z"
   },
   {
    "duration": 105,
    "start_time": "2023-03-14T11:38:50.705Z"
   },
   {
    "duration": 33,
    "start_time": "2023-03-14T11:38:50.812Z"
   },
   {
    "duration": 33,
    "start_time": "2023-03-14T11:38:50.863Z"
   },
   {
    "duration": 2218,
    "start_time": "2023-03-14T11:38:50.898Z"
   },
   {
    "duration": 11,
    "start_time": "2023-03-14T11:38:53.118Z"
   },
   {
    "duration": 9,
    "start_time": "2023-03-14T11:38:53.131Z"
   },
   {
    "duration": 8,
    "start_time": "2023-03-14T11:38:53.142Z"
   },
   {
    "duration": 23,
    "start_time": "2023-03-14T11:38:53.163Z"
   },
   {
    "duration": 20,
    "start_time": "2023-03-14T11:38:53.188Z"
   },
   {
    "duration": 11,
    "start_time": "2023-03-14T11:38:53.212Z"
   },
   {
    "duration": 25,
    "start_time": "2023-03-14T11:38:53.225Z"
   },
   {
    "duration": 4,
    "start_time": "2023-03-14T11:38:53.252Z"
   },
   {
    "duration": 13,
    "start_time": "2023-03-14T11:38:53.258Z"
   },
   {
    "duration": 13,
    "start_time": "2023-03-14T11:38:53.273Z"
   },
   {
    "duration": 339,
    "start_time": "2023-03-14T11:38:53.288Z"
   },
   {
    "duration": 4,
    "start_time": "2023-03-14T11:38:53.629Z"
   },
   {
    "duration": 29,
    "start_time": "2023-03-14T11:38:53.635Z"
   },
   {
    "duration": 5,
    "start_time": "2023-03-14T11:38:53.667Z"
   },
   {
    "duration": 8,
    "start_time": "2023-03-14T11:38:53.674Z"
   },
   {
    "duration": 11,
    "start_time": "2023-03-14T11:38:53.684Z"
   },
   {
    "duration": 13,
    "start_time": "2023-03-14T11:38:53.697Z"
   },
   {
    "duration": 15,
    "start_time": "2023-03-14T11:38:53.712Z"
   },
   {
    "duration": 40,
    "start_time": "2023-03-14T11:38:53.729Z"
   },
   {
    "duration": 5,
    "start_time": "2023-03-14T11:38:53.771Z"
   },
   {
    "duration": 25,
    "start_time": "2023-03-14T11:38:53.778Z"
   },
   {
    "duration": 15,
    "start_time": "2023-03-14T11:38:53.805Z"
   },
   {
    "duration": 17,
    "start_time": "2023-03-14T11:38:53.822Z"
   },
   {
    "duration": 29,
    "start_time": "2023-03-14T11:38:53.841Z"
   },
   {
    "duration": 7,
    "start_time": "2023-03-14T11:38:53.872Z"
   },
   {
    "duration": 17,
    "start_time": "2023-03-14T11:38:53.881Z"
   },
   {
    "duration": 8,
    "start_time": "2023-03-14T11:38:53.900Z"
   },
   {
    "duration": 255,
    "start_time": "2023-03-14T11:38:53.910Z"
   },
   {
    "duration": 7,
    "start_time": "2023-03-14T11:38:54.167Z"
   },
   {
    "duration": 15,
    "start_time": "2023-03-14T11:38:54.176Z"
   },
   {
    "duration": 44,
    "start_time": "2023-03-14T11:38:54.193Z"
   },
   {
    "duration": 76,
    "start_time": "2023-03-14T11:38:54.239Z"
   },
   {
    "duration": 25,
    "start_time": "2023-03-14T11:38:54.321Z"
   },
   {
    "duration": 31,
    "start_time": "2023-03-14T11:38:54.348Z"
   },
   {
    "duration": 35,
    "start_time": "2023-03-14T11:38:54.381Z"
   },
   {
    "duration": 643,
    "start_time": "2023-03-14T11:38:54.418Z"
   },
   {
    "duration": 8,
    "start_time": "2023-03-14T11:38:55.075Z"
   },
   {
    "duration": 28,
    "start_time": "2023-03-14T11:38:55.085Z"
   },
   {
    "duration": 25,
    "start_time": "2023-03-14T11:38:55.115Z"
   },
   {
    "duration": 8,
    "start_time": "2023-03-14T11:38:55.142Z"
   },
   {
    "duration": 27,
    "start_time": "2023-03-14T11:38:55.152Z"
   },
   {
    "duration": 141,
    "start_time": "2023-03-14T11:38:55.181Z"
   },
   {
    "duration": 30,
    "start_time": "2023-03-14T11:38:55.324Z"
   },
   {
    "duration": 14,
    "start_time": "2023-03-14T11:38:55.356Z"
   },
   {
    "duration": 22,
    "start_time": "2023-03-14T11:38:55.373Z"
   },
   {
    "duration": 76,
    "start_time": "2023-03-14T11:38:55.397Z"
   },
   {
    "duration": 40,
    "start_time": "2023-03-14T11:38:55.476Z"
   },
   {
    "duration": 7,
    "start_time": "2023-03-14T11:38:55.518Z"
   },
   {
    "duration": 107,
    "start_time": "2023-03-14T11:38:55.526Z"
   },
   {
    "duration": 58,
    "start_time": "2023-03-14T11:38:55.635Z"
   },
   {
    "duration": 16,
    "start_time": "2023-03-14T11:38:55.696Z"
   },
   {
    "duration": 15,
    "start_time": "2023-03-14T11:38:55.714Z"
   },
   {
    "duration": 63,
    "start_time": "2023-03-14T11:38:55.731Z"
   },
   {
    "duration": 44,
    "start_time": "2023-03-14T11:38:55.796Z"
   },
   {
    "duration": 30,
    "start_time": "2023-03-14T11:38:55.842Z"
   },
   {
    "duration": 38,
    "start_time": "2023-03-14T11:38:55.875Z"
   },
   {
    "duration": 8,
    "start_time": "2023-03-14T11:38:55.915Z"
   },
   {
    "duration": 4,
    "start_time": "2023-03-14T11:38:55.925Z"
   },
   {
    "duration": 66,
    "start_time": "2023-03-14T11:38:55.931Z"
   },
   {
    "duration": 10,
    "start_time": "2023-03-14T11:38:55.999Z"
   },
   {
    "duration": 12,
    "start_time": "2023-03-14T11:38:56.011Z"
   },
   {
    "duration": 109,
    "start_time": "2023-03-14T11:38:56.025Z"
   },
   {
    "duration": 4,
    "start_time": "2023-03-14T11:38:56.136Z"
   },
   {
    "duration": 38,
    "start_time": "2023-03-14T11:38:56.141Z"
   },
   {
    "duration": 37,
    "start_time": "2023-03-14T11:38:56.181Z"
   },
   {
    "duration": 104,
    "start_time": "2023-03-14T11:38:56.220Z"
   },
   {
    "duration": 5,
    "start_time": "2023-03-14T11:38:56.326Z"
   },
   {
    "duration": 13,
    "start_time": "2023-03-14T11:38:56.333Z"
   },
   {
    "duration": 17,
    "start_time": "2023-03-14T11:38:56.348Z"
   },
   {
    "duration": 7,
    "start_time": "2023-03-14T11:38:56.367Z"
   },
   {
    "duration": 533,
    "start_time": "2023-03-14T11:38:56.376Z"
   },
   {
    "duration": 5,
    "start_time": "2023-03-14T11:38:56.911Z"
   },
   {
    "duration": 327,
    "start_time": "2023-03-14T11:38:56.918Z"
   },
   {
    "duration": 331,
    "start_time": "2023-03-14T11:38:57.248Z"
   },
   {
    "duration": 350,
    "start_time": "2023-03-14T11:38:57.581Z"
   },
   {
    "duration": 325,
    "start_time": "2023-03-14T11:38:57.933Z"
   },
   {
    "duration": 185,
    "start_time": "2023-03-14T11:38:58.264Z"
   },
   {
    "duration": 268,
    "start_time": "2023-03-14T11:38:58.451Z"
   },
   {
    "duration": 179,
    "start_time": "2023-03-14T11:38:58.720Z"
   },
   {
    "duration": 146,
    "start_time": "2023-03-14T11:38:58.901Z"
   },
   {
    "duration": 190,
    "start_time": "2023-03-14T11:38:59.048Z"
   },
   {
    "duration": 210,
    "start_time": "2023-03-14T11:38:59.240Z"
   },
   {
    "duration": 185,
    "start_time": "2023-03-14T11:38:59.452Z"
   },
   {
    "duration": 183,
    "start_time": "2023-03-14T11:38:59.638Z"
   },
   {
    "duration": 181,
    "start_time": "2023-03-14T11:38:59.823Z"
   },
   {
    "duration": 201,
    "start_time": "2023-03-14T11:39:00.006Z"
   },
   {
    "duration": 201,
    "start_time": "2023-03-14T11:39:00.209Z"
   },
   {
    "duration": 472,
    "start_time": "2023-03-14T11:39:00.412Z"
   },
   {
    "duration": 10,
    "start_time": "2023-03-14T11:39:00.886Z"
   },
   {
    "duration": 509,
    "start_time": "2023-03-14T11:39:00.898Z"
   },
   {
    "duration": 287,
    "start_time": "2023-03-14T11:39:01.409Z"
   },
   {
    "duration": 237,
    "start_time": "2023-03-14T11:39:01.699Z"
   },
   {
    "duration": 384,
    "start_time": "2023-03-14T11:39:01.938Z"
   },
   {
    "duration": 495,
    "start_time": "2023-03-14T11:39:02.324Z"
   },
   {
    "duration": 612,
    "start_time": "2023-03-14T11:39:02.821Z"
   },
   {
    "duration": 31,
    "start_time": "2023-03-14T11:39:03.435Z"
   },
   {
    "duration": 1906,
    "start_time": "2023-03-14T11:39:03.468Z"
   },
   {
    "duration": 439,
    "start_time": "2023-03-14T11:39:05.376Z"
   },
   {
    "duration": 477,
    "start_time": "2023-03-14T11:39:05.817Z"
   },
   {
    "duration": 406,
    "start_time": "2023-03-14T11:39:06.297Z"
   },
   {
    "duration": 212,
    "start_time": "2023-03-14T11:39:06.705Z"
   },
   {
    "duration": 399,
    "start_time": "2023-03-14T11:39:06.919Z"
   },
   {
    "duration": 478,
    "start_time": "2023-03-14T11:39:07.320Z"
   },
   {
    "duration": 23,
    "start_time": "2023-03-14T11:39:13.959Z"
   },
   {
    "duration": 15,
    "start_time": "2023-03-14T11:39:29.136Z"
   },
   {
    "duration": 31,
    "start_time": "2023-03-14T11:39:35.802Z"
   },
   {
    "duration": 12,
    "start_time": "2023-03-14T11:39:55.276Z"
   },
   {
    "duration": 17,
    "start_time": "2023-03-14T11:40:08.576Z"
   },
   {
    "duration": 8,
    "start_time": "2023-03-14T11:40:28.629Z"
   },
   {
    "duration": 28,
    "start_time": "2023-03-14T11:40:38.306Z"
   },
   {
    "duration": 9,
    "start_time": "2023-03-14T11:41:20.132Z"
   },
   {
    "duration": 107,
    "start_time": "2023-03-14T11:41:35.109Z"
   },
   {
    "duration": 56,
    "start_time": "2023-03-14T11:41:50.122Z"
   },
   {
    "duration": 24,
    "start_time": "2023-03-14T11:42:23.437Z"
   },
   {
    "duration": 45,
    "start_time": "2023-03-14T11:42:43.965Z"
   },
   {
    "duration": 37,
    "start_time": "2023-03-14T11:43:00.046Z"
   },
   {
    "duration": 61,
    "start_time": "2023-03-14T11:43:12.259Z"
   },
   {
    "duration": 4,
    "start_time": "2023-03-14T11:43:31.858Z"
   },
   {
    "duration": 5,
    "start_time": "2023-03-14T11:43:34.933Z"
   },
   {
    "duration": 6,
    "start_time": "2023-03-14T11:43:36.525Z"
   },
   {
    "duration": 14,
    "start_time": "2023-03-14T11:43:39.046Z"
   },
   {
    "duration": 22,
    "start_time": "2023-03-14T11:44:19.631Z"
   },
   {
    "duration": 175,
    "start_time": "2023-03-14T11:44:20.722Z"
   },
   {
    "duration": 26,
    "start_time": "2023-03-14T11:44:31.710Z"
   },
   {
    "duration": 4,
    "start_time": "2023-03-14T11:44:32.856Z"
   },
   {
    "duration": 5,
    "start_time": "2023-03-14T11:44:34.422Z"
   },
   {
    "duration": 6,
    "start_time": "2023-03-14T11:44:35.865Z"
   },
   {
    "duration": 1037,
    "start_time": "2023-03-14T11:44:39.947Z"
   },
   {
    "duration": 27,
    "start_time": "2023-03-14T11:47:00.320Z"
   },
   {
    "duration": 771,
    "start_time": "2023-03-14T11:51:41.928Z"
   },
   {
    "duration": 174,
    "start_time": "2023-03-14T11:51:42.702Z"
   },
   {
    "duration": 4,
    "start_time": "2023-03-14T11:51:42.878Z"
   },
   {
    "duration": 36,
    "start_time": "2023-03-14T11:51:42.885Z"
   },
   {
    "duration": 91,
    "start_time": "2023-03-14T11:51:42.924Z"
   },
   {
    "duration": 56,
    "start_time": "2023-03-14T11:51:43.017Z"
   },
   {
    "duration": 46,
    "start_time": "2023-03-14T11:51:43.075Z"
   },
   {
    "duration": 2361,
    "start_time": "2023-03-14T11:51:43.123Z"
   },
   {
    "duration": 11,
    "start_time": "2023-03-14T11:51:45.486Z"
   },
   {
    "duration": 25,
    "start_time": "2023-03-14T11:51:45.501Z"
   },
   {
    "duration": 49,
    "start_time": "2023-03-14T11:51:45.528Z"
   },
   {
    "duration": 12,
    "start_time": "2023-03-14T11:51:45.579Z"
   },
   {
    "duration": 21,
    "start_time": "2023-03-14T11:51:45.593Z"
   },
   {
    "duration": 7,
    "start_time": "2023-03-14T11:51:45.616Z"
   },
   {
    "duration": 14,
    "start_time": "2023-03-14T11:51:45.626Z"
   },
   {
    "duration": 23,
    "start_time": "2023-03-14T11:51:45.642Z"
   },
   {
    "duration": 4,
    "start_time": "2023-03-14T11:51:45.667Z"
   },
   {
    "duration": 17,
    "start_time": "2023-03-14T11:51:45.673Z"
   },
   {
    "duration": 362,
    "start_time": "2023-03-14T11:51:45.692Z"
   },
   {
    "duration": 11,
    "start_time": "2023-03-14T11:51:46.057Z"
   },
   {
    "duration": 18,
    "start_time": "2023-03-14T11:51:46.070Z"
   },
   {
    "duration": 5,
    "start_time": "2023-03-14T11:51:46.091Z"
   },
   {
    "duration": 14,
    "start_time": "2023-03-14T11:51:46.098Z"
   },
   {
    "duration": 19,
    "start_time": "2023-03-14T11:51:46.115Z"
   },
   {
    "duration": 28,
    "start_time": "2023-03-14T11:51:46.137Z"
   },
   {
    "duration": 6,
    "start_time": "2023-03-14T11:51:46.168Z"
   },
   {
    "duration": 13,
    "start_time": "2023-03-14T11:51:46.177Z"
   },
   {
    "duration": 7,
    "start_time": "2023-03-14T11:51:46.200Z"
   },
   {
    "duration": 15,
    "start_time": "2023-03-14T11:51:46.210Z"
   },
   {
    "duration": 42,
    "start_time": "2023-03-14T11:51:46.228Z"
   },
   {
    "duration": 7,
    "start_time": "2023-03-14T11:51:46.272Z"
   },
   {
    "duration": 21,
    "start_time": "2023-03-14T11:51:46.281Z"
   },
   {
    "duration": 8,
    "start_time": "2023-03-14T11:51:46.305Z"
   },
   {
    "duration": 19,
    "start_time": "2023-03-14T11:51:46.316Z"
   },
   {
    "duration": 7,
    "start_time": "2023-03-14T11:51:46.365Z"
   },
   {
    "duration": 244,
    "start_time": "2023-03-14T11:51:46.374Z"
   },
   {
    "duration": 7,
    "start_time": "2023-03-14T11:51:46.620Z"
   },
   {
    "duration": 15,
    "start_time": "2023-03-14T11:51:46.629Z"
   },
   {
    "duration": 70,
    "start_time": "2023-03-14T11:51:46.646Z"
   },
   {
    "duration": 25,
    "start_time": "2023-03-14T11:51:46.720Z"
   },
   {
    "duration": 11,
    "start_time": "2023-03-14T11:51:46.748Z"
   },
   {
    "duration": 7,
    "start_time": "2023-03-14T11:51:46.760Z"
   },
   {
    "duration": 35,
    "start_time": "2023-03-14T11:51:46.769Z"
   },
   {
    "duration": 484,
    "start_time": "2023-03-14T11:51:46.806Z"
   },
   {
    "duration": 6,
    "start_time": "2023-03-14T11:51:47.292Z"
   },
   {
    "duration": 19,
    "start_time": "2023-03-14T11:51:47.300Z"
   },
   {
    "duration": 11,
    "start_time": "2023-03-14T11:51:47.321Z"
   },
   {
    "duration": 6,
    "start_time": "2023-03-14T11:51:47.334Z"
   },
   {
    "duration": 38,
    "start_time": "2023-03-14T11:51:47.342Z"
   },
   {
    "duration": 45,
    "start_time": "2023-03-14T11:51:47.382Z"
   },
   {
    "duration": 52,
    "start_time": "2023-03-14T11:51:47.429Z"
   },
   {
    "duration": 8,
    "start_time": "2023-03-14T11:51:47.484Z"
   },
   {
    "duration": 22,
    "start_time": "2023-03-14T11:51:47.494Z"
   },
   {
    "duration": 58,
    "start_time": "2023-03-14T11:51:47.518Z"
   },
   {
    "duration": 40,
    "start_time": "2023-03-14T11:51:47.578Z"
   },
   {
    "duration": 6,
    "start_time": "2023-03-14T11:51:47.621Z"
   },
   {
    "duration": 106,
    "start_time": "2023-03-14T11:51:47.630Z"
   },
   {
    "duration": 48,
    "start_time": "2023-03-14T11:51:47.738Z"
   },
   {
    "duration": 9,
    "start_time": "2023-03-14T11:51:47.788Z"
   },
   {
    "duration": 11,
    "start_time": "2023-03-14T11:51:47.799Z"
   },
   {
    "duration": 63,
    "start_time": "2023-03-14T11:51:47.812Z"
   },
   {
    "duration": 46,
    "start_time": "2023-03-14T11:51:47.877Z"
   },
   {
    "duration": 42,
    "start_time": "2023-03-14T11:51:47.926Z"
   },
   {
    "duration": 41,
    "start_time": "2023-03-14T11:51:47.971Z"
   },
   {
    "duration": 10,
    "start_time": "2023-03-14T11:51:48.015Z"
   },
   {
    "duration": 13,
    "start_time": "2023-03-14T11:51:48.027Z"
   },
   {
    "duration": 50,
    "start_time": "2023-03-14T11:51:48.042Z"
   },
   {
    "duration": 8,
    "start_time": "2023-03-14T11:51:48.094Z"
   },
   {
    "duration": 14,
    "start_time": "2023-03-14T11:51:48.104Z"
   },
   {
    "duration": 105,
    "start_time": "2023-03-14T11:51:48.120Z"
   },
   {
    "duration": 3,
    "start_time": "2023-03-14T11:51:48.227Z"
   },
   {
    "duration": 35,
    "start_time": "2023-03-14T11:51:48.232Z"
   },
   {
    "duration": 29,
    "start_time": "2023-03-14T11:51:48.269Z"
   },
   {
    "duration": 99,
    "start_time": "2023-03-14T11:51:48.300Z"
   },
   {
    "duration": 5,
    "start_time": "2023-03-14T11:51:48.401Z"
   },
   {
    "duration": 9,
    "start_time": "2023-03-14T11:51:48.408Z"
   },
   {
    "duration": 14,
    "start_time": "2023-03-14T11:51:48.420Z"
   },
   {
    "duration": 29,
    "start_time": "2023-03-14T11:51:48.436Z"
   },
   {
    "duration": 491,
    "start_time": "2023-03-14T11:51:48.467Z"
   },
   {
    "duration": 6,
    "start_time": "2023-03-14T11:51:48.960Z"
   },
   {
    "duration": 324,
    "start_time": "2023-03-14T11:51:48.968Z"
   },
   {
    "duration": 346,
    "start_time": "2023-03-14T11:51:49.300Z"
   },
   {
    "duration": 371,
    "start_time": "2023-03-14T11:51:49.648Z"
   },
   {
    "duration": 354,
    "start_time": "2023-03-14T11:51:50.020Z"
   },
   {
    "duration": 185,
    "start_time": "2023-03-14T11:51:50.376Z"
   },
   {
    "duration": 258,
    "start_time": "2023-03-14T11:51:50.564Z"
   },
   {
    "duration": 179,
    "start_time": "2023-03-14T11:51:50.824Z"
   },
   {
    "duration": 148,
    "start_time": "2023-03-14T11:51:51.005Z"
   },
   {
    "duration": 190,
    "start_time": "2023-03-14T11:51:51.156Z"
   },
   {
    "duration": 175,
    "start_time": "2023-03-14T11:51:51.347Z"
   },
   {
    "duration": 195,
    "start_time": "2023-03-14T11:51:51.524Z"
   },
   {
    "duration": 203,
    "start_time": "2023-03-14T11:51:51.721Z"
   },
   {
    "duration": 185,
    "start_time": "2023-03-14T11:51:51.926Z"
   },
   {
    "duration": 193,
    "start_time": "2023-03-14T11:51:52.113Z"
   },
   {
    "duration": 190,
    "start_time": "2023-03-14T11:51:52.308Z"
   },
   {
    "duration": 437,
    "start_time": "2023-03-14T11:51:52.501Z"
   },
   {
    "duration": 11,
    "start_time": "2023-03-14T11:51:52.940Z"
   },
   {
    "duration": 505,
    "start_time": "2023-03-14T11:51:52.953Z"
   },
   {
    "duration": 292,
    "start_time": "2023-03-14T11:51:53.464Z"
   },
   {
    "duration": 251,
    "start_time": "2023-03-14T11:51:53.758Z"
   },
   {
    "duration": 356,
    "start_time": "2023-03-14T11:51:54.011Z"
   },
   {
    "duration": 559,
    "start_time": "2023-03-14T11:51:54.369Z"
   },
   {
    "duration": 586,
    "start_time": "2023-03-14T11:51:54.930Z"
   },
   {
    "duration": 18,
    "start_time": "2023-03-14T11:51:55.517Z"
   },
   {
    "duration": 1796,
    "start_time": "2023-03-14T11:51:55.536Z"
   },
   {
    "duration": 440,
    "start_time": "2023-03-14T11:51:57.334Z"
   },
   {
    "duration": 450,
    "start_time": "2023-03-14T11:51:57.776Z"
   },
   {
    "duration": 394,
    "start_time": "2023-03-14T11:51:58.228Z"
   },
   {
    "duration": 193,
    "start_time": "2023-03-14T11:51:58.624Z"
   },
   {
    "duration": 404,
    "start_time": "2023-03-14T11:51:58.819Z"
   },
   {
    "duration": 426,
    "start_time": "2023-03-14T11:51:59.225Z"
   },
   {
    "duration": 14,
    "start_time": "2023-03-14T11:51:59.653Z"
   },
   {
    "duration": 27,
    "start_time": "2023-03-14T11:51:59.669Z"
   },
   {
    "duration": 9,
    "start_time": "2023-03-14T11:51:59.697Z"
   },
   {
    "duration": 39,
    "start_time": "2023-03-14T11:51:59.707Z"
   },
   {
    "duration": 21,
    "start_time": "2023-03-14T11:51:59.748Z"
   },
   {
    "duration": 10,
    "start_time": "2023-03-14T11:51:59.772Z"
   },
   {
    "duration": 12,
    "start_time": "2023-03-14T11:51:59.784Z"
   },
   {
    "duration": 29,
    "start_time": "2023-03-14T11:51:59.798Z"
   },
   {
    "duration": 3,
    "start_time": "2023-03-14T11:51:59.829Z"
   },
   {
    "duration": 14,
    "start_time": "2023-03-14T11:51:59.833Z"
   },
   {
    "duration": 8,
    "start_time": "2023-03-14T11:51:59.849Z"
   },
   {
    "duration": 854,
    "start_time": "2023-03-14T11:51:59.859Z"
   },
   {
    "duration": 719,
    "start_time": "2023-03-14T12:04:51.113Z"
   },
   {
    "duration": 216,
    "start_time": "2023-03-14T12:04:51.834Z"
   },
   {
    "duration": 12,
    "start_time": "2023-03-14T12:04:52.052Z"
   },
   {
    "duration": 19,
    "start_time": "2023-03-14T12:04:52.066Z"
   },
   {
    "duration": 110,
    "start_time": "2023-03-14T12:04:52.088Z"
   },
   {
    "duration": 68,
    "start_time": "2023-03-14T12:04:52.201Z"
   },
   {
    "duration": 48,
    "start_time": "2023-03-14T12:04:52.272Z"
   },
   {
    "duration": 2193,
    "start_time": "2023-03-14T12:04:52.323Z"
   },
   {
    "duration": 19,
    "start_time": "2023-03-14T12:04:54.519Z"
   },
   {
    "duration": 42,
    "start_time": "2023-03-14T12:04:54.540Z"
   },
   {
    "duration": 27,
    "start_time": "2023-03-14T12:04:54.585Z"
   },
   {
    "duration": 36,
    "start_time": "2023-03-14T12:04:54.615Z"
   },
   {
    "duration": 30,
    "start_time": "2023-03-14T12:04:54.654Z"
   },
   {
    "duration": 20,
    "start_time": "2023-03-14T12:04:54.689Z"
   },
   {
    "duration": 34,
    "start_time": "2023-03-14T12:04:54.712Z"
   },
   {
    "duration": 16,
    "start_time": "2023-03-14T12:04:54.749Z"
   },
   {
    "duration": 31,
    "start_time": "2023-03-14T12:04:54.768Z"
   },
   {
    "duration": 35,
    "start_time": "2023-03-14T12:04:54.801Z"
   },
   {
    "duration": 368,
    "start_time": "2023-03-14T12:04:54.838Z"
   },
   {
    "duration": 6,
    "start_time": "2023-03-14T12:04:55.208Z"
   },
   {
    "duration": 18,
    "start_time": "2023-03-14T12:04:55.217Z"
   },
   {
    "duration": 14,
    "start_time": "2023-03-14T12:04:55.238Z"
   },
   {
    "duration": 11,
    "start_time": "2023-03-14T12:04:55.265Z"
   },
   {
    "duration": 14,
    "start_time": "2023-03-14T12:04:55.279Z"
   },
   {
    "duration": 35,
    "start_time": "2023-03-14T12:04:55.296Z"
   },
   {
    "duration": 11,
    "start_time": "2023-03-14T12:04:55.334Z"
   },
   {
    "duration": 26,
    "start_time": "2023-03-14T12:04:55.347Z"
   },
   {
    "duration": 41,
    "start_time": "2023-03-14T12:04:55.376Z"
   },
   {
    "duration": 52,
    "start_time": "2023-03-14T12:04:55.419Z"
   },
   {
    "duration": 21,
    "start_time": "2023-03-14T12:04:55.473Z"
   },
   {
    "duration": 19,
    "start_time": "2023-03-14T12:04:55.496Z"
   },
   {
    "duration": 24,
    "start_time": "2023-03-14T12:04:55.517Z"
   },
   {
    "duration": 19,
    "start_time": "2023-03-14T12:04:55.543Z"
   },
   {
    "duration": 29,
    "start_time": "2023-03-14T12:04:55.565Z"
   },
   {
    "duration": 13,
    "start_time": "2023-03-14T12:04:55.596Z"
   },
   {
    "duration": 247,
    "start_time": "2023-03-14T12:04:55.612Z"
   },
   {
    "duration": 8,
    "start_time": "2023-03-14T12:04:55.861Z"
   },
   {
    "duration": 19,
    "start_time": "2023-03-14T12:04:55.871Z"
   },
   {
    "duration": 42,
    "start_time": "2023-03-14T12:04:55.892Z"
   },
   {
    "duration": 35,
    "start_time": "2023-03-14T12:04:55.936Z"
   },
   {
    "duration": 25,
    "start_time": "2023-03-14T12:04:55.981Z"
   },
   {
    "duration": 12,
    "start_time": "2023-03-14T12:04:56.008Z"
   },
   {
    "duration": 26,
    "start_time": "2023-03-14T12:04:56.022Z"
   },
   {
    "duration": 476,
    "start_time": "2023-03-14T12:04:56.050Z"
   },
   {
    "duration": 7,
    "start_time": "2023-03-14T12:04:56.528Z"
   },
   {
    "duration": 51,
    "start_time": "2023-03-14T12:04:56.537Z"
   },
   {
    "duration": 21,
    "start_time": "2023-03-14T12:04:56.590Z"
   },
   {
    "duration": 17,
    "start_time": "2023-03-14T12:04:56.614Z"
   },
   {
    "duration": 42,
    "start_time": "2023-03-14T12:04:56.634Z"
   },
   {
    "duration": 54,
    "start_time": "2023-03-14T12:04:56.678Z"
   },
   {
    "duration": 59,
    "start_time": "2023-03-14T12:04:56.735Z"
   },
   {
    "duration": 10,
    "start_time": "2023-03-14T12:04:56.797Z"
   },
   {
    "duration": 44,
    "start_time": "2023-03-14T12:04:56.809Z"
   },
   {
    "duration": 53,
    "start_time": "2023-03-14T12:04:56.856Z"
   },
   {
    "duration": 36,
    "start_time": "2023-03-14T12:04:56.912Z"
   },
   {
    "duration": 19,
    "start_time": "2023-03-14T12:04:56.950Z"
   },
   {
    "duration": 96,
    "start_time": "2023-03-14T12:04:56.971Z"
   },
   {
    "duration": 42,
    "start_time": "2023-03-14T12:04:57.069Z"
   },
   {
    "duration": 8,
    "start_time": "2023-03-14T12:04:57.113Z"
   },
   {
    "duration": 11,
    "start_time": "2023-03-14T12:04:57.123Z"
   },
   {
    "duration": 49,
    "start_time": "2023-03-14T12:04:57.164Z"
   },
   {
    "duration": 85,
    "start_time": "2023-03-14T12:04:57.215Z"
   },
   {
    "duration": 15,
    "start_time": "2023-03-14T12:04:57.302Z"
   },
   {
    "duration": 47,
    "start_time": "2023-03-14T12:04:57.319Z"
   },
   {
    "duration": 8,
    "start_time": "2023-03-14T12:04:57.368Z"
   },
   {
    "duration": 12,
    "start_time": "2023-03-14T12:04:57.378Z"
   },
   {
    "duration": 37,
    "start_time": "2023-03-14T12:04:57.392Z"
   },
   {
    "duration": 8,
    "start_time": "2023-03-14T12:04:57.432Z"
   },
   {
    "duration": 24,
    "start_time": "2023-03-14T12:04:57.442Z"
   },
   {
    "duration": 126,
    "start_time": "2023-03-14T12:04:57.469Z"
   },
   {
    "duration": 4,
    "start_time": "2023-03-14T12:04:57.597Z"
   },
   {
    "duration": 22,
    "start_time": "2023-03-14T12:04:57.602Z"
   },
   {
    "duration": 46,
    "start_time": "2023-03-14T12:04:57.626Z"
   },
   {
    "duration": 91,
    "start_time": "2023-03-14T12:04:57.673Z"
   },
   {
    "duration": 5,
    "start_time": "2023-03-14T12:04:57.767Z"
   },
   {
    "duration": 11,
    "start_time": "2023-03-14T12:04:57.774Z"
   },
   {
    "duration": 14,
    "start_time": "2023-03-14T12:04:57.787Z"
   },
   {
    "duration": 12,
    "start_time": "2023-03-14T12:04:57.803Z"
   },
   {
    "duration": 514,
    "start_time": "2023-03-14T12:04:57.817Z"
   },
   {
    "duration": 6,
    "start_time": "2023-03-14T12:04:58.333Z"
   },
   {
    "duration": 338,
    "start_time": "2023-03-14T12:04:58.341Z"
   },
   {
    "duration": 336,
    "start_time": "2023-03-14T12:04:58.681Z"
   },
   {
    "duration": 372,
    "start_time": "2023-03-14T12:04:59.019Z"
   },
   {
    "duration": 322,
    "start_time": "2023-03-14T12:04:59.393Z"
   },
   {
    "duration": 189,
    "start_time": "2023-03-14T12:04:59.717Z"
   },
   {
    "duration": 264,
    "start_time": "2023-03-14T12:04:59.908Z"
   },
   {
    "duration": 191,
    "start_time": "2023-03-14T12:05:00.174Z"
   },
   {
    "duration": 143,
    "start_time": "2023-03-14T12:05:00.367Z"
   },
   {
    "duration": 208,
    "start_time": "2023-03-14T12:05:00.513Z"
   },
   {
    "duration": 173,
    "start_time": "2023-03-14T12:05:00.723Z"
   },
   {
    "duration": 195,
    "start_time": "2023-03-14T12:05:00.898Z"
   },
   {
    "duration": 262,
    "start_time": "2023-03-14T12:05:01.096Z"
   },
   {
    "duration": 202,
    "start_time": "2023-03-14T12:05:01.365Z"
   },
   {
    "duration": 204,
    "start_time": "2023-03-14T12:05:01.569Z"
   },
   {
    "duration": 189,
    "start_time": "2023-03-14T12:05:01.775Z"
   },
   {
    "duration": 476,
    "start_time": "2023-03-14T12:05:01.967Z"
   },
   {
    "duration": 21,
    "start_time": "2023-03-14T12:05:02.446Z"
   },
   {
    "duration": 469,
    "start_time": "2023-03-14T12:05:02.469Z"
   },
   {
    "duration": 286,
    "start_time": "2023-03-14T12:05:02.940Z"
   },
   {
    "duration": 232,
    "start_time": "2023-03-14T12:05:03.229Z"
   },
   {
    "duration": 378,
    "start_time": "2023-03-14T12:05:03.464Z"
   },
   {
    "duration": 553,
    "start_time": "2023-03-14T12:05:03.844Z"
   },
   {
    "duration": 719,
    "start_time": "2023-03-14T12:05:04.399Z"
   },
   {
    "duration": 20,
    "start_time": "2023-03-14T12:05:05.120Z"
   },
   {
    "duration": 1865,
    "start_time": "2023-03-14T12:05:05.143Z"
   },
   {
    "duration": 485,
    "start_time": "2023-03-14T12:05:07.011Z"
   },
   {
    "duration": 585,
    "start_time": "2023-03-14T12:05:07.499Z"
   },
   {
    "duration": 564,
    "start_time": "2023-03-14T12:05:08.086Z"
   },
   {
    "duration": 222,
    "start_time": "2023-03-14T12:05:08.654Z"
   },
   {
    "duration": 404,
    "start_time": "2023-03-14T12:05:08.878Z"
   },
   {
    "duration": 475,
    "start_time": "2023-03-14T12:05:09.284Z"
   },
   {
    "duration": 15,
    "start_time": "2023-03-14T12:05:09.761Z"
   },
   {
    "duration": 45,
    "start_time": "2023-03-14T12:05:09.778Z"
   },
   {
    "duration": 41,
    "start_time": "2023-03-14T12:05:09.826Z"
   },
   {
    "duration": 46,
    "start_time": "2023-03-14T12:05:09.869Z"
   },
   {
    "duration": 4,
    "start_time": "2023-03-14T12:05:09.917Z"
   },
   {
    "duration": 62,
    "start_time": "2023-03-14T12:05:09.923Z"
   },
   {
    "duration": 18,
    "start_time": "2023-03-14T12:05:09.988Z"
   },
   {
    "duration": 65,
    "start_time": "2023-03-14T12:05:10.008Z"
   },
   {
    "duration": 5,
    "start_time": "2023-03-14T12:05:10.076Z"
   },
   {
    "duration": 23,
    "start_time": "2023-03-14T12:05:10.083Z"
   },
   {
    "duration": 34,
    "start_time": "2023-03-14T12:05:10.114Z"
   },
   {
    "duration": 927,
    "start_time": "2023-03-14T12:05:10.151Z"
   }
  ],
  "kernelspec": {
   "display_name": "Python 3 (ipykernel)",
   "language": "python",
   "name": "python3"
  },
  "language_info": {
   "codemirror_mode": {
    "name": "ipython",
    "version": 3
   },
   "file_extension": ".py",
   "mimetype": "text/x-python",
   "name": "python",
   "nbconvert_exporter": "python",
   "pygments_lexer": "ipython3",
   "version": "3.9.13"
  },
  "toc": {
   "base_numbering": 1,
   "nav_menu": {},
   "number_sections": true,
   "sideBar": true,
   "skip_h1_title": true,
   "title_cell": "Table of Contents",
   "title_sidebar": "Contents",
   "toc_cell": false,
   "toc_position": {},
   "toc_section_display": true,
   "toc_window_display": false
  }
 },
 "nbformat": 4,
 "nbformat_minor": 2
}
