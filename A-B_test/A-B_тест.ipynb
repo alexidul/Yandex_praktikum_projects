{
 "cells": [
  {
   "cell_type": "markdown",
   "id": "d0feb1fa",
   "metadata": {},
   "source": [
    "###  Наименование проекта: \"A/B-тестирование\"\n",
    "\n",
    "### Постановка задачи\n",
    "\n",
    "Провести оценку результатов A/B-теста. \n",
    "В нашем распоряжении есть датасет с действиями пользователей, техническое задание и несколько вспомогательных датасетов.\n",
    "\n",
    "Требуется оценить корректность проведения теста и проанализировать результаты.\n",
    "\n",
    "### Техническое задание\n",
    "\n",
    "- Название теста: `recommender_system_test`;\n",
    "- группы: А — контрольная, B — новая платёжная воронка;\n",
    "- дата запуска: 2020-12-07;\n",
    "- дата остановки набора новых пользователей: 2020-12-21;\n",
    "- дата остановки: 2021-01-04;\n",
    "- аудитория: в тест должно быть отобрано 15% новых пользователей из региона EU;\n",
    "- назначение теста: тестирование изменений, связанных с внедрением улучшенной рекомендательной системы;\n",
    "- ожидаемое количество участников теста: 6000.\n",
    "- ожидаемый эффект: за 14 дней с момента регистрации пользователи покажут улучшение каждой метрики не менее, чем на 10%:\n",
    "    - конверсии в просмотр карточек товаров — событие `product_page`,\n",
    "    - просмотры корзины — `product_cart`,\n",
    "    - покупки — `purchase`.\n",
    "    \n",
    "### Описание данных\n",
    "\n",
    "`ab_project_marketing_events.csv` — календарь маркетинговых событий на 2020 год:\n",
    "\n",
    "- `name` — название маркетингового события;\n",
    "- `regions` — регионы, в которых будет проводиться рекламная кампания;\n",
    "- `start_dt` — дата начала кампании;\n",
    "- `finish_dt` — дата завершения кампании.\n",
    "\n",
    "`final_ab_new_users.csv` — пользователи, зарегистрировавшиеся с 7 до 21 декабря 2020 года:\n",
    "\n",
    "- `user_id` — идентификатор пользователя;\n",
    "- `first_date` — дата регистрации;\n",
    "- `region` — регион пользователя;\n",
    "- `device` — устройство, с которого происходила регистрация.\n",
    "\n",
    "`final_ab_events.csv` — действия новых пользователей в период с 7 декабря 2020 по 4 января 2021 года:\n",
    "\n",
    "- `user_id` — идентификатор пользователя;\n",
    "- `event_dt` — дата и время события;\n",
    "- `event_name` — тип события;\n",
    "- `details` — дополнительные данные о событии. Например, для покупок, `purchase,` в этом поле хранится стоимость покупки в долларах.\n",
    "\n",
    "`final_ab_participants.csv` — таблица участников тестов:\n",
    "\n",
    "- `user_id` — идентификатор пользователя;\n",
    "- `ab_test` — название теста;\n",
    "- `group` — группа пользователя.\n",
    "\n",
    "### План выполнения:\n",
    "\n",
    "- Загрузка и предварительное изучение данных\n",
    "- Предобработка данных:\n",
    "    - преобразование типов,\n",
    "    - изучение пропусков, дубликатов, коррекция при необходимости и возможности\n",
    "    - оценка корректности проведения теста:\n",
    "        - Соответствие данных требованиям технического задания (с проверкой корректности всех пунктов технического задания)\n",
    "        - Время проведения теста, сопоставление с временем с маркетинговых активностей\n",
    "        - аудитория теста (проверка на пересечение с конкурирующим тестом и наличие пользователей, участвующих в двух группах теста одновременно)\n",
    "        - проверка равномерности распределения по тестовым группам и правильность их формирования.\n",
    "- Исследовательский анализ данных:\n",
    "    - Количество событий на пользователя и их распределение в выборках\n",
    "    - распределение числа событий по дням\n",
    "    - изменение конверсии в воронке в выборках на разных этапах\n",
    "- Оценка результатов A/B-тестирования\n",
    "    - проверка статистической разницы долей z-критерием.\n",
    "- Общие выводы по этапу исследовательского анализа данных и по проведённой оценке результатов A/B-тестирования. Заключение о корректности проведения теста."
   ]
  },
  {
   "cell_type": "markdown",
   "id": "4dadc5cf",
   "metadata": {},
   "source": [
    "## Импорт и предварительное изучение данных"
   ]
  },
  {
   "cell_type": "code",
   "execution_count": 1,
   "id": "b7f5a736",
   "metadata": {},
   "outputs": [],
   "source": [
    "# импортируем необходимые библиотеки\n",
    "import pandas as pd\n",
    "import matplotlib.pyplot as plt\n",
    "from plotly import graph_objects as go\n",
    "from plotly.subplots import make_subplots\n",
    "import scipy.stats as st\n",
    "import numpy as np\n",
    "import math as mth\n",
    "import warnings"
   ]
  },
  {
   "cell_type": "code",
   "execution_count": 2,
   "id": "7b3863aa",
   "metadata": {},
   "outputs": [],
   "source": [
    "#убираем системные предупреждения\n",
    "warnings.filterwarnings('ignore')\n",
    "#настраиваем отображение колонок (полностью)\n",
    "pd.set_option('display.max_columns', None)\n",
    "#настраиваем отображение формата значений с плавающей точкой\n",
    "pd.options.display.float_format = '{:,.2f}'.format\n",
    "#вывод значений без сокращений\n",
    "pd.set_option('display.max_colwidth', -1)"
   ]
  },
  {
   "cell_type": "code",
   "execution_count": 3,
   "id": "39177b22",
   "metadata": {},
   "outputs": [],
   "source": [
    "# загрузка данных\n",
    "try: #  с локального ресурса\n",
    "    participants = pd.read_csv('final_ab_participants.csv')\n",
    "    new_users = pd.read_csv('final_ab_new_users.csv')\n",
    "    events = pd.read_csv('final_ab_events.csv')\n",
    "    project_marketing_events = pd.read_csv('ab_project_marketing_events.csv')\n",
    "except: #  или с сервера Яндекс\n",
    "    participants = pd.read_csv('https://code.s3.yandex.net/datasets/final_ab_participants.csv')\n",
    "    new_users = pd.read_csv('https://code.s3.yandex.net/datasets/final_ab_new_users.csv')\n",
    "    events = pd.read_csv('https://code.s3.yandex.net/datasets/final_ab_events.csv')\n",
    "    project_marketing_events = pd.read_csv('https://code.s3.yandex.net/datasets/ab_project_marketing_events.csv')"
   ]
  },
  {
   "cell_type": "code",
   "execution_count": 4,
   "id": "7b1e3a8d",
   "metadata": {
    "scrolled": true
   },
   "outputs": [
    {
     "name": "stdout",
     "output_type": "stream",
     "text": [
      "<class 'pandas.core.frame.DataFrame'>\n",
      "RangeIndex: 18268 entries, 0 to 18267\n",
      "Data columns (total 3 columns):\n",
      " #   Column   Non-Null Count  Dtype \n",
      "---  ------   --------------  ----- \n",
      " 0   user_id  18268 non-null  object\n",
      " 1   group    18268 non-null  object\n",
      " 2   ab_test  18268 non-null  object\n",
      "dtypes: object(3)\n",
      "memory usage: 428.3+ KB\n",
      "None\n"
     ]
    },
    {
     "data": {
      "text/html": [
       "<div>\n",
       "<style scoped>\n",
       "    .dataframe tbody tr th:only-of-type {\n",
       "        vertical-align: middle;\n",
       "    }\n",
       "\n",
       "    .dataframe tbody tr th {\n",
       "        vertical-align: top;\n",
       "    }\n",
       "\n",
       "    .dataframe thead th {\n",
       "        text-align: right;\n",
       "    }\n",
       "</style>\n",
       "<table border=\"1\" class=\"dataframe\">\n",
       "  <thead>\n",
       "    <tr style=\"text-align: right;\">\n",
       "      <th></th>\n",
       "      <th>user_id</th>\n",
       "      <th>group</th>\n",
       "      <th>ab_test</th>\n",
       "    </tr>\n",
       "  </thead>\n",
       "  <tbody>\n",
       "    <tr>\n",
       "      <th>0</th>\n",
       "      <td>D1ABA3E2887B6A73</td>\n",
       "      <td>A</td>\n",
       "      <td>recommender_system_test</td>\n",
       "    </tr>\n",
       "    <tr>\n",
       "      <th>1</th>\n",
       "      <td>A7A3664BD6242119</td>\n",
       "      <td>A</td>\n",
       "      <td>recommender_system_test</td>\n",
       "    </tr>\n",
       "    <tr>\n",
       "      <th>2</th>\n",
       "      <td>DABC14FDDFADD29E</td>\n",
       "      <td>A</td>\n",
       "      <td>recommender_system_test</td>\n",
       "    </tr>\n",
       "    <tr>\n",
       "      <th>3</th>\n",
       "      <td>04988C5DF189632E</td>\n",
       "      <td>A</td>\n",
       "      <td>recommender_system_test</td>\n",
       "    </tr>\n",
       "    <tr>\n",
       "      <th>4</th>\n",
       "      <td>482F14783456D21B</td>\n",
       "      <td>B</td>\n",
       "      <td>recommender_system_test</td>\n",
       "    </tr>\n",
       "  </tbody>\n",
       "</table>\n",
       "</div>"
      ],
      "text/plain": [
       "            user_id group                  ab_test\n",
       "0  D1ABA3E2887B6A73  A     recommender_system_test\n",
       "1  A7A3664BD6242119  A     recommender_system_test\n",
       "2  DABC14FDDFADD29E  A     recommender_system_test\n",
       "3  04988C5DF189632E  A     recommender_system_test\n",
       "4  482F14783456D21B  B     recommender_system_test"
      ]
     },
     "execution_count": 4,
     "metadata": {},
     "output_type": "execute_result"
    }
   ],
   "source": [
    "# изучим датасет participants\n",
    "print(participants.info())\n",
    "participants.head()"
   ]
  },
  {
   "cell_type": "code",
   "execution_count": 5,
   "id": "1aa4a672",
   "metadata": {
    "scrolled": true
   },
   "outputs": [
    {
     "name": "stdout",
     "output_type": "stream",
     "text": [
      "<class 'pandas.core.frame.DataFrame'>\n",
      "RangeIndex: 61733 entries, 0 to 61732\n",
      "Data columns (total 4 columns):\n",
      " #   Column      Non-Null Count  Dtype \n",
      "---  ------      --------------  ----- \n",
      " 0   user_id     61733 non-null  object\n",
      " 1   first_date  61733 non-null  object\n",
      " 2   region      61733 non-null  object\n",
      " 3   device      61733 non-null  object\n",
      "dtypes: object(4)\n",
      "memory usage: 1.9+ MB\n",
      "None\n"
     ]
    },
    {
     "data": {
      "text/html": [
       "<div>\n",
       "<style scoped>\n",
       "    .dataframe tbody tr th:only-of-type {\n",
       "        vertical-align: middle;\n",
       "    }\n",
       "\n",
       "    .dataframe tbody tr th {\n",
       "        vertical-align: top;\n",
       "    }\n",
       "\n",
       "    .dataframe thead th {\n",
       "        text-align: right;\n",
       "    }\n",
       "</style>\n",
       "<table border=\"1\" class=\"dataframe\">\n",
       "  <thead>\n",
       "    <tr style=\"text-align: right;\">\n",
       "      <th></th>\n",
       "      <th>user_id</th>\n",
       "      <th>first_date</th>\n",
       "      <th>region</th>\n",
       "      <th>device</th>\n",
       "    </tr>\n",
       "  </thead>\n",
       "  <tbody>\n",
       "    <tr>\n",
       "      <th>0</th>\n",
       "      <td>D72A72121175D8BE</td>\n",
       "      <td>2020-12-07</td>\n",
       "      <td>EU</td>\n",
       "      <td>PC</td>\n",
       "    </tr>\n",
       "    <tr>\n",
       "      <th>1</th>\n",
       "      <td>F1C668619DFE6E65</td>\n",
       "      <td>2020-12-07</td>\n",
       "      <td>N.America</td>\n",
       "      <td>Android</td>\n",
       "    </tr>\n",
       "    <tr>\n",
       "      <th>2</th>\n",
       "      <td>2E1BF1D4C37EA01F</td>\n",
       "      <td>2020-12-07</td>\n",
       "      <td>EU</td>\n",
       "      <td>PC</td>\n",
       "    </tr>\n",
       "    <tr>\n",
       "      <th>3</th>\n",
       "      <td>50734A22C0C63768</td>\n",
       "      <td>2020-12-07</td>\n",
       "      <td>EU</td>\n",
       "      <td>iPhone</td>\n",
       "    </tr>\n",
       "    <tr>\n",
       "      <th>4</th>\n",
       "      <td>E1BDDCE0DAFA2679</td>\n",
       "      <td>2020-12-07</td>\n",
       "      <td>N.America</td>\n",
       "      <td>iPhone</td>\n",
       "    </tr>\n",
       "    <tr>\n",
       "      <th>...</th>\n",
       "      <td>...</td>\n",
       "      <td>...</td>\n",
       "      <td>...</td>\n",
       "      <td>...</td>\n",
       "    </tr>\n",
       "    <tr>\n",
       "      <th>61728</th>\n",
       "      <td>1DB53B933257165D</td>\n",
       "      <td>2020-12-20</td>\n",
       "      <td>EU</td>\n",
       "      <td>Android</td>\n",
       "    </tr>\n",
       "    <tr>\n",
       "      <th>61729</th>\n",
       "      <td>538643EB4527ED03</td>\n",
       "      <td>2020-12-20</td>\n",
       "      <td>EU</td>\n",
       "      <td>Mac</td>\n",
       "    </tr>\n",
       "    <tr>\n",
       "      <th>61730</th>\n",
       "      <td>7ADEE837D5D8CBBD</td>\n",
       "      <td>2020-12-20</td>\n",
       "      <td>EU</td>\n",
       "      <td>PC</td>\n",
       "    </tr>\n",
       "    <tr>\n",
       "      <th>61731</th>\n",
       "      <td>1C7D23927835213F</td>\n",
       "      <td>2020-12-20</td>\n",
       "      <td>EU</td>\n",
       "      <td>iPhone</td>\n",
       "    </tr>\n",
       "    <tr>\n",
       "      <th>61732</th>\n",
       "      <td>8F04273BB2860229</td>\n",
       "      <td>2020-12-20</td>\n",
       "      <td>EU</td>\n",
       "      <td>Android</td>\n",
       "    </tr>\n",
       "  </tbody>\n",
       "</table>\n",
       "<p>61733 rows × 4 columns</p>\n",
       "</div>"
      ],
      "text/plain": [
       "                user_id  first_date     region   device\n",
       "0      D72A72121175D8BE  2020-12-07  EU         PC     \n",
       "1      F1C668619DFE6E65  2020-12-07  N.America  Android\n",
       "2      2E1BF1D4C37EA01F  2020-12-07  EU         PC     \n",
       "3      50734A22C0C63768  2020-12-07  EU         iPhone \n",
       "4      E1BDDCE0DAFA2679  2020-12-07  N.America  iPhone \n",
       "...                 ...         ...        ...     ... \n",
       "61728  1DB53B933257165D  2020-12-20  EU         Android\n",
       "61729  538643EB4527ED03  2020-12-20  EU         Mac    \n",
       "61730  7ADEE837D5D8CBBD  2020-12-20  EU         PC     \n",
       "61731  1C7D23927835213F  2020-12-20  EU         iPhone \n",
       "61732  8F04273BB2860229  2020-12-20  EU         Android\n",
       "\n",
       "[61733 rows x 4 columns]"
      ]
     },
     "execution_count": 5,
     "metadata": {},
     "output_type": "execute_result"
    }
   ],
   "source": [
    "# изучим датасет new_users\n",
    "print(new_users.info())\n",
    "new_users"
   ]
  },
  {
   "cell_type": "code",
   "execution_count": 6,
   "id": "3a8263d0",
   "metadata": {
    "scrolled": true
   },
   "outputs": [
    {
     "name": "stdout",
     "output_type": "stream",
     "text": [
      "<class 'pandas.core.frame.DataFrame'>\n",
      "RangeIndex: 440317 entries, 0 to 440316\n",
      "Data columns (total 4 columns):\n",
      " #   Column      Non-Null Count   Dtype  \n",
      "---  ------      --------------   -----  \n",
      " 0   user_id     440317 non-null  object \n",
      " 1   event_dt    440317 non-null  object \n",
      " 2   event_name  440317 non-null  object \n",
      " 3   details     62740 non-null   float64\n",
      "dtypes: float64(1), object(3)\n",
      "memory usage: 13.4+ MB\n",
      "None\n"
     ]
    },
    {
     "data": {
      "text/html": [
       "<div>\n",
       "<style scoped>\n",
       "    .dataframe tbody tr th:only-of-type {\n",
       "        vertical-align: middle;\n",
       "    }\n",
       "\n",
       "    .dataframe tbody tr th {\n",
       "        vertical-align: top;\n",
       "    }\n",
       "\n",
       "    .dataframe thead th {\n",
       "        text-align: right;\n",
       "    }\n",
       "</style>\n",
       "<table border=\"1\" class=\"dataframe\">\n",
       "  <thead>\n",
       "    <tr style=\"text-align: right;\">\n",
       "      <th></th>\n",
       "      <th>user_id</th>\n",
       "      <th>event_dt</th>\n",
       "      <th>event_name</th>\n",
       "      <th>details</th>\n",
       "    </tr>\n",
       "  </thead>\n",
       "  <tbody>\n",
       "    <tr>\n",
       "      <th>0</th>\n",
       "      <td>E1BDDCE0DAFA2679</td>\n",
       "      <td>2020-12-07 20:22:03</td>\n",
       "      <td>purchase</td>\n",
       "      <td>99.99</td>\n",
       "    </tr>\n",
       "    <tr>\n",
       "      <th>1</th>\n",
       "      <td>7B6452F081F49504</td>\n",
       "      <td>2020-12-07 09:22:53</td>\n",
       "      <td>purchase</td>\n",
       "      <td>9.99</td>\n",
       "    </tr>\n",
       "    <tr>\n",
       "      <th>2</th>\n",
       "      <td>9CD9F34546DF254C</td>\n",
       "      <td>2020-12-07 12:59:29</td>\n",
       "      <td>purchase</td>\n",
       "      <td>4.99</td>\n",
       "    </tr>\n",
       "    <tr>\n",
       "      <th>3</th>\n",
       "      <td>96F27A054B191457</td>\n",
       "      <td>2020-12-07 04:02:40</td>\n",
       "      <td>purchase</td>\n",
       "      <td>4.99</td>\n",
       "    </tr>\n",
       "    <tr>\n",
       "      <th>4</th>\n",
       "      <td>1FD7660FDF94CA1F</td>\n",
       "      <td>2020-12-07 10:15:09</td>\n",
       "      <td>purchase</td>\n",
       "      <td>4.99</td>\n",
       "    </tr>\n",
       "    <tr>\n",
       "      <th>...</th>\n",
       "      <td>...</td>\n",
       "      <td>...</td>\n",
       "      <td>...</td>\n",
       "      <td>...</td>\n",
       "    </tr>\n",
       "    <tr>\n",
       "      <th>440312</th>\n",
       "      <td>245E85F65C358E08</td>\n",
       "      <td>2020-12-30 19:35:55</td>\n",
       "      <td>login</td>\n",
       "      <td>NaN</td>\n",
       "    </tr>\n",
       "    <tr>\n",
       "      <th>440313</th>\n",
       "      <td>9385A108F5A0A7A7</td>\n",
       "      <td>2020-12-30 10:54:15</td>\n",
       "      <td>login</td>\n",
       "      <td>NaN</td>\n",
       "    </tr>\n",
       "    <tr>\n",
       "      <th>440314</th>\n",
       "      <td>DB650B7559AC6EAC</td>\n",
       "      <td>2020-12-30 10:59:09</td>\n",
       "      <td>login</td>\n",
       "      <td>NaN</td>\n",
       "    </tr>\n",
       "    <tr>\n",
       "      <th>440315</th>\n",
       "      <td>F80C9BDDEA02E53C</td>\n",
       "      <td>2020-12-30 09:53:39</td>\n",
       "      <td>login</td>\n",
       "      <td>NaN</td>\n",
       "    </tr>\n",
       "    <tr>\n",
       "      <th>440316</th>\n",
       "      <td>7AEC61159B672CC5</td>\n",
       "      <td>2020-12-30 11:36:13</td>\n",
       "      <td>login</td>\n",
       "      <td>NaN</td>\n",
       "    </tr>\n",
       "  </tbody>\n",
       "</table>\n",
       "<p>440317 rows × 4 columns</p>\n",
       "</div>"
      ],
      "text/plain": [
       "                 user_id             event_dt event_name  details\n",
       "0       E1BDDCE0DAFA2679  2020-12-07 20:22:03  purchase  99.99   \n",
       "1       7B6452F081F49504  2020-12-07 09:22:53  purchase  9.99    \n",
       "2       9CD9F34546DF254C  2020-12-07 12:59:29  purchase  4.99    \n",
       "3       96F27A054B191457  2020-12-07 04:02:40  purchase  4.99    \n",
       "4       1FD7660FDF94CA1F  2020-12-07 10:15:09  purchase  4.99    \n",
       "...                  ...                  ...       ...   ...    \n",
       "440312  245E85F65C358E08  2020-12-30 19:35:55  login     NaN     \n",
       "440313  9385A108F5A0A7A7  2020-12-30 10:54:15  login     NaN     \n",
       "440314  DB650B7559AC6EAC  2020-12-30 10:59:09  login     NaN     \n",
       "440315  F80C9BDDEA02E53C  2020-12-30 09:53:39  login     NaN     \n",
       "440316  7AEC61159B672CC5  2020-12-30 11:36:13  login     NaN     \n",
       "\n",
       "[440317 rows x 4 columns]"
      ]
     },
     "execution_count": 6,
     "metadata": {},
     "output_type": "execute_result"
    }
   ],
   "source": [
    "# изучим датасет events\n",
    "print(events.info())\n",
    "events"
   ]
  },
  {
   "cell_type": "code",
   "execution_count": 7,
   "id": "31f9c1cc",
   "metadata": {
    "scrolled": true
   },
   "outputs": [
    {
     "name": "stdout",
     "output_type": "stream",
     "text": [
      "<class 'pandas.core.frame.DataFrame'>\n",
      "RangeIndex: 14 entries, 0 to 13\n",
      "Data columns (total 4 columns):\n",
      " #   Column     Non-Null Count  Dtype \n",
      "---  ------     --------------  ----- \n",
      " 0   name       14 non-null     object\n",
      " 1   regions    14 non-null     object\n",
      " 2   start_dt   14 non-null     object\n",
      " 3   finish_dt  14 non-null     object\n",
      "dtypes: object(4)\n",
      "memory usage: 576.0+ bytes\n",
      "None\n"
     ]
    },
    {
     "data": {
      "text/html": [
       "<div>\n",
       "<style scoped>\n",
       "    .dataframe tbody tr th:only-of-type {\n",
       "        vertical-align: middle;\n",
       "    }\n",
       "\n",
       "    .dataframe tbody tr th {\n",
       "        vertical-align: top;\n",
       "    }\n",
       "\n",
       "    .dataframe thead th {\n",
       "        text-align: right;\n",
       "    }\n",
       "</style>\n",
       "<table border=\"1\" class=\"dataframe\">\n",
       "  <thead>\n",
       "    <tr style=\"text-align: right;\">\n",
       "      <th></th>\n",
       "      <th>name</th>\n",
       "      <th>regions</th>\n",
       "      <th>start_dt</th>\n",
       "      <th>finish_dt</th>\n",
       "    </tr>\n",
       "  </thead>\n",
       "  <tbody>\n",
       "    <tr>\n",
       "      <th>0</th>\n",
       "      <td>Christmas&amp;New Year Promo</td>\n",
       "      <td>EU, N.America</td>\n",
       "      <td>2020-12-25</td>\n",
       "      <td>2021-01-03</td>\n",
       "    </tr>\n",
       "    <tr>\n",
       "      <th>1</th>\n",
       "      <td>St. Valentine's Day Giveaway</td>\n",
       "      <td>EU, CIS, APAC, N.America</td>\n",
       "      <td>2020-02-14</td>\n",
       "      <td>2020-02-16</td>\n",
       "    </tr>\n",
       "    <tr>\n",
       "      <th>2</th>\n",
       "      <td>St. Patric's Day Promo</td>\n",
       "      <td>EU, N.America</td>\n",
       "      <td>2020-03-17</td>\n",
       "      <td>2020-03-19</td>\n",
       "    </tr>\n",
       "    <tr>\n",
       "      <th>3</th>\n",
       "      <td>Easter Promo</td>\n",
       "      <td>EU, CIS, APAC, N.America</td>\n",
       "      <td>2020-04-12</td>\n",
       "      <td>2020-04-19</td>\n",
       "    </tr>\n",
       "    <tr>\n",
       "      <th>4</th>\n",
       "      <td>4th of July Promo</td>\n",
       "      <td>N.America</td>\n",
       "      <td>2020-07-04</td>\n",
       "      <td>2020-07-11</td>\n",
       "    </tr>\n",
       "    <tr>\n",
       "      <th>5</th>\n",
       "      <td>Black Friday Ads Campaign</td>\n",
       "      <td>EU, CIS, APAC, N.America</td>\n",
       "      <td>2020-11-26</td>\n",
       "      <td>2020-12-01</td>\n",
       "    </tr>\n",
       "    <tr>\n",
       "      <th>6</th>\n",
       "      <td>Chinese New Year Promo</td>\n",
       "      <td>APAC</td>\n",
       "      <td>2020-01-25</td>\n",
       "      <td>2020-02-07</td>\n",
       "    </tr>\n",
       "    <tr>\n",
       "      <th>7</th>\n",
       "      <td>Labor day (May 1st) Ads Campaign</td>\n",
       "      <td>EU, CIS, APAC</td>\n",
       "      <td>2020-05-01</td>\n",
       "      <td>2020-05-03</td>\n",
       "    </tr>\n",
       "    <tr>\n",
       "      <th>8</th>\n",
       "      <td>International Women's Day Promo</td>\n",
       "      <td>EU, CIS, APAC</td>\n",
       "      <td>2020-03-08</td>\n",
       "      <td>2020-03-10</td>\n",
       "    </tr>\n",
       "    <tr>\n",
       "      <th>9</th>\n",
       "      <td>Victory Day CIS (May 9th) Event</td>\n",
       "      <td>CIS</td>\n",
       "      <td>2020-05-09</td>\n",
       "      <td>2020-05-11</td>\n",
       "    </tr>\n",
       "    <tr>\n",
       "      <th>10</th>\n",
       "      <td>CIS New Year Gift Lottery</td>\n",
       "      <td>CIS</td>\n",
       "      <td>2020-12-30</td>\n",
       "      <td>2021-01-07</td>\n",
       "    </tr>\n",
       "    <tr>\n",
       "      <th>11</th>\n",
       "      <td>Dragon Boat Festival Giveaway</td>\n",
       "      <td>APAC</td>\n",
       "      <td>2020-06-25</td>\n",
       "      <td>2020-07-01</td>\n",
       "    </tr>\n",
       "    <tr>\n",
       "      <th>12</th>\n",
       "      <td>Single's Day Gift Promo</td>\n",
       "      <td>APAC</td>\n",
       "      <td>2020-11-11</td>\n",
       "      <td>2020-11-12</td>\n",
       "    </tr>\n",
       "    <tr>\n",
       "      <th>13</th>\n",
       "      <td>Chinese Moon Festival</td>\n",
       "      <td>APAC</td>\n",
       "      <td>2020-10-01</td>\n",
       "      <td>2020-10-07</td>\n",
       "    </tr>\n",
       "  </tbody>\n",
       "</table>\n",
       "</div>"
      ],
      "text/plain": [
       "                                name                   regions    start_dt  \\\n",
       "0   Christmas&New Year Promo          EU, N.America             2020-12-25   \n",
       "1   St. Valentine's Day Giveaway      EU, CIS, APAC, N.America  2020-02-14   \n",
       "2   St. Patric's Day Promo            EU, N.America             2020-03-17   \n",
       "3   Easter Promo                      EU, CIS, APAC, N.America  2020-04-12   \n",
       "4   4th of July Promo                 N.America                 2020-07-04   \n",
       "5   Black Friday Ads Campaign         EU, CIS, APAC, N.America  2020-11-26   \n",
       "6   Chinese New Year Promo            APAC                      2020-01-25   \n",
       "7   Labor day (May 1st) Ads Campaign  EU, CIS, APAC             2020-05-01   \n",
       "8   International Women's Day Promo   EU, CIS, APAC             2020-03-08   \n",
       "9   Victory Day CIS (May 9th) Event   CIS                       2020-05-09   \n",
       "10  CIS New Year Gift Lottery         CIS                       2020-12-30   \n",
       "11  Dragon Boat Festival Giveaway     APAC                      2020-06-25   \n",
       "12  Single's Day Gift Promo           APAC                      2020-11-11   \n",
       "13  Chinese Moon Festival             APAC                      2020-10-01   \n",
       "\n",
       "     finish_dt  \n",
       "0   2021-01-03  \n",
       "1   2020-02-16  \n",
       "2   2020-03-19  \n",
       "3   2020-04-19  \n",
       "4   2020-07-11  \n",
       "5   2020-12-01  \n",
       "6   2020-02-07  \n",
       "7   2020-05-03  \n",
       "8   2020-03-10  \n",
       "9   2020-05-11  \n",
       "10  2021-01-07  \n",
       "11  2020-07-01  \n",
       "12  2020-11-12  \n",
       "13  2020-10-07  "
      ]
     },
     "execution_count": 7,
     "metadata": {},
     "output_type": "execute_result"
    }
   ],
   "source": [
    "# изучим датасет project_marketing_events\n",
    "print(project_marketing_events.info())\n",
    "project_marketing_events"
   ]
  },
  {
   "cell_type": "markdown",
   "id": "9689c5f2",
   "metadata": {},
   "source": [
    "**Вывод**:\n",
    "- загрузили 4 датасета - с данными: \n",
    "    - 1) об участниках тестов \n",
    "    - 2) про новых пользователей, зарегистрировавшихся в приложении\n",
    "    - 3) про события, остуществлённые пользователями в приложении\n",
    "    - 4) с календарём маркетинговых событий\n",
    "    \n",
    "- есть несоответствие типов данных: столбцы с временем в трёх датасетах имеют тип данных `object`, требуется преобразование\n",
    "- есть пропуски, изучим и при необходимости скорректируем\n",
    "- дополнительно изучим данные на дубликаты и при необходимости скорректируем"
   ]
  },
  {
   "cell_type": "markdown",
   "id": "a6895b0f",
   "metadata": {},
   "source": [
    "## Предобработка данных"
   ]
  },
  {
   "cell_type": "markdown",
   "id": "7c5330ed",
   "metadata": {},
   "source": [
    "### Функция для изучения датасетов по столбцам"
   ]
  },
  {
   "cell_type": "code",
   "execution_count": 8,
   "id": "222af710",
   "metadata": {},
   "outputs": [],
   "source": [
    "#доп функция для просмотра данных по столбцам датасетов: уникальные значения, тип данных, количество пропусков\n",
    "def view(data):\n",
    "    print('Количество пропусков в датасете:', data.isna().sum().sum())\n",
    "    print('Количество полных дубликатов в датасете', data.duplicated().sum())\n",
    "    for i in data.columns:\n",
    "        print('-'*40)\n",
    "        print(f'Столбец \"{i}\"')\n",
    "        print('Тип данных:', data[i].dtypes)\n",
    "        print('Количество пропусков:', data[i].isna().sum())\n",
    "        print('Количество локальных дубликатов в столбце', data[i].duplicated().sum())\n",
    "        print('Уникальные значения:', data[i].value_counts(), sep='\\n')\n",
    "        if data[i].dtypes != 'object':\n",
    "            print('Минимальное значение:', data[i].min(), 'Максимальное значение:', data[i].max() )"
   ]
  },
  {
   "cell_type": "markdown",
   "id": "19565341",
   "metadata": {},
   "source": [
    "### Обработка датасета `participants`"
   ]
  },
  {
   "cell_type": "code",
   "execution_count": 9,
   "id": "fe968eca",
   "metadata": {
    "scrolled": true
   },
   "outputs": [
    {
     "name": "stdout",
     "output_type": "stream",
     "text": [
      "Количество пропусков в датасете: 0\n",
      "Количество полных дубликатов в датасете 0\n",
      "----------------------------------------\n",
      "Столбец \"user_id\"\n",
      "Тип данных: object\n",
      "Количество пропусков: 0\n",
      "Количество локальных дубликатов в столбце 1602\n",
      "Уникальные значения:\n",
      "0FDFDA0B2DEC2D91    2\n",
      "00E68F103C66C1F7    2\n",
      "BD23AF6242CA944B    2\n",
      "DD670F7422342729    2\n",
      "A5E27D8BCACA668E    2\n",
      "                   ..\n",
      "A1591805E7D020EE    1\n",
      "400D3BD0BCB31971    1\n",
      "D2656A48DD3C4EEE    1\n",
      "953E74FDE41424B4    1\n",
      "79F9ABFB029CF724    1\n",
      "Name: user_id, Length: 16666, dtype: int64\n",
      "----------------------------------------\n",
      "Столбец \"group\"\n",
      "Тип данных: object\n",
      "Количество пропусков: 0\n",
      "Количество локальных дубликатов в столбце 18266\n",
      "Уникальные значения:\n",
      "A    9655\n",
      "B    8613\n",
      "Name: group, dtype: int64\n",
      "----------------------------------------\n",
      "Столбец \"ab_test\"\n",
      "Тип данных: object\n",
      "Количество пропусков: 0\n",
      "Количество локальных дубликатов в столбце 18266\n",
      "Уникальные значения:\n",
      "interface_eu_test          11567\n",
      "recommender_system_test    6701 \n",
      "Name: ab_test, dtype: int64\n"
     ]
    }
   ],
   "source": [
    "# изучим датасет по столбцам\n",
    "view(participants)"
   ]
  },
  {
   "cell_type": "markdown",
   "id": "e7896570",
   "metadata": {},
   "source": [
    "- В датасете `participants` содержатся сведения об участниках групп A и B для двух разных A/B тестов `interface_eu_test` и интересующего нас (согласно ТЗ) `recommender_system_test`\n",
    "- При этом в `user_id` имеются дубликаты (1602), можно заключить, что ряд пользователей попали в оба теста\n",
    "- Имеет смысл отфильтровать интересующий нас диапазон пользователей и создать отдельный датасет, включающий только те `user_id`, которые участвуют в нашем тесте (`our_participants`)\n",
    "- Объединив (предварительно обработанный) датасет `our_participants` с обработанными датасетами `new_user` и `events`, мы получим датасет для анализа"
   ]
  },
  {
   "cell_type": "code",
   "execution_count": 10,
   "id": "d4cc98ed",
   "metadata": {},
   "outputs": [],
   "source": [
    "# выделяем из общего датасета участников в отдельный датасет данные только об участниках нашего теста\n",
    "our_participants = participants.query('ab_test ==\"recommender_system_test\"').drop(columns = 'ab_test', axis=1)"
   ]
  },
  {
   "cell_type": "code",
   "execution_count": 11,
   "id": "b04be46e",
   "metadata": {
    "scrolled": true
   },
   "outputs": [
    {
     "name": "stdout",
     "output_type": "stream",
     "text": [
      "Количество пропусков в датасете: 0\n",
      "Количество полных дубликатов в датасете 0\n",
      "----------------------------------------\n",
      "Столбец \"user_id\"\n",
      "Тип данных: object\n",
      "Количество пропусков: 0\n",
      "Количество локальных дубликатов в столбце 0\n",
      "Уникальные значения:\n",
      "D1ABA3E2887B6A73    1\n",
      "B956889B759F3E32    1\n",
      "7C988DF91F3BA794    1\n",
      "78D83CDB8DA12901    1\n",
      "74EF7630CFAC89E8    1\n",
      "                   ..\n",
      "A5691EE66CDA977F    1\n",
      "446CD36FC22A5BB6    1\n",
      "C37FDEAD2E788A6F    1\n",
      "1C88591FB981DE87    1\n",
      "6715343AFBA285AE    1\n",
      "Name: user_id, Length: 6701, dtype: int64\n",
      "----------------------------------------\n",
      "Столбец \"group\"\n",
      "Тип данных: object\n",
      "Количество пропусков: 0\n",
      "Количество локальных дубликатов в столбце 6699\n",
      "Уникальные значения:\n",
      "A    3824\n",
      "B    2877\n",
      "Name: group, dtype: int64\n"
     ]
    }
   ],
   "source": [
    "# изучим датасет по столбцам\n",
    "view(our_participants)"
   ]
  },
  {
   "cell_type": "markdown",
   "id": "638c77b3",
   "metadata": {},
   "source": [
    "### Обработка датасета `new_users`"
   ]
  },
  {
   "cell_type": "code",
   "execution_count": 12,
   "id": "29021d28",
   "metadata": {},
   "outputs": [],
   "source": [
    "# откорректируем тип данных в столбце с временем\n",
    "new_users['first_date'] = pd.to_datetime(new_users['first_date'])"
   ]
  },
  {
   "cell_type": "code",
   "execution_count": 13,
   "id": "7e68890a",
   "metadata": {
    "scrolled": true
   },
   "outputs": [
    {
     "name": "stdout",
     "output_type": "stream",
     "text": [
      "Количество пропусков в датасете: 0\n",
      "Количество полных дубликатов в датасете 0\n",
      "----------------------------------------\n",
      "Столбец \"user_id\"\n",
      "Тип данных: object\n",
      "Количество пропусков: 0\n",
      "Количество локальных дубликатов в столбце 0\n",
      "Уникальные значения:\n",
      "D72A72121175D8BE    1\n",
      "A25EF6D0E025C48E    1\n",
      "62B9FD1B8BDB669C    1\n",
      "9A5F371EED469627    1\n",
      "2DF6B79FC97641EC    1\n",
      "                   ..\n",
      "133FDC1180FC743E    1\n",
      "35F8FFAF240FDB9B    1\n",
      "C7AAF024F4FF63C5    1\n",
      "A6EA45CB9FBAB213    1\n",
      "8F04273BB2860229    1\n",
      "Name: user_id, Length: 61733, dtype: int64\n",
      "----------------------------------------\n",
      "Столбец \"first_date\"\n",
      "Тип данных: datetime64[ns]\n",
      "Количество пропусков: 0\n",
      "Количество локальных дубликатов в столбце 61716\n",
      "Уникальные значения:\n",
      "2020-12-21    6290\n",
      "2020-12-14    5654\n",
      "2020-12-07    5595\n",
      "2020-12-13    4691\n",
      "2020-12-20    4288\n",
      "2020-12-12    3963\n",
      "2020-12-19    3617\n",
      "2020-12-18    3365\n",
      "2020-12-08    3239\n",
      "2020-12-22    3083\n",
      "2020-12-10    3076\n",
      "2020-12-17    3048\n",
      "2020-12-15    3043\n",
      "2020-12-11    2390\n",
      "2020-12-23    2180\n",
      "2020-12-16    2110\n",
      "2020-12-09    2101\n",
      "Name: first_date, dtype: int64\n",
      "Минимальное значение: 2020-12-07 00:00:00 Максимальное значение: 2020-12-23 00:00:00\n",
      "----------------------------------------\n",
      "Столбец \"region\"\n",
      "Тип данных: object\n",
      "Количество пропусков: 0\n",
      "Количество локальных дубликатов в столбце 61729\n",
      "Уникальные значения:\n",
      "EU           46270\n",
      "N.America    9155 \n",
      "CIS          3155 \n",
      "APAC         3153 \n",
      "Name: region, dtype: int64\n",
      "----------------------------------------\n",
      "Столбец \"device\"\n",
      "Тип данных: object\n",
      "Количество пропусков: 0\n",
      "Количество локальных дубликатов в столбце 61729\n",
      "Уникальные значения:\n",
      "Android    27520\n",
      "PC         15599\n",
      "iPhone     12530\n",
      "Mac        6084 \n",
      "Name: device, dtype: int64\n"
     ]
    }
   ],
   "source": [
    "# изучим датасет по столбцам\n",
    "view(new_users)"
   ]
  },
  {
   "cell_type": "markdown",
   "id": "696da423",
   "metadata": {},
   "source": [
    "- В датасете `new_user` содержится информация о зарегистрировавшихся новых пользователях, пропусков и полных дубликатов нет \n",
    "- Регион, откуда пришло больше всего регистраций - EU (это хорошо, т.к. в ТЗ имеется указание исследовать поведение пользователей именно из этого региона)\n",
    "- Диапазон в столбце \"first_date\" (07-23.12.2020) отличается от заданного в ТЗ периода набора новых пользователей (07-21.12.2020)\n",
    "- Проверим, попали ли пользователи, зарегистрировавшиеся после 21.12. в наш тест, для чего объединим сформированный ранее  датасет (отфильтрованный по участникам нашего теста) `our_participants` и `new_users` и проверим даты регистрации для нашего теста"
   ]
  },
  {
   "cell_type": "code",
   "execution_count": 14,
   "id": "1f738dd5",
   "metadata": {},
   "outputs": [],
   "source": [
    "# создание контрольного датафрейма для проверки корректности попадания пользователей в тест\n",
    "control_df = our_participants.merge(new_users, on='user_id', how = 'left')"
   ]
  },
  {
   "cell_type": "code",
   "execution_count": 15,
   "id": "3804c572",
   "metadata": {},
   "outputs": [
    {
     "name": "stdout",
     "output_type": "stream",
     "text": [
      "Начало регистрации участников нашего теста: 2020-12-07 00:00:00\n",
      "Окончание регистрации участников нашего теста: 2020-12-21 00:00:00\n"
     ]
    }
   ],
   "source": [
    "print('Начало регистрации участников нашего теста:', control_df['first_date'].min())\n",
    "print('Окончание регистрации участников нашего теста:', control_df['first_date'].max())"
   ]
  },
  {
   "cell_type": "markdown",
   "id": "5a1f4869",
   "metadata": {},
   "source": [
    "- убедились, что сведения об участниках нашего теста выгружены из базы в соответствии с ТЗ (начало регистрации 07.12., окончание регистрации 21.12.\n",
    "- вместе с тем, в датасете содержатся сведения о user_id, не принимавших участие в нашем тесте, с датами регистрации после 21.12.\n",
    "- эта информация для нашего исследования избыточна, её можно отфильтровать на этом этапе"
   ]
  },
  {
   "cell_type": "code",
   "execution_count": 16,
   "id": "59cbae6d",
   "metadata": {},
   "outputs": [],
   "source": [
    "# фильтруем датасет по временной границе регистрации, заданной в ТЗ\n",
    "new_users = new_users.query('first_date <= \"2020-12-21\"')"
   ]
  },
  {
   "cell_type": "markdown",
   "id": "0727a621",
   "metadata": {},
   "source": [
    "Чтобы проверить, выполняется ли требование ТЗ об исследовании пользователей из EU, необходимо знать регион, в котором проживают пользователи, отобранные нами в тест, для этого объединим ранее оформленный датасет `our_participants` с `new_users`"
   ]
  },
  {
   "cell_type": "code",
   "execution_count": 17,
   "id": "0756c5dd",
   "metadata": {},
   "outputs": [],
   "source": [
    "# формируем датасет, объединяя данные о взятых в наш тест пользователях и прошедших регистрацию в указанные в ТЗ сроки\n",
    "our_participants = our_participants.merge(new_users, on='user_id', how='left')"
   ]
  },
  {
   "cell_type": "markdown",
   "id": "0a6910c4",
   "metadata": {},
   "source": [
    "#### Проверка на соответствие условиям ТЗ: число и % пользователей из EU"
   ]
  },
  {
   "cell_type": "code",
   "execution_count": 18,
   "id": "d9780dd7",
   "metadata": {
    "scrolled": true
   },
   "outputs": [
    {
     "name": "stdout",
     "output_type": "stream",
     "text": [
      "Из всего числа новых пользователей из EU (42340 чел.) в тест отобрано 6351 чел., т.е. 15.0%\n"
     ]
    }
   ],
   "source": [
    "# подсчёт новых пользователей из EU\n",
    "EU_new_users = new_users.query('region == \"EU\"')['region'].count()\n",
    "#  подсчёт пользователей из EU, отобранных в    \n",
    "test_EU_users = our_participants.query('region == \"EU\"')['region'].count()\n",
    "print(f'Из всего числа новых пользователей из EU ({EU_new_users} чел.) в тест отобрано {test_EU_users} чел., \\\n",
    "т.е. {test_EU_users/EU_new_users * 100}%')"
   ]
  },
  {
   "cell_type": "markdown",
   "id": "3fd116d7",
   "metadata": {},
   "source": [
    "Видим, что на этом этапе выполняются требования ТЗ об отборе в тест не менее 15% от зарегистрировавшихся EU пользователей, а также о наличии в обеих группах теста не менее 6000 человек. \n",
    "\n",
    "Исходя из требования ТЗ, оставляем в датасете только EU пользователей"
   ]
  },
  {
   "cell_type": "code",
   "execution_count": 19,
   "id": "5685bc3a",
   "metadata": {},
   "outputs": [],
   "source": [
    "# фильтр датасета по заданным в ТЗ условиям (пользователи только из EU)\n",
    "our_participants = our_participants.query('region == \"EU\"')"
   ]
  },
  {
   "cell_type": "markdown",
   "id": "8be3a42e",
   "metadata": {},
   "source": [
    "#### Оценка количества и влияния id, участвующих в параллельном тесте"
   ]
  },
  {
   "cell_type": "markdown",
   "id": "e0609771",
   "metadata": {},
   "source": [
    "Теперь оценим влияние на наш тест (`recommender_system_test`) user_id, попавших одновременно и в другой тест (`interface_eu_test`)\\\n",
    "Для этого создадим дополнительные series:\n",
    "- список id пользователей, попавших в группу A теста `interface_eu_test` (для которых, фактически, не производилось никаких действий/изменений, отличающихся от тех, что были у \"наших\" пользователей, и, как следствие, с т.з. поведения в \"нашем\" тесте они ничем не отличаются от \"наших\" пользователей, не задействованных в параллельном тесте)\n",
    "- список id пользователей, попавших в группу B теста `interface_eu_test` (на действия которых теоретически мог повлиять другой тест, т.к. судя по названию, там мог быть изменён интерфейс, что, в свою очередь могло бы повлиять на действия уже в рамках нашего теста)"
   ]
  },
  {
   "cell_type": "code",
   "execution_count": 20,
   "id": "cd4db869",
   "metadata": {},
   "outputs": [],
   "source": [
    "# формируем датасет из пользователей группы A параллельного теста\n",
    "A_interface_user = participants.query('group == \"A\" and ab_test == \"interface_eu_test\"').drop(columns='group', axis=1)"
   ]
  },
  {
   "cell_type": "code",
   "execution_count": 21,
   "id": "5b9ddef8",
   "metadata": {},
   "outputs": [],
   "source": [
    "# формируем датасет из пользователей группы B параллельного теста\n",
    "B_interface_user = participants.query('group == \"B\" and ab_test == \"interface_eu_test\"').drop(columns='group', axis=1)"
   ]
  },
  {
   "cell_type": "code",
   "execution_count": 22,
   "id": "d42f5f2c",
   "metadata": {},
   "outputs": [
    {
     "name": "stdout",
     "output_type": "stream",
     "text": [
      "В нашем тесте 819 (12.9%) участников из группы А и 783 (12.3%) участника из группы B параллельного теста\n"
     ]
    }
   ],
   "source": [
    "# рассчитываем, сколько A/B - пользователей параллельного теста также попали в число участников нашего теста\n",
    "userA = our_participants.query('user_id in @A_interface_user.user_id')['user_id'].count()\n",
    "userB = our_participants.query('user_id in @B_interface_user.user_id')['user_id'].count()\n",
    "print(f'В нашем тесте {userA} ({round(userA / our_participants.shape[0] * 100,1)}%) участников из группы А и \\\n",
    "{userB} ({round(userB / our_participants.shape[0] * 100,1)}%) участника из группы B параллельного теста')"
   ]
  },
  {
   "cell_type": "markdown",
   "id": "8f20fa40",
   "metadata": {},
   "source": [
    "- Как отмечалось выше, наличие в нашем тесте участников из группы А параллельного теста никак не повлияет на результаты нашего теста, такое влияние может быть только при включении в тест участников группы B параллельного теста\n",
    "- при этом число вторых (783 человека, более 12% от общего числа участников нашего теста ) слишком велико, чтобы просто удалить их, т.к. будут нарушены требования ТЗ к числу участников (от 6000) и % участников из EU (не менее 15%)\n",
    "- попробуем оценить распределение \"B_участников\" параллельного теста по группам нашего теста, для чего объединим датафреймы `our_participants` и `B_interface_user`"
   ]
  },
  {
   "cell_type": "code",
   "execution_count": 23,
   "id": "1fbc7380",
   "metadata": {},
   "outputs": [],
   "source": [
    "# объединение датасетов с \"нашими\" участниками и участниками группы B параллельного теста\n",
    "our_participants = our_participants.merge(B_interface_user, on='user_id', how='left')"
   ]
  },
  {
   "cell_type": "code",
   "execution_count": 24,
   "id": "fa834875",
   "metadata": {},
   "outputs": [
    {
     "name": "stdout",
     "output_type": "stream",
     "text": [
      "Участники группы B паралелльного теста составляют для группы А: 12.1% группы, для группы B: 12.7% группы\n"
     ]
    }
   ],
   "source": [
    "# расчёт распределения участников группы B параллельного теста  - по группам A и B нашего теста\n",
    "test_inA = our_participants.groupby('group')['ab_test'].count()[0] / our_participants.groupby('group')['group'].count()[0]\n",
    "test_inB = our_participants.groupby('group')['ab_test'].count()[1] / our_participants.groupby('group')['group'].count()[1]\n",
    "print(f'Участники группы B паралелльного теста составляют \\\n",
    "для группы А: {round(test_inA *100,1)}% группы, для группы B: {round(test_inB *100,1)}% группы')"
   ]
  },
  {
   "cell_type": "markdown",
   "id": "553b6c9b",
   "metadata": {},
   "source": [
    "- замечаем схожее процентное распределение участников группы B параллельного теста по группам  изучаемого теста, из чего можно предположить и схожее влияние действий таких участников на результаты теста\n",
    "\n",
    "Решение: оставляем в нашем тесте user_id, занятые в паралелльном тесте: из группы А (как не подвергшихся влиянию каких-либо доп. изменений по сравнению с участниками нашего теста) и из группы B (так как они схожим образом распределены в тестовой и контрольной группах нашего теста и можно считать, что влияние на них условий параллельного теста схожим образом отразится на действиях в рамках нашего теста для обеих групп)"
   ]
  },
  {
   "cell_type": "markdown",
   "id": "f6a0119f",
   "metadata": {},
   "source": [
    "*Удалим не нужные теперь столбцы `ab_test` и `region` из датафрейма с участниками нашего теста*"
   ]
  },
  {
   "cell_type": "code",
   "execution_count": 25,
   "id": "d13b6a8a",
   "metadata": {},
   "outputs": [],
   "source": [
    "our_participants.drop(columns=['ab_test', 'region'], axis=1, inplace=True)"
   ]
  },
  {
   "cell_type": "markdown",
   "id": "d330a352",
   "metadata": {},
   "source": [
    "#### Проверка id пользователей на попадание в обе группы (A и B) теста"
   ]
  },
  {
   "cell_type": "code",
   "execution_count": 26,
   "id": "66b384e9",
   "metadata": {},
   "outputs": [
    {
     "data": {
      "text/plain": [
       "user_id    0\n",
       "group      0\n",
       "dtype: int64"
      ]
     },
     "execution_count": 26,
     "metadata": {},
     "output_type": "execute_result"
    }
   ],
   "source": [
    "our_participants.groupby('user_id')['group'].nunique().reset_index().query('group > 1').count()"
   ]
  },
  {
   "cell_type": "markdown",
   "id": "7fd690df",
   "metadata": {},
   "source": [
    "В результате создан датафрейм `our_participants` с уникальными id пользователей, распределёнными по двум группам A/B теста `recommender_system_test`, пропусков, нулей и дубликатов нет"
   ]
  },
  {
   "cell_type": "markdown",
   "id": "405a6385",
   "metadata": {},
   "source": [
    "### Обработка датасета `events`"
   ]
  },
  {
   "cell_type": "code",
   "execution_count": 27,
   "id": "5ece4cf5",
   "metadata": {},
   "outputs": [],
   "source": [
    "# откорректируем тип данных в столбце с временем\n",
    "events['event_dt'] = pd.to_datetime(events['event_dt'])"
   ]
  },
  {
   "cell_type": "code",
   "execution_count": 28,
   "id": "4f431f28",
   "metadata": {
    "scrolled": true
   },
   "outputs": [
    {
     "name": "stdout",
     "output_type": "stream",
     "text": [
      "Количество пропусков в датасете: 377577\n",
      "Количество полных дубликатов в датасете 0\n",
      "----------------------------------------\n",
      "Столбец \"user_id\"\n",
      "Тип данных: object\n",
      "Количество пропусков: 0\n",
      "Количество локальных дубликатов в столбце 381614\n",
      "Уникальные значения:\n",
      "A3917F81482141F2    36\n",
      "D6477068EF132236    32\n",
      "8AEB716C4CD82CA7    32\n",
      "590DACD07A839BC3    32\n",
      "3356239C0DC75E2A    32\n",
      "                    ..\n",
      "B80297D6570EA5FE    1 \n",
      "D2656A48DD3C4EEE    1 \n",
      "83E9CFC64D61108E    1 \n",
      "30C9930817226A34    1 \n",
      "F7DC611E716A9F76    1 \n",
      "Name: user_id, Length: 58703, dtype: int64\n",
      "----------------------------------------\n",
      "Столбец \"event_dt\"\n",
      "Тип данных: datetime64[ns]\n",
      "Количество пропусков: 0\n",
      "Количество локальных дубликатов в столбце 173049\n",
      "Уникальные значения:\n",
      "2020-12-23 02:37:24    10\n",
      "2020-12-14 18:54:55    10\n",
      "2020-12-20 02:51:18    9 \n",
      "2020-12-24 00:54:52    9 \n",
      "2020-12-13 06:00:54    9 \n",
      "                      .. \n",
      "2020-12-18 10:54:12    1 \n",
      "2020-12-18 19:31:57    1 \n",
      "2020-12-18 09:04:49    1 \n",
      "2020-12-18 16:53:52    1 \n",
      "2020-12-30 10:59:09    1 \n",
      "Name: event_dt, Length: 267268, dtype: int64\n",
      "Минимальное значение: 2020-12-07 00:00:33 Максимальное значение: 2020-12-30 23:36:33\n",
      "----------------------------------------\n",
      "Столбец \"event_name\"\n",
      "Тип данных: object\n",
      "Количество пропусков: 0\n",
      "Количество локальных дубликатов в столбце 440313\n",
      "Уникальные значения:\n",
      "login           189552\n",
      "product_page    125563\n",
      "purchase        62740 \n",
      "product_cart    62462 \n",
      "Name: event_name, dtype: int64\n",
      "----------------------------------------\n",
      "Столбец \"details\"\n",
      "Тип данных: float64\n",
      "Количество пропусков: 377577\n",
      "Количество локальных дубликатов в столбце 440312\n",
      "Уникальные значения:\n",
      "4.99      46362\n",
      "9.99      9530 \n",
      "99.99     5631 \n",
      "499.99    1217 \n",
      "Name: details, dtype: int64\n",
      "Минимальное значение: 4.99 Максимальное значение: 499.99\n"
     ]
    }
   ],
   "source": [
    "# изучим датасет по столбцам\n",
    "view(events)"
   ]
  },
  {
   "cell_type": "markdown",
   "id": "fe5f096a",
   "metadata": {},
   "source": [
    "- в датасете `events` описаны события, произошедшие с пользователями в системе с начала 07.12.2020 до  до конца 30.12.2020\n",
    "- получается, что для ряда новых пользователей (с датой регистрации > 16.12.2020) не выполнится условие ТЗ, о наблюдении в течение 14 дней (т.е. мы увидим для них не полный лайфтайм)\n",
    "- возможно, что интересующие нас в исследовании действия (события) с ними за этот период (9-13 дней) происходили, и неоднократно, так что сохраним эти данные и изучим распределение событий по lifetime на этапе числового анализа\n",
    "- типов событий (\"event_name\") четыре:\n",
    "     - login: авторизация\n",
    "     - product_page: просмотр страниц(ы) товара\n",
    "     - purchase: размещение заказа\n",
    "     - product_cart: ввод данных карты(?)\n",
    "- в столбце \"details\" датасета содержится информация о стоимости заказа (это будет важно при расчёте изменения `purchase` в течение тестирования)"
   ]
  },
  {
   "cell_type": "markdown",
   "id": "288c4c0c",
   "metadata": {},
   "source": [
    "#### Формирование датасета для анализа (с участниками теста и событиями)"
   ]
  },
  {
   "cell_type": "code",
   "execution_count": 29,
   "id": "8efd20fc",
   "metadata": {},
   "outputs": [],
   "source": [
    "# объединим ранее сформированный датасет с участниками `our_participants` и события `events`\n",
    "data = our_participants.merge(events, on='user_id', how='left')"
   ]
  },
  {
   "cell_type": "markdown",
   "id": "3d5ef5c6",
   "metadata": {},
   "source": [
    "*Добавим в датасет служебный столбец `lifetime`, показывающий, на какой день после регистрации пользователь осуществил то или иное событие*"
   ]
  },
  {
   "cell_type": "code",
   "execution_count": 30,
   "id": "a3ebe465",
   "metadata": {},
   "outputs": [],
   "source": [
    "data['lifetime'] = (data['event_dt'] - data['first_date']).dt.days"
   ]
  },
  {
   "cell_type": "code",
   "execution_count": 31,
   "id": "113b3e21",
   "metadata": {},
   "outputs": [
    {
     "name": "stdout",
     "output_type": "stream",
     "text": [
      "Количество пропусков в датасете: 31704\n",
      "Количество полных дубликатов в датасете 0\n",
      "----------------------------------------\n",
      "Столбец \"user_id\"\n",
      "Тип данных: object\n",
      "Количество пропусков: 0\n",
      "Количество локальных дубликатов в столбце 19939\n",
      "Уникальные значения:\n",
      "1198061F6AF34B7B    28\n",
      "115EBC1CA027854A    27\n",
      "CED71698585A2E46    24\n",
      "1BFEE479308EFF44    24\n",
      "89545C7F903DBA34    21\n",
      "                    ..\n",
      "27D8287BE2BDD495    1 \n",
      "490E84A1AE8B752A    1 \n",
      "D3F219FA0FE3AC6F    1 \n",
      "E2FE85B51F8E74D1    1 \n",
      "187957958A06BEF6    1 \n",
      "Name: user_id, Length: 6351, dtype: int64\n",
      "----------------------------------------\n",
      "Столбец \"group\"\n",
      "Тип данных: object\n",
      "Количество пропусков: 0\n",
      "Количество локальных дубликатов в столбце 26288\n",
      "Уникальные значения:\n",
      "A    19339\n",
      "B    6951 \n",
      "Name: group, dtype: int64\n",
      "----------------------------------------\n",
      "Столбец \"first_date\"\n",
      "Тип данных: datetime64[ns]\n",
      "Количество пропусков: 0\n",
      "Количество локальных дубликатов в столбце 26275\n",
      "Уникальные значения:\n",
      "2020-12-14    3481\n",
      "2020-12-21    3221\n",
      "2020-12-07    2615\n",
      "2020-12-20    2138\n",
      "2020-12-18    1992\n",
      "2020-12-16    1904\n",
      "2020-12-19    1847\n",
      "2020-12-15    1841\n",
      "2020-12-17    1775\n",
      "2020-12-09    1165\n",
      "2020-12-08    1084\n",
      "2020-12-12    944 \n",
      "2020-12-13    774 \n",
      "2020-12-11    767 \n",
      "2020-12-10    742 \n",
      "Name: first_date, dtype: int64\n",
      "Минимальное значение: 2020-12-07 00:00:00 Максимальное значение: 2020-12-21 00:00:00\n",
      "----------------------------------------\n",
      "Столбец \"device\"\n",
      "Тип данных: object\n",
      "Количество пропусков: 0\n",
      "Количество локальных дубликатов в столбце 26286\n",
      "Уникальные значения:\n",
      "Android    11538\n",
      "PC         6732 \n",
      "iPhone     5482 \n",
      "Mac        2538 \n",
      "Name: device, dtype: int64\n",
      "----------------------------------------\n",
      "Столбец \"event_dt\"\n",
      "Тип данных: datetime64[ns]\n",
      "Количество пропусков: 2870\n",
      "Количество локальных дубликатов в столбце 10661\n",
      "Уникальные значения:\n",
      "2020-12-09 19:01:05    6\n",
      "2020-12-18 18:44:29    5\n",
      "2020-12-17 20:13:22    5\n",
      "2020-12-20 09:51:02    5\n",
      "2020-12-10 14:54:17    5\n",
      "                      ..\n",
      "2020-12-29 20:17:32    1\n",
      "2020-12-07 05:45:01    1\n",
      "2020-12-08 18:59:47    1\n",
      "2020-12-19 07:21:18    1\n",
      "2020-12-20 20:01:32    1\n",
      "Name: event_dt, Length: 15628, dtype: int64\n",
      "Минимальное значение: 2020-12-07 00:05:57 Максимальное значение: 2020-12-30 12:42:57\n",
      "----------------------------------------\n",
      "Столбец \"event_name\"\n",
      "Тип данных: object\n",
      "Количество пропусков: 2870\n",
      "Количество локальных дубликатов в столбце 26285\n",
      "Уникальные значения:\n",
      "login           10595\n",
      "product_page    6554 \n",
      "purchase        3196 \n",
      "product_cart    3075 \n",
      "Name: event_name, dtype: int64\n",
      "----------------------------------------\n",
      "Столбец \"details\"\n",
      "Тип данных: float64\n",
      "Количество пропусков: 23094\n",
      "Количество локальных дубликатов в столбце 26285\n",
      "Уникальные значения:\n",
      "4.99      2384\n",
      "9.99      474 \n",
      "99.99     280 \n",
      "499.99    58  \n",
      "Name: details, dtype: int64\n",
      "Минимальное значение: 4.99 Максимальное значение: 499.99\n",
      "----------------------------------------\n",
      "Столбец \"lifetime\"\n",
      "Тип данных: float64\n",
      "Количество пропусков: 2870\n",
      "Количество локальных дубликатов в столбце 26265\n",
      "Уникальные значения:\n",
      "0.00     7719\n",
      "1.00     3559\n",
      "2.00     2451\n",
      "3.00     1712\n",
      "4.00     1417\n",
      "5.00     1149\n",
      "6.00     999 \n",
      "7.00     924 \n",
      "8.00     725 \n",
      "9.00     578 \n",
      "10.00    481 \n",
      "12.00    341 \n",
      "11.00    322 \n",
      "13.00    243 \n",
      "14.00    208 \n",
      "15.00    163 \n",
      "16.00    94  \n",
      "17.00    78  \n",
      "18.00    77  \n",
      "20.00    62  \n",
      "19.00    54  \n",
      "21.00    31  \n",
      "22.00    29  \n",
      "23.00    4   \n",
      "Name: lifetime, dtype: int64\n",
      "Минимальное значение: 0.0 Максимальное значение: 23.0\n"
     ]
    }
   ],
   "source": [
    "# изучим объединённый датасет\n",
    "view(data)"
   ]
  },
  {
   "cell_type": "markdown",
   "id": "30cce262",
   "metadata": {},
   "source": [
    "Для итогового датасета:\n",
    "- в столбце `lifetime` для ряда пользователей значения превышают заданные в ТЗ 14 дней. Чтобы изучать действия пользователей согласно ТЗ, необходимо предварительно отфильтровать строки с информацией о действиях, совершённых вне пределов lifetime\n",
    "- в столбцах `event_name` и `event_dt` (как результат, и в `lifetime`) появились пропуски (2870 в каждом), очевидно, речь идёт о том, что некотороое количество user_id никаких действий (после регистрации) в воронке продаж не совершали. Т.к. в рамках проекта нас интересует изучение действий пользователей после регистрации, эти строки, не несущие полезной информации, можно отфильтровать. Тем самым наш итоговый датасет сократится ниже означенных в ТЗ параметров (6000 уникальных пользователей), но вариантов дополнить пропущенную информацию у нас на этом этапе уже нет\n",
    "- имеются многочисленные пропуски в столбце `details`, согласно описанию данных в этом столбце указан размер оплаты (в случае, когда пользователь совершил событие \"purchase\"). Разумеется, для всех остальных типов событий данных в столбце и не должно быть. Удалять пропуски мы не будем, но проверим, соответствует ли число непустых значений в столбце `details` количеству событий \"purchase\" в столбце `event_name`"
   ]
  },
  {
   "cell_type": "code",
   "execution_count": 32,
   "id": "d5fcf384",
   "metadata": {},
   "outputs": [],
   "source": [
    "# фильтруем датасет на lifetime в пределах 14 дней и на отсутствие NAN в столбце event_name\n",
    "data = data.query('lifetime <= 14').query('event_name.notna()')"
   ]
  },
  {
   "cell_type": "code",
   "execution_count": 33,
   "id": "94aad0fd",
   "metadata": {},
   "outputs": [
    {
     "name": "stdout",
     "output_type": "stream",
     "text": [
      "В итоговом датасете осталось 3481 пользователей, совершавших действия в воронке продаж\n",
      "Это 54.81% от количества и 8.22% от числа пользователей из EU, требуемых в ТЗ\n"
     ]
    }
   ],
   "source": [
    "# проверим число оставшихся уникальных ID\n",
    "print(f'В итоговом датасете осталось {data.user_id.nunique()} пользователей, совершавших действия в воронке продаж')\n",
    "print(f'Это {round(data.user_id.nunique() / test_EU_users * 100,2)}% от количества и \\\n",
    "{round(data.user_id.nunique() / EU_new_users * 100,2)}% от числа пользователей из EU, требуемых в ТЗ')"
   ]
  },
  {
   "cell_type": "code",
   "execution_count": 34,
   "id": "1de22a12",
   "metadata": {},
   "outputs": [
    {
     "name": "stdout",
     "output_type": "stream",
     "text": [
      "Число событий \"purchase\" в датасете: 3123\n",
      "Количество оплат в датасете: 3123\n",
      "Нет оплаты (для действия \"purchase\"): 0\n"
     ]
    }
   ],
   "source": [
    "# проверка на число и соответствие оплат событию \"purchase\"\n",
    "print('Число событий \"purchase\" в датасете:', data[data['event_name'] == \"purchase\"]['event_name'].count())\n",
    "print('Количество оплат в датасете:', data['details'].value_counts().sum())\n",
    "print('Нет оплаты (для действия \"purchase\"):', data.query('event_name == \"purchase\" and details.isna()')['details'].count())"
   ]
  },
  {
   "cell_type": "markdown",
   "id": "3da5c01b",
   "metadata": {},
   "source": [
    "### Обработка датасета `project_marketing_events`"
   ]
  },
  {
   "cell_type": "code",
   "execution_count": 35,
   "id": "c3aaf570",
   "metadata": {},
   "outputs": [],
   "source": [
    "# откорректируем тип данных в столбцах с временем\n",
    "project_marketing_events[['start_dt', 'finish_dt']] = \\\n",
    "project_marketing_events[['start_dt', 'finish_dt']].apply(pd.to_datetime)"
   ]
  },
  {
   "cell_type": "code",
   "execution_count": 36,
   "id": "dcf98899",
   "metadata": {
    "scrolled": true
   },
   "outputs": [
    {
     "name": "stdout",
     "output_type": "stream",
     "text": [
      "Количество пропусков в датасете: 0\n",
      "Количество полных дубликатов в датасете 0\n",
      "----------------------------------------\n",
      "Столбец \"name\"\n",
      "Тип данных: object\n",
      "Количество пропусков: 0\n",
      "Количество локальных дубликатов в столбце 0\n",
      "Уникальные значения:\n",
      "Christmas&New Year Promo            1\n",
      "St. Valentine's Day Giveaway        1\n",
      "St. Patric's Day Promo              1\n",
      "Easter Promo                        1\n",
      "4th of July Promo                   1\n",
      "Black Friday Ads Campaign           1\n",
      "Chinese New Year Promo              1\n",
      "Labor day (May 1st) Ads Campaign    1\n",
      "International Women's Day Promo     1\n",
      "Victory Day CIS (May 9th) Event     1\n",
      "CIS New Year Gift Lottery           1\n",
      "Dragon Boat Festival Giveaway       1\n",
      "Single's Day Gift Promo             1\n",
      "Chinese Moon Festival               1\n",
      "Name: name, dtype: int64\n",
      "----------------------------------------\n",
      "Столбец \"regions\"\n",
      "Тип данных: object\n",
      "Количество пропусков: 0\n",
      "Количество локальных дубликатов в столбце 8\n",
      "Уникальные значения:\n",
      "APAC                        4\n",
      "EU, CIS, APAC, N.America    3\n",
      "EU, N.America               2\n",
      "EU, CIS, APAC               2\n",
      "CIS                         2\n",
      "N.America                   1\n",
      "Name: regions, dtype: int64\n",
      "----------------------------------------\n",
      "Столбец \"start_dt\"\n",
      "Тип данных: datetime64[ns]\n",
      "Количество пропусков: 0\n",
      "Количество локальных дубликатов в столбце 0\n",
      "Уникальные значения:\n",
      "2020-12-25    1\n",
      "2020-02-14    1\n",
      "2020-03-17    1\n",
      "2020-04-12    1\n",
      "2020-07-04    1\n",
      "2020-11-26    1\n",
      "2020-01-25    1\n",
      "2020-05-01    1\n",
      "2020-03-08    1\n",
      "2020-05-09    1\n",
      "2020-12-30    1\n",
      "2020-06-25    1\n",
      "2020-11-11    1\n",
      "2020-10-01    1\n",
      "Name: start_dt, dtype: int64\n",
      "Минимальное значение: 2020-01-25 00:00:00 Максимальное значение: 2020-12-30 00:00:00\n",
      "----------------------------------------\n",
      "Столбец \"finish_dt\"\n",
      "Тип данных: datetime64[ns]\n",
      "Количество пропусков: 0\n",
      "Количество локальных дубликатов в столбце 0\n",
      "Уникальные значения:\n",
      "2021-01-03    1\n",
      "2020-02-16    1\n",
      "2020-03-19    1\n",
      "2020-04-19    1\n",
      "2020-07-11    1\n",
      "2020-12-01    1\n",
      "2020-02-07    1\n",
      "2020-05-03    1\n",
      "2020-03-10    1\n",
      "2020-05-11    1\n",
      "2021-01-07    1\n",
      "2020-07-01    1\n",
      "2020-11-12    1\n",
      "2020-10-07    1\n",
      "Name: finish_dt, dtype: int64\n",
      "Минимальное значение: 2020-02-07 00:00:00 Максимальное значение: 2021-01-07 00:00:00\n"
     ]
    }
   ],
   "source": [
    "# изучим датасет по столбцам\n",
    "view(project_marketing_events)"
   ]
  },
  {
   "cell_type": "code",
   "execution_count": 37,
   "id": "c9e650e4",
   "metadata": {},
   "outputs": [
    {
     "data": {
      "text/html": [
       "<div>\n",
       "<style scoped>\n",
       "    .dataframe tbody tr th:only-of-type {\n",
       "        vertical-align: middle;\n",
       "    }\n",
       "\n",
       "    .dataframe tbody tr th {\n",
       "        vertical-align: top;\n",
       "    }\n",
       "\n",
       "    .dataframe thead th {\n",
       "        text-align: right;\n",
       "    }\n",
       "</style>\n",
       "<table border=\"1\" class=\"dataframe\">\n",
       "  <thead>\n",
       "    <tr style=\"text-align: right;\">\n",
       "      <th></th>\n",
       "      <th>name</th>\n",
       "      <th>regions</th>\n",
       "      <th>start_dt</th>\n",
       "      <th>finish_dt</th>\n",
       "    </tr>\n",
       "  </thead>\n",
       "  <tbody>\n",
       "    <tr>\n",
       "      <th>0</th>\n",
       "      <td>Christmas&amp;New Year Promo</td>\n",
       "      <td>EU, N.America</td>\n",
       "      <td>2020-12-25</td>\n",
       "      <td>2021-01-03</td>\n",
       "    </tr>\n",
       "    <tr>\n",
       "      <th>1</th>\n",
       "      <td>St. Valentine's Day Giveaway</td>\n",
       "      <td>EU, CIS, APAC, N.America</td>\n",
       "      <td>2020-02-14</td>\n",
       "      <td>2020-02-16</td>\n",
       "    </tr>\n",
       "    <tr>\n",
       "      <th>2</th>\n",
       "      <td>St. Patric's Day Promo</td>\n",
       "      <td>EU, N.America</td>\n",
       "      <td>2020-03-17</td>\n",
       "      <td>2020-03-19</td>\n",
       "    </tr>\n",
       "    <tr>\n",
       "      <th>3</th>\n",
       "      <td>Easter Promo</td>\n",
       "      <td>EU, CIS, APAC, N.America</td>\n",
       "      <td>2020-04-12</td>\n",
       "      <td>2020-04-19</td>\n",
       "    </tr>\n",
       "    <tr>\n",
       "      <th>4</th>\n",
       "      <td>4th of July Promo</td>\n",
       "      <td>N.America</td>\n",
       "      <td>2020-07-04</td>\n",
       "      <td>2020-07-11</td>\n",
       "    </tr>\n",
       "    <tr>\n",
       "      <th>5</th>\n",
       "      <td>Black Friday Ads Campaign</td>\n",
       "      <td>EU, CIS, APAC, N.America</td>\n",
       "      <td>2020-11-26</td>\n",
       "      <td>2020-12-01</td>\n",
       "    </tr>\n",
       "    <tr>\n",
       "      <th>6</th>\n",
       "      <td>Chinese New Year Promo</td>\n",
       "      <td>APAC</td>\n",
       "      <td>2020-01-25</td>\n",
       "      <td>2020-02-07</td>\n",
       "    </tr>\n",
       "    <tr>\n",
       "      <th>7</th>\n",
       "      <td>Labor day (May 1st) Ads Campaign</td>\n",
       "      <td>EU, CIS, APAC</td>\n",
       "      <td>2020-05-01</td>\n",
       "      <td>2020-05-03</td>\n",
       "    </tr>\n",
       "    <tr>\n",
       "      <th>8</th>\n",
       "      <td>International Women's Day Promo</td>\n",
       "      <td>EU, CIS, APAC</td>\n",
       "      <td>2020-03-08</td>\n",
       "      <td>2020-03-10</td>\n",
       "    </tr>\n",
       "    <tr>\n",
       "      <th>9</th>\n",
       "      <td>Victory Day CIS (May 9th) Event</td>\n",
       "      <td>CIS</td>\n",
       "      <td>2020-05-09</td>\n",
       "      <td>2020-05-11</td>\n",
       "    </tr>\n",
       "    <tr>\n",
       "      <th>10</th>\n",
       "      <td>CIS New Year Gift Lottery</td>\n",
       "      <td>CIS</td>\n",
       "      <td>2020-12-30</td>\n",
       "      <td>2021-01-07</td>\n",
       "    </tr>\n",
       "    <tr>\n",
       "      <th>11</th>\n",
       "      <td>Dragon Boat Festival Giveaway</td>\n",
       "      <td>APAC</td>\n",
       "      <td>2020-06-25</td>\n",
       "      <td>2020-07-01</td>\n",
       "    </tr>\n",
       "    <tr>\n",
       "      <th>12</th>\n",
       "      <td>Single's Day Gift Promo</td>\n",
       "      <td>APAC</td>\n",
       "      <td>2020-11-11</td>\n",
       "      <td>2020-11-12</td>\n",
       "    </tr>\n",
       "    <tr>\n",
       "      <th>13</th>\n",
       "      <td>Chinese Moon Festival</td>\n",
       "      <td>APAC</td>\n",
       "      <td>2020-10-01</td>\n",
       "      <td>2020-10-07</td>\n",
       "    </tr>\n",
       "  </tbody>\n",
       "</table>\n",
       "</div>"
      ],
      "text/plain": [
       "                                name                   regions   start_dt  \\\n",
       "0   Christmas&New Year Promo          EU, N.America            2020-12-25   \n",
       "1   St. Valentine's Day Giveaway      EU, CIS, APAC, N.America 2020-02-14   \n",
       "2   St. Patric's Day Promo            EU, N.America            2020-03-17   \n",
       "3   Easter Promo                      EU, CIS, APAC, N.America 2020-04-12   \n",
       "4   4th of July Promo                 N.America                2020-07-04   \n",
       "5   Black Friday Ads Campaign         EU, CIS, APAC, N.America 2020-11-26   \n",
       "6   Chinese New Year Promo            APAC                     2020-01-25   \n",
       "7   Labor day (May 1st) Ads Campaign  EU, CIS, APAC            2020-05-01   \n",
       "8   International Women's Day Promo   EU, CIS, APAC            2020-03-08   \n",
       "9   Victory Day CIS (May 9th) Event   CIS                      2020-05-09   \n",
       "10  CIS New Year Gift Lottery         CIS                      2020-12-30   \n",
       "11  Dragon Boat Festival Giveaway     APAC                     2020-06-25   \n",
       "12  Single's Day Gift Promo           APAC                     2020-11-11   \n",
       "13  Chinese Moon Festival             APAC                     2020-10-01   \n",
       "\n",
       "    finish_dt  \n",
       "0  2021-01-03  \n",
       "1  2020-02-16  \n",
       "2  2020-03-19  \n",
       "3  2020-04-19  \n",
       "4  2020-07-11  \n",
       "5  2020-12-01  \n",
       "6  2020-02-07  \n",
       "7  2020-05-03  \n",
       "8  2020-03-10  \n",
       "9  2020-05-11  \n",
       "10 2021-01-07  \n",
       "11 2020-07-01  \n",
       "12 2020-11-12  \n",
       "13 2020-10-07  "
      ]
     },
     "execution_count": 37,
     "metadata": {},
     "output_type": "execute_result"
    }
   ],
   "source": [
    "project_marketing_events"
   ]
  },
  {
   "cell_type": "markdown",
   "id": "92a08775",
   "metadata": {},
   "source": [
    "В датасете `project_marketing_events` содержится график проведения маркетинговых акций, которые, в случае проведения для региона тестирования (EU) и синхронно с нашим тестом, могли оказать влияние на поведение участников тестирования.\n",
    "Отфильтруем датасет на события:\n",
    "- Которые проводились для региона EU, при этом:\n",
    "    - Начались до периода, закончились во время или\n",
    "    - Начались до периода, закончились после или\n",
    "    - Начались во время периода, закончились во время периода или\n",
    "    - Начались во время периода, закончились после\\\n",
    "(все последние утверждения можно свести к двум условиям: марк. акция началась до конца теста и закончилась после начала теста)"
   ]
  },
  {
   "cell_type": "code",
   "execution_count": 38,
   "id": "79830055",
   "metadata": {},
   "outputs": [
    {
     "data": {
      "text/html": [
       "<div>\n",
       "<style scoped>\n",
       "    .dataframe tbody tr th:only-of-type {\n",
       "        vertical-align: middle;\n",
       "    }\n",
       "\n",
       "    .dataframe tbody tr th {\n",
       "        vertical-align: top;\n",
       "    }\n",
       "\n",
       "    .dataframe thead th {\n",
       "        text-align: right;\n",
       "    }\n",
       "</style>\n",
       "<table border=\"1\" class=\"dataframe\">\n",
       "  <thead>\n",
       "    <tr style=\"text-align: right;\">\n",
       "      <th></th>\n",
       "      <th>name</th>\n",
       "      <th>regions</th>\n",
       "      <th>start_dt</th>\n",
       "      <th>finish_dt</th>\n",
       "    </tr>\n",
       "  </thead>\n",
       "  <tbody>\n",
       "    <tr>\n",
       "      <th>0</th>\n",
       "      <td>Christmas&amp;New Year Promo</td>\n",
       "      <td>EU, N.America</td>\n",
       "      <td>2020-12-25</td>\n",
       "      <td>2021-01-03</td>\n",
       "    </tr>\n",
       "  </tbody>\n",
       "</table>\n",
       "</div>"
      ],
      "text/plain": [
       "                       name        regions   start_dt  finish_dt\n",
       "0  Christmas&New Year Promo  EU, N.America 2020-12-25 2021-01-03"
      ]
     },
     "execution_count": 38,
     "metadata": {},
     "output_type": "execute_result"
    }
   ],
   "source": [
    "# фильтр датасета с маркетинговыми событиями\n",
    "project_marketing_events.query('regions.str.contains(\"EU\") and (start_dt <= @data.event_dt.max() and finish_dt >= @data.event_dt.min())')"
   ]
  },
  {
   "cell_type": "markdown",
   "id": "87a62a44",
   "metadata": {},
   "source": [
    "Такое событие только одно, `Christmas&New Year Promo`, при анализе распределения событий по датам изучим, повлияла ли (и каким образом) эта акция на поведение участников теста"
   ]
  },
  {
   "cell_type": "markdown",
   "id": "24cbe4e0",
   "metadata": {},
   "source": [
    "**Выводы**\n",
    "- коррекция, фильтрация и проверка дубликатов  произведены для всех полученных датасетов\n",
    "- по итогу сформирован датасет для анализа, содержащий описание пользователей из региона EU, а также событий, осуществлённых этими пользователями в течение периода тестирования\n",
    "- в датасете присутствуют только уникальные id, но их количество не соответствует требованиям ТЗ (т.к. при отборе и распределении по группам участников теста не учитывалось совершение пользователями действия в рамках воронки продаж, а только факт регистрации в сроки, указанные в ТЗ)\n",
    "\n",
    "Проанализируем имеющиеся данные"
   ]
  },
  {
   "cell_type": "markdown",
   "id": "29b94e68",
   "metadata": {},
   "source": [
    "## Исследовательский анализ"
   ]
  },
  {
   "cell_type": "markdown",
   "id": "47ea1b0a",
   "metadata": {},
   "source": [
    "### Анализ событий"
   ]
  },
  {
   "cell_type": "markdown",
   "id": "e82c3f4c",
   "metadata": {},
   "source": [
    "#### Число событий в логе"
   ]
  },
  {
   "cell_type": "markdown",
   "id": "40222675",
   "metadata": {},
   "source": [
    "Выясним:\n",
    "- Сколько всего событий в логе?\n",
    "- Сколько всего пользователей в логе?\n",
    "- Сколько в среднем событий приходится на пользователя?"
   ]
  },
  {
   "cell_type": "code",
   "execution_count": 39,
   "id": "42fee958",
   "metadata": {
    "scrolled": true
   },
   "outputs": [
    {
     "data": {
      "text/plain": [
       "'Всего в логе 22828 событий'"
      ]
     },
     "metadata": {},
     "output_type": "display_data"
    },
    {
     "data": {
      "text/plain": [
       "'Всего в логе 3481 пользователь'"
      ]
     },
     "metadata": {},
     "output_type": "display_data"
    },
    {
     "data": {
      "text/plain": [
       "'В среднем на одного пользователя приходится 6.56 события'"
      ]
     },
     "metadata": {},
     "output_type": "display_data"
    }
   ],
   "source": [
    "display(f'Всего в логе {data.event_name.notna().sum()} событий')\n",
    "display(f\"Всего в логе {data['user_id'].nunique()} пользователь\")\n",
    "display(f\"В среднем на одного пользователя приходится {round(data.event_name.notna().sum()/data['user_id'].nunique(),2)} события\")"
   ]
  },
  {
   "cell_type": "markdown",
   "id": "e50bb09a",
   "metadata": {},
   "source": [
    "Перейдём к изучению числа событий по группам теста (выборкам)"
   ]
  },
  {
   "cell_type": "markdown",
   "id": "8dca2e08",
   "metadata": {},
   "source": [
    "#### Число событий на пользователя (по группам теста)"
   ]
  },
  {
   "cell_type": "code",
   "execution_count": 40,
   "id": "a2977dd9",
   "metadata": {},
   "outputs": [],
   "source": [
    "# создадим на базе основного датасета выборки по группам теста A и B\n",
    "dataA = data.query('group == \"A\"')\n",
    "dataB = data.query('group == \"B\"')"
   ]
  },
  {
   "cell_type": "code",
   "execution_count": 41,
   "id": "ed1ed9b3",
   "metadata": {
    "scrolled": true
   },
   "outputs": [],
   "source": [
    "# создаём сводные таблицы, в которой рассчитаем число событий для каждого user_id для каждой выборки\n",
    "data_qty_A = dataA.pivot_table(index = 'user_id', values = 'event_name', aggfunc='count').reset_index()\n",
    "data_qty_B = dataB.pivot_table(index = 'user_id', values = 'event_name', aggfunc='count').reset_index()"
   ]
  },
  {
   "cell_type": "code",
   "execution_count": 42,
   "id": "6b35a9bf",
   "metadata": {},
   "outputs": [
    {
     "data": {
      "image/png": "[encoded data removed]",
      "text/plain": [
       "<Figure size 640x480 with 1 Axes>"
      ]
     },
     "metadata": {},
     "output_type": "display_data"
    }
   ],
   "source": [
    "# построим гистограмму распределения числа событий на каждого пользователя\n",
    "plt.hist([data_qty_A['event_name'], data_qty_B['event_name']], bins=25, label=['A', 'B']);\n",
    "plt.xlabel('Количество событий')\n",
    "plt.ylabel('Число пользователей, совершивших действие (событие)')\n",
    "plt.title('Число событий на пользователя, по группам теста')\n",
    "plt.legend(loc='upper right')\n",
    "plt.show()"
   ]
  },
  {
   "cell_type": "code",
   "execution_count": 43,
   "id": "94405d1d",
   "metadata": {
    "scrolled": true
   },
   "outputs": [
    {
     "data": {
      "text/plain": [
       "'Группа A:'"
      ]
     },
     "metadata": {},
     "output_type": "display_data"
    },
    {
     "data": {
      "text/plain": [
       "count   2,604.00\n",
       "mean    6.90    \n",
       "std     3.84    \n",
       "min     1.00    \n",
       "25%     4.00    \n",
       "50%     6.00    \n",
       "75%     9.00    \n",
       "max     24.00   \n",
       "Name: event_name, dtype: float64"
      ]
     },
     "metadata": {},
     "output_type": "display_data"
    },
    {
     "data": {
      "text/plain": [
       "'Группа B:'"
      ]
     },
     "metadata": {},
     "output_type": "display_data"
    },
    {
     "data": {
      "text/plain": [
       "count   877.00\n",
       "mean    5.53  \n",
       "std     3.31  \n",
       "min     1.00  \n",
       "25%     3.00  \n",
       "50%     4.00  \n",
       "75%     8.00  \n",
       "max     24.00 \n",
       "Name: event_name, dtype: float64"
      ]
     },
     "metadata": {},
     "output_type": "display_data"
    }
   ],
   "source": [
    "# изучим численные показатели количества событий, приходящихся на каждого пользователя в выборках, метод describe()\n",
    "display('Группа A:', data_qty_A['event_name'].describe())\n",
    "display('Группа B:', data_qty_B['event_name'].describe())"
   ]
  },
  {
   "cell_type": "markdown",
   "id": "3c2bfa0f",
   "metadata": {},
   "source": [
    "- события неодинаково происходят в контрольной (группа A) и тестовой группах (группа B): общее, медианное и среднее число событий на пользователя больше в группе A\n",
    "- максимальное число событий - 24 (6 циклов по 4 события) вполне укладывается в рамки допустимого - 6 полных циклов покупки за 14 дней"
   ]
  },
  {
   "cell_type": "markdown",
   "id": "0e7e46a2",
   "metadata": {},
   "source": [
    "#### Распределение событий по дням lifetime (по группам теста)"
   ]
  },
  {
   "cell_type": "code",
   "execution_count": 44,
   "id": "4b26e2b6",
   "metadata": {},
   "outputs": [],
   "source": [
    "#  рассчитаем число событий на пользователя в день lifetime для обеих групп, контрольной и тестовой\n",
    "dataA_by_lifetime = dataA.groupby('lifetime')['event_name'].count().div(dataA['user_id'].nunique())\n",
    "\n",
    "dataB_by_lifetime = dataB.groupby('lifetime')['event_name'].count().div(dataB['user_id'].nunique())"
   ]
  },
  {
   "cell_type": "code",
   "execution_count": 45,
   "id": "3da41fd7",
   "metadata": {},
   "outputs": [
    {
     "data": {
      "image/png": "[encoded data removed]",
      "text/plain": [
       "<Figure size 640x480 with 1 Axes>"
      ]
     },
     "metadata": {},
     "output_type": "display_data"
    }
   ],
   "source": [
    "# построим распределение событий на пользователя по дням lifetime, по группам теста\n",
    "plt.bar(x = dataA_by_lifetime.index, height = dataA_by_lifetime, width = 0.6);\n",
    "plt.bar(x = dataB_by_lifetime.index, height = dataB_by_lifetime, width = 0.4);\n",
    "plt.xlabel('День lifetime')\n",
    "plt.ylabel('Событий на пользователя в день')\n",
    "plt.title('Число событий на пользователя, по дням lifetime, по группам теста')\n",
    "plt.legend(['Группа A', 'Группа B'], loc='upper right')\n",
    "plt.show()"
   ]
  },
  {
   "cell_type": "markdown",
   "id": "f08e0d2d",
   "metadata": {},
   "source": [
    "- видим, что для обеих групп основная часть событий происходит в первые дни lifetime\n",
    "- пользователи тестовой группы по сравнению с контрольной группой совершали меньше действий (событий) в день на протяжении всего lifetime, кроме 12 и 14 дня (но там число событий на пользователя слишком незначительно, чтобы можно было говорить о каком-либо \"переломе в поведении тестовой группы по сравнению с контрольной\")"
   ]
  },
  {
   "cell_type": "code",
   "execution_count": 46,
   "id": "2f61cf4c",
   "metadata": {},
   "outputs": [],
   "source": [
    "#  рассчитаем число событий на пользователя по дням теста для обеих групп\n",
    "dataA_by_calendar = dataA.groupby(dataA['event_dt'].dt.date)['event_name'].count().div(dataA['user_id'].nunique())\n",
    "dataB_by_calendar = dataB.groupby(dataB['event_dt'].dt.date)['event_name'].count().div(dataB['user_id'].nunique())"
   ]
  },
  {
   "cell_type": "code",
   "execution_count": 47,
   "id": "d1edb0fc",
   "metadata": {},
   "outputs": [
    {
     "data": {
      "image/png": "[encoded data removed]",
      "text/plain": [
       "<Figure size 640x480 with 1 Axes>"
      ]
     },
     "metadata": {},
     "output_type": "display_data"
    }
   ],
   "source": [
    "# построим распределение событий на пользователя по дням теста, по группам теста\n",
    "plt.bar(x = dataA_by_calendar.index, height = dataA_by_calendar, width = 0.6);\n",
    "plt.bar(x = dataB_by_calendar.index, height = dataB_by_calendar, width = 0.4);\n",
    "plt.xlabel('Дата')\n",
    "plt.xticks(rotation = 75)\n",
    "plt.ylabel('Событий на пользователя в день')\n",
    "plt.title('Число событий на пользователя по дням, по группам теста')\n",
    "plt.legend(['Группа A', 'Группа B'], loc='upper right')\n",
    "plt.show()"
   ]
  },
  {
   "cell_type": "markdown",
   "id": "e4410d19",
   "metadata": {},
   "source": [
    "- число событий по календарным дням по группам распределено неравномерно:\n",
    "     - в группе А число событий примерно на одном уровне с 7 до 14.12, потом скачок и плавный рост с пиком 21.12, после чего заметный провал и плавное снижение вплоть до 30.12 (последнего дня в датасете с данными по событиям)\n",
    "     - в группе B график с 7 до 21.12 имеет более \"синусообразную\" форму, с пиками и снижениями, без скачков, на 21.12 также приходится максимальное число событий, после этого просадка и плавное снижение\n",
    "- число событий на пользователя в тестовой группе превышает значения в контрольной группе в течение первой недели тестирования, затем (после 13.12.) ситуация меняется на противоположную (за счёт роста числа событий на пользователя в контрольной группе)\n",
    "- похоже, что проведение маркетинговой акции с 25.12. явного влияния на число событий не оказало, не изменив сложившиеся к тому моменту тенденции (плавное, день ото дня, уменьшение числа событий) в обеих группах теста"
   ]
  },
  {
   "cell_type": "markdown",
   "id": "a0cf1275",
   "metadata": {},
   "source": [
    "### Число регистраций по дням, по группам теста"
   ]
  },
  {
   "cell_type": "code",
   "execution_count": 48,
   "id": "dd386e55",
   "metadata": {},
   "outputs": [],
   "source": [
    "# расчёт числа регистраций для обеих групп теста\n",
    "reg_by_day_A = dataA.pivot_table(index = 'first_date', values = 'user_id', aggfunc = 'nunique').reset_index()\n",
    "reg_by_day_B = dataB.pivot_table(index = 'first_date', values = 'user_id', aggfunc = 'nunique').reset_index()"
   ]
  },
  {
   "cell_type": "code",
   "execution_count": 49,
   "id": "abc96f01",
   "metadata": {},
   "outputs": [
    {
     "data": {
      "image/png": "[encoded data removed]",
      "text/plain": [
       "<Figure size 640x480 with 1 Axes>"
      ]
     },
     "metadata": {},
     "output_type": "display_data"
    }
   ],
   "source": [
    "# построение числа регистраций по лням для обеих групп теста\n",
    "plt.bar(x = reg_by_day_A['first_date'], height = reg_by_day_A['user_id'], width=0.5, label = 'Группа A');\n",
    "plt.bar(x = reg_by_day_B['first_date'], height = reg_by_day_B['user_id'], width=0.3, label = 'Группа B')\n",
    "plt.xlabel('Дата')\n",
    "plt.ylabel('Число регистраций')\n",
    "plt.title('Число регистраций по дням, по группам теста')\n",
    "plt.legend(loc='upper left')\n",
    "plt.xticks(rotation = 75)\n",
    "plt.show()"
   ]
  },
  {
   "cell_type": "markdown",
   "id": "109cbbea",
   "metadata": {},
   "source": [
    "**Вывод**\n",
    "- наблюдаем характерный \"календарный\" принцип регистрации в обеих группах, с пиками по понедельникам (7, 14 и 21 декабря), спадом во вторник и плавным нарастанием к выходным\n",
    "- существенных отличий в характере регистраций между группами теста не наблюдается (с учётом итогового количества пользователей в выборках), с этой точки зрения пользователи равномерно распределены по выборкам"
   ]
  },
  {
   "cell_type": "markdown",
   "id": "4bbd444e",
   "metadata": {},
   "source": [
    "### Число действий для различных типов устройств, по группам теста"
   ]
  },
  {
   "cell_type": "code",
   "execution_count": 50,
   "id": "b7668e89",
   "metadata": {},
   "outputs": [],
   "source": [
    "# формируем служебные массивы (число действий с различных типов устройств по группам теста)\n",
    "device_A = data.groupby('device')['device'].count().div(dataA['user_id'].nunique())\n",
    "device_B = dataB.groupby('device')['device'].count().div(dataB['user_id'].nunique())"
   ]
  },
  {
   "cell_type": "code",
   "execution_count": 51,
   "id": "5bdc8d99",
   "metadata": {},
   "outputs": [
    {
     "data": {
      "image/png": "[encoded data removed]",
      "text/plain": [
       "<Figure size 640x480 with 1 Axes>"
      ]
     },
     "metadata": {},
     "output_type": "display_data"
    }
   ],
   "source": [
    "plt.bar(x = device_A.index, height = device_A, width=0.45, label = 'Группа A');\n",
    "plt.bar(x = device_B.index, height = device_B, width=0.3, label = 'Группа B')\n",
    "plt.xlabel('Тип устройства')\n",
    "plt.ylabel('Число действий на пользователя')\n",
    "plt.title('Число действий по типам устройств, для одного пользователя, по группам теста')\n",
    "plt.legend(loc='upper right')\n",
    "plt.show()"
   ]
  },
  {
   "cell_type": "markdown",
   "id": "cce74675",
   "metadata": {},
   "source": [
    "**Вывод**:\n",
    "- соотношение использования разных типов устройств близки для обеих групп: \n",
    "    - на первом месте Android,\n",
    "    - далее, с отставанием по числу действий почти в 2 раза PC, ещё ниже - iPhone\n",
    "    - в самом конце (по числу действий), в разы меньше всех других типов  - Mac\n",
    "- число действий на пользователя для всех типов устройств в группе А примерно в 1.5 раза превышает таковое для группы B\n",
    "- заметная (по сравнению с группой B) активность (по числу действий) пользователей группы A в приложении может быть объяснена двумя взаимоисключающими вариантами:\n",
    "     - обновлённая версия приложения, предложенная группе B, настолько неудачна, что приводит к резкому сокращению действий в ней (неудачный интерфейс воронки, часто неспровоцированное разлогинивание и т.п.)\n",
    "     - версия приложения для группы B настолько хорошо оптимизирована, что кратно, в разы, сокращает число действий внутри системы для достижения устраивающего пользователя результата (просмотр карточки товара, оформление покупки и т.д.)\n",
    "- посмотрим, как число действий сказывается на конечном результате, изучим, чему равен средний чек по группам теста"
   ]
  },
  {
   "cell_type": "markdown",
   "id": "6b1ffa3b",
   "metadata": {},
   "source": [
    "### Средний чек покупки по группам теста"
   ]
  },
  {
   "cell_type": "code",
   "execution_count": 52,
   "id": "68d6f807",
   "metadata": {},
   "outputs": [
    {
     "name": "stdout",
     "output_type": "stream",
     "text": [
      "Для группы A:\n",
      "Сумма всех покупок: 57705.01\n",
      "Средний чек одной покупки: 23.09\n",
      "Средний чек на участника группы 22.16\n",
      "\n",
      "Для группы B:\n",
      "Сумма всех покупок: 14268.76\n",
      "Средний чек одной покупки: 22.87\n",
      "Средний чек на участника группы 16.27\n",
      "\n"
     ]
    }
   ],
   "source": [
    "number = 0\n",
    "for i in [dataA, dataB]:\n",
    "    print(f'Для группы {\"A:\" if number == 0 else \"B:\"}')\n",
    "    print(f'Сумма всех покупок: {round(i.details.sum(), 2)}')\n",
    "    print(f'Средний чек одной покупки: {round(i.details.sum() / i[i.details.notna()].details.count(), 2)}')\n",
    "    print(f'Средний чек на участника группы {round(i.details.sum() / i.user_id.nunique(), 2)}')\n",
    "    print()\n",
    "    number += 1"
   ]
  },
  {
   "cell_type": "markdown",
   "id": "1599870b",
   "metadata": {},
   "source": [
    "- сумма покупок в тестовой группе (B) в 4 раза меньше, чем в контрольной (A)\n",
    "- с учётом разницы в размерах групп, средний чек на уникального покупателя из группы A в 3 раза выше, чем для группы B\n",
    "- уже на этом этапе можно заключить, что ожидаемый эффект в покупках не достигнут, происходит снижение по всем показателям: размер среднего чека по группе и размер среднего чека на одного покупателя"
   ]
  },
  {
   "cell_type": "markdown",
   "id": "49070770",
   "metadata": {},
   "source": [
    "###  Анализ воронки"
   ]
  },
  {
   "cell_type": "markdown",
   "id": "cc17a3e6",
   "metadata": {},
   "source": [
    "#### Расчёт частоты событий (по группам теста)"
   ]
  },
  {
   "cell_type": "code",
   "execution_count": 53,
   "id": "8034fbe4",
   "metadata": {},
   "outputs": [
    {
     "name": "stdout",
     "output_type": "stream",
     "text": [
      "Для группы A:\n",
      "               qty\n",
      "event_name        \n",
      "login         7968\n",
      "product_page  5125\n",
      "purchase      2499\n",
      "product_cart  2385\n",
      "\n",
      "Для группы B:\n",
      "               qty\n",
      "event_name        \n",
      "login         2345\n",
      "product_page  1257\n",
      "product_cart  625 \n",
      "purchase      624 \n",
      "\n"
     ]
    }
   ],
   "source": [
    "number = 0\n",
    "for i in [dataA, dataB]:\n",
    "    print(f'Для группы {\"A:\" if number == 0 else \"B:\"}')\n",
    "    print(i.groupby(by='event_name').agg({'event_dt': 'count'}).rename(columns=({'event_dt': 'qty'})).\n",
    "          sort_values(by='qty', ascending=False))\n",
    "    print()\n",
    "    number += 1"
   ]
  },
  {
   "cell_type": "markdown",
   "id": "847d0630",
   "metadata": {},
   "source": [
    "- всего в логе есть 4 типа событий, для обеих выборок по мере уменьшения частоты встречаемости это:\\\n",
    "    `login` - авторизация в программе\\\n",
    "    `product_page` - изучение страницы продуктов\\\n",
    "    `purchase` - подтверждение (оплата?) заказа\\\n",
    "    `product_cart` - изучение карточки (характеристик) определённого продукта\n",
    "- видно, что для обеих групп число просмотров карточек товара меньше числа размещённых заказов, что указывает на возможность осуществить в программе заказ, минуя этап просмотра карточки товара"
   ]
  },
  {
   "cell_type": "markdown",
   "id": "fcc761c8",
   "metadata": {},
   "source": [
    "#### Расчёт числа пользователей и конверсии для каждого из видов событий (по группам теста)"
   ]
  },
  {
   "cell_type": "code",
   "execution_count": 54,
   "id": "b284b6bd",
   "metadata": {},
   "outputs": [],
   "source": [
    "# сгруппируем датафрейм по событиям (в разрезе по группам эксперимента)\n",
    "funnel_exp = data.pivot_table(index='event_name', columns='group', values='user_id', aggfunc='nunique')"
   ]
  },
  {
   "cell_type": "markdown",
   "id": "5db9c9ae",
   "metadata": {},
   "source": [
    "Данные сгруппированы по наименованию этапа, сгруппируем их по логике, соответствующей естественному процессу покупки: логин - просмотр страницы товаров - просмотр карточки товара - покупка"
   ]
  },
  {
   "cell_type": "code",
   "execution_count": 55,
   "id": "28355fcd",
   "metadata": {},
   "outputs": [],
   "source": [
    "#  реиндексация массива данных для воронки в соответствии с логикой прохождения событий\n",
    "funnel_exp = funnel_exp.reindex(['login','product_page','product_cart','purchase'])"
   ]
  },
  {
   "cell_type": "markdown",
   "id": "fba996bf",
   "metadata": {},
   "source": [
    "#### Построение воронки"
   ]
  },
  {
   "cell_type": "code",
   "execution_count": 56,
   "id": "11ec9d2e",
   "metadata": {
    "scrolled": false
   },
   "outputs": [
    {
     "data": {
      "image/png": "[encoded data removed]"
     },
     "metadata": {},
     "output_type": "display_data"
    }
   ],
   "source": [
    "fig = make_subplots(rows=1, cols=2,subplot_titles=(\"Воронка группы A\",\"Воронка группы B\"))\n",
    "\n",
    "fig.add_trace(go.Funnel(y = funnel_exp.index, x = funnel_exp['A'],\n",
    "    textposition = \"inside\", textinfo = \"value\", hoverinfo = \"y + percent previous + percent initial\",\n",
    "    marker = {\"color\": \"#1c1847\"}), row=1, col=1)\n",
    "\n",
    "fig.add_trace(go.Funnel(y = funnel_exp.index, x = funnel_exp['B'],\n",
    "        textposition = \"inside\", textinfo = \"value\", hoverinfo = \"y + percent previous + percent initial\", \n",
    "        marker = {\"color\": \"#ff0000\"}), row=1, col=2)\n",
    "\n",
    "fig.update_layout(showlegend=False,height=500, width=1000)\n",
    "fig.show('png')"
   ]
  },
  {
   "cell_type": "markdown",
   "id": "94009a1e",
   "metadata": {},
   "source": [
    "**Выводы**:\n",
    "- видно, что для обеих групп число просмотров карточек товара меньше числа размещённых заказов, что указывает на возможность осуществить в программе заказ, минуя этап просмотра карточки товара\n",
    "- проверим выполнение ожидаемых эффектов:\n",
    "     - конверсии в просмотр карточек товаров — событие `product_page` - 64.7% от предыдущего шага для контрольной группы и  56.3% для тестовой => ПРОИЗОШЛО УХУДШЕНИЕ,\n",
    "     - просмотры корзины — `product_cart` - 46.4% от предыдущего шага для контрольной группы и  49.5% для тестовой => произошло улучшение, но ОЖИДАЕМЫЙ ЭФФЕКТ (УЛУЧШЕНИЕ НА 10%) НЕ ДОСТИГНУТ"
   ]
  },
  {
   "cell_type": "markdown",
   "id": "ccfca8e0",
   "metadata": {},
   "source": [
    "## Статистический анализ"
   ]
  },
  {
   "cell_type": "markdown",
   "id": "4ed62000",
   "metadata": {},
   "source": [
    "Применим для групп A/B анализа z-тест на равенство долей. \\\n",
    "Коэффициент статистической значимости примем равным 0.05"
   ]
  },
  {
   "cell_type": "markdown",
   "id": "645e21d1",
   "metadata": {},
   "source": [
    "Для проведения теста мы \n",
    "1) сформулируем гипотезы:\n",
    "\n",
    "**Нулевая гипотеза H0**: различия между группами статистически незначимы\\\n",
    "**Альтернативная гипотеза H1**: различия между группами статистически значимы\n",
    "\n",
    "2) создадим функцию для проведения z-теста для проверки гипотезы о равенстве долей выборок A и B, где:\n",
    "\n",
    "`alpha` - уровень статистической значимости,\\\n",
    "`event` - событие, на уровне которого мы проверяем равенство долей"
   ]
  },
  {
   "cell_type": "code",
   "execution_count": 57,
   "id": "681201a1",
   "metadata": {},
   "outputs": [],
   "source": [
    "def z_test(event, alpha):\n",
    "# уровень статистической значимости\n",
    "    alpha = alpha\n",
    "    event = str(event)\n",
    "      \n",
    "# число успешных переходов на уровень в группе A\n",
    "    successes_1 = funnel_exp.loc[event, 'A']\n",
    "# число успешных переходов на уровень в группе B\n",
    "    successes_2 = funnel_exp.loc[event, 'B']\n",
    "# число участников в группе A\n",
    "    trials_1 = dataA['user_id'].nunique()\n",
    "# число участников в группе B\n",
    "    trials_2 = dataB['user_id'].nunique()\n",
    "\n",
    "# пропорция успехов в группе A:\n",
    "    p1 = successes_1/trials_1\n",
    "# пропорция успехов в группе B:\n",
    "    p2 = successes_2/trials_2\n",
    "       \n",
    "# пропорция успехов в комбинированном датасете:\n",
    "    p_combined = (successes_1 + successes_2) / (trials_1 + trials_2)\n",
    "# разница пропорций в датасетах\n",
    "    difference = p1 - p2 \n",
    "# статистика в ст.отклонениях стандартного нормального распределения\n",
    "    z_value = difference / mth.sqrt(p_combined * (1 - p_combined) * (1/trials_1 + 1/trials_2))\n",
    "\n",
    "# задаем стандартное нормальное распределение (среднее 0, ст.отклонение 1)\n",
    "    distr = st.norm(0, 1)\n",
    "    p_value = (1 - distr.cdf(abs(z_value))) * 2\n",
    "    \n",
    "    res = ['A', 'B', event, p_value]\n",
    "    \n",
    "    if p_value < alpha:\n",
    "        res.append('отвергаем H0, различия между группами статистически значимы')\n",
    "    else:\n",
    "        res.append('не отвергаем H0, различия между группами статистически незначимы')\n",
    "    return res"
   ]
  },
  {
   "cell_type": "markdown",
   "id": "ca5e5b89",
   "metadata": {},
   "source": [
    "При выполнении проверок гипотезы, есть шанс совершить ошибки первого и второго рода:\n",
    " - отвергнуть нулевую гипотезу, когда она на самом деле верна, т.н. \"ложноположительный\" результат теста,\n",
    " - не отвергнуть неверную нулевую гипотезу, когда она неверна, т.н. \"ложноотрицательный\" результат теста\n",
    " \n",
    "При проведении проверки одной гипотезы частота ошибок типа I равна уровню значимости (α), который ранее положили выбрать = 0,05. \n",
    "\n",
    "Однако в проектном задании мы проведём несколько проверок гипотез (4, по числу шагов процесса покупки), в таком случае уровень значимости рекомендуется выбирать с учётом критерия Бонферрони, сравнивая p-value не с α, а с α/m, где m - число проверяемых гипотез. Применим критерий Бонферрони к коэффициенту статистической значимости, установив последний сразу с учётом поправки"
   ]
  },
  {
   "cell_type": "code",
   "execution_count": 58,
   "id": "8931858e",
   "metadata": {},
   "outputs": [],
   "source": [
    "#  коэффициент коррекции уровня стат. значимости, учитывающий число тестирований\n",
    "col_bonferroni = 4"
   ]
  },
  {
   "cell_type": "code",
   "execution_count": 59,
   "id": "5d056e1c",
   "metadata": {},
   "outputs": [],
   "source": [
    "# уровень стат. значимости с учётом поправки Бонферрони\n",
    "alpha = .05/col_bonferroni"
   ]
  },
  {
   "cell_type": "code",
   "execution_count": 60,
   "id": "ca2d17d4",
   "metadata": {},
   "outputs": [
    {
     "name": "stdout",
     "output_type": "stream",
     "text": [
      "Событие: login; p-value = 0.0848; результат - не отвергаем H0, различия между группами статистически незначимы\n",
      "Событие: product_page; p-value = 0.0; результат - отвергаем H0, различия между группами статистически значимы\n",
      "Событие: product_cart; p-value = 0.2147; результат - не отвергаем H0, различия между группами статистически незначимы\n",
      "Событие: purchase; p-value = 0.0465; результат - не отвергаем H0, различия между группами статистически незначимы\n"
     ]
    }
   ],
   "source": [
    "# массив для сбора результата эксперимента по событиям\n",
    "array_of_exp = []\n",
    "\n",
    "# расчёт и вывод данных о уровне стат. различий в конверсии между группами теста\n",
    "for event in funnel_exp.index:\n",
    "    res = z_test(event, alpha)\n",
    "    array_of_exp.append(res)\n",
    "    print((f'Событие: {res[2]}; p-value = {round(res[3],4)}; результат - {res[4]}'))"
   ]
  },
  {
   "cell_type": "markdown",
   "id": "68205687",
   "metadata": {},
   "source": [
    "- на всех этапах покупки, кроме product_page, отличия в конверсии между группами теста статистически незначимы (при выбранном уровне значимости в 0.05 и применении поправке Бонферрони)\n",
    "- тест показал значимое отличие в конверсии между группами на этапе product_page"
   ]
  },
  {
   "cell_type": "markdown",
   "id": "682e69b5",
   "metadata": {},
   "source": [
    "## Общие выводы\n",
    "\n",
    "- в рамках проекта загружены и изучены 4 датасета с результатами A/B теста и сопутствующими данными\n",
    "- проведена предобработка датасетов (коррекция пропусков, дубликатов, NaN)\n",
    "- сформирован итоговый датасет для анализа, содержащий описание пользователей (из требующегося по ТЗ региона - EU), а также событий, осуществлённых этими пользователями в течение периода тестирования (07.12.2020 - 30.12.2020)\n",
    "\n",
    "\n",
    "- изучение датасета на соответствие требованиям ТЗ показало, что требования:\n",
    "    - дата запуска 07.12.2020 - выполнено\n",
    "    - дата остановки набора 21.12.2020 - выполнено (в исходном датасете имелись сведения о пользователях, зарегистрированных после 21.12.)\n",
    "    - в тест отобрано 15% новых пользователей из региона EU - НЕ выполнено (в тест набрали значительное число пользователей, не совершавших  в период тестирования действий в воронке продаж)\n",
    "    - ожидаемое количество участников теста - 6000 - НЕ выполнено (в тест набрали значительное число пользователей, не совершавших в период тестирования действий в воронке продаж)\n",
    "    - о соответствии lifetime в 14 дней - ВЫПОЛНЕНО НЕ ДЛЯ ВСЕХ пользователей (у некоторых lifetime Ю 14 дней, у части пользователей lifetime (из-за \"обрыва\" в данных, 30.12. вместо даты остановки 04.01., на что указывалось в ТЗ) составил < 14 дней\n",
    "        - данные были отфильтрованы для изучения поведения пользователей только с lifetime <= 14\n",
    "    \n",
    "\n",
    "- изучение датасета в рамках анализа показало:\n",
    "    - неравномерное распределение по группам теста: в контрольной группе A оказалось почти в 3 раза больше пользователей, чем в тестовой группе B\n",
    "    - события неодинаково происходили в контрольной и тестовой группах: общее, медианное и среднее число событий на пользователя больше в группе A\n",
    "    - число событий на пользователя для различных типов устройств в группе А ~ в 1.3-1.5 раз превышает таковое для группы B (варианты объяснения даны в промежуточных выводах)\n",
    "    - в ходе теста в регионе проведения (EU) была запущена промо-акция, которая могла бы оказать влияние на поведение покупателей (*анализ такое влияние не выявил*), в целом поведение покупателей в рождественский/новогодний период может заметно отличаться от стандартного\n",
    "    \n",
    "\n",
    "- по результатам проведённого анализа и оценки воронки продаж, видим, что:\n",
    "      а) конверсия в просмотр карточек товаров — 64.7% от предыдущего шага для контрольной группы и  56.2% для тестовой => ПРОИЗОШЛО УХУДШЕНИЕ\n",
    "      б) просмотры корзины — 46.4% от предыдущего шага у контрольной группы и  49.5% для тестовой => произошло улучшение, но ОЖИДАЕМЫЙ ЭФФЕКТ (УЛУЧШЕНИЕ НА 10%) НЕ ДОСТИГНУТ     \n",
    "      в) ожидаемый ЭФФЕКТ УВЕЛИЧЕНИЯ ПОКУПОК НЕ ДОСТИГНУТ, произошло снижение размера среднего чека по группе и размера среднего чека на одного покупателя\n",
    "        \n",
    "Оценка проведения теста: *тест прошёл некорректно, с заметным числом нарушений, которые оказали влияние на его результаты*\n",
    "\n",
    "В дизайне следующего теста рекомендуется предусмотреть следующие действия:\n",
    "\n",
    "    1) тестовая и контрольная группы - стараться формировать примерно одинаковыми по размеру\n",
    "    2) выборку в группы для теста, изучающего процесс продаж, делать таким образом, чтобы участники в количестве, заданном в ТЗ, не только прошли регистрацию, но осуществили не менее 1 действия в воронке продаж\n",
    "    3) срок проведения теста постараться запланировать в те периоды, когда для региона, в котором изучается поведение покупателей, не реализуются программы, направленные на развитие продаж (или иное изменение покупательского поведения)\n",
    "    4) по возможности избегать попадания в выборку для теста покупателей, участвующих в группе B параллельно идущего тестирования (или озаботиться их равномерным распределением по группам нашего теста)\n",
    "    5) обратить внимание на полноту предоставляемых данных по результатам теста (если требуется изучить действия покупателей в течение 2 недель, то необходимо предоставлять сведения о действиях всех, а не только части покупателей в течение этого времени)"
   ]
  }
 ],
 "metadata": {
  "ExecuteTimeLog": [
   {
    "duration": 1073,
    "start_time": "2023-08-02T20:31:36.896Z"
   },
   {
    "duration": 3,
    "start_time": "2023-08-02T20:31:37.971Z"
   },
   {
    "duration": 1054,
    "start_time": "2023-08-02T20:31:37.976Z"
   },
   {
    "duration": 19,
    "start_time": "2023-08-02T20:31:39.032Z"
   },
   {
    "duration": 22,
    "start_time": "2023-08-02T20:31:39.053Z"
   },
   {
    "duration": 113,
    "start_time": "2023-08-02T20:31:39.076Z"
   },
   {
    "duration": 30,
    "start_time": "2023-08-02T20:31:39.191Z"
   },
   {
    "duration": 7,
    "start_time": "2023-08-02T20:31:39.222Z"
   },
   {
    "duration": 54,
    "start_time": "2023-08-02T20:31:39.230Z"
   },
   {
    "duration": 7,
    "start_time": "2023-08-02T20:31:39.287Z"
   },
   {
    "duration": 38,
    "start_time": "2023-08-02T20:31:39.296Z"
   },
   {
    "duration": 12,
    "start_time": "2023-08-02T20:31:39.335Z"
   },
   {
    "duration": 141,
    "start_time": "2023-08-02T20:31:39.349Z"
   },
   {
    "duration": 9,
    "start_time": "2023-08-02T20:31:39.492Z"
   },
   {
    "duration": 41,
    "start_time": "2023-08-02T20:31:39.519Z"
   },
   {
    "duration": 16,
    "start_time": "2023-08-02T20:31:39.562Z"
   },
   {
    "duration": 6,
    "start_time": "2023-08-02T20:31:39.580Z"
   },
   {
    "duration": 7,
    "start_time": "2023-08-02T20:31:39.587Z"
   },
   {
    "duration": 6,
    "start_time": "2023-08-02T20:31:39.620Z"
   },
   {
    "duration": 17,
    "start_time": "2023-08-02T20:31:39.628Z"
   },
   {
    "duration": 8,
    "start_time": "2023-08-02T20:31:39.646Z"
   },
   {
    "duration": 10,
    "start_time": "2023-08-02T20:31:39.656Z"
   },
   {
    "duration": 5,
    "start_time": "2023-08-02T20:31:39.667Z"
   },
   {
    "duration": 51,
    "start_time": "2023-08-02T20:31:39.673Z"
   },
   {
    "duration": 97,
    "start_time": "2023-08-02T20:31:39.726Z"
   },
   {
    "duration": 427,
    "start_time": "2023-08-02T20:31:39.825Z"
   },
   {
    "duration": 102,
    "start_time": "2023-08-02T20:31:40.254Z"
   },
   {
    "duration": 4,
    "start_time": "2023-08-02T20:31:40.360Z"
   },
   {
    "duration": 68,
    "start_time": "2023-08-02T20:31:40.366Z"
   },
   {
    "duration": 8,
    "start_time": "2023-08-02T20:31:40.436Z"
   },
   {
    "duration": 19,
    "start_time": "2023-08-02T20:31:40.445Z"
   },
   {
    "duration": 9,
    "start_time": "2023-08-02T20:31:40.465Z"
   },
   {
    "duration": 18,
    "start_time": "2023-08-02T20:31:40.476Z"
   },
   {
    "duration": 18,
    "start_time": "2023-08-02T20:31:40.521Z"
   },
   {
    "duration": 12,
    "start_time": "2023-08-02T20:31:40.540Z"
   },
   {
    "duration": 21,
    "start_time": "2023-08-02T20:31:40.554Z"
   },
   {
    "duration": 210,
    "start_time": "2023-08-02T20:31:40.576Z"
   },
   {
    "duration": 12,
    "start_time": "2023-08-02T20:31:40.788Z"
   },
   {
    "duration": 194,
    "start_time": "2023-08-02T20:31:40.801Z"
   },
   {
    "duration": 280,
    "start_time": "2023-08-02T20:31:40.997Z"
   },
   {
    "duration": 17,
    "start_time": "2023-08-02T20:31:41.279Z"
   },
   {
    "duration": 193,
    "start_time": "2023-08-02T20:31:41.298Z"
   },
   {
    "duration": 8,
    "start_time": "2023-08-02T20:31:41.493Z"
   },
   {
    "duration": 127,
    "start_time": "2023-08-02T20:31:41.503Z"
   },
   {
    "duration": 12,
    "start_time": "2023-08-02T20:31:41.632Z"
   },
   {
    "duration": 12,
    "start_time": "2023-08-02T20:31:41.646Z"
   },
   {
    "duration": 16,
    "start_time": "2023-08-02T20:31:41.660Z"
   },
   {
    "duration": 2,
    "start_time": "2023-08-02T20:31:41.678Z"
   },
   {
    "duration": 52,
    "start_time": "2023-08-02T20:31:41.682Z"
   },
   {
    "duration": 774,
    "start_time": "2023-08-02T20:31:41.735Z"
   },
   {
    "duration": 5,
    "start_time": "2023-08-02T20:31:42.511Z"
   },
   {
    "duration": 57,
    "start_time": "2023-08-02T20:31:42.518Z"
   },
   {
    "duration": 7,
    "start_time": "2023-08-02T20:31:42.577Z"
   },
   {
    "duration": 46,
    "start_time": "2023-08-02T20:31:42.586Z"
   },
   {
    "duration": 5,
    "start_time": "2023-08-02T20:35:09.095Z"
   },
   {
    "duration": 23,
    "start_time": "2023-08-02T20:35:10.769Z"
   },
   {
    "duration": 1656,
    "start_time": "2023-08-03T06:26:35.396Z"
   },
   {
    "duration": 4,
    "start_time": "2023-08-03T06:26:37.055Z"
   },
   {
    "duration": 1517,
    "start_time": "2023-08-03T06:26:37.061Z"
   },
   {
    "duration": 34,
    "start_time": "2023-08-03T06:26:38.582Z"
   },
   {
    "duration": 34,
    "start_time": "2023-08-03T06:26:38.622Z"
   },
   {
    "duration": 99,
    "start_time": "2023-08-03T06:26:38.660Z"
   },
   {
    "duration": 27,
    "start_time": "2023-08-03T06:26:38.761Z"
   },
   {
    "duration": 9,
    "start_time": "2023-08-03T06:26:38.790Z"
   },
   {
    "duration": 60,
    "start_time": "2023-08-03T06:26:38.801Z"
   },
   {
    "duration": 31,
    "start_time": "2023-08-03T06:26:38.864Z"
   },
   {
    "duration": 22,
    "start_time": "2023-08-03T06:26:38.898Z"
   },
   {
    "duration": 13,
    "start_time": "2023-08-03T06:26:38.922Z"
   },
   {
    "duration": 163,
    "start_time": "2023-08-03T06:26:38.938Z"
   },
   {
    "duration": 12,
    "start_time": "2023-08-03T06:26:39.105Z"
   },
   {
    "duration": 32,
    "start_time": "2023-08-03T06:26:39.119Z"
   },
   {
    "duration": 35,
    "start_time": "2023-08-03T06:26:39.153Z"
   },
   {
    "duration": 18,
    "start_time": "2023-08-03T06:26:39.189Z"
   },
   {
    "duration": 20,
    "start_time": "2023-08-03T06:26:39.209Z"
   },
   {
    "duration": 34,
    "start_time": "2023-08-03T06:26:39.230Z"
   },
   {
    "duration": 23,
    "start_time": "2023-08-03T06:26:39.266Z"
   },
   {
    "duration": 21,
    "start_time": "2023-08-03T06:26:39.291Z"
   },
   {
    "duration": 21,
    "start_time": "2023-08-03T06:26:39.315Z"
   },
   {
    "duration": 16,
    "start_time": "2023-08-03T06:26:39.338Z"
   },
   {
    "duration": 31,
    "start_time": "2023-08-03T06:26:39.357Z"
   },
   {
    "duration": 125,
    "start_time": "2023-08-03T06:26:39.391Z"
   },
   {
    "duration": 639,
    "start_time": "2023-08-03T06:26:39.517Z"
   },
   {
    "duration": 157,
    "start_time": "2023-08-03T06:26:40.159Z"
   },
   {
    "duration": 5,
    "start_time": "2023-08-03T06:26:40.319Z"
   },
   {
    "duration": 98,
    "start_time": "2023-08-03T06:26:40.326Z"
   },
   {
    "duration": 9,
    "start_time": "2023-08-03T06:26:40.426Z"
   },
   {
    "duration": 17,
    "start_time": "2023-08-03T06:26:40.436Z"
   },
   {
    "duration": 41,
    "start_time": "2023-08-03T06:26:40.455Z"
   },
   {
    "duration": 19,
    "start_time": "2023-08-03T06:26:40.499Z"
   },
   {
    "duration": 18,
    "start_time": "2023-08-03T06:26:40.519Z"
   },
   {
    "duration": 11,
    "start_time": "2023-08-03T06:26:40.538Z"
   },
   {
    "duration": 64,
    "start_time": "2023-08-03T06:26:40.551Z"
   },
   {
    "duration": 277,
    "start_time": "2023-08-03T06:26:40.617Z"
   },
   {
    "duration": 23,
    "start_time": "2023-08-03T06:26:40.896Z"
   },
   {
    "duration": 260,
    "start_time": "2023-08-03T06:26:40.921Z"
   },
   {
    "duration": 371,
    "start_time": "2023-08-03T06:26:41.183Z"
   },
   {
    "duration": 30,
    "start_time": "2023-08-03T06:26:41.559Z"
   },
   {
    "duration": 285,
    "start_time": "2023-08-03T06:26:41.592Z"
   },
   {
    "duration": 16,
    "start_time": "2023-08-03T06:26:41.879Z"
   },
   {
    "duration": 163,
    "start_time": "2023-08-03T06:26:41.897Z"
   },
   {
    "duration": 26,
    "start_time": "2023-08-03T06:26:42.062Z"
   },
   {
    "duration": 17,
    "start_time": "2023-08-03T06:26:42.091Z"
   },
   {
    "duration": 23,
    "start_time": "2023-08-03T06:26:42.110Z"
   },
   {
    "duration": 4,
    "start_time": "2023-08-03T06:26:42.134Z"
   },
   {
    "duration": 54,
    "start_time": "2023-08-03T06:26:42.140Z"
   },
   {
    "duration": 364,
    "start_time": "2023-08-03T06:26:42.196Z"
   },
   {
    "duration": 5,
    "start_time": "2023-08-03T06:26:42.562Z"
   },
   {
    "duration": 7,
    "start_time": "2023-08-03T06:26:42.570Z"
   },
   {
    "duration": 7,
    "start_time": "2023-08-03T06:26:42.580Z"
   },
   {
    "duration": 33,
    "start_time": "2023-08-03T06:26:42.590Z"
   },
   {
    "duration": 14,
    "start_time": "2023-08-03T06:29:34.310Z"
   },
   {
    "duration": 7,
    "start_time": "2023-08-03T06:30:11.696Z"
   },
   {
    "duration": 2086,
    "start_time": "2023-08-03T06:30:57.840Z"
   },
   {
    "duration": 13,
    "start_time": "2023-08-03T06:31:18.500Z"
   },
   {
    "duration": 8,
    "start_time": "2023-08-03T06:31:24.408Z"
   },
   {
    "duration": 15,
    "start_time": "2023-08-03T06:32:08.976Z"
   },
   {
    "duration": 7,
    "start_time": "2023-08-03T06:32:30.215Z"
   },
   {
    "duration": 8,
    "start_time": "2023-08-03T06:32:47.633Z"
   },
   {
    "duration": 12,
    "start_time": "2023-08-03T06:33:03.458Z"
   },
   {
    "duration": 10,
    "start_time": "2023-08-03T06:33:40.201Z"
   },
   {
    "duration": 61,
    "start_time": "2023-08-03T06:33:44.403Z"
   },
   {
    "duration": 19,
    "start_time": "2023-08-03T06:35:27.336Z"
   },
   {
    "duration": 7,
    "start_time": "2023-08-03T06:35:45.548Z"
   },
   {
    "duration": 5,
    "start_time": "2023-08-03T06:37:21.550Z"
   },
   {
    "duration": 144,
    "start_time": "2023-08-03T06:37:52.021Z"
   },
   {
    "duration": 131,
    "start_time": "2023-08-03T06:38:00.899Z"
   },
   {
    "duration": 16,
    "start_time": "2023-08-03T06:38:16.167Z"
   },
   {
    "duration": 4,
    "start_time": "2023-08-03T06:38:30.367Z"
   },
   {
    "duration": 6,
    "start_time": "2023-08-03T06:38:34.243Z"
   },
   {
    "duration": 7,
    "start_time": "2023-08-03T06:38:40.681Z"
   },
   {
    "duration": 6,
    "start_time": "2023-08-03T06:38:50.416Z"
   },
   {
    "duration": 5,
    "start_time": "2023-08-03T06:38:57.885Z"
   },
   {
    "duration": 6,
    "start_time": "2023-08-03T06:39:02.197Z"
   },
   {
    "duration": 4,
    "start_time": "2023-08-03T06:39:13.358Z"
   },
   {
    "duration": 1253,
    "start_time": "2023-08-03T07:23:48.255Z"
   },
   {
    "duration": 4,
    "start_time": "2023-08-03T07:23:49.510Z"
   },
   {
    "duration": 1326,
    "start_time": "2023-08-03T07:23:49.515Z"
   },
   {
    "duration": 21,
    "start_time": "2023-08-03T07:23:50.843Z"
   },
   {
    "duration": 44,
    "start_time": "2023-08-03T07:23:50.866Z"
   },
   {
    "duration": 80,
    "start_time": "2023-08-03T07:23:50.912Z"
   },
   {
    "duration": 28,
    "start_time": "2023-08-03T07:23:51.000Z"
   },
   {
    "duration": 8,
    "start_time": "2023-08-03T07:23:51.031Z"
   },
   {
    "duration": 77,
    "start_time": "2023-08-03T07:23:51.041Z"
   },
   {
    "duration": 12,
    "start_time": "2023-08-03T07:23:51.122Z"
   },
   {
    "duration": 60,
    "start_time": "2023-08-03T07:23:51.137Z"
   },
   {
    "duration": 14,
    "start_time": "2023-08-03T07:23:51.203Z"
   },
   {
    "duration": 127,
    "start_time": "2023-08-03T07:23:51.219Z"
   },
   {
    "duration": 41,
    "start_time": "2023-08-03T07:26:13.053Z"
   },
   {
    "duration": 21,
    "start_time": "2023-08-03T07:26:20.582Z"
   },
   {
    "duration": 10,
    "start_time": "2023-08-03T07:26:58.487Z"
   },
   {
    "duration": 6,
    "start_time": "2023-08-03T07:27:04.011Z"
   },
   {
    "duration": 31,
    "start_time": "2023-08-03T07:27:20.122Z"
   },
   {
    "duration": 14,
    "start_time": "2023-08-03T07:27:22.584Z"
   },
   {
    "duration": 5,
    "start_time": "2023-08-03T07:27:32.004Z"
   },
   {
    "duration": 103,
    "start_time": "2023-08-03T07:29:21.003Z"
   },
   {
    "duration": 259,
    "start_time": "2023-08-03T07:29:28.046Z"
   },
   {
    "duration": 6,
    "start_time": "2023-08-03T07:29:32.154Z"
   },
   {
    "duration": 6,
    "start_time": "2023-08-03T07:30:35.283Z"
   },
   {
    "duration": 8,
    "start_time": "2023-08-03T07:35:22.740Z"
   },
   {
    "duration": 31,
    "start_time": "2023-08-03T07:35:24.103Z"
   },
   {
    "duration": 16,
    "start_time": "2023-08-03T07:35:27.111Z"
   },
   {
    "duration": 7,
    "start_time": "2023-08-03T07:35:29.656Z"
   },
   {
    "duration": 12,
    "start_time": "2023-08-03T07:36:39.555Z"
   },
   {
    "duration": 8,
    "start_time": "2023-08-03T07:36:46.044Z"
   },
   {
    "duration": 10,
    "start_time": "2023-08-03T07:36:46.880Z"
   },
   {
    "duration": 11,
    "start_time": "2023-08-03T07:36:47.650Z"
   },
   {
    "duration": 14,
    "start_time": "2023-08-03T07:36:54.594Z"
   },
   {
    "duration": 11,
    "start_time": "2023-08-03T07:36:57.006Z"
   },
   {
    "duration": 5,
    "start_time": "2023-08-03T08:25:23.832Z"
   },
   {
    "duration": 15,
    "start_time": "2023-08-03T08:25:25.671Z"
   },
   {
    "duration": 102,
    "start_time": "2023-08-03T08:25:30.399Z"
   },
   {
    "duration": 534,
    "start_time": "2023-08-03T08:25:31.456Z"
   },
   {
    "duration": 109,
    "start_time": "2023-08-03T08:25:52.362Z"
   },
   {
    "duration": 5,
    "start_time": "2023-08-03T08:25:53.832Z"
   },
   {
    "duration": 76,
    "start_time": "2023-08-03T08:25:54.936Z"
   },
   {
    "duration": 31,
    "start_time": "2023-08-03T08:29:27.874Z"
   },
   {
    "duration": 10,
    "start_time": "2023-08-03T08:29:48.976Z"
   },
   {
    "duration": 26,
    "start_time": "2023-08-03T08:30:01.446Z"
   },
   {
    "duration": 7,
    "start_time": "2023-08-03T08:42:04.168Z"
   },
   {
    "duration": 401,
    "start_time": "2023-08-03T08:44:14.909Z"
   },
   {
    "duration": 34,
    "start_time": "2023-08-03T08:44:25.572Z"
   },
   {
    "duration": 123,
    "start_time": "2023-08-03T08:44:29.697Z"
   },
   {
    "duration": 11,
    "start_time": "2023-08-03T08:44:40.893Z"
   },
   {
    "duration": 27,
    "start_time": "2023-08-03T08:44:48.569Z"
   },
   {
    "duration": 7,
    "start_time": "2023-08-03T08:45:10.948Z"
   },
   {
    "duration": 11,
    "start_time": "2023-08-03T08:46:07.003Z"
   },
   {
    "duration": 13,
    "start_time": "2023-08-03T08:46:32.473Z"
   },
   {
    "duration": 8,
    "start_time": "2023-08-03T08:46:41.520Z"
   },
   {
    "duration": 12,
    "start_time": "2023-08-03T08:47:14.968Z"
   },
   {
    "duration": 10,
    "start_time": "2023-08-03T08:48:33.001Z"
   },
   {
    "duration": 11,
    "start_time": "2023-08-03T08:48:37.897Z"
   },
   {
    "duration": 6,
    "start_time": "2023-08-03T08:49:28.251Z"
   },
   {
    "duration": 6,
    "start_time": "2023-08-03T08:49:37.289Z"
   },
   {
    "duration": 431,
    "start_time": "2023-08-03T08:51:09.009Z"
   },
   {
    "duration": 7,
    "start_time": "2023-08-03T08:51:15.747Z"
   },
   {
    "duration": 113,
    "start_time": "2023-08-03T08:52:41.962Z"
   },
   {
    "duration": 12,
    "start_time": "2023-08-03T08:52:46.002Z"
   },
   {
    "duration": 323,
    "start_time": "2023-08-03T08:53:47.353Z"
   },
   {
    "duration": 14,
    "start_time": "2023-08-03T08:54:22.893Z"
   },
   {
    "duration": 15,
    "start_time": "2023-08-03T08:58:03.148Z"
   },
   {
    "duration": 12,
    "start_time": "2023-08-03T08:58:45.255Z"
   },
   {
    "duration": 12,
    "start_time": "2023-08-03T08:59:00.181Z"
   },
   {
    "duration": 7,
    "start_time": "2023-08-03T09:03:16.710Z"
   },
   {
    "duration": 7,
    "start_time": "2023-08-03T09:03:42.910Z"
   },
   {
    "duration": 14,
    "start_time": "2023-08-03T09:08:49.737Z"
   },
   {
    "duration": 16,
    "start_time": "2023-08-03T09:09:36.586Z"
   },
   {
    "duration": 16,
    "start_time": "2023-08-03T09:09:56.197Z"
   },
   {
    "duration": 16,
    "start_time": "2023-08-03T09:11:14.375Z"
   },
   {
    "duration": 13,
    "start_time": "2023-08-03T09:11:23.697Z"
   },
   {
    "duration": 7,
    "start_time": "2023-08-03T09:12:54.098Z"
   },
   {
    "duration": 17,
    "start_time": "2023-08-03T09:12:55.176Z"
   },
   {
    "duration": 16,
    "start_time": "2023-08-03T09:13:02.782Z"
   },
   {
    "duration": 15,
    "start_time": "2023-08-03T09:13:05.610Z"
   },
   {
    "duration": 1135,
    "start_time": "2023-08-03T09:15:36.906Z"
   },
   {
    "duration": 3,
    "start_time": "2023-08-03T09:15:38.043Z"
   },
   {
    "duration": 1202,
    "start_time": "2023-08-03T09:15:38.047Z"
   },
   {
    "duration": 22,
    "start_time": "2023-08-03T09:15:39.251Z"
   },
   {
    "duration": 27,
    "start_time": "2023-08-03T09:15:39.275Z"
   },
   {
    "duration": 83,
    "start_time": "2023-08-03T09:15:39.304Z"
   },
   {
    "duration": 17,
    "start_time": "2023-08-03T09:15:39.389Z"
   },
   {
    "duration": 10,
    "start_time": "2023-08-03T09:15:39.407Z"
   },
   {
    "duration": 41,
    "start_time": "2023-08-03T09:15:39.419Z"
   },
   {
    "duration": 25,
    "start_time": "2023-08-03T09:15:39.462Z"
   },
   {
    "duration": 21,
    "start_time": "2023-08-03T09:15:39.489Z"
   },
   {
    "duration": 14,
    "start_time": "2023-08-03T09:15:39.511Z"
   },
   {
    "duration": 136,
    "start_time": "2023-08-03T09:15:39.527Z"
   },
   {
    "duration": 62,
    "start_time": "2023-08-03T09:15:39.666Z"
   },
   {
    "duration": 13,
    "start_time": "2023-08-03T09:15:39.732Z"
   },
   {
    "duration": 52,
    "start_time": "2023-08-03T09:15:39.748Z"
   },
   {
    "duration": 59,
    "start_time": "2023-08-03T09:15:39.802Z"
   },
   {
    "duration": 32,
    "start_time": "2023-08-03T09:15:39.864Z"
   },
   {
    "duration": 6,
    "start_time": "2023-08-03T09:15:39.898Z"
   },
   {
    "duration": 44,
    "start_time": "2023-08-03T09:15:39.906Z"
   },
   {
    "duration": 15,
    "start_time": "2023-08-03T09:15:39.952Z"
   },
   {
    "duration": 17,
    "start_time": "2023-08-03T09:15:39.968Z"
   },
   {
    "duration": 20,
    "start_time": "2023-08-03T09:15:39.986Z"
   },
   {
    "duration": 20,
    "start_time": "2023-08-03T09:15:40.008Z"
   },
   {
    "duration": 22,
    "start_time": "2023-08-03T09:15:40.029Z"
   },
   {
    "duration": 36,
    "start_time": "2023-08-03T09:15:40.052Z"
   },
   {
    "duration": 116,
    "start_time": "2023-08-03T09:15:40.090Z"
   },
   {
    "duration": 611,
    "start_time": "2023-08-03T09:15:40.208Z"
   },
   {
    "duration": 136,
    "start_time": "2023-08-03T09:15:40.821Z"
   },
   {
    "duration": 7,
    "start_time": "2023-08-03T09:15:40.958Z"
   },
   {
    "duration": 103,
    "start_time": "2023-08-03T09:15:40.967Z"
   },
   {
    "duration": 23,
    "start_time": "2023-08-03T09:15:41.072Z"
   },
   {
    "duration": 26,
    "start_time": "2023-08-03T09:15:41.097Z"
   },
   {
    "duration": 37,
    "start_time": "2023-08-03T09:15:41.125Z"
   },
   {
    "duration": 24,
    "start_time": "2023-08-03T09:15:41.164Z"
   },
   {
    "duration": 38,
    "start_time": "2023-08-03T09:15:41.190Z"
   },
   {
    "duration": 35,
    "start_time": "2023-08-03T09:15:41.230Z"
   },
   {
    "duration": 25,
    "start_time": "2023-08-03T09:15:41.267Z"
   },
   {
    "duration": 21,
    "start_time": "2023-08-03T09:15:46.971Z"
   },
   {
    "duration": 10,
    "start_time": "2023-08-03T09:15:56.423Z"
   },
   {
    "duration": 30,
    "start_time": "2023-08-03T09:15:59.312Z"
   },
   {
    "duration": 218,
    "start_time": "2023-08-03T09:16:00.822Z"
   },
   {
    "duration": 16,
    "start_time": "2023-08-03T09:16:11.235Z"
   },
   {
    "duration": 236,
    "start_time": "2023-08-03T09:18:01.641Z"
   },
   {
    "duration": 230,
    "start_time": "2023-08-03T09:19:14.466Z"
   },
   {
    "duration": 229,
    "start_time": "2023-08-03T09:28:05.980Z"
   },
   {
    "duration": 3,
    "start_time": "2023-08-03T09:28:34.103Z"
   },
   {
    "duration": 4,
    "start_time": "2023-08-03T09:28:42.948Z"
   },
   {
    "duration": 106,
    "start_time": "2023-08-03T09:29:13.267Z"
   },
   {
    "duration": 3,
    "start_time": "2023-08-03T09:29:19.962Z"
   },
   {
    "duration": 4,
    "start_time": "2023-08-03T09:29:22.085Z"
   },
   {
    "duration": 6,
    "start_time": "2023-08-03T09:29:28.880Z"
   },
   {
    "duration": 5,
    "start_time": "2023-08-03T09:29:31.622Z"
   },
   {
    "duration": 6,
    "start_time": "2023-08-03T09:30:05.268Z"
   },
   {
    "duration": 5,
    "start_time": "2023-08-03T09:30:07.828Z"
   },
   {
    "duration": 8,
    "start_time": "2023-08-03T09:30:52.891Z"
   },
   {
    "duration": 6,
    "start_time": "2023-08-03T09:30:55.358Z"
   },
   {
    "duration": 12,
    "start_time": "2023-08-03T09:31:25.168Z"
   },
   {
    "duration": 3761,
    "start_time": "2023-08-03T09:31:49.921Z"
   },
   {
    "duration": 304,
    "start_time": "2023-08-03T09:32:04.199Z"
   },
   {
    "duration": 106,
    "start_time": "2023-08-03T09:32:39.379Z"
   },
   {
    "duration": 15,
    "start_time": "2023-08-03T09:32:48.329Z"
   },
   {
    "duration": 6,
    "start_time": "2023-08-03T09:32:56.316Z"
   },
   {
    "duration": 14,
    "start_time": "2023-08-03T09:33:58.956Z"
   },
   {
    "duration": 9,
    "start_time": "2023-08-03T09:34:01.762Z"
   },
   {
    "duration": 146,
    "start_time": "2023-08-03T09:35:20.102Z"
   },
   {
    "duration": 126,
    "start_time": "2023-08-03T09:35:36.526Z"
   },
   {
    "duration": 15,
    "start_time": "2023-08-03T09:35:58.983Z"
   },
   {
    "duration": 23,
    "start_time": "2023-08-03T09:36:10.329Z"
   },
   {
    "duration": 12,
    "start_time": "2023-08-03T09:36:40.742Z"
   },
   {
    "duration": 6,
    "start_time": "2023-08-03T09:36:43.841Z"
   },
   {
    "duration": 15,
    "start_time": "2023-08-03T09:37:16.721Z"
   },
   {
    "duration": 17,
    "start_time": "2023-08-03T09:37:34.431Z"
   },
   {
    "duration": 22,
    "start_time": "2023-08-03T09:37:54.799Z"
   },
   {
    "duration": 12,
    "start_time": "2023-08-03T09:38:04.398Z"
   },
   {
    "duration": 15,
    "start_time": "2023-08-03T09:38:10.396Z"
   },
   {
    "duration": 2548,
    "start_time": "2023-08-03T09:38:54.846Z"
   },
   {
    "duration": 19,
    "start_time": "2023-08-03T09:39:28.117Z"
   },
   {
    "duration": 124,
    "start_time": "2023-08-03T09:40:09.838Z"
   },
   {
    "duration": 192,
    "start_time": "2023-08-03T09:40:18.440Z"
   },
   {
    "duration": 147,
    "start_time": "2023-08-03T09:40:28.527Z"
   },
   {
    "duration": 10,
    "start_time": "2023-08-03T09:40:59.505Z"
   },
   {
    "duration": 9,
    "start_time": "2023-08-03T09:41:08.232Z"
   },
   {
    "duration": 2103,
    "start_time": "2023-08-03T09:41:35.718Z"
   },
   {
    "duration": 10,
    "start_time": "2023-08-03T09:41:44.448Z"
   },
   {
    "duration": 172,
    "start_time": "2023-08-03T09:41:52.568Z"
   },
   {
    "duration": 175,
    "start_time": "2023-08-03T09:42:59.531Z"
   },
   {
    "duration": 198,
    "start_time": "2023-08-03T09:45:57.179Z"
   },
   {
    "duration": 124,
    "start_time": "2023-08-03T09:46:19.713Z"
   },
   {
    "duration": 199,
    "start_time": "2023-08-03T09:46:39.748Z"
   },
   {
    "duration": 193,
    "start_time": "2023-08-03T09:46:56.756Z"
   },
   {
    "duration": 184,
    "start_time": "2023-08-03T09:47:21.312Z"
   },
   {
    "duration": 203,
    "start_time": "2023-08-03T09:47:56.612Z"
   },
   {
    "duration": 180,
    "start_time": "2023-08-03T09:48:11.067Z"
   },
   {
    "duration": 10,
    "start_time": "2023-08-03T09:52:42.831Z"
   },
   {
    "duration": 12,
    "start_time": "2023-08-03T09:53:00.730Z"
   },
   {
    "duration": 326,
    "start_time": "2023-08-03T09:53:02.226Z"
   },
   {
    "duration": 14,
    "start_time": "2023-08-03T09:54:21.088Z"
   },
   {
    "duration": 22875,
    "start_time": "2023-08-03T09:54:55.909Z"
   },
   {
    "duration": 9,
    "start_time": "2023-08-03T09:55:47.655Z"
   },
   {
    "duration": 7,
    "start_time": "2023-08-03T09:55:54.249Z"
   },
   {
    "duration": 22,
    "start_time": "2023-08-03T09:59:55.024Z"
   },
   {
    "duration": 6,
    "start_time": "2023-08-03T09:59:58.146Z"
   },
   {
    "duration": 35,
    "start_time": "2023-08-03T10:00:44.215Z"
   },
   {
    "duration": 283,
    "start_time": "2023-08-03T10:00:50.387Z"
   },
   {
    "duration": 221,
    "start_time": "2023-08-03T10:01:34.809Z"
   },
   {
    "duration": 404,
    "start_time": "2023-08-03T10:02:35.475Z"
   },
   {
    "duration": 258,
    "start_time": "2023-08-03T10:05:16.306Z"
   },
   {
    "duration": 31,
    "start_time": "2023-08-03T10:09:43.433Z"
   },
   {
    "duration": 281,
    "start_time": "2023-08-03T10:09:44.540Z"
   },
   {
    "duration": 2153,
    "start_time": "2023-08-03T10:10:10.220Z"
   },
   {
    "duration": 11,
    "start_time": "2023-08-03T10:10:57.260Z"
   },
   {
    "duration": 19,
    "start_time": "2023-08-03T10:11:49.799Z"
   },
   {
    "duration": 154,
    "start_time": "2023-08-03T10:11:52.256Z"
   },
   {
    "duration": 154,
    "start_time": "2023-08-03T10:12:45.864Z"
   },
   {
    "duration": 169,
    "start_time": "2023-08-03T10:12:55.439Z"
   },
   {
    "duration": 14,
    "start_time": "2023-08-03T10:13:08.298Z"
   },
   {
    "duration": 13,
    "start_time": "2023-08-03T10:13:26.094Z"
   },
   {
    "duration": 1167,
    "start_time": "2023-08-03T10:13:54.997Z"
   },
   {
    "duration": 3,
    "start_time": "2023-08-03T10:13:56.166Z"
   },
   {
    "duration": 1221,
    "start_time": "2023-08-03T10:13:56.170Z"
   },
   {
    "duration": 29,
    "start_time": "2023-08-03T10:13:57.395Z"
   },
   {
    "duration": 41,
    "start_time": "2023-08-03T10:13:57.426Z"
   },
   {
    "duration": 75,
    "start_time": "2023-08-03T10:13:57.488Z"
   },
   {
    "duration": 30,
    "start_time": "2023-08-03T10:13:57.564Z"
   },
   {
    "duration": 55,
    "start_time": "2023-08-03T10:13:57.596Z"
   },
   {
    "duration": 51,
    "start_time": "2023-08-03T10:13:57.652Z"
   },
   {
    "duration": 12,
    "start_time": "2023-08-03T10:13:57.706Z"
   },
   {
    "duration": 34,
    "start_time": "2023-08-03T10:13:57.720Z"
   },
   {
    "duration": 22,
    "start_time": "2023-08-03T10:13:57.756Z"
   },
   {
    "duration": 122,
    "start_time": "2023-08-03T10:13:57.780Z"
   },
   {
    "duration": 26,
    "start_time": "2023-08-03T10:13:57.905Z"
   },
   {
    "duration": 22,
    "start_time": "2023-08-03T10:13:57.933Z"
   },
   {
    "duration": 39,
    "start_time": "2023-08-03T10:13:57.957Z"
   },
   {
    "duration": 51,
    "start_time": "2023-08-03T10:13:57.997Z"
   },
   {
    "duration": 23,
    "start_time": "2023-08-03T10:13:58.050Z"
   },
   {
    "duration": 11,
    "start_time": "2023-08-03T10:13:58.075Z"
   },
   {
    "duration": 44,
    "start_time": "2023-08-03T10:13:58.088Z"
   },
   {
    "duration": 28,
    "start_time": "2023-08-03T10:13:58.133Z"
   },
   {
    "duration": 25,
    "start_time": "2023-08-03T10:13:58.163Z"
   },
   {
    "duration": 16,
    "start_time": "2023-08-03T10:13:58.190Z"
   },
   {
    "duration": 16,
    "start_time": "2023-08-03T10:13:58.209Z"
   },
   {
    "duration": 8,
    "start_time": "2023-08-03T10:13:58.228Z"
   },
   {
    "duration": 15,
    "start_time": "2023-08-03T10:13:58.238Z"
   },
   {
    "duration": 116,
    "start_time": "2023-08-03T10:13:58.255Z"
   },
   {
    "duration": 592,
    "start_time": "2023-08-03T10:13:58.375Z"
   },
   {
    "duration": 156,
    "start_time": "2023-08-03T10:13:58.969Z"
   },
   {
    "duration": 6,
    "start_time": "2023-08-03T10:13:59.128Z"
   },
   {
    "duration": 101,
    "start_time": "2023-08-03T10:13:59.136Z"
   },
   {
    "duration": 18,
    "start_time": "2023-08-03T10:13:59.239Z"
   },
   {
    "duration": 38,
    "start_time": "2023-08-03T10:13:59.260Z"
   },
   {
    "duration": 13,
    "start_time": "2023-08-03T10:13:59.300Z"
   },
   {
    "duration": 27,
    "start_time": "2023-08-03T10:13:59.315Z"
   },
   {
    "duration": 65,
    "start_time": "2023-08-03T10:13:59.344Z"
   },
   {
    "duration": 18,
    "start_time": "2023-08-03T10:13:59.411Z"
   },
   {
    "duration": 24,
    "start_time": "2023-08-03T10:13:59.431Z"
   },
   {
    "duration": 28,
    "start_time": "2023-08-03T10:13:59.457Z"
   },
   {
    "duration": 11,
    "start_time": "2023-08-03T10:13:59.487Z"
   },
   {
    "duration": 31,
    "start_time": "2023-08-03T10:13:59.500Z"
   },
   {
    "duration": 260,
    "start_time": "2023-08-03T10:13:59.534Z"
   },
   {
    "duration": 21,
    "start_time": "2023-08-03T10:13:59.796Z"
   },
   {
    "duration": 14,
    "start_time": "2023-08-03T10:13:59.819Z"
   },
   {
    "duration": 248,
    "start_time": "2023-08-03T10:13:59.835Z"
   },
   {
    "duration": 23,
    "start_time": "2023-08-03T10:14:00.088Z"
   },
   {
    "duration": 333,
    "start_time": "2023-08-03T10:14:00.113Z"
   },
   {
    "duration": 19,
    "start_time": "2023-08-03T10:14:00.448Z"
   },
   {
    "duration": 284,
    "start_time": "2023-08-03T10:14:00.469Z"
   },
   {
    "duration": 19,
    "start_time": "2023-08-03T10:14:00.756Z"
   },
   {
    "duration": 213,
    "start_time": "2023-08-03T10:14:00.777Z"
   },
   {
    "duration": 14,
    "start_time": "2023-08-03T10:14:00.993Z"
   },
   {
    "duration": 31,
    "start_time": "2023-08-03T10:14:01.009Z"
   },
   {
    "duration": 50,
    "start_time": "2023-08-03T10:14:01.042Z"
   },
   {
    "duration": 28,
    "start_time": "2023-08-03T10:14:01.094Z"
   },
   {
    "duration": 62,
    "start_time": "2023-08-03T10:14:01.124Z"
   },
   {
    "duration": 392,
    "start_time": "2023-08-03T10:14:01.188Z"
   },
   {
    "duration": 17,
    "start_time": "2023-08-03T10:15:54.370Z"
   },
   {
    "duration": 5,
    "start_time": "2023-08-03T10:16:01.201Z"
   },
   {
    "duration": 6,
    "start_time": "2023-08-03T10:16:21.936Z"
   },
   {
    "duration": 2,
    "start_time": "2023-08-03T10:16:26.023Z"
   },
   {
    "duration": 3,
    "start_time": "2023-08-03T10:16:26.804Z"
   },
   {
    "duration": 76,
    "start_time": "2023-08-03T10:16:28.122Z"
   },
   {
    "duration": 3,
    "start_time": "2023-08-03T10:17:21.150Z"
   },
   {
    "duration": 46,
    "start_time": "2023-08-03T10:17:29.607Z"
   },
   {
    "duration": 49,
    "start_time": "2023-08-03T10:18:10.143Z"
   },
   {
    "duration": 51,
    "start_time": "2023-08-03T10:18:29.409Z"
   },
   {
    "duration": 6,
    "start_time": "2023-08-03T10:19:12.041Z"
   },
   {
    "duration": 3,
    "start_time": "2023-08-03T10:19:16.611Z"
   },
   {
    "duration": 3,
    "start_time": "2023-08-03T10:19:17.291Z"
   },
   {
    "duration": 23,
    "start_time": "2023-08-03T10:19:18.010Z"
   },
   {
    "duration": 1173,
    "start_time": "2023-08-03T10:45:29.702Z"
   },
   {
    "duration": 3,
    "start_time": "2023-08-03T10:45:30.877Z"
   },
   {
    "duration": 1427,
    "start_time": "2023-08-03T10:45:30.882Z"
   },
   {
    "duration": 23,
    "start_time": "2023-08-03T10:45:32.312Z"
   },
   {
    "duration": 113,
    "start_time": "2023-08-03T10:45:32.336Z"
   },
   {
    "duration": 346,
    "start_time": "2023-08-03T10:45:32.451Z"
   },
   {
    "duration": 282,
    "start_time": "2023-08-03T10:45:32.798Z"
   },
   {
    "duration": 50,
    "start_time": "2023-08-03T10:45:33.082Z"
   },
   {
    "duration": 73,
    "start_time": "2023-08-03T10:45:33.134Z"
   },
   {
    "duration": 23,
    "start_time": "2023-08-03T10:45:33.209Z"
   },
   {
    "duration": 163,
    "start_time": "2023-08-03T10:45:33.234Z"
   },
   {
    "duration": 143,
    "start_time": "2023-08-03T10:45:33.398Z"
   },
   {
    "duration": 185,
    "start_time": "2023-08-03T10:45:33.543Z"
   },
   {
    "duration": 28,
    "start_time": "2023-08-03T10:45:33.730Z"
   },
   {
    "duration": 231,
    "start_time": "2023-08-03T10:45:33.760Z"
   },
   {
    "duration": 44,
    "start_time": "2023-08-03T10:45:33.993Z"
   },
   {
    "duration": 47,
    "start_time": "2023-08-03T10:45:34.040Z"
   },
   {
    "duration": 16,
    "start_time": "2023-08-03T10:45:34.089Z"
   },
   {
    "duration": 33,
    "start_time": "2023-08-03T10:45:34.107Z"
   },
   {
    "duration": 36,
    "start_time": "2023-08-03T10:45:34.142Z"
   },
   {
    "duration": 18,
    "start_time": "2023-08-03T10:45:34.179Z"
   },
   {
    "duration": 39,
    "start_time": "2023-08-03T10:45:34.199Z"
   },
   {
    "duration": 28,
    "start_time": "2023-08-03T10:45:34.240Z"
   },
   {
    "duration": 34,
    "start_time": "2023-08-03T10:45:34.269Z"
   },
   {
    "duration": 22,
    "start_time": "2023-08-03T10:45:34.305Z"
   },
   {
    "duration": 49,
    "start_time": "2023-08-03T10:45:34.329Z"
   },
   {
    "duration": 152,
    "start_time": "2023-08-03T10:45:34.379Z"
   },
   {
    "duration": 643,
    "start_time": "2023-08-03T10:45:34.533Z"
   },
   {
    "duration": 127,
    "start_time": "2023-08-03T10:45:35.178Z"
   },
   {
    "duration": 10,
    "start_time": "2023-08-03T10:45:35.307Z"
   },
   {
    "duration": 89,
    "start_time": "2023-08-03T10:45:35.320Z"
   },
   {
    "duration": 13,
    "start_time": "2023-08-03T10:45:35.410Z"
   },
   {
    "duration": 29,
    "start_time": "2023-08-03T10:45:35.425Z"
   },
   {
    "duration": 42,
    "start_time": "2023-08-03T10:45:35.456Z"
   },
   {
    "duration": 47,
    "start_time": "2023-08-03T10:45:35.499Z"
   },
   {
    "duration": 62,
    "start_time": "2023-08-03T10:45:35.548Z"
   },
   {
    "duration": 39,
    "start_time": "2023-08-03T10:45:35.612Z"
   },
   {
    "duration": 45,
    "start_time": "2023-08-03T10:45:35.653Z"
   },
   {
    "duration": 31,
    "start_time": "2023-08-03T10:45:35.700Z"
   },
   {
    "duration": 37,
    "start_time": "2023-08-03T10:45:35.733Z"
   },
   {
    "duration": 50,
    "start_time": "2023-08-03T10:45:35.772Z"
   },
   {
    "duration": 235,
    "start_time": "2023-08-03T10:45:35.824Z"
   },
   {
    "duration": 14,
    "start_time": "2023-08-03T10:45:36.061Z"
   },
   {
    "duration": 20,
    "start_time": "2023-08-03T10:45:36.090Z"
   },
   {
    "duration": 229,
    "start_time": "2023-08-03T10:45:36.112Z"
   },
   {
    "duration": 24,
    "start_time": "2023-08-03T10:45:36.342Z"
   },
   {
    "duration": 366,
    "start_time": "2023-08-03T10:45:36.367Z"
   },
   {
    "duration": 20,
    "start_time": "2023-08-03T10:45:36.735Z"
   },
   {
    "duration": 262,
    "start_time": "2023-08-03T10:45:36.756Z"
   },
   {
    "duration": 12,
    "start_time": "2023-08-03T10:45:37.020Z"
   },
   {
    "duration": 187,
    "start_time": "2023-08-03T10:45:37.034Z"
   },
   {
    "duration": 13,
    "start_time": "2023-08-03T10:45:37.223Z"
   },
   {
    "duration": 15,
    "start_time": "2023-08-03T10:45:37.237Z"
   },
   {
    "duration": 36,
    "start_time": "2023-08-03T10:45:37.254Z"
   },
   {
    "duration": 4,
    "start_time": "2023-08-03T10:45:37.292Z"
   },
   {
    "duration": 19,
    "start_time": "2023-08-03T10:45:37.298Z"
   },
   {
    "duration": 381,
    "start_time": "2023-08-03T10:45:37.319Z"
   },
   {
    "duration": 5,
    "start_time": "2023-08-03T10:45:37.701Z"
   },
   {
    "duration": 11,
    "start_time": "2023-08-03T10:45:37.708Z"
   },
   {
    "duration": 6,
    "start_time": "2023-08-03T10:45:37.721Z"
   },
   {
    "duration": 67,
    "start_time": "2023-08-03T10:45:37.728Z"
   },
   {
    "duration": 234,
    "start_time": "2023-08-03T11:13:19.623Z"
   },
   {
    "duration": 233,
    "start_time": "2023-08-03T11:13:28.743Z"
   },
   {
    "duration": 4,
    "start_time": "2023-08-03T11:15:20.673Z"
   },
   {
    "duration": 13,
    "start_time": "2023-08-03T11:15:20.679Z"
   },
   {
    "duration": 1106,
    "start_time": "2023-08-03T11:15:20.694Z"
   },
   {
    "duration": 19,
    "start_time": "2023-08-03T11:15:21.802Z"
   },
   {
    "duration": 45,
    "start_time": "2023-08-03T11:15:21.822Z"
   },
   {
    "duration": 70,
    "start_time": "2023-08-03T11:15:21.869Z"
   },
   {
    "duration": 26,
    "start_time": "2023-08-03T11:15:21.941Z"
   },
   {
    "duration": 13,
    "start_time": "2023-08-03T11:15:21.969Z"
   },
   {
    "duration": 104,
    "start_time": "2023-08-03T11:15:21.984Z"
   },
   {
    "duration": 16,
    "start_time": "2023-08-03T11:15:22.090Z"
   },
   {
    "duration": 24,
    "start_time": "2023-08-03T11:15:22.108Z"
   },
   {
    "duration": 14,
    "start_time": "2023-08-03T11:15:22.135Z"
   },
   {
    "duration": 120,
    "start_time": "2023-08-03T11:15:22.151Z"
   },
   {
    "duration": 37,
    "start_time": "2023-08-03T11:15:22.273Z"
   },
   {
    "duration": 5,
    "start_time": "2023-08-03T11:15:22.312Z"
   },
   {
    "duration": 27,
    "start_time": "2023-08-03T11:15:22.319Z"
   },
   {
    "duration": 35,
    "start_time": "2023-08-03T11:15:22.347Z"
   },
   {
    "duration": 16,
    "start_time": "2023-08-03T11:15:22.384Z"
   },
   {
    "duration": 61,
    "start_time": "2023-08-03T11:15:22.402Z"
   },
   {
    "duration": 40,
    "start_time": "2023-08-03T11:15:22.465Z"
   },
   {
    "duration": 40,
    "start_time": "2023-08-03T11:15:22.506Z"
   },
   {
    "duration": 18,
    "start_time": "2023-08-03T11:15:22.548Z"
   },
   {
    "duration": 51,
    "start_time": "2023-08-03T11:15:22.568Z"
   },
   {
    "duration": 29,
    "start_time": "2023-08-03T11:15:22.621Z"
   },
   {
    "duration": 23,
    "start_time": "2023-08-03T11:15:22.652Z"
   },
   {
    "duration": 38,
    "start_time": "2023-08-03T11:15:22.677Z"
   },
   {
    "duration": 104,
    "start_time": "2023-08-03T11:15:22.717Z"
   },
   {
    "duration": 484,
    "start_time": "2023-08-03T11:15:22.823Z"
   },
   {
    "duration": 118,
    "start_time": "2023-08-03T11:15:23.309Z"
   },
   {
    "duration": 5,
    "start_time": "2023-08-03T11:15:23.431Z"
   },
   {
    "duration": 85,
    "start_time": "2023-08-03T11:15:23.437Z"
   },
   {
    "duration": 13,
    "start_time": "2023-08-03T11:15:23.524Z"
   },
   {
    "duration": 12,
    "start_time": "2023-08-03T11:15:23.539Z"
   },
   {
    "duration": 36,
    "start_time": "2023-08-03T11:15:23.552Z"
   },
   {
    "duration": 7,
    "start_time": "2023-08-03T11:15:23.590Z"
   },
   {
    "duration": 28,
    "start_time": "2023-08-03T11:15:23.598Z"
   },
   {
    "duration": 11,
    "start_time": "2023-08-03T11:15:23.627Z"
   },
   {
    "duration": 24,
    "start_time": "2023-08-03T11:15:23.639Z"
   },
   {
    "duration": 32,
    "start_time": "2023-08-03T11:15:23.665Z"
   },
   {
    "duration": 9,
    "start_time": "2023-08-03T11:15:23.699Z"
   },
   {
    "duration": 29,
    "start_time": "2023-08-03T11:15:23.709Z"
   },
   {
    "duration": 230,
    "start_time": "2023-08-03T11:15:23.740Z"
   },
   {
    "duration": 24,
    "start_time": "2023-08-03T11:15:23.972Z"
   },
   {
    "duration": 16,
    "start_time": "2023-08-03T11:15:23.998Z"
   },
   {
    "duration": 191,
    "start_time": "2023-08-03T11:15:24.016Z"
   },
   {
    "duration": 29,
    "start_time": "2023-08-03T11:15:24.209Z"
   },
   {
    "duration": 372,
    "start_time": "2023-08-03T11:15:24.240Z"
   },
   {
    "duration": 19,
    "start_time": "2023-08-03T11:15:24.614Z"
   },
   {
    "duration": 262,
    "start_time": "2023-08-03T11:15:24.635Z"
   },
   {
    "duration": 16,
    "start_time": "2023-08-03T11:15:24.899Z"
   },
   {
    "duration": 214,
    "start_time": "2023-08-03T11:15:24.918Z"
   },
   {
    "duration": 13,
    "start_time": "2023-08-03T11:15:25.135Z"
   },
   {
    "duration": 20,
    "start_time": "2023-08-03T11:15:25.150Z"
   },
   {
    "duration": 27,
    "start_time": "2023-08-03T11:15:25.172Z"
   },
   {
    "duration": 5,
    "start_time": "2023-08-03T11:15:25.201Z"
   },
   {
    "duration": 28,
    "start_time": "2023-08-03T11:15:35.214Z"
   },
   {
    "duration": 1167,
    "start_time": "2023-08-03T11:16:25.202Z"
   },
   {
    "duration": 3,
    "start_time": "2023-08-03T11:16:26.371Z"
   },
   {
    "duration": 1141,
    "start_time": "2023-08-03T11:16:26.376Z"
   },
   {
    "duration": 22,
    "start_time": "2023-08-03T11:16:27.519Z"
   },
   {
    "duration": 43,
    "start_time": "2023-08-03T11:16:27.544Z"
   },
   {
    "duration": 83,
    "start_time": "2023-08-03T11:16:27.589Z"
   },
   {
    "duration": 16,
    "start_time": "2023-08-03T11:16:27.674Z"
   },
   {
    "duration": 22,
    "start_time": "2023-08-03T11:16:27.692Z"
   },
   {
    "duration": 75,
    "start_time": "2023-08-03T11:16:27.716Z"
   },
   {
    "duration": 17,
    "start_time": "2023-08-03T11:16:27.792Z"
   },
   {
    "duration": 56,
    "start_time": "2023-08-03T11:16:27.810Z"
   },
   {
    "duration": 25,
    "start_time": "2023-08-03T11:16:27.867Z"
   },
   {
    "duration": 131,
    "start_time": "2023-08-03T11:16:27.894Z"
   },
   {
    "duration": 28,
    "start_time": "2023-08-03T11:16:28.028Z"
   },
   {
    "duration": 22,
    "start_time": "2023-08-03T11:16:28.057Z"
   },
   {
    "duration": 85,
    "start_time": "2023-08-03T11:16:28.081Z"
   },
   {
    "duration": 28,
    "start_time": "2023-08-03T11:16:28.168Z"
   },
   {
    "duration": 15,
    "start_time": "2023-08-03T11:16:28.198Z"
   },
   {
    "duration": 28,
    "start_time": "2023-08-03T11:16:28.214Z"
   },
   {
    "duration": 20,
    "start_time": "2023-08-03T11:16:28.244Z"
   },
   {
    "duration": 36,
    "start_time": "2023-08-03T11:16:28.266Z"
   },
   {
    "duration": 19,
    "start_time": "2023-08-03T11:16:28.304Z"
   },
   {
    "duration": 30,
    "start_time": "2023-08-03T11:16:28.325Z"
   },
   {
    "duration": 31,
    "start_time": "2023-08-03T11:16:28.357Z"
   },
   {
    "duration": 54,
    "start_time": "2023-08-03T11:16:28.390Z"
   },
   {
    "duration": 36,
    "start_time": "2023-08-03T11:16:28.446Z"
   },
   {
    "duration": 123,
    "start_time": "2023-08-03T11:16:28.484Z"
   },
   {
    "duration": 533,
    "start_time": "2023-08-03T11:16:28.609Z"
   },
   {
    "duration": 125,
    "start_time": "2023-08-03T11:16:29.144Z"
   },
   {
    "duration": 10,
    "start_time": "2023-08-03T11:16:29.271Z"
   },
   {
    "duration": 79,
    "start_time": "2023-08-03T11:16:29.287Z"
   },
   {
    "duration": 19,
    "start_time": "2023-08-03T11:16:29.368Z"
   },
   {
    "duration": 32,
    "start_time": "2023-08-03T11:16:29.389Z"
   },
   {
    "duration": 30,
    "start_time": "2023-08-03T11:16:29.423Z"
   },
   {
    "duration": 34,
    "start_time": "2023-08-03T11:16:29.454Z"
   },
   {
    "duration": 41,
    "start_time": "2023-08-03T11:16:29.490Z"
   },
   {
    "duration": 18,
    "start_time": "2023-08-03T11:16:29.533Z"
   },
   {
    "duration": 41,
    "start_time": "2023-08-03T11:16:29.553Z"
   },
   {
    "duration": 181,
    "start_time": "2023-08-03T11:16:29.596Z"
   },
   {
    "duration": 66,
    "start_time": "2023-08-03T11:16:29.779Z"
   },
   {
    "duration": 33,
    "start_time": "2023-08-03T11:16:29.850Z"
   },
   {
    "duration": 236,
    "start_time": "2023-08-03T11:16:29.885Z"
   },
   {
    "duration": 15,
    "start_time": "2023-08-03T11:16:30.122Z"
   },
   {
    "duration": 87,
    "start_time": "2023-08-03T11:16:30.138Z"
   },
   {
    "duration": 205,
    "start_time": "2023-08-03T11:16:30.226Z"
   },
   {
    "duration": 21,
    "start_time": "2023-08-03T11:16:30.432Z"
   },
   {
    "duration": 347,
    "start_time": "2023-08-03T11:16:30.454Z"
   },
   {
    "duration": 18,
    "start_time": "2023-08-03T11:16:30.803Z"
   },
   {
    "duration": 350,
    "start_time": "2023-08-03T11:16:30.823Z"
   },
   {
    "duration": 17,
    "start_time": "2023-08-03T11:16:31.174Z"
   },
   {
    "duration": 184,
    "start_time": "2023-08-03T11:16:31.193Z"
   },
   {
    "duration": 17,
    "start_time": "2023-08-03T11:16:31.379Z"
   },
   {
    "duration": 45,
    "start_time": "2023-08-03T11:16:31.397Z"
   },
   {
    "duration": 54,
    "start_time": "2023-08-03T11:16:31.444Z"
   },
   {
    "duration": 16,
    "start_time": "2023-08-03T11:16:31.500Z"
   },
   {
    "duration": 361,
    "start_time": "2023-08-03T11:16:31.518Z"
   },
   {
    "duration": 7,
    "start_time": "2023-08-03T11:16:31.881Z"
   },
   {
    "duration": 47,
    "start_time": "2023-08-03T11:16:31.890Z"
   },
   {
    "duration": 18,
    "start_time": "2023-08-03T11:16:31.939Z"
   },
   {
    "duration": 51,
    "start_time": "2023-08-03T11:16:31.958Z"
   },
   {
    "duration": 1250,
    "start_time": "2023-08-03T11:21:48.205Z"
   },
   {
    "duration": 3,
    "start_time": "2023-08-03T11:21:49.457Z"
   },
   {
    "duration": 4210,
    "start_time": "2023-08-03T11:21:49.462Z"
   },
   {
    "duration": 23,
    "start_time": "2023-08-03T11:21:53.674Z"
   },
   {
    "duration": 32,
    "start_time": "2023-08-03T11:21:53.699Z"
   },
   {
    "duration": 88,
    "start_time": "2023-08-03T11:21:53.733Z"
   },
   {
    "duration": 16,
    "start_time": "2023-08-03T11:21:53.823Z"
   },
   {
    "duration": 16,
    "start_time": "2023-08-03T11:21:53.841Z"
   },
   {
    "duration": 56,
    "start_time": "2023-08-03T11:21:53.859Z"
   },
   {
    "duration": 7,
    "start_time": "2023-08-03T11:21:53.917Z"
   },
   {
    "duration": 23,
    "start_time": "2023-08-03T11:21:53.926Z"
   },
   {
    "duration": 36,
    "start_time": "2023-08-03T11:21:53.951Z"
   },
   {
    "duration": 122,
    "start_time": "2023-08-03T11:21:53.989Z"
   },
   {
    "duration": 29,
    "start_time": "2023-08-03T11:21:54.114Z"
   },
   {
    "duration": 15,
    "start_time": "2023-08-03T11:21:54.145Z"
   },
   {
    "duration": 17,
    "start_time": "2023-08-03T11:21:54.162Z"
   },
   {
    "duration": 55,
    "start_time": "2023-08-03T11:21:54.180Z"
   },
   {
    "duration": 15,
    "start_time": "2023-08-03T11:21:54.237Z"
   },
   {
    "duration": 6,
    "start_time": "2023-08-03T11:21:54.254Z"
   },
   {
    "duration": 9,
    "start_time": "2023-08-03T11:21:54.261Z"
   },
   {
    "duration": 9,
    "start_time": "2023-08-03T11:21:54.272Z"
   },
   {
    "duration": 13,
    "start_time": "2023-08-03T11:21:54.282Z"
   },
   {
    "duration": 13,
    "start_time": "2023-08-03T11:21:54.297Z"
   },
   {
    "duration": 22,
    "start_time": "2023-08-03T11:21:54.312Z"
   },
   {
    "duration": 10,
    "start_time": "2023-08-03T11:21:54.335Z"
   },
   {
    "duration": 23,
    "start_time": "2023-08-03T11:21:54.347Z"
   },
   {
    "duration": 103,
    "start_time": "2023-08-03T11:21:54.372Z"
   },
   {
    "duration": 655,
    "start_time": "2023-08-03T11:21:54.477Z"
   },
   {
    "duration": 129,
    "start_time": "2023-08-03T11:21:55.133Z"
   },
   {
    "duration": 6,
    "start_time": "2023-08-03T11:21:55.264Z"
   },
   {
    "duration": 79,
    "start_time": "2023-08-03T11:21:55.272Z"
   },
   {
    "duration": 12,
    "start_time": "2023-08-03T11:21:55.352Z"
   },
   {
    "duration": 33,
    "start_time": "2023-08-03T11:21:55.366Z"
   },
   {
    "duration": 15,
    "start_time": "2023-08-03T11:21:55.401Z"
   },
   {
    "duration": 13,
    "start_time": "2023-08-03T11:21:55.418Z"
   },
   {
    "duration": 27,
    "start_time": "2023-08-03T11:21:55.433Z"
   },
   {
    "duration": 26,
    "start_time": "2023-08-03T11:21:55.462Z"
   },
   {
    "duration": 16,
    "start_time": "2023-08-03T11:21:55.490Z"
   },
   {
    "duration": 20,
    "start_time": "2023-08-03T11:21:55.508Z"
   },
   {
    "duration": 8,
    "start_time": "2023-08-03T11:21:55.530Z"
   },
   {
    "duration": 21,
    "start_time": "2023-08-03T11:21:55.541Z"
   },
   {
    "duration": 246,
    "start_time": "2023-08-03T11:21:55.564Z"
   },
   {
    "duration": 14,
    "start_time": "2023-08-03T11:21:55.811Z"
   },
   {
    "duration": 35,
    "start_time": "2023-08-03T11:21:55.827Z"
   },
   {
    "duration": 202,
    "start_time": "2023-08-03T11:21:55.863Z"
   },
   {
    "duration": 22,
    "start_time": "2023-08-03T11:21:56.067Z"
   },
   {
    "duration": 325,
    "start_time": "2023-08-03T11:21:56.091Z"
   },
   {
    "duration": 19,
    "start_time": "2023-08-03T11:21:56.418Z"
   },
   {
    "duration": 257,
    "start_time": "2023-08-03T11:21:56.439Z"
   },
   {
    "duration": 11,
    "start_time": "2023-08-03T11:21:56.698Z"
   },
   {
    "duration": 177,
    "start_time": "2023-08-03T11:21:56.711Z"
   },
   {
    "duration": 14,
    "start_time": "2023-08-03T11:21:56.889Z"
   },
   {
    "duration": 32,
    "start_time": "2023-08-03T11:21:56.904Z"
   },
   {
    "duration": 23,
    "start_time": "2023-08-03T11:21:56.938Z"
   },
   {
    "duration": 26,
    "start_time": "2023-08-03T11:21:56.963Z"
   },
   {
    "duration": 341,
    "start_time": "2023-08-03T11:21:56.991Z"
   },
   {
    "duration": 5,
    "start_time": "2023-08-03T11:21:57.335Z"
   },
   {
    "duration": 22,
    "start_time": "2023-08-03T11:21:57.342Z"
   },
   {
    "duration": 6,
    "start_time": "2023-08-03T11:21:57.366Z"
   },
   {
    "duration": 30,
    "start_time": "2023-08-03T11:21:57.374Z"
   }
  ],
  "kernelspec": {
   "display_name": "Python 3 (ipykernel)",
   "language": "python",
   "name": "python3"
  },
  "language_info": {
   "codemirror_mode": {
    "name": "ipython",
    "version": 3
   },
   "file_extension": ".py",
   "mimetype": "text/x-python",
   "name": "python",
   "nbconvert_exporter": "python",
   "pygments_lexer": "ipython3",
   "version": "3.9.13"
  },
  "toc": {
   "base_numbering": 1,
   "nav_menu": {},
   "number_sections": true,
   "sideBar": true,
   "skip_h1_title": false,
   "title_cell": "Table of Contents",
   "title_sidebar": "Contents",
   "toc_cell": false,
   "toc_position": {},
   "toc_section_display": true,
   "toc_window_display": true
  }
 },
 "nbformat": 4,
 "nbformat_minor": 5
}
